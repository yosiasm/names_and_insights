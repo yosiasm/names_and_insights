{
 "cells": [
  {
   "attachments": {},
   "cell_type": "markdown",
   "metadata": {},
   "source": [
    "### Exploration\n",
    "- batak V\n",
    "- inisial r V\n",
    "- cewe nama V\n",
    "- jawa V\n",
    "- nama kristen X\n",
    "- trend nama X\n",
    "- cewe cowo X\n",
    "\n",
    "### column\n",
    "nama, nik, tempatLahir, jenisKelamin, tps, provinsi, kab_kota, \n",
    "\n",
    "kecamatan, desa, newcomer, nama_sunda, nama_jawa, nama_batak, \n",
    "\n",
    "bintang, inisial_r, nama_kristen, umur, tahun_lahir, tanggal_produksi, \n",
    "\n",
    "hari_produksi, unique_location, unique_hash, lat, long, count, unique_location:1,\n",
    "\n",
    " lat:1, long:1, lat_clean, long_clean"
   ]
  },
  {
   "cell_type": "code",
   "execution_count": 1,
   "metadata": {},
   "outputs": [],
   "source": [
    "import pandas as pd\n",
    "import duckdb\n",
    "con = duckdb.connect('entity.db')"
   ]
  },
  {
   "cell_type": "code",
   "execution_count": 6,
   "metadata": {},
   "outputs": [],
   "source": [
    "from datetime import datetime, timedelta\n",
    "import plotly.express as px"
   ]
  },
  {
   "attachments": {},
   "cell_type": "markdown",
   "metadata": {},
   "source": [
    "### batak"
   ]
  },
  {
   "cell_type": "code",
   "execution_count": 65,
   "metadata": {},
   "outputs": [
    {
     "data": {
      "text/html": [
       "<div>\n",
       "<style scoped>\n",
       "    .dataframe tbody tr th:only-of-type {\n",
       "        vertical-align: middle;\n",
       "    }\n",
       "\n",
       "    .dataframe tbody tr th {\n",
       "        vertical-align: top;\n",
       "    }\n",
       "\n",
       "    .dataframe thead th {\n",
       "        text-align: right;\n",
       "    }\n",
       "</style>\n",
       "<table border=\"1\" class=\"dataframe\">\n",
       "  <thead>\n",
       "    <tr style=\"text-align: right;\">\n",
       "      <th></th>\n",
       "      <th>nama</th>\n",
       "      <th>provinsi</th>\n",
       "      <th>kab_kota</th>\n",
       "      <th>kecamatan</th>\n",
       "      <th>desa</th>\n",
       "      <th>nama_batak</th>\n",
       "      <th>tahun_lahir</th>\n",
       "      <th>jenisKelamin</th>\n",
       "      <th>umur</th>\n",
       "    </tr>\n",
       "  </thead>\n",
       "  <tbody>\n",
       "    <tr>\n",
       "      <th>0</th>\n",
       "      <td>Anto Lubis</td>\n",
       "      <td>JAWA BARAT</td>\n",
       "      <td>GARUT</td>\n",
       "      <td>BANYURESMI</td>\n",
       "      <td>BAGENDIT</td>\n",
       "      <td>lubis</td>\n",
       "      <td>85</td>\n",
       "      <td>L</td>\n",
       "      <td>38</td>\n",
       "    </tr>\n",
       "    <tr>\n",
       "      <th>1</th>\n",
       "      <td>BINTANG AL AKBAR</td>\n",
       "      <td>JAWA BARAT</td>\n",
       "      <td>GARUT</td>\n",
       "      <td>BANYURESMI</td>\n",
       "      <td>BANYURESMI</td>\n",
       "      <td>bintang</td>\n",
       "      <td>92</td>\n",
       "      <td>P</td>\n",
       "      <td>31</td>\n",
       "    </tr>\n",
       "    <tr>\n",
       "      <th>2</th>\n",
       "      <td>M ARDIANA LUBIS</td>\n",
       "      <td>JAWA BARAT</td>\n",
       "      <td>GARUT</td>\n",
       "      <td>BANYURESMI</td>\n",
       "      <td>BANYURESMI</td>\n",
       "      <td>lubis</td>\n",
       "      <td>81</td>\n",
       "      <td>L</td>\n",
       "      <td>42</td>\n",
       "    </tr>\n",
       "    <tr>\n",
       "      <th>3</th>\n",
       "      <td>LINGGA</td>\n",
       "      <td>JAWA BARAT</td>\n",
       "      <td>GARUT</td>\n",
       "      <td>BANYURESMI</td>\n",
       "      <td>BINAKARYA</td>\n",
       "      <td>lingga</td>\n",
       "      <td>94</td>\n",
       "      <td>L</td>\n",
       "      <td>29</td>\n",
       "    </tr>\n",
       "    <tr>\n",
       "      <th>4</th>\n",
       "      <td>AHMAD ISRONI SIREGAR</td>\n",
       "      <td>JAWA BARAT</td>\n",
       "      <td>GARUT</td>\n",
       "      <td>BANYURESMI</td>\n",
       "      <td>CIMAREME</td>\n",
       "      <td>siregar</td>\n",
       "      <td>84</td>\n",
       "      <td>L</td>\n",
       "      <td>39</td>\n",
       "    </tr>\n",
       "    <tr>\n",
       "      <th>5</th>\n",
       "      <td>BULAN SARI NASUTION</td>\n",
       "      <td>JAWA BARAT</td>\n",
       "      <td>GARUT</td>\n",
       "      <td>BANYURESMI</td>\n",
       "      <td>CIPICUNG</td>\n",
       "      <td>nasution</td>\n",
       "      <td>85</td>\n",
       "      <td>P</td>\n",
       "      <td>38</td>\n",
       "    </tr>\n",
       "    <tr>\n",
       "      <th>6</th>\n",
       "      <td>USNAN GIRI NASUTION</td>\n",
       "      <td>JAWA BARAT</td>\n",
       "      <td>GARUT</td>\n",
       "      <td>BANYURESMI</td>\n",
       "      <td>CIPICUNG</td>\n",
       "      <td>nasution</td>\n",
       "      <td>37</td>\n",
       "      <td>L</td>\n",
       "      <td>86</td>\n",
       "    </tr>\n",
       "    <tr>\n",
       "      <th>7</th>\n",
       "      <td>RESTI LESTARI NASUTION</td>\n",
       "      <td>JAWA BARAT</td>\n",
       "      <td>GARUT</td>\n",
       "      <td>BANYURESMI</td>\n",
       "      <td>CIPICUNG</td>\n",
       "      <td>nasution</td>\n",
       "      <td>93</td>\n",
       "      <td>P</td>\n",
       "      <td>30</td>\n",
       "    </tr>\n",
       "    <tr>\n",
       "      <th>8</th>\n",
       "      <td>AGUS GUNAWAN GINTING</td>\n",
       "      <td>JAWA BARAT</td>\n",
       "      <td>GARUT</td>\n",
       "      <td>BANYURESMI</td>\n",
       "      <td>CIPICUNG</td>\n",
       "      <td>ginting</td>\n",
       "      <td>94</td>\n",
       "      <td>L</td>\n",
       "      <td>29</td>\n",
       "    </tr>\n",
       "    <tr>\n",
       "      <th>9</th>\n",
       "      <td>ISO SIHOMBING</td>\n",
       "      <td>JAWA BARAT</td>\n",
       "      <td>GARUT</td>\n",
       "      <td>BANYURESMI</td>\n",
       "      <td>CIPICUNG</td>\n",
       "      <td>sihombing</td>\n",
       "      <td>43</td>\n",
       "      <td>L</td>\n",
       "      <td>80</td>\n",
       "    </tr>\n",
       "  </tbody>\n",
       "</table>\n",
       "</div>"
      ],
      "text/plain": [
       "                     nama    provinsi kab_kota   kecamatan        desa   \n",
       "0              Anto Lubis  JAWA BARAT    GARUT  BANYURESMI    BAGENDIT  \\\n",
       "1        BINTANG AL AKBAR  JAWA BARAT    GARUT  BANYURESMI  BANYURESMI   \n",
       "2         M ARDIANA LUBIS  JAWA BARAT    GARUT  BANYURESMI  BANYURESMI   \n",
       "3                  LINGGA  JAWA BARAT    GARUT  BANYURESMI   BINAKARYA   \n",
       "4    AHMAD ISRONI SIREGAR  JAWA BARAT    GARUT  BANYURESMI    CIMAREME   \n",
       "5     BULAN SARI NASUTION  JAWA BARAT    GARUT  BANYURESMI    CIPICUNG   \n",
       "6     USNAN GIRI NASUTION  JAWA BARAT    GARUT  BANYURESMI    CIPICUNG   \n",
       "7  RESTI LESTARI NASUTION  JAWA BARAT    GARUT  BANYURESMI    CIPICUNG   \n",
       "8    AGUS GUNAWAN GINTING  JAWA BARAT    GARUT  BANYURESMI    CIPICUNG   \n",
       "9           ISO SIHOMBING  JAWA BARAT    GARUT  BANYURESMI    CIPICUNG   \n",
       "\n",
       "  nama_batak  tahun_lahir jenisKelamin  umur  \n",
       "0      lubis           85            L    38  \n",
       "1    bintang           92            P    31  \n",
       "2      lubis           81            L    42  \n",
       "3     lingga           94            L    29  \n",
       "4    siregar           84            L    39  \n",
       "5   nasution           85            P    38  \n",
       "6   nasution           37            L    86  \n",
       "7   nasution           93            P    30  \n",
       "8    ginting           94            L    29  \n",
       "9  sihombing           43            L    80  "
      ]
     },
     "execution_count": 65,
     "metadata": {},
     "output_type": "execute_result"
    }
   ],
   "source": [
    "nama_batak = con.sql(\"SELECT nama, provinsi, kab_kota, kecamatan, desa, nama_batak, tahun_lahir, jenisKelamin FROM entity_with_coordinate2 WHERE nama_batak IS NOT NULL\").fetchdf()\n",
    "nama_batak['umur'] = datetime.now().year - nama_batak['tahun_lahir'] - 1900\n",
    "nama_batak.head(10)"
   ]
  },
  {
   "cell_type": "code",
   "execution_count": 11,
   "metadata": {},
   "outputs": [
    {
     "data": {
      "text/html": [
       "<div>\n",
       "<style scoped>\n",
       "    .dataframe tbody tr th:only-of-type {\n",
       "        vertical-align: middle;\n",
       "    }\n",
       "\n",
       "    .dataframe tbody tr th {\n",
       "        vertical-align: top;\n",
       "    }\n",
       "\n",
       "    .dataframe thead th {\n",
       "        text-align: right;\n",
       "    }\n",
       "</style>\n",
       "<table border=\"1\" class=\"dataframe\">\n",
       "  <thead>\n",
       "    <tr style=\"text-align: right;\">\n",
       "      <th></th>\n",
       "      <th>nama_batak</th>\n",
       "      <th>count</th>\n",
       "    </tr>\n",
       "  </thead>\n",
       "  <tbody>\n",
       "    <tr>\n",
       "      <th>0</th>\n",
       "      <td>lumbansiantar</td>\n",
       "      <td>3</td>\n",
       "    </tr>\n",
       "    <tr>\n",
       "      <th>1</th>\n",
       "      <td>tampune</td>\n",
       "      <td>2</td>\n",
       "    </tr>\n",
       "    <tr>\n",
       "      <th>2</th>\n",
       "      <td>gerneng</td>\n",
       "      <td>2</td>\n",
       "    </tr>\n",
       "    <tr>\n",
       "      <th>3</th>\n",
       "      <td>gurukinayan</td>\n",
       "      <td>2</td>\n",
       "    </tr>\n",
       "    <tr>\n",
       "      <th>4</th>\n",
       "      <td>tendang</td>\n",
       "      <td>2</td>\n",
       "    </tr>\n",
       "    <tr>\n",
       "      <th>5</th>\n",
       "      <td>rumagorga</td>\n",
       "      <td>2</td>\n",
       "    </tr>\n",
       "    <tr>\n",
       "      <th>6</th>\n",
       "      <td>rumasondi</td>\n",
       "      <td>2</td>\n",
       "    </tr>\n",
       "    <tr>\n",
       "      <th>7</th>\n",
       "      <td>haromunthe</td>\n",
       "      <td>1</td>\n",
       "    </tr>\n",
       "    <tr>\n",
       "      <th>8</th>\n",
       "      <td>rumaijuk</td>\n",
       "      <td>1</td>\n",
       "    </tr>\n",
       "    <tr>\n",
       "      <th>9</th>\n",
       "      <td>pekan</td>\n",
       "      <td>1</td>\n",
       "    </tr>\n",
       "  </tbody>\n",
       "</table>\n",
       "</div>"
      ],
      "text/plain": [
       "      nama_batak  count\n",
       "0  lumbansiantar      3\n",
       "1        tampune      2\n",
       "2        gerneng      2\n",
       "3    gurukinayan      2\n",
       "4        tendang      2\n",
       "5      rumagorga      2\n",
       "6      rumasondi      2\n",
       "7     haromunthe      1\n",
       "8       rumaijuk      1\n",
       "9          pekan      1"
      ]
     },
     "execution_count": 11,
     "metadata": {},
     "output_type": "execute_result"
    }
   ],
   "source": [
    "top_marga = nama_batak.value_counts('nama_batak').head(10).to_frame().reset_index()\n",
    "bottom_marga = nama_batak.value_counts('nama_batak').tail(10).to_frame().reset_index()\n",
    "bottom_marga\n"
   ]
  },
  {
   "cell_type": "code",
   "execution_count": 42,
   "metadata": {},
   "outputs": [
    {
     "data": {
      "application/vnd.plotly.v1+json": {
       "config": {
        "plotlyServerURL": "https://plot.ly"
       },
       "data": [
        {
         "alignmentgroup": "True",
         "hovertemplate": "count=%{x}<br>nama_batak=%{y}<extra></extra>",
         "legendgroup": "",
         "marker": {
          "color": "#636efa",
          "pattern": {
           "shape": ""
          }
         },
         "name": "",
         "offsetgroup": "",
         "orientation": "h",
         "showlegend": false,
         "textposition": "auto",
         "texttemplate": "%{x}",
         "type": "bar",
         "x": [
          4059,
          4256,
          4730,
          5563,
          5828,
          6169,
          7855,
          8132,
          8666,
          9612
         ],
         "xaxis": "x",
         "y": [
          "manurung",
          "siahaan",
          "harahap",
          "sihombing",
          "simanjuntak",
          "purba",
          "nasution",
          "sinaga",
          "lubis",
          "siregar"
         ],
         "yaxis": "y"
        }
       ],
       "layout": {
        "barmode": "relative",
        "legend": {
         "tracegroupgap": 0
        },
        "template": {
         "data": {
          "bar": [
           {
            "error_x": {
             "color": "#2a3f5f"
            },
            "error_y": {
             "color": "#2a3f5f"
            },
            "marker": {
             "line": {
              "color": "#E5ECF6",
              "width": 0.5
             },
             "pattern": {
              "fillmode": "overlay",
              "size": 10,
              "solidity": 0.2
             }
            },
            "type": "bar"
           }
          ],
          "barpolar": [
           {
            "marker": {
             "line": {
              "color": "#E5ECF6",
              "width": 0.5
             },
             "pattern": {
              "fillmode": "overlay",
              "size": 10,
              "solidity": 0.2
             }
            },
            "type": "barpolar"
           }
          ],
          "carpet": [
           {
            "aaxis": {
             "endlinecolor": "#2a3f5f",
             "gridcolor": "white",
             "linecolor": "white",
             "minorgridcolor": "white",
             "startlinecolor": "#2a3f5f"
            },
            "baxis": {
             "endlinecolor": "#2a3f5f",
             "gridcolor": "white",
             "linecolor": "white",
             "minorgridcolor": "white",
             "startlinecolor": "#2a3f5f"
            },
            "type": "carpet"
           }
          ],
          "choropleth": [
           {
            "colorbar": {
             "outlinewidth": 0,
             "ticks": ""
            },
            "type": "choropleth"
           }
          ],
          "contour": [
           {
            "colorbar": {
             "outlinewidth": 0,
             "ticks": ""
            },
            "colorscale": [
             [
              0,
              "#0d0887"
             ],
             [
              0.1111111111111111,
              "#46039f"
             ],
             [
              0.2222222222222222,
              "#7201a8"
             ],
             [
              0.3333333333333333,
              "#9c179e"
             ],
             [
              0.4444444444444444,
              "#bd3786"
             ],
             [
              0.5555555555555556,
              "#d8576b"
             ],
             [
              0.6666666666666666,
              "#ed7953"
             ],
             [
              0.7777777777777778,
              "#fb9f3a"
             ],
             [
              0.8888888888888888,
              "#fdca26"
             ],
             [
              1,
              "#f0f921"
             ]
            ],
            "type": "contour"
           }
          ],
          "contourcarpet": [
           {
            "colorbar": {
             "outlinewidth": 0,
             "ticks": ""
            },
            "type": "contourcarpet"
           }
          ],
          "heatmap": [
           {
            "colorbar": {
             "outlinewidth": 0,
             "ticks": ""
            },
            "colorscale": [
             [
              0,
              "#0d0887"
             ],
             [
              0.1111111111111111,
              "#46039f"
             ],
             [
              0.2222222222222222,
              "#7201a8"
             ],
             [
              0.3333333333333333,
              "#9c179e"
             ],
             [
              0.4444444444444444,
              "#bd3786"
             ],
             [
              0.5555555555555556,
              "#d8576b"
             ],
             [
              0.6666666666666666,
              "#ed7953"
             ],
             [
              0.7777777777777778,
              "#fb9f3a"
             ],
             [
              0.8888888888888888,
              "#fdca26"
             ],
             [
              1,
              "#f0f921"
             ]
            ],
            "type": "heatmap"
           }
          ],
          "heatmapgl": [
           {
            "colorbar": {
             "outlinewidth": 0,
             "ticks": ""
            },
            "colorscale": [
             [
              0,
              "#0d0887"
             ],
             [
              0.1111111111111111,
              "#46039f"
             ],
             [
              0.2222222222222222,
              "#7201a8"
             ],
             [
              0.3333333333333333,
              "#9c179e"
             ],
             [
              0.4444444444444444,
              "#bd3786"
             ],
             [
              0.5555555555555556,
              "#d8576b"
             ],
             [
              0.6666666666666666,
              "#ed7953"
             ],
             [
              0.7777777777777778,
              "#fb9f3a"
             ],
             [
              0.8888888888888888,
              "#fdca26"
             ],
             [
              1,
              "#f0f921"
             ]
            ],
            "type": "heatmapgl"
           }
          ],
          "histogram": [
           {
            "marker": {
             "pattern": {
              "fillmode": "overlay",
              "size": 10,
              "solidity": 0.2
             }
            },
            "type": "histogram"
           }
          ],
          "histogram2d": [
           {
            "colorbar": {
             "outlinewidth": 0,
             "ticks": ""
            },
            "colorscale": [
             [
              0,
              "#0d0887"
             ],
             [
              0.1111111111111111,
              "#46039f"
             ],
             [
              0.2222222222222222,
              "#7201a8"
             ],
             [
              0.3333333333333333,
              "#9c179e"
             ],
             [
              0.4444444444444444,
              "#bd3786"
             ],
             [
              0.5555555555555556,
              "#d8576b"
             ],
             [
              0.6666666666666666,
              "#ed7953"
             ],
             [
              0.7777777777777778,
              "#fb9f3a"
             ],
             [
              0.8888888888888888,
              "#fdca26"
             ],
             [
              1,
              "#f0f921"
             ]
            ],
            "type": "histogram2d"
           }
          ],
          "histogram2dcontour": [
           {
            "colorbar": {
             "outlinewidth": 0,
             "ticks": ""
            },
            "colorscale": [
             [
              0,
              "#0d0887"
             ],
             [
              0.1111111111111111,
              "#46039f"
             ],
             [
              0.2222222222222222,
              "#7201a8"
             ],
             [
              0.3333333333333333,
              "#9c179e"
             ],
             [
              0.4444444444444444,
              "#bd3786"
             ],
             [
              0.5555555555555556,
              "#d8576b"
             ],
             [
              0.6666666666666666,
              "#ed7953"
             ],
             [
              0.7777777777777778,
              "#fb9f3a"
             ],
             [
              0.8888888888888888,
              "#fdca26"
             ],
             [
              1,
              "#f0f921"
             ]
            ],
            "type": "histogram2dcontour"
           }
          ],
          "mesh3d": [
           {
            "colorbar": {
             "outlinewidth": 0,
             "ticks": ""
            },
            "type": "mesh3d"
           }
          ],
          "parcoords": [
           {
            "line": {
             "colorbar": {
              "outlinewidth": 0,
              "ticks": ""
             }
            },
            "type": "parcoords"
           }
          ],
          "pie": [
           {
            "automargin": true,
            "type": "pie"
           }
          ],
          "scatter": [
           {
            "fillpattern": {
             "fillmode": "overlay",
             "size": 10,
             "solidity": 0.2
            },
            "type": "scatter"
           }
          ],
          "scatter3d": [
           {
            "line": {
             "colorbar": {
              "outlinewidth": 0,
              "ticks": ""
             }
            },
            "marker": {
             "colorbar": {
              "outlinewidth": 0,
              "ticks": ""
             }
            },
            "type": "scatter3d"
           }
          ],
          "scattercarpet": [
           {
            "marker": {
             "colorbar": {
              "outlinewidth": 0,
              "ticks": ""
             }
            },
            "type": "scattercarpet"
           }
          ],
          "scattergeo": [
           {
            "marker": {
             "colorbar": {
              "outlinewidth": 0,
              "ticks": ""
             }
            },
            "type": "scattergeo"
           }
          ],
          "scattergl": [
           {
            "marker": {
             "colorbar": {
              "outlinewidth": 0,
              "ticks": ""
             }
            },
            "type": "scattergl"
           }
          ],
          "scattermapbox": [
           {
            "marker": {
             "colorbar": {
              "outlinewidth": 0,
              "ticks": ""
             }
            },
            "type": "scattermapbox"
           }
          ],
          "scatterpolar": [
           {
            "marker": {
             "colorbar": {
              "outlinewidth": 0,
              "ticks": ""
             }
            },
            "type": "scatterpolar"
           }
          ],
          "scatterpolargl": [
           {
            "marker": {
             "colorbar": {
              "outlinewidth": 0,
              "ticks": ""
             }
            },
            "type": "scatterpolargl"
           }
          ],
          "scatterternary": [
           {
            "marker": {
             "colorbar": {
              "outlinewidth": 0,
              "ticks": ""
             }
            },
            "type": "scatterternary"
           }
          ],
          "surface": [
           {
            "colorbar": {
             "outlinewidth": 0,
             "ticks": ""
            },
            "colorscale": [
             [
              0,
              "#0d0887"
             ],
             [
              0.1111111111111111,
              "#46039f"
             ],
             [
              0.2222222222222222,
              "#7201a8"
             ],
             [
              0.3333333333333333,
              "#9c179e"
             ],
             [
              0.4444444444444444,
              "#bd3786"
             ],
             [
              0.5555555555555556,
              "#d8576b"
             ],
             [
              0.6666666666666666,
              "#ed7953"
             ],
             [
              0.7777777777777778,
              "#fb9f3a"
             ],
             [
              0.8888888888888888,
              "#fdca26"
             ],
             [
              1,
              "#f0f921"
             ]
            ],
            "type": "surface"
           }
          ],
          "table": [
           {
            "cells": {
             "fill": {
              "color": "#EBF0F8"
             },
             "line": {
              "color": "white"
             }
            },
            "header": {
             "fill": {
              "color": "#C8D4E3"
             },
             "line": {
              "color": "white"
             }
            },
            "type": "table"
           }
          ]
         },
         "layout": {
          "annotationdefaults": {
           "arrowcolor": "#2a3f5f",
           "arrowhead": 0,
           "arrowwidth": 1
          },
          "autotypenumbers": "strict",
          "coloraxis": {
           "colorbar": {
            "outlinewidth": 0,
            "ticks": ""
           }
          },
          "colorscale": {
           "diverging": [
            [
             0,
             "#8e0152"
            ],
            [
             0.1,
             "#c51b7d"
            ],
            [
             0.2,
             "#de77ae"
            ],
            [
             0.3,
             "#f1b6da"
            ],
            [
             0.4,
             "#fde0ef"
            ],
            [
             0.5,
             "#f7f7f7"
            ],
            [
             0.6,
             "#e6f5d0"
            ],
            [
             0.7,
             "#b8e186"
            ],
            [
             0.8,
             "#7fbc41"
            ],
            [
             0.9,
             "#4d9221"
            ],
            [
             1,
             "#276419"
            ]
           ],
           "sequential": [
            [
             0,
             "#0d0887"
            ],
            [
             0.1111111111111111,
             "#46039f"
            ],
            [
             0.2222222222222222,
             "#7201a8"
            ],
            [
             0.3333333333333333,
             "#9c179e"
            ],
            [
             0.4444444444444444,
             "#bd3786"
            ],
            [
             0.5555555555555556,
             "#d8576b"
            ],
            [
             0.6666666666666666,
             "#ed7953"
            ],
            [
             0.7777777777777778,
             "#fb9f3a"
            ],
            [
             0.8888888888888888,
             "#fdca26"
            ],
            [
             1,
             "#f0f921"
            ]
           ],
           "sequentialminus": [
            [
             0,
             "#0d0887"
            ],
            [
             0.1111111111111111,
             "#46039f"
            ],
            [
             0.2222222222222222,
             "#7201a8"
            ],
            [
             0.3333333333333333,
             "#9c179e"
            ],
            [
             0.4444444444444444,
             "#bd3786"
            ],
            [
             0.5555555555555556,
             "#d8576b"
            ],
            [
             0.6666666666666666,
             "#ed7953"
            ],
            [
             0.7777777777777778,
             "#fb9f3a"
            ],
            [
             0.8888888888888888,
             "#fdca26"
            ],
            [
             1,
             "#f0f921"
            ]
           ]
          },
          "colorway": [
           "#636efa",
           "#EF553B",
           "#00cc96",
           "#ab63fa",
           "#FFA15A",
           "#19d3f3",
           "#FF6692",
           "#B6E880",
           "#FF97FF",
           "#FECB52"
          ],
          "font": {
           "color": "#2a3f5f"
          },
          "geo": {
           "bgcolor": "white",
           "lakecolor": "white",
           "landcolor": "#E5ECF6",
           "showlakes": true,
           "showland": true,
           "subunitcolor": "white"
          },
          "hoverlabel": {
           "align": "left"
          },
          "hovermode": "closest",
          "mapbox": {
           "style": "light"
          },
          "paper_bgcolor": "white",
          "plot_bgcolor": "#E5ECF6",
          "polar": {
           "angularaxis": {
            "gridcolor": "white",
            "linecolor": "white",
            "ticks": ""
           },
           "bgcolor": "#E5ECF6",
           "radialaxis": {
            "gridcolor": "white",
            "linecolor": "white",
            "ticks": ""
           }
          },
          "scene": {
           "xaxis": {
            "backgroundcolor": "#E5ECF6",
            "gridcolor": "white",
            "gridwidth": 2,
            "linecolor": "white",
            "showbackground": true,
            "ticks": "",
            "zerolinecolor": "white"
           },
           "yaxis": {
            "backgroundcolor": "#E5ECF6",
            "gridcolor": "white",
            "gridwidth": 2,
            "linecolor": "white",
            "showbackground": true,
            "ticks": "",
            "zerolinecolor": "white"
           },
           "zaxis": {
            "backgroundcolor": "#E5ECF6",
            "gridcolor": "white",
            "gridwidth": 2,
            "linecolor": "white",
            "showbackground": true,
            "ticks": "",
            "zerolinecolor": "white"
           }
          },
          "shapedefaults": {
           "line": {
            "color": "#2a3f5f"
           }
          },
          "ternary": {
           "aaxis": {
            "gridcolor": "white",
            "linecolor": "white",
            "ticks": ""
           },
           "baxis": {
            "gridcolor": "white",
            "linecolor": "white",
            "ticks": ""
           },
           "bgcolor": "#E5ECF6",
           "caxis": {
            "gridcolor": "white",
            "linecolor": "white",
            "ticks": ""
           }
          },
          "title": {
           "x": 0.05
          },
          "xaxis": {
           "automargin": true,
           "gridcolor": "white",
           "linecolor": "white",
           "ticks": "",
           "title": {
            "standoff": 15
           },
           "zerolinecolor": "white",
           "zerolinewidth": 2
          },
          "yaxis": {
           "automargin": true,
           "gridcolor": "white",
           "linecolor": "white",
           "ticks": "",
           "title": {
            "standoff": 15
           },
           "zerolinecolor": "white",
           "zerolinewidth": 2
          }
         }
        },
        "title": {
         "text": "Top Marga Batak di Jawa Barat"
        },
        "width": 400,
        "xaxis": {
         "anchor": "y",
         "domain": [
          0,
          1
         ],
         "title": {
          "text": "count"
         }
        },
        "yaxis": {
         "anchor": "x",
         "domain": [
          0,
          1
         ],
         "title": {
          "text": "nama_batak"
         }
        }
       }
      }
     },
     "metadata": {},
     "output_type": "display_data"
    }
   ],
   "source": [
    "\n",
    "fig = px.bar(top_marga.sort_values('count'), y='nama_batak', x='count',text_auto=True, width=400, title='Top Marga Batak di Jawa Barat')\n",
    "fig.show()"
   ]
  },
  {
   "cell_type": "code",
   "execution_count": 43,
   "metadata": {},
   "outputs": [
    {
     "data": {
      "application/vnd.plotly.v1+json": {
       "config": {
        "plotlyServerURL": "https://plot.ly"
       },
       "data": [
        {
         "alignmentgroup": "True",
         "hovertemplate": "count=%{x}<br>nama_batak=%{y}<extra></extra>",
         "legendgroup": "",
         "marker": {
          "color": "#636efa",
          "pattern": {
           "shape": ""
          }
         },
         "name": "",
         "offsetgroup": "",
         "orientation": "h",
         "showlegend": false,
         "textposition": "auto",
         "texttemplate": "%{x}",
         "type": "bar",
         "x": [
          3,
          2,
          2,
          2,
          2,
          2,
          2,
          1,
          1,
          1
         ],
         "xaxis": "x",
         "y": [
          "lumbansiantar",
          "tampune",
          "gerneng",
          "gurukinayan",
          "tendang",
          "rumagorga",
          "rumasondi",
          "haromunthe",
          "rumaijuk",
          "pekan"
         ],
         "yaxis": "y"
        }
       ],
       "layout": {
        "barmode": "relative",
        "legend": {
         "tracegroupgap": 0
        },
        "template": {
         "data": {
          "bar": [
           {
            "error_x": {
             "color": "#2a3f5f"
            },
            "error_y": {
             "color": "#2a3f5f"
            },
            "marker": {
             "line": {
              "color": "#E5ECF6",
              "width": 0.5
             },
             "pattern": {
              "fillmode": "overlay",
              "size": 10,
              "solidity": 0.2
             }
            },
            "type": "bar"
           }
          ],
          "barpolar": [
           {
            "marker": {
             "line": {
              "color": "#E5ECF6",
              "width": 0.5
             },
             "pattern": {
              "fillmode": "overlay",
              "size": 10,
              "solidity": 0.2
             }
            },
            "type": "barpolar"
           }
          ],
          "carpet": [
           {
            "aaxis": {
             "endlinecolor": "#2a3f5f",
             "gridcolor": "white",
             "linecolor": "white",
             "minorgridcolor": "white",
             "startlinecolor": "#2a3f5f"
            },
            "baxis": {
             "endlinecolor": "#2a3f5f",
             "gridcolor": "white",
             "linecolor": "white",
             "minorgridcolor": "white",
             "startlinecolor": "#2a3f5f"
            },
            "type": "carpet"
           }
          ],
          "choropleth": [
           {
            "colorbar": {
             "outlinewidth": 0,
             "ticks": ""
            },
            "type": "choropleth"
           }
          ],
          "contour": [
           {
            "colorbar": {
             "outlinewidth": 0,
             "ticks": ""
            },
            "colorscale": [
             [
              0,
              "#0d0887"
             ],
             [
              0.1111111111111111,
              "#46039f"
             ],
             [
              0.2222222222222222,
              "#7201a8"
             ],
             [
              0.3333333333333333,
              "#9c179e"
             ],
             [
              0.4444444444444444,
              "#bd3786"
             ],
             [
              0.5555555555555556,
              "#d8576b"
             ],
             [
              0.6666666666666666,
              "#ed7953"
             ],
             [
              0.7777777777777778,
              "#fb9f3a"
             ],
             [
              0.8888888888888888,
              "#fdca26"
             ],
             [
              1,
              "#f0f921"
             ]
            ],
            "type": "contour"
           }
          ],
          "contourcarpet": [
           {
            "colorbar": {
             "outlinewidth": 0,
             "ticks": ""
            },
            "type": "contourcarpet"
           }
          ],
          "heatmap": [
           {
            "colorbar": {
             "outlinewidth": 0,
             "ticks": ""
            },
            "colorscale": [
             [
              0,
              "#0d0887"
             ],
             [
              0.1111111111111111,
              "#46039f"
             ],
             [
              0.2222222222222222,
              "#7201a8"
             ],
             [
              0.3333333333333333,
              "#9c179e"
             ],
             [
              0.4444444444444444,
              "#bd3786"
             ],
             [
              0.5555555555555556,
              "#d8576b"
             ],
             [
              0.6666666666666666,
              "#ed7953"
             ],
             [
              0.7777777777777778,
              "#fb9f3a"
             ],
             [
              0.8888888888888888,
              "#fdca26"
             ],
             [
              1,
              "#f0f921"
             ]
            ],
            "type": "heatmap"
           }
          ],
          "heatmapgl": [
           {
            "colorbar": {
             "outlinewidth": 0,
             "ticks": ""
            },
            "colorscale": [
             [
              0,
              "#0d0887"
             ],
             [
              0.1111111111111111,
              "#46039f"
             ],
             [
              0.2222222222222222,
              "#7201a8"
             ],
             [
              0.3333333333333333,
              "#9c179e"
             ],
             [
              0.4444444444444444,
              "#bd3786"
             ],
             [
              0.5555555555555556,
              "#d8576b"
             ],
             [
              0.6666666666666666,
              "#ed7953"
             ],
             [
              0.7777777777777778,
              "#fb9f3a"
             ],
             [
              0.8888888888888888,
              "#fdca26"
             ],
             [
              1,
              "#f0f921"
             ]
            ],
            "type": "heatmapgl"
           }
          ],
          "histogram": [
           {
            "marker": {
             "pattern": {
              "fillmode": "overlay",
              "size": 10,
              "solidity": 0.2
             }
            },
            "type": "histogram"
           }
          ],
          "histogram2d": [
           {
            "colorbar": {
             "outlinewidth": 0,
             "ticks": ""
            },
            "colorscale": [
             [
              0,
              "#0d0887"
             ],
             [
              0.1111111111111111,
              "#46039f"
             ],
             [
              0.2222222222222222,
              "#7201a8"
             ],
             [
              0.3333333333333333,
              "#9c179e"
             ],
             [
              0.4444444444444444,
              "#bd3786"
             ],
             [
              0.5555555555555556,
              "#d8576b"
             ],
             [
              0.6666666666666666,
              "#ed7953"
             ],
             [
              0.7777777777777778,
              "#fb9f3a"
             ],
             [
              0.8888888888888888,
              "#fdca26"
             ],
             [
              1,
              "#f0f921"
             ]
            ],
            "type": "histogram2d"
           }
          ],
          "histogram2dcontour": [
           {
            "colorbar": {
             "outlinewidth": 0,
             "ticks": ""
            },
            "colorscale": [
             [
              0,
              "#0d0887"
             ],
             [
              0.1111111111111111,
              "#46039f"
             ],
             [
              0.2222222222222222,
              "#7201a8"
             ],
             [
              0.3333333333333333,
              "#9c179e"
             ],
             [
              0.4444444444444444,
              "#bd3786"
             ],
             [
              0.5555555555555556,
              "#d8576b"
             ],
             [
              0.6666666666666666,
              "#ed7953"
             ],
             [
              0.7777777777777778,
              "#fb9f3a"
             ],
             [
              0.8888888888888888,
              "#fdca26"
             ],
             [
              1,
              "#f0f921"
             ]
            ],
            "type": "histogram2dcontour"
           }
          ],
          "mesh3d": [
           {
            "colorbar": {
             "outlinewidth": 0,
             "ticks": ""
            },
            "type": "mesh3d"
           }
          ],
          "parcoords": [
           {
            "line": {
             "colorbar": {
              "outlinewidth": 0,
              "ticks": ""
             }
            },
            "type": "parcoords"
           }
          ],
          "pie": [
           {
            "automargin": true,
            "type": "pie"
           }
          ],
          "scatter": [
           {
            "fillpattern": {
             "fillmode": "overlay",
             "size": 10,
             "solidity": 0.2
            },
            "type": "scatter"
           }
          ],
          "scatter3d": [
           {
            "line": {
             "colorbar": {
              "outlinewidth": 0,
              "ticks": ""
             }
            },
            "marker": {
             "colorbar": {
              "outlinewidth": 0,
              "ticks": ""
             }
            },
            "type": "scatter3d"
           }
          ],
          "scattercarpet": [
           {
            "marker": {
             "colorbar": {
              "outlinewidth": 0,
              "ticks": ""
             }
            },
            "type": "scattercarpet"
           }
          ],
          "scattergeo": [
           {
            "marker": {
             "colorbar": {
              "outlinewidth": 0,
              "ticks": ""
             }
            },
            "type": "scattergeo"
           }
          ],
          "scattergl": [
           {
            "marker": {
             "colorbar": {
              "outlinewidth": 0,
              "ticks": ""
             }
            },
            "type": "scattergl"
           }
          ],
          "scattermapbox": [
           {
            "marker": {
             "colorbar": {
              "outlinewidth": 0,
              "ticks": ""
             }
            },
            "type": "scattermapbox"
           }
          ],
          "scatterpolar": [
           {
            "marker": {
             "colorbar": {
              "outlinewidth": 0,
              "ticks": ""
             }
            },
            "type": "scatterpolar"
           }
          ],
          "scatterpolargl": [
           {
            "marker": {
             "colorbar": {
              "outlinewidth": 0,
              "ticks": ""
             }
            },
            "type": "scatterpolargl"
           }
          ],
          "scatterternary": [
           {
            "marker": {
             "colorbar": {
              "outlinewidth": 0,
              "ticks": ""
             }
            },
            "type": "scatterternary"
           }
          ],
          "surface": [
           {
            "colorbar": {
             "outlinewidth": 0,
             "ticks": ""
            },
            "colorscale": [
             [
              0,
              "#0d0887"
             ],
             [
              0.1111111111111111,
              "#46039f"
             ],
             [
              0.2222222222222222,
              "#7201a8"
             ],
             [
              0.3333333333333333,
              "#9c179e"
             ],
             [
              0.4444444444444444,
              "#bd3786"
             ],
             [
              0.5555555555555556,
              "#d8576b"
             ],
             [
              0.6666666666666666,
              "#ed7953"
             ],
             [
              0.7777777777777778,
              "#fb9f3a"
             ],
             [
              0.8888888888888888,
              "#fdca26"
             ],
             [
              1,
              "#f0f921"
             ]
            ],
            "type": "surface"
           }
          ],
          "table": [
           {
            "cells": {
             "fill": {
              "color": "#EBF0F8"
             },
             "line": {
              "color": "white"
             }
            },
            "header": {
             "fill": {
              "color": "#C8D4E3"
             },
             "line": {
              "color": "white"
             }
            },
            "type": "table"
           }
          ]
         },
         "layout": {
          "annotationdefaults": {
           "arrowcolor": "#2a3f5f",
           "arrowhead": 0,
           "arrowwidth": 1
          },
          "autotypenumbers": "strict",
          "coloraxis": {
           "colorbar": {
            "outlinewidth": 0,
            "ticks": ""
           }
          },
          "colorscale": {
           "diverging": [
            [
             0,
             "#8e0152"
            ],
            [
             0.1,
             "#c51b7d"
            ],
            [
             0.2,
             "#de77ae"
            ],
            [
             0.3,
             "#f1b6da"
            ],
            [
             0.4,
             "#fde0ef"
            ],
            [
             0.5,
             "#f7f7f7"
            ],
            [
             0.6,
             "#e6f5d0"
            ],
            [
             0.7,
             "#b8e186"
            ],
            [
             0.8,
             "#7fbc41"
            ],
            [
             0.9,
             "#4d9221"
            ],
            [
             1,
             "#276419"
            ]
           ],
           "sequential": [
            [
             0,
             "#0d0887"
            ],
            [
             0.1111111111111111,
             "#46039f"
            ],
            [
             0.2222222222222222,
             "#7201a8"
            ],
            [
             0.3333333333333333,
             "#9c179e"
            ],
            [
             0.4444444444444444,
             "#bd3786"
            ],
            [
             0.5555555555555556,
             "#d8576b"
            ],
            [
             0.6666666666666666,
             "#ed7953"
            ],
            [
             0.7777777777777778,
             "#fb9f3a"
            ],
            [
             0.8888888888888888,
             "#fdca26"
            ],
            [
             1,
             "#f0f921"
            ]
           ],
           "sequentialminus": [
            [
             0,
             "#0d0887"
            ],
            [
             0.1111111111111111,
             "#46039f"
            ],
            [
             0.2222222222222222,
             "#7201a8"
            ],
            [
             0.3333333333333333,
             "#9c179e"
            ],
            [
             0.4444444444444444,
             "#bd3786"
            ],
            [
             0.5555555555555556,
             "#d8576b"
            ],
            [
             0.6666666666666666,
             "#ed7953"
            ],
            [
             0.7777777777777778,
             "#fb9f3a"
            ],
            [
             0.8888888888888888,
             "#fdca26"
            ],
            [
             1,
             "#f0f921"
            ]
           ]
          },
          "colorway": [
           "#636efa",
           "#EF553B",
           "#00cc96",
           "#ab63fa",
           "#FFA15A",
           "#19d3f3",
           "#FF6692",
           "#B6E880",
           "#FF97FF",
           "#FECB52"
          ],
          "font": {
           "color": "#2a3f5f"
          },
          "geo": {
           "bgcolor": "white",
           "lakecolor": "white",
           "landcolor": "#E5ECF6",
           "showlakes": true,
           "showland": true,
           "subunitcolor": "white"
          },
          "hoverlabel": {
           "align": "left"
          },
          "hovermode": "closest",
          "mapbox": {
           "style": "light"
          },
          "paper_bgcolor": "white",
          "plot_bgcolor": "#E5ECF6",
          "polar": {
           "angularaxis": {
            "gridcolor": "white",
            "linecolor": "white",
            "ticks": ""
           },
           "bgcolor": "#E5ECF6",
           "radialaxis": {
            "gridcolor": "white",
            "linecolor": "white",
            "ticks": ""
           }
          },
          "scene": {
           "xaxis": {
            "backgroundcolor": "#E5ECF6",
            "gridcolor": "white",
            "gridwidth": 2,
            "linecolor": "white",
            "showbackground": true,
            "ticks": "",
            "zerolinecolor": "white"
           },
           "yaxis": {
            "backgroundcolor": "#E5ECF6",
            "gridcolor": "white",
            "gridwidth": 2,
            "linecolor": "white",
            "showbackground": true,
            "ticks": "",
            "zerolinecolor": "white"
           },
           "zaxis": {
            "backgroundcolor": "#E5ECF6",
            "gridcolor": "white",
            "gridwidth": 2,
            "linecolor": "white",
            "showbackground": true,
            "ticks": "",
            "zerolinecolor": "white"
           }
          },
          "shapedefaults": {
           "line": {
            "color": "#2a3f5f"
           }
          },
          "ternary": {
           "aaxis": {
            "gridcolor": "white",
            "linecolor": "white",
            "ticks": ""
           },
           "baxis": {
            "gridcolor": "white",
            "linecolor": "white",
            "ticks": ""
           },
           "bgcolor": "#E5ECF6",
           "caxis": {
            "gridcolor": "white",
            "linecolor": "white",
            "ticks": ""
           }
          },
          "title": {
           "x": 0.05
          },
          "xaxis": {
           "automargin": true,
           "gridcolor": "white",
           "linecolor": "white",
           "ticks": "",
           "title": {
            "standoff": 15
           },
           "zerolinecolor": "white",
           "zerolinewidth": 2
          },
          "yaxis": {
           "automargin": true,
           "gridcolor": "white",
           "linecolor": "white",
           "ticks": "",
           "title": {
            "standoff": 15
           },
           "zerolinecolor": "white",
           "zerolinewidth": 2
          }
         }
        },
        "title": {
         "text": "Marga Batak Langka di Jawa Barat"
        },
        "width": 400,
        "xaxis": {
         "anchor": "y",
         "domain": [
          0,
          1
         ],
         "title": {
          "text": "count"
         }
        },
        "yaxis": {
         "anchor": "x",
         "domain": [
          0,
          1
         ],
         "title": {
          "text": "nama_batak"
         }
        }
       }
      }
     },
     "metadata": {},
     "output_type": "display_data"
    }
   ],
   "source": [
    "fig = px.bar(bottom_marga, y='nama_batak', x='count',text_auto=True,width=400,title='Marga Batak Langka di Jawa Barat')\n",
    "fig.show()"
   ]
  },
  {
   "cell_type": "code",
   "execution_count": 34,
   "metadata": {},
   "outputs": [
    {
     "data": {
      "text/html": [
       "<div>\n",
       "<style scoped>\n",
       "    .dataframe tbody tr th:only-of-type {\n",
       "        vertical-align: middle;\n",
       "    }\n",
       "\n",
       "    .dataframe tbody tr th {\n",
       "        vertical-align: top;\n",
       "    }\n",
       "\n",
       "    .dataframe thead th {\n",
       "        text-align: right;\n",
       "    }\n",
       "</style>\n",
       "<table border=\"1\" class=\"dataframe\">\n",
       "  <thead>\n",
       "    <tr style=\"text-align: right;\">\n",
       "      <th></th>\n",
       "      <th>kab_kota</th>\n",
       "      <th>nama</th>\n",
       "    </tr>\n",
       "  </thead>\n",
       "  <tbody>\n",
       "    <tr>\n",
       "      <th>12</th>\n",
       "      <td>KOTA BEKASI</td>\n",
       "      <td>51236</td>\n",
       "    </tr>\n",
       "    <tr>\n",
       "      <th>3</th>\n",
       "      <td>BOGOR</td>\n",
       "      <td>33441</td>\n",
       "    </tr>\n",
       "    <tr>\n",
       "      <th>2</th>\n",
       "      <td>BEKASI</td>\n",
       "      <td>32235</td>\n",
       "    </tr>\n",
       "    <tr>\n",
       "      <th>16</th>\n",
       "      <td>KOTA DEPOK</td>\n",
       "      <td>26134</td>\n",
       "    </tr>\n",
       "    <tr>\n",
       "      <th>10</th>\n",
       "      <td>KOTA BANDUNG</td>\n",
       "      <td>18053</td>\n",
       "    </tr>\n",
       "    <tr>\n",
       "      <th>0</th>\n",
       "      <td>BANDUNG</td>\n",
       "      <td>13967</td>\n",
       "    </tr>\n",
       "    <tr>\n",
       "      <th>9</th>\n",
       "      <td>KARAWANG</td>\n",
       "      <td>10619</td>\n",
       "    </tr>\n",
       "    <tr>\n",
       "      <th>13</th>\n",
       "      <td>KOTA BOGOR</td>\n",
       "      <td>8575</td>\n",
       "    </tr>\n",
       "    <tr>\n",
       "      <th>14</th>\n",
       "      <td>KOTA CIMAHI</td>\n",
       "      <td>5781</td>\n",
       "    </tr>\n",
       "    <tr>\n",
       "      <th>1</th>\n",
       "      <td>BANDUNG BARAT</td>\n",
       "      <td>5570</td>\n",
       "    </tr>\n",
       "    <tr>\n",
       "      <th>22</th>\n",
       "      <td>PURWAKARTA</td>\n",
       "      <td>3148</td>\n",
       "    </tr>\n",
       "    <tr>\n",
       "      <th>5</th>\n",
       "      <td>CIANJUR</td>\n",
       "      <td>2940</td>\n",
       "    </tr>\n",
       "    <tr>\n",
       "      <th>6</th>\n",
       "      <td>CIREBON</td>\n",
       "      <td>2875</td>\n",
       "    </tr>\n",
       "    <tr>\n",
       "      <th>23</th>\n",
       "      <td>SUBANG</td>\n",
       "      <td>2192</td>\n",
       "    </tr>\n",
       "    <tr>\n",
       "      <th>17</th>\n",
       "      <td>KOTA SUKABUMI</td>\n",
       "      <td>2029</td>\n",
       "    </tr>\n",
       "    <tr>\n",
       "      <th>8</th>\n",
       "      <td>INDRAMAYU</td>\n",
       "      <td>1669</td>\n",
       "    </tr>\n",
       "    <tr>\n",
       "      <th>7</th>\n",
       "      <td>GARUT</td>\n",
       "      <td>1617</td>\n",
       "    </tr>\n",
       "    <tr>\n",
       "      <th>20</th>\n",
       "      <td>MAJALENGKA</td>\n",
       "      <td>1607</td>\n",
       "    </tr>\n",
       "    <tr>\n",
       "      <th>15</th>\n",
       "      <td>KOTA CIREBON</td>\n",
       "      <td>1501</td>\n",
       "    </tr>\n",
       "    <tr>\n",
       "      <th>18</th>\n",
       "      <td>KOTA TASIKMALAYA</td>\n",
       "      <td>1451</td>\n",
       "    </tr>\n",
       "    <tr>\n",
       "      <th>19</th>\n",
       "      <td>KUNINGAN</td>\n",
       "      <td>1225</td>\n",
       "    </tr>\n",
       "    <tr>\n",
       "      <th>4</th>\n",
       "      <td>CIAMIS</td>\n",
       "      <td>754</td>\n",
       "    </tr>\n",
       "    <tr>\n",
       "      <th>11</th>\n",
       "      <td>KOTA BANJAR</td>\n",
       "      <td>479</td>\n",
       "    </tr>\n",
       "    <tr>\n",
       "      <th>21</th>\n",
       "      <td>PANGANDARAN</td>\n",
       "      <td>276</td>\n",
       "    </tr>\n",
       "  </tbody>\n",
       "</table>\n",
       "</div>"
      ],
      "text/plain": [
       "            kab_kota   nama\n",
       "12       KOTA BEKASI  51236\n",
       "3              BOGOR  33441\n",
       "2             BEKASI  32235\n",
       "16        KOTA DEPOK  26134\n",
       "10      KOTA BANDUNG  18053\n",
       "0            BANDUNG  13967\n",
       "9           KARAWANG  10619\n",
       "13        KOTA BOGOR   8575\n",
       "14       KOTA CIMAHI   5781\n",
       "1      BANDUNG BARAT   5570\n",
       "22        PURWAKARTA   3148\n",
       "5            CIANJUR   2940\n",
       "6            CIREBON   2875\n",
       "23            SUBANG   2192\n",
       "17     KOTA SUKABUMI   2029\n",
       "8          INDRAMAYU   1669\n",
       "7              GARUT   1617\n",
       "20        MAJALENGKA   1607\n",
       "15      KOTA CIREBON   1501\n",
       "18  KOTA TASIKMALAYA   1451\n",
       "19          KUNINGAN   1225\n",
       "4             CIAMIS    754\n",
       "11       KOTA BANJAR    479\n",
       "21       PANGANDARAN    276"
      ]
     },
     "execution_count": 34,
     "metadata": {},
     "output_type": "execute_result"
    }
   ],
   "source": [
    "kab_kota_batak = nama_batak.groupby('kab_kota').nama.count().to_frame().reset_index().sort_values('nama',ascending=False)\n",
    "kab_kota_batak"
   ]
  },
  {
   "cell_type": "code",
   "execution_count": 37,
   "metadata": {},
   "outputs": [
    {
     "data": {
      "application/vnd.plotly.v1+json": {
       "config": {
        "plotlyServerURL": "https://plot.ly"
       },
       "data": [
        {
         "alignmentgroup": "True",
         "hovertemplate": "nama=%{x}<br>kab_kota=%{y}<extra></extra>",
         "legendgroup": "",
         "marker": {
          "color": "#636efa",
          "pattern": {
           "shape": ""
          }
         },
         "name": "",
         "offsetgroup": "",
         "orientation": "h",
         "showlegend": false,
         "textposition": "auto",
         "texttemplate": "%{x}",
         "type": "bar",
         "x": [
          5570,
          5781,
          8575,
          10619,
          13967,
          18053,
          26134,
          32235,
          33441,
          51236
         ],
         "xaxis": "x",
         "y": [
          "BANDUNG BARAT",
          "KOTA CIMAHI",
          "KOTA BOGOR",
          "KARAWANG",
          "BANDUNG",
          "KOTA BANDUNG",
          "KOTA DEPOK",
          "BEKASI",
          "BOGOR",
          "KOTA BEKASI"
         ],
         "yaxis": "y"
        }
       ],
       "layout": {
        "barmode": "relative",
        "legend": {
         "tracegroupgap": 0
        },
        "template": {
         "data": {
          "bar": [
           {
            "error_x": {
             "color": "#2a3f5f"
            },
            "error_y": {
             "color": "#2a3f5f"
            },
            "marker": {
             "line": {
              "color": "#E5ECF6",
              "width": 0.5
             },
             "pattern": {
              "fillmode": "overlay",
              "size": 10,
              "solidity": 0.2
             }
            },
            "type": "bar"
           }
          ],
          "barpolar": [
           {
            "marker": {
             "line": {
              "color": "#E5ECF6",
              "width": 0.5
             },
             "pattern": {
              "fillmode": "overlay",
              "size": 10,
              "solidity": 0.2
             }
            },
            "type": "barpolar"
           }
          ],
          "carpet": [
           {
            "aaxis": {
             "endlinecolor": "#2a3f5f",
             "gridcolor": "white",
             "linecolor": "white",
             "minorgridcolor": "white",
             "startlinecolor": "#2a3f5f"
            },
            "baxis": {
             "endlinecolor": "#2a3f5f",
             "gridcolor": "white",
             "linecolor": "white",
             "minorgridcolor": "white",
             "startlinecolor": "#2a3f5f"
            },
            "type": "carpet"
           }
          ],
          "choropleth": [
           {
            "colorbar": {
             "outlinewidth": 0,
             "ticks": ""
            },
            "type": "choropleth"
           }
          ],
          "contour": [
           {
            "colorbar": {
             "outlinewidth": 0,
             "ticks": ""
            },
            "colorscale": [
             [
              0,
              "#0d0887"
             ],
             [
              0.1111111111111111,
              "#46039f"
             ],
             [
              0.2222222222222222,
              "#7201a8"
             ],
             [
              0.3333333333333333,
              "#9c179e"
             ],
             [
              0.4444444444444444,
              "#bd3786"
             ],
             [
              0.5555555555555556,
              "#d8576b"
             ],
             [
              0.6666666666666666,
              "#ed7953"
             ],
             [
              0.7777777777777778,
              "#fb9f3a"
             ],
             [
              0.8888888888888888,
              "#fdca26"
             ],
             [
              1,
              "#f0f921"
             ]
            ],
            "type": "contour"
           }
          ],
          "contourcarpet": [
           {
            "colorbar": {
             "outlinewidth": 0,
             "ticks": ""
            },
            "type": "contourcarpet"
           }
          ],
          "heatmap": [
           {
            "colorbar": {
             "outlinewidth": 0,
             "ticks": ""
            },
            "colorscale": [
             [
              0,
              "#0d0887"
             ],
             [
              0.1111111111111111,
              "#46039f"
             ],
             [
              0.2222222222222222,
              "#7201a8"
             ],
             [
              0.3333333333333333,
              "#9c179e"
             ],
             [
              0.4444444444444444,
              "#bd3786"
             ],
             [
              0.5555555555555556,
              "#d8576b"
             ],
             [
              0.6666666666666666,
              "#ed7953"
             ],
             [
              0.7777777777777778,
              "#fb9f3a"
             ],
             [
              0.8888888888888888,
              "#fdca26"
             ],
             [
              1,
              "#f0f921"
             ]
            ],
            "type": "heatmap"
           }
          ],
          "heatmapgl": [
           {
            "colorbar": {
             "outlinewidth": 0,
             "ticks": ""
            },
            "colorscale": [
             [
              0,
              "#0d0887"
             ],
             [
              0.1111111111111111,
              "#46039f"
             ],
             [
              0.2222222222222222,
              "#7201a8"
             ],
             [
              0.3333333333333333,
              "#9c179e"
             ],
             [
              0.4444444444444444,
              "#bd3786"
             ],
             [
              0.5555555555555556,
              "#d8576b"
             ],
             [
              0.6666666666666666,
              "#ed7953"
             ],
             [
              0.7777777777777778,
              "#fb9f3a"
             ],
             [
              0.8888888888888888,
              "#fdca26"
             ],
             [
              1,
              "#f0f921"
             ]
            ],
            "type": "heatmapgl"
           }
          ],
          "histogram": [
           {
            "marker": {
             "pattern": {
              "fillmode": "overlay",
              "size": 10,
              "solidity": 0.2
             }
            },
            "type": "histogram"
           }
          ],
          "histogram2d": [
           {
            "colorbar": {
             "outlinewidth": 0,
             "ticks": ""
            },
            "colorscale": [
             [
              0,
              "#0d0887"
             ],
             [
              0.1111111111111111,
              "#46039f"
             ],
             [
              0.2222222222222222,
              "#7201a8"
             ],
             [
              0.3333333333333333,
              "#9c179e"
             ],
             [
              0.4444444444444444,
              "#bd3786"
             ],
             [
              0.5555555555555556,
              "#d8576b"
             ],
             [
              0.6666666666666666,
              "#ed7953"
             ],
             [
              0.7777777777777778,
              "#fb9f3a"
             ],
             [
              0.8888888888888888,
              "#fdca26"
             ],
             [
              1,
              "#f0f921"
             ]
            ],
            "type": "histogram2d"
           }
          ],
          "histogram2dcontour": [
           {
            "colorbar": {
             "outlinewidth": 0,
             "ticks": ""
            },
            "colorscale": [
             [
              0,
              "#0d0887"
             ],
             [
              0.1111111111111111,
              "#46039f"
             ],
             [
              0.2222222222222222,
              "#7201a8"
             ],
             [
              0.3333333333333333,
              "#9c179e"
             ],
             [
              0.4444444444444444,
              "#bd3786"
             ],
             [
              0.5555555555555556,
              "#d8576b"
             ],
             [
              0.6666666666666666,
              "#ed7953"
             ],
             [
              0.7777777777777778,
              "#fb9f3a"
             ],
             [
              0.8888888888888888,
              "#fdca26"
             ],
             [
              1,
              "#f0f921"
             ]
            ],
            "type": "histogram2dcontour"
           }
          ],
          "mesh3d": [
           {
            "colorbar": {
             "outlinewidth": 0,
             "ticks": ""
            },
            "type": "mesh3d"
           }
          ],
          "parcoords": [
           {
            "line": {
             "colorbar": {
              "outlinewidth": 0,
              "ticks": ""
             }
            },
            "type": "parcoords"
           }
          ],
          "pie": [
           {
            "automargin": true,
            "type": "pie"
           }
          ],
          "scatter": [
           {
            "fillpattern": {
             "fillmode": "overlay",
             "size": 10,
             "solidity": 0.2
            },
            "type": "scatter"
           }
          ],
          "scatter3d": [
           {
            "line": {
             "colorbar": {
              "outlinewidth": 0,
              "ticks": ""
             }
            },
            "marker": {
             "colorbar": {
              "outlinewidth": 0,
              "ticks": ""
             }
            },
            "type": "scatter3d"
           }
          ],
          "scattercarpet": [
           {
            "marker": {
             "colorbar": {
              "outlinewidth": 0,
              "ticks": ""
             }
            },
            "type": "scattercarpet"
           }
          ],
          "scattergeo": [
           {
            "marker": {
             "colorbar": {
              "outlinewidth": 0,
              "ticks": ""
             }
            },
            "type": "scattergeo"
           }
          ],
          "scattergl": [
           {
            "marker": {
             "colorbar": {
              "outlinewidth": 0,
              "ticks": ""
             }
            },
            "type": "scattergl"
           }
          ],
          "scattermapbox": [
           {
            "marker": {
             "colorbar": {
              "outlinewidth": 0,
              "ticks": ""
             }
            },
            "type": "scattermapbox"
           }
          ],
          "scatterpolar": [
           {
            "marker": {
             "colorbar": {
              "outlinewidth": 0,
              "ticks": ""
             }
            },
            "type": "scatterpolar"
           }
          ],
          "scatterpolargl": [
           {
            "marker": {
             "colorbar": {
              "outlinewidth": 0,
              "ticks": ""
             }
            },
            "type": "scatterpolargl"
           }
          ],
          "scatterternary": [
           {
            "marker": {
             "colorbar": {
              "outlinewidth": 0,
              "ticks": ""
             }
            },
            "type": "scatterternary"
           }
          ],
          "surface": [
           {
            "colorbar": {
             "outlinewidth": 0,
             "ticks": ""
            },
            "colorscale": [
             [
              0,
              "#0d0887"
             ],
             [
              0.1111111111111111,
              "#46039f"
             ],
             [
              0.2222222222222222,
              "#7201a8"
             ],
             [
              0.3333333333333333,
              "#9c179e"
             ],
             [
              0.4444444444444444,
              "#bd3786"
             ],
             [
              0.5555555555555556,
              "#d8576b"
             ],
             [
              0.6666666666666666,
              "#ed7953"
             ],
             [
              0.7777777777777778,
              "#fb9f3a"
             ],
             [
              0.8888888888888888,
              "#fdca26"
             ],
             [
              1,
              "#f0f921"
             ]
            ],
            "type": "surface"
           }
          ],
          "table": [
           {
            "cells": {
             "fill": {
              "color": "#EBF0F8"
             },
             "line": {
              "color": "white"
             }
            },
            "header": {
             "fill": {
              "color": "#C8D4E3"
             },
             "line": {
              "color": "white"
             }
            },
            "type": "table"
           }
          ]
         },
         "layout": {
          "annotationdefaults": {
           "arrowcolor": "#2a3f5f",
           "arrowhead": 0,
           "arrowwidth": 1
          },
          "autotypenumbers": "strict",
          "coloraxis": {
           "colorbar": {
            "outlinewidth": 0,
            "ticks": ""
           }
          },
          "colorscale": {
           "diverging": [
            [
             0,
             "#8e0152"
            ],
            [
             0.1,
             "#c51b7d"
            ],
            [
             0.2,
             "#de77ae"
            ],
            [
             0.3,
             "#f1b6da"
            ],
            [
             0.4,
             "#fde0ef"
            ],
            [
             0.5,
             "#f7f7f7"
            ],
            [
             0.6,
             "#e6f5d0"
            ],
            [
             0.7,
             "#b8e186"
            ],
            [
             0.8,
             "#7fbc41"
            ],
            [
             0.9,
             "#4d9221"
            ],
            [
             1,
             "#276419"
            ]
           ],
           "sequential": [
            [
             0,
             "#0d0887"
            ],
            [
             0.1111111111111111,
             "#46039f"
            ],
            [
             0.2222222222222222,
             "#7201a8"
            ],
            [
             0.3333333333333333,
             "#9c179e"
            ],
            [
             0.4444444444444444,
             "#bd3786"
            ],
            [
             0.5555555555555556,
             "#d8576b"
            ],
            [
             0.6666666666666666,
             "#ed7953"
            ],
            [
             0.7777777777777778,
             "#fb9f3a"
            ],
            [
             0.8888888888888888,
             "#fdca26"
            ],
            [
             1,
             "#f0f921"
            ]
           ],
           "sequentialminus": [
            [
             0,
             "#0d0887"
            ],
            [
             0.1111111111111111,
             "#46039f"
            ],
            [
             0.2222222222222222,
             "#7201a8"
            ],
            [
             0.3333333333333333,
             "#9c179e"
            ],
            [
             0.4444444444444444,
             "#bd3786"
            ],
            [
             0.5555555555555556,
             "#d8576b"
            ],
            [
             0.6666666666666666,
             "#ed7953"
            ],
            [
             0.7777777777777778,
             "#fb9f3a"
            ],
            [
             0.8888888888888888,
             "#fdca26"
            ],
            [
             1,
             "#f0f921"
            ]
           ]
          },
          "colorway": [
           "#636efa",
           "#EF553B",
           "#00cc96",
           "#ab63fa",
           "#FFA15A",
           "#19d3f3",
           "#FF6692",
           "#B6E880",
           "#FF97FF",
           "#FECB52"
          ],
          "font": {
           "color": "#2a3f5f"
          },
          "geo": {
           "bgcolor": "white",
           "lakecolor": "white",
           "landcolor": "#E5ECF6",
           "showlakes": true,
           "showland": true,
           "subunitcolor": "white"
          },
          "hoverlabel": {
           "align": "left"
          },
          "hovermode": "closest",
          "mapbox": {
           "style": "light"
          },
          "paper_bgcolor": "white",
          "plot_bgcolor": "#E5ECF6",
          "polar": {
           "angularaxis": {
            "gridcolor": "white",
            "linecolor": "white",
            "ticks": ""
           },
           "bgcolor": "#E5ECF6",
           "radialaxis": {
            "gridcolor": "white",
            "linecolor": "white",
            "ticks": ""
           }
          },
          "scene": {
           "xaxis": {
            "backgroundcolor": "#E5ECF6",
            "gridcolor": "white",
            "gridwidth": 2,
            "linecolor": "white",
            "showbackground": true,
            "ticks": "",
            "zerolinecolor": "white"
           },
           "yaxis": {
            "backgroundcolor": "#E5ECF6",
            "gridcolor": "white",
            "gridwidth": 2,
            "linecolor": "white",
            "showbackground": true,
            "ticks": "",
            "zerolinecolor": "white"
           },
           "zaxis": {
            "backgroundcolor": "#E5ECF6",
            "gridcolor": "white",
            "gridwidth": 2,
            "linecolor": "white",
            "showbackground": true,
            "ticks": "",
            "zerolinecolor": "white"
           }
          },
          "shapedefaults": {
           "line": {
            "color": "#2a3f5f"
           }
          },
          "ternary": {
           "aaxis": {
            "gridcolor": "white",
            "linecolor": "white",
            "ticks": ""
           },
           "baxis": {
            "gridcolor": "white",
            "linecolor": "white",
            "ticks": ""
           },
           "bgcolor": "#E5ECF6",
           "caxis": {
            "gridcolor": "white",
            "linecolor": "white",
            "ticks": ""
           }
          },
          "title": {
           "x": 0.05
          },
          "xaxis": {
           "automargin": true,
           "gridcolor": "white",
           "linecolor": "white",
           "ticks": "",
           "title": {
            "standoff": 15
           },
           "zerolinecolor": "white",
           "zerolinewidth": 2
          },
          "yaxis": {
           "automargin": true,
           "gridcolor": "white",
           "linecolor": "white",
           "ticks": "",
           "title": {
            "standoff": 15
           },
           "zerolinecolor": "white",
           "zerolinewidth": 2
          }
         }
        },
        "title": {
         "text": "Top Kab Kota"
        },
        "width": 400,
        "xaxis": {
         "anchor": "y",
         "domain": [
          0,
          1
         ],
         "title": {
          "text": "nama"
         }
        },
        "yaxis": {
         "anchor": "x",
         "domain": [
          0,
          1
         ],
         "title": {
          "text": "kab_kota"
         }
        }
       }
      }
     },
     "metadata": {},
     "output_type": "display_data"
    }
   ],
   "source": [
    "fig = px.bar(kab_kota_batak.head(10).sort_values('nama'), y='kab_kota', x='nama',width=400,text_auto=True,title='Top Kab Kota')\n",
    "fig.show()"
   ]
  },
  {
   "cell_type": "code",
   "execution_count": 44,
   "metadata": {},
   "outputs": [
    {
     "data": {
      "application/vnd.plotly.v1+json": {
       "config": {
        "plotlyServerURL": "https://plot.ly"
       },
       "data": [
        {
         "alignmentgroup": "True",
         "hovertemplate": "nama=%{x}<br>kab_kota=%{y}<extra></extra>",
         "legendgroup": "",
         "marker": {
          "color": "#636efa",
          "pattern": {
           "shape": ""
          }
         },
         "name": "",
         "offsetgroup": "",
         "orientation": "h",
         "showlegend": false,
         "textposition": "auto",
         "texttemplate": "%{x}",
         "type": "bar",
         "x": [
          2029,
          1669,
          1617,
          1607,
          1501,
          1451,
          1225,
          754,
          479,
          276
         ],
         "xaxis": "x",
         "y": [
          "KOTA SUKABUMI",
          "INDRAMAYU",
          "GARUT",
          "MAJALENGKA",
          "KOTA CIREBON",
          "KOTA TASIKMALAYA",
          "KUNINGAN",
          "CIAMIS",
          "KOTA BANJAR",
          "PANGANDARAN"
         ],
         "yaxis": "y"
        }
       ],
       "layout": {
        "barmode": "relative",
        "legend": {
         "tracegroupgap": 0
        },
        "template": {
         "data": {
          "bar": [
           {
            "error_x": {
             "color": "#2a3f5f"
            },
            "error_y": {
             "color": "#2a3f5f"
            },
            "marker": {
             "line": {
              "color": "#E5ECF6",
              "width": 0.5
             },
             "pattern": {
              "fillmode": "overlay",
              "size": 10,
              "solidity": 0.2
             }
            },
            "type": "bar"
           }
          ],
          "barpolar": [
           {
            "marker": {
             "line": {
              "color": "#E5ECF6",
              "width": 0.5
             },
             "pattern": {
              "fillmode": "overlay",
              "size": 10,
              "solidity": 0.2
             }
            },
            "type": "barpolar"
           }
          ],
          "carpet": [
           {
            "aaxis": {
             "endlinecolor": "#2a3f5f",
             "gridcolor": "white",
             "linecolor": "white",
             "minorgridcolor": "white",
             "startlinecolor": "#2a3f5f"
            },
            "baxis": {
             "endlinecolor": "#2a3f5f",
             "gridcolor": "white",
             "linecolor": "white",
             "minorgridcolor": "white",
             "startlinecolor": "#2a3f5f"
            },
            "type": "carpet"
           }
          ],
          "choropleth": [
           {
            "colorbar": {
             "outlinewidth": 0,
             "ticks": ""
            },
            "type": "choropleth"
           }
          ],
          "contour": [
           {
            "colorbar": {
             "outlinewidth": 0,
             "ticks": ""
            },
            "colorscale": [
             [
              0,
              "#0d0887"
             ],
             [
              0.1111111111111111,
              "#46039f"
             ],
             [
              0.2222222222222222,
              "#7201a8"
             ],
             [
              0.3333333333333333,
              "#9c179e"
             ],
             [
              0.4444444444444444,
              "#bd3786"
             ],
             [
              0.5555555555555556,
              "#d8576b"
             ],
             [
              0.6666666666666666,
              "#ed7953"
             ],
             [
              0.7777777777777778,
              "#fb9f3a"
             ],
             [
              0.8888888888888888,
              "#fdca26"
             ],
             [
              1,
              "#f0f921"
             ]
            ],
            "type": "contour"
           }
          ],
          "contourcarpet": [
           {
            "colorbar": {
             "outlinewidth": 0,
             "ticks": ""
            },
            "type": "contourcarpet"
           }
          ],
          "heatmap": [
           {
            "colorbar": {
             "outlinewidth": 0,
             "ticks": ""
            },
            "colorscale": [
             [
              0,
              "#0d0887"
             ],
             [
              0.1111111111111111,
              "#46039f"
             ],
             [
              0.2222222222222222,
              "#7201a8"
             ],
             [
              0.3333333333333333,
              "#9c179e"
             ],
             [
              0.4444444444444444,
              "#bd3786"
             ],
             [
              0.5555555555555556,
              "#d8576b"
             ],
             [
              0.6666666666666666,
              "#ed7953"
             ],
             [
              0.7777777777777778,
              "#fb9f3a"
             ],
             [
              0.8888888888888888,
              "#fdca26"
             ],
             [
              1,
              "#f0f921"
             ]
            ],
            "type": "heatmap"
           }
          ],
          "heatmapgl": [
           {
            "colorbar": {
             "outlinewidth": 0,
             "ticks": ""
            },
            "colorscale": [
             [
              0,
              "#0d0887"
             ],
             [
              0.1111111111111111,
              "#46039f"
             ],
             [
              0.2222222222222222,
              "#7201a8"
             ],
             [
              0.3333333333333333,
              "#9c179e"
             ],
             [
              0.4444444444444444,
              "#bd3786"
             ],
             [
              0.5555555555555556,
              "#d8576b"
             ],
             [
              0.6666666666666666,
              "#ed7953"
             ],
             [
              0.7777777777777778,
              "#fb9f3a"
             ],
             [
              0.8888888888888888,
              "#fdca26"
             ],
             [
              1,
              "#f0f921"
             ]
            ],
            "type": "heatmapgl"
           }
          ],
          "histogram": [
           {
            "marker": {
             "pattern": {
              "fillmode": "overlay",
              "size": 10,
              "solidity": 0.2
             }
            },
            "type": "histogram"
           }
          ],
          "histogram2d": [
           {
            "colorbar": {
             "outlinewidth": 0,
             "ticks": ""
            },
            "colorscale": [
             [
              0,
              "#0d0887"
             ],
             [
              0.1111111111111111,
              "#46039f"
             ],
             [
              0.2222222222222222,
              "#7201a8"
             ],
             [
              0.3333333333333333,
              "#9c179e"
             ],
             [
              0.4444444444444444,
              "#bd3786"
             ],
             [
              0.5555555555555556,
              "#d8576b"
             ],
             [
              0.6666666666666666,
              "#ed7953"
             ],
             [
              0.7777777777777778,
              "#fb9f3a"
             ],
             [
              0.8888888888888888,
              "#fdca26"
             ],
             [
              1,
              "#f0f921"
             ]
            ],
            "type": "histogram2d"
           }
          ],
          "histogram2dcontour": [
           {
            "colorbar": {
             "outlinewidth": 0,
             "ticks": ""
            },
            "colorscale": [
             [
              0,
              "#0d0887"
             ],
             [
              0.1111111111111111,
              "#46039f"
             ],
             [
              0.2222222222222222,
              "#7201a8"
             ],
             [
              0.3333333333333333,
              "#9c179e"
             ],
             [
              0.4444444444444444,
              "#bd3786"
             ],
             [
              0.5555555555555556,
              "#d8576b"
             ],
             [
              0.6666666666666666,
              "#ed7953"
             ],
             [
              0.7777777777777778,
              "#fb9f3a"
             ],
             [
              0.8888888888888888,
              "#fdca26"
             ],
             [
              1,
              "#f0f921"
             ]
            ],
            "type": "histogram2dcontour"
           }
          ],
          "mesh3d": [
           {
            "colorbar": {
             "outlinewidth": 0,
             "ticks": ""
            },
            "type": "mesh3d"
           }
          ],
          "parcoords": [
           {
            "line": {
             "colorbar": {
              "outlinewidth": 0,
              "ticks": ""
             }
            },
            "type": "parcoords"
           }
          ],
          "pie": [
           {
            "automargin": true,
            "type": "pie"
           }
          ],
          "scatter": [
           {
            "fillpattern": {
             "fillmode": "overlay",
             "size": 10,
             "solidity": 0.2
            },
            "type": "scatter"
           }
          ],
          "scatter3d": [
           {
            "line": {
             "colorbar": {
              "outlinewidth": 0,
              "ticks": ""
             }
            },
            "marker": {
             "colorbar": {
              "outlinewidth": 0,
              "ticks": ""
             }
            },
            "type": "scatter3d"
           }
          ],
          "scattercarpet": [
           {
            "marker": {
             "colorbar": {
              "outlinewidth": 0,
              "ticks": ""
             }
            },
            "type": "scattercarpet"
           }
          ],
          "scattergeo": [
           {
            "marker": {
             "colorbar": {
              "outlinewidth": 0,
              "ticks": ""
             }
            },
            "type": "scattergeo"
           }
          ],
          "scattergl": [
           {
            "marker": {
             "colorbar": {
              "outlinewidth": 0,
              "ticks": ""
             }
            },
            "type": "scattergl"
           }
          ],
          "scattermapbox": [
           {
            "marker": {
             "colorbar": {
              "outlinewidth": 0,
              "ticks": ""
             }
            },
            "type": "scattermapbox"
           }
          ],
          "scatterpolar": [
           {
            "marker": {
             "colorbar": {
              "outlinewidth": 0,
              "ticks": ""
             }
            },
            "type": "scatterpolar"
           }
          ],
          "scatterpolargl": [
           {
            "marker": {
             "colorbar": {
              "outlinewidth": 0,
              "ticks": ""
             }
            },
            "type": "scatterpolargl"
           }
          ],
          "scatterternary": [
           {
            "marker": {
             "colorbar": {
              "outlinewidth": 0,
              "ticks": ""
             }
            },
            "type": "scatterternary"
           }
          ],
          "surface": [
           {
            "colorbar": {
             "outlinewidth": 0,
             "ticks": ""
            },
            "colorscale": [
             [
              0,
              "#0d0887"
             ],
             [
              0.1111111111111111,
              "#46039f"
             ],
             [
              0.2222222222222222,
              "#7201a8"
             ],
             [
              0.3333333333333333,
              "#9c179e"
             ],
             [
              0.4444444444444444,
              "#bd3786"
             ],
             [
              0.5555555555555556,
              "#d8576b"
             ],
             [
              0.6666666666666666,
              "#ed7953"
             ],
             [
              0.7777777777777778,
              "#fb9f3a"
             ],
             [
              0.8888888888888888,
              "#fdca26"
             ],
             [
              1,
              "#f0f921"
             ]
            ],
            "type": "surface"
           }
          ],
          "table": [
           {
            "cells": {
             "fill": {
              "color": "#EBF0F8"
             },
             "line": {
              "color": "white"
             }
            },
            "header": {
             "fill": {
              "color": "#C8D4E3"
             },
             "line": {
              "color": "white"
             }
            },
            "type": "table"
           }
          ]
         },
         "layout": {
          "annotationdefaults": {
           "arrowcolor": "#2a3f5f",
           "arrowhead": 0,
           "arrowwidth": 1
          },
          "autotypenumbers": "strict",
          "coloraxis": {
           "colorbar": {
            "outlinewidth": 0,
            "ticks": ""
           }
          },
          "colorscale": {
           "diverging": [
            [
             0,
             "#8e0152"
            ],
            [
             0.1,
             "#c51b7d"
            ],
            [
             0.2,
             "#de77ae"
            ],
            [
             0.3,
             "#f1b6da"
            ],
            [
             0.4,
             "#fde0ef"
            ],
            [
             0.5,
             "#f7f7f7"
            ],
            [
             0.6,
             "#e6f5d0"
            ],
            [
             0.7,
             "#b8e186"
            ],
            [
             0.8,
             "#7fbc41"
            ],
            [
             0.9,
             "#4d9221"
            ],
            [
             1,
             "#276419"
            ]
           ],
           "sequential": [
            [
             0,
             "#0d0887"
            ],
            [
             0.1111111111111111,
             "#46039f"
            ],
            [
             0.2222222222222222,
             "#7201a8"
            ],
            [
             0.3333333333333333,
             "#9c179e"
            ],
            [
             0.4444444444444444,
             "#bd3786"
            ],
            [
             0.5555555555555556,
             "#d8576b"
            ],
            [
             0.6666666666666666,
             "#ed7953"
            ],
            [
             0.7777777777777778,
             "#fb9f3a"
            ],
            [
             0.8888888888888888,
             "#fdca26"
            ],
            [
             1,
             "#f0f921"
            ]
           ],
           "sequentialminus": [
            [
             0,
             "#0d0887"
            ],
            [
             0.1111111111111111,
             "#46039f"
            ],
            [
             0.2222222222222222,
             "#7201a8"
            ],
            [
             0.3333333333333333,
             "#9c179e"
            ],
            [
             0.4444444444444444,
             "#bd3786"
            ],
            [
             0.5555555555555556,
             "#d8576b"
            ],
            [
             0.6666666666666666,
             "#ed7953"
            ],
            [
             0.7777777777777778,
             "#fb9f3a"
            ],
            [
             0.8888888888888888,
             "#fdca26"
            ],
            [
             1,
             "#f0f921"
            ]
           ]
          },
          "colorway": [
           "#636efa",
           "#EF553B",
           "#00cc96",
           "#ab63fa",
           "#FFA15A",
           "#19d3f3",
           "#FF6692",
           "#B6E880",
           "#FF97FF",
           "#FECB52"
          ],
          "font": {
           "color": "#2a3f5f"
          },
          "geo": {
           "bgcolor": "white",
           "lakecolor": "white",
           "landcolor": "#E5ECF6",
           "showlakes": true,
           "showland": true,
           "subunitcolor": "white"
          },
          "hoverlabel": {
           "align": "left"
          },
          "hovermode": "closest",
          "mapbox": {
           "style": "light"
          },
          "paper_bgcolor": "white",
          "plot_bgcolor": "#E5ECF6",
          "polar": {
           "angularaxis": {
            "gridcolor": "white",
            "linecolor": "white",
            "ticks": ""
           },
           "bgcolor": "#E5ECF6",
           "radialaxis": {
            "gridcolor": "white",
            "linecolor": "white",
            "ticks": ""
           }
          },
          "scene": {
           "xaxis": {
            "backgroundcolor": "#E5ECF6",
            "gridcolor": "white",
            "gridwidth": 2,
            "linecolor": "white",
            "showbackground": true,
            "ticks": "",
            "zerolinecolor": "white"
           },
           "yaxis": {
            "backgroundcolor": "#E5ECF6",
            "gridcolor": "white",
            "gridwidth": 2,
            "linecolor": "white",
            "showbackground": true,
            "ticks": "",
            "zerolinecolor": "white"
           },
           "zaxis": {
            "backgroundcolor": "#E5ECF6",
            "gridcolor": "white",
            "gridwidth": 2,
            "linecolor": "white",
            "showbackground": true,
            "ticks": "",
            "zerolinecolor": "white"
           }
          },
          "shapedefaults": {
           "line": {
            "color": "#2a3f5f"
           }
          },
          "ternary": {
           "aaxis": {
            "gridcolor": "white",
            "linecolor": "white",
            "ticks": ""
           },
           "baxis": {
            "gridcolor": "white",
            "linecolor": "white",
            "ticks": ""
           },
           "bgcolor": "#E5ECF6",
           "caxis": {
            "gridcolor": "white",
            "linecolor": "white",
            "ticks": ""
           }
          },
          "title": {
           "x": 0.05
          },
          "xaxis": {
           "automargin": true,
           "gridcolor": "white",
           "linecolor": "white",
           "ticks": "",
           "title": {
            "standoff": 15
           },
           "zerolinecolor": "white",
           "zerolinewidth": 2
          },
          "yaxis": {
           "automargin": true,
           "gridcolor": "white",
           "linecolor": "white",
           "ticks": "",
           "title": {
            "standoff": 15
           },
           "zerolinecolor": "white",
           "zerolinewidth": 2
          }
         }
        },
        "title": {
         "text": "Bottom Kab Kota"
        },
        "width": 400,
        "xaxis": {
         "anchor": "y",
         "domain": [
          0,
          1
         ],
         "title": {
          "text": "nama"
         }
        },
        "yaxis": {
         "anchor": "x",
         "domain": [
          0,
          1
         ],
         "title": {
          "text": "kab_kota"
         }
        }
       }
      }
     },
     "metadata": {},
     "output_type": "display_data"
    }
   ],
   "source": [
    "fig = px.bar(kab_kota_batak.tail(10), y='kab_kota', x='nama',width=400,text_auto=True, title='Bottom Kab Kota')\n",
    "fig.show()"
   ]
  },
  {
   "cell_type": "code",
   "execution_count": 70,
   "metadata": {},
   "outputs": [
    {
     "data": {
      "text/html": [
       "<div>\n",
       "<style scoped>\n",
       "    .dataframe tbody tr th:only-of-type {\n",
       "        vertical-align: middle;\n",
       "    }\n",
       "\n",
       "    .dataframe tbody tr th {\n",
       "        vertical-align: top;\n",
       "    }\n",
       "\n",
       "    .dataframe thead th {\n",
       "        text-align: right;\n",
       "    }\n",
       "</style>\n",
       "<table border=\"1\" class=\"dataframe\">\n",
       "  <thead>\n",
       "    <tr style=\"text-align: right;\">\n",
       "      <th></th>\n",
       "      <th>kab_kota</th>\n",
       "      <th>kecamatan</th>\n",
       "      <th>jenisKelamin</th>\n",
       "      <th>nama_batak</th>\n",
       "      <th>nama</th>\n",
       "    </tr>\n",
       "  </thead>\n",
       "  <tbody>\n",
       "    <tr>\n",
       "      <th>223</th>\n",
       "      <td>KOTA BEKASI</td>\n",
       "      <td>BEKASI BARAT</td>\n",
       "      <td>L</td>\n",
       "      <td>siregar</td>\n",
       "      <td>42</td>\n",
       "    </tr>\n",
       "    <tr>\n",
       "      <th>939</th>\n",
       "      <td>KOTA BEKASI</td>\n",
       "      <td>BEKASI UTARA</td>\n",
       "      <td>L</td>\n",
       "      <td>siregar</td>\n",
       "      <td>41</td>\n",
       "    </tr>\n",
       "    <tr>\n",
       "      <th>2392</th>\n",
       "      <td>KOTA BEKASI</td>\n",
       "      <td>RAWA LUMBU</td>\n",
       "      <td>L</td>\n",
       "      <td>sinaga</td>\n",
       "      <td>39</td>\n",
       "    </tr>\n",
       "    <tr>\n",
       "      <th>345</th>\n",
       "      <td>KOTA BEKASI</td>\n",
       "      <td>BEKASI BARAT</td>\n",
       "      <td>P</td>\n",
       "      <td>siregar</td>\n",
       "      <td>38</td>\n",
       "    </tr>\n",
       "    <tr>\n",
       "      <th>2348</th>\n",
       "      <td>KOTA BEKASI</td>\n",
       "      <td>RAWA LUMBU</td>\n",
       "      <td>L</td>\n",
       "      <td>purba</td>\n",
       "      <td>36</td>\n",
       "    </tr>\n",
       "    <tr>\n",
       "      <th>...</th>\n",
       "      <td>...</td>\n",
       "      <td>...</td>\n",
       "      <td>...</td>\n",
       "      <td>...</td>\n",
       "      <td>...</td>\n",
       "    </tr>\n",
       "    <tr>\n",
       "      <th>935</th>\n",
       "      <td>KOTA BEKASI</td>\n",
       "      <td>BEKASI UTARA</td>\n",
       "      <td>L</td>\n",
       "      <td>sinuraya</td>\n",
       "      <td>1</td>\n",
       "    </tr>\n",
       "    <tr>\n",
       "      <th>1922</th>\n",
       "      <td>KOTA BEKASI</td>\n",
       "      <td>PONDOK GEDE</td>\n",
       "      <td>L</td>\n",
       "      <td>ritonga</td>\n",
       "      <td>1</td>\n",
       "    </tr>\n",
       "    <tr>\n",
       "      <th>930</th>\n",
       "      <td>KOTA BEKASI</td>\n",
       "      <td>BEKASI UTARA</td>\n",
       "      <td>L</td>\n",
       "      <td>sinabariba</td>\n",
       "      <td>1</td>\n",
       "    </tr>\n",
       "    <tr>\n",
       "      <th>925</th>\n",
       "      <td>KOTA BEKASI</td>\n",
       "      <td>BEKASI UTARA</td>\n",
       "      <td>L</td>\n",
       "      <td>simanullang</td>\n",
       "      <td>1</td>\n",
       "    </tr>\n",
       "    <tr>\n",
       "      <th>0</th>\n",
       "      <td>KOTA BEKASI</td>\n",
       "      <td>BANTAR GEBANG</td>\n",
       "      <td>8</td>\n",
       "      <td>pardede</td>\n",
       "      <td>1</td>\n",
       "    </tr>\n",
       "  </tbody>\n",
       "</table>\n",
       "<p>2551 rows × 5 columns</p>\n",
       "</div>"
      ],
      "text/plain": [
       "         kab_kota      kecamatan jenisKelamin   nama_batak  nama\n",
       "223   KOTA BEKASI   BEKASI BARAT            L      siregar    42\n",
       "939   KOTA BEKASI   BEKASI UTARA            L      siregar    41\n",
       "2392  KOTA BEKASI     RAWA LUMBU            L       sinaga    39\n",
       "345   KOTA BEKASI   BEKASI BARAT            P      siregar    38\n",
       "2348  KOTA BEKASI     RAWA LUMBU            L        purba    36\n",
       "...           ...            ...          ...          ...   ...\n",
       "935   KOTA BEKASI   BEKASI UTARA            L     sinuraya     1\n",
       "1922  KOTA BEKASI    PONDOK GEDE            L      ritonga     1\n",
       "930   KOTA BEKASI   BEKASI UTARA            L   sinabariba     1\n",
       "925   KOTA BEKASI   BEKASI UTARA            L  simanullang     1\n",
       "0     KOTA BEKASI  BANTAR GEBANG            8      pardede     1\n",
       "\n",
       "[2551 rows x 5 columns]"
      ]
     },
     "execution_count": 70,
     "metadata": {},
     "output_type": "execute_result"
    }
   ],
   "source": [
    "jodoh_batak = nama_batak[(nama_batak.umur>=24)&(nama_batak.umur<=35)&(nama_batak.kab_kota=='KOTA BEKASI')].groupby([\n",
    "    'kab_kota','kecamatan','jenisKelamin','nama_batak'\n",
    "]).nama.count().to_frame().reset_index().sort_values('nama',ascending=False)\n",
    "jodoh_batak"
   ]
  },
  {
   "cell_type": "code",
   "execution_count": 107,
   "metadata": {},
   "outputs": [],
   "source": [
    "jodoh_batak_L = jodoh_batak[jodoh_batak.jenisKelamin=='L'][['kecamatan','nama_batak','nama']].sort_values('nama',ascending=False).head(20)\n",
    "jodoh_batak_P = jodoh_batak[jodoh_batak.jenisKelamin=='P'][['kecamatan','nama_batak','nama']].sort_values('nama',ascending=False).head(20)"
   ]
  },
  {
   "cell_type": "code",
   "execution_count": 108,
   "metadata": {},
   "outputs": [
    {
     "data": {
      "text/html": [
       "<div>\n",
       "<style scoped>\n",
       "    .dataframe tbody tr th:only-of-type {\n",
       "        vertical-align: middle;\n",
       "    }\n",
       "\n",
       "    .dataframe tbody tr th {\n",
       "        vertical-align: top;\n",
       "    }\n",
       "\n",
       "    .dataframe thead th {\n",
       "        text-align: right;\n",
       "    }\n",
       "</style>\n",
       "<table border=\"1\" class=\"dataframe\">\n",
       "  <thead>\n",
       "    <tr style=\"text-align: right;\">\n",
       "      <th>nama_batak</th>\n",
       "      <th>harahap</th>\n",
       "      <th>lubis</th>\n",
       "      <th>nasution</th>\n",
       "      <th>purba</th>\n",
       "      <th>sihombing</th>\n",
       "      <th>simanjuntak</th>\n",
       "      <th>sinaga</th>\n",
       "      <th>siregar</th>\n",
       "    </tr>\n",
       "    <tr>\n",
       "      <th>kecamatan</th>\n",
       "      <th></th>\n",
       "      <th></th>\n",
       "      <th></th>\n",
       "      <th></th>\n",
       "      <th></th>\n",
       "      <th></th>\n",
       "      <th></th>\n",
       "      <th></th>\n",
       "    </tr>\n",
       "  </thead>\n",
       "  <tbody>\n",
       "    <tr>\n",
       "      <th>BEKASI BARAT</th>\n",
       "      <td>21.0</td>\n",
       "      <td>0.0</td>\n",
       "      <td>0.0</td>\n",
       "      <td>0.0</td>\n",
       "      <td>0.0</td>\n",
       "      <td>0.0</td>\n",
       "      <td>0.0</td>\n",
       "      <td>38.0</td>\n",
       "    </tr>\n",
       "    <tr>\n",
       "      <th>BEKASI SELATAN</th>\n",
       "      <td>0.0</td>\n",
       "      <td>0.0</td>\n",
       "      <td>0.0</td>\n",
       "      <td>0.0</td>\n",
       "      <td>0.0</td>\n",
       "      <td>0.0</td>\n",
       "      <td>20.0</td>\n",
       "      <td>23.0</td>\n",
       "    </tr>\n",
       "    <tr>\n",
       "      <th>BEKASI TIMUR</th>\n",
       "      <td>0.0</td>\n",
       "      <td>0.0</td>\n",
       "      <td>0.0</td>\n",
       "      <td>0.0</td>\n",
       "      <td>0.0</td>\n",
       "      <td>0.0</td>\n",
       "      <td>21.0</td>\n",
       "      <td>23.0</td>\n",
       "    </tr>\n",
       "    <tr>\n",
       "      <th>BEKASI UTARA</th>\n",
       "      <td>0.0</td>\n",
       "      <td>0.0</td>\n",
       "      <td>0.0</td>\n",
       "      <td>22.0</td>\n",
       "      <td>0.0</td>\n",
       "      <td>0.0</td>\n",
       "      <td>33.0</td>\n",
       "      <td>34.0</td>\n",
       "    </tr>\n",
       "    <tr>\n",
       "      <th>JATIASIH</th>\n",
       "      <td>0.0</td>\n",
       "      <td>0.0</td>\n",
       "      <td>0.0</td>\n",
       "      <td>0.0</td>\n",
       "      <td>0.0</td>\n",
       "      <td>24.0</td>\n",
       "      <td>0.0</td>\n",
       "      <td>22.0</td>\n",
       "    </tr>\n",
       "    <tr>\n",
       "      <th>MUSTIKA JAYA</th>\n",
       "      <td>0.0</td>\n",
       "      <td>0.0</td>\n",
       "      <td>0.0</td>\n",
       "      <td>0.0</td>\n",
       "      <td>19.0</td>\n",
       "      <td>0.0</td>\n",
       "      <td>0.0</td>\n",
       "      <td>0.0</td>\n",
       "    </tr>\n",
       "    <tr>\n",
       "      <th>PONDOK GEDE</th>\n",
       "      <td>0.0</td>\n",
       "      <td>22.0</td>\n",
       "      <td>21.0</td>\n",
       "      <td>0.0</td>\n",
       "      <td>0.0</td>\n",
       "      <td>0.0</td>\n",
       "      <td>26.0</td>\n",
       "      <td>22.0</td>\n",
       "    </tr>\n",
       "    <tr>\n",
       "      <th>RAWA LUMBU</th>\n",
       "      <td>0.0</td>\n",
       "      <td>0.0</td>\n",
       "      <td>0.0</td>\n",
       "      <td>32.0</td>\n",
       "      <td>0.0</td>\n",
       "      <td>27.0</td>\n",
       "      <td>24.0</td>\n",
       "      <td>20.0</td>\n",
       "    </tr>\n",
       "  </tbody>\n",
       "</table>\n",
       "</div>"
      ],
      "text/plain": [
       "nama_batak      harahap  lubis  nasution  purba  sihombing  simanjuntak   \n",
       "kecamatan                                                                 \n",
       "BEKASI BARAT       21.0    0.0       0.0    0.0        0.0          0.0  \\\n",
       "BEKASI SELATAN      0.0    0.0       0.0    0.0        0.0          0.0   \n",
       "BEKASI TIMUR        0.0    0.0       0.0    0.0        0.0          0.0   \n",
       "BEKASI UTARA        0.0    0.0       0.0   22.0        0.0          0.0   \n",
       "JATIASIH            0.0    0.0       0.0    0.0        0.0         24.0   \n",
       "MUSTIKA JAYA        0.0    0.0       0.0    0.0       19.0          0.0   \n",
       "PONDOK GEDE         0.0   22.0      21.0    0.0        0.0          0.0   \n",
       "RAWA LUMBU          0.0    0.0       0.0   32.0        0.0         27.0   \n",
       "\n",
       "nama_batak      sinaga  siregar  \n",
       "kecamatan                        \n",
       "BEKASI BARAT       0.0     38.0  \n",
       "BEKASI SELATAN    20.0     23.0  \n",
       "BEKASI TIMUR      21.0     23.0  \n",
       "BEKASI UTARA      33.0     34.0  \n",
       "JATIASIH           0.0     22.0  \n",
       "MUSTIKA JAYA       0.0      0.0  \n",
       "PONDOK GEDE       26.0     22.0  \n",
       "RAWA LUMBU        24.0     20.0  "
      ]
     },
     "execution_count": 108,
     "metadata": {},
     "output_type": "execute_result"
    }
   ],
   "source": [
    "heat_jodoh_batak_L = jodoh_batak_L.pivot(index='kecamatan', columns='nama_batak')['nama'].fillna(0)\n",
    "heat_jodoh_batak_P = jodoh_batak_P.pivot(index='kecamatan', columns='nama_batak')['nama'].fillna(0)\n",
    "heat_jodoh_batak_P"
   ]
  },
  {
   "cell_type": "code",
   "execution_count": 106,
   "metadata": {},
   "outputs": [
    {
     "data": {
      "application/vnd.plotly.v1+json": {
       "config": {
        "plotlyServerURL": "https://plot.ly"
       },
       "data": [
        {
         "coloraxis": "coloraxis",
         "hovertemplate": "nama_batak: %{x}<br>kecamatan: %{y}<br>color: %{z}<extra></extra>",
         "name": "0",
         "texttemplate": "%{z}",
         "type": "heatmap",
         "x": [
          "bintang",
          "harahap",
          "lubis",
          "nasution",
          "purba",
          "siahaan",
          "simanjuntak",
          "sinaga",
          "siregar"
         ],
         "xaxis": "x",
         "y": [
          "BEKASI BARAT",
          "BEKASI SELATAN",
          "BEKASI TIMUR",
          "BEKASI UTARA",
          "JATIASIH",
          "PONDOK GEDE",
          "RAWA LUMBU"
         ],
         "yaxis": "y",
         "z": [
          [
           0,
           28,
           24,
           24,
           0,
           0,
           29,
           0,
           42
          ],
          [
           0,
           0,
           0,
           0,
           0,
           0,
           0,
           0,
           23
          ],
          [
           0,
           0,
           0,
           0,
           0,
           23,
           0,
           0,
           24
          ],
          [
           24,
           0,
           0,
           0,
           24,
           0,
           0,
           24,
           41
          ],
          [
           0,
           0,
           0,
           0,
           24,
           0,
           0,
           0,
           36
          ],
          [
           0,
           25,
           0,
           0,
           0,
           0,
           0,
           0,
           26
          ],
          [
           0,
           0,
           0,
           0,
           36,
           0,
           32,
           39,
           24
          ]
         ]
        }
       ],
       "layout": {
        "coloraxis": {
         "colorscale": [
          [
           0,
           "#0d0887"
          ],
          [
           0.1111111111111111,
           "#46039f"
          ],
          [
           0.2222222222222222,
           "#7201a8"
          ],
          [
           0.3333333333333333,
           "#9c179e"
          ],
          [
           0.4444444444444444,
           "#bd3786"
          ],
          [
           0.5555555555555556,
           "#d8576b"
          ],
          [
           0.6666666666666666,
           "#ed7953"
          ],
          [
           0.7777777777777778,
           "#fb9f3a"
          ],
          [
           0.8888888888888888,
           "#fdca26"
          ],
          [
           1,
           "#f0f921"
          ]
         ]
        },
        "height": 500,
        "template": {
         "data": {
          "bar": [
           {
            "error_x": {
             "color": "#2a3f5f"
            },
            "error_y": {
             "color": "#2a3f5f"
            },
            "marker": {
             "line": {
              "color": "#E5ECF6",
              "width": 0.5
             },
             "pattern": {
              "fillmode": "overlay",
              "size": 10,
              "solidity": 0.2
             }
            },
            "type": "bar"
           }
          ],
          "barpolar": [
           {
            "marker": {
             "line": {
              "color": "#E5ECF6",
              "width": 0.5
             },
             "pattern": {
              "fillmode": "overlay",
              "size": 10,
              "solidity": 0.2
             }
            },
            "type": "barpolar"
           }
          ],
          "carpet": [
           {
            "aaxis": {
             "endlinecolor": "#2a3f5f",
             "gridcolor": "white",
             "linecolor": "white",
             "minorgridcolor": "white",
             "startlinecolor": "#2a3f5f"
            },
            "baxis": {
             "endlinecolor": "#2a3f5f",
             "gridcolor": "white",
             "linecolor": "white",
             "minorgridcolor": "white",
             "startlinecolor": "#2a3f5f"
            },
            "type": "carpet"
           }
          ],
          "choropleth": [
           {
            "colorbar": {
             "outlinewidth": 0,
             "ticks": ""
            },
            "type": "choropleth"
           }
          ],
          "contour": [
           {
            "colorbar": {
             "outlinewidth": 0,
             "ticks": ""
            },
            "colorscale": [
             [
              0,
              "#0d0887"
             ],
             [
              0.1111111111111111,
              "#46039f"
             ],
             [
              0.2222222222222222,
              "#7201a8"
             ],
             [
              0.3333333333333333,
              "#9c179e"
             ],
             [
              0.4444444444444444,
              "#bd3786"
             ],
             [
              0.5555555555555556,
              "#d8576b"
             ],
             [
              0.6666666666666666,
              "#ed7953"
             ],
             [
              0.7777777777777778,
              "#fb9f3a"
             ],
             [
              0.8888888888888888,
              "#fdca26"
             ],
             [
              1,
              "#f0f921"
             ]
            ],
            "type": "contour"
           }
          ],
          "contourcarpet": [
           {
            "colorbar": {
             "outlinewidth": 0,
             "ticks": ""
            },
            "type": "contourcarpet"
           }
          ],
          "heatmap": [
           {
            "colorbar": {
             "outlinewidth": 0,
             "ticks": ""
            },
            "colorscale": [
             [
              0,
              "#0d0887"
             ],
             [
              0.1111111111111111,
              "#46039f"
             ],
             [
              0.2222222222222222,
              "#7201a8"
             ],
             [
              0.3333333333333333,
              "#9c179e"
             ],
             [
              0.4444444444444444,
              "#bd3786"
             ],
             [
              0.5555555555555556,
              "#d8576b"
             ],
             [
              0.6666666666666666,
              "#ed7953"
             ],
             [
              0.7777777777777778,
              "#fb9f3a"
             ],
             [
              0.8888888888888888,
              "#fdca26"
             ],
             [
              1,
              "#f0f921"
             ]
            ],
            "type": "heatmap"
           }
          ],
          "heatmapgl": [
           {
            "colorbar": {
             "outlinewidth": 0,
             "ticks": ""
            },
            "colorscale": [
             [
              0,
              "#0d0887"
             ],
             [
              0.1111111111111111,
              "#46039f"
             ],
             [
              0.2222222222222222,
              "#7201a8"
             ],
             [
              0.3333333333333333,
              "#9c179e"
             ],
             [
              0.4444444444444444,
              "#bd3786"
             ],
             [
              0.5555555555555556,
              "#d8576b"
             ],
             [
              0.6666666666666666,
              "#ed7953"
             ],
             [
              0.7777777777777778,
              "#fb9f3a"
             ],
             [
              0.8888888888888888,
              "#fdca26"
             ],
             [
              1,
              "#f0f921"
             ]
            ],
            "type": "heatmapgl"
           }
          ],
          "histogram": [
           {
            "marker": {
             "pattern": {
              "fillmode": "overlay",
              "size": 10,
              "solidity": 0.2
             }
            },
            "type": "histogram"
           }
          ],
          "histogram2d": [
           {
            "colorbar": {
             "outlinewidth": 0,
             "ticks": ""
            },
            "colorscale": [
             [
              0,
              "#0d0887"
             ],
             [
              0.1111111111111111,
              "#46039f"
             ],
             [
              0.2222222222222222,
              "#7201a8"
             ],
             [
              0.3333333333333333,
              "#9c179e"
             ],
             [
              0.4444444444444444,
              "#bd3786"
             ],
             [
              0.5555555555555556,
              "#d8576b"
             ],
             [
              0.6666666666666666,
              "#ed7953"
             ],
             [
              0.7777777777777778,
              "#fb9f3a"
             ],
             [
              0.8888888888888888,
              "#fdca26"
             ],
             [
              1,
              "#f0f921"
             ]
            ],
            "type": "histogram2d"
           }
          ],
          "histogram2dcontour": [
           {
            "colorbar": {
             "outlinewidth": 0,
             "ticks": ""
            },
            "colorscale": [
             [
              0,
              "#0d0887"
             ],
             [
              0.1111111111111111,
              "#46039f"
             ],
             [
              0.2222222222222222,
              "#7201a8"
             ],
             [
              0.3333333333333333,
              "#9c179e"
             ],
             [
              0.4444444444444444,
              "#bd3786"
             ],
             [
              0.5555555555555556,
              "#d8576b"
             ],
             [
              0.6666666666666666,
              "#ed7953"
             ],
             [
              0.7777777777777778,
              "#fb9f3a"
             ],
             [
              0.8888888888888888,
              "#fdca26"
             ],
             [
              1,
              "#f0f921"
             ]
            ],
            "type": "histogram2dcontour"
           }
          ],
          "mesh3d": [
           {
            "colorbar": {
             "outlinewidth": 0,
             "ticks": ""
            },
            "type": "mesh3d"
           }
          ],
          "parcoords": [
           {
            "line": {
             "colorbar": {
              "outlinewidth": 0,
              "ticks": ""
             }
            },
            "type": "parcoords"
           }
          ],
          "pie": [
           {
            "automargin": true,
            "type": "pie"
           }
          ],
          "scatter": [
           {
            "fillpattern": {
             "fillmode": "overlay",
             "size": 10,
             "solidity": 0.2
            },
            "type": "scatter"
           }
          ],
          "scatter3d": [
           {
            "line": {
             "colorbar": {
              "outlinewidth": 0,
              "ticks": ""
             }
            },
            "marker": {
             "colorbar": {
              "outlinewidth": 0,
              "ticks": ""
             }
            },
            "type": "scatter3d"
           }
          ],
          "scattercarpet": [
           {
            "marker": {
             "colorbar": {
              "outlinewidth": 0,
              "ticks": ""
             }
            },
            "type": "scattercarpet"
           }
          ],
          "scattergeo": [
           {
            "marker": {
             "colorbar": {
              "outlinewidth": 0,
              "ticks": ""
             }
            },
            "type": "scattergeo"
           }
          ],
          "scattergl": [
           {
            "marker": {
             "colorbar": {
              "outlinewidth": 0,
              "ticks": ""
             }
            },
            "type": "scattergl"
           }
          ],
          "scattermapbox": [
           {
            "marker": {
             "colorbar": {
              "outlinewidth": 0,
              "ticks": ""
             }
            },
            "type": "scattermapbox"
           }
          ],
          "scatterpolar": [
           {
            "marker": {
             "colorbar": {
              "outlinewidth": 0,
              "ticks": ""
             }
            },
            "type": "scatterpolar"
           }
          ],
          "scatterpolargl": [
           {
            "marker": {
             "colorbar": {
              "outlinewidth": 0,
              "ticks": ""
             }
            },
            "type": "scatterpolargl"
           }
          ],
          "scatterternary": [
           {
            "marker": {
             "colorbar": {
              "outlinewidth": 0,
              "ticks": ""
             }
            },
            "type": "scatterternary"
           }
          ],
          "surface": [
           {
            "colorbar": {
             "outlinewidth": 0,
             "ticks": ""
            },
            "colorscale": [
             [
              0,
              "#0d0887"
             ],
             [
              0.1111111111111111,
              "#46039f"
             ],
             [
              0.2222222222222222,
              "#7201a8"
             ],
             [
              0.3333333333333333,
              "#9c179e"
             ],
             [
              0.4444444444444444,
              "#bd3786"
             ],
             [
              0.5555555555555556,
              "#d8576b"
             ],
             [
              0.6666666666666666,
              "#ed7953"
             ],
             [
              0.7777777777777778,
              "#fb9f3a"
             ],
             [
              0.8888888888888888,
              "#fdca26"
             ],
             [
              1,
              "#f0f921"
             ]
            ],
            "type": "surface"
           }
          ],
          "table": [
           {
            "cells": {
             "fill": {
              "color": "#EBF0F8"
             },
             "line": {
              "color": "white"
             }
            },
            "header": {
             "fill": {
              "color": "#C8D4E3"
             },
             "line": {
              "color": "white"
             }
            },
            "type": "table"
           }
          ]
         },
         "layout": {
          "annotationdefaults": {
           "arrowcolor": "#2a3f5f",
           "arrowhead": 0,
           "arrowwidth": 1
          },
          "autotypenumbers": "strict",
          "coloraxis": {
           "colorbar": {
            "outlinewidth": 0,
            "ticks": ""
           }
          },
          "colorscale": {
           "diverging": [
            [
             0,
             "#8e0152"
            ],
            [
             0.1,
             "#c51b7d"
            ],
            [
             0.2,
             "#de77ae"
            ],
            [
             0.3,
             "#f1b6da"
            ],
            [
             0.4,
             "#fde0ef"
            ],
            [
             0.5,
             "#f7f7f7"
            ],
            [
             0.6,
             "#e6f5d0"
            ],
            [
             0.7,
             "#b8e186"
            ],
            [
             0.8,
             "#7fbc41"
            ],
            [
             0.9,
             "#4d9221"
            ],
            [
             1,
             "#276419"
            ]
           ],
           "sequential": [
            [
             0,
             "#0d0887"
            ],
            [
             0.1111111111111111,
             "#46039f"
            ],
            [
             0.2222222222222222,
             "#7201a8"
            ],
            [
             0.3333333333333333,
             "#9c179e"
            ],
            [
             0.4444444444444444,
             "#bd3786"
            ],
            [
             0.5555555555555556,
             "#d8576b"
            ],
            [
             0.6666666666666666,
             "#ed7953"
            ],
            [
             0.7777777777777778,
             "#fb9f3a"
            ],
            [
             0.8888888888888888,
             "#fdca26"
            ],
            [
             1,
             "#f0f921"
            ]
           ],
           "sequentialminus": [
            [
             0,
             "#0d0887"
            ],
            [
             0.1111111111111111,
             "#46039f"
            ],
            [
             0.2222222222222222,
             "#7201a8"
            ],
            [
             0.3333333333333333,
             "#9c179e"
            ],
            [
             0.4444444444444444,
             "#bd3786"
            ],
            [
             0.5555555555555556,
             "#d8576b"
            ],
            [
             0.6666666666666666,
             "#ed7953"
            ],
            [
             0.7777777777777778,
             "#fb9f3a"
            ],
            [
             0.8888888888888888,
             "#fdca26"
            ],
            [
             1,
             "#f0f921"
            ]
           ]
          },
          "colorway": [
           "#636efa",
           "#EF553B",
           "#00cc96",
           "#ab63fa",
           "#FFA15A",
           "#19d3f3",
           "#FF6692",
           "#B6E880",
           "#FF97FF",
           "#FECB52"
          ],
          "font": {
           "color": "#2a3f5f"
          },
          "geo": {
           "bgcolor": "white",
           "lakecolor": "white",
           "landcolor": "#E5ECF6",
           "showlakes": true,
           "showland": true,
           "subunitcolor": "white"
          },
          "hoverlabel": {
           "align": "left"
          },
          "hovermode": "closest",
          "mapbox": {
           "style": "light"
          },
          "paper_bgcolor": "white",
          "plot_bgcolor": "#E5ECF6",
          "polar": {
           "angularaxis": {
            "gridcolor": "white",
            "linecolor": "white",
            "ticks": ""
           },
           "bgcolor": "#E5ECF6",
           "radialaxis": {
            "gridcolor": "white",
            "linecolor": "white",
            "ticks": ""
           }
          },
          "scene": {
           "xaxis": {
            "backgroundcolor": "#E5ECF6",
            "gridcolor": "white",
            "gridwidth": 2,
            "linecolor": "white",
            "showbackground": true,
            "ticks": "",
            "zerolinecolor": "white"
           },
           "yaxis": {
            "backgroundcolor": "#E5ECF6",
            "gridcolor": "white",
            "gridwidth": 2,
            "linecolor": "white",
            "showbackground": true,
            "ticks": "",
            "zerolinecolor": "white"
           },
           "zaxis": {
            "backgroundcolor": "#E5ECF6",
            "gridcolor": "white",
            "gridwidth": 2,
            "linecolor": "white",
            "showbackground": true,
            "ticks": "",
            "zerolinecolor": "white"
           }
          },
          "shapedefaults": {
           "line": {
            "color": "#2a3f5f"
           }
          },
          "ternary": {
           "aaxis": {
            "gridcolor": "white",
            "linecolor": "white",
            "ticks": ""
           },
           "baxis": {
            "gridcolor": "white",
            "linecolor": "white",
            "ticks": ""
           },
           "bgcolor": "#E5ECF6",
           "caxis": {
            "gridcolor": "white",
            "linecolor": "white",
            "ticks": ""
           }
          },
          "title": {
           "x": 0.05
          },
          "xaxis": {
           "automargin": true,
           "gridcolor": "white",
           "linecolor": "white",
           "ticks": "",
           "title": {
            "standoff": 15
           },
           "zerolinecolor": "white",
           "zerolinewidth": 2
          },
          "yaxis": {
           "automargin": true,
           "gridcolor": "white",
           "linecolor": "white",
           "ticks": "",
           "title": {
            "standoff": 15
           },
           "zerolinecolor": "white",
           "zerolinewidth": 2
          }
         }
        },
        "title": {
         "text": "Laki-laki Marga Batak Umur 24-35 Kota Bekasi"
        },
        "width": 500,
        "xaxis": {
         "anchor": "y",
         "constrain": "domain",
         "domain": [
          0,
          1
         ],
         "scaleanchor": "y",
         "title": {
          "text": "nama_batak"
         }
        },
        "yaxis": {
         "anchor": "x",
         "autorange": "reversed",
         "constrain": "domain",
         "domain": [
          0,
          1
         ],
         "title": {
          "text": "kecamatan"
         }
        }
       }
      }
     },
     "metadata": {},
     "output_type": "display_data"
    }
   ],
   "source": [
    "fig = px.imshow(heat_jodoh_batak_L, x=heat_jodoh_batak_L.columns, y=heat_jodoh_batak_L.index,text_auto=True,\n",
    "                title='Laki-laki Marga Batak Umur 24-35 Kota Bekasi')\n",
    "fig.update_layout(width=500,height=500)\n",
    "fig.show()"
   ]
  },
  {
   "cell_type": "code",
   "execution_count": 110,
   "metadata": {},
   "outputs": [
    {
     "data": {
      "application/vnd.plotly.v1+json": {
       "config": {
        "plotlyServerURL": "https://plot.ly"
       },
       "data": [
        {
         "coloraxis": "coloraxis",
         "hovertemplate": "nama_batak: %{x}<br>kecamatan: %{y}<br>color: %{z}<extra></extra>",
         "name": "0",
         "texttemplate": "%{z}",
         "type": "heatmap",
         "x": [
          "harahap",
          "lubis",
          "nasution",
          "purba",
          "sihombing",
          "simanjuntak",
          "sinaga",
          "siregar"
         ],
         "xaxis": "x",
         "y": [
          "BEKASI BARAT",
          "BEKASI SELATAN",
          "BEKASI TIMUR",
          "BEKASI UTARA",
          "JATIASIH",
          "MUSTIKA JAYA",
          "PONDOK GEDE",
          "RAWA LUMBU"
         ],
         "yaxis": "y",
         "z": [
          [
           21,
           0,
           0,
           0,
           0,
           0,
           0,
           38
          ],
          [
           0,
           0,
           0,
           0,
           0,
           0,
           20,
           23
          ],
          [
           0,
           0,
           0,
           0,
           0,
           0,
           21,
           23
          ],
          [
           0,
           0,
           0,
           22,
           0,
           0,
           33,
           34
          ],
          [
           0,
           0,
           0,
           0,
           0,
           24,
           0,
           22
          ],
          [
           0,
           0,
           0,
           0,
           19,
           0,
           0,
           0
          ],
          [
           0,
           22,
           21,
           0,
           0,
           0,
           26,
           22
          ],
          [
           0,
           0,
           0,
           32,
           0,
           27,
           24,
           20
          ]
         ]
        }
       ],
       "layout": {
        "coloraxis": {
         "colorscale": [
          [
           0,
           "#0d0887"
          ],
          [
           0.1111111111111111,
           "#46039f"
          ],
          [
           0.2222222222222222,
           "#7201a8"
          ],
          [
           0.3333333333333333,
           "#9c179e"
          ],
          [
           0.4444444444444444,
           "#bd3786"
          ],
          [
           0.5555555555555556,
           "#d8576b"
          ],
          [
           0.6666666666666666,
           "#ed7953"
          ],
          [
           0.7777777777777778,
           "#fb9f3a"
          ],
          [
           0.8888888888888888,
           "#fdca26"
          ],
          [
           1,
           "#f0f921"
          ]
         ]
        },
        "height": 500,
        "template": {
         "data": {
          "bar": [
           {
            "error_x": {
             "color": "#2a3f5f"
            },
            "error_y": {
             "color": "#2a3f5f"
            },
            "marker": {
             "line": {
              "color": "#E5ECF6",
              "width": 0.5
             },
             "pattern": {
              "fillmode": "overlay",
              "size": 10,
              "solidity": 0.2
             }
            },
            "type": "bar"
           }
          ],
          "barpolar": [
           {
            "marker": {
             "line": {
              "color": "#E5ECF6",
              "width": 0.5
             },
             "pattern": {
              "fillmode": "overlay",
              "size": 10,
              "solidity": 0.2
             }
            },
            "type": "barpolar"
           }
          ],
          "carpet": [
           {
            "aaxis": {
             "endlinecolor": "#2a3f5f",
             "gridcolor": "white",
             "linecolor": "white",
             "minorgridcolor": "white",
             "startlinecolor": "#2a3f5f"
            },
            "baxis": {
             "endlinecolor": "#2a3f5f",
             "gridcolor": "white",
             "linecolor": "white",
             "minorgridcolor": "white",
             "startlinecolor": "#2a3f5f"
            },
            "type": "carpet"
           }
          ],
          "choropleth": [
           {
            "colorbar": {
             "outlinewidth": 0,
             "ticks": ""
            },
            "type": "choropleth"
           }
          ],
          "contour": [
           {
            "colorbar": {
             "outlinewidth": 0,
             "ticks": ""
            },
            "colorscale": [
             [
              0,
              "#0d0887"
             ],
             [
              0.1111111111111111,
              "#46039f"
             ],
             [
              0.2222222222222222,
              "#7201a8"
             ],
             [
              0.3333333333333333,
              "#9c179e"
             ],
             [
              0.4444444444444444,
              "#bd3786"
             ],
             [
              0.5555555555555556,
              "#d8576b"
             ],
             [
              0.6666666666666666,
              "#ed7953"
             ],
             [
              0.7777777777777778,
              "#fb9f3a"
             ],
             [
              0.8888888888888888,
              "#fdca26"
             ],
             [
              1,
              "#f0f921"
             ]
            ],
            "type": "contour"
           }
          ],
          "contourcarpet": [
           {
            "colorbar": {
             "outlinewidth": 0,
             "ticks": ""
            },
            "type": "contourcarpet"
           }
          ],
          "heatmap": [
           {
            "colorbar": {
             "outlinewidth": 0,
             "ticks": ""
            },
            "colorscale": [
             [
              0,
              "#0d0887"
             ],
             [
              0.1111111111111111,
              "#46039f"
             ],
             [
              0.2222222222222222,
              "#7201a8"
             ],
             [
              0.3333333333333333,
              "#9c179e"
             ],
             [
              0.4444444444444444,
              "#bd3786"
             ],
             [
              0.5555555555555556,
              "#d8576b"
             ],
             [
              0.6666666666666666,
              "#ed7953"
             ],
             [
              0.7777777777777778,
              "#fb9f3a"
             ],
             [
              0.8888888888888888,
              "#fdca26"
             ],
             [
              1,
              "#f0f921"
             ]
            ],
            "type": "heatmap"
           }
          ],
          "heatmapgl": [
           {
            "colorbar": {
             "outlinewidth": 0,
             "ticks": ""
            },
            "colorscale": [
             [
              0,
              "#0d0887"
             ],
             [
              0.1111111111111111,
              "#46039f"
             ],
             [
              0.2222222222222222,
              "#7201a8"
             ],
             [
              0.3333333333333333,
              "#9c179e"
             ],
             [
              0.4444444444444444,
              "#bd3786"
             ],
             [
              0.5555555555555556,
              "#d8576b"
             ],
             [
              0.6666666666666666,
              "#ed7953"
             ],
             [
              0.7777777777777778,
              "#fb9f3a"
             ],
             [
              0.8888888888888888,
              "#fdca26"
             ],
             [
              1,
              "#f0f921"
             ]
            ],
            "type": "heatmapgl"
           }
          ],
          "histogram": [
           {
            "marker": {
             "pattern": {
              "fillmode": "overlay",
              "size": 10,
              "solidity": 0.2
             }
            },
            "type": "histogram"
           }
          ],
          "histogram2d": [
           {
            "colorbar": {
             "outlinewidth": 0,
             "ticks": ""
            },
            "colorscale": [
             [
              0,
              "#0d0887"
             ],
             [
              0.1111111111111111,
              "#46039f"
             ],
             [
              0.2222222222222222,
              "#7201a8"
             ],
             [
              0.3333333333333333,
              "#9c179e"
             ],
             [
              0.4444444444444444,
              "#bd3786"
             ],
             [
              0.5555555555555556,
              "#d8576b"
             ],
             [
              0.6666666666666666,
              "#ed7953"
             ],
             [
              0.7777777777777778,
              "#fb9f3a"
             ],
             [
              0.8888888888888888,
              "#fdca26"
             ],
             [
              1,
              "#f0f921"
             ]
            ],
            "type": "histogram2d"
           }
          ],
          "histogram2dcontour": [
           {
            "colorbar": {
             "outlinewidth": 0,
             "ticks": ""
            },
            "colorscale": [
             [
              0,
              "#0d0887"
             ],
             [
              0.1111111111111111,
              "#46039f"
             ],
             [
              0.2222222222222222,
              "#7201a8"
             ],
             [
              0.3333333333333333,
              "#9c179e"
             ],
             [
              0.4444444444444444,
              "#bd3786"
             ],
             [
              0.5555555555555556,
              "#d8576b"
             ],
             [
              0.6666666666666666,
              "#ed7953"
             ],
             [
              0.7777777777777778,
              "#fb9f3a"
             ],
             [
              0.8888888888888888,
              "#fdca26"
             ],
             [
              1,
              "#f0f921"
             ]
            ],
            "type": "histogram2dcontour"
           }
          ],
          "mesh3d": [
           {
            "colorbar": {
             "outlinewidth": 0,
             "ticks": ""
            },
            "type": "mesh3d"
           }
          ],
          "parcoords": [
           {
            "line": {
             "colorbar": {
              "outlinewidth": 0,
              "ticks": ""
             }
            },
            "type": "parcoords"
           }
          ],
          "pie": [
           {
            "automargin": true,
            "type": "pie"
           }
          ],
          "scatter": [
           {
            "fillpattern": {
             "fillmode": "overlay",
             "size": 10,
             "solidity": 0.2
            },
            "type": "scatter"
           }
          ],
          "scatter3d": [
           {
            "line": {
             "colorbar": {
              "outlinewidth": 0,
              "ticks": ""
             }
            },
            "marker": {
             "colorbar": {
              "outlinewidth": 0,
              "ticks": ""
             }
            },
            "type": "scatter3d"
           }
          ],
          "scattercarpet": [
           {
            "marker": {
             "colorbar": {
              "outlinewidth": 0,
              "ticks": ""
             }
            },
            "type": "scattercarpet"
           }
          ],
          "scattergeo": [
           {
            "marker": {
             "colorbar": {
              "outlinewidth": 0,
              "ticks": ""
             }
            },
            "type": "scattergeo"
           }
          ],
          "scattergl": [
           {
            "marker": {
             "colorbar": {
              "outlinewidth": 0,
              "ticks": ""
             }
            },
            "type": "scattergl"
           }
          ],
          "scattermapbox": [
           {
            "marker": {
             "colorbar": {
              "outlinewidth": 0,
              "ticks": ""
             }
            },
            "type": "scattermapbox"
           }
          ],
          "scatterpolar": [
           {
            "marker": {
             "colorbar": {
              "outlinewidth": 0,
              "ticks": ""
             }
            },
            "type": "scatterpolar"
           }
          ],
          "scatterpolargl": [
           {
            "marker": {
             "colorbar": {
              "outlinewidth": 0,
              "ticks": ""
             }
            },
            "type": "scatterpolargl"
           }
          ],
          "scatterternary": [
           {
            "marker": {
             "colorbar": {
              "outlinewidth": 0,
              "ticks": ""
             }
            },
            "type": "scatterternary"
           }
          ],
          "surface": [
           {
            "colorbar": {
             "outlinewidth": 0,
             "ticks": ""
            },
            "colorscale": [
             [
              0,
              "#0d0887"
             ],
             [
              0.1111111111111111,
              "#46039f"
             ],
             [
              0.2222222222222222,
              "#7201a8"
             ],
             [
              0.3333333333333333,
              "#9c179e"
             ],
             [
              0.4444444444444444,
              "#bd3786"
             ],
             [
              0.5555555555555556,
              "#d8576b"
             ],
             [
              0.6666666666666666,
              "#ed7953"
             ],
             [
              0.7777777777777778,
              "#fb9f3a"
             ],
             [
              0.8888888888888888,
              "#fdca26"
             ],
             [
              1,
              "#f0f921"
             ]
            ],
            "type": "surface"
           }
          ],
          "table": [
           {
            "cells": {
             "fill": {
              "color": "#EBF0F8"
             },
             "line": {
              "color": "white"
             }
            },
            "header": {
             "fill": {
              "color": "#C8D4E3"
             },
             "line": {
              "color": "white"
             }
            },
            "type": "table"
           }
          ]
         },
         "layout": {
          "annotationdefaults": {
           "arrowcolor": "#2a3f5f",
           "arrowhead": 0,
           "arrowwidth": 1
          },
          "autotypenumbers": "strict",
          "coloraxis": {
           "colorbar": {
            "outlinewidth": 0,
            "ticks": ""
           }
          },
          "colorscale": {
           "diverging": [
            [
             0,
             "#8e0152"
            ],
            [
             0.1,
             "#c51b7d"
            ],
            [
             0.2,
             "#de77ae"
            ],
            [
             0.3,
             "#f1b6da"
            ],
            [
             0.4,
             "#fde0ef"
            ],
            [
             0.5,
             "#f7f7f7"
            ],
            [
             0.6,
             "#e6f5d0"
            ],
            [
             0.7,
             "#b8e186"
            ],
            [
             0.8,
             "#7fbc41"
            ],
            [
             0.9,
             "#4d9221"
            ],
            [
             1,
             "#276419"
            ]
           ],
           "sequential": [
            [
             0,
             "#0d0887"
            ],
            [
             0.1111111111111111,
             "#46039f"
            ],
            [
             0.2222222222222222,
             "#7201a8"
            ],
            [
             0.3333333333333333,
             "#9c179e"
            ],
            [
             0.4444444444444444,
             "#bd3786"
            ],
            [
             0.5555555555555556,
             "#d8576b"
            ],
            [
             0.6666666666666666,
             "#ed7953"
            ],
            [
             0.7777777777777778,
             "#fb9f3a"
            ],
            [
             0.8888888888888888,
             "#fdca26"
            ],
            [
             1,
             "#f0f921"
            ]
           ],
           "sequentialminus": [
            [
             0,
             "#0d0887"
            ],
            [
             0.1111111111111111,
             "#46039f"
            ],
            [
             0.2222222222222222,
             "#7201a8"
            ],
            [
             0.3333333333333333,
             "#9c179e"
            ],
            [
             0.4444444444444444,
             "#bd3786"
            ],
            [
             0.5555555555555556,
             "#d8576b"
            ],
            [
             0.6666666666666666,
             "#ed7953"
            ],
            [
             0.7777777777777778,
             "#fb9f3a"
            ],
            [
             0.8888888888888888,
             "#fdca26"
            ],
            [
             1,
             "#f0f921"
            ]
           ]
          },
          "colorway": [
           "#636efa",
           "#EF553B",
           "#00cc96",
           "#ab63fa",
           "#FFA15A",
           "#19d3f3",
           "#FF6692",
           "#B6E880",
           "#FF97FF",
           "#FECB52"
          ],
          "font": {
           "color": "#2a3f5f"
          },
          "geo": {
           "bgcolor": "white",
           "lakecolor": "white",
           "landcolor": "#E5ECF6",
           "showlakes": true,
           "showland": true,
           "subunitcolor": "white"
          },
          "hoverlabel": {
           "align": "left"
          },
          "hovermode": "closest",
          "mapbox": {
           "style": "light"
          },
          "paper_bgcolor": "white",
          "plot_bgcolor": "#E5ECF6",
          "polar": {
           "angularaxis": {
            "gridcolor": "white",
            "linecolor": "white",
            "ticks": ""
           },
           "bgcolor": "#E5ECF6",
           "radialaxis": {
            "gridcolor": "white",
            "linecolor": "white",
            "ticks": ""
           }
          },
          "scene": {
           "xaxis": {
            "backgroundcolor": "#E5ECF6",
            "gridcolor": "white",
            "gridwidth": 2,
            "linecolor": "white",
            "showbackground": true,
            "ticks": "",
            "zerolinecolor": "white"
           },
           "yaxis": {
            "backgroundcolor": "#E5ECF6",
            "gridcolor": "white",
            "gridwidth": 2,
            "linecolor": "white",
            "showbackground": true,
            "ticks": "",
            "zerolinecolor": "white"
           },
           "zaxis": {
            "backgroundcolor": "#E5ECF6",
            "gridcolor": "white",
            "gridwidth": 2,
            "linecolor": "white",
            "showbackground": true,
            "ticks": "",
            "zerolinecolor": "white"
           }
          },
          "shapedefaults": {
           "line": {
            "color": "#2a3f5f"
           }
          },
          "ternary": {
           "aaxis": {
            "gridcolor": "white",
            "linecolor": "white",
            "ticks": ""
           },
           "baxis": {
            "gridcolor": "white",
            "linecolor": "white",
            "ticks": ""
           },
           "bgcolor": "#E5ECF6",
           "caxis": {
            "gridcolor": "white",
            "linecolor": "white",
            "ticks": ""
           }
          },
          "title": {
           "x": 0.05
          },
          "xaxis": {
           "automargin": true,
           "gridcolor": "white",
           "linecolor": "white",
           "ticks": "",
           "title": {
            "standoff": 15
           },
           "zerolinecolor": "white",
           "zerolinewidth": 2
          },
          "yaxis": {
           "automargin": true,
           "gridcolor": "white",
           "linecolor": "white",
           "ticks": "",
           "title": {
            "standoff": 15
           },
           "zerolinecolor": "white",
           "zerolinewidth": 2
          }
         }
        },
        "title": {
         "text": "Perempuan Marga Batak Umur 24-35 Kota Bekasi"
        },
        "width": 500,
        "xaxis": {
         "anchor": "y",
         "constrain": "domain",
         "domain": [
          0,
          1
         ],
         "scaleanchor": "y",
         "title": {
          "text": "nama_batak"
         }
        },
        "yaxis": {
         "anchor": "x",
         "autorange": "reversed",
         "constrain": "domain",
         "domain": [
          0,
          1
         ],
         "title": {
          "text": "kecamatan"
         }
        }
       }
      }
     },
     "metadata": {},
     "output_type": "display_data"
    }
   ],
   "source": [
    "fig = px.imshow(heat_jodoh_batak_P, x=heat_jodoh_batak_P.columns, y=heat_jodoh_batak_P.index,text_auto=True,\n",
    "                title='Perempuan Marga Batak Umur 24-35 Kota Bekasi')\n",
    "fig.update_layout(width=500,height=500)\n",
    "fig.show()"
   ]
  },
  {
   "cell_type": "code",
   "execution_count": 99,
   "metadata": {},
   "outputs": [
    {
     "data": {
      "text/html": [
       "<div>\n",
       "<style scoped>\n",
       "    .dataframe tbody tr th:only-of-type {\n",
       "        vertical-align: middle;\n",
       "    }\n",
       "\n",
       "    .dataframe tbody tr th {\n",
       "        vertical-align: top;\n",
       "    }\n",
       "\n",
       "    .dataframe thead th {\n",
       "        text-align: right;\n",
       "    }\n",
       "</style>\n",
       "<table border=\"1\" class=\"dataframe\">\n",
       "  <thead>\n",
       "    <tr style=\"text-align: right;\">\n",
       "      <th></th>\n",
       "      <th>kecamatan</th>\n",
       "      <th>nama_batak</th>\n",
       "      <th>nama</th>\n",
       "    </tr>\n",
       "  </thead>\n",
       "  <tbody>\n",
       "    <tr>\n",
       "      <th>223</th>\n",
       "      <td>BEKASI BARAT</td>\n",
       "      <td>siregar</td>\n",
       "      <td>42</td>\n",
       "    </tr>\n",
       "    <tr>\n",
       "      <th>939</th>\n",
       "      <td>BEKASI UTARA</td>\n",
       "      <td>siregar</td>\n",
       "      <td>41</td>\n",
       "    </tr>\n",
       "    <tr>\n",
       "      <th>2392</th>\n",
       "      <td>RAWA LUMBU</td>\n",
       "      <td>sinaga</td>\n",
       "      <td>39</td>\n",
       "    </tr>\n",
       "    <tr>\n",
       "      <th>1183</th>\n",
       "      <td>JATIASIH</td>\n",
       "      <td>siregar</td>\n",
       "      <td>36</td>\n",
       "    </tr>\n",
       "    <tr>\n",
       "      <th>2348</th>\n",
       "      <td>RAWA LUMBU</td>\n",
       "      <td>purba</td>\n",
       "      <td>36</td>\n",
       "    </tr>\n",
       "    <tr>\n",
       "      <th>2385</th>\n",
       "      <td>RAWA LUMBU</td>\n",
       "      <td>simanjuntak</td>\n",
       "      <td>32</td>\n",
       "    </tr>\n",
       "    <tr>\n",
       "      <th>208</th>\n",
       "      <td>BEKASI BARAT</td>\n",
       "      <td>simanjuntak</td>\n",
       "      <td>29</td>\n",
       "    </tr>\n",
       "    <tr>\n",
       "      <th>132</th>\n",
       "      <td>BEKASI BARAT</td>\n",
       "      <td>harahap</td>\n",
       "      <td>28</td>\n",
       "    </tr>\n",
       "    <tr>\n",
       "      <th>1959</th>\n",
       "      <td>PONDOK GEDE</td>\n",
       "      <td>siregar</td>\n",
       "      <td>26</td>\n",
       "    </tr>\n",
       "    <tr>\n",
       "      <th>1878</th>\n",
       "      <td>PONDOK GEDE</td>\n",
       "      <td>harahap</td>\n",
       "      <td>25</td>\n",
       "    </tr>\n",
       "  </tbody>\n",
       "</table>\n",
       "</div>"
      ],
      "text/plain": [
       "         kecamatan   nama_batak  nama\n",
       "223   BEKASI BARAT      siregar    42\n",
       "939   BEKASI UTARA      siregar    41\n",
       "2392    RAWA LUMBU       sinaga    39\n",
       "1183      JATIASIH      siregar    36\n",
       "2348    RAWA LUMBU        purba    36\n",
       "2385    RAWA LUMBU  simanjuntak    32\n",
       "208   BEKASI BARAT  simanjuntak    29\n",
       "132   BEKASI BARAT      harahap    28\n",
       "1959   PONDOK GEDE      siregar    26\n",
       "1878   PONDOK GEDE      harahap    25"
      ]
     },
     "execution_count": 99,
     "metadata": {},
     "output_type": "execute_result"
    }
   ],
   "source": [
    "jodoh_batak_L.sort_values('nama',ascending=False).head(10)"
   ]
  },
  {
   "attachments": {},
   "cell_type": "markdown",
   "metadata": {},
   "source": [
    "### inisial R"
   ]
  },
  {
   "cell_type": "code",
   "execution_count": 141,
   "metadata": {},
   "outputs": [
    {
     "data": {
      "text/html": [
       "<div>\n",
       "<style scoped>\n",
       "    .dataframe tbody tr th:only-of-type {\n",
       "        vertical-align: middle;\n",
       "    }\n",
       "\n",
       "    .dataframe tbody tr th {\n",
       "        vertical-align: top;\n",
       "    }\n",
       "\n",
       "    .dataframe thead th {\n",
       "        text-align: right;\n",
       "    }\n",
       "</style>\n",
       "<table border=\"1\" class=\"dataframe\">\n",
       "  <thead>\n",
       "    <tr style=\"text-align: right;\">\n",
       "      <th></th>\n",
       "      <th>nama</th>\n",
       "      <th>provinsi</th>\n",
       "      <th>kab_kota</th>\n",
       "      <th>kecamatan</th>\n",
       "      <th>desa</th>\n",
       "      <th>inisial_r</th>\n",
       "      <th>tahun_lahir</th>\n",
       "      <th>jenisKelamin</th>\n",
       "      <th>umur</th>\n",
       "    </tr>\n",
       "  </thead>\n",
       "  <tbody>\n",
       "    <tr>\n",
       "      <th>0</th>\n",
       "      <td>RUDI SUNDARI</td>\n",
       "      <td>JAWA BARAT</td>\n",
       "      <td>GARUT</td>\n",
       "      <td>BANJARWANGI</td>\n",
       "      <td>WANGUNJAYA</td>\n",
       "      <td>rudi</td>\n",
       "      <td>10.0</td>\n",
       "      <td>L</td>\n",
       "      <td>113.0</td>\n",
       "    </tr>\n",
       "    <tr>\n",
       "      <th>4</th>\n",
       "      <td>DANI R</td>\n",
       "      <td>JAWA BARAT</td>\n",
       "      <td>GARUT</td>\n",
       "      <td>BANJARWANGI</td>\n",
       "      <td>WANGUNJAYA</td>\n",
       "      <td>r</td>\n",
       "      <td>85.0</td>\n",
       "      <td>L</td>\n",
       "      <td>38.0</td>\n",
       "    </tr>\n",
       "    <tr>\n",
       "      <th>5</th>\n",
       "      <td>RIZAL H</td>\n",
       "      <td>JAWA BARAT</td>\n",
       "      <td>GARUT</td>\n",
       "      <td>BANJARWANGI</td>\n",
       "      <td>WANGUNJAYA</td>\n",
       "      <td>rizal</td>\n",
       "      <td>72.0</td>\n",
       "      <td>L</td>\n",
       "      <td>51.0</td>\n",
       "    </tr>\n",
       "    <tr>\n",
       "      <th>6</th>\n",
       "      <td>RISMAN</td>\n",
       "      <td>JAWA BARAT</td>\n",
       "      <td>GARUT</td>\n",
       "      <td>BANJARWANGI</td>\n",
       "      <td>WANGUNJAYA</td>\n",
       "      <td>risman</td>\n",
       "      <td>93.0</td>\n",
       "      <td>L</td>\n",
       "      <td>30.0</td>\n",
       "    </tr>\n",
       "    <tr>\n",
       "      <th>7</th>\n",
       "      <td>MUHAMAD RIDWAN</td>\n",
       "      <td>JAWA BARAT</td>\n",
       "      <td>GARUT</td>\n",
       "      <td>BANJARWANGI</td>\n",
       "      <td>WANGUNJAYA</td>\n",
       "      <td>ridwan</td>\n",
       "      <td>98.0</td>\n",
       "      <td>L</td>\n",
       "      <td>25.0</td>\n",
       "    </tr>\n",
       "    <tr>\n",
       "      <th>8</th>\n",
       "      <td>ROHMAN</td>\n",
       "      <td>JAWA BARAT</td>\n",
       "      <td>GARUT</td>\n",
       "      <td>BANJARWANGI</td>\n",
       "      <td>WANGUNJAYA</td>\n",
       "      <td>rohman</td>\n",
       "      <td>77.0</td>\n",
       "      <td>L</td>\n",
       "      <td>46.0</td>\n",
       "    </tr>\n",
       "    <tr>\n",
       "      <th>13</th>\n",
       "      <td>SLAMET RIADI</td>\n",
       "      <td>JAWA BARAT</td>\n",
       "      <td>GARUT</td>\n",
       "      <td>BANJARWANGI</td>\n",
       "      <td>WANGUNJAYA</td>\n",
       "      <td>riadi</td>\n",
       "      <td>76.0</td>\n",
       "      <td>L</td>\n",
       "      <td>47.0</td>\n",
       "    </tr>\n",
       "    <tr>\n",
       "      <th>16</th>\n",
       "      <td>RIDWAN</td>\n",
       "      <td>JAWA BARAT</td>\n",
       "      <td>GARUT</td>\n",
       "      <td>BANJARWANGI</td>\n",
       "      <td>WANGUNJAYA</td>\n",
       "      <td>ridwan</td>\n",
       "      <td>98.0</td>\n",
       "      <td>L</td>\n",
       "      <td>25.0</td>\n",
       "    </tr>\n",
       "    <tr>\n",
       "      <th>18</th>\n",
       "      <td>ADE RONI</td>\n",
       "      <td>JAWA BARAT</td>\n",
       "      <td>GARUT</td>\n",
       "      <td>BANYURESMI</td>\n",
       "      <td>BAGENDIT</td>\n",
       "      <td>roni</td>\n",
       "      <td>95.0</td>\n",
       "      <td>L</td>\n",
       "      <td>28.0</td>\n",
       "    </tr>\n",
       "    <tr>\n",
       "      <th>19</th>\n",
       "      <td>RIZAL</td>\n",
       "      <td>JAWA BARAT</td>\n",
       "      <td>GARUT</td>\n",
       "      <td>BANYURESMI</td>\n",
       "      <td>BAGENDIT</td>\n",
       "      <td>rizal</td>\n",
       "      <td>99.0</td>\n",
       "      <td>L</td>\n",
       "      <td>24.0</td>\n",
       "    </tr>\n",
       "  </tbody>\n",
       "</table>\n",
       "</div>"
      ],
      "text/plain": [
       "              nama    provinsi kab_kota    kecamatan        desa inisial_r   \n",
       "0     RUDI SUNDARI  JAWA BARAT    GARUT  BANJARWANGI  WANGUNJAYA      rudi  \\\n",
       "4           DANI R  JAWA BARAT    GARUT  BANJARWANGI  WANGUNJAYA         r   \n",
       "5          RIZAL H  JAWA BARAT    GARUT  BANJARWANGI  WANGUNJAYA     rizal   \n",
       "6           RISMAN  JAWA BARAT    GARUT  BANJARWANGI  WANGUNJAYA    risman   \n",
       "7   MUHAMAD RIDWAN  JAWA BARAT    GARUT  BANJARWANGI  WANGUNJAYA    ridwan   \n",
       "8           ROHMAN  JAWA BARAT    GARUT  BANJARWANGI  WANGUNJAYA    rohman   \n",
       "13    SLAMET RIADI  JAWA BARAT    GARUT  BANJARWANGI  WANGUNJAYA     riadi   \n",
       "16          RIDWAN  JAWA BARAT    GARUT  BANJARWANGI  WANGUNJAYA    ridwan   \n",
       "18        ADE RONI  JAWA BARAT    GARUT   BANYURESMI    BAGENDIT      roni   \n",
       "19           RIZAL  JAWA BARAT    GARUT   BANYURESMI    BAGENDIT     rizal   \n",
       "\n",
       "    tahun_lahir jenisKelamin   umur  \n",
       "0          10.0            L  113.0  \n",
       "4          85.0            L   38.0  \n",
       "5          72.0            L   51.0  \n",
       "6          93.0            L   30.0  \n",
       "7          98.0            L   25.0  \n",
       "8          77.0            L   46.0  \n",
       "13         76.0            L   47.0  \n",
       "16         98.0            L   25.0  \n",
       "18         95.0            L   28.0  \n",
       "19         99.0            L   24.0  "
      ]
     },
     "execution_count": 141,
     "metadata": {},
     "output_type": "execute_result"
    }
   ],
   "source": [
    "inisial_r = con.sql(\"SELECT nama, provinsi, kab_kota, kecamatan, desa, inisial_r, tahun_lahir, jenisKelamin FROM entity_with_coordinate2 WHERE inisial_r IS NOT NULL\").fetchdf()\n",
    "inisial_r['umur'] = datetime.now().year - inisial_r['tahun_lahir'] - 1900\n",
    "inisial_r = inisial_r[inisial_r.jenisKelamin=='L']\n",
    "inisial_r.head(10)\n"
   ]
  },
  {
   "cell_type": "code",
   "execution_count": 144,
   "metadata": {},
   "outputs": [
    {
     "data": {
      "text/html": [
       "<div>\n",
       "<style scoped>\n",
       "    .dataframe tbody tr th:only-of-type {\n",
       "        vertical-align: middle;\n",
       "    }\n",
       "\n",
       "    .dataframe tbody tr th {\n",
       "        vertical-align: top;\n",
       "    }\n",
       "\n",
       "    .dataframe thead th {\n",
       "        text-align: right;\n",
       "    }\n",
       "</style>\n",
       "<table border=\"1\" class=\"dataframe\">\n",
       "  <thead>\n",
       "    <tr style=\"text-align: right;\">\n",
       "      <th></th>\n",
       "      <th>nama</th>\n",
       "      <th>provinsi</th>\n",
       "      <th>kab_kota</th>\n",
       "      <th>kecamatan</th>\n",
       "      <th>desa</th>\n",
       "      <th>inisial_r</th>\n",
       "      <th>tahun_lahir</th>\n",
       "      <th>jenisKelamin</th>\n",
       "      <th>umur</th>\n",
       "    </tr>\n",
       "  </thead>\n",
       "  <tbody>\n",
       "    <tr>\n",
       "      <th>6</th>\n",
       "      <td>RISMAN</td>\n",
       "      <td>JAWA BARAT</td>\n",
       "      <td>GARUT</td>\n",
       "      <td>BANJARWANGI</td>\n",
       "      <td>WANGUNJAYA</td>\n",
       "      <td>risman</td>\n",
       "      <td>93.0</td>\n",
       "      <td>L</td>\n",
       "      <td>30.0</td>\n",
       "    </tr>\n",
       "    <tr>\n",
       "      <th>7</th>\n",
       "      <td>MUHAMAD RIDWAN</td>\n",
       "      <td>JAWA BARAT</td>\n",
       "      <td>GARUT</td>\n",
       "      <td>BANJARWANGI</td>\n",
       "      <td>WANGUNJAYA</td>\n",
       "      <td>ridwan</td>\n",
       "      <td>98.0</td>\n",
       "      <td>L</td>\n",
       "      <td>25.0</td>\n",
       "    </tr>\n",
       "    <tr>\n",
       "      <th>16</th>\n",
       "      <td>RIDWAN</td>\n",
       "      <td>JAWA BARAT</td>\n",
       "      <td>GARUT</td>\n",
       "      <td>BANJARWANGI</td>\n",
       "      <td>WANGUNJAYA</td>\n",
       "      <td>ridwan</td>\n",
       "      <td>98.0</td>\n",
       "      <td>L</td>\n",
       "      <td>25.0</td>\n",
       "    </tr>\n",
       "  </tbody>\n",
       "</table>\n",
       "</div>"
      ],
      "text/plain": [
       "              nama    provinsi kab_kota    kecamatan        desa inisial_r   \n",
       "6           RISMAN  JAWA BARAT    GARUT  BANJARWANGI  WANGUNJAYA    risman  \\\n",
       "7   MUHAMAD RIDWAN  JAWA BARAT    GARUT  BANJARWANGI  WANGUNJAYA    ridwan   \n",
       "16          RIDWAN  JAWA BARAT    GARUT  BANJARWANGI  WANGUNJAYA    ridwan   \n",
       "\n",
       "    tahun_lahir jenisKelamin  umur  \n",
       "6          93.0            L  30.0  \n",
       "7          98.0            L  25.0  \n",
       "16         98.0            L  25.0  "
      ]
     },
     "execution_count": 144,
     "metadata": {},
     "output_type": "execute_result"
    }
   ],
   "source": [
    "inisial_r_muda = inisial_r[(inisial_r.umur>=24)&(inisial_r.umur<=35)]\n",
    "inisial_r_muda.head(3)"
   ]
  },
  {
   "cell_type": "code",
   "execution_count": 123,
   "metadata": {},
   "outputs": [
    {
     "data": {
      "text/html": [
       "<div>\n",
       "<style scoped>\n",
       "    .dataframe tbody tr th:only-of-type {\n",
       "        vertical-align: middle;\n",
       "    }\n",
       "\n",
       "    .dataframe tbody tr th {\n",
       "        vertical-align: top;\n",
       "    }\n",
       "\n",
       "    .dataframe thead th {\n",
       "        text-align: right;\n",
       "    }\n",
       "</style>\n",
       "<table border=\"1\" class=\"dataframe\">\n",
       "  <thead>\n",
       "    <tr style=\"text-align: right;\">\n",
       "      <th></th>\n",
       "      <th>kab_kota</th>\n",
       "      <th>kecamatan</th>\n",
       "      <th>desa</th>\n",
       "      <th>nama</th>\n",
       "    </tr>\n",
       "  </thead>\n",
       "  <tbody>\n",
       "    <tr>\n",
       "      <th>1440</th>\n",
       "      <td>CIANJUR</td>\n",
       "      <td>CIKADU</td>\n",
       "      <td>MEKARJAYA</td>\n",
       "      <td>6</td>\n",
       "    </tr>\n",
       "    <tr>\n",
       "      <th>3854</th>\n",
       "      <td>KUNINGAN</td>\n",
       "      <td>GARAWANGI</td>\n",
       "      <td>SUKAIMUT</td>\n",
       "      <td>7</td>\n",
       "    </tr>\n",
       "    <tr>\n",
       "      <th>4084</th>\n",
       "      <td>MAJALENGKA</td>\n",
       "      <td>BANJARAN</td>\n",
       "      <td>PANYINDANGAN</td>\n",
       "      <td>7</td>\n",
       "    </tr>\n",
       "  </tbody>\n",
       "</table>\n",
       "</div>"
      ],
      "text/plain": [
       "        kab_kota  kecamatan          desa  nama\n",
       "1440     CIANJUR     CIKADU     MEKARJAYA     6\n",
       "3854    KUNINGAN  GARAWANGI      SUKAIMUT     7\n",
       "4084  MAJALENGKA   BANJARAN  PANYINDANGAN     7"
      ]
     },
     "execution_count": 123,
     "metadata": {},
     "output_type": "execute_result"
    }
   ],
   "source": [
    "inisial_r_muda_kumulative = inisial_r_muda.groupby(['kab_kota','kecamatan','desa']).nama.count().to_frame().reset_index().sort_values('nama')\n",
    "inisial_r_muda_kumulative.head(3)"
   ]
  },
  {
   "cell_type": "code",
   "execution_count": 122,
   "metadata": {},
   "outputs": [
    {
     "data": {
      "text/html": [
       "<div>\n",
       "<style scoped>\n",
       "    .dataframe tbody tr th:only-of-type {\n",
       "        vertical-align: middle;\n",
       "    }\n",
       "\n",
       "    .dataframe tbody tr th {\n",
       "        vertical-align: top;\n",
       "    }\n",
       "\n",
       "    .dataframe thead th {\n",
       "        text-align: right;\n",
       "    }\n",
       "</style>\n",
       "<table border=\"1\" class=\"dataframe\">\n",
       "  <thead>\n",
       "    <tr style=\"text-align: right;\">\n",
       "      <th></th>\n",
       "      <th>provinsi</th>\n",
       "      <th>kab_kota</th>\n",
       "      <th>kecamatan</th>\n",
       "      <th>desa</th>\n",
       "      <th>lat</th>\n",
       "      <th>long</th>\n",
       "    </tr>\n",
       "  </thead>\n",
       "  <tbody>\n",
       "    <tr>\n",
       "      <th>0</th>\n",
       "      <td>JAWA BARAT</td>\n",
       "      <td>BANDUNG</td>\n",
       "      <td>MAJALAYA</td>\n",
       "      <td>SUKAMAJU</td>\n",
       "      <td>-7.05177</td>\n",
       "      <td>107.75618</td>\n",
       "    </tr>\n",
       "    <tr>\n",
       "      <th>1</th>\n",
       "      <td>JAWA BARAT</td>\n",
       "      <td>CIANJUR</td>\n",
       "      <td>CIRANJANG</td>\n",
       "      <td>CIRANJANG</td>\n",
       "      <td>-6.80765</td>\n",
       "      <td>107.27754</td>\n",
       "    </tr>\n",
       "    <tr>\n",
       "      <th>2</th>\n",
       "      <td>JAWA BARAT</td>\n",
       "      <td>BANDUNG</td>\n",
       "      <td>MAJALAYA</td>\n",
       "      <td>BIRU</td>\n",
       "      <td>-7.05323</td>\n",
       "      <td>107.72817</td>\n",
       "    </tr>\n",
       "  </tbody>\n",
       "</table>\n",
       "</div>"
      ],
      "text/plain": [
       "     provinsi kab_kota  kecamatan       desa      lat       long\n",
       "0  JAWA BARAT  BANDUNG   MAJALAYA   SUKAMAJU -7.05177  107.75618\n",
       "1  JAWA BARAT  CIANJUR  CIRANJANG  CIRANJANG -6.80765  107.27754\n",
       "2  JAWA BARAT  BANDUNG   MAJALAYA       BIRU -7.05323  107.72817"
      ]
     },
     "execution_count": 122,
     "metadata": {},
     "output_type": "execute_result"
    }
   ],
   "source": [
    "map_coordinate = pd.read_csv('clean_coordinate.csv')\n",
    "map_coordinate = map_coordinate[['provinsi','kab_kota','kecamatan','desa','lat','long']]\n",
    "map_coordinate.head(3)"
   ]
  },
  {
   "cell_type": "code",
   "execution_count": 126,
   "metadata": {},
   "outputs": [
    {
     "data": {
      "text/html": [
       "<div>\n",
       "<style scoped>\n",
       "    .dataframe tbody tr th:only-of-type {\n",
       "        vertical-align: middle;\n",
       "    }\n",
       "\n",
       "    .dataframe tbody tr th {\n",
       "        vertical-align: top;\n",
       "    }\n",
       "\n",
       "    .dataframe thead th {\n",
       "        text-align: right;\n",
       "    }\n",
       "</style>\n",
       "<table border=\"1\" class=\"dataframe\">\n",
       "  <thead>\n",
       "    <tr style=\"text-align: right;\">\n",
       "      <th></th>\n",
       "      <th>kab_kota</th>\n",
       "      <th>kecamatan</th>\n",
       "      <th>desa</th>\n",
       "      <th>nama</th>\n",
       "      <th>provinsi</th>\n",
       "      <th>lat</th>\n",
       "      <th>long</th>\n",
       "    </tr>\n",
       "  </thead>\n",
       "  <tbody>\n",
       "    <tr>\n",
       "      <th>0</th>\n",
       "      <td>CIANJUR</td>\n",
       "      <td>CIKADU</td>\n",
       "      <td>MEKARJAYA</td>\n",
       "      <td>6</td>\n",
       "      <td>JAWA BARAT</td>\n",
       "      <td>-7.312950</td>\n",
       "      <td>107.209110</td>\n",
       "    </tr>\n",
       "    <tr>\n",
       "      <th>1</th>\n",
       "      <td>KUNINGAN</td>\n",
       "      <td>GARAWANGI</td>\n",
       "      <td>SUKAIMUT</td>\n",
       "      <td>7</td>\n",
       "      <td>JAWA BARAT</td>\n",
       "      <td>-7.001610</td>\n",
       "      <td>108.549110</td>\n",
       "    </tr>\n",
       "    <tr>\n",
       "      <th>2</th>\n",
       "      <td>MAJALENGKA</td>\n",
       "      <td>BANJARAN</td>\n",
       "      <td>PANYINDANGAN</td>\n",
       "      <td>7</td>\n",
       "      <td>JAWA BARAT</td>\n",
       "      <td>-6.954112</td>\n",
       "      <td>108.318756</td>\n",
       "    </tr>\n",
       "  </tbody>\n",
       "</table>\n",
       "</div>"
      ],
      "text/plain": [
       "     kab_kota  kecamatan          desa  nama    provinsi       lat        long\n",
       "0     CIANJUR     CIKADU     MEKARJAYA     6  JAWA BARAT -7.312950  107.209110\n",
       "1    KUNINGAN  GARAWANGI      SUKAIMUT     7  JAWA BARAT -7.001610  108.549110\n",
       "2  MAJALENGKA   BANJARAN  PANYINDANGAN     7  JAWA BARAT -6.954112  108.318756"
      ]
     },
     "execution_count": 126,
     "metadata": {},
     "output_type": "execute_result"
    }
   ],
   "source": [
    "inisial_r_coordinate = pd.merge(inisial_r_muda_kumulative,map_coordinate,how='left',on=['kab_kota','kecamatan','desa'])\n",
    "inisial_r_coordinate.head(3)"
   ]
  },
  {
   "cell_type": "code",
   "execution_count": 131,
   "metadata": {},
   "outputs": [
    {
     "data": {
      "application/vnd.plotly.v1+json": {
       "config": {
        "plotlyServerURL": "https://plot.ly"
       },
       "data": [
        {
         "coloraxis": "coloraxis",
         "hovertemplate": "nama=%{z}<br>lat=%{lat}<br>long=%{lon}<extra></extra>",
         "lat": [
          -7.312949999999944,
          -7.001609999999971,
          -6.9541120529174805,
          -6.978149890899658,
          -6.830169999999953,
          -6.313499927520752,
          -7.056139945983887,
          -6.858809999999949,
          -6.919599999999946,
          -7.102761745452881,
          -7.837500095367432,
          null,
          -6.912860870361328,
          -7.2042999267578125,
          -6.835883140563965,
          null,
          -6.623854160308838,
          -7.185988903045654,
          -7.011590003967285,
          -6.896800518035889,
          -6.232999801635742,
          -6.567677974700928,
          -6.896100044250488,
          -7.04072999999994,
          -6.785709857940674,
          -7.070985794067383,
          -6.868008136749268,
          -6.830169999999953,
          -7.087750911712647,
          -7.008407115936279,
          null,
          -6.519857883453369,
          -7.065770149230957,
          -7.042699999999968,
          -6.57390022277832,
          -6.97524881362915,
          -7.006490230560303,
          -6.602319999999963,
          -6.916024208068848,
          -7.023282051086426,
          -7.00273999999996,
          -7.254389762878418,
          -7.692279815673828,
          -7.083499999999958,
          -7.638000011444092,
          -6.885254383087158,
          -6.473549842834473,
          -6.808901786804199,
          -6.852172374725342,
          -6.572299957275391,
          -6.68707999999998,
          -7.02804708480835,
          -6.5046000480651855,
          -7.015859999999975,
          -6.474999904632568,
          -6.971315860748291,
          -7.71750020980835,
          -6.292799949645996,
          -7.177134037017822,
          -7.748499870300293,
          -6.379288196563721,
          null,
          -6.470300197601318,
          null,
          -7.230999946594238,
          -6.857619762420654,
          -6.874686241149902,
          -7.310510158538818,
          -7.081299781799316,
          -6.545400142669678,
          -7.270759999999939,
          -6.37559986114502,
          -7.21133279800415,
          -6.21835994720459,
          -6.48360013961792,
          -6.563799858093262,
          -6.472599983215332,
          -7.239999771118164,
          -7.261000156402588,
          null,
          -7.321199893951416,
          -6.269999980926514,
          -6.418819999999926,
          -6.563199996948242,
          -6.412300109863281,
          -7.0475897789001465,
          -7.104599999999948,
          -7.272034645080566,
          -6.302499771118164,
          -6.978149999999971,
          -7.547969999999964,
          -7.021059036254883,
          -6.97346830368042,
          -6.989933013916016,
          -6.58608865737915,
          -7.235000133514404,
          -6.503699779510498,
          -7.265699863433838,
          -7.242800235748291,
          -6.527400016784668,
          -7.150109999999927,
          -7.136336803436279,
          -7.041259765625,
          -6.421010494232178,
          -7.639999866485596,
          -7.225629806518555,
          -6.059100151062012,
          -6.89277982711792,
          -6.853099822998047,
          -6.5,
          -7.746469974517822,
          -6.906099796295166,
          -6.497000217437744,
          -6.395249843597412,
          -6.692359924316406,
          -6.623439788818359,
          -7.24399995803833,
          -6.531400203704834,
          -6.830169999999953,
          -6.301854133605957,
          -7.279709999999966,
          -7.390137195587158,
          -7.371543884277344,
          -6.305099964141846,
          -6.302440166473389,
          -7.099291801452637,
          -6.392350196838379,
          -7.61899995803833,
          -7.102719783782959,
          -6.815463066101074,
          -7.369549999999947,
          -7.117499828338623,
          -6.493450164794922,
          -7.3287599999999316,
          -6.973505973815918,
          -7.528999805450439,
          -7.273099899291992,
          -6.59250020980835,
          -7.558000087738037,
          -7.320950031280518,
          -6.484449863433838,
          -6.652900218963623,
          -6.244500160217285,
          null,
          -7.138999938964844,
          -6.537556171417236,
          -7.032011032104492,
          -7.699999809265137,
          -7.354000091552734,
          -6.551499843597412,
          -6.683437824249268,
          -6.4215497970581055,
          -6.585299968719482,
          -6.888309999999933,
          null,
          -7.016973972320557,
          -6.652740001678467,
          -6.342899799346924,
          -6.611789226531982,
          -7.09690999999998,
          -6.986417770385742,
          -6.493800163269043,
          -7.197755813598633,
          -7.136251926422119,
          -6.992619999999931,
          -6.894790172576904,
          -6.923649787902832,
          -7.381140232086182,
          -6.204999923706055,
          -6.9222412109375,
          -7.171268939971924,
          -7.086734771728516,
          -7.069808006286621,
          -6.198069999999973,
          -6.363100051879883,
          -6.650199890136719,
          -6.958690166473389,
          -7.279486179351807,
          -6.716209999999933,
          -7.119500160217285,
          -7.05016999999998,
          -6.4697699546813965,
          -7.070425987243652,
          -6.655519962310791,
          -7.305099964141846,
          -6.900000095367432,
          -6.353799819946289,
          -6.440000057220459,
          -7.333749999999952,
          -7.195678234100342,
          -6.484842777252197,
          -6.575900077819824,
          -6.532478332519531,
          -7.232999801635742,
          -6.505000114440918,
          -7.072549819946289,
          -6.937283039093018,
          -6.900660991668701,
          -6.949660301208496,
          -6.446499824523926,
          -6.977811813354492,
          -6.304049968719482,
          -6.880039999999951,
          -6.85290002822876,
          -6.481249809265137,
          -7.2104997634887695,
          -7.222219944000244,
          -6.24828999999994,
          -7.284870147705078,
          -6.473999977111816,
          -7.0002288818359375,
          -6.82016134262085,
          -6.996169090270996,
          -6.403500080108643,
          -6.281499862670898,
          -6.820195198059082,
          -6.851249999999936,
          -6.654079999999965,
          -6.769269943237305,
          -7.133232593536377,
          -7.021500110626221,
          -6.802824020385742,
          -6.510129928588867,
          -6.690347671508789,
          -7.889999866485596,
          -6.551980018615723,
          -7.120500087738037,
          -6.431000232696533,
          -6.608695983886719,
          -6.034767150878906,
          -7.178009986877441,
          -6.554539999999975,
          -7.146629810333252,
          -6.847300052642822,
          -6.675802230834961,
          -6.677299976348877,
          -6.853571891784668,
          -6.76159999999993,
          -6.394059999999968,
          -6.9740400314331055,
          -6.513500213623047,
          null,
          -6.53347110748291,
          -7.609069999999974,
          -6.6030449867248535,
          -6.904689788818359,
          -6.697613716125488,
          -6.550620079040527,
          -6.992089999999962,
          -6.760069999999928,
          -6.299819946289063,
          -6.452365875244141,
          -6.121984958648682,
          -7.057479999999941,
          -6.922244071960449,
          -6.903250217437744,
          -7.244999885559082,
          -6.504700183868408,
          -6.585350036621094,
          -6.358724117279053,
          -7.571070194244385,
          -6.629777908325195,
          -6.551449775695801,
          -6.909860134124756,
          -7.014129999999966,
          -6.443059999999946,
          -7.394700050354004,
          -6.313700199127197,
          -6.890902519226074,
          -7.827630043029785,
          -7.111329999999953,
          -6.699649810791016,
          -7.381759999999929,
          -7.1147099999999455,
          -6.233650207519531,
          -6.432400226593018,
          -6.423319816589356,
          -7.048999786376953,
          -6.799019813537598,
          -6.982569999999953,
          null,
          -6.867569999999944,
          -7.107334136962891,
          -6.544000148773193,
          -6.25216007232666,
          -6.4523539543151855,
          -7.043523788452148,
          -7.189320087432861,
          -6.3645501136779785,
          -6.849500179290772,
          -6.175499999999943,
          -7.287921905517578,
          -6.903840065002441,
          -7.009299999999939,
          -7.165200233459473,
          -7.048500061035156,
          -6.532549858093262,
          -6.692283153533936,
          -6.82585334777832,
          -7.34866999999997,
          -6.302774906158447,
          -6.80699999999996,
          -7.328409999999963,
          -6.31309986114502,
          -7.342222213745117,
          -6.44782018661499,
          -6.491300106048584,
          -6.422500133514404,
          -6.490499973297119,
          -6.420000076293945,
          -6.321700096130371,
          -6.684520721435547,
          -6.452105522155762,
          -6.870279788970947,
          null,
          -7.254000186920166,
          -6.876339999999971,
          -7.703939999999932,
          -7.013999938964844,
          -7.458309999999926,
          -6.343999862670898,
          -6.379000186920166,
          -6.882159233093262,
          -6.429500102996826,
          -6.900432586669922,
          -7.233500003814697,
          -6.282849788665772,
          -6.953420162200928,
          -7.093039989471436,
          -6.383349895477295,
          -7.117020130157471,
          -7.218999862670898,
          -6.492549896240234,
          -6.638679999999965,
          -6.950222015380859,
          -6.402973175048828,
          -6.681349999999952,
          null,
          -6.557000160217285,
          -6.682004928588867,
          -6.9383931159973145,
          -6.243000030517578,
          -6.471051692962647,
          -7.323034763336182,
          -6.251114845275879,
          -6.537889999999948,
          -7.039838790893555,
          -7.029919999999947,
          -6.026809215545654,
          -6.204649925231934,
          -6.678269999999941,
          -7.485300064086914,
          -7.781679153442383,
          -6.83682918548584,
          -6.269000053405762,
          -6.965950012207031,
          -6.574699878692627,
          -6.276524066925049,
          -6.44488000869751,
          -6.44032096862793,
          -5.994689999999935,
          -7.37845516204834,
          -7.421154975891113,
          -6.941649913787842,
          -7.16180419921875,
          -6.315999984741211,
          -7.207735061645508,
          -7.531360149383545,
          -6.373705863952637,
          -7.0252799999999525,
          -7.542585849761963,
          -7.234000205993652,
          -7.233799934387207,
          -6.458749771118164,
          -6.4920501708984375,
          -7.255320072174072,
          -6.347603797912598,
          -6.243055820465088,
          -6.191679000854492,
          -7.048986911773682,
          -7.048993110656738,
          -7.192639999999926,
          -6.599822044372559,
          -7.049099922180176,
          -6.593299865722656,
          -6.526442050933838,
          -6.847099999999955,
          -6.6046799999999735,
          -6.571450233459473,
          -7.690000057220459,
          -7.14572811126709,
          -6.034316062927246,
          -6.858489999999961,
          -7.370613098144531,
          -6.564099788665772,
          -6,
          -6.962236881256104,
          -7.325300216674805,
          -6.994855880737305,
          -6.877499999999941,
          -6.830169999999953,
          -6.802049999999952,
          -6.384399890899658,
          -6.421599864959717,
          -7.651485919952393,
          -6.452624797821045,
          -6.423299789428711,
          -6.394100189208984,
          -6.025760173797607,
          -6.606527328491211,
          -7.314496994018555,
          -6.867715835571289,
          -6.248499870300293,
          -7.241399765014648,
          -7.036139965057373,
          -6.513899803161621,
          -7.071539878845215,
          -6.02470064163208,
          -7.277172088623047,
          -6.505000114440918,
          -6,
          -6.975489999999979,
          -6.574460029602051,
          -6.575562000274658,
          -6.382999897003174,
          -7.127280235290527,
          -6.902979999999957,
          -6.290721893310547,
          -6.924709999999948,
          -6.977459999999951,
          null,
          -7.731389999389648,
          -6.421000003814697,
          -6.5574798583984375,
          -6.596537113189697,
          -6.200999999999965,
          -6.449580192565918,
          -6.554200172424316,
          -6.287000179290772,
          -6.240809917449951,
          -6.832615852355957,
          -7.570000171661377,
          -6.524787902832031,
          -6.517063140869141,
          -6.83682918548584,
          -6.472663879394531,
          -6.269999980926514,
          -6.595043182373047,
          -7.15171480178833,
          -6.409239768981934,
          -7.205399990081787,
          -7.110700130462647,
          -6.3655500411987305,
          -6.365109920501709,
          -7.271850109100342,
          -6.986579999999947,
          -6.793360233306885,
          -7.038000106811523,
          -7.593448162078857,
          null,
          -7.1757001876831055,
          -6.934726238250732,
          -6.996893882751465,
          -6.470399856567383,
          -6.690039157867432,
          -6.371969223022461,
          -6.670499801635742,
          -7.018634796142578,
          -7.088769912719727,
          -7.380797863006592,
          -6.316393852233887,
          -7.114999771118164,
          -7.594820976257324,
          -7.4096999168396,
          -6.893527984619141,
          -6.206555843353272,
          -6.248499870300293,
          -7.335060119628906,
          -6.2984299659729,
          -7.0116801261901855,
          -6.523200035095215,
          -7.760000228881836,
          -6.041100025177002,
          -6.2204999923706055,
          null,
          -7.217310905456543,
          -6.39360237121582,
          -6.246819999999957,
          -6.545300006866455,
          -6.972140789031982,
          -7.708498954772949,
          -7.122000217437744,
          -7.024099826812744,
          -6.890900135040283,
          -6.570539951324463,
          -7.221957206726074,
          -7.713500022888184,
          -6.705319999999972,
          -6.794408321380615,
          -6.505740165710449,
          -6.625554084777832,
          -7.357591152191162,
          -6.481805801391602,
          -7.084499835968018,
          -7.344299793243408,
          -7.145999908447266,
          -6.575024127960205,
          -7.242499828338623,
          -6.031350135803223,
          -6.619272232055664,
          -6.974833011627197,
          -7.002449989318848,
          -6.905399799346924,
          -6.6184401512146,
          -6.537889999999948,
          -6.697572708129883,
          -7.1669599999999605,
          -6.953203678131104,
          -6.431649999999934,
          -7.686569999999961,
          -6.395256519317627,
          -6.6570000648498535,
          -7.254389762878418,
          -7.712500095367432,
          -7.007239999999968,
          -6.526999950408936,
          -6.689169999999933,
          -6.620219230651856,
          -6.843757152557373,
          -6.833475112915039,
          -6.969457149505615,
          -6.64794999999998,
          -6.4708781242370605,
          -6.398749828338623,
          -7.05709981918335,
          -6.421299934387207,
          -6.988009999999974,
          -6.592090129852295,
          -6.323500156402588,
          -6.132500171661377,
          -6.323249816894531,
          -7.255499839782715,
          -6.868920803070068,
          -6.376939999999934,
          -6.999729999999943,
          -6.289000034332275,
          -7.24082999999996,
          -6.851749999999981,
          -7.360000133514404,
          -6.671140193939209,
          -7.087170124053955,
          -7.140833854675293,
          -7.442890167236328,
          -6.930762767791748,
          -6.273399829864502,
          -6.658425807952881,
          -6.322509999999966,
          -6.392650127410889,
          -6.647355079650879,
          -6.504000186920166,
          -6.524634838104248,
          -7.037779808044434,
          -7.011199999999974,
          -6.611789226531982,
          -6.122200012207031,
          -6.910049915313721,
          -6.652188777923584,
          -6.798210144042969,
          -7.268660068511963,
          -6.2835001945495605,
          -7.152097225189209,
          -7.635000228881836,
          -6.574699878692627,
          -7.030869960784912,
          -6.623880863189697,
          -6.999589999999955,
          -6.523099899291992,
          -7.232100009918213,
          -6.96999979019165,
          -7.040339999999958,
          -6.515500068664551,
          -7.446509838104248,
          -6.993048191070557,
          -6.611299999999972,
          -7.260000228881836,
          -7.23799991607666,
          -7.355208873748779,
          -7.264999866485596,
          -6.9817891120910645,
          -6.6747660636901855,
          -7.694167137145996,
          -6.5,
          -7.241049766540527,
          -6.5854997634887695,
          -6.830628871917725,
          -7.732933044433594,
          -6.352434158325195,
          -6.458776950836182,
          -6.847159999999974,
          -6,
          -7.15369987487793,
          -6.517335891723633,
          -6.531299999999931,
          -6.642186164855957,
          -6.947635650634766,
          -6.359271049499512,
          -7.165925979614258,
          -6.671209999999974,
          -6.636249999999961,
          -6.275700092315674,
          -7.016159999999957,
          -6.611789226531982,
          -6.48105001449585,
          -6.341853141784668,
          -6.672329999999931,
          -6.305762767791748,
          -6.474549770355225,
          -6.529900074005127,
          -6.837019920349121,
          -6.830169999999953,
          -7.5106520652771,
          -6.236581802368164,
          -7.020569999999964,
          -6.631680011749268,
          -7.778699999999958,
          -7.244829999999979,
          -6.431900024414063,
          -6.593112468719482,
          -7.337108135223389,
          -7.040500164031982,
          -6.134200096130371,
          -6.452624797821045,
          -6.626152992248535,
          -6.831980228424072,
          -6.575099945068359,
          -6.687113761901856,
          -6.60498999999993,
          -6.9099860191345215,
          -7.418000221252441,
          -7.630312919616699,
          -6.561999797821045,
          -6.711537837982178,
          -6.6297101974487305,
          -6.064539999999965,
          -7.018499851226807,
          -7.362229824066162,
          -6.59372615814209,
          -7.0669708251953125,
          -6.201541900634766,
          -6.355000019073486,
          -7.331900119781494,
          -6.195389999999975,
          -6.026809215545654,
          -7.0169219970703125,
          -7.025670051574707,
          -6.352849960327148,
          -6.763401031494141,
          -6.979629993438721,
          -6.563729763031006,
          -6.3742299999999545,
          -6.699960231781006,
          -6.896399999999971,
          -6.771018505096436,
          -7.438157081604004,
          -6.464859962463379,
          -7.134772777557373,
          -6.375322818756104,
          -7.255000114440918,
          -7.559532165527344,
          -6.556301116943359,
          -6.473400115966797,
          -6.498422145843506,
          -7.066544055938721,
          -6.854399999999941,
          -7.007499999999936,
          -6.889150142669678,
          -6.272749900817871,
          -6.7482099533081055,
          -6.534706592559815,
          -6.981110095977783,
          -6.417379856109619,
          -6.042281150817871,
          -6.532549858093262,
          -7.646169999999927,
          -7.024499893188477,
          -7.563319999999976,
          -6.317999839782715,
          -7.032451152801514,
          -6.998739999999941,
          -7.251299858093262,
          -6.529305934906006,
          -6.531700134277344,
          -6.954287052154541,
          -6.595930099487305,
          -6.664699999999925,
          -6.425600051879883,
          -7.064201831817627,
          -6.779699802398682,
          -6.930816173553467,
          -7.088769912719727,
          -6.164450168609619,
          -6.404991149902344,
          -6.885166168212891,
          -6.8769049644470215,
          -7.266547203063965,
          -7.264400005340576,
          -6.481249809265137,
          -6.300838947296143,
          -6.730379999999968,
          -7.148980140686035,
          -6.827879905700684,
          -7.339393615722656,
          -6.27370023727417,
          -6.413099765777588,
          -6.329170227050781,
          -6.312920093536377,
          -6.20363999999995,
          -6.414249897003174,
          -7.568149999999946,
          -6.9847599999999375,
          -6.644599914550781,
          -6.504700183868408,
          -6.421500205993652,
          -6.4257001876831055,
          -6.529645442962647,
          -6.665955066680908,
          -6.311399936676025,
          -7.035153865814209,
          -6.234209999999962,
          -6.905010223388672,
          -7.5074299999999425,
          -6.481100082397461,
          -7.2726616859436035,
          -6.364500045776367,
          -6.891474723815918,
          -6.526442050933838,
          -7.690000057220459,
          -7.110799789428711,
          -6.978905200958252,
          -6.513969999999972,
          -6.988465785980225,
          -6.75691999999998,
          -6.395549774169922,
          -6.094820022583008,
          -6.587215900421143,
          -6.28810977935791,
          -7.002819999999929,
          -6.203169999999943,
          -7.257999897003174,
          -7.019262313842773,
          -6.67832999999996,
          -6.408604145050049,
          -7.066699981689453,
          -7.20614999999998,
          -6.894365787506104,
          -6.210060119628906,
          -6.177389999999946,
          null,
          -6.7681799999999726,
          -7.038186073303223,
          -7.584897041320801,
          -6.351365089416504,
          -7.439499855041504,
          -6.932000160217285,
          -6.865828990936279,
          -7.047819999999945,
          -6.909860134124756,
          -6.406499862670898,
          -6.673133850097656,
          -6.078229904174805,
          -6.44163990020752,
          -6.50374698638916,
          -7.311422824859619,
          -6.997799873352051,
          -7.030803203582764,
          -6.276949882507324,
          -7.250341892242432,
          -7.500209999999981,
          -6.243319988250732,
          -6.834382057189941,
          -6.651711940765381,
          -6.434999942779541,
          -6.432133674621582,
          -7.241099834442139,
          -7.187087059020996,
          -6.486244201660156,
          -7.625999927520752,
          -6.792782783508301,
          -7.011651039123535,
          -6.291399955749512,
          -6.819039821624756,
          -6.392449855804443,
          -7.1058502197265625,
          -6.4028000831604,
          -6.6545000076293945,
          -6.4148430824279785,
          -6.440210819244385,
          -6.251800060272217,
          -6.730419999999981,
          -6.903159999999957,
          -6.867029999999943,
          -7.104700088500977,
          -6.650469999999928,
          -7.274143218994141,
          -6.238565921783447,
          -7.423672199249268,
          -6.815609931945801,
          -6.460599899291992,
          -6.945530891418457,
          -6.55109977722168,
          -6.042109966278076,
          -7.291549999999972,
          -6.294600009918213,
          -6.39123010635376,
          -7.115600109100342,
          -6.390009880065918,
          -7.032519999999977,
          -6.2407941818237305,
          -6.718452453613281,
          -6.202909999999974,
          -6.009389877319336,
          -6.557499885559082,
          -7.153600215911865,
          -6.549289999999928,
          -6.924471855163574,
          -6.353499889373779,
          -6.941751956939697,
          -6.415170192718506,
          -7.145549774169922,
          -6.880239999999958,
          -6.39542293548584,
          -6.588620185852051,
          -7.593303203582764,
          -7.224999904632568,
          -6.483500003814697,
          -6.556379795074463,
          -6.2768731117248535,
          -6.253429889678955,
          -6.586288928985596,
          -6.285900115966797,
          -7.690000057220459,
          -6.464300155639648,
          -6.29228401184082,
          -6.421199798583984,
          -6.383810043334961,
          -6.275899887084961,
          -6.553579807281494,
          -7.186639308929443,
          -6.867569999999944,
          -7.256499767303467,
          -7.058549880981445,
          -7.14119291305542,
          -6.9837499999999295,
          -6.577000141143799,
          -6.773425102233887,
          -6.499195098876953,
          -6.559031009674072,
          -6,
          -7.190809999999942,
          -7.011499881744385,
          -7.439589999999953,
          -7.332036018371582,
          -6.503699779510498,
          -6.167709999999943,
          -7.139619999999979,
          -7.322700023651123,
          -7.094250202178955,
          -6.68732500076294,
          -6.690186023712158,
          -6.942299999999932,
          -7.492766857147217,
          -6.5833001136779785,
          -6.359062194824219,
          -7.131549835205078,
          -7.289830207824707,
          -6,
          -6.315499782562256,
          -6.311699867248535,
          -7.2779541015625,
          -6.595250129699707,
          -6.319685935974121,
          -7.293063163757324,
          -7.154204845428467,
          -6.470399856567383,
          -7.122261047363281,
          -7.161689999999965,
          -6.44290018081665,
          -6.428389999999979,
          -6.394100189208984,
          -7.166779041290283,
          -6.521299839019775,
          -6.539430141448975,
          -6.409130096435547,
          -6.968349456787109,
          -6.849959999999953,
          -7.263000011444092,
          -6.611789226531982,
          -6.857954025268555,
          -6.649029999999925,
          -6.283999919891357,
          -6.659059999999954,
          -7.053219795227051,
          -6.358789920806885,
          -6.056700229644775,
          -6.438809871673584,
          -7.030371189117432,
          -6.325596809387207,
          -6.261799812316895,
          -6.46998405456543,
          -7.447689999999966,
          -6.870772361755371,
          -7.558000087738037,
          -6.545599937438965,
          -7.509980201721191,
          -7.647810935974121,
          -6.58519983291626,
          -6.253190040588379,
          -7.614000797271728,
          -6.444529056549072,
          -6.7255377769470215,
          -6.611789226531982,
          null,
          -7.259479999542236,
          -6.815420150756836,
          -6.693049907684326,
          -6.969388008117676,
          -6.555699825286865,
          -6.4624199867248535,
          -6.505499839782715,
          -6.790229797363281,
          -6.679590225219727,
          -6.914433002471924,
          -6.345019817352295,
          -6.820499897003174,
          -6.482952117919922,
          -6.542399883270264,
          -6.2721099853515625,
          -6.271550178527832,
          -6.431900024414063,
          -6.611926078796387,
          -6.333640098571777,
          -6.543000221252441,
          -7.500110149383545,
          -6.408209800720215,
          -6.28410005569458,
          -6.232749938964844,
          -6.705430030822754,
          -6.194849967956543,
          -6.465321063995361,
          -7.179999828338623,
          -6.503900051116943,
          -6.453489780426025,
          -6.25354528427124,
          -6.75789999999995,
          -6.273399829864502,
          -7.044518947601318,
          -6.302027702331543,
          -7.640757083892822,
          -6.562256813049316,
          -7.197000026702881,
          -6.815100193023682,
          -6.857954025268555,
          -6.7163099999999645,
          -7.439509999999927,
          -7.598278045654297,
          -6.862019999999973,
          -6.3764238357543945,
          -6.009949999999947,
          -6.333547115325928,
          -6.365049839019775,
          -6.356253147125244,
          -6.86269998550415,
          -6.451350212097168,
          -7.039159774780273,
          -7.060629844665527,
          -6.582499980926514,
          -7.558899999999937,
          -6.492549896240234,
          -7.158370018005371,
          -6.043000221252441,
          -7.0710129737854,
          -7.291543006896973,
          -6.19980001449585,
          -7.121799945831299,
          -7.223750114440918,
          -7.291100025177002,
          -6.28410005569458,
          -6.74793815612793,
          -7.409320831298828,
          -6.505949974060059,
          -6.310140132904053,
          -7.272034645080566,
          -6.515900135040283,
          -6.876859664916992,
          -6.393701076507568,
          -6.314742088317871,
          -6.7549028396606445,
          -6.085540771484375,
          -6.490509999999972,
          -6.021850109100342,
          -6.5920000076293945,
          -6.406309999999962,
          -7.241000175476074,
          -6.394100189208984,
          -7.389589999999941,
          -6.657571792602539,
          -6.240499973297119,
          -7.010940074920654,
          -6.469439999999963,
          -7.115139961242676,
          -6.496144771575928,
          -6.999359130859375,
          -7.315400123596191,
          -7.658689022064209,
          -6.653478145599365,
          -6.436111927032471,
          -6.281610012054443,
          -7.676385879516602,
          -6.556389808654785,
          -6.426409999999976,
          -6.373199939727783,
          -7.212906837463379,
          -6.59414005279541,
          -7.358659999999929,
          -6.472400188446045,
          -6.733079999999973,
          -6.403489999999977,
          -6.82440996170044,
          -6.832290172576904,
          -6.3647699999999645,
          -6.765810966491699,
          -6.4085001945495605,
          -6.438789999999926,
          -6.515488147735596,
          -7.032010078430176,
          -6.977290153503418,
          -6.881433963775635,
          -6.663276195526123,
          -6.701582908630371,
          -6.320879936218262,
          -6.401649951934815,
          -6.259069999999952,
          -6.600494861602783,
          null,
          -6.303100109100342,
          -6.356022357940674,
          -6.668849945068359,
          -6.463799953460693,
          -6.878862857818604,
          -6,
          -7.393060207366943,
          -6.43310022354126,
          -6,
          -6.463799953460693,
          -6.241724491119385,
          -6.5920000076293945,
          -6.77610999999996,
          -7.430759906768799,
          -6.685687065124512,
          -6.845699787139893,
          -6.574299812316895,
          -6.669739999999933,
          -6.563600063323975,
          -6.757460117340088,
          -6.4069600105285645,
          -6.931000232696533,
          null,
          -6.723979999999926,
          -6.307340145111084,
          -6.254590034484863,
          -6.362064838409424,
          -6.355000019073486,
          -6.462238311767578,
          null,
          -6.490583896636963,
          -6.683145046234131,
          -6.314430236816406,
          -6.275650024414063,
          -7.654709815979004,
          -7.479387283325195,
          -7.201000213623047,
          -6.371699810028076,
          -7.387053966522217,
          -6.404550075531006,
          -6.664589999999976,
          -6.58702999999997,
          -6.333127975463867,
          -6.382500171661377,
          -6.307000160217285,
          -6.252299785614014,
          -7.126560211181641,
          -6.96451997756958,
          -7.090720176696777,
          -7.260139942169189,
          -7.139830112457275,
          -6.888619899749756,
          -6.57460880279541,
          -6.870709999999974,
          -6.496562957763672,
          -7.254389762878418,
          -7.214680194854736,
          -6.371262073516846,
          -6.178120136260986,
          -6.393701076507568,
          -6.586019999999962,
          -7.243456840515137,
          -6.777559999999937,
          -7.715760231018066,
          -6.847409999999968,
          -7.073599815368652,
          -6.22189998626709,
          -6.218779999999981,
          -6.524899959564209,
          -6.018699999999967,
          -6.516932010650635,
          -7.639941692352295,
          -7.230103015899658,
          -7.512509999999963,
          -6.994255065917969,
          -7.252930164337158,
          -6.263060092926025,
          -6.532549858093262,
          -6.355000019073486,
          -6.3336501121521,
          -6.608199999999954,
          -6.353326797485352,
          -6.503099918365479,
          -7.207114219665527,
          -7.498089790344238,
          -6.62964999999997,
          -6.933599948883057,
          -6.274099826812744,
          -6.640560150146484,
          -6.153830051422119,
          -6.857954025268555,
          -6.503831386566162,
          -6.394790172576904,
          -6.422840118408203,
          -6.6554999351501465,
          -7.430259227752685,
          -6.734189987182617,
          -7.494999885559082,
          -7.235949993133545,
          -6.445629999999937,
          -6.377689838409424,
          -6.639319999999941,
          -7.44911003112793,
          -6.9537129402160645,
          -7.003983974456787,
          -6.556380748748779,
          -6.541339874267578,
          -7.303224086761475,
          -7.035009860992432,
          -6.791172027587891,
          -7.739999771118164,
          -6.6260899999999765,
          null,
          -6.654369999999972,
          -6.392399787902832,
          -7.194229999999948,
          -6.692283153533936,
          -6.33031702041626,
          -6.678299999999979,
          -7.545000076293945,
          -6.614441871643066,
          -6.512549877166748,
          -6.624699999999962,
          -6.62824010848999,
          -6.94901704788208,
          -6.976920127868652,
          -6.649700164794922,
          -6.353700160980225,
          -6.426917552947998,
          -7.096115112304688,
          -6.391650199890137,
          -6.194300174713135,
          -6.152709999999956,
          -6.32600999999994,
          -6.392909999999972,
          -6.303282260894775,
          -6.796681880950928,
          -6.268149999999935,
          -6.366893768310547,
          -6.233338832855225,
          -6.365699768066406,
          -6.042300224304199,
          -6.632599830627441,
          -6.351851940155029,
          -7.306188106536865,
          -6.774316310882568,
          -6.316169999999943,
          -6.421689987182617,
          -6.493350028991699,
          -6.848189830780029,
          -6.475900173187256,
          -6.967120170593262,
          -6.064894199371338,
          -6.3632001876831055,
          -6.185400009155273,
          -6.104650020599365,
          -6.178209999999979,
          -6.11299991607666,
          -7.05657999999994,
          -7.101950168609619,
          -6.589169999999967,
          -6.283599853515625,
          -7.261499881744385,
          -6.643059999999935,
          -6.700119972229004,
          -6.655590057373047,
          -7,
          -6.368178844451904,
          -7.272500038146973,
          -6.6816887855529785,
          -7.383600234985352,
          -7.153200149536133,
          -7.586558818817139,
          -6.6724700927734375,
          -6.256750106811523,
          -7.122200012207031,
          -6.412806987762451,
          -6.512209999999925,
          -6.250760078430176,
          -7.209734916687012,
          -7.335400104522705,
          -6.704449999999952,
          -6.445657730102539,
          -7.642376899719238,
          -7.02671480178833,
          -7.675646781921387,
          -6.5152997970581055,
          -6.645839999999964,
          -6.440000057220459,
          -6.342440128326416,
          -6.252975940704346,
          -6.83893999999998,
          -6.444920063018799,
          -6.172849999999926,
          -7.005928993225098,
          -7.501629829406738,
          -7.224649906158447,
          -6.338500022888184,
          -7.022573947906494,
          -6.909570217132568,
          -7.183361053466797,
          -7.2620530128479,
          -6.9741411209106445,
          -7.308339118957519,
          -6.505000114440918,
          -6.56523999999996,
          -6.981576919555664,
          -6.63600492477417,
          -6.672469999999976,
          -6.522449970245361,
          -6.283699989318848,
          -7.327114105224609,
          -6.70249605178833,
          -7.148639999999944,
          -6.5725998878479,
          -6.043778896331787,
          -6.515299999999968,
          -7.159959999999956,
          -6.686839999999961,
          -6.19379997253418,
          -6.421006202697754,
          -6.626285076141357,
          -6.250549793243408,
          -6.61976999999996,
          -6.618360996246338,
          -7.011222839355469,
          -6.5920000076293945,
          -6.054049999999961,
          -7.059490203857422,
          -6.434820175170898,
          -6.5789079666137695,
          -6.553529999999967,
          null,
          -7.125140190124512,
          -6.441400051116943,
          -6.400639057159424,
          -7.355034351348877,
          -6.014400005340576,
          -6.5378899574279785,
          -7.16379976272583,
          -6.572291851043701,
          -6.456999778747559,
          -6.86276912689209,
          -6.473400115966797,
          -6.22415018081665,
          -6.54295015335083,
          -6.638119999999958,
          -7.22100019454956,
          -6.17264986038208,
          -6.009389877319336,
          -6.544000148773193,
          -6.848546981811523,
          -6.6031365394592285,
          -7.317829999999958,
          -6.565467834472656,
          -6.454744815826416,
          -7.038559913635254,
          -6.294600009918213,
          -6.354650020599365,
          -6.720749378204346,
          -6.825099945068359,
          -6.439239978790283,
          -6.633200168609619,
          -6.59089994430542,
          -7.28000020980835,
          -7.332540035247803,
          -6.242709999999931,
          -6.539743900299072,
          -7.17549991607666,
          -6.420599937438965,
          -6.395400047302246,
          -7,
          -6.483650207519531,
          -6.395599842071533,
          -6.390510082244873,
          -6.504000186920166,
          -6.946433067321777,
          -6.857999801635742,
          -6.584700107574463,
          -6.451122283935547,
          -6,
          -6.368663787841797,
          -6.302381038665772,
          -6.547959999999932,
          -6.171500205993652,
          -7.617242813110352,
          -6.321549892425537,
          -7.421745777130127,
          -7.030841827392578,
          -6.720387935638428,
          -6.453023910522461,
          -6.321439999999939,
          -6.766179999999963,
          -6.042281150817871,
          -7.141650199890137,
          -6.341149806976318,
          -6.355000019073486,
          -6.476669999999956,
          -7.367909908294678,
          -6.363999843597412,
          -7.025899999999979,
          -6.040999889373779,
          -6.69980001449585,
          -6.649999999999977,
          -7.242818832397461,
          -6.330999851226807,
          -6.878799999999956,
          -6.6844401359558105,
          null,
          -6.328525066375732,
          -6.404699802398682,
          -7.380019187927246,
          -6.18149995803833,
          -6.3122100830078125,
          -7.744017124176025,
          -6.879350185394287,
          -6.301799999999957,
          -7.021519999999953,
          -6.514249801635742,
          -6.778509999999926,
          -6.7786784172058105,
          -6.253049850463867,
          -6.975689888000488,
          -6.320563793182373,
          null,
          -6.365960121154785,
          -6.162559999999928,
          -6.632468223571777,
          -6.753513813018799,
          -6.593699932098389,
          -6.67587999999995,
          -7.001939999999934,
          -6.553189999999972,
          -6.50186999999994,
          -6.581200122833252,
          -6.175929999999937,
          -6.314463138580322,
          -6.4530439376831055,
          -6.769669999999962,
          -7.151999950408936,
          -7.320844173431396,
          -7.132000923156738,
          -6.647279999999967,
          -7.699999809265137,
          -6.365109920501709,
          -7.221350193023682,
          -6.97696590423584,
          -6.71420999999998,
          -6.505750179290772,
          -6.60743999999994,
          -7.33264684677124,
          -7.613834857940674,
          -6.828389999999956,
          -6.421630859375,
          -6.929999828338623,
          -6.890284061431885,
          -7.269999980926514,
          -7.624248027801514,
          -6.412600040435791,
          -6.603137016296387,
          -6.438687801361084,
          -6.254499912261963,
          -6.369876861572266,
          -6.701059999999927,
          -6.507957935333252,
          -6.681819999999959,
          -7.030149999999935,
          -6.039400100708008,
          -7.111649990081787,
          -7.052139999999952,
          -6.251949787139893,
          -6.5524001121521,
          -7.283059999999978,
          -7.087026596069336,
          -6.595200061798096,
          -6.3024001121521,
          null,
          -7.02699613571167,
          -6.763477802276611,
          -6.50992999999994,
          -6.371500015258789,
          -6.777212142944336,
          -6.854383945465088,
          -7.423672199249268,
          -6.545939999999973,
          -6.887731075286865,
          -6.834689999999966,
          -6.803999900817871,
          -6.462539999999933,
          -7.403923988342285,
          -7.181650161743164,
          -7.553627967834473,
          -6.372196197509766,
          -6.980686187744141,
          -7.249024391174316,
          -6.929196834564209,
          -6.443950176239014,
          -6.1656999588012695,
          -7.05649995803833,
          -6.755399999999952,
          -7.241794109344482,
          -6.975269794464111,
          -6.492509841918945,
          -6.963582992553711,
          -7.244679927825928,
          -6.334499835968018,
          -6.471030235290527,
          -6.656229972839356,
          -7.582699775695801,
          -6.521450042724609,
          -7.503497123718262,
          -7.298629999999946,
          -6.821632385253906,
          -6.5659499168396,
          -6.9899899999999775,
          -6.410999774932861,
          -7.150969982147217,
          -6.15143999999998,
          -6.675819999999931,
          -7.103049999999939,
          -7.304500102996826,
          -6.635939999999948,
          -7.125010013580322,
          -7.425414085388184,
          -7.429749965667725,
          -6.440229999999929,
          -6.393710136413574,
          -6.696849999999927,
          -6.3445000648498535,
          -6.526442050933838,
          -6.55157995223999,
          -6.507880210876465,
          -6.820137023925781,
          -6.793069839477539,
          -7.010970115661621,
          -7.464492797851562,
          -6.5802998542785645,
          null,
          -6.075799942016602,
          -6.9568400382995605,
          -7.43265438079834,
          -6.913519859313965,
          -7.046929999999975,
          -7.002025127410889,
          -6.958559989929199,
          -6.559072971343994,
          -7.133480072021484,
          -6.514800071716309,
          -6.263569999999959,
          -6.200879999999927,
          -7,
          -7.161089999999945,
          -7.048740863800049,
          -7.034443378448486,
          -6.530139923095703,
          -6.859912872314453,
          -7.63394999999997,
          -6.514050006866455,
          -7.292600154876709,
          -6.3014799999999696,
          -6.411300182342529,
          -6.758560180664063,
          -6.70980978012085,
          -6.405399799346924,
          -6,
          -6.751629829406738,
          -6.755559921264648,
          -6.214950084686279,
          -6.25,
          -6.456999778747559,
          -6.618409999999926,
          -6.670269966125488,
          -6.428500175476074,
          -6.835100173950195,
          -6.531499862670898,
          -6.762499809265137,
          -6.423449993133545,
          -6.155839999999955,
          -6.348080158233643,
          -7.2147698402404785,
          -6.955080032348633,
          -7.216069999999945,
          -7.015999794006348,
          -7.124599933624268,
          -7.158999919891357,
          -7.769872188568115,
          -6.323490142822266,
          -7.131100177764893,
          -6.946040153503418,
          -6.354772090911865,
          null,
          -7.217310905456543,
          -6.913000106811523,
          -6.511499881744385,
          -6.79292106628418,
          -6.636499881744385,
          -7.229089999999928,
          -6.372659999999939,
          -6.9872331619262695,
          -6.784543037414551,
          -6,
          -6.8746771812438965,
          -6.585238933563232,
          -7.167089939117432,
          -6.719420909881592,
          -6,
          -6.412399768829346,
          -6.522500038146973,
          -6.875609874725342,
          -7.133749961853027,
          -6.226739883422852,
          -6.756839999999954,
          -7.054409980773926,
          -7.321030139923096,
          -6.354675769805908,
          -7,
          -6.2856645584106445,
          -6.451990127563477,
          -6.624499797821045,
          -6.725119999999947,
          -6.424363136291504,
          -6.172800064086914,
          -6.293300151824951,
          -7.043099880218506,
          -6.762499809265137,
          -7.01341999999994,
          -6.371654987335205,
          -6.979599952697754,
          -6.965950012207031,
          -6.974173069000244,
          -6.740789890289307,
          -7.327000141143799,
          -6.833409786224365,
          -7.28380012512207,
          -6.824289999999962,
          -6.472400188446045,
          -6.796999931335449,
          -6.191500186920166,
          null,
          -6.773449897766113,
          -6.230679988861084,
          -7.240750312805176,
          -6.6545000076293945,
          -6.994002819061279,
          -7.564849999999978,
          -6.30109977722168,
          -7.260354995727539,
          -6.635202884674072,
          -7.05049991607666,
          -6.483399868011475,
          -6.43310022354126,
          -6.87593412399292,
          -6.929999828338623,
          -7.310004234313965,
          -6.755169999999964,
          -6.911979999999971,
          null,
          -6.67035999999996,
          -7.147500038146973,
          -6.465399999999931,
          -6.49726676940918,
          -7.253399848937988,
          -7.716909885406494,
          -6.44488000869751,
          -6.492549896240234,
          -6.904990196228027,
          -6.767499999999927,
          -6.07356595993042,
          -6.906499862670898,
          -6.042180061340332,
          -7.015615940093994,
          -7.473448276519775,
          -7.319900035858154,
          -6.3866801261901855,
          -6.936634063720703,
          -7.252021789550781,
          -6.377474784851074,
          -6.631289958953857,
          -6.160999774932861,
          -6.110020160675049,
          -7.070159912109375,
          -7.07765999999998,
          -6.385223865509033,
          -6.442840099334717,
          -6.322500228881836,
          -7.351230144500732,
          -7.082699775695801,
          -6.311399936676025,
          -6.123799800872803,
          -7.2205328941345215,
          -6.278120040893555,
          -6.412740230560303,
          -6.535789999999963,
          -7.007492065429688,
          -6.860599994659424,
          -6.235000133514404,
          -6.901095867156982,
          -6.830810070037842,
          -7.00401782989502,
          -6.66027307510376,
          -6.6363399999999615,
          -7.526999950408935,
          -6.564049999999952,
          -6.464149951934815,
          -6,
          -6.475619792938232,
          -6.290540218353272,
          -7.158750057220459,
          -6.943056106567383,
          -7.111199855804443,
          -6.296999931335449,
          -6.3342390060424805,
          -7.057449817657471,
          -6.188127040863037,
          -6.320562839508057,
          -7.245369911193848,
          -7.153749999999945,
          -6.607958793640137,
          -6.290309999999977,
          -6.415500164031982,
          -6.314949999999953,
          -6.327939999999956,
          -6.506915092468262,
          -6.47021484375,
          -6.171694278717041,
          -6.174499988555908,
          -6.675802230834961,
          -7.537079999999946,
          -6.32981014251709,
          -7.863100051879883,
          -7.083658218383789,
          -7.23853063583374,
          -6.338069915771484,
          -7.0765252113342285,
          -6.396390914916992,
          -6.787227153778076,
          -6.646766185760498,
          -6.321897029876709,
          -6.657280921936035,
          -6.42140007019043,
          -7.150674819946289,
          -6.934726238250732,
          -6.952122211456299,
          -6.522200107574463,
          -6.392409801483154,
          -6.499259948730469,
          -6.915629863739014,
          -6.910029888153076,
          -6.913790225982666,
          -7.291159152984619,
          -6.349104881286621,
          -7.045249999999953,
          -7.059000015258789,
          -7.274499893188477,
          -7.039159774780273,
          -6.453139781951904,
          -6.585000038146973,
          -6.875296115875244,
          -6.343348979949951,
          -7.25,
          -7.529703140258789,
          -6.150489999999934,
          -6.484650135040283,
          -7.005220890045166,
          -6.3621978759765625,
          -7.343699932098389,
          -6.5906500816345215,
          -7.271550178527832,
          -6.796980857849121,
          -7.536489999999958,
          -6.395500183105469,
          -6.539959999999951,
          -6.4375,
          -6.40417999999994,
          -7.423062801361084,
          -6.605999946594238,
          -5.975299999999947,
          -6.236828804016113,
          -6.509821891784668,
          -7.707286834716797,
          -6.64640998840332,
          -6.794648170471191,
          -6.8122999999999365,
          -7.016333103179932,
          -6.152299880981445,
          -6.765529155731201,
          -6.415200233459473,
          -6.451088905334473,
          -6.658610820770264,
          -7.015769958496094,
          -6.239309787750244,
          -7.228019999999958,
          -6.513700008392334,
          -6.394720077514648,
          -6.393599987030029,
          -7.513737201690674,
          -6.322000026702881,
          -7.117000102996826,
          -6.273550033569336,
          -6.796032905578613,
          -7.233500003814697,
          -7.1058502197265625,
          -6.307389999999941,
          -6.294700145721436,
          -6.482649803161621,
          -6.381899833679199,
          -6.731385231018066,
          -6.932010173797607,
          -7.314496994018555,
          -7.383749961853027,
          -7.353919982910156,
          -7.178880214691162,
          null,
          -7.481257915496826,
          -7.501584053039551,
          -6.260029999999972,
          -7.021909999999934,
          -7.479387283325195,
          -6.883051872253418,
          -6.851740837097168,
          -6.34392786026001,
          -7.181169999999952,
          -7.279499999999928,
          -7.547969999999964,
          -6.778419999999926,
          -6.440865993499756,
          -6.819622039794922,
          -7.281199932098389,
          -6.603271007537842,
          -6.266658782958984,
          -6.831289999999967,
          -7.465000152587891,
          -6.228869915008545,
          -6.431350231170654,
          -6.50540018081665,
          -7.677667140960693,
          -6.747279999999932,
          -6.414899826049805,
          -6.454840183258057,
          -6.4710001945495605,
          -7.030409999999961,
          -6.881070137023926,
          -6.868529796600342,
          -6.204819999999927,
          -6.611926078796387,
          -7.31125020980835,
          -6.406720161437988,
          -6.180489999999963,
          -7.472310066223144,
          -6.701709999999935,
          -6.67572999999993,
          -6.923069953918457,
          -6.893327236175537,
          -6.330149999999946,
          -6.394499778747559,
          -7.310265064239502,
          -6.472089767456055,
          -6.403738975524902,
          -7.514679908752441,
          -7.61048698425293,
          -6.5,
          -6.586101055145264,
          -6.580659866333008,
          -6.844339999999932,
          -6.737919807434082,
          -6.472849845886231,
          -7.451600074768066,
          -6.342857837677002,
          -6.698049999999967,
          -6.373899936676025,
          -6.621066093444824,
          -6.514200210571289,
          -6.557130813598633,
          -7.314496994018555,
          -6.6782708168029785,
          -6.954036235809326,
          -6,
          -6.749342918395996,
          -7.144899845123291,
          -7,
          -6.245188236236572,
          -7.441780090332031,
          -7.049439907073975,
          -6.504899978637695,
          -7.105289936065674,
          -6.40172004699707,
          -7.422500133514404,
          -6.321499824523926,
          -6.365200042724609,
          -6.904719829559326,
          -7.795400142669678,
          -6.441824913024902,
          -6.278120040893555,
          -6.731492042541504,
          -7.244750022888184,
          -6.1132001876831055,
          -6.822909832000732,
          -6.698882102966309,
          null,
          -7.320948123931885,
          -6.450799942016602,
          -6.423349857330322,
          -6.380778789520264,
          -7.294181823730469,
          -6.481750011444092,
          -6.342850208282471,
          -6.988436222076416,
          -6.481150150299072,
          -6.390999999999963,
          -6.21750020980835,
          -7.679190158843994,
          -6.687599999999975,
          -6.364500045776367,
          -6.837219999999945,
          -6.439410209655762,
          -7.704734802246094,
          -6.195799827575684,
          -7.148630142211914,
          -6.988387107849121,
          -7.103475093841553,
          -6.341064929962158,
          -7.490501880645752,
          -7.341899871826172,
          -7.607264995574951,
          -6.34654712677002,
          -6.876521110534668,
          -6.375199794769287,
          -7.260719999999935,
          -7.746022224426269,
          -7.161749839782715,
          -7.201000213623047,
          -7.800558090209961,
          -6,
          -6.749269962310791,
          -6.395009999999957,
          -6.559072971343994,
          -6.999969959259033,
          -6.064892768859863,
          -7.103000164031982,
          -7.391925811767578,
          -7.311860084533691,
          -6.71225118637085,
          -7.673710823059082,
          -6.573042869567871,
          -6.05119514465332,
          -6.226624011993408,
          -6.362299919128418,
          -6.953539999999975,
          -6.394978046417236,
          -6.418000221252441,
          -7.20550012588501,
          -7.472909999999956,
          -7.223750114440918,
          -6.994063854217529,
          -6.589349999999968,
          -6.471650123596191,
          -6.658422946929932,
          -6.191579818725586,
          -6.533699989318848,
          -6.422299861907959,
          -6.68480999999997,
          -6.274050235748291,
          -6.3819899559021,
          -6.264699999999948,
          -6.71156644821167,
          -6.3509202003479,
          -7.533999919891357,
          -6.7175374031066895,
          -6.555825710296631,
          -7.32781982421875,
          -6.5932698249816895,
          -6.7264180183410645,
          -6.377538204193115,
          -6.958499908447266,
          -7.092429161071777,
          -6.771510124206543,
          -6.593807220458984,
          -7.692910194396973,
          -6.131099224090576,
          -6.880115985870361,
          -6.2037200927734375,
          -6.991880893707275,
          -6.789005279541016,
          -6.640989780426025,
          -7.184152126312256,
          -6.463252067565918,
          -7.5027079582214355,
          -6.394750118255615,
          -6.2253499031066895,
          -6.253500938415527,
          -6.569953918457031,
          -6.543000221252441,
          -7.241300106048584,
          -7.723311901092529,
          -6.400876998901367,
          -7.403282165527344,
          -6.909860134124756,
          -6.975490093231201,
          -6.423349857330322,
          -6.546999931335449,
          -7.1128997802734375,
          -6.69038200378418,
          -6.369999885559082,
          -6.05119514465332,
          -6.795753002166748,
          -6.829239845275879,
          -7.229059999999947,
          -6.544189999999958,
          -7.296745777130127,
          -7.1641998291015625,
          -6.721268177032471,
          -6.495309829711914,
          -7.528369903564453,
          -6.927824974060059,
          -6.343350887298584,
          -6.322000026702881,
          -7.279228210449219,
          -6.442070007324219,
          -6.607059955596924,
          -6.287670135498047,
          -6.33105999999998,
          -6.70348596572876,
          -6.688962936401367,
          -7.320844173431396,
          -6.867980003356934,
          -7.281099796295166,
          -6.477099895477295,
          -7.117000102996826,
          -6.834000110626221,
          -6.875999927520752,
          -7.145149999999944,
          -7.2417497634887695,
          -7.22208999999998,
          -7.634449958801269,
          -6.512350082397461,
          -6.525149822235107,
          -6.713549137115479,
          -6.238500118255615,
          -7.142294883728027,
          -6.8725762367248535,
          -6.266174793243408,
          -6.401199817657471,
          -7.811999797821045,
          -6.435365200042725,
          -6.758669999999938,
          -7.650000095367432,
          -6.445149898529053,
          -7.030803203582764,
          -6.857954025268555,
          -7.07831621170044,
          -6.853709999999978,
          -7.220900058746338,
          -6.444149971008301,
          -6.244400024414063,
          -6.291572093963623,
          -6.41802978515625,
          -6.686160087585449,
          -7.244999885559082,
          -7.373359203338623,
          -6.705889999999954,
          -6.221950054168701,
          -7.337500095367432,
          -7.13915491104126,
          -6.814469814300537,
          -6.152999877929688,
          -6.042981147766113,
          -6.93170690536499,
          -6.9813761711120605,
          -6.573299884796143,
          -6.467659999999967,
          -7.3474202156066895,
          -6.17126989364624,
          -7.251399993896484,
          -7.548930168151855,
          -6.8172807693481445,
          -6.057034015655518,
          -6.423299789428711,
          -6.573627948760986,
          -7.103720188140869,
          -6.1149001121521,
          -6.6098737716674805,
          -6.704079999999976,
          -6.471449851989746,
          -7.13415002822876,
          -6.790637969970703,
          -6.607748985290527,
          -6.010427951812744,
          -6.444651126861572,
          -7.499569892883301,
          -6.267158031463623,
          -7.718500137329102,
          -6.601659774780273,
          -6.342249870300293,
          -7.162458896636963,
          -6.577499866485596,
          null,
          -6.903769999999952,
          -6.71422004699707,
          -7.3892099999999346,
          -6.086599826812744,
          -7.432888984680176,
          -6.467654228210449,
          -6.993139999999926,
          -6.729934215545654,
          -7.013195037841797,
          -7.2066899999999805,
          -7.387053966522217,
          -7.1511969566345215,
          -7.248644828796387,
          -6.055935859680176,
          -7,
          -6.41315221786499,
          -7.396676063537598,
          -6.465000152587891,
          -6.521450042724609,
          -7.209334850311279,
          -7.441020011901855,
          -6.155439999999942,
          -6.620779999999968,
          -7.326178073883057,
          -7.145500183105469,
          -6.852847576141357,
          -6.525199890136719,
          -7.331600189208984,
          -7.25246999999996,
          -6.961900234222412,
          -6.678309917449951,
          -7.040792942047119,
          -7.250150203704834,
          -6.050425052642822,
          -6.468550205230713,
          -7.195254802703857,
          -6.232699871063232,
          -7.252200126647949,
          -7.1172299999999495,
          -6.717119999999966,
          -6.580903053283691,
          -6.670070171356201,
          -7.146699905395508,
          -6.254409790039063,
          -6.395400047302246,
          -6.488154888153076,
          -7.657779999999946,
          -6.235849857330322,
          -6.728299999999933,
          -7.288559999999961,
          -7.001068115234375,
          -6.935779999999966,
          -6.373403072357178,
          -7.017978191375732,
          -6.554329872131348,
          -6.341773986816406,
          -6.455415725708008,
          -7.135719999999935,
          -7.2459001541137695,
          -6.58380651473999,
          -7.150674819946289,
          -6.3486528396606445,
          -6.453852653503418,
          -6.888615131378174,
          -6.420046806335449,
          -7.031754970550537,
          -7.169836044311523,
          -7.546889999999962,
          -6.633131980895996,
          -6.986738204956055,
          -6.241000175476074,
          -6.491250038146973,
          -6.529660224914551,
          -7.212550163269043,
          -6.066810131072998,
          -7.011149883270264,
          -6.365109920501709,
          -7.570000171661377,
          -6.565000057220459,
          -6.2322998046875,
          -6.9222412109375,
          -6.697956085205078,
          -6.740690231323242,
          -6.352049827575684,
          -7.464469909667969,
          -7.651089999999954,
          -6.796510219573975,
          -6.085988998413086,
          -7.000899791717529,
          -7.023139999999955,
          -6.527388095855713,
          -6.572569999999928,
          -6.424600124359131,
          -6.395599842071533,
          -6.861759185791016,
          -6.2716498374938965,
          -6.437439999999981,
          -6.444386959075928,
          -6.5879998207092285,
          -7.425414085388184,
          -6.685019999999952,
          -7.411449909210205,
          -7.859000205993652,
          -6.6545000076293945,
          -6.31889009475708,
          -6.81478999999996,
          -6.721023082733154,
          -6.788772106170654,
          -6.724949999999978,
          -6.435736179351807,
          -7.197487831115723,
          -6.424099922180176,
          -6.626729965209961,
          -6.584099769592285,
          -6.784349918365479,
          -6.9620499999999765,
          -6.610001087188721,
          -7.076209999999946,
          -6.650489807128906,
          -6.317644119262695,
          -6.210402011871338,
          -6.650454998016357,
          -6.335569858551025,
          -7.125479999999925,
          -6.454850196838379,
          -7.161099910736084,
          -6.513889789581299,
          null,
          -7.015739999999937,
          -6.3970299999999725,
          -7.058440208435059,
          -7.003486156463623,
          -7.365699768066406,
          -7.039979934692383,
          -7.154099941253662,
          -7.63100004196167,
          -6.2322998046875,
          -6.703619999999944,
          -6.178500175476074,
          -6.442959999999971,
          -6.560128211975098,
          -6.301169872283936,
          -6.512927055358887,
          -6.442699909210205,
          -6.344200134277344,
          -7.160239999999931,
          -6.359499931335449,
          -6.481150150299072,
          -6.718540191650391,
          -6.3405199999999695,
          -6.1557297706604,
          -6.697887420654297,
          -6.539488792419434,
          -6.243299961090088,
          -6.249030113220215,
          -6.664769172668457,
          -6.274499893188477,
          -6.483500003814697,
          -6.355078220367432,
          -6.365109920501709,
          -6.722249984741211,
          -7.342299938201904,
          -7.159683227539063,
          -6.262199878692627,
          null,
          -6.721686363220215,
          -6.733189999999979,
          -7.212759999999946,
          -6.769629955291748,
          -6.252099990844727,
          -7.184689998626709,
          -6.358592987060547,
          -6.172999858856201,
          -6.4054999351501465,
          -6.051575183868408,
          -7.254630088806152,
          -6.45114803314209,
          -6.833769999999959,
          -6.75255012512207,
          -6.769269943237305,
          -6.543449878692627,
          -6.392650127410889,
          -6.292835235595703,
          -6.595923900604248,
          -7.1530199999999695,
          -6.11555999999996,
          -6.345600128173828,
          -7.27821683883667,
          -6.585899829864502,
          -7.303860187530518,
          -7.632542610168457,
          -7.229819999999961,
          -6.797120094299316,
          -6.942279999999926,
          -6.696979999542236,
          -6.359000205993652,
          -7.501129150390625,
          -7.265699863433838,
          -7.133519649505615,
          -7.10376999999994,
          -7.360799789428711,
          -7.133999824523926,
          -6.593202114105225,
          -6.515340805053711,
          -7.136000156402588,
          -7.400351047515869,
          -6.501369953155518,
          -6.461487770080566,
          -7.471749999999929,
          -6.014100074768066,
          -6.480470180511475,
          -6.988624095916748,
          -6.594540119171143,
          -7.113801956176758,
          -6.224649906158447,
          -6.2758002281188965,
          -7.576374053955078,
          -7.462979999999959,
          -6.04747200012207,
          -7.15500020980835,
          null,
          -6.7044199999999705,
          -6.356249809265137,
          -7.192770004272461,
          -6.135621070861816,
          -6.895060062408447,
          -6.462740898132324,
          -6.787689999999941,
          -7.343570232391357,
          -6.514750003814697,
          -6.994627952575684,
          -6.501299858093262,
          -6.364467144012451,
          -6.115900039672852,
          -6.77401999999995,
          -6.072269999999946,
          -7.187549999999931,
          -6.303350925445557,
          -6.281059999999968,
          -6.776879999999949,
          -6.100709915161133,
          -7.154300212860107,
          -6.922979831695557,
          -6.421599864959717,
          -7.218299865722656,
          -6.734189987182617,
          -7.114774227142334,
          -7.24459981918335,
          -6.163396835327148,
          -6.947479724884033,
          -6.173449993133545,
          -6.29970121383667,
          -7.619929790496826,
          -6.911052227020264,
          -6.821899890899658,
          -6.239999771118164,
          -6.775439999999946,
          -6.419869999999946,
          -6.42579984664917,
          -6.789706230163574,
          -6.402299880981445,
          -7.625999927520752,
          -7.018008232116699,
          -6.891759872436523,
          -6.91480016708374,
          -6.590060234069824,
          -7.362880229949951,
          -6.661549999999977,
          -7.55179500579834,
          -6.223100185394287,
          -6.304299831390381,
          -6.732085227966309,
          -7.149379999999951,
          -7.283179999999959,
          -6.2754998207092285,
          -6.34149980545044,
          -7.155888080596924,
          -6.476799964904785,
          -6.555799961090088,
          -6.447146415710449,
          -6.932546138763428,
          -7.114699840545654,
          -6.716018199920654,
          -6.192150115966797,
          -6.559499999999957,
          -6.806499999999971,
          -7.300929999999937,
          -6.340054988861084,
          -6.273039817810059,
          -6.417715072631836,
          -6.898589999999956,
          -6.309239864349365,
          -6.964963436126709,
          -6.165750026702881,
          -6.462910175323486,
          -7.15500020980835,
          -6.353565216064453,
          -7.130743026733398,
          -6.329179999999951,
          -6.521450042724609,
          -7.202744960784912,
          -7.687569999999937,
          -6.735620021820068,
          -6.711499999999944,
          -7.534200191497803,
          -6.633800029754639,
          -7.078711032867432,
          -6.601399999999956,
          -6.777212142944336,
          -7.239500045776367,
          -6.172450065612793,
          -7.827670097351074,
          -7.739999771118164,
          -6.905300140380859,
          -7.252469062805176,
          -6.448300838470459,
          -6.734896183013916,
          -7.217613220214844,
          -6.024284839630127,
          -6.414299964904785,
          -6.559144020080566,
          -6.983254909515381,
          -7.375100135803223,
          -6.511795997619629,
          -6.566123008728027,
          -6.831404209136963,
          -6.424149990081787,
          -6.53476095199585,
          -6.305423736572266,
          -6.983254909515381,
          -6.558985710144043,
          -6.231450080871582,
          -6.570809841156006,
          -6.642000198364258,
          -6.5032501220703125,
          -6.454296588897705,
          -6.992251873016357,
          -6.639999866485596,
          -5.984079999999949,
          -6.093675136566162,
          -6.295650005340576,
          -6.837949999999978,
          -6.884369999999933,
          -6.575590133666992,
          -6.534261226654053,
          -6.295864105224609,
          -6.588240146636963,
          -7.295263767242432,
          -6.828169822692871,
          -7.074900150299072,
          -6,
          -7.456881046295166,
          -6.489905834197998,
          -6.451838970184326,
          -6.390620231628418,
          -6.546999931335449,
          -7.136685371398926,
          -6.81397008895874,
          -6.1128997802734375,
          -7.216000080108643,
          -6.213699817657471,
          -6.494969844818115,
          -6.47130012512207,
          -6.275100231170654,
          -6.398910045623779,
          -7.025150775909424,
          -7.328999996185303,
          null,
          -6.790779999999927,
          -6.764190196990967,
          -6.885252952575684,
          -7.192460060119629,
          -6.555019999999956,
          -6.495204925537109,
          -6.5879998207092285,
          -6.554959774017334,
          -6.510099999999966,
          -6.191799999999944,
          -6.591689999999971,
          -6.098820209503174,
          -7.365320205688477,
          -7.520500183105469,
          -7.55755090713501,
          -7.109000205993652,
          -6.205900192260742,
          -6.121200084686279,
          -7.340406894683838,
          -6.878679999999974,
          -7.761199951171875,
          -6.252200126647949,
          -7.168169999999975,
          -6.450524806976318,
          -7.074889999999925,
          -6.278729999999939,
          -6.967166900634766,
          -7.003220081329346,
          -7.271999835968018,
          -6.573599815368652,
          -6.611789226531982,
          -7.246885776519775,
          -7.201000213623047,
          -7.24883508682251,
          -7.301082134246826,
          -7.183800220489502,
          -6.801578998565674,
          -7.223114013671875,
          -6.747109889984131,
          -7.339216232299805,
          -7.057425022125244,
          -7.271309999999971,
          -6.261449813842773,
          -6.579999999999927,
          -6.469749450683594,
          -6.652839999999969,
          -7.182196140289307,
          -6.985960006713867,
          -6.504930019378662,
          -6,
          -7.496160984039307,
          -6.752610206604004,
          -6.434800148010254,
          -6.485050201416016,
          -6.301667213439941,
          -6.565000057220459,
          -6.375907897949219,
          -7.186159999999973,
          -6.159639999999968,
          -6.978929999999934,
          -6.411732196807861,
          -7.539899999999932,
          -6.499456882476807,
          -7.048999786376953,
          -7.504454135894775,
          -7.280948162078857,
          -7.447030067443848,
          -6.645896911621094,
          -6.472700119018555,
          -7.229794502258301,
          -7.56066083908081,
          -6.565390110015869,
          -7.375510215759277,
          -7.011360168457031,
          -6.287471771240234,
          -6.3431501388549805,
          -6.707193851470947,
          -7.234670162200928,
          -7.085340976715088,
          -6.706943988800049,
          -6.874966621398926,
          -7.275228977203369,
          -7.134675025939941,
          -7.274759999999958,
          -6.74091911315918,
          -6.96357011795044,
          -6.683657169342041,
          -6.827879905700684,
          -7.254209041595459,
          -7.369180202484131,
          -6.334366798400879,
          -6.881879999999967,
          -6.95980978012085,
          -6.454492092132568,
          -7.084723949432373,
          -7.481520175933838,
          -7.125051021575928,
          -6.45389986038208,
          -6.184999942779541,
          -6.204619884490967,
          -6.343100070953369,
          -6.233799934387207,
          -6.939560890197754,
          -7.316999912261963,
          -7.28557014465332,
          -6.7279799999999454,
          -6.391846179962158,
          -6.279369831085205,
          -6.026113986968994,
          -6.758974552154541,
          -6.364637851715088,
          -6.47238302230835,
          -6.412970066070557,
          -6.978000164031982,
          -6.583449999999971,
          -7.251790523529053,
          -7.112500190734863,
          -6.623059999999953,
          -7.657339999999976,
          -6.490188121795654,
          -6.455659866333008,
          -6.844979763031006,
          -6.191199779510498,
          -6.580659866333008,
          -7.041259999999966,
          -7.0132551193237305,
          -6.032899856567383,
          -6.422999858856201,
          -6.816364765167236,
          -7.346149921417236,
          -7.557949999999948,
          -6.431399822235107,
          -6.136499881744385,
          -5.994089999999972,
          -7.715499877929687,
          -7.150319999999965,
          -6.365427970886231,
          -7.0500898361206055,
          -6.947795867919922,
          -6.391532897949219,
          -7.114950180053711,
          -6.9791998863220215,
          -6.373905181884766,
          -6.717840194702148,
          -6.571039999999925,
          -6.432079999999928,
          -6.3000168800354,
          -7.191359996795654,
          -7.647089999999935,
          -6.423719999999946,
          -7.289920806884766,
          -7.306917190551758,
          -6.370456218719482,
          -7.212500095367432,
          -7,
          -6.847282409667969,
          -7.150759999999934,
          -6.879539012908936,
          -6.656589984893799,
          -7.12824010848999,
          -6.650569915771484,
          -6.655399799346924,
          -6.744964122772217,
          -6.124384880065918,
          -6.024849891662598,
          -7.690000057220459,
          -7.14665999999994,
          -7.268144130706787,
          -6.283528804779053,
          -6.524109999999951,
          -6.812446117401123,
          -6.5802202224731445,
          -6.686849999999936,
          -6.421350002288818,
          -6.507841110229492,
          -7.074900150299072,
          -6.355000019073486,
          -6.44909999999993,
          -6.435999870300293,
          -7.050269999999955,
          -6.895061016082764,
          -6.191199779510498,
          -6.129247188568115,
          -6.643674850463867,
          -7.23689079284668,
          -6.309123992919922,
          -6.233650207519531,
          -7.350115013471857,
          -7.159414768218994,
          -6.244480133056641,
          -6.481500148773193,
          -7.310534954071045,
          -6.917160034179688,
          -6.915780067443848,
          -7.275228977203369,
          -6.833373069763184,
          -7.486229999999978,
          -6.340129999999931,
          -6.1656999588012695,
          -6.669489999999939,
          -6,
          -6.438230037689209,
          null,
          -6.331003189086914,
          -6.730809211730957,
          -7.051339626312256,
          -7.201000213623047,
          -7.2634501457214355,
          -7.284163951873779,
          -6.133600234985352,
          -6.133600234985352,
          -6.530350208282471,
          -6.155709999999942,
          -7.16686487197876,
          -6.192309856414795,
          -6.061827182769775,
          -6.473400115966797,
          -7.289639949798584,
          -7.604628086090088,
          -6.636069999999961,
          -6.739620208740234,
          -7.066127777099609,
          -7.097387790679932,
          -7.675210952758789,
          -7.033569812774658,
          -6.810428142547607,
          -6.653966903686523,
          -6.653009999999938,
          -6.7571001052856445,
          -7.206721782684326,
          -6.154300212860107,
          -6.339739999999949,
          -6.513026237487793,
          -6.808826923370361,
          -6.133600234985352,
          -6.273600101470947,
          -6.485899925231934,
          -6.227923393249512,
          -6.423399925231934,
          -6.946990966796875,
          -6.263299942016602,
          -6.019999980926514,
          -7.162919044494629,
          -7.109000205993652,
          -7.126500129699707,
          -6.877396583557129,
          -6.573800086975098,
          -6.134375095367432,
          -6.585000038146973,
          -7.159999847412109,
          -6.042300224304199,
          -6.750580787658691,
          -6.995299999999929,
          -6.284772872924805,
          -6.770459999999957,
          -6.304399967193604,
          -6.520759999999939,
          -6.287471771240234,
          -6.271500110626221,
          -7.067279999999926,
          -6.262499809265137,
          -6.736721992492676,
          -6.990397930145264,
          -6.595102787017822,
          -7.308499813079834,
          -6.96235990524292,
          -7.131249904632568,
          -6.274250030517578,
          -6.843329906463623,
          -6.881750106811523,
          -6.053139999999928,
          -6.849033355712891,
          -7.280509948730469,
          -7.115230083465576,
          -6.3122100830078125,
          -6.83542013168335,
          -6.58390998840332,
          -7.260541915893555,
          -6.725259999999935,
          -6.611789226531982,
          -6.2666399999999385,
          -7.554500102996826,
          -6.7322998046875,
          -7.6433186531066895,
          -6.7126400124806125,
          -6,
          -6.394601821899414,
          -6.492149829864502,
          -6.858168125152588,
          null,
          -7.021286964416504,
          -6.604919999999936,
          -6.85380220413208,
          null,
          -6.826669999999979,
          -6.456789970397949,
          -6.6089999999999804,
          -6.287269999999978,
          -7.026785850524902,
          -7.20320987701416,
          -6.631959915161133,
          -6.291250228881836,
          -6.316490173339844,
          -6.674399999999935,
          -7.7273454666137695,
          -7.343959808349609,
          -7.482289791107178,
          -7.169341087341309,
          -6.775300025939941,
          -6.533299922943115,
          -7.061200141906738,
          -6.2754998207092285,
          -6.559999942779541,
          -6.816188812255859,
          -7.234799861907959,
          -6.794640064239502,
          -6.184981822967529,
          -6.60367999999994,
          -6.796526908874512,
          -6.2340497970581055,
          -6.041500091552734,
          -6.989224910736084,
          -6.686446666717529,
          -7.011209964752197,
          -6.357318878173828,
          -6.367043972015381,
          -7.038474082946777,
          -6.95911979675293,
          -6.823345184326172,
          -7.56639999999993,
          -7.235013008117676,
          -7.151730060577393,
          -7.072109222412109,
          -7.161339999999939,
          -6.381149768829346,
          -6.681417942047119,
          -6.725780010223389,
          -6.924910068511963,
          -6.316389999999956,
          -6.562550067901611,
          -6.867595195770264,
          -7.269000053405762,
          -7.163407802581787,
          -7.376711845397949,
          -6.253049850463867,
          -6.535411357879639,
          -6.466089999999952,
          -6.95343017578125,
          -7.074100017547607,
          -6.460245132446289,
          -6.510900974273682,
          -6.404789924621582,
          -6.464404106140137,
          -6.433589935302734,
          -6.947899999999947,
          -7.126239999999939,
          -7.258910179138184,
          -6.443480014801025,
          -6.523499965667725,
          -7.658971786499023,
          -6.53000020980835,
          -7.253233432769775,
          -6.984458923339844,
          -6.598179817199707,
          -6.835169999999948,
          -6.439424991607666,
          -7.126999855041504,
          -7.030803203582764,
          -7.312952995300293,
          -6.996039999999937,
          -7.22100019454956,
          -6.850289821624756,
          -6.203350067138672,
          -7.436639785766602,
          -6.650000095367432,
          -7.572041988372803,
          -6.671488761901856,
          -7.003098011016846,
          -7.275228977203369,
          -7.1415629386901855,
          -6.998039999999946,
          -6.154699802398682,
          -6.501419999999939,
          -6.553335666656494,
          -7.6433186531066895,
          -6.641354084014893,
          -6.5,
          -6.374539852142334,
          -7.503689999999949,
          -7.615968227386475,
          -7.681552886962891,
          -6.27869987487793,
          -6.311233043670654,
          -6.818708896636963,
          -6.307479999999941,
          -6.746260166168213,
          -6.221549987792969,
          -6.860010147094727,
          -6.248624801635742,
          -7.173643112182617,
          -6.371329999999944,
          -6.502600193023682,
          -6.221049785614014,
          -7.415500164031982,
          -6.863616466522217,
          null,
          -6.432147026062012,
          -6.927959442138672,
          -6.345699787139893,
          -6.315000057220459,
          -6.625522136688232,
          -6.6595001220703125,
          -6.607924938201904,
          -6.514450073242188,
          -7.260669999999948,
          -6.422850131988525,
          -6.855010032653809,
          -6.425300121307373,
          -6.223849773406982,
          -7.348684787750244,
          -6.73799991607666,
          -7.002449989318848,
          -6.253200054168701,
          -6.982629776000977,
          -6.637622833251953,
          -6.485700130462647,
          -6.351449966430664,
          -7.145039999999938,
          -7.308882236480713,
          -6.445650100708008,
          -7.161649999999952,
          -7.420553684234619,
          -6.855000019073486,
          -7.409999847412109,
          -7.42527999999993,
          -6.809645175933838,
          -7.149345874786377,
          -6.776509999999973,
          -7.316999912261963,
          -7.647739887237549,
          -7.249240875244141,
          -6.333547115325928,
          -7.522056102752685,
          -6.501009941101074,
          -7.295499801635742,
          -7.344769954681396,
          -6.812829971313477,
          -6.640649999999937,
          -6.678159236907959,
          -7.260199999999941,
          -6.353419780731201,
          -6.4758501052856445,
          -6.172200202941895,
          -6.469700813293457,
          -6.920695781707764,
          -6.923409938812256,
          -7.096710205078125,
          -7.33540678024292,
          -6.723525524139404,
          -6.61339282989502,
          -6.839019775390625,
          -7.23199987411499,
          -7.471679999999935,
          -6.669990062713623,
          -6.726669788360596,
          -6.356156826019287,
          -7.368189811706543,
          -6.58568000793457,
          -7.011529922485352,
          -6.414949893951416,
          -7.2116851806640625,
          -6.582230091094971,
          -6.172210216522217,
          -6.514979839324951,
          -6.37886905670166,
          -6.571927070617676,
          -6.888652801513672,
          null,
          -7.354680061340332,
          -6.562112808227539,
          -7.012149810791016,
          -7.049900054931641,
          -6.169372081756592,
          -7.222000122070312,
          -6.42667818069458,
          -7.005904197692871,
          -7.221108436584473,
          -7.250546932220459,
          -6.594649791717529,
          -6.952102184295654,
          -7.016880035400391,
          -7.320069789886475,
          -7.09896993637085,
          -7.61048698425293,
          -7.165050029754639,
          -6.6500749588012695,
          -7.671050071716309,
          -6.57905387878418,
          -6.888609999999972,
          -6,
          -7.156919956207275,
          -6.927959442138672,
          -7.285699844360352,
          -5.945499999999981,
          -7.012330055236816,
          -7.109000205993652,
          -6.31374979019165,
          -6.343550205230713,
          -6.6245198249816895,
          -6.893633842468262,
          -6.725210189819336,
          -6.022204875946045,
          -7.251874923706055,
          -7.0540947914123535,
          -6.560244083404541,
          -6.635063171386719,
          -6.154799938201904,
          -6.105100154876709,
          -6.344649791717529,
          -6.1289299999999685,
          -7.265620231628418,
          -6.052279999999939,
          -6.18384999999995,
          -6.089230060577393,
          -6.0340189933776855,
          null,
          -7.554999828338623,
          -7,
          -6.99314022064209,
          -7.155200004577637,
          -7.3648681640625,
          -6.016600131988525,
          -6.443059921264648,
          -6.221149921417236,
          -7.495338916778564,
          -6.099520206451416,
          -6.2230000495910645,
          -6.551511764526367,
          -7.313759803771973,
          -6.6982099999999605,
          -6.093082904815674,
          -7.1593899999999735,
          -6.390009880065918,
          -7.459249973297119,
          -7.221499919891357,
          -7.268650054931641,
          -6.927959442138672,
          -6.062692165374756,
          -6.809875965118408,
          -6.894999980926514,
          -6.309341907501221,
          -7.110710144042969,
          -7.368810176849365,
          -6.57450008392334,
          -6.8461198806762695,
          -6.961929798126221,
          -6.21068000793457,
          -6.262499809265137,
          -6.472514152526856,
          -6.412499904632568,
          -6.307479999999941,
          -7.163125991821289,
          -6.2012939453125,
          -6.332179999999937,
          -7.61048698425293,
          -6.133600234985352,
          -7.300858020782471,
          -7.120699882507324,
          -6.269649982452393,
          -6.8104699999999525,
          -7.045470237731934,
          -7.203229904174805,
          -6.657464027404785,
          -6.253499984741211,
          -6.144899845123291,
          -6.399229999999932,
          -6.4878997802734375,
          -6.504599999999925,
          -6.962870121002197,
          -6.753993034362793,
          -7.32478666305542,
          -6.668849945068359,
          -6.985799789428711,
          -6.604829999999936,
          -6.952779769897461,
          -7.503343105316162,
          -7.0788679122924805,
          -6.404799938201904,
          -6.435299873352051,
          -6.182630062103272,
          -6.48514986038208,
          -6.195499897003174,
          -6.361949920654297,
          -7.269155025482178,
          -6.331789016723633,
          -6.973139762878418,
          -7.864999771118164,
          -7.4586501121521,
          -6.425000190734863,
          -7.0761895179748535,
          -7.023630142211914,
          -6.755000114440918,
          -7.121019840240479,
          -7.173408031463623,
          -6.694659999999942,
          -6.543000221252441,
          -7.211800098419189,
          -6.399395942687988,
          -6.402649879455566,
          -6.417766094207764,
          -6.168920040130615,
          -6.424200057983398,
          -6.988423824310303,
          null,
          -6.746469974517822,
          -7.16195011138916,
          -7.53000020980835,
          -6.799749851226807,
          -6.59250020980835,
          -7.125626087188721,
          -6.904990196228027,
          -6.827469999999948,
          -6.568239999999946,
          -6.896845817565918,
          -6.394960880279541,
          -6.251369953155518,
          -7.054679999999962,
          -6.8110999999999535,
          -6.420499801635742,
          -6.777567863464356,
          -6.972519999999975,
          -6.64806079864502,
          -6.811773300170898,
          -6.302949905395508,
          -6.089779999999962,
          -6.206363677978516,
          -6.8602299999999445,
          -6.273499965667725,
          -6.550069999999948,
          -6.525700092315674,
          -6.244800090789795,
          -6.390620231628418,
          -7.052999973297119,
          -7.232749938964844,
          -7.526000022888184,
          -6.303999900817871,
          -6.50402307510376,
          -7.01346492767334,
          -7.087830066680908,
          -7.214680194854736,
          -7.015999794006348,
          -6.587377071380615,
          -6.560579999999959,
          -6.664968967437744,
          -6.39008999999993,
          -6.780714988708496,
          -7.212500095367432,
          -7,
          -7.142749786376953,
          -7.183259999999962,
          -7.144859999999937,
          -7.134500026702881,
          -6.311950206756592,
          -7.191149999999936,
          -6.351500034332275,
          -6.735019999999963,
          -6.313499927520752,
          -7.3779802322387695,
          -6.356639862060547,
          -7.273499965667725,
          -6.776750087738037,
          -7.614999771118164,
          -6.833850860595703,
          -6.553899765014648,
          -7.09509801864624,
          -6.836999893188477,
          -6.343349933624268,
          -6.906378269195557,
          -6.888882160186768,
          -7.128716468811035,
          -6.8977899999999295,
          -7.84499979019165,
          -6.285039999999981,
          -6.421150207519531,
          -7.150674819946289,
          -6.663644790649414,
          -6.140067100524902,
          -7.202539999999942,
          -7.0361738204956055,
          -6.113519191741943,
          -6.712755012192183,
          -6.96538782119751,
          -7.305799961090088,
          -6.320650100708008,
          -7.301519870758057,
          -6.969789981842041,
          -6.808238983154297,
          -7.171999931335449,
          -6.596419811248779,
          -7.166779041290283,
          -7.152569999999969,
          -6.611789226531982,
          -6.5100998878479,
          -6.789169788360596,
          -6.458878040313721,
          -6.380699999999933,
          -7.275228977203369,
          -6.493750095367432,
          -6.223490238189697,
          -6.697956085205078,
          -7.133190155029297,
          -7.201000213623047,
          -7.18131685256958,
          -6.7181501388549805,
          -7.731389999389648,
          -7.323070049285889,
          -6.567069053649902,
          -7.228202819824219,
          -7.530499935150146,
          -6.923540115356445,
          -6.59149980545044,
          -6.032219886779785,
          -7.530399799346924,
          -6.611789226531982,
          -7.222909927368164,
          -7.701733112335205,
          -6.418086051940918,
          -7.281260013580322,
          -7.096649999999954,
          -6.7557759284973145,
          -6.068319999999972,
          -7.399659999999926,
          -7.1947197914123535,
          -6.373592853546143,
          -7.810999870300293,
          -7.42048978805542,
          -6.977047920227051,
          -6.333978176116943,
          -6.381722927093506,
          -6.761799812316895,
          -6.411200046539307,
          -6.815209865570068,
          -7.6491899490356445,
          -6.412000179290772,
          -7.335899829864502,
          -6.472893238067627,
          -7.160409999999956,
          -7.3632001876831055,
          -6.871289999999931,
          -6.941669940948486,
          -6.242549896240234,
          -6.311610221862793,
          -6.317122459411621,
          -7.462133884429932,
          -7.17405999999994,
          -7.333089828491211,
          -6.262050151824951,
          -6.927959442138672,
          -6.180849999999964,
          -6.606589794158936,
          null,
          -6.160250186920166,
          -6.815454006195068,
          -7.33512020111084,
          -7.042725086212158,
          -7.334090232849121,
          -7.630000114440918,
          -6.99387788772583,
          -6.473549999999932,
          -7.333475112915039,
          -6.725628852844238,
          -6.424623966217041,
          -6.330286026000977,
          -7.514589786529541,
          -7.310150146484375,
          -6.632999897003174,
          -6.444149017333984,
          -7.241909999999962,
          -6.507880210876465,
          -7,
          -6.722099781036377,
          -6.917900085449219,
          -6.993959903717041,
          -6.927299999999946,
          -6.958079814910889,
          -6.355000019073486,
          -6.301750183105469,
          -6.514400005340576,
          -7.299970149993896,
          -6.425970077514648,
          -7.378039836883545,
          -6.384349822998047,
          -7.334968090057373,
          -6.635400772094727,
          -7.375119999999981,
          -7.302494049072266,
          -6.515379999999936,
          -7.341970920562744,
          -6.324540138244629,
          -7.313014984130859,
          -7.393252849578857,
          -7.0467681884765625,
          -6.466300010681152,
          -6.593599999999981,
          -6.437167167663574,
          -7.311490058898926,
          -7.568309783935547,
          -7.50629997253418,
          -7.037849999999935,
          -7.228449999999952,
          -6.904139995574951,
          -7.080810070037842,
          -7.147180080413818,
          -6.635400772094727,
          -6.404819999999972,
          -6.515749931335449,
          -6.434589999999957,
          -6.446109999999976,
          -6.765349864959717,
          -6.541800022125244,
          -7.177976131439209,
          -6.376935958862305,
          -6.01639986038208,
          -6.977964878082275,
          -7.714000225067139,
          -7.06024999999994,
          -6.274250030517578,
          -6.322500228881836,
          -6.969600200653076,
          -6.3468098640441895,
          -7.554999828338623,
          -7.277999877929687,
          -6.323177814483643,
          -6.908642768859863,
          -6.966219902038574,
          -7.353968143463135,
          -7.1745123863220215,
          -6.085540771484375,
          -6.214950084686279,
          -7.323190212249756,
          -6.507750034332275,
          -7.0688982009887695,
          -6.58370304107666,
          -7.190509999999961,
          -7.153104782104492,
          -6.357759999999928,
          -7.264200210571289,
          -6.603812217712402,
          -7.23199987411499,
          -7.358500003814697,
          -6.513400077819824,
          -7.486769999999979,
          -6.28810977935791,
          -7.4586501121521,
          -7.50862979888916,
          -6.418570041656494,
          -6.421500205993652,
          -7.068041324615479,
          -7.050501823425293,
          -6.722989999999925,
          -6.411300182342529,
          -7.270636081695557,
          -6.891689999999926,
          -7.248559951782227,
          -6.732869999999934,
          -7.005680084228516,
          -7.275228977203369,
          -6.2716498374938965,
          -7.1128997802734375,
          -6.651166915893555,
          -7.649157047271728,
          -6.133109999999931,
          -6.971089839935303,
          -7.111499786376953,
          -6.443279266357422,
          -6.757999999999981,
          -6.217239999999947,
          -6.799647808074951,
          -6.13926887512207,
          -7.59726619720459,
          -6.475749969482422,
          -6.345699787139893,
          -7.570261001586914,
          -6.657154083251953,
          -6.882159999999942,
          -6.677579879760742,
          -6.6671576499938965,
          -6.183279991149902,
          -7.525000095367432,
          -6.290472030639648,
          -6.521366119384766,
          -7.154210090637207,
          -6.76387882232666,
          -6.725539999999967,
          -6.391950130462647,
          -7.516499996185303,
          -6.133600234985352,
          -7.338729858398437,
          -7.033850193023682,
          -6.698439999999948,
          -6.754098892211914,
          -7.050876140594482,
          -6.173200130462647,
          -7.337500095367432,
          -6.352914810180664,
          -7.002884864807129,
          -7.252917766571045,
          -7.38117504119873,
          -6.96340799331665,
          -6.424009999999953,
          -6.583498954772949,
          -6.520090103149414,
          -6.453852653503418,
          -6.5921502113342285,
          -7.095768928527832,
          -6.736770153045654,
          -6.612800121307373,
          -7.082689999999957,
          -6.708729999999946,
          -7.07648515701294,
          -7.100039958953857,
          -6.913410186767578,
          -6.334199905395508,
          -6.273499965667725,
          -7.005906105041504,
          -6.25933313369751,
          -6.924239158630371,
          -6.766203880310059,
          -6.962478160858154,
          -7.015850067138672,
          -6.425099849700928,
          -6.610000133514404,
          -7.524839878082275,
          -7.193349838256836,
          -7.061903953552246,
          -7.07078218460083,
          -6.644079999999974,
          -7.2870001792907715,
          -6.395299911499023,
          -6.639999866485596,
          -7.145999908447266,
          -7.275228977203369,
          -6.41185998916626,
          -6.649400234222412,
          -6.62027999999998,
          -6.244480133056641,
          -7.17170000076294,
          -7.109000205993652,
          -7.041619777679443,
          -7.0656418800354,
          -6.816799163818359,
          -6.391610145568848,
          -6.232999801635742,
          -6.541349999999966,
          -7.429999828338623,
          -6.254370212554932,
          -6,
          -6.952079772949219,
          -6.543622970581055,
          -6.335149765014648,
          -6.568759918212891,
          -6.776225090026856,
          -6.352630138397217,
          -7.151199817657471,
          -6.5906901359558105,
          -6.857954025268555,
          -6.306069850921631,
          -6.9282097816467285,
          -6.598781108856201,
          -6.804869999999937,
          -6.472809999999981,
          -6.051199913024902,
          -7.373209999999972,
          -6.379879999999957,
          -6.797130107879639,
          -7.112500190734863,
          -7.111069999999927,
          -6.564174175262451,
          -7.330599784851074,
          -6.817289999999957,
          -7.054241180419922,
          -6.272600173950195,
          -6.394050121307373,
          -7.160800457000732,
          -7.11678999999998,
          -7.649499893188477,
          -6.463900089263916,
          -6.768362998962402,
          -7.18333999999993,
          -7.056719999999928,
          -6.761390209197998,
          -6.934229850769043,
          -6.33103084564209,
          -6.961520195007324,
          -6.85092830657959,
          -6.49098014831543,
          -6.681417942047119,
          -7.03914999999995,
          -7.189760208129883,
          -7.396180152893066,
          -7.1031999588012695,
          -6.168580055236816,
          -7.303822994232178,
          -6.278379917144775,
          -6.521345138549805,
          -6.654979228973389,
          -6.430411815643311,
          -6.664609909057617,
          -7.321090221405029,
          -6.668000221252441,
          -6.572649955749512,
          -7.040269999999964,
          -6.783769999999947,
          -6.552334785461426,
          -7.312757968902588,
          -6.5648393630981445,
          -6.993785858154297,
          -7.291979789733887,
          -6.606090068817139,
          -6.526634216308594,
          -7.317464828491211,
          -6.529260158538818,
          -6.305458068847656,
          -6.186579999999935,
          -7.222099781036377,
          -7.067417144775391,
          -7.006729999999948,
          -7.161689999999965,
          -6.247019767761231,
          -6.80872917175293,
          -6.808939933776856,
          -6.370469999999955,
          -7.34991979598999,
          -7.327310085296631,
          -7.2546000480651855,
          -6.822268962860107,
          -6.557299999999941,
          -6.931069999999977,
          -6.350409984588623,
          -6.969900131225586,
          -7,
          -6.361664772033691,
          -7.357059955596924,
          -6.378409862518311,
          -6.242700099945068,
          -7.411799907684326,
          -6.473587989807129,
          -7.26055383682251,
          -6.7643585205078125,
          -6.990207195281982,
          -6.496575832366943,
          -6.158740043640137,
          -6.6519799999999805,
          -6.95904016494751,
          -6.582890033721924,
          -7.366769790649414,
          -6.832042217254639,
          -6.5135498046875,
          -7.371359999999981,
          -7.294099807739258,
          -6.849649906158447,
          -6.712130069732666,
          -6.628409862518311,
          -7.274689999999964,
          -7.198048114776611,
          -6.367290019989014,
          -6.868008136749268,
          -6.922959804534912,
          -7.371799945831299,
          -6.351808071136475,
          -7.157141208648682,
          -7.032288074493408,
          -6.533699989318848,
          -6.161573886871338,
          -7.215000152587891,
          -7.28154993057251,
          -7.804812908172607,
          -6.340764999389648,
          -6.908949851989746,
          -6.214250087738037,
          -6.648990154266357,
          -7.238047122955322,
          -7.100472927093506,
          -7.322800159454346,
          -7.209079999999972,
          -6.927430152893066,
          -7.203110218048096,
          -6.95665979385376,
          -6.929309844970703,
          -6.937180042266846,
          -6.493750095367432,
          -6.4361348152160645,
          -6.403518199920654,
          -7.313419818878174,
          -7.328999996185303,
          -6.796889781951904,
          -6.762053966522217,
          -6.325500011444092,
          -6.676339999999925,
          -6.678346157073975,
          -7.220416069030762,
          -6.381412029266357,
          -6.6849470138549805,
          -6.497073173522949,
          -6.943158149719238,
          -6.105807781219482,
          -6.52281379699707,
          -6.324390888214111,
          -6.879796981811523,
          -7.234000205993652,
          -6.345699787139893,
          -7.090189933776856,
          -6.392650127410889,
          -6.799930095672607,
          -7.020689999999945,
          -6.801425933837891,
          -6.301700115203857,
          -6.606884479522705,
          -6.681059837341309,
          -6.525199890136719,
          -6.261250019073486,
          null,
          -6.223683834075928,
          -6.632211208343506,
          -7.056959999999947,
          -7.067845821380615,
          -6.38601016998291,
          -6.957769999999925,
          -6.759419918060303,
          -7.037302017211914,
          -7.057000160217285,
          -6.373905181884766,
          -6.130199999999945,
          -6.794190883636475,
          -6.353882789611816,
          -7.342450141906738,
          -7.335100173950195,
          -6.436999797821045,
          -6.163750171661377,
          -7.462080001831055,
          -7.486349999999959,
          null,
          -7.12274980545044,
          -6.733670711517334,
          -7.494371891021728,
          -7.3855299949646,
          -7.079014778137207,
          -6.545175075531006,
          -6.591700077056885,
          -6.432000160217285,
          -6.924369812011719,
          -7.060902118682861,
          -6.721549987792969,
          -6.303400039672852,
          -7.058390140533447,
          -6.729559898376465,
          -6.762350082397461,
          -6.404250144958496,
          -7.017282009124756,
          -6.370779037475586,
          null,
          -6.255249977111816,
          -6.563061237335205,
          -7.0392937660217285,
          -7.1839599609375,
          -6.582940101623535,
          -6.588769912719727,
          -7.09829044342041,
          -6.919649999999933,
          -6.648409843444824,
          -7.01230001449585,
          -7.161449909210205,
          -6.6669020652771,
          -7.461120128631592,
          -7.011561870574951,
          -7.6992998123168945,
          -7.418849945068359,
          -7.240900039672852,
          -6.92874002456665,
          -7.216209888458252,
          -6.449969999999951,
          -6.444920063018799,
          -6.299339771270752,
          -6.994540691375732,
          -7.005940914154053,
          -7.328660011291504,
          -6.692708015441895,
          -6.373627185821533,
          -6.884200096130371,
          -7.2935028076171875,
          -6.785124778747559,
          -6.588850021362305,
          -6.958139896392822,
          -6.21560001373291,
          -6.422316074371338,
          -7.327089786529541,
          -7.210525035858154,
          -7.051304817199707,
          -6.14462999999995,
          -7.314239978790283,
          -6.553140163421631,
          -7.374499797821045,
          -6.9115400314331055,
          -7.078114032745361,
          -7.133500099182129,
          -6.559526920318604,
          -6.407700061798096,
          -6.8049499999999625,
          -7.554999828338623,
          -6.9280500411987305,
          -6.747520923614502,
          -7.275228977203369,
          -7.034377098083496,
          -6.747000217437744,
          -7.451749801635742,
          -6.36398983001709,
          -6.537386894226074,
          -6.518580913543701,
          -6.573938846588135,
          -7.359119892120361,
          -6.715034484863281,
          -7.650919914245605,
          -6.113659858703613,
          -6.3854498863220215,
          -7.619309902191162,
          -7.360010147094727,
          -7.275228977203369,
          -6.6784257888793945,
          -6.969437122344971,
          -6.926129817962647,
          -6.95320987701416,
          -7.369820117950439,
          -6.960471153259277,
          -6.414899826049805,
          -6.868920803070068,
          -7.305681228637695,
          -6.963449954986572,
          -6.442789999999945,
          -6.315999984741211,
          -6.115200042724609,
          -7.325699806213379,
          -6.785138130187988,
          -6.454750061035156,
          -6.577129999999954,
          -6.272749900817871,
          -6.362649917602539,
          -6.1479997634887695,
          -7.0110697746276855,
          -6.630198955535889,
          -6.746766090393066,
          -6.77726999999993,
          -6.517208099365234,
          -6.482850074768066,
          -6.515769999999975,
          -6.439000129699707,
          -6.834440231323242,
          -6.292189999999948,
          -6.706150054931641,
          -7.275228977203369,
          -6.314799785614014,
          -7.071651935577393,
          -6.392063617706299,
          -6.720909999999947,
          -6.004204273223877,
          -6.683481216430664,
          -6.93179988861084,
          -6.954770088195801,
          -6.322000026702881,
          -6.645799999999952,
          -6.211649894714356,
          -7.657999992370605,
          -6.355000019073486,
          -6.936999797821045,
          -7.012159824371338,
          -7.057382106781006,
          -6.387710094451904,
          -7.030803203582764,
          -7.238500118255615,
          -7.053699999999935,
          -7.6319169998168945,
          -6.440549850463867,
          -6.9124298095703125,
          -7.255749999999978,
          -6.573279857635498,
          -6.950699806213379,
          -6.203849792480469,
          -6.0879998207092285,
          -6.466899871826172,
          -6.38532304763794,
          -6.219625949859619,
          -6.936960220336914,
          -6.565425872802734,
          -6.768743991851807,
          -7.277420043945312,
          -6.540874004364014,
          -6.348562240600586,
          -7.015009999999961,
          -6.521366119384766,
          -6.249464988708496,
          -7.176933765411377,
          -6.439000129699707,
          -7.145869999999945,
          -7.099999904632568,
          -6.323579788208008,
          -7.250247001647949,
          -7.026000022888184,
          -6.712979793548584,
          -7.234000205993652,
          -6.158470153808594,
          -6.452020168304443,
          -6.307938098907471,
          -7.0375518798828125,
          -7.386099815368652,
          -7.664820194244385,
          -7.266749858856201,
          -7.417160034179687,
          -6.927959442138672,
          -6.133600234985352,
          -7.043247222900391,
          -6.290505886077881,
          -7.213650226593018,
          -6.998623847961426,
          -6.893829822540283,
          -7.316479999999956,
          -6.24478006362915,
          -6.474489999999946,
          -7.3403000831604,
          -6.367010116577148,
          -6.613699913024902,
          -7.131899833679199,
          -6.550699999999949,
          -6.5092299999999454,
          -5.968019999999967,
          -6.361730098724365,
          -6.493589999999927,
          -6.274250030517578,
          -6.322549999999978,
          -6.572892189025879,
          -6.514400005340576,
          -6.564799999999934,
          -7.045807838439941,
          -6.5915299999999775,
          -7.210108280181885,
          -6.1844000816345215,
          -6.081389904022217,
          -6.784356117248535,
          -7.282120227813721,
          -6.495250225067139,
          -7.185550212860107,
          -6.912749767303467,
          -6.849772930145264,
          -7.189740180969238,
          -6.770819999999958,
          -6.671527862548828,
          -6.465330123901367,
          null,
          -6.4909257888793945,
          -6.437107086181641,
          -6.939009999999939,
          -6.643899917602539,
          -6.299220085144043,
          -6.374975204467773,
          -6.910140037536621,
          -6.689229999999952,
          -7.286769866943359,
          -6.380408763885498,
          -7.216149806976318,
          -7.332789897918701,
          -6.362800121307373,
          -6.4945502281188965,
          -6.651550769805908,
          -6.72936999999996,
          -6.369999885559082,
          -6.981090068817139,
          -7.068109035491943,
          -6.185709999999972,
          -6.694983959197998,
          -7.051689999999951,
          -6.329928874969482,
          -6.545255184173584,
          -6.356253147125244,
          -6.525229999999965,
          -7.046000003814697,
          null,
          -6.616363048553467,
          -6.747389793395996,
          -6.694869995117188,
          -6.842009999999959,
          -7.303806781768799,
          -7.399700164794922,
          -7.069206237792969,
          -7.022639999999967,
          -7.320320129394531,
          -7.214109897613525,
          -6.9435200691223145,
          -7.011360168457031,
          -6.93681001663208,
          -6.680109977722168,
          -6.832042217254639,
          -6.155600070953369,
          -6.94691801071167,
          -7.3381547927856445,
          -6.812625885009766,
          -6.5574798583984375,
          -7.366310119628906,
          -6.949339866638184,
          -6.296089172363281,
          -6.271519999999953,
          -7.21097993850708,
          -7.006909999999948,
          -6.740622043609619,
          -7.20599999999996,
          -6.927060127258301,
          -6.729400157928467,
          -7.012229919433594,
          -6.391701698303223,
          -7.210999965667725,
          -6.978879928588867,
          -7.210000038146973,
          -6.735829830169678,
          -7.069717884063721,
          -6.959859848022461,
          -7.104627132415772,
          -7.373819828033447,
          -6.441139999999962,
          -7.295263767242432,
          -6.181700229644775,
          -7.310004234313965,
          -7.275228977203369,
          -6.286065101623535,
          -6.751978874206543,
          -6.987165927886963,
          -6.887319999999932,
          -7.271999835968018,
          -6.486149999999952,
          -6.255849838256836,
          -6.36299991607666,
          null,
          -7.204649999999958,
          -6.3259100914001465,
          -6.48114013671875,
          -6.917449951171875,
          -6.995096206665039,
          -6.944439888000488,
          -6.738080978393555,
          -6.917240142822266,
          -6.817910194396973,
          -7.0472798347473145,
          -6.93543004989624,
          -6.413750171661377,
          -6.909259796142578,
          -6.633969783782959,
          -6.732399999999927,
          -6.746309999999937,
          -7.004509925842285,
          -6.634807109832764,
          -6.419879913330078,
          -6.344200134277344,
          -6.353750228881836,
          -6.823740005493164,
          -7.249080181121826,
          -6.295499801635742,
          -6.205593585968018,
          -6.698349952697754,
          -7.483889999999974,
          -7.272095203399658,
          -6.893010139465332,
          -6.535900115966797,
          -7.19310998916626,
          -6.556680202484131,
          -6.560036659240723,
          -6.95999002456665,
          -7.046426773071289,
          -7.125800132751465,
          -7.305580139160156,
          -6.954569816589356,
          -6.817969999999946,
          -6.95306921005249,
          -7,
          -6.811737060546875,
          -6.383676052093506,
          -6.572300910949707,
          -7.4004597663879395,
          -6.653472900390625,
          -7.319819927215576,
          -7.0976738929748535,
          -7.080882549285889,
          -6.975100040435791,
          -7.177090167999268,
          -6.648780345916748,
          -6.953473091125488,
          -6.103689193725586,
          -6.888837814331055,
          -6.466989994049072,
          -7.1546502113342285,
          -6.7288899421691895,
          -6.823519999999974,
          -6.302999973297119,
          -7.050876140594482,
          -6.3190460205078125,
          null,
          -6.313000202178955,
          -6.823340892791748,
          -7.035583972930908,
          -6.5737504959106445,
          -6.7926177978515625,
          -6.633969783782959,
          -6.843689999999981,
          -6.345699787139893,
          -6.383256912231445,
          -7.250875949859619,
          -6.271378993988037,
          -6.4953499999999735,
          -6.447575092315674,
          -6.530610084533691,
          -6.3542799949646,
          -6.5487799644470215,
          -7.275228977203369,
          -7.1382598876953125,
          -6.926770210266113,
          -7.054569999999956,
          -6.273049831390381,
          -6.714015960693359,
          -6.927740097045898,
          -6.432209968566895,
          -6.833152294158936,
          -6.798669999999959,
          -6.877997875213623,
          -6.807219982147217,
          -6.791417121887207,
          -6.925594806671143,
          -7.117000102996826,
          -6.7010369300842285,
          -6.467942237854004,
          -7.030971050262451,
          -7.103937149047852,
          -6.556340217590332,
          -7,
          -6.60506010055542,
          -7.167500019073486,
          -6.773340225219727,
          -6.619577884674072,
          -6.917119979858398,
          -6.314430236816406,
          -6.311850070953369,
          -6.125319957733154,
          -6.9288201332092285,
          -6.7198100090026855,
          -7.466629999999952,
          -6.492124080657959,
          -6.195121765136719,
          -6.65897798538208,
          -6.418769836425781,
          -6.54649019241333,
          -6.155700206756592,
          -7.6992998123168945,
          -6.4079999923706055,
          -6.855281829833984,
          -7.142683029174805,
          -6.853899955749512,
          -6.550320148468018,
          -7.224668025970459,
          -6.62021017074585,
          -7.344989776611328,
          -6.244189739227295,
          -6.975069999694824,
          -6.31060999999994,
          -7.15427303314209,
          -6.681313991546631,
          -6.952459812164307,
          -7.30265998840332,
          -7.280131816864014,
          -6.717380523681641,
          -6.562112808227539,
          -7.199059963226318,
          -6.8461198806762695,
          -6.677849999999978,
          -6.926949977874756,
          -6.204500198364258,
          -6.780362129211426,
          -6.293900012969971,
          -7.083951950073242,
          -6.3846282958984375,
          -7.385429859161377,
          -6.436500072479248,
          -6.1903599999999415,
          -6.505350112915039,
          -6.290849999999978,
          -6.482600212097168,
          -6.353750228881836,
          -6.6358962059021,
          -6.529270172119141,
          -6.56117582321167,
          -6.73298978805542,
          -7.345749855041504,
          -6.773910999298096,
          -6.597919940948486,
          -6.414899826049805,
          -7.388309955596924,
          -6.7582597732543945,
          -6.845205783843994,
          -6.97081995010376,
          -6.646644115447998,
          -6.939911842346191,
          -6.561840057373047,
          -6.987010002136231,
          -6.181139999999971,
          -6.561369895935059,
          -6.168580055236816,
          -6.93940019607544,
          -7,
          -7.611000061035156,
          -7.351930141448975,
          -6.867199897766113,
          -6.399298191070557,
          -6.937479972839356,
          -6.807489999999973,
          -7.177760124206543,
          -6.952159881591797,
          -6.348164081573486,
          -6.939560890197754,
          -6.740509986877441,
          -7.292664051055908,
          -6.972259999999949,
          -7.109000205993652,
          -7.275228977203369,
          -7.319900989532471,
          -6.723059999999975,
          -6.88847017288208,
          -7,
          -6.730470180511475,
          -7.430500030517578,
          -6.698659999999961,
          -6.485700130462647,
          -7.654500007629394,
          -7.055939674377441,
          -7.01127815246582,
          -7.431324005126953,
          -6.552929878234863,
          -6.44857120513916,
          -6.945795059204102,
          -7.013205051422119,
          -6.594799995422363,
          -7.322649955749512,
          -6.330182075500488,
          -6.390997886657715,
          -6.900432586669922,
          -7.007983207702637,
          -6.875569820404053,
          -6.241645010300751,
          -7.275228977203369,
          -7.209569931030273,
          -6.61244010925293,
          -6.9374098777771,
          -7.169848918914795,
          -6.822889999999973,
          -6.905570030212402,
          -6.635280132293701,
          -6.605003833770752,
          -6.975830078125,
          -6.899479866027832,
          -7.034749984741211,
          -6.829790115356445,
          -6.897500038146973,
          -6.292699813842773,
          -6.612189769744873,
          -6.650394916534424,
          -6.971549987792969,
          -7.046479999999974,
          -6.369575023651123,
          -6.564390182495117,
          -7.16540002822876,
          -7.051499843597412,
          -6.574682235717773,
          -6.946479797363281,
          -6.803299999999979,
          -6.333303928375244,
          -6.355058670043945,
          -6.320380210876465,
          -7.137897491455078,
          -6.532180309295654,
          -6.995570182800293,
          -6.989999771118164,
          -6.731621265411377,
          -7.7270002365112305,
          -7.088364124298096,
          -6.154799938201904,
          -6.571805953979492,
          -6.282311916351318,
          -6.379360198974609,
          -6.402136325836182,
          -6.825949192047119,
          -7.249117851257324,
          -7.076539039611816,
          -6.922920227050781,
          -6.319459915161133,
          -6.934329986572266,
          -6.591119766235352,
          null,
          -6.468810081481934,
          -7.232769966125488,
          -7.0749359130859375,
          -6.989640235900879,
          -7.551000118255615,
          -6.351222991943359,
          -7.23475980758667,
          -6.915120124816895,
          -7,
          -6.67924690246582,
          -6.834109783172607,
          -7.039999961853027,
          -6.552599906921387,
          -7.169280052185059,
          -6.366459846496582,
          -6.237199783325195,
          -6.529389999999978,
          -7.021200180053711,
          -6.550360202789307,
          -6.689949999999953,
          -6.707858085632324,
          -6.261449813842773,
          -7.056719999999928,
          -6.492459774017334,
          -6.165777683258057,
          -7.048039999999958,
          -6.652740001678467,
          -6.332719802856445,
          -6.734329999999943,
          -7.362473011016846,
          -6.636360168457031,
          -6.818789958953857,
          -6.556940078735352,
          -7.07664680480957,
          -6.020470142364502,
          -6.856560230255127,
          -6.214700222015381,
          -7.2606201171875,
          -6.644599914550781,
          -6.660404205322266,
          -6.417590141296387,
          -6.718485355377197,
          -6.255650043487549,
          -7.176933765411377,
          -6.907680034637451,
          -6.52647876739502,
          -6.6175971031188965,
          -6.9304399490356445,
          -6.552277565002441,
          -6.243896484375,
          -6.311849117279053,
          -7.243100166320801,
          -7.278329849243164,
          -6.950913906097412,
          -6.033599853515625,
          -7.208300113677978,
          -6.571710109710693,
          -7.2175798416137695,
          -7.204338073730469,
          -6.275599956512451,
          -6.195950031280518,
          -6.911229999999932,
          -6.910339832305908,
          -6.833330154418945,
          -6.9971199999999385,
          -6.909649848937988,
          -6.102109909057617,
          -6.661355972290039,
          -6.816559999999981,
          -6.158789999999954,
          -6.292449951171875,
          -6.36460018157959,
          -7.041649999999947,
          -6.4340500831604,
          -6.698959827423096,
          -6.9088897705078125,
          -6.32105016708374,
          -6.846293926239014,
          -6.545899868011475,
          -6.677979946136475,
          -6.988624095916748,
          -6.238500118255615,
          -6.734409809112549,
          -6.940141201019287,
          -6.8126420974731445,
          -6.317113876342773,
          -6.36860990524292,
          -7.070300102233887,
          -6.53026008605957,
          -6.832042217254639,
          -7.050000190734863,
          -6.429689884185791,
          -6.9488301277160645,
          -7.189010143280029,
          -7,
          -6.203000068664551,
          -6.914519999999925,
          -7.001112937927246,
          -7.392230033874512,
          -6.582988262176514,
          -6.886300086975098,
          -6.485000133514404,
          -6.901679992675781,
          -7.092779999999948,
          -7.680676937103271,
          -6.949810028076172,
          -6.85094690322876,
          -6.72629976272583,
          -6.479139804840088,
          -6.89169979095459,
          -7.165999889373779,
          -7.301589965820312,
          -6.982594013214111,
          -6.830705165863037,
          -6.940110206604004,
          -7.275228977203369,
          -6.558589935302734,
          -6.811145782470703,
          -7.271539999999959,
          -6.940429999999935,
          -6.695004940032959,
          -6.438474178314209,
          -7.076080799102783,
          -6.909039974212647,
          -6.840371131896973,
          -7.381810188293457,
          -6.209889999999973,
          -7.241459999999961,
          -6.461999893188477,
          -6.689828872680664,
          -6.690389156341553,
          -6.463949999999954,
          -7.325469970703125,
          -7.087850093841553,
          -7.303819999999973,
          -7.546707153320312,
          -6.339119911193848,
          -6.1677799999999365,
          -6.32318115234375,
          -7.122000217437744,
          -6.232900142669678,
          -6.584690093994141,
          -6.982212066650391,
          -6.930609999999945,
          null,
          -6.372769832611084,
          -7.200620174407959,
          -7,
          -6.376609802246094,
          -6.528810024261475,
          -7.525195121765137,
          -6.168000221252441,
          -6.4127631187438965,
          -6.77370023727417,
          -7.357570171356201,
          -7.0081892013549805,
          -6.754008769989014,
          -6.749000072479248,
          -6.608924865722656,
          -7.246500015258789,
          -6.832042217254639,
          -6.811930179595947,
          -6.973473072052002,
          -6.196526050567627,
          -6.971124172210693,
          -6.251450061798096,
          -6.706189999999936,
          -7.208640098571777,
          -6.865394115447998,
          -7.213580131530762,
          -6.165900230407715,
          -6.355350017547607,
          -7.20359992980957,
          -7.216149806976318,
          -7.019444942474365,
          -6.515091896057129,
          -6.920569896697998,
          -7.01800012588501,
          -6.709042072296143,
          -6.668892860412598,
          -6.871920108795166,
          -6.927229881286621,
          null,
          -7.329909801483154,
          -7,
          -7.162000179290772,
          -6.447390079498291,
          -6.382325172424316,
          -6.605679988861084,
          -6.439089775085449,
          -6.986578941345215,
          -6.353730201721191,
          -6.748290061950684,
          -7.2023701667785645,
          -6.564380168914795,
          -6.753472805023193,
          -6.845959999999934,
          -6.316408157348633,
          -6.83404016494751,
          -7.309829235076904,
          -6.6286702156066895,
          -6.901179790496826,
          -6.243539810180664,
          -6.462130069732666,
          -6.476840019226074,
          -6.269205093383789,
          -6.162700176239014,
          -6.321400165557861,
          -6.919221878051758,
          -7.076829433441162,
          -6.435299873352051,
          -6.934959888458252,
          -7.045499801635742,
          -7.285999774932861,
          -6.838689999999929,
          -6.152100086212158,
          -6.920559883117676,
          -6.546239852905273,
          -7.00480318069458,
          -7.09324312210083,
          -7.223000049591064,
          -6.5619001388549805,
          -6.840329170227051,
          -6.515453815460205,
          -6.690868854522705,
          -7.020150184631348,
          -7.073838233947754,
          -7.322000026702881,
          -6.571199893951416,
          -7.677631855010986,
          -7.112500190734863,
          -6.876452922821045,
          -6.705530166625977,
          -7.102759838104248,
          -6.900129795074463,
          -6.526249885559082,
          -6.983829975128174,
          -6.926129817962647,
          -6.419973850250244,
          -6.7743821144104,
          -7.079154014587402,
          -6.4028000831604,
          -6.381450176239014,
          -6.819250106811523,
          -7.117269992828369,
          -6.394289970397949,
          -6.483449935913086,
          -6.468999862670898,
          -6.560731887817383,
          -7.116002082824707,
          -6.9088897705078125,
          -6.857459999999946,
          -6.9976911544799805,
          -6.827849864959717,
          -6.315450191497803,
          -7.1605000495910645,
          -7.542150020599365,
          -6.504429999999957,
          -6.612040042877197,
          -7.07220983505249,
          -6.832439999999963,
          -6.112164974212647,
          -6.595550060272217,
          -6.369400024414063,
          -6.3427276611328125,
          -7.35307502746582,
          -7.334799766540527,
          -6.563139915466309,
          -6.4374098777771,
          -7.615968227386475,
          -6.849708080291748,
          -7.081536769866943,
          -6.904819965362549,
          -6.921899795532227,
          -6.421050071716309,
          -6.922339916229248,
          -6.881130218505859,
          -7.357150077819824,
          -6.429989337921143,
          -6.213290214538574,
          -6.575139999389648,
          -6.53863000869751,
          -6.439011096954346,
          -7,
          -6.56063985824585,
          -6.972060203552246,
          -6.823999999999955,
          -6.457789999999932,
          -7.192999839782715,
          -6.65077018737793,
          -6.962810039520264,
          -7.023289999999975,
          -6.211949825286865,
          -6.25600004196167,
          -6.242599964141846,
          -6.341800212860107,
          -6.423999786376953,
          -6.649940013885498,
          -7.040999889373779,
          -6.85545015335083,
          -6.716917037963867,
          -6.886569976806641,
          -6.304200172424316,
          -6.943158149719238,
          -7.0609099999999785,
          -6.892990112304688,
          -6.862609999999961,
          -7.022619999999961,
          -7.221499919891357,
          -6.9352898597717285,
          -6.502500057220459,
          -7.215089797973633,
          -6.810490131378174,
          -6.947169780731201,
          -6.921460151672363,
          -7.375949859619141,
          -7.304500102996826,
          -6.61584997177124,
          -6.771279811859131,
          null,
          -6.401400089263916,
          -6.327539999999942,
          -7.1382598876953125,
          -6.918429851531982,
          -7.032328128814697,
          -6.4435200691223145,
          -6.840199947357178,
          -6.225830078125,
          -6.314317226409912,
          -7.403200149536133,
          null,
          -6.476319789886475,
          -6.574580192565918,
          -7.372680187225342,
          -6.957510948181152,
          -6.572100162506104,
          -6.954383850097656,
          -6.545549999999935,
          -6.899109840393066,
          -6.575650215148926,
          -7.0059919357299805,
          -6.985630035400391,
          -7.054928779602051,
          -6.619793891906738,
          -6.232900142669678,
          -7.002837181091309,
          -6.939949989318848,
          -6.376780033111572,
          -7.093494892120361,
          -6.467722892761231,
          -6.483903884887695,
          -6.52786999999995,
          -6.926790237426758,
          -7.055824279785156,
          -6.323249816894531,
          -7.177999973297119,
          -6.2247700691223145,
          -6.908929824829102,
          -7.019906997680664,
          -6.532080173492432,
          -6.456611156463623,
          -6.870209999999929,
          -7.025177001953125,
          -6.882459163665772,
          -6.4275898933410645,
          -6.265439987182617,
          -6.29246997833252,
          -6.598740100860596,
          -6.613594055175781,
          -6.171899795532227,
          -6.285280227661133,
          -7.345600128173828,
          -6.578919887542725,
          -6.833559989929199,
          -7.026869773864746,
          -7.411293983459473,
          -6.932340145111084,
          -7.050933837890625,
          -6.154399871826172,
          -6.838389999999947,
          -6.9728169441223145,
          -6.910160064697266,
          -6.391839981079102,
          -6.364713668823242,
          -6.278850078582764,
          -6.573234081268311,
          -7.326300144195557,
          -6.404719829559326,
          -6.315810203552246,
          -6.218469999999968,
          -7.171999931335449,
          -6.97428999999994,
          -7.015570163726807,
          -6.605669999999975,
          -6.820119857788086,
          -7.37194013595581,
          -6.955083847045898,
          -6.416049957275391,
          -6.255467891693115,
          -6.439300060272217,
          -6.27400016784668,
          -7.222000122070312,
          -7.05068302154541,
          -6.264800071716309,
          -6.864267826080322,
          -7.332009792327881,
          -6.4823408126831055,
          -7.420499801635742,
          -6.386340141296387,
          -7.328529834747314,
          -6.23199987411499,
          -6.491209983825684,
          -6.346159934997559,
          -7.314000129699707,
          -6.908999919891357,
          -6.888070106506348,
          -6.92657995223999,
          -6.157599925994873,
          -7.731389999389648,
          -6.8003129959106445,
          -6.947780132293701,
          -6.946020126342773,
          -6.932159900665283,
          null,
          -6.304230213165283,
          -6.337989807128906,
          -6.541170120239258,
          -7.0638298988342285,
          -7.011785984039307,
          -6.418950080871582,
          -6.421050071716309,
          -6.553538799285889,
          -6.904210090637207,
          -6.560659885406494,
          -7.313729763031006,
          -6.398561954498291,
          -6.495757102966309,
          -7.036189079284668,
          -6.755270004272461,
          -6.98452091217041,
          -6.4443440437316895,
          -6.273345947265625,
          -6.581560134887695,
          -6.916520118713379,
          -6.281599998474121,
          -7.0500898361206055,
          -6.938089847564697,
          -6.312679767608643,
          -6.6987799999999424,
          -6.140379905700684,
          -6.888460159301758,
          -6.491330146789551,
          -7.275290012359619,
          -6.8938398361206055,
          -6.904170036315918,
          -7.325699806213379,
          -6.327209949493408,
          -6.316999912261963,
          -6.483699798583984,
          -6.932799816131592,
          -6.903779983520508,
          -6.734469890594482,
          -6.8323259353637695,
          -6.452972888946533,
          -6.54971981048584,
          -6.263062953948975,
          -7.198200225830078,
          -6.924890041351318,
          -6.931270122528076,
          -6.171293258666992,
          -6.745160102844238,
          -7.379169940948486,
          -6.899580001831055,
          -6.360000133514404,
          -6.375609874725342,
          -6.392920017242432,
          -6.50793981552124,
          -6.492559909820557,
          -6.76200008392334,
          -6.419973850250244,
          -6.431765079498291,
          -6.915410041809082,
          -6.68166999999994,
          -6.5517401695251465,
          -6.959129810333252,
          -6.9062018394470215,
          -6.873899936676025,
          -6.989569999999958,
          -6.72245979309082,
          -6.775409999999965,
          -6.195720195770264,
          -6.911230087280273,
          -7.112724781036377,
          -6.544020175933838,
          -6.706178188323975,
          -6.429999828338623,
          -6.915070056915283,
          -6.4168477058410645,
          -6.903069999999957,
          -6.545899868011475,
          -7.114715099334717,
          -6.347630023956299,
          -6.571060180664063,
          -6.70163106918335,
          -6.952310085296631,
          -6.563230037689209,
          -6.457940101623535,
          -6.276500225067139,
          -6.901790142059326,
          -6.420289993286133,
          -6.61067008972168,
          -6.235799789428711,
          -6.43582010269165,
          -6.40880999999996,
          -6.883150100708008,
          -6.591629981994629,
          -6.511630058288574,
          -6.81056022644043,
          -6.474466323852539,
          -6.713369846343994,
          -6.917119979858398,
          -6.937950134277344,
          -6.941319999999962,
          -7.191999912261963,
          -6.339369773864746,
          -6.919179916381836,
          -6.922810077667236,
          -6.219419956207275,
          -6.501873016357422,
          -6.257603168487549,
          -6.367660045623779,
          -6.253849983215332,
          -6.753932952880859,
          -6.350450038909912,
          -7.092483043670654,
          -6.75685453414917,
          -7.131527900695801,
          -6.433229923248291,
          -7.330361843109131,
          -7.123000144958496,
          -6.842743873596191,
          -6.691454887390137,
          -6.420750141143799,
          -6.420199871063232,
          -6.964849948883057,
          -6.947249889373779,
          -6.982999999999947,
          -6.579179763793945,
          -7.275228977203369,
          -7.322082042694092,
          -6.930160045623779,
          -6.4697699546813965,
          -6.284999847412109,
          -6.900090217590332,
          -6.464869976043701,
          -6.735814571380615,
          -6.594560146331787,
          -6.894659996032715,
          -6.620930194854736,
          -6.948949813842773,
          -6.374879837036133,
          -6.940670013427734,
          -7,
          -6.8588972091674805,
          -6.446730136871338,
          -6.420199871063232,
          -6.315149784088135,
          -6.30364990234375,
          -6.31974983215332,
          -6.556940078735352,
          -6.182630062103272,
          -7.348629951477051,
          -6.589749813079834,
          -6.814630031585693,
          -6.223199844360352,
          -6.892970085144043,
          -6.908979892730713,
          -6.621716022491455,
          -6.325039863586426,
          -6.923449993133545,
          -6.356639862060547,
          -6.337200164794922,
          -6.909890174865723,
          -7.311279773712158,
          -6.849207878112793,
          -6.4036641120910645,
          -6.611770153045654,
          -6.954319953918457,
          -6.567920207977295,
          -6.607719898223877,
          -6.1149001121521,
          -6.9404802322387695,
          -6.299270153045654,
          -6.242849826812744,
          -7.086937427520752,
          -6.877830028533936,
          -6.92110013961792,
          -7.04765510559082,
          -6.865099906921387,
          -6.867310047149658,
          -6.829348087310791,
          -6.837390899658203,
          -6.94651985168457,
          -6.962080001831055,
          -6.89995002746582,
          -6.3401618003845215,
          -6.392920017242432,
          -6.931119918823242,
          -7.318830013275146,
          -6.56928014755249,
          -6.324069976806641,
          -6.969110012054443,
          -6.398736953735352,
          -6.374470233917236,
          -6.994289999999978,
          -7.190999984741211,
          -6.573327541351318,
          -6.895359992980957,
          -6.917399883270264,
          -7.226449966430664,
          -6.805408000946045,
          -6.973059999999975,
          -6.437679767608643,
          -6.301310062408447,
          -6.568779945373535,
          -7.030506134033203,
          -6.925620079040527,
          -6.265896797180176,
          -6.48507022857666,
          -6.894609928131104,
          -7.071136951446533,
          -6.394969940185547,
          -6.947619915008545,
          -6.366649999999936,
          -7.0478620529174805,
          -7,
          -6.499709999999936,
          -7.134097576141357,
          -6.952000141143799,
          -6.573269844055176,
          -6.740719795227051,
          -6.371620178222656,
          -6.305399894714356,
          -6.922725200653076,
          -6,
          -7.022429943084717,
          -6.825159999999926,
          -6.396664142608643,
          -6.891089916229248,
          -7.0291428565979,
          -6.922130107879639,
          -6.316050052642822,
          -7.018428325653076,
          -6.916769981384277,
          -7.336359977722168,
          -6.38267993927002,
          -7.0114359855651855,
          -6.986249923706055,
          -6.455900192260742,
          -6.832419999999956,
          -7.083809852600098,
          -6.290430068969727,
          -6.54090999999994,
          -6.283400058746338,
          -6.833355903625488,
          -6.362299919128418,
          -6.306862831115723,
          -6.834389999999928,
          -6.851779937744141,
          -6.875529766082764,
          -7.041468143463135,
          -6.913387775421143,
          -7.179999828338623,
          -6.300670146942139,
          -7.311659812927246,
          -7.045536994934082,
          -6.98016999999993,
          -7.02140998840332,
          -6.895040035247803,
          -6.90337999999997,
          -7.077517986297607,
          -6.607719898223877,
          -6.515890121459961,
          -6.579914093017578,
          -6.205979824066162,
          -6.561379909515381,
          -6.939000129699707,
          -6.424950122833252,
          -6.416359901428223,
          null,
          -6.959074974060059,
          -6.187269999999955,
          -6.5788397789001465,
          -6.901050090789795,
          -6.999059999999929,
          -6.239069938659668,
          -6.481470108032227,
          -6.261769771575928,
          -6.882019996643066,
          -6.435840129852295,
          -6.581210136413574,
          -6.9234700202941895,
          -6.257119178771973,
          -6.1570000648498535,
          -6.934249877929688,
          -7.056189999999958,
          -6.885059833526611,
          -6.891809940338135,
          -6.394869804382324,
          -6.315090179443359,
          -6.264530181884766,
          -6.581799983978272,
          -6.922130107879639,
          -6.41264009475708,
          -6.976950168609619,
          -6.519999980926514,
          -6.424699783325195,
          -6.945690155029297,
          -6.260210037231445,
          -6.398220062255859,
          -6.943759918212891,
          -6.942489999999964,
          -6.902500152587891,
          -6.996387958526611,
          -6.868366718292236,
          -6.878719806671143,
          -6.7569098472595215,
          -6.364999771118164,
          -7.235000133514404,
          -6.267549991607666,
          -6.29449987411499,
          -6.526634216308594,
          -6.834849834442139,
          -6.919489860534668,
          -7.189499855041504,
          -6.186890125274658,
          -6.389247417449951,
          -6.26678991317749,
          -6.453400135040283,
          -6.454219818115234,
          -6.278160095214844,
          -6.718329906463623,
          -6.826221942901611,
          -6.405829906463623,
          -6.927040100097656,
          -6.151000022888184,
          null,
          -6.934694766998291,
          -6.610829830169678,
          -6.430901050567627,
          -6.484000205993652,
          -6.974400997161865,
          -6.394659996032715,
          -6.878530025482178,
          -6.288700103759766,
          -6.230569839477539,
          -6.97112512588501,
          -7.053229999999928,
          -7.055766105651856,
          -6.910039901733398,
          -6.9262518882751465,
          -6.807649999999967,
          -6.457190036773682,
          -6.975428104400635,
          -6.224409999999978,
          -7.205999851226807,
          -6.872000217437744,
          -6.922540187835693,
          -6.995490074157715,
          -6.868889808654785,
          -6.365880012512207,
          -6.954130172729492,
          -6.431240081787109,
          -6.85976505279541,
          -7.029469966888428,
          -6.296170234680176,
          -7.051769999999976,
          -6.262080192565918,
          -7.015079975128174,
          -6.681604385375977,
          -6.285600185394287,
          -6.829360008239746,
          -6.419666767120361,
          -6.274119853973389,
          -6.405021190643311,
          -6.365540027618408,
          -6.239130020141602,
          -6.861979961395264,
          -6.575754642486572,
          -6.216529846191406,
          -6.282179832458496,
          -6.899169921875,
          -6.232830047607422,
          -6.626556873321533,
          -6.379370212554932,
          -6.253220081329346,
          -6.394720077514648,
          -7.232999801635742,
          -6.292409896850586,
          -6.535974025726318,
          -6.390049934387207,
          -6.371750831604004,
          -6.905900001525879,
          -6.29364013671875,
          -6.247889041900635,
          -6.260039806365967,
          -6.385499954223633,
          -6.400109767913818,
          -6.268380165100098,
          -6.850780010223389,
          -6.389689922332764,
          -6.937459945678711,
          -7.275228977203369,
          -6.951214790344238,
          -6.234729766845703,
          -6.242660045623779,
          -6.231420040130615,
          -6.242280006408691,
          -6.263189792633057,
          -6.870910167694092,
          -6.241525173187256,
          -6.236827850341797,
          -6.187049865722656,
          -6.407879829406738,
          -6.206709861755371,
          -6.207900047302246,
          -6.283539772033691,
          -6.232344627380371,
          -6.9121198654174805,
          -6.36244010925293,
          -7.010890007019043,
          -6.183239936828613,
          -6.23268985748291,
          -6.921609878540039,
          -6.323249816894531,
          -6.18858003616333
         ],
         "lon": [
          107.20911000000008,
          108.54911000000004,
          108.31875610351562,
          108.2943115234375,
          108.48083000000008,
          108.23470306396484,
          108.42410278320312,
          108.62735000000004,
          108.30336000000004,
          108.32250213623048,
          108.24349975585938,
          null,
          108.52679443359376,
          106.5518035888672,
          108.44117736816406,
          null,
          108.19621276855467,
          108.3215789794922,
          108.29122161865234,
          108.51939392089844,
          108.4260025024414,
          107.53205871582033,
          108.28900146484376,
          108.67957000000008,
          108.33972930908205,
          108.4736328125,
          108.48963165283205,
          108.48083000000008,
          108.4978256225586,
          108.45829010009766,
          108.30457305908205,
          107.53836059570312,
          108.455322265625,
          108.44570000000004,
          108.19229888916016,
          108.4300308227539,
          108.47079467773438,
          108.28476000000006,
          108.5952606201172,
          108.47772216796876,
          108.55185000000006,
          107.93299865722656,
          108.35479736328124,
          108.58127000000007,
          108.28579711914062,
          108.54736328125,
          108.30570220947266,
          108.47897338867188,
          108.47594451904295,
          108.193603515625,
          107.42109000000004,
          108.45442962646484,
          108.18350219726562,
          108.62962000000005,
          108.31900024414062,
          108.38328552246094,
          108.17410278320312,
          107.09200286865234,
          108.5473403930664,
          108.24199676513672,
          108.34830474853516,
          null,
          108.21279907226562,
          null,
          106.5709991455078,
          108.3169403076172,
          108.32303619384766,
          106.97196197509766,
          108.61459350585938,
          108.2938003540039,
          107.45511000000003,
          108.20339965820312,
          107.35417938232422,
          107.79379272460938,
          108.23269653320312,
          108.181396484375,
          108.25569915771484,
          108.45549774169922,
          107.00379943847656,
          null,
          107.02670288085938,
          107.45999908447266,
          108.23081000000008,
          108.32109832763672,
          107.33399963378906,
          108.4674072265625,
          108.39466000000004,
          107.25507354736328,
          108.23400115966795,
          108.29431000000004,
          107.91860000000008,
          108.18804168701172,
          108.20277404785156,
          108.35279083251952,
          108.20277404785156,
          106.5022964477539,
          108.37310028076172,
          107.52159881591795,
          106.47339630126952,
          106.88020324707033,
          108.57642000000004,
          108.58349609375,
          108.24920654296876,
          108.1218490600586,
          108.27570343017578,
          108.49610137939452,
          108.03340911865234,
          108.24935150146484,
          108.2249984741211,
          108.25,
          108.33999633789062,
          108.59950256347656,
          108.19270324707033,
          108.11409759521484,
          108.45173645019533,
          null,
          106.49510192871094,
          108.3822021484375,
          108.48083000000008,
          108.24435424804688,
          107.87988000000009,
          106.9749984741211,
          106.98291778564452,
          107.37239837646484,
          107.51699829101562,
          108.64600372314452,
          107.31109619140624,
          108.26180267333984,
          108.52838134765624,
          108.4431381225586,
          107.75442000000004,
          108.2490005493164,
          108.20539855957033,
          107.06422000000003,
          108.6044692993164,
          108.25270080566406,
          107.5239028930664,
          108.23400115966795,
          108.24340057373048,
          108.46686553955078,
          108.1125030517578,
          106.47059631347656,
          108.61699676513672,
          null,
          108.34380340576172,
          107.49372863769533,
          108.44170379638672,
          108.26100158691406,
          108.2155990600586,
          108.19349670410156,
          107.53924560546876,
          107.14440155029295,
          108.2155990600586,
          108.32813000000004,
          107.10820770263672,
          108.58648681640624,
          108.31082916259766,
          107.31289672851562,
          108.53109741210938,
          108.66798000000006,
          108.44055938720705,
          108.20159912109376,
          107.19775390625,
          108.50072479248048,
          108.32386000000008,
          108.2910385131836,
          108.52566528320312,
          108.6547393798828,
          108.11000061035156,
          108.50562286376952,
          108.3344955444336,
          108.51300048828124,
          108.48641204833984,
          107.38392000000005,
          108.28849792480467,
          107.3134994506836,
          108.29966735839844,
          107.06574249267578,
          108.35567000000007,
          108.1811981201172,
          108.71248000000008,
          107.14846801757812,
          108.39327239990234,
          107.22899627685548,
          108.41100311279295,
          108.5,
          107.27320098876952,
          107.2110824584961,
          106.97763000000003,
          107.1021499633789,
          107.43535614013672,
          108.37000274658205,
          107.5540542602539,
          108.22699737548828,
          108.19290161132812,
          108.72404479980467,
          108.47489166259766,
          108.52961730957033,
          108.5210418701172,
          108.1519012451172,
          108.68879699707033,
          108.19539642333984,
          108.32298000000009,
          108.52940368652344,
          108.29199981689452,
          108.24549865722656,
          106.57379150390624,
          107.48489000000006,
          108.25569915771484,
          108.2750015258789,
          108.4527587890625,
          108.47799682617188,
          108.57389831542967,
          107.21150207519533,
          107.46900177001952,
          108.36038970947266,
          108.47162000000009,
          107.27788000000004,
          108.43621826171876,
          108.33241271972656,
          108.33280181884766,
          108.35064697265624,
          108.3608169555664,
          108.21138763427734,
          107.59429931640624,
          107.51564025878906,
          108.18190002441406,
          107.82559967041016,
          107.46470642089844,
          107.37478637695312,
          108.34367370605467,
          108.28242000000006,
          107.16060638427734,
          108.51473999023438,
          108.52621459960938,
          108.21430206298828,
          108.26300048828124,
          108.19005000000004,
          108.33981000000006,
          108.5543975830078,
          108.18299865722656,
          null,
          108.25013732910156,
          108.58505000000008,
          107.39667510986328,
          107.61695861816406,
          107.6362075805664,
          106.76785278320312,
          108.54182000000009,
          108.33404000000009,
          107.49442291259766,
          107.4654541015625,
          107.19503784179688,
          108.67625000000004,
          108.50562286376952,
          107.53175354003906,
          108.1852035522461,
          108.20269775390624,
          108.23259735107422,
          108.24089813232422,
          108.36212158203124,
          107.44349670410156,
          108.2938995361328,
          108.69837951660156,
          108.28221000000008,
          106.94667000000004,
          108.24569702148438,
          107.91200256347656,
          108.50334167480467,
          108.35590362548828,
          108.67668000000003,
          108.41812896728516,
          107.01430000000003,
          108.58896000000004,
          107.1248016357422,
          108.16539764404295,
          107.1564483642578,
          108.49839782714844,
          108.2132568359375,
          108.30538000000008,
          108.14462280273438,
          108.33901000000009,
          108.55182647705078,
          108.2751007080078,
          108.13340759277344,
          107.39679718017578,
          108.5006103515625,
          108.34896850585938,
          107.22579956054688,
          107.2323989868164,
          107.32286000000003,
          108.52393341064452,
          108.52010345458984,
          108.31016000000004,
          107.52999877929688,
          108.23390197753906,
          108.46141815185548,
          108.42870330810548,
          108.4958724975586,
          107.00876000000004,
          107.57464599609376,
          108.46638000000009,
          107.44845000000004,
          107.10250091552734,
          107.28329467773438,
          108.28704833984376,
          108.19249725341795,
          107.32350158691406,
          108.1050033569336,
          108.1636962890625,
          108.23380279541016,
          108.47705078125,
          108.3490753173828,
          108.27758026123048,
          null,
          106.49510192871094,
          108.29064000000004,
          108.38417000000004,
          108.45549774169922,
          108.55927000000008,
          108.27239990234376,
          108.19499969482422,
          108.50929260253906,
          108.2145004272461,
          108.5566864013672,
          108.21160125732422,
          108.13189697265624,
          108.5599594116211,
          108.61013793945312,
          107.30169677734376,
          108.64117431640624,
          108.13359832763672,
          107.24217224121094,
          107.54272000000007,
          108.50491333007812,
          108.29991912841795,
          107.55800000000004,
          null,
          108.34259796142578,
          107.39419555664062,
          108.45696258544922,
          108.2219009399414,
          108.29297637939452,
          108.49164581298828,
          107.83999633789062,
          107.29429000000005,
          108.39386749267578,
          108.64014000000007,
          107.3102035522461,
          108.14800262451172,
          107.77906000000009,
          108.24400329589844,
          108.43771362304688,
          108.49053192138672,
          107.30130004882812,
          108.567138671875,
          108.41200256347656,
          107.54768371582033,
          107.41545867919922,
          108.09651947021484,
          107.10523000000006,
          108.43971252441406,
          108.50012969970705,
          108.31868743896484,
          108.39876556396484,
          108.3000030517578,
          107.23209381103516,
          108.4004135131836,
          108.3654327392578,
          108.53631000000009,
          108.5191421508789,
          108.82086181640624,
          106.54149627685548,
          107.17823791503906,
          108.3052978515625,
          107.4166030883789,
          107.47421264648438,
          108.14324951171876,
          107.45223236083984,
          108.52977752685548,
          108.18800354003906,
          106.98492000000005,
          108.40216064453124,
          108.18824768066406,
          108.40070343017578,
          108.24085235595705,
          108.48497000000005,
          107.77293000000007,
          108.3113021850586,
          108.19539642333984,
          108.54196166992188,
          107.36267852783205,
          108.60936000000004,
          108.49656677246094,
          108.3231964111328,
          107,
          108.58064270019533,
          107.51799774169922,
          108.71174621582033,
          108.54587000000004,
          108.48083000000008,
          108.46059000000008,
          108.1937026977539,
          108.25299835205078,
          108.50324249267578,
          108.3275146484375,
          108.31400299072266,
          108.22570037841795,
          107.1514129638672,
          108.25765991210938,
          107.91410064697266,
          107.44477081298828,
          107.91200256347656,
          108.27439880371094,
          108.65213012695312,
          108.37000274658205,
          108.27973175048828,
          107.05110931396484,
          108.48890686035156,
          108.3749008178711,
          107,
          108.31165000000004,
          108.39031219482422,
          108.20838928222656,
          108.3702163696289,
          108.515380859375,
          108.31901000000003,
          107.50669860839844,
          108.35316000000006,
          108.41799000000007,
          null,
          108.4928741455078,
          108.30460357666016,
          106.9494400024414,
          107.47073364257812,
          107.36414000000008,
          108.20523071289062,
          108.331298828125,
          107.11180114746094,
          107.32613372802734,
          108.50212860107422,
          108.2229995727539,
          108.32810974121094,
          107.5223388671875,
          108.49917602539062,
          108.30188751220705,
          107.4499969482422,
          107.145751953125,
          108.51022338867188,
          107.17894744873048,
          106.55590057373048,
          107.07367706298828,
          106.35590362548828,
          108.27378845214844,
          108.55728912353516,
          108.32667000000004,
          108.23184204101562,
          108.34500122070312,
          108.37107849121094,
          108.13135528564452,
          107.29419708251952,
          108.62410736083984,
          108.4572982788086,
          108.2332992553711,
          107.34170532226562,
          107.40433502197266,
          108.33999633789062,
          108.50858306884766,
          108.6474380493164,
          108.41807556152344,
          108.23722076416016,
          108.14309692382812,
          108.67062377929688,
          107.2873992919922,
          108.71397399902344,
          107.41680145263672,
          107.74500274658205,
          108.43599700927734,
          107.44747924804688,
          108.53990936279295,
          108.17359924316406,
          108.27429962158205,
          107.23079681396484,
          108.1718521118164,
          107.49160766601562,
          108.56514739990234,
          108.15330505371094,
          107.51055000000008,
          108.28479766845705,
          108.1756820678711,
          null,
          107.49340057373048,
          108.7571029663086,
          108.51175689697266,
          107.60350799560548,
          107.15731048583984,
          108.2854995727539,
          108.34716000000007,
          108.57050323486328,
          108.18863677978516,
          108.27249145507812,
          107.25914001464844,
          107.3633270263672,
          108.4021987915039,
          108.40260314941406,
          108.1855010986328,
          108.2034912109375,
          108.16899871826172,
          106.0343780517578,
          107.8489990234375,
          108.5977554321289,
          108.35206604003906,
          108.56700134277344,
          108.41031646728516,
          107.29429000000005,
          107.54060363769533,
          106.98430000000008,
          108.5193328857422,
          108.39526000000006,
          108.53640000000009,
          107.21218872070312,
          107.56627655029295,
          107.58599853515624,
          108.302001953125,
          108.64185000000003,
          108.37310028076172,
          108.47722000000005,
          106.49992370605467,
          108.71257781982422,
          108.57707977294922,
          108.4388656616211,
          108.54135000000008,
          108.20946502685548,
          108.3018798828125,
          108.39990234375,
          108.28389739990234,
          108.33239000000007,
          106.49864959716795,
          107.63999938964844,
          107.19419860839844,
          108.20359802246094,
          107.5238037109375,
          108.63314056396484,
          108.10975000000008,
          108.56429000000009,
          107.14189910888672,
          107.05346000000009,
          108.75920000000008,
          108.24500274658205,
          107.31836700439452,
          108.5967788696289,
          108.50634765625,
          107.4710464477539,
          108.63766479492188,
          106.25499725341795,
          107.3656234741211,
          107.86898000000008,
          108.1750030517578,
          108.08429718017578,
          107.2300033569336,
          107.20515441894533,
          108.63845825195312,
          108.35330000000005,
          108.53109741210938,
          107.24183654785156,
          108.69477081298828,
          108.23722076416016,
          108.47199249267578,
          106.99253845214844,
          108.28350067138672,
          108.520263671875,
          108.16449737548828,
          108.1855010986328,
          108.5122299194336,
          108.2437515258789,
          108.63961000000006,
          108.46549987792967,
          108.2480010986328,
          108.25,
          108.20296000000008,
          108.37120056152344,
          108.43946838378906,
          108.56890106201172,
          107.75973000000003,
          107.41480255126952,
          108.45220184326172,
          107.03607177734376,
          107.1010971069336,
          107.46383666992188,
          107.5244140625,
          108.4037094116211,
          107.16000366210938,
          107.29319763183594,
          108.39219665527344,
          108.51348114013672,
          108.33509826660156,
          107.42144012451172,
          108.26649475097656,
          108.54237000000006,
          107,
          107.01200103759766,
          107.4972686767578,
          107.78770000000009,
          107.3469009399414,
          108.5321273803711,
          107.47016143798828,
          107.52594757080078,
          108.48229000000003,
          108.46776000000006,
          107.4022979736328,
          108.63082000000009,
          108.53109741210938,
          108.24500274658205,
          108.26377868652344,
          108.42183000000006,
          107.53839874267578,
          108.2654037475586,
          108.18937683105467,
          108.71311950683594,
          108.48083000000008,
          108.67313385009766,
          107.42657470703124,
          108.63734000000004,
          107.51698303222656,
          108.37916000000008,
          108.32394000000004,
          108.2251968383789,
          107.24211883544922,
          107.20417785644533,
          108.2519989013672,
          107.21510314941406,
          108.3275146484375,
          107.48765563964844,
          108.26197052001952,
          108.15440368652344,
          108.31690216064452,
          107.48762000000004,
          108.69837951660156,
          108.23400115966795,
          107.83695220947266,
          108.16439819335938,
          108.17385864257812,
          108.47792053222656,
          107.36908000000004,
          108.1531982421875,
          107.3234634399414,
          108.42214965820312,
          108.67787170410156,
          107.4714813232422,
          107.84500122070312,
          107.37169647216795,
          107.34260000000006,
          107.3102035522461,
          108.58577728271484,
          108.60369873046876,
          107.27169799804688,
          108.48008728027344,
          108.50035095214844,
          108.41535186767578,
          107.35541000000006,
          107.2730484008789,
          108.31830000000008,
          108.6028289794922,
          108.6117935180664,
          108.23143768310548,
          107.22428894042967,
          108.37532043457033,
          108.2418975830078,
          108.65115356445312,
          107.46520233154295,
          108.38800048828124,
          107.08173370361328,
          108.70880889892578,
          108.76050000000004,
          108.28980000000008,
          108.7253875732422,
          106.26370239257812,
          108.15799713134766,
          107.2029037475586,
          108.35111236572266,
          107.8373565673828,
          107.04444885253906,
          108.46141815185548,
          108.57140000000004,
          108.2341537475586,
          107.90834000000008,
          108.90003204345705,
          108.58025360107422,
          108.62453000000004,
          107.14469909667967,
          107.4184341430664,
          108.37149810791016,
          108.66525268554688,
          108.35231018066406,
          108.53913000000006,
          108.18499755859376,
          108.43487548828124,
          108.49649810791016,
          108.4911880493164,
          108.6474380493164,
          107.41130065917967,
          107.14507293701172,
          108.47295379638672,
          108.482177734375,
          107.08061981201172,
          107.53500366210938,
          108.0999984741211,
          107.47592163085938,
          108.40999000000004,
          108.4362335205078,
          108.7260513305664,
          108.43496704101562,
          107.28399658203124,
          108.16570281982422,
          107.80110931396484,
          107.12061309814452,
          107.34054000000005,
          107.42489624023438,
          107.92975000000008,
          108.32255000000004,
          107.63929748535156,
          108.36509704589844,
          108.2437973022461,
          108.30229949951172,
          108.39288330078124,
          107.34662628173828,
          107.77999877929688,
          107.23099517822266,
          107.52557000000007,
          107.70458984375,
          108.59699000000006,
          108.24140167236328,
          107.19390106201172,
          108.22229766845705,
          108.5357894897461,
          108.24085235595705,
          108.19539642333984,
          null,
          108.5749969482422,
          107.72207000000007,
          108.5790786743164,
          108.34545000000008,
          107.24552917480467,
          107.40614318847656,
          108.50443267822266,
          107.4499969482422,
          108.41297000000009,
          107.51695000000008,
          106.54149627685548,
          107.44401550292967,
          107.06302000000004,
          108.30054473876952,
          108.74970245361328,
          107.17797000000007,
          108.55577850341795,
          108.35250091552734,
          107.45384000000008,
          null,
          107.12741000000004,
          108.07210540771484,
          108.47307586669922,
          108.22113800048828,
          108.23500061035156,
          108.17169952392578,
          108.69618225097656,
          108.55479000000008,
          108.69837951660156,
          108.2417984008789,
          107.37523651123048,
          107.3253936767578,
          108.12899017333984,
          108.2918930053711,
          107.05335235595705,
          108.47319793701172,
          107.16902160644533,
          107.38369750976562,
          107.11611938476562,
          108.41888000000006,
          107.3824234008789,
          108.5361785888672,
          108.21503448486328,
          108.26699829101562,
          108.13225555419922,
          108.28399658203124,
          108.3367919921875,
          106.58680725097656,
          108.21379852294922,
          108.35271453857422,
          108.175048828125,
          107.83100128173828,
          108.18199920654295,
          108.27899932861328,
          108.26499938964844,
          108.14344787597656,
          108.51380157470705,
          108.13438415527344,
          107.48381805419922,
          108.22799682617188,
          108.30700000000007,
          108.30262000000003,
          108.29962000000006,
          108.73040008544922,
          107.58412000000004,
          108.43338012695312,
          107.3124008178711,
          108.45732879638672,
          108.22425842285156,
          108.22319793701172,
          108.49440002441406,
          108.44190216064452,
          108.0311279296875,
          108.31658000000004,
          107.70999908447266,
          107.1324234008789,
          107.5958023071289,
          107.0193099975586,
          108.56899000000004,
          107.54054260253906,
          107.52682495117188,
          107.59230000000008,
          107.10710144042967,
          108.29209899902344,
          107.06510162353516,
          107.80128000000008,
          108.46829223632812,
          108.25180053710938,
          108.4695053100586,
          107.31006622314452,
          108.3270034790039,
          108.72950000000009,
          107.4334945678711,
          106.79408264160156,
          108.50950622558594,
          108.21420288085938,
          108.31189727783205,
          107.62271118164062,
          107.36296081542967,
          107.36356353759766,
          107.37808227539062,
          108.26589965820312,
          108.19539642333984,
          108.48049926757812,
          107.36508178710938,
          108.2145004272461,
          108.11427307128906,
          107.4229965209961,
          108.43131256103516,
          107.11080169677734,
          108.54566000000004,
          108.12419891357422,
          108.36361694335938,
          107.12300872802734,
          108.65885000000009,
          108.45120239257812,
          108.58533477783205,
          107.41141510009766,
          108.38127136230467,
          107,
          107.83520000000004,
          108.2354965209961,
          107.42112000000007,
          108.48057556152344,
          108.3729019165039,
          107.34574000000003,
          108.03994000000006,
          107.3459014892578,
          107.2143096923828,
          107.5486297607422,
          107.26073455810548,
          108.35385000000008,
          108.5141143798828,
          108.38040161132812,
          107.9045867919922,
          107.59319305419922,
          107.2008285522461,
          107,
          108.2052993774414,
          108.2323989868164,
          107.10771942138672,
          108.23480224609376,
          107.46560668945312,
          107.01342010498048,
          107.05184173583984,
          108.2332992553711,
          107.0012664794922,
          108.32378000000006,
          108.27189636230467,
          108.17090000000007,
          108.28289794921876,
          108.02942657470705,
          108.1729965209961,
          108.26373291015624,
          108.3813705444336,
          108.6147689819336,
          108.48941000000008,
          107.3769989013672,
          108.50518798828124,
          108.71377563476562,
          108.28842000000007,
          108.1521987915039,
          107.78132000000004,
          108.4319076538086,
          107.9290008544922,
          107.17097473144533,
          108.42640686035156,
          108.48703002929688,
          108.29370880126952,
          107.39129638671876,
          108.28005981445312,
          108.59989000000007,
          108.70800018310548,
          107.685302734375,
          108.44229888916016,
          108.58296966552734,
          107.89289855957033,
          108.36260223388672,
          107.45549774169922,
          107.7327651977539,
          107.4810028076172,
          108.24517059326172,
          108.53109741210938,
          108.10617065429688,
          108.31041717529295,
          108.25743865966795,
          108.31038665771484,
          108.53787994384766,
          108.36270141601562,
          107.61351013183594,
          108.48590087890624,
          108.33014678955078,
          107.45172119140624,
          108.75212097167967,
          108.3234634399414,
          107.22139739990234,
          107.5223159790039,
          108.75595092773438,
          108.14257049560548,
          108.2145004272461,
          108.17489624023438,
          107.67803192138672,
          108.27582550048828,
          108.29219818115234,
          107.54786682128906,
          108.3402099609375,
          108.19219970703124,
          108.85399627685548,
          106.70542907714844,
          107.5625991821289,
          108.0771484375,
          108.4470672607422,
          108.4010009765625,
          108.1399383544922,
          108.17150115966795,
          108.41929000000005,
          108.2751007080078,
          108.72926330566406,
          107.12608337402344,
          107.90699005126952,
          108.31867980957033,
          107.53600311279295,
          108.26242065429688,
          108.71387481689452,
          107.76273000000003,
          107.25584000000003,
          108.56056213378906,
          108.75941000000006,
          107.3353500366211,
          106.99956000000007,
          107.53448486328124,
          107.91300201416016,
          106.44385528564452,
          108.6385498046875,
          108.19210052490234,
          108.60875701904295,
          108.64874267578124,
          108.13140106201172,
          108.57664000000004,
          108.12200164794922,
          108.3526382446289,
          107.22560119628906,
          108.08978271484376,
          107.33663940429688,
          107.30740356445312,
          107.31400299072266,
          108.27330017089844,
          107.3552017211914,
          108.19219970703124,
          108.43238830566406,
          108.48069763183594,
          108.48200225830078,
          107.95362854003906,
          107.25507354736328,
          108.3560028076172,
          108.51310729980467,
          107.53044891357422,
          106.47183990478516,
          107.12957000732422,
          107.41626739501952,
          107.76161000000008,
          107.0457992553711,
          108.16280364990234,
          107.20724000000008,
          108.21499633789062,
          108.30323791503906,
          107.72066000000008,
          108.20362091064452,
          107.46150207519533,
          108.60098266601562,
          107.79194000000008,
          107.5934600830078,
          107.52530670166016,
          108.52881622314452,
          108.2311019897461,
          108.76397705078124,
          108.40512084960938,
          108.28028106689452,
          107.55413055419922,
          107.87165069580078,
          107.2948226928711,
          107.25164000000008,
          107.22357177734376,
          108.2906494140625,
          106.46692657470705,
          107.07643000000007,
          108.22540283203124,
          108.31589000000008,
          107.03569000000005,
          108.22421264648438,
          108.20752716064452,
          108.30285000000003,
          108.33462524414062,
          108.11329650878906,
          108.16771000000006,
          106.46321105957033,
          108.35286712646484,
          108.28903198242188,
          108.73910522460938,
          107.48822021484376,
          107.57725524902344,
          107.39078521728516,
          108.21520233154295,
          107.47148000000004,
          107.6760711669922,
          108.42735290527344,
          107.13899993896484,
          108.22840118408205,
          107.59286499023438,
          108.2052001953125,
          107.408203125,
          107,
          107.21697998046876,
          108.26000213623048,
          107,
          108.2052993774414,
          108.13441467285156,
          108.01300048828124,
          108.31806000000006,
          106.95410919189452,
          108.47576141357422,
          108.58670043945312,
          108.33170318603516,
          108.26461000000006,
          108.31500244140624,
          108.5038604736328,
          108.23961639404295,
          108.58100128173828,
          108.75769805908205,
          108.35240000000005,
          107.54794311523438,
          107.31979370117188,
          107.8075942993164,
          107.84500122070312,
          108.35388946533205,
          null,
          107.45802307128906,
          107.30946350097656,
          108.32845306396484,
          108.1959991455078,
          108.47196197509766,
          107.42852783203124,
          107.92400360107422,
          108.1946029663086,
          108.65902709960938,
          108.16000366210938,
          108.36813000000006,
          107.83469000000008,
          107.5094985961914,
          108.31439971923828,
          null,
          108.83999633789062,
          108.63835144042967,
          108.5320281982422,
          108.6401824951172,
          107.02108764648438,
          108.45297241210938,
          108.73357391357422,
          108.39763641357422,
          108.65564000000006,
          107.26565551757812,
          107.93299865722656,
          107.05560302734376,
          107.81463623046876,
          107.44551849365234,
          107.53044891357422,
          108.28321000000004,
          107.78348541259766,
          107.02951000000007,
          108.44332885742188,
          108.75005000000004,
          108.77050018310548,
          107.41390228271484,
          107.53361000000008,
          108.33260345458984,
          107.33380000000004,
          108.345458984375,
          108.51190185546876,
          108.31607055664062,
          108.65251000000006,
          108.4591827392578,
          108.52336120605467,
          108.14338684082033,
          108.46141815185548,
          107.84500122070312,
          108.21199798583984,
          108.41955000000009,
          107.51425170898438,
          108.38359832763672,
          108.41509246826172,
          107.53472900390624,
          108.52535000000006,
          108.3018035888672,
          107.39469909667967,
          107.36456298828124,
          107.48455810546876,
          108.71387481689452,
          107.76741027832033,
          108.2996063232422,
          107.98799896240234,
          108.23799896240234,
          108.51519775390624,
          108.4648666381836,
          108.58000183105467,
          107.30549621582033,
          107.13588000000004,
          108.3214874267578,
          107.39419000000004,
          108.46563720703124,
          108.19195556640624,
          108.2277374267578,
          107.38369750976562,
          108.15798950195312,
          108.3825225830078,
          108.11376190185548,
          108.27066040039062,
          108.13390350341795,
          108.29023000000008,
          108.3322982788086,
          108.27399000000008,
          108.3042984008789,
          107.16481000000005,
          107.50357055664062,
          107.14044952392578,
          107.38011000000006,
          107.13600158691406,
          107.1310806274414,
          108.17250061035156,
          107.26197000000008,
          107.40411376953124,
          108.4355697631836,
          108.45816040039062,
          107.34660339355467,
          108.2519989013672,
          108.09711456298828,
          108.34333038330078,
          108.30490112304688,
          108.1331024169922,
          107.14430000000004,
          107.43891000000008,
          108.15454000000004,
          108.30240631103516,
          108.4254913330078,
          107.56355000000008,
          107.50678253173828,
          108.17141723632812,
          107.29440307617188,
          107.2334976196289,
          107.37803649902344,
          107.08444213867188,
          108.5419464111328,
          108.6087417602539,
          107.42619000000008,
          107.41395568847656,
          108.21399688720705,
          108.52008819580078,
          108.27339935302734,
          108.47315979003906,
          107.01449584960938,
          107.56330108642578,
          107.52200317382812,
          107.20339965820312,
          107.37071000000007,
          108.10890197753906,
          108.26875000000008,
          108.25800323486328,
          108.43154000000004,
          108.1948013305664,
          107.36699676513672,
          108.48723000000008,
          108.26236724853516,
          108.47063446044922,
          108,
          107.54014587402344,
          107.51509857177734,
          108.24079132080078,
          108.24579620361328,
          107.51319122314452,
          108.52812957763672,
          107.58892822265624,
          106.39281463623048,
          107.7169189453125,
          107.41789245605467,
          107.73821000000004,
          108.15059661865234,
          107.23208618164062,
          108.41380310058594,
          108.33079000000004,
          107.4926986694336,
          108.606689453125,
          108.01889038085938,
          107.7897491455078,
          108.38359832763672,
          107.33632000000006,
          null,
          108.33067321777344,
          107.59416198730467,
          108.54562000000004,
          108.0406494140625,
          107.38475000000004,
          108.71082305908205,
          108.47968292236328,
          108.27179718017578,
          107.49595642089844,
          108.68513488769533,
          107.6255874633789,
          108.46398162841795,
          108.43343353271484,
          108.4118881225586,
          107.52965545654295,
          108.19290161132812,
          107.46578000000004,
          107.71612548828124,
          107.24102783203124,
          107.58893000000006,
          108.4219970703125,
          null,
          107.50049591064452,
          108.13135528564452,
          108.06873000000007,
          108.41390228271484,
          107.32533264160156,
          107.08462000000009,
          108.42937000000006,
          107.61212000000006,
          108.1344985961914,
          107.1116943359375,
          107.42377471923828,
          107.34678649902344,
          107.40440000000008,
          107.47652435302734,
          108.56260681152344,
          108.16202545166016,
          107.24807000000004,
          108.7682876586914,
          108.36653900146484,
          107.08319091796876,
          108.43153000000008,
          null,
          108.0002670288086,
          108.27529907226562,
          107.52953338623048,
          107.49523162841795,
          107.01410675048828,
          108.11277770996094,
          108.18280029296876,
          107.33975982666016,
          108.27529907226562,
          107.65499877929688,
          108.38379669189452,
          108.03099822998048,
          106.7604522705078,
          108.43617000000006,
          108.18499755859376,
          108.19100189208984,
          107.10710144042967,
          108.2751007080078,
          108.698486328125,
          107.3459243774414,
          107.79503000000004,
          107.4737548828125,
          107.50399780273438,
          107.03855895996094,
          107.1155014038086,
          108.1750030517578,
          108.07389831542967,
          108.7452392578125,
          108.3951416015625,
          107.5421905517578,
          108.2208023071289,
          107.5614013671875,
          108.41699981689452,
          107.78024000000003,
          108.36035919189452,
          107.02999877929688,
          108.36322021484376,
          108.23290252685548,
          109,
          108.9499969482422,
          108.2248992919922,
          108.39816284179688,
          107.31900024414062,
          108.5039291381836,
          108.20700073242188,
          108.37100219726562,
          108.11238098144533,
          107,
          107.64060974121094,
          107.368408203125,
          107.79091000000004,
          107.26799774169922,
          108.39447021484376,
          107.25585174560548,
          108.59085845947266,
          108.54927825927734,
          107.53021240234376,
          108.36228942871094,
          107.90169000000007,
          107.62130000000008,
          107.04444885253906,
          107.72200012207033,
          108.16380310058594,
          107.84500122070312,
          108.27164000000003,
          107.21688842773438,
          107.56330108642578,
          108.56654000000007,
          108.03299713134766,
          107.60079956054688,
          108.38661000000008,
          107.77777862548828,
          107.28279876708984,
          108.30444000000006,
          107.46994018554688,
          108.55989837646484,
          107.9404525756836,
          108.18000030517578,
          108.64842224121094,
          107.44000244140624,
          107.13419342041016,
          108.42161560058594,
          108.6137237548828,
          107.10834000000006,
          108.66886000000004,
          108.34510040283205,
          108.42767000000003,
          107.71051788330078,
          108.0270004272461,
          108.18299865722656,
          108.3161163330078,
          null,
          107.42459869384766,
          107.44369000000006,
          107.49915313720705,
          108.58155822753906,
          108.25530242919922,
          108.46652000000006,
          108.66926000000008,
          107.14202000000006,
          108.32017000000008,
          108.16539764404295,
          107.10653000000008,
          107.22697448730467,
          108.11197662353516,
          108.32546000000008,
          108.16699981689452,
          108.3993148803711,
          108.19564819335938,
          106.46436000000006,
          108.39006042480467,
          108.27378845214844,
          107.40280151367188,
          108.58200073242188,
          107.70453000000003,
          108.38500213623048,
          107.57575000000008,
          107.48245239257812,
          108.4199676513672,
          108.81579000000004,
          107.3678207397461,
          108.34200286865234,
          108.51866149902344,
          107.88999938964844,
          107.8020477294922,
          108.3041000366211,
          107.454833984375,
          107.52317810058594,
          107.27169799804688,
          107.76636505126952,
          108.48322000000007,
          107.42041015625,
          107.40254000000004,
          108.54875000000004,
          108.02947998046876,
          107.58248138427734,
          108.57742000000007,
          107.27159881591795,
          108.43499755859376,
          107.13558000000006,
          108.0644989013672,
          108.25520324707033,
          106.5530014038086,
          108.55719757080078,
          107.85791015625,
          108.59789276123048,
          108.21095000000008,
          108.31199645996094,
          108.6164093017578,
          108.8048324584961,
          108.45732879638672,
          108.43157000000008,
          108.49056243896484,
          108.75292000000007,
          108.2750015258789,
          107.85683000000006,
          108.5604248046875,
          108.20480346679688,
          108.56307220458984,
          108.3719482421875,
          108.45099639892578,
          107.0269546508789,
          108.71402740478516,
          107.4740982055664,
          107.56500244140624,
          108.23410034179688,
          108.31431000000003,
          108.22118377685548,
          108.56053161621094,
          108.34211730957033,
          108.52981567382812,
          108.32453918457033,
          108.1958999633789,
          108.17059326171876,
          108.42268371582033,
          107.71910095214844,
          107.63800048828124,
          107.91529846191406,
          107.44034000000003,
          108.49176788330078,
          108.1417007446289,
          108.62397000000004,
          108.26319885253906,
          107.47200775146484,
          107.34658000000007,
          108.54368000000004,
          108.67143000000004,
          108.38507080078124,
          108.52725000000004,
          107.68215942382812,
          107.1288070678711,
          107.564208984375,
          107.47723000000008,
          107.91690063476562,
          108.47979000000004,
          107.46330261230467,
          108.24085235595705,
          107.57083129882812,
          107.60778045654295,
          107.08661651611328,
          108.2541275024414,
          107.05624389648438,
          107.59211730957033,
          108.39459991455078,
          null,
          107.0162124633789,
          108.46810150146484,
          107.66600799560548,
          108.5483169555664,
          108.59860000000003,
          108.2328643798828,
          108.48914337158205,
          107.04084777832033,
          107.08348846435548,
          108.3560028076172,
          107.75855000000008,
          107.24106000000006,
          109,
          108.00215000000009,
          107.67903137207033,
          108.52584838867188,
          108.38722229003906,
          null,
          108.64022000000006,
          108.4813995361328,
          107.33699798583984,
          107.74423000000009,
          108.3043975830078,
          108.49388885498048,
          107.50431823730467,
          108.26580047607422,
          109,
          108.48889923095705,
          108.43509674072266,
          107.875,
          108.13999938964844,
          108.27529907226562,
          107.33523000000008,
          108.5045394897461,
          108.26239776611328,
          107.10579681396484,
          107.43190002441406,
          108.42019653320312,
          108.26219940185548,
          107.33557000000008,
          108.31916809082033,
          107.20514678955078,
          108.69383239746094,
          108.42680000000009,
          108.72000122070312,
          108.08000183105467,
          108.16590118408205,
          108.34146118164062,
          107.0043487548828,
          107.46520233154295,
          107.70458221435548,
          107.5442886352539,
          null,
          108.56514739990234,
          107.73600006103516,
          108.35369873046876,
          108.3772430419922,
          107.52197265625,
          107.88316000000005,
          107.41421000000008,
          108.19072723388672,
          108.28941345214844,
          107,
          108.46769714355467,
          106.95274353027344,
          108.46340942382812,
          108.28148651123048,
          107,
          108.24579620361328,
          107.26270294189452,
          108.4701919555664,
          107.22000122070312,
          107.39281463623048,
          108.30969000000005,
          107.76280212402344,
          108.41056060791016,
          108.36840057373048,
          108,
          108.23133087158205,
          107.55937957763672,
          107.2228012084961,
          108.42136000000004,
          107.03472137451172,
          107.53399658203124,
          107.12590026855467,
          108.62886810302734,
          108.42019653320312,
          108.42467000000003,
          107.63355255126952,
          107.56403350830078,
          108.567138671875,
          107.27591705322266,
          108.50150299072266,
          107.30290222167967,
          108.24195861816406,
          108.4998016357422,
          108.53069000000004,
          108.45950317382812,
          108.44200134277344,
          107.52200317382812,
          null,
          108.4831314086914,
          107.79601287841795,
          107.07146453857422,
          108.51380157470705,
          108.22599792480467,
          108.50149000000005,
          107.85099792480467,
          108,
          107.36139678955078,
          108.1353988647461,
          108.18746948242188,
          108.27230072021484,
          null,
          108.34200286865234,
          108.2672348022461,
          108.39323000000007,
          108.31499000000008,
          null,
          108.54150000000004,
          107.4980010986328,
          108.10689000000008,
          107.50318908691406,
          107.27100372314452,
          108.19960021972656,
          107.41545867919922,
          108.12200164794922,
          108.725341796875,
          108.30154000000005,
          107.29773712158205,
          109,
          108.03054809570312,
          107.46560668945312,
          107.37306213378906,
          107.4781723022461,
          107.9626693725586,
          108.4705581665039,
          108.46994018554688,
          108.33732604980467,
          108.52159881591795,
          107.375,
          107.0259780883789,
          108.19645690917967,
          108.09491000000008,
          108.25494384765624,
          108.18119049072266,
          107.2114028930664,
          108.46700286865234,
          108.06620025634766,
          107.50283813476562,
          107.71499633789062,
          107.25422668457033,
          107.48210144042967,
          107.85780334472656,
          107.73998000000006,
          108.1781005859375,
          108.48551940917967,
          108.92400360107422,
          108.73963165283205,
          108.69236755371094,
          108.2254409790039,
          107.39633178710938,
          107.80081000000008,
          108.22239685058594,
          108.32427000000008,
          108.18299865722656,
          108,
          108.18399810791016,
          108.22341918945312,
          108.37415313720705,
          108.57844543457033,
          108.22219848632812,
          108.17440032958984,
          107.22654724121094,
          108.45521545410156,
          107.45099639892578,
          107.75935363769533,
          108.42140197753906,
          107.13937000000004,
          106.76678466796876,
          107.79022000000003,
          108.31099700927734,
          107.80280000000003,
          107.45811000000003,
          107.4852066040039,
          108.2651596069336,
          106.35134887695312,
          108.1852035522461,
          108.52621459960938,
          107.93400000000008,
          108.32798767089844,
          108.05120086669922,
          107.99852752685548,
          108.23853302001952,
          108.33332824707033,
          108.09600067138672,
          107.37955474853516,
          108.33810424804688,
          107.14107513427734,
          108.29450988769533,
          108.3447494506836,
          108.28250122070312,
          108.2266082763672,
          108.62410736083984,
          108.5770492553711,
          108.3499984741211,
          107.93460083007812,
          107.54022979736328,
          108.73956298828124,
          108.6944808959961,
          108.68511962890624,
          107.9165267944336,
          107.46678924560548,
          108.25623000000007,
          108.13220977783205,
          108.38459777832033,
          108.60875701904295,
          107.87921142578124,
          107.10369873046876,
          108.73188018798828,
          107.54280853271484,
          107.55159759521484,
          108.44860076904295,
          107.27975000000004,
          108.36329650878906,
          108.45307159423828,
          107.3160629272461,
          107.42160034179688,
          108.39696502685548,
          107.4843978881836,
          108.34561157226562,
          108.46123000000006,
          108.4280014038086,
          108.43154000000004,
          107.93399810791016,
          107.54116000000003,
          107.02259826660156,
          108.25800323486328,
          107.12948000000006,
          107.6080551147461,
          107.55094146728516,
          108.48119354248048,
          108.22862243652344,
          107.32061767578124,
          108.24780000000004,
          108.58592987060548,
          107.2656021118164,
          108.3387222290039,
          108.15170288085938,
          108.1141128540039,
          107.17610168457033,
          108.59971618652344,
          107.33943939208984,
          107.04484000000008,
          107.302001953125,
          107.75344848632812,
          108.30590057373048,
          108.62088775634766,
          107.4228973388672,
          108.22699737548828,
          106.25499725341795,
          108.4411392211914,
          107.30339813232422,
          108.26499938964844,
          107.45080000000009,
          106.25530242919922,
          108.37139892578124,
          108.22139739990234,
          107.51823425292967,
          107.7129135131836,
          107.0914077758789,
          108.4832000732422,
          108.28118133544922,
          107.760498046875,
          null,
          107.91799926757812,
          107.08423614501952,
          107.53970000000004,
          108.38633000000004,
          107.42852783203124,
          108.741455078125,
          108.71198272705078,
          108.28726959228516,
          108.48893000000004,
          108.25441000000006,
          107.91860000000008,
          108.44733000000008,
          107.8188018798828,
          108.7316665649414,
          107.35479736328124,
          107.55166625976562,
          107.87857055664062,
          108.48152000000005,
          107.54419708251952,
          107.56834411621094,
          108.25450134277344,
          108.65299987792967,
          108.58805084228516,
          108.17773000000004,
          108.3115005493164,
          108.16668701171876,
          108.27400207519533,
          108.07124000000005,
          108.68647003173828,
          107.45142364501952,
          107.49851000000008,
          107.67803192138672,
          108.2249984741211,
          108.25348663330078,
          107.47954000000004,
          107.66092681884766,
          108.46661000000006,
          107.09033000000004,
          106.93083190917967,
          107.22181701660156,
          107.89342000000003,
          108.27300262451172,
          108.39507293701172,
          107.1200714111328,
          107.76244354248048,
          108.7287826538086,
          108.45891571044922,
          107.16000366210938,
          107.04149627685548,
          106.4438934326172,
          107.73082000000004,
          108.25745391845705,
          108.10700225830078,
          108.5817413330078,
          108.30675506591795,
          107.78430000000009,
          108.26509857177734,
          107.39376068115234,
          108.42926788330078,
          107.23374938964844,
          107.0914077758789,
          107.5671615600586,
          108.1959991455078,
          107,
          108.26746368408205,
          107.06488800048828,
          108.72093200683594,
          107.62689208984376,
          108.69039154052734,
          107.42292022705078,
          107.92166137695312,
          107.86905670166016,
          108.21726989746094,
          107.5531997680664,
          107.8239974975586,
          108.2512435913086,
          108.6781005859375,
          108.4253158569336,
          108.12398529052734,
          107.85785675048828,
          108.52533721923828,
          107.53279876708984,
          107.24250030517578,
          108.2490463256836,
          108.4415283203125,
          null,
          108.4552764892578,
          107.71450805664062,
          108.26699829101562,
          107.84304809570312,
          107.83029174804688,
          108.2531967163086,
          106.34600067138672,
          108.58954620361328,
          108.36509704589844,
          107.05553000000003,
          107.44000244140624,
          107.8038558959961,
          107.11003000000004,
          107.24230194091795,
          107.07515000000006,
          108.4371109008789,
          108.50298309326172,
          107.3318328857422,
          108.2526626586914,
          107,
          107.8885498046875,
          107.40799713134766,
          108.71966552734376,
          108.4207000732422,
          108.72259521484376,
          107.43396759033205,
          108.27716827392578,
          108.27420043945312,
          107.85561000000008,
          108.47012329101562,
          107.53240203857422,
          107.93431854248048,
          108.36437225341795,
          108,
          108.49842071533205,
          108.17996000000004,
          107.04084777832033,
          108.49382781982422,
          107.01551818847656,
          108.23600006103516,
          108.42032623291016,
          108.40325164794922,
          107.36851501464844,
          108.60321044921876,
          108.50518798828124,
          107.05999755859376,
          107.35724639892578,
          106.32430267333984,
          107.16959000000008,
          107.4229965209961,
          108.27120208740234,
          107.19400024414062,
          107.25913000000008,
          108.27330017089844,
          108.44381713867188,
          107.47354000000009,
          108.19499969482422,
          107.36563873291016,
          107.11799621582033,
          107.23310089111328,
          107.28887939453124,
          108.34802000000008,
          107.5459976196289,
          108.31462097167967,
          107.52040000000004,
          108.48566436767578,
          108.3578109741211,
          107.5719985961914,
          107.79401397705078,
          107.86100006103516,
          108.2184600830078,
          108.30345916748048,
          108.48428344726562,
          107.75311279296876,
          108.5093002319336,
          108.32038116455078,
          108.50282287597656,
          108.44204711914062,
          108.5081558227539,
          107.17738342285156,
          107.1968994140625,
          107.55941009521484,
          107.36956024169922,
          106.91661834716795,
          107.3796615600586,
          108.12165832519533,
          107.51725769042967,
          107.86168670654295,
          108.27239990234376,
          107.4499969482422,
          107.42697143554688,
          106.99698638916016,
          108.28230285644533,
          106.58309936523438,
          108.36219787597656,
          106.65275573730467,
          108.51437377929688,
          108.69837951660156,
          108.5329132080078,
          108.21399688720705,
          107.9530029296875,
          107.50299835205078,
          107.43826293945312,
          108.31210327148438,
          107.04000091552734,
          107.48419952392578,
          108.21012115478516,
          107.84292000000003,
          108.52588000000009,
          108.36026763916016,
          107.46269989013672,
          108.2528076171875,
          108.1864013671875,
          107.86033630371094,
          108.49999237060548,
          108.23384857177734,
          107.4228973388672,
          107.54867553710938,
          108.36744689941406,
          107.98108673095705,
          107.39913177490234,
          108.02699000000008,
          107.52094268798828,
          106.64607238769533,
          108.3993148803711,
          108.67774200439452,
          108.38099670410156,
          108.1385269165039,
          108.34600067138672,
          107.93599700927734,
          108.23799896240234,
          107.19554000000004,
          107.32150268554688,
          107.18823000000005,
          108.37902069091795,
          108.17340087890624,
          108.43160247802734,
          107.30291748046876,
          108.68000030517578,
          107.34148406982422,
          108.70780181884766,
          107.3359146118164,
          107.23899841308594,
          107.8499984741211,
          108.1218490600586,
          108.44528000000008,
          107.56680297851562,
          108.2040023803711,
          107.16902160644533,
          108.71387481689452,
          108.0531234741211,
          108.56461000000009,
          108.37059783935548,
          108.20469665527344,
          106.2654037475586,
          108.25298309326172,
          107.9627914428711,
          107.47233581542967,
          107.61699676513672,
          107.3385772705078,
          108.50731000000007,
          107.10540008544922,
          107.34500122070312,
          108.2374267578125,
          108.63259887695312,
          107.26699829101562,
          107.04644775390624,
          108.4817886352539,
          108.52256774902344,
          108.14324951171876,
          108.39482000000004,
          108.41000366210938,
          107.42268371582033,
          107.49520111083984,
          107.83885192871094,
          108.72161865234376,
          107.28146362304688,
          108.31400299072266,
          106.6465301513672,
          108.6134033203125,
          107.32360076904295,
          108.29751586914062,
          108.34290000000004,
          108.35330200195312,
          107.45500183105467,
          108.34661865234376,
          107.4862289428711,
          107.2313232421875,
          107.57714080810548,
          107.62432098388672,
          107.8823013305664,
          108.1427993774414,
          108.34986114501952,
          107.8280029296875,
          107.82572174072266,
          108.47339630126952,
          null,
          108.74844000000007,
          108.50833892822266,
          108.67717000000005,
          107.2253189086914,
          108.7070770263672,
          108.49398040771484,
          107.32048000000007,
          108.49298095703124,
          107.05142974853516,
          107.83899000000008,
          108.65902709960938,
          107.68080139160156,
          108.37548828125,
          107.2095184326172,
          108,
          107.88135528564452,
          107.72132110595705,
          108.06388854980467,
          107.10196685791016,
          107.814208984375,
          108.66726684570312,
          107.36139000000009,
          106.49584000000004,
          108.52881622314452,
          106.97701263427734,
          108.50064086914062,
          107.13300323486328,
          107.48179626464844,
          107.86919000000006,
          108.50520324707033,
          106.791259765625,
          107.13603973388672,
          107,
          107.02570343017578,
          106.58645629882812,
          107.7801513671875,
          108.85399627685548,
          107.98999786376952,
          107.74263000000008,
          108.49032000000004,
          108.29368591308594,
          107.6377182006836,
          108.20606231689452,
          107.52783966064452,
          108.23290252685548,
          108.55807495117188,
          108.60962000000006,
          108.16539764404295,
          108.43058000000008,
          108.22060000000003,
          108.60086822509766,
          107.15746000000009,
          107.72577667236328,
          108.36699676513672,
          108.10465240478516,
          107.24382019042967,
          107.47570037841795,
          107.93278000000004,
          107.54100036621094,
          106.48309326171876,
          108.2266082763672,
          107.55200958251952,
          107.22310638427734,
          108.48390197753906,
          107.49932861328124,
          107.99748229980467,
          107.96827697753906,
          108.72440000000006,
          108.46003723144533,
          108.4325714111328,
          107.802001953125,
          108.01756286621094,
          108.0267105102539,
          107.48300170898438,
          107.18446350097656,
          107.57250213623048,
          108.27378845214844,
          107.40370178222656,
          108.37339782714844,
          107.23560333251952,
          108.50562286376952,
          108.19068145751952,
          108.33468627929688,
          107.71299743652344,
          108.53775024414062,
          108.62506000000008,
          108.66494750976562,
          107.30465698242188,
          107.0447998046875,
          107.17571000000004,
          107.41539764404295,
          107.47264000000008,
          108.31549835205078,
          108.2248992919922,
          108.68836975097656,
          107.4832992553711,
          107.80795000000006,
          107.74473571777344,
          108.36419677734376,
          107.1288070678711,
          106.52218000000003,
          108.61547088623048,
          108.13220977783205,
          108.51380157470705,
          107.67194366455078,
          108.63810000000008,
          108.2494125366211,
          108.2701416015625,
          107.81247000000008,
          108.13438415527344,
          108.21614074707033,
          108.30999755859376,
          108.4272003173828,
          107.16210174560548,
          107.19561767578124,
          107.35965000000004,
          107.02073669433594,
          108.57036000000004,
          106.82829284667967,
          107.37460327148438,
          107.55291748046876,
          107.42235565185548,
          107.24275970458984,
          107.94499000000008,
          108.25550079345705,
          107.24199676513672,
          108.42729949951172,
          null,
          108.52857000000006,
          108.19971000000004,
          108.52977752685548,
          107.11094665527344,
          107.40599822998048,
          107.08431243896484,
          108.11479949951172,
          108.1436004638672,
          107.23560333251952,
          106.52416000000004,
          107.48390197753906,
          107.77752000000004,
          107.84500122070312,
          107.56501007080078,
          107.48076629638672,
          108.28099822998048,
          106.29280090332033,
          108.00856000000005,
          107.83999633789062,
          108.1165008544922,
          107.49708557128906,
          107.06391000000008,
          107.20799255371094,
          106.89425659179688,
          106.53516387939452,
          107.3560028076172,
          107.35851287841795,
          107.6292953491211,
          107.11100006103516,
          106.47119903564452,
          108.37496185302734,
          108.27378845214844,
          108.56398010253906,
          107.49099731445312,
          108.34752655029295,
          108.13999938964844,
          null,
          108.25360870361328,
          108.34843000000006,
          108.46752000000004,
          107.38400268554688,
          108.4469985961914,
          108.03092193603516,
          107.53915405273438,
          107.26329803466795,
          108.2511978149414,
          107.05899810791016,
          107.84919738769533,
          108.30581665039062,
          108.58781000000003,
          108.51471710205078,
          108.43621826171876,
          107.78502655029295,
          106.46150207519533,
          108.23420715332033,
          108.3828582763672,
          108.29557000000004,
          107.36763000000008,
          106.30229949951172,
          108.20447540283205,
          108.1218032836914,
          108.43505096435548,
          108.7427978515625,
          108.46644000000003,
          108.66864776611328,
          107.18433000000005,
          107.45760345458984,
          108.00399780273438,
          107.84103393554688,
          107.5239028930664,
          107.71072387695312,
          107.54220000000004,
          106.99471282958984,
          108.34100341796876,
          107.42909240722656,
          106.67330932617188,
          107.4531021118164,
          108.66368103027344,
          108.14761352539062,
          107.41545867919922,
          107.28277000000008,
          107.01558685302734,
          108.14704132080078,
          107.44276428222656,
          107.45887756347656,
          107.09979248046876,
          108.20999908447266,
          106.2656021118164,
          107.61790466308594,
          108.61178000000008,
          107.28972625732422,
          107.54100036621094,
          null,
          108.33571000000006,
          106.530029296875,
          107.84718322753906,
          107.12629699707033,
          107.72604370117188,
          108.34993743896484,
          108.17370000000004,
          108.34790802001952,
          107.3447036743164,
          108.59988403320312,
          108.3823013305664,
          107.51911163330078,
          107.12129974365234,
          107.15306000000004,
          107.26266000000004,
          107.01068000000004,
          108.32854461669922,
          107.47775000000009,
          108.51987000000008,
          107.23011016845705,
          108.20449829101562,
          107.68785858154295,
          108.31900024414062,
          108.46489715576172,
          108.4648666381836,
          107.88182067871094,
          108.32450103759766,
          107.56501007080078,
          107.36427307128906,
          107.4281005859375,
          107.56697082519533,
          107.5756378173828,
          107.27193450927734,
          108.69471740722656,
          108.1240005493164,
          108.82082000000008,
          107.63999000000008,
          108.27300262451172,
          108.61795806884766,
          108.27100372314452,
          107.5626983642578,
          108.3275146484375,
          107.60806274414062,
          107.23120880126952,
          108.34185791015624,
          108.58927154541016,
          108.53811000000007,
          107.76031494140624,
          107.59390258789062,
          106.41179656982422,
          108.26173400878906,
          108.05139000000008,
          108.41311000000007,
          108.26509857177734,
          106.37449645996094,
          108.3381805419922,
          108.45719909667967,
          108.27359771728516,
          108,
          108.496337890625,
          108.2229995727539,
          106.8403778076172,
          107.33370208740234,
          107.79238000000004,
          107.54893000000004,
          107.75582000000009,
          108.26827239990234,
          108.1758804321289,
          107.55816650390624,
          108.70929000000008,
          107.5666732788086,
          108.5909652709961,
          107.42310333251952,
          107.19217681884766,
          107.4644012451172,
          107.9579849243164,
          108.2374496459961,
          107.08507000000009,
          107.10196685791016,
          108.49038696289062,
          108.52088000000003,
          108.49651336669922,
          107.18176000000004,
          107.68689727783205,
          106.82351684570312,
          107.77172088623048,
          107.14780000000007,
          108.6164093017578,
          107.4927978515625,
          107.1364288330078,
          107.01004791259766,
          107.55370330810548,
          108.70120239257812,
          108.35397338867188,
          106.99076080322266,
          108.34059143066406,
          108.3922348022461,
          106.0315170288086,
          108.30449676513672,
          106.84709167480467,
          108.5460433959961,
          107.4228973388672,
          108.442626953125,
          108.30634307861328,
          108.27243041992188,
          107.4343032836914,
          108.27509307861328,
          107.26612854003906,
          108.5460433959961,
          107.7177505493164,
          107.33270263671876,
          106.7453384399414,
          108.24700164794922,
          108.1780014038086,
          107.61793518066406,
          108.01319885253906,
          107.22200012207033,
          107.10026000000003,
          107.0909652709961,
          108.29190063476562,
          108.79726000000004,
          107.08461000000004,
          107.46195220947266,
          107.4181671142578,
          108.30599212646484,
          107.34230041503906,
          108.39762878417967,
          108.62784576416016,
          108.0438995361328,
          108,
          107.53551483154295,
          108.37043762207033,
          107.32131958007812,
          107.92865753173828,
          107.9530029296875,
          107.97145080566406,
          108.78600311279295,
          107.63500213623048,
          107.56099700927734,
          107.34480285644533,
          108.400390625,
          108.2842025756836,
          108.27249908447266,
          108.22122955322266,
          108.4317626953125,
          108.41200256347656,
          108.22537994384766,
          107.04338000000008,
          108.35069274902344,
          108.5145263671875,
          107.73909759521484,
          108.52333000000004,
          108.06243133544922,
          108.36409759521484,
          108.3010482788086,
          107.80111000000004,
          107.43889000000009,
          107.42874000000006,
          107.24304962158205,
          108.55663299560548,
          107.69239807128906,
          107.7053680419922,
          107.92400360107422,
          107.21269989013672,
          107.29340362548828,
          108.35162353515624,
          108.50376000000006,
          108.16011810302734,
          106.27230072021484,
          107.26669000000004,
          107.5346221923828,
          107.19632000000009,
          107.85232000000008,
          107.14300537109376,
          108.26392364501952,
          107.40339660644533,
          108.32209777832033,
          108.53109741210938,
          107.51653289794922,
          107.9340362548828,
          107.8202896118164,
          108.34322357177734,
          108.20099639892578,
          108.52423858642578,
          108.52271270751952,
          108.48233032226562,
          108.5138168334961,
          107.5181121826172,
          107.81796000000008,
          106.37539672851562,
          106.54444000000008,
          108.09709167480467,
          108.48690000000003,
          107.49274444580078,
          108.4983367919922,
          108.36264038085938,
          107,
          107.65460205078124,
          108.20806884765624,
          108.28179931640624,
          108.17009735107422,
          107.99235534667967,
          107.75499725341795,
          108.2972640991211,
          108.45516000000003,
          107.25225000000006,
          107.89790000000004,
          106.56494903564452,
          108.34678000000008,
          107.49402618408205,
          107.83100128173828,
          107.461181640625,
          107.3639144897461,
          108.51399993896484,
          107.38643646240234,
          107.15339660644533,
          106.98638916015624,
          107.91963958740234,
          106.83805847167967,
          108.68000030517578,
          107.89177703857422,
          107.48210144042967,
          106.33370208740234,
          107.3138427734375,
          108.19873046875,
          106.97999572753906,
          107.35498809814452,
          107.82481384277344,
          107.69474029541016,
          108.2236785888672,
          108.24059000000004,
          108.34538269042967,
          107.89061737060548,
          107.1621551513672,
          108.7260513305664,
          107.8291473388672,
          108.24810028076172,
          107.27014923095705,
          107.70718000000004,
          107.70996856689452,
          108.1031723022461,
          107.91877746582033,
          107.89869689941406,
          107.50509643554688,
          108.30339813232422,
          107.2509994506836,
          107.42186737060548,
          108.34252166748048,
          108.31600189208984,
          107.41123962402344,
          108.74942779541016,
          107.12503814697266,
          108.46512000000008,
          107.4310302734375,
          108.23587036132812,
          107.10919952392578,
          108.59125518798828,
          107.3736343383789,
          107.08446502685548,
          107.37721252441406,
          108.51730346679688,
          106.52358000000004,
          107.32624053955078,
          108.13800048828124,
          106.66784000000008,
          108.66577000000008,
          108.21786499023438,
          108.40152740478516,
          108.24105834960938,
          107.3018035888672,
          106.4438934326172,
          108.24921000000006,
          107.49479675292967,
          107.2415008544922,
          108.31490325927734,
          108.58715057373048,
          108.36785125732422,
          107.79318000000006,
          108.28199768066406,
          107.55799865722656,
          107.05135000000008,
          108.23370361328124,
          107.99171000000008,
          107.52953338623048,
          108.63693237304688,
          108.30509948730467,
          107.4118194580078,
          107.85539245605467,
          108.32455444335938,
          107.79379272460938,
          108.56111145019533,
          108.50440000000005,
          107.84568000000009,
          107.24899291992188,
          107.03875732421876,
          108.54649000000006,
          108.42591000000004,
          107.46676635742188,
          107.7935028076172,
          106.87592315673828,
          107.54499816894533,
          108,
          107.08289337158205,
          107.08122000000007,
          108.71379089355467,
          107.3889389038086,
          108.53128051757812,
          106.66642761230467,
          107.54080200195312,
          108.29415130615234,
          107.43376922607422,
          107.07450103759766,
          107.42150115966795,
          108.02523000000008,
          108.39315032958984,
          108.19060516357422,
          107.64678000000004,
          107.66827392578124,
          107.8137435913086,
          108.32099000000004,
          107.1051025390625,
          107.39757537841795,
          108.0438995361328,
          107.84500122070312,
          106.46169000000005,
          108.30570220947266,
          108.08811000000009,
          107.7374496459961,
          107.3018035888672,
          107.31881713867188,
          107.5238800048828,
          108.53414154052734,
          108.00006103515624,
          107.1248016357422,
          108.51077996125017,
          107.76475524902344,
          107.39447784423828,
          107.70999908447266,
          108.30665588378906,
          107.6999282836914,
          107.69268798828124,
          107.69474029541016,
          108.62838745117188,
          108.63000000000004,
          107.71023000000008,
          107.42140197753906,
          107.65995000000004,
          107,
          107.62740325927734,
          107.48397064208984,
          106.54161071777344,
          107.1742706298828,
          107.42152404785156,
          107.93399810791016,
          107.54109954833984,
          108.32736206054688,
          107.13240051269533,
          107.13240051269533,
          107.10324096679688,
          107.22375000000004,
          108.48331451416016,
          107.14866638183594,
          107.01318359375,
          108.38800048828124,
          107.7897720336914,
          107.6531982421875,
          108.37598000000008,
          108.48285675048828,
          108.08972930908205,
          105.21614074707033,
          108.55292510986328,
          108.0443878173828,
          107.62448120117188,
          106.70806884765624,
          107.32957000000005,
          108.4671630859375,
          108.3520736694336,
          107.38179779052734,
          107.73062000000004,
          107.0848388671875,
          108.5822982788086,
          107.13240051269533,
          null,
          108.3125,
          107.8265380859375,
          108.3040008544922,
          108.50723266601562,
          107.50589752197266,
          106.0315170288086,
          107.46524047851562,
          107.92400360107422,
          107.46399688720705,
          107.68731689453124,
          107.24273681640624,
          107.33145141601562,
          108.37470245361328,
          108.01599884033205,
          108.02938842773438,
          108.27706909179688,
          108.51806000000003,
          107.0505828857422,
          107.23538000000008,
          107.99299621582033,
          107.81187000000006,
          107.875,
          106.43229675292967,
          107.18305000000004,
          107.4113998413086,
          106.84534454345705,
          107.39176177978516,
          108.3831558227539,
          107.34429931640624,
          108.45173645019533,
          107.4832000732422,
          106.3917999267578,
          108.23059844970705,
          107.21479034423828,
          107.22555000000006,
          108.26699829101562,
          107.83264923095705,
          106.9650421142578,
          107.135498046875,
          108.25657653808594,
          107.442138671875,
          107.24199676513672,
          107.38051000000009,
          108.53109741210938,
          107.57069000000008,
          107.46119689941406,
          108.50692749023438,
          107.58599090576172,
          107.47728501329073,
          107,
          107.36227416992188,
          107.17240142822266,
          107.04182434082033,
          null,
          107.5001220703125,
          107.44942000000007,
          107.64615631103516,
          null,
          108.61951000000003,
          108.02452087402344,
          106.66477000000005,
          107.59084000000009,
          107.40821075439452,
          108.51080322265624,
          106.82613372802734,
          106.30509948730467,
          107.90003204345705,
          107.65945000000004,
          107.39420318603516,
          108.2582778930664,
          107.92633056640624,
          108.34903717041016,
          108.2110595703125,
          107.22129821777344,
          107.2143096923828,
          null,
          108.31099700927734,
          107.07302856445312,
          107.19529724121094,
          107.45694732666016,
          107.4269027709961,
          106.67829000000006,
          107.52047729492188,
          106.32389831542967,
          108.0301513671875,
          107.37799835205078,
          106.84305572509766,
          107.9763641357422,
          107.45941162109376,
          107.44194793701172,
          107.97074127197266,
          107.5935287475586,
          107.06745147705078,
          107.78608000000008,
          107.88623046875,
          107.37458038330078,
          107.93592071533205,
          107.96639000000005,
          106.52320098876952,
          108.487060546875,
          107.21585083007812,
          108.47688293457033,
          107.41506000000004,
          107.75599670410156,
          108.50287628173828,
          108.37554931640624,
          108.36900329589844,
          107.4974365234375,
          106.3510971069336,
          106.6567611694336,
          108.43494000000004,
          108.4886703491211,
          107.33499908447266,
          107.73230743408205,
          108.46685791015624,
          108.40090942382812,
          106.92522430419922,
          106.68683624267578,
          107.28470000000004,
          107.99076000000008,
          107.80231475830078,
          107.09718322753906,
          107.11000061035156,
          108.75458526611328,
          106.75237274169922,
          107.83230590820312,
          107.0671615600586,
          106.77564239501952,
          107.21103000000004,
          108.07714080810548,
          108.02100372314452,
          107.16902160644533,
          108.34131622314452,
          107.41621000000004,
          107.45230102539062,
          108.2469482421875,
          106.28189849853516,
          108.552001953125,
          106.62200164794922,
          107.8595962524414,
          107.42462158203124,
          107.78472137451172,
          107.69474029541016,
          107.56377410888672,
          108.53009000000009,
          107.25,
          107.55762000000004,
          107.83000183105467,
          107.58599090576172,
          106.56316375732422,
          107.16000366210938,
          107.82102966308594,
          108.55818000000004,
          107.72140502929688,
          107.9200210571289,
          108.67816925048828,
          108.1947021484375,
          108.70404815673828,
          107.94449000000009,
          106.83541107177734,
          107.83799743652344,
          108.6683578491211,
          107.58216094970705,
          107.91564178466795,
          107.00484000000006,
          107.1132354736328,
          106.33560180664062,
          108.03399658203124,
          108.50017547607422,
          null,
          107.40399932861328,
          107.09188079833984,
          106.3918685913086,
          108.01399993896484,
          106.74295043945312,
          107.21219635009766,
          106.65859985351562,
          108.5144500732422,
          107.85701000000006,
          108.26329803466795,
          108.66014862060548,
          108.30269622802734,
          108.13999938964844,
          108.51155090332033,
          108.28800201416016,
          108.35206604003906,
          106.2842025756836,
          107.39472198486328,
          106.55110168457033,
          107.39450073242188,
          107.9250030517578,
          107.93360000000008,
          108.37200927734376,
          108.32816314697266,
          108.37470000000008,
          108.6920166015625,
          108.15290069580078,
          107.3740005493164,
          108.63862000000006,
          107.42084503173828,
          108.26229095458984,
          108.41388000000006,
          108.2020034790039,
          107.70498657226562,
          107.8499526977539,
          107.53448486328124,
          107.49175262451172,
          107.60205841064452,
          107.1426010131836,
          108.43000030517578,
          108.57424926757812,
          107.37462000000004,
          107.49887084960938,
          107.85148000000004,
          108.32428741455078,
          108.19110107421876,
          107.52310180664062,
          107.48011016845705,
          107.33882904052734,
          107.61457824707033,
          108.10028076171876,
          108.55964660644533,
          108.52667236328124,
          107.16799926757812,
          108.72470092773438,
          107.93431854248048,
          107.40923000000004,
          106.83174896240234,
          108.56449127197266,
          107.02401733398438,
          108.64098358154295,
          107.74053192138672,
          107.85059356689452,
          107.44239807128906,
          107.68870544433594,
          108.3457489013672,
          107.22022247314452,
          107.08497619628906,
          106.61207580566406,
          106.55062866210938,
          107.03976440429688,
          null,
          108.27220916748048,
          106.73197174072266,
          107.04979705810548,
          108.0519027709961,
          107.01417541503906,
          107.59519958496094,
          106.53921508789062,
          107.48860168457033,
          108.3320770263672,
          107.1628875732422,
          107.13300323486328,
          107.1186065673828,
          108.61881256103516,
          108.5066146850586,
          107.59603881835938,
          108.45891571044922,
          107.55169677734376,
          107.39976501464844,
          108.70597839355467,
          108.3260498046875,
          108.30388000000004,
          107,
          107.993408203125,
          107.09188079833984,
          108.39309692382812,
          107.03339000000004,
          107.57230377197266,
          107.93399810791016,
          108.21600341796876,
          107.95604705810548,
          106.81410217285156,
          107.6833724975586,
          106.78897094726562,
          106.0351104736328,
          108.36327362060548,
          107.93592071533205,
          108.24190521240234,
          107.40478515625,
          107.83399963378906,
          107.3499984741211,
          108.18150329589844,
          107.14807000000008,
          107.91227722167967,
          107.16005000000008,
          107.28540000000004,
          107.33738708496094,
          107.15880584716795,
          null,
          107.52369689941406,
          108.72404479980467,
          107.72447967529295,
          107.99909973144533,
          107.74444580078124,
          107.01348114013672,
          106.94667053222656,
          106.40260314941406,
          107.66800689697266,
          107.27704620361328,
          107.345703125,
          107.85743713378906,
          108.1863021850586,
          107.21098000000006,
          107.20870971679688,
          108.19980000000004,
          106.6128921508789,
          107.90184020996094,
          107.49220275878906,
          107.85116577148438,
          107.09188079833984,
          107.34223175048828,
          108.55769348144533,
          109,
          107.34523010253906,
          107.87751770019533,
          108.58495330810548,
          108.32250213623048,
          108.80720520019533,
          106.92466735839844,
          107.29167175292967,
          107.4113998413086,
          106.4681396484375,
          106.3823013305664,
          107.94449000000009,
          107.03108215332033,
          107.13884735107422,
          107.58590000000004,
          108.45891571044922,
          107.13240051269533,
          108.2938995361328,
          107.58464813232422,
          107.60137176513672,
          107.29169000000007,
          108.0663833618164,
          107.9266128540039,
          107.4696044921875,
          107.285400390625,
          107.15399932861328,
          107.23836000000006,
          108.4655990600586,
          106.55619000000009,
          108.23863983154295,
          107.5133285522461,
          107.80712127685548,
          107.59286499023438,
          108.4643783569336,
          107.73417000000006,
          106.91510009765624,
          108.70621490478516,
          107.04232025146484,
          108.22329711914062,
          107.55964660644533,
          107.85479736328124,
          108.17150115966795,
          108.4822998046875,
          106.54309844970705,
          108.3000946044922,
          108.53109741210938,
          108.53206634521484,
          107.55999755859376,
          108.62352752685548,
          108.3125991821289,
          107.96031188964844,
          108.59017944335938,
          107.19139862060548,
          107.82283782958984,
          107.96636199951172,
          107.75895000000008,
          108.29219818115234,
          107.4813995361328,
          106.70824432373048,
          106.53479766845705,
          106.50194549560548,
          107.19720458984376,
          108.27249908447266,
          107.51750946044922,
          null,
          108.24373626708984,
          108.00253295898438,
          107.34269714355467,
          108.22299194335938,
          107.3144989013672,
          108.21964263916016,
          108.725341796875,
          107.26066000000009,
          107.22936000000004,
          108.75582885742188,
          108.1943588256836,
          107.39460754394533,
          108.00714000000004,
          107.09909000000005,
          107.44000244140624,
          108.3428192138672,
          108.65437000000009,
          108.4136962890625,
          108.37735748291016,
          106.28450012207033,
          107.36537000000004,
          107.11290740966795,
          107.08376000000004,
          107.41699981689452,
          106.65674000000008,
          107.40129852294922,
          107.29187774658205,
          107.92865753173828,
          108.06800079345705,
          107.40579986572266,
          107.20179748535156,
          107.53179931640624,
          106.70358276367188,
          107.0512924194336,
          106.95036315917967,
          107.05560302734376,
          108.22000122070312,
          107.39503479003906,
          107.83901000000009,
          107.5910186767578,
          108.39872000000008,
          107.46134185791016,
          107.4800033569336,
          106.86409759521484,
          107.54299926757812,
          107.99945000000008,
          107.97151000000008,
          107.5022964477539,
          106.3844985961914,
          107.70395000000008,
          106.36589813232422,
          108.16363000000008,
          106.44290161132812,
          108.26051330566406,
          108.1077117919922,
          107.34369659423828,
          107.24677276611328,
          107.46119689941406,
          107.05891418457033,
          107.18509674072266,
          107.19346618652344,
          107.14099884033205,
          106.3311996459961,
          108.74545288085938,
          107.10196685791016,
          107.79925537109376,
          107.20438000000009,
          108.15540313720705,
          107.21358000000004,
          108.26419830322266,
          108.2266082763672,
          108.10617065429688,
          107.05231475830078,
          108.35159000000004,
          107.97554779052734,
          107.15927124023438,
          107.50807002536396,
          108.5790023803711,
          107.48410034179688,
          108.32518005371094,
          108.17353057861328,
          106.89756774902344,
          107.05980682373048,
          107.5458984375,
          106.7848892211914,
          108.02942657470705,
          108.28972000000005,
          108.53109741210938,
          107.61927032470705,
          107.4231414794922,
          106.72223663330078,
          107.03202000000005,
          107.69474029541016,
          107.11170196533205,
          107.13549041748048,
          108.19068145751952,
          107.85357666015624,
          107.93448638916016,
          108.21540832519533,
          108.4980926513672,
          108.5817413330078,
          108.22152709960938,
          106.8543472290039,
          107.8216323852539,
          107.54540252685548,
          107.6011734008789,
          107.16699981689452,
          106.03119659423828,
          108.29859924316406,
          108.53109741210938,
          107.89436340332033,
          107.88270568847656,
          106.53564453125,
          108.49616241455078,
          107.98589000000004,
          107.25497436523438,
          107.29311000000008,
          107.45078000000008,
          108.3550033569336,
          107.61283111572266,
          107.59200286865234,
          108.18733215332033,
          108.5819854736328,
          108.32233428955078,
          106.43975067138672,
          108.216796875,
          106.54139709472656,
          107.2082977294922,
          107.73866271972656,
          106.5469970703125,
          108.2668685913086,
          107.40052795410156,
          108.00768000000004,
          108.2708511352539,
          107.06658000000004,
          107.56459045410156,
          107.27410125732422,
          107.70783996582033,
          107.25001525878906,
          108.56412506103516,
          107.98071000000004,
          108.32050323486328,
          106.3113021850586,
          107.09188079833984,
          107.24345000000004,
          106.79930114746094,
          null,
          107.49503326416016,
          108.60143280029295,
          108.27304077148438,
          105.78854370117188,
          108.21978759765624,
          107.45500183105467,
          107.83010864257812,
          106.77759000000007,
          107.17124938964844,
          108.16928100585938,
          107.71908569335938,
          107.49034881591795,
          108.39958190917967,
          107.79257202148438,
          107.35199737548828,
          106.69020080566406,
          107.00770000000006,
          107.60778045654295,
          107,
          108.5006866455078,
          107.6091766357422,
          107.56429290771484,
          107.13577000000004,
          108.46746826171876,
          107.84500122070312,
          106.30599975585938,
          107.95600128173828,
          108.17450714111328,
          107.95085144042967,
          108.60829162597656,
          106.54440307617188,
          108.38497161865234,
          106.69190216064452,
          107.40757000000008,
          108.26717376708984,
          108.28833000000007,
          107.2371063232422,
          106.80245971679688,
          108.28746795654295,
          108.3985595703125,
          107.15818786621094,
          108.4376220703125,
          108.51257000000004,
          107.73969268798828,
          108.25641632080078,
          107.01551055908205,
          108.37718200683594,
          108.62273000000005,
          107.80671000000008,
          107.59503936767578,
          108.62647247314452,
          108.47380065917967,
          106.69190216064452,
          106.67640000000006,
          107.58999633789062,
          108.30232000000008,
          107.78871000000004,
          108.25160217285156,
          108.29239654541016,
          107.1768569946289,
          106.50759887695312,
          107.01509857177734,
          107.5492172241211,
          107.53459930419922,
          107.45222000000008,
          106.3917999267578,
          106.44290161132812,
          108.51499938964844,
          107.40251159667967,
          107.52369689941406,
          107.43299865722656,
          108.28893280029295,
          108.75212097167967,
          108.50360870361328,
          108.61600494384766,
          107.94925689697266,
          107.41626739501952,
          108.12999725341795,
          108.24564361572266,
          108.44348907470705,
          107.9184341430664,
          106.7273178100586,
          107.89082000000008,
          107.9014129638672,
          107.23260000000003,
          107.35449981689452,
          106.8333511352539,
          107.93431854248048,
          108.57032012939452,
          107.18560028076172,
          107.37128000000008,
          107.4499969482422,
          108.62352752685548,
          108.40150451660156,
          107.40104675292967,
          108.2437973022461,
          107.96316528320312,
          108.72404479980467,
          107.46645000000008,
          107.34960174560548,
          107.8828125,
          108.49988000000008,
          107.24199676513672,
          107.24321000000003,
          107.31404876708984,
          107.69474029541016,
          107.56510162353516,
          108.11199951171876,
          106.63972473144533,
          107.74066925048828,
          107.31296000000005,
          106.91397857666016,
          107.53119659423828,
          107.45684814453124,
          108.40795000000008,
          107.50963000000009,
          107.07156372070312,
          107.10968017578124,
          107.7354736328125,
          108.19200134277344,
          106.3918685913086,
          108.72684478759766,
          106.86393737792967,
          108.51718000000004,
          106.94740295410156,
          107.5481948852539,
          107.4423599243164,
          107.42549896240234,
          108.1828155517578,
          106.76439666748048,
          107.48384857177734,
          107.36532592773438,
          106.89282000000009,
          106.47579956054688,
          107.53109741210938,
          107.13240051269533,
          108.33941650390624,
          107.036376953125,
          108.43020000000008,
          107.3683090209961,
          107.80514526367188,
          107.25189971923828,
          108.15686798095705,
          106.5019989013672,
          108.32928466796876,
          107.89421081542967,
          108.60238647460938,
          107.35221862792967,
          107.38002000000006,
          106.73353576660156,
          107.4327163696289,
          107.22310638427734,
          107.1604995727539,
          108.26838684082033,
          108.54209899902344,
          106.68219757080078,
          108.29836000000006,
          107.42838000000006,
          107.8907699584961,
          107.12957000732422,
          106.93740844726562,
          108.33271026611328,
          107.41699981689452,
          108.40413665771484,
          107.6204833984375,
          107.42499542236328,
          107.50188446044922,
          108.6844253540039,
          107.59500122070312,
          108.32340240478516,
          107.16120147705078,
          107.66130828857422,
          107.4738998413086,
          108.00553894042967,
          107.76747131347656,
          107.01357000000009,
          107.93312072753906,
          108.2927017211914,
          106.62899780273438,
          107.51570129394533,
          107.69474029541016,
          107.76570892333984,
          106.8168716430664,
          107.01397000000009,
          107.39447784423828,
          107.55159759521484,
          107.58589935302734,
          107.4228515625,
          107.51195526123048,
          107.3751220703125,
          107.9286880493164,
          108.83799743652344,
          106.67372000000006,
          108.65499877929688,
          107.86457061767578,
          107,
          107.3644027709961,
          108.3106689453125,
          106.9209976196289,
          106.58238220214844,
          107.18433380126952,
          107.9541015625,
          107.54900360107422,
          106.79177856445312,
          108.71387481689452,
          107.68174743652344,
          106.91577911376952,
          106.6852569580078,
          108.61976000000004,
          106.77597000000009,
          107.34496307373048,
          107.14439000000004,
          107.25518000000004,
          107.1337432861328,
          107.58580017089844,
          107.69736000000006,
          106.5641098022461,
          108.33547973632812,
          107.30979000000008,
          107.9975128173828,
          106.3030014038086,
          106.50440216064452,
          107.6906280517578,
          107.57204000000009,
          107.3324966430664,
          108.30390167236328,
          107.55951690673828,
          108.44851000000006,
          108.03487000000008,
          108.47907257080078,
          107.6063995361328,
          107.16517639160156,
          106.92144775390624,
          108.6438217163086,
          108.45005798339844,
          108.487060546875,
          107.50968000000006,
          107.88825225830078,
          108.20364379882812,
          107.58480072021484,
          107.12821197509766,
          108.29766845703124,
          107.13584899902344,
          107.03331756591795,
          106.85841369628906,
          106.56038665771484,
          106.83682250976562,
          107.9324951171875,
          106.8560028076172,
          107.2532196044922,
          107.52593000000007,
          107.06362000000009,
          106.7410888671875,
          107.11007690429688,
          106.60298919677734,
          107.77911376953124,
          108.2060089111328,
          106.67654418945312,
          106.80369567871094,
          108.28329467773438,
          107.4333724975586,
          108.32379913330078,
          107.52163000000009,
          108.37370300292967,
          107.76034545898438,
          107.77203000000009,
          108.32378000000006,
          107.29644012451172,
          107.21150207519533,
          107.23796844482422,
          106.70371000000006,
          108.23600006103516,
          108.2679672241211,
          107.93314361572266,
          107.2921371459961,
          106.70303000000008,
          107.11251000000004,
          107.345458984375,
          108.49812316894533,
          108,
          108.32080078125,
          108.2720718383789,
          106.82337951660156,
          106.59500122070312,
          107.69024658203124,
          107.10337829589844,
          107.78623962402344,
          107.39756774902344,
          107.77604675292967,
          107.52529907226562,
          106.97962951660156,
          106.92372000000006,
          107.61298370361328,
          106.79010009765624,
          107.76763916015624,
          107.17002868652344,
          107.08538818359376,
          108.50890000000004,
          108.37409973144533,
          107.3030776977539,
          108.55825805664062,
          106.93017578125,
          107.81219000000004,
          108.50357055664062,
          107.70115661621094,
          108.48963165283205,
          106.93408966064452,
          108.23570251464844,
          108.29886627197266,
          107.1528549194336,
          108.68791961669922,
          107.29199981689452,
          107.1845474243164,
          107.56179809570312,
          107.56108856201172,
          108.450927734375,
          108.07989501953124,
          107.5998992919922,
          106.3311004638672,
          108.42285919189452,
          107.8379364013672,
          107.98162078857422,
          108.45259857177734,
          107.86291000000006,
          107.62692260742188,
          107.726318359375,
          106.93350982666016,
          107.60826873779295,
          107.6889877319336,
          107.18199920654295,
          108.43714141845705,
          107.41304779052734,
          108.1744384765625,
          108.42274475097656,
          107.5395278930664,
          107.21834564208984,
          107.7490005493164,
          106.68061000000006,
          107.57884979248048,
          108.36320495605467,
          107.80113983154295,
          108.54727935791016,
          107.47269439697266,
          107.51689910888672,
          107.06610870361328,
          107.87220001220705,
          107.59194946289062,
          107.48869323730467,
          107.49130249023438,
          106.3918685913086,
          107.83702850341795,
          106.46150207519533,
          107.1161880493164,
          107.33638000000008,
          107.08648681640624,
          107.75700378417967,
          106.66455078125,
          106.91390228271484,
          107.13300323486328,
          106.4220962524414,
          null,
          108.17388916015624,
          106.53819274902344,
          108.05147000000004,
          107.87248229980467,
          106.91488647460938,
          107.49174000000004,
          108.2315673828125,
          107.92008972167967,
          108.21530151367188,
          107.66766357421876,
          106.99178000000006,
          107.2826919555664,
          107.04295349121094,
          108.23655700683594,
          107.92540740966795,
          108.17240142822266,
          107.39320373535156,
          107.89781951904295,
          108.67700000000008,
          null,
          107.47360229492188,
          107.04844665527344,
          107.48348236083984,
          108.22795867919922,
          107.91162109375,
          106.6395492553711,
          108.1218032836914,
          108.3239974975586,
          107.60675048828124,
          107.79299926757812,
          108.57232666015624,
          107.27449798583984,
          107.67330169677734,
          108.5657196044922,
          108.23892211914062,
          106.47579956054688,
          107.51740264892578,
          107.45840454101562,
          107.80796813964844,
          107.13400268554688,
          106.66657257080078,
          107.90835571289062,
          107.89714813232422,
          108.50812530517578,
          106.7980728149414,
          107.73999786376952,
          107.18449000000004,
          106.84320831298828,
          107.57389831542967,
          107.4918975830078,
          106.92790985107422,
          108.5228271484375,
          107.75656127929688,
          107.5756378173828,
          108.19969940185548,
          107.53500366210938,
          107.59747314453124,
          107.89933776855467,
          106.69777000000003,
          106.82974243164062,
          107.31982421875,
          107.3855209350586,
          107.84416961669922,
          108.22412872314452,
          108.33000946044922,
          107.3829574584961,
          106.84407806396484,
          108.24500274658205,
          107.22028350830078,
          106.80580139160156,
          107.60520935058594,
          107.23429870605467,
          106.63285064697266,
          108.25493621826172,
          107.48529815673828,
          107.78553009033205,
          107.10425000000004,
          108.1993408203125,
          106.74513244628906,
          107.4030990600586,
          107.60739135742188,
          107.46981811523438,
          107.47589874267578,
          106.57451629638672,
          106.90392303466795,
          107.30377000000004,
          107.52369689941406,
          107.61972045898438,
          106.80404663085938,
          107.69474029541016,
          107.6170425415039,
          107.18254089355467,
          107.6435317993164,
          106.83380126953124,
          108.291259765625,
          107.3941879272461,
          106.6036148071289,
          108.17355346679688,
          106.6886215209961,
          107.87271881103516,
          107.01152801513672,
          106.52249908447266,
          108.72836303710938,
          108.18860626220705,
          107.69474029541016,
          106.85233306884766,
          107.63414001464844,
          107.61138153076172,
          106.94857788085938,
          108.1843490600586,
          107.3186264038086,
          107.4625015258789,
          108.63314056396484,
          107.1798324584961,
          107.69315338134766,
          106.75469000000004,
          108.00700378417967,
          107.1790008544922,
          107.44110107421876,
          108.34176635742188,
          108.33409881591795,
          106.65244000000008,
          106.385498046875,
          106.50569915771484,
          107.17400360107422,
          107.34526824951172,
          106.65444946289062,
          108.24455261230467,
          108.16972000000004,
          107.260986328125,
          108.17220306396484,
          107.43550000000003,
          107.1125030517578,
          108.23741912841795,
          107.17969000000004,
          108.56143188476562,
          107.69474029541016,
          106.85320281982422,
          107.78585815429688,
          107.44783782958984,
          106.79048000000006,
          107.32415771484376,
          106.95214080810548,
          107.57102966308594,
          106.9106216430664,
          106.44139862060548,
          107.39265000000006,
          108.62100219726562,
          107.54429626464844,
          107.84500122070312,
          107.2300033569336,
          108.078369140625,
          107.97933197021484,
          106.74591827392578,
          107.16902160644533,
          107.9106903076172,
          108.02291000000008,
          107.73102569580078,
          106.52169799804688,
          107.57659149169922,
          108.22458000000006,
          106.7993621826172,
          108.49579620361328,
          null,
          null,
          108.42400360107422,
          108.1196517944336,
          107.1189422607422,
          106.95619201660156,
          107.28411865234376,
          108.5068130493164,
          107.80718231201172,
          107.71839904785156,
          107.29409790039062,
          107.26456000000007,
          106.76499938964844,
          107.59249114990234,
          107.9446029663086,
          106.8030014038086,
          107.89808000000004,
          107.5250015258789,
          106.41378784179688,
          108.3927001953125,
          108.36000061035156,
          108.56854248046876,
          107,
          107.1525421142578,
          106.97169494628906,
          108.35731506347656,
          108.04949188232422,
          108.2384796142578,
          107.76290893554688,
          107.85974884033205,
          108.24590301513672,
          107.09188079833984,
          107.13240051269533,
          107.33000183105467,
          107.25713348388672,
          107.90209197998048,
          108.34709930419922,
          107.63981628417967,
          107.81345000000005,
          107.90225982666016,
          106.72874000000007,
          108.24677276611328,
          107.95594024658205,
          106.73346710205078,
          107.6923599243164,
          107.65962000000007,
          108.31363000000005,
          107.08988000000004,
          106.93855285644533,
          106.75981000000009,
          106.3917999267578,
          107.12876000000006,
          106.72608184814452,
          107.95600128173828,
          106.69888000000007,
          107.22547912597656,
          106.70239000000004,
          108.20800018310548,
          107.34480285644533,
          107,
          108.27101135253906,
          108.18759155273438,
          107.9530029296875,
          108.36988830566406,
          107.62216186523438,
          107.6327133178711,
          107.88706970214844,
          108.16808000000007,
          107.51649475097656,
          107.38967895507812,
          106.42150115966795,
          107.6470947265625,
          107.493896484375,
          107.32491000000005,
          106.83184814453124,
          107.18148040771484,
          107.88836669921876,
          107.65641021728516,
          106.87749000000008,
          108.18736267089844,
          107.51085662841795,
          107.93154907226562,
          108.4998016357422,
          106.52249908447266,
          107.18419647216795,
          106.625,
          107.06224000000007,
          106.41000366210938,
          108.4880828857422,
          107.7108154296875,
          107.07796000000008,
          108.39666748046876,
          108.04421000000008,
          107.33037567138672,
          107.4240264892578,
          106.44385528564452,
          106.75193000000009,
          108.21289825439452,
          null,
          106.7137680053711,
          108.21653747558594,
          108.55242919921876,
          107.10898000000007,
          108.24441528320312,
          108.21183013916016,
          107.69463348388672,
          108.08689000000004,
          108.34848022460938,
          107.90885162353516,
          106.93374633789062,
          107.89177703857422,
          106.93157196044922,
          106.93231201171876,
          107.17002868652344,
          107.11129760742188,
          107.3887176513672,
          108.10611724853516,
          107.26042938232422,
          106.9494400024414,
          108.24337005615234,
          107.56539916992188,
          107.1259994506836,
          107.49654000000004,
          107.91796112060548,
          108.02054000000004,
          106.84339141845705,
          107.82612000000006,
          106.92355346679688,
          108.26667785644533,
          107.5644989013672,
          107.49143981933594,
          108.20700073242188,
          107.1449966430664,
          107.59400177001952,
          106.81996154785156,
          107.73678588867188,
          107.59089660644533,
          107.98764038085938,
          108.19651794433594,
          107.06054000000006,
          108.39762878417967,
          105.47229766845705,
          108.2672348022461,
          107.69474029541016,
          107.04796600341795,
          107.02072143554688,
          108.60863494873048,
          107.42208000000004,
          107.3550033569336,
          106.67782000000004,
          107.4000015258789,
          107.24500274658205,
          null,
          107.86248000000006,
          108.32415771484376,
          106.82360076904295,
          107.63371276855467,
          107.63200378417967,
          106.92450714111328,
          107.4381866455078,
          106.91911315917967,
          107.57508087158205,
          107.58280181884766,
          107.66207122802734,
          106.4740982055664,
          106.93444061279295,
          106.3823013305664,
          107.05012000000004,
          107.35042000000004,
          108.3359603881836,
          106.74376678466795,
          107.95410919189452,
          107.00615692138672,
          106.38700103759766,
          107.40617370605467,
          107.88260650634766,
          106.4489974975586,
          107.2095184326172,
          107.1992645263672,
          108.69888000000007,
          107.8030014038086,
          107.61798858642578,
          107.29000091552734,
          107.89096069335938,
          106.76187896728516,
          106.68692779541016,
          107.62892150878906,
          107.56856536865234,
          107.50170135498048,
          108.20671844482422,
          107.58628845214844,
          107.63312000000008,
          107.40271759033205,
          108,
          107.28412628173828,
          107.46331024169922,
          106.62346649169922,
          108.18789672851562,
          106.75440216064452,
          108.31690216064452,
          107.72565460205078,
          107.98063659667967,
          107.5373992919922,
          107.8780517578125,
          106.90342712402344,
          107.95439910888672,
          107.12995147705078,
          107.6742172241211,
          106.8571319580078,
          107.50330352783205,
          107.76355743408205,
          107.53116000000006,
          106.29440307617188,
          107.79656982421876,
          107.05812072753906,
          106.46150207519533,
          106.42489624023438,
          108.17140197753906,
          107.48184967041016,
          106.75018310546876,
          107.23844146728516,
          106.65615844726562,
          107.67396000000008,
          106.3918685913086,
          106.63131713867188,
          107.34901428222656,
          107.5,
          107.40468000000004,
          107.98621368408205,
          106.76759338378906,
          107.0123062133789,
          106.83670806884766,
          107.69474029541016,
          107.9497528076172,
          107.64301300048828,
          107.33685000000008,
          107.2819595336914,
          108.52387237548828,
          107.70230102539062,
          106.75003814697266,
          107.68333435058594,
          107.65258000000006,
          107.2397003173828,
          107.48094177246094,
          107.19090270996094,
          107.4449462890625,
          107.3228988647461,
          106.81775665283205,
          106.66637420654295,
          107.50799560546876,
          107.71395111083984,
          106.73699188232422,
          108.3499984741211,
          106.8024673461914,
          107.82283782958984,
          107.26524353027344,
          106.64069366455078,
          107.59900665283205,
          108.32845306396484,
          106.50540161132812,
          107.52100372314452,
          107.61734008789062,
          108.55242919921876,
          108.59540000000004,
          106.91021728515624,
          107.17144012451172,
          106.68302917480467,
          106.89266967773438,
          106.76614379882812,
          107.14330291748048,
          107.5756378173828,
          107.4561004638672,
          107.64405822753906,
          107.69207000732422,
          107.597412109375,
          106.7875518798828,
          108.1999969482422,
          106.80741119384766,
          108.17505645751952,
          107.03268432617188,
          107.61077880859376,
          107.97268000000008,
          107.69811248779295,
          107.557373046875,
          107.59339904785156,
          108.19357299804688,
          108.2218017578125,
          108.52054595947266,
          106.73197174072266,
          107.89148712158205,
          108.80297088623048,
          106.86314000000004,
          106.92843627929688,
          107.03060150146484,
          107.45494842529295,
          106.5479965209961,
          107.62683868408205,
          106.94471740722656,
          108.21978759765624,
          107.4250030517578,
          107.06763000000008,
          106.84294891357422,
          107.82065000000006,
          106.46330261230467,
          106.98873901367188,
          106.73300170898438,
          106.70759582519533,
          106.5902862548828,
          108.540771484375,
          108.2140884399414,
          107.572998046875,
          106.79562377929688,
          107.4625015258789,
          108.18131256103516,
          108.47222900390624,
          107.3429718017578,
          107.8537368774414,
          106.72733306884766,
          107.51126861572266,
          106.67435455322266,
          107.8426513671875,
          107.06245000000008,
          107.4278564453125,
          107.12821197509766,
          107.60932159423828,
          108,
          107.54399871826172,
          108.20114135742188,
          107.5181655883789,
          106.7184066772461,
          107.62164306640624,
          107.63883000000004,
          107.13449096679688,
          107.57164764404295,
          107.10161590576172,
          107.41123962402344,
          108.22969818115234,
          108.28539276123048,
          107.82870000000008,
          107.9340362548828,
          107.69474029541016,
          107.79345703125,
          106.84361000000008,
          108.29733276367188,
          108.34748840332033,
          106.77974700927734,
          107.40480041503906,
          107.14529000000005,
          107.7249984741211,
          107.28119659423828,
          107.74153900146484,
          107.72562408447266,
          108.4695053100586,
          106.79987335205078,
          106.9430694580078,
          107.54959106445312,
          107.05055236816406,
          107.4355010986328,
          108.18749237060548,
          107.258056640625,
          106.6326904296875,
          108.5566864013672,
          107.29879760742188,
          107.58428192138672,
          107.06281000145844,
          107.69474029541016,
          107.88849639892578,
          106.80838775634766,
          107.6161117553711,
          107.89479064941406,
          107.09871000000004,
          106.92243194580078,
          106.81542205810548,
          106.74629974365234,
          108.48306274414062,
          107.69180297851562,
          107.2354965209961,
          107.58586120605467,
          107.67900848388672,
          106.43109893798828,
          106.80307006835938,
          106.67923736572266,
          106.904296875,
          107.60065000000009,
          107.87830352783205,
          106.7870635986328,
          107.35807800292967,
          108,
          106.88299560546876,
          106.94223022460938,
          107.45573000000007,
          106.41353607177734,
          107.26164245605467,
          106.7929229736328,
          107.41555786132812,
          107.5255355834961,
          107.83773803710938,
          107.47000122070312,
          107.13057708740234,
          108.4729995727539,
          107.47161102294922,
          107.83399963378906,
          107.46224975585938,
          107.3846664428711,
          106.73674011230467,
          106.7040023803711,
          107.37965393066406,
          107.90886688232422,
          107.44515228271484,
          107.5955810546875,
          107.3206787109375,
          107.51883697509766,
          106.78524780273438,
          107.34459686279295,
          107.06637573242188,
          107.91979217529295,
          107.47146606445312,
          107.85398864746094,
          107.2689971923828,
          106.4688949584961,
          107.8998565673828,
          106.92324829101562,
          107,
          106.82195281982422,
          108.22064208984376,
          107.76000213623048,
          108.29119873046876,
          107.9801025390625,
          106.74752044677734,
          107.28021240234376,
          108.01784000000004,
          107.4211883544922,
          107.43810272216795,
          107.73658000000006,
          106.85340118408205,
          107.4290008544922,
          108.03487000000008,
          107.1114501953125,
          107.17654418945312,
          107.58895000000008,
          106.83978271484376,
          107.6744613647461,
          106.79554000000007,
          108.63751220703124,
          106.8369369506836,
          107.1447982788086,
          107.44332885742188,
          107.45609283447266,
          106.0343017578125,
          107.59188842773438,
          107.20379638671876,
          107.89942169189452,
          106.80699157714844,
          106.8552017211914,
          106.8270492553711,
          107.18683624267578,
          106.42510223388672,
          107.9446029663086,
          107.63346099853516,
          107.68154907226562,
          106.70868682861328,
          107.60256958007812,
          106.95126342773438,
          107.15481567382812,
          108.5956802368164,
          107.52539825439452,
          108.18962097167967,
          107.45594787597656,
          106.03289794921876,
          107.81210327148438,
          107.76812744140624,
          107.90917205810548,
          107.66400146484376,
          107.52410125732422,
          107.10369873046876,
          107.44148000000008,
          107.72267150878906,
          107.48332977294922,
          107.81300000000005,
          107.68415069580078,
          106.98375701904295,
          106.70919799804688,
          107.55452000000008,
          107.32407000000006,
          106.44200134277344,
          106.81546783447266,
          107.72032000000009,
          106.8217315673828,
          108.5591812133789,
          107.59162902832033,
          106.48490142822266,
          107.5144271850586,
          107.73544311523438,
          106.88941955566406,
          107.42276763916016,
          106.40270233154295,
          108.557861328125,
          107.7208251953125,
          107.29266357421876,
          107.29155731201172,
          106.73681640625,
          108.07219696044922,
          107.73280334472656,
          107.17002868652344,
          107,
          106.69294738769533,
          107.48869323730467,
          107.86917114257812,
          107,
          107.33599853515624,
          107.15734000000003,
          107.86337280273438,
          108.54045104980467,
          107.38225555419922,
          107.57827758789062,
          107.76000213623048,
          107.62930297851562,
          107.89865000000007,
          108.64788055419922,
          107.60832214355467,
          107.21158599853516,
          108.5744171142578,
          106.8811264038086,
          107.6044921875,
          107.99199676513672,
          108.21987915039062,
          108.31043243408205,
          107.1156234741211,
          107.64263916015624,
          107.69474029541016,
          106.7696304321289,
          107.59880065917967,
          107.87845000000004,
          107.35202000000004,
          108.54928588867188,
          107.39221954345705,
          107.54811096191406,
          107.57192993164062,
          107.57656860351562,
          108.54302215576172,
          107.04993000000007,
          107.83164000000004,
          108.34320068359376,
          108.54544830322266,
          106.79884338378906,
          106.73967000000005,
          108.20825958251952,
          107.76094818115234,
          108.24539000000004,
          108.68667602539062,
          106.99051666259766,
          107.31082000000004,
          107.3603744506836,
          107.5355987548828,
          107.62200164794922,
          106.77086639404295,
          108.3132095336914,
          107.46420000000006,
          null,
          106.7579574584961,
          107.36914825439452,
          108,
          106.7705535888672,
          106.78851318359376,
          108.71196746826172,
          107.29199981689452,
          106.95629119873048,
          108.53743743896484,
          108.21025848388672,
          107.60623931884766,
          107.3683090209961,
          108.29399871826172,
          106.7769012451172,
          107.35169982910156,
          107.17002868652344,
          108.61865234375,
          106.85440063476562,
          107.04480743408205,
          107.80310821533205,
          106.43579864501952,
          106.80416000000008,
          107.19989776611328,
          107.57465362548828,
          107.88980865478516,
          107.91100311279295,
          106.79118347167967,
          107.47219848632812,
          107.93154907226562,
          107.34193420410156,
          107.45391845703124,
          107.61456298828124,
          107.52643585205078,
          108.48974609375,
          106.87596130371094,
          107.54875946044922,
          107.6467742919922,
          null,
          108.36888122558594,
          107.37999725341795,
          107.99700164794922,
          106.46849822998048,
          106.4540023803711,
          106.78594207763672,
          108.4498062133789,
          107.62092590332033,
          106.92356872558594,
          108.5647430419922,
          107.88262939453124,
          106.7563705444336,
          106.85440063476562,
          107.28362000000004,
          108.61399841308594,
          107.53559112548828,
          107.7931137084961,
          106.8083724975586,
          107.68466186523438,
          106.99868774414062,
          106.82489776611328,
          108.46134948730467,
          107.04988861083984,
          107.10199737548828,
          106.4218978881836,
          107.34854888916016,
          107.68879699707033,
          107.22200012207033,
          107.62470245361328,
          107.49349975585938,
          107.20500183105467,
          107.51108000000004,
          107.1051025390625,
          107.72415924072266,
          107.44886779785156,
          107.59090423583984,
          107.69905090332033,
          107.5540008544922,
          106.81562042236328,
          107.37112426757812,
          108.46874237060548,
          106.81301879882812,
          107.5439910888672,
          107.58470153808594,
          108.51599884033205,
          107.45567321777344,
          108.63343811035156,
          107.33570098876952,
          107.25302124023438,
          108.5496597290039,
          107.46378326416016,
          107.70704650878906,
          106.77722930908205,
          107.68720245361328,
          106.94632720947266,
          106.65721130371094,
          108.57266235351562,
          107.58430480957033,
          106.77086639404295,
          106.86062622070312,
          107.21463012695312,
          108.29405975341795,
          106.73282623291016,
          106.69035339355467,
          108.44629669189452,
          106.71292114257812,
          107.70060729980467,
          107.63874816894533,
          107.50595000000004,
          107.83712768554688,
          107.13069152832033,
          106.93216705322266,
          107.48570251464844,
          107.77848815917967,
          106.77390000000008,
          106.80084991455078,
          107.56549072265624,
          107.27454000000006,
          107.27185821533205,
          107.42320251464844,
          106.72516632080078,
          107.25865936279295,
          107.81160736083984,
          108.23172760009766,
          107.45073699951172,
          106.7955093383789,
          107.72140502929688,
          107.5694580078125,
          107.28947448730467,
          107.6907196044922,
          107.70453643798828,
          107.24109649658205,
          106.91568756103516,
          107.543701171875,
          108.25869750976562,
          107.03644561767578,
          107.0196762084961,
          106.89749145507812,
          107.77469635009766,
          106.4390106201172,
          107,
          106.8274383544922,
          108.48619842529295,
          107.33856000000009,
          107.05979000000008,
          107.5540008544922,
          106.89832305908205,
          107.66915893554688,
          107.81714000000004,
          108.61599731445312,
          106.43800354003906,
          107.27420043945312,
          106.5705108642578,
          107.2332000732422,
          106.7919692993164,
          107.4457015991211,
          107.47516632080078,
          106.83169555664062,
          107.5863037109375,
          106.53569793701172,
          107.51689910888672,
          107.54449000000004,
          107.6343765258789,
          107.16524000000004,
          107.55129000000004,
          107.46320343017578,
          107.56273651123048,
          107.29530334472656,
          107.91433715820312,
          107.13758087158205,
          107.5712890625,
          107.62599182128906,
          108.5322494506836,
          107.9259262084961,
          106.78546142578124,
          107.01629638671876,
          107.49290466308594,
          107.4624481201172,
          107.03999000000005,
          107.91340637207033,
          106.94860076904295,
          107.79386138916016,
          106.87344360351562,
          107.22820281982422,
          106.98462677001952,
          107.33580780029295,
          108.4030990600586,
          108.1501922607422,
          106.79459381103516,
          106.77839660644533,
          108.22570037841795,
          108.5521240234375,
          107.31310272216795,
          107.54386901855467,
          107.45899000000009,
          107.71121978759766,
          106.76187133789062,
          108.00180053710938,
          107.83650970458984,
          107.80179595947266,
          106.77395629882812,
          107.62200164794922,
          108.0272216796875,
          106.9163589477539,
          106.79000854492188,
          107.60035705566406,
          107.05685424804688,
          106.62200164794922,
          106.82763000000006,
          106.90505981445312,
          107.58879852294922,
          106.9697036743164,
          107.5749969482422,
          107.00113677978516,
          107.66380310058594,
          107.60356903076172,
          107.482421875,
          106.88519287109376,
          107.28110000000004,
          107.31291961669922,
          107.50385284423828,
          106.8363037109375,
          107.0974578857422,
          107.328857421875,
          106.81102752685548,
          106.7503890991211,
          107.91400146484376,
          107.28922271728516,
          108.19064331054688,
          107.7497100830078,
          107.4785614013672,
          107.68286895751952,
          108.39180755615234,
          106.93450927734376,
          107.73513793945312,
          107.85399627685548,
          107.24490000000009,
          107.60173034667967,
          107.6966323852539,
          106.81458282470705,
          107.25491333007812,
          107.3154525756836,
          107.42865753173828,
          108.23179626464844,
          106.76455688476562,
          107.30535125732422,
          107.27018000000004,
          107.5709991455078,
          107.51663000000008,
          107.41384887695312,
          106.72467000000006,
          107.13394165039062,
          108.52758026123048,
          107.76162719726562,
          106.74050903320312,
          106.57579040527344,
          107.00132751464844,
          107.48370361328124,
          107.53600311279295,
          107.96452331542967,
          106.4645004272461,
          107.48929595947266,
          108.19365692138672,
          106.81119537353516,
          107.42250061035156,
          106.8714599609375,
          108.20863342285156,
          107.24310302734376,
          106.84500885009766,
          107.66326141357422,
          107.55500030517578,
          107.71446990966795,
          107.53721618652344,
          107.6408462524414,
          107.3018035888672,
          107.46109008789062,
          107.20286560058594,
          107.61282348632812,
          107.6194076538086,
          107.59430694580078,
          null,
          106.93211364746094,
          106.92317199707033,
          107.41546630859376,
          107.57115936279295,
          107.76242065429688,
          106.78218841552734,
          107.11170196533205,
          107.28177642822266,
          107.64395904541016,
          107.44113159179688,
          108.22325134277344,
          107.46043395996094,
          106.87737274169922,
          107.75363159179688,
          108.5492706298828,
          107.62297821044922,
          106.73189544677734,
          107.11579895019533,
          106.78109741210938,
          107.6406021118164,
          107.4845962524414,
          107.59552001953124,
          107.6370620727539,
          107.28424835205078,
          106.86711000000008,
          107,
          107.65859985351562,
          106.86991119384766,
          107.69474029541016,
          107.59966278076172,
          107.65229034423828,
          108.35340118408205,
          106.93034362792967,
          106.5435028076172,
          107.73739624023438,
          107.58989715576172,
          107.57853698730467,
          108.5794677734375,
          107.35079193115234,
          106.66500091552734,
          106.80677032470705,
          107.06583404541016,
          107.9130630493164,
          107.632568359375,
          107.6408920288086,
          107.4127960205078,
          108.55851745605467,
          108.20984649658205,
          107.67639923095705,
          107.11804962158205,
          106.90293884277344,
          106.96184539794922,
          106.8808135986328,
          106.81343841552734,
          107.00997924804688,
          106.65721130371094,
          107.04411315917967,
          107.7204818725586,
          106.78444000000007,
          107.43460845947266,
          106.92559051513672,
          107.1340103149414,
          107.60060119628906,
          107.54776000000004,
          107.47293090820312,
          107.19544000000008,
          106.97398376464844,
          107.57964324951172,
          107.45740509033205,
          106.7758331298828,
          106.68914794921876,
          107.14600372314452,
          107.5885772705078,
          107.60562133789062,
          107.24766000000004,
          106.81629180908205,
          107.4423599243164,
          106.84610748291016,
          106.7677993774414,
          107.06173706054688,
          107.63118743896484,
          107.75325775146484,
          106.762451171875,
          107.31197357177734,
          107.56623840332033,
          106.7668685913086,
          106.7926788330078,
          106.55509948730467,
          106.83468627929688,
          107.50287000000009,
          107.56640625,
          106.77584075927734,
          106.84188842773438,
          107.146728515625,
          107.10186767578124,
          107.01614379882812,
          107.6482162475586,
          107.71195220947266,
          107.74275000000006,
          107.5749969482422,
          106.7889633178711,
          107.57290649414062,
          106.94013214111328,
          106.9813003540039,
          106.86834716796876,
          107.13880920410156,
          106.69474029541016,
          107.51200103759766,
          107.5133285522461,
          106.4503173828125,
          107.47941589355467,
          107.184814453125,
          107.41943359375,
          106.81104278564452,
          108.36192321777344,
          107.5479965209961,
          107.6102523803711,
          106.92809295654295,
          106.75269317626952,
          107.02140045166016,
          107.68345642089844,
          107.6668701171875,
          107.42666000000008,
          106.63420867919922,
          107.69474029541016,
          108.32340240478516,
          107.67163848876952,
          106.8607177734375,
          106.4885025024414,
          107.63703918457033,
          106.83956146240234,
          107.40095520019533,
          106.75994110107422,
          107.64778900146484,
          106.82235717773438,
          107.69290924072266,
          106.8737564086914,
          107.60370635986328,
          107.0573272705078,
          107.49836730957033,
          106.84815216064452,
          107.02140045166016,
          106.47579956054688,
          106.47395324707033,
          106.9487762451172,
          107.44332885742188,
          107.85479736328124,
          108.2261199951172,
          106.8275375366211,
          107.51068115234376,
          106.5813980102539,
          107.59342956542967,
          107.6728286743164,
          106.77564239501952,
          106.78453063964844,
          107.71975708007812,
          107.12799072265624,
          106.94538879394533,
          106.9134521484375,
          108.2243194580078,
          107.49444580078124,
          107.46076965332033,
          106.8146514892578,
          107.55365753173828,
          106.79753875732422,
          106.77020263671876,
          107.21430206298828,
          107.59673309326172,
          106.98445892333984,
          107.64299774169922,
          107.56208801269533,
          107.53569793701172,
          107.57720947265624,
          106.32805633544922,
          107.58844757080078,
          107.60777282714844,
          107.56649017333984,
          107.1439971923828,
          107.67539978027344,
          107.64425659179688,
          107.60938262939452,
          107.34444427490234,
          106.69908142089844,
          107.55400848388672,
          108.20646667480467,
          106.78211975097656,
          107.02208709716795,
          107.79766845703124,
          106.68000030517578,
          106.80284118652344,
          107.60687000000009,
          107.55899810791016,
          107.45378112792967,
          107.65631103515624,
          107.65953826904295,
          107.91114044189452,
          107.60826110839844,
          107.63608000000004,
          106.80754852294922,
          106.9571533203125,
          107.7596664428711,
          107.54100036621094,
          107.68097686767578,
          107.1130599975586,
          106.84349822998048,
          107.58538818359376,
          107.7774429321289,
          106.7979507446289,
          107.59703063964844,
          107.37300000000003,
          107.75919342041016,
          107,
          106.79260000000004,
          108.2706298828125,
          107.21900177001952,
          106.81173706054688,
          108.5309600830078,
          106.7730484008789,
          106.51505279541016,
          107.53871154785156,
          106.86409759521484,
          107.65904235839844,
          107.64416000000006,
          107.475830078125,
          107.56320190429688,
          107.7688217163086,
          107.5876235961914,
          106.9842529296875,
          107.49242401123048,
          107.5672836303711,
          108.21173858642578,
          106.8296890258789,
          107.82086944580078,
          107.82894897460938,
          107,
          107.43895000000003,
          107.69032287597656,
          107.01203155517578,
          106.85489000000008,
          106.52200317382812,
          107.6042022705078,
          106.93006134033205,
          107.14832305908205,
          107.59500000000008,
          107.12981414794922,
          107.57804107666016,
          107.76287841796876,
          107.94459533691406,
          107.59649658203124,
          107.31263732910156,
          108.23847198486328,
          107.1231689453125,
          107.67023000000006,
          107.67504119873048,
          107.66506958007812,
          107.45419000000004,
          107.7387466430664,
          106.77020263671876,
          106.80802917480467,
          106.7166748046875,
          107.0135498046875,
          106.8019790649414,
          107.58056640625,
          106.81201934814452,
          106.84185028076172,
          null,
          107.65946197509766,
          107.05004000000008,
          106.8226089477539,
          107.5156478881836,
          107.55414000000007,
          106.94808197021484,
          106.88326263427734,
          106.93524932861328,
          107.59375762939452,
          106.80413818359376,
          106.81379699707033,
          107.58390808105467,
          107.07077026367188,
          107.29199981689452,
          107.64974975585938,
          107.74966000000006,
          107.61895751953124,
          107.62786865234376,
          106.78527069091795,
          106.9985580444336,
          106.9983367919922,
          107.35099792480467,
          107.6597900390625,
          106.86669158935548,
          107.75686645507812,
          107.46198272705078,
          106.5801010131836,
          107.6552276611328,
          106.95021057128906,
          106.77867126464844,
          107.59089660644533,
          107.75616000000008,
          107.5408172607422,
          107.59686279296876,
          107.52098846435548,
          107.62393951416016,
          108.54817962646484,
          106.45339965820312,
          107.33599853515624,
          106.961181640625,
          106.52189636230467,
          106.80369567871094,
          107.5169906616211,
          107.4925765991211,
          107.6574935913086,
          107.03907012939452,
          107.4678955078125,
          106.97128295898438,
          106.79900360107422,
          106.80828094482422,
          106.94644927978516,
          107.03497314453124,
          107.62552642822266,
          106.87700653076172,
          107.59101104736328,
          107.9290008544922,
          null,
          107.74104309082033,
          106.6736068725586,
          106.89720153808594,
          107.28240203857422,
          107.57882690429688,
          106.82286834716795,
          107.63845825195312,
          106.9542465209961,
          106.97570037841795,
          107.5943832397461,
          107.72817000000003,
          107.7685775756836,
          107.49656677246094,
          107.4788818359375,
          107.27754000000004,
          106.85588836669922,
          107.55818176269533,
          107.04269000000004,
          107.59100341796876,
          107.61795043945312,
          107.65123748779295,
          107.62101745605467,
          107.53214263916016,
          106.8138198852539,
          107.65599822998048,
          106.86811065673828,
          107.53136444091795,
          107.5287628173828,
          106.9691162109375,
          107.75618000000009,
          106.91619110107422,
          107.64552307128906,
          106.90484619140624,
          106.48259735107422,
          107.14459228515624,
          106.94322967529295,
          106.91889190673828,
          106.96184539794922,
          106.8655776977539,
          106.98497009277344,
          107.55003356933594,
          107.38146209716795,
          106.97036743164062,
          106.93029022216795,
          107.55166625976562,
          107.01260375976562,
          106.7737274169922,
          106.8501205444336,
          107.01040649414062,
          106.89112854003906,
          107.5540008544922,
          107.03130340576172,
          106.83695220947266,
          106.83775329589844,
          106.95690155029295,
          107.52767181396484,
          106.92266845703124,
          107.04157257080078,
          106.97818756103516,
          106.9871597290039,
          106.81006622314452,
          107.00666046142578,
          107.5416488647461,
          106.8520278930664,
          107.73184967041016,
          107.69474029541016,
          105.5340576171875,
          107.02494049072266,
          107.03386688232422,
          106.96056365966795,
          106.9685516357422,
          107.02368927001952,
          107.55758666992188,
          107.05682373046876,
          107.07044219970705,
          107.01172637939452,
          106.85585021972656,
          106.99088287353516,
          107.02867126464844,
          106.99150848388672,
          107.15055847167967,
          107.56041717529295,
          106.8490982055664,
          107.63291931152344,
          106.98558807373048,
          107.09298706054688,
          107.5577392578125,
          106.9697036743164,
          107.0030288696289
         ],
         "name": "",
         "radius": 7,
         "subplot": "mapbox",
         "type": "densitymapbox",
         "z": [
          6,
          7,
          7,
          8,
          8,
          8,
          9,
          9,
          10,
          10,
          10,
          10,
          11,
          11,
          12,
          12,
          12,
          12,
          12,
          12,
          12,
          12,
          13,
          13,
          13,
          13,
          13,
          13,
          14,
          14,
          15,
          15,
          15,
          15,
          16,
          16,
          16,
          16,
          17,
          17,
          17,
          17,
          17,
          17,
          18,
          18,
          18,
          18,
          18,
          18,
          18,
          18,
          19,
          19,
          19,
          19,
          19,
          19,
          19,
          19,
          19,
          19,
          19,
          19,
          19,
          20,
          20,
          20,
          20,
          20,
          20,
          20,
          20,
          20,
          20,
          20,
          20,
          20,
          20,
          20,
          20,
          21,
          21,
          21,
          21,
          21,
          21,
          21,
          21,
          21,
          21,
          21,
          22,
          22,
          22,
          22,
          22,
          22,
          22,
          22,
          22,
          22,
          22,
          23,
          23,
          23,
          23,
          23,
          23,
          23,
          23,
          24,
          24,
          24,
          24,
          24,
          24,
          24,
          24,
          24,
          24,
          24,
          24,
          24,
          24,
          24,
          24,
          24,
          24,
          24,
          24,
          25,
          25,
          25,
          25,
          25,
          25,
          25,
          25,
          25,
          25,
          25,
          26,
          26,
          26,
          26,
          26,
          26,
          26,
          26,
          26,
          26,
          26,
          26,
          26,
          26,
          26,
          27,
          27,
          27,
          27,
          27,
          27,
          27,
          27,
          27,
          27,
          27,
          27,
          27,
          27,
          27,
          27,
          27,
          27,
          28,
          28,
          28,
          28,
          28,
          28,
          28,
          28,
          28,
          28,
          28,
          28,
          28,
          28,
          28,
          28,
          28,
          28,
          28,
          28,
          28,
          28,
          28,
          29,
          29,
          29,
          29,
          29,
          29,
          29,
          29,
          29,
          29,
          29,
          29,
          29,
          29,
          29,
          29,
          29,
          29,
          29,
          29,
          29,
          29,
          29,
          29,
          29,
          29,
          30,
          30,
          30,
          30,
          30,
          30,
          30,
          30,
          30,
          30,
          30,
          30,
          30,
          30,
          30,
          30,
          30,
          30,
          30,
          30,
          30,
          31,
          31,
          31,
          31,
          31,
          31,
          31,
          31,
          31,
          31,
          31,
          31,
          31,
          31,
          31,
          31,
          31,
          31,
          31,
          31,
          32,
          32,
          32,
          32,
          32,
          32,
          32,
          32,
          32,
          32,
          32,
          32,
          32,
          32,
          32,
          32,
          32,
          32,
          32,
          32,
          32,
          33,
          33,
          33,
          33,
          33,
          33,
          33,
          33,
          33,
          33,
          33,
          33,
          33,
          33,
          33,
          33,
          33,
          33,
          33,
          33,
          33,
          33,
          33,
          33,
          33,
          34,
          34,
          34,
          34,
          34,
          34,
          34,
          34,
          34,
          34,
          34,
          34,
          34,
          34,
          34,
          34,
          34,
          34,
          34,
          34,
          34,
          34,
          34,
          34,
          35,
          35,
          35,
          35,
          35,
          35,
          35,
          35,
          35,
          35,
          35,
          35,
          35,
          35,
          35,
          35,
          35,
          35,
          35,
          35,
          35,
          35,
          35,
          35,
          35,
          35,
          36,
          36,
          36,
          36,
          36,
          36,
          36,
          36,
          36,
          36,
          36,
          36,
          36,
          36,
          36,
          36,
          36,
          36,
          36,
          36,
          36,
          36,
          36,
          36,
          36,
          36,
          36,
          37,
          37,
          37,
          37,
          37,
          37,
          37,
          37,
          37,
          37,
          37,
          37,
          37,
          37,
          37,
          37,
          37,
          37,
          37,
          37,
          37,
          37,
          38,
          38,
          38,
          38,
          38,
          38,
          38,
          38,
          38,
          38,
          38,
          38,
          38,
          38,
          38,
          38,
          38,
          38,
          38,
          38,
          38,
          38,
          38,
          38,
          39,
          39,
          39,
          39,
          39,
          39,
          39,
          39,
          39,
          39,
          39,
          39,
          39,
          39,
          39,
          39,
          39,
          39,
          39,
          39,
          39,
          39,
          40,
          40,
          40,
          40,
          40,
          40,
          40,
          40,
          40,
          40,
          40,
          40,
          40,
          40,
          40,
          40,
          40,
          40,
          40,
          40,
          40,
          40,
          40,
          40,
          40,
          40,
          40,
          40,
          40,
          41,
          41,
          41,
          41,
          41,
          41,
          41,
          41,
          41,
          41,
          41,
          41,
          41,
          41,
          41,
          41,
          41,
          41,
          41,
          41,
          41,
          41,
          41,
          41,
          42,
          42,
          42,
          42,
          42,
          42,
          42,
          42,
          42,
          42,
          42,
          42,
          42,
          43,
          43,
          43,
          43,
          43,
          43,
          43,
          43,
          43,
          43,
          43,
          43,
          43,
          43,
          43,
          43,
          43,
          43,
          43,
          43,
          43,
          43,
          43,
          43,
          44,
          44,
          44,
          44,
          44,
          44,
          44,
          44,
          44,
          44,
          44,
          44,
          44,
          44,
          44,
          44,
          44,
          44,
          44,
          44,
          44,
          44,
          44,
          44,
          44,
          45,
          45,
          45,
          45,
          45,
          45,
          45,
          45,
          45,
          45,
          45,
          45,
          45,
          45,
          45,
          45,
          45,
          45,
          45,
          45,
          45,
          45,
          45,
          45,
          45,
          45,
          45,
          45,
          46,
          46,
          46,
          46,
          46,
          46,
          46,
          46,
          46,
          46,
          46,
          46,
          46,
          46,
          46,
          46,
          46,
          46,
          46,
          46,
          46,
          46,
          46,
          46,
          46,
          46,
          46,
          46,
          46,
          46,
          46,
          46,
          46,
          46,
          46,
          46,
          46,
          46,
          46,
          46,
          47,
          47,
          47,
          47,
          47,
          47,
          47,
          47,
          47,
          47,
          47,
          47,
          47,
          47,
          47,
          47,
          47,
          47,
          47,
          47,
          47,
          47,
          47,
          47,
          47,
          47,
          47,
          47,
          47,
          48,
          48,
          48,
          48,
          48,
          48,
          48,
          48,
          48,
          48,
          48,
          48,
          48,
          48,
          48,
          48,
          48,
          48,
          48,
          48,
          48,
          48,
          48,
          48,
          48,
          48,
          48,
          48,
          48,
          48,
          48,
          48,
          48,
          48,
          48,
          48,
          48,
          48,
          49,
          49,
          49,
          49,
          49,
          49,
          49,
          49,
          49,
          49,
          49,
          49,
          49,
          49,
          49,
          49,
          49,
          49,
          49,
          49,
          49,
          49,
          49,
          49,
          49,
          49,
          49,
          49,
          49,
          49,
          49,
          50,
          50,
          50,
          50,
          50,
          50,
          50,
          50,
          50,
          50,
          50,
          50,
          50,
          50,
          50,
          50,
          50,
          50,
          50,
          50,
          50,
          50,
          50,
          50,
          50,
          50,
          50,
          50,
          50,
          51,
          51,
          51,
          51,
          51,
          51,
          51,
          51,
          51,
          51,
          51,
          51,
          51,
          51,
          51,
          51,
          51,
          51,
          51,
          51,
          51,
          51,
          51,
          51,
          51,
          51,
          51,
          51,
          51,
          51,
          51,
          51,
          51,
          51,
          52,
          52,
          52,
          52,
          52,
          52,
          52,
          52,
          52,
          52,
          52,
          52,
          52,
          52,
          52,
          52,
          52,
          52,
          52,
          52,
          52,
          52,
          52,
          52,
          52,
          52,
          52,
          52,
          52,
          52,
          52,
          52,
          52,
          52,
          52,
          53,
          53,
          53,
          53,
          53,
          53,
          53,
          53,
          53,
          53,
          53,
          53,
          53,
          53,
          53,
          53,
          53,
          53,
          53,
          53,
          53,
          53,
          53,
          53,
          53,
          53,
          53,
          53,
          53,
          54,
          54,
          54,
          54,
          54,
          54,
          54,
          54,
          54,
          54,
          54,
          54,
          54,
          54,
          54,
          54,
          54,
          54,
          54,
          54,
          54,
          54,
          54,
          54,
          54,
          54,
          54,
          54,
          54,
          54,
          54,
          54,
          54,
          55,
          55,
          55,
          55,
          55,
          55,
          55,
          55,
          55,
          55,
          55,
          55,
          55,
          55,
          55,
          55,
          55,
          55,
          55,
          55,
          55,
          55,
          55,
          55,
          55,
          55,
          55,
          55,
          55,
          55,
          55,
          55,
          55,
          55,
          56,
          56,
          56,
          56,
          56,
          56,
          56,
          56,
          56,
          56,
          56,
          56,
          56,
          56,
          56,
          56,
          56,
          56,
          56,
          56,
          56,
          56,
          56,
          56,
          56,
          56,
          56,
          56,
          56,
          56,
          56,
          56,
          56,
          56,
          56,
          56,
          56,
          56,
          56,
          56,
          56,
          56,
          56,
          56,
          56,
          56,
          56,
          56,
          56,
          56,
          57,
          57,
          57,
          57,
          57,
          57,
          57,
          57,
          57,
          57,
          57,
          57,
          57,
          57,
          57,
          57,
          57,
          57,
          57,
          57,
          57,
          57,
          57,
          57,
          57,
          57,
          57,
          57,
          57,
          57,
          57,
          57,
          58,
          58,
          58,
          58,
          58,
          58,
          58,
          58,
          58,
          58,
          58,
          58,
          58,
          58,
          58,
          58,
          58,
          58,
          58,
          58,
          58,
          58,
          58,
          58,
          58,
          58,
          58,
          58,
          58,
          58,
          58,
          58,
          58,
          58,
          59,
          59,
          59,
          59,
          59,
          59,
          59,
          59,
          59,
          59,
          59,
          59,
          59,
          59,
          59,
          59,
          59,
          59,
          59,
          59,
          59,
          59,
          59,
          59,
          59,
          59,
          59,
          59,
          59,
          59,
          59,
          59,
          59,
          59,
          59,
          59,
          59,
          59,
          59,
          60,
          60,
          60,
          60,
          60,
          60,
          60,
          60,
          60,
          60,
          60,
          60,
          60,
          60,
          60,
          60,
          60,
          60,
          60,
          60,
          60,
          60,
          60,
          60,
          60,
          60,
          60,
          60,
          60,
          60,
          60,
          60,
          60,
          61,
          61,
          61,
          61,
          61,
          61,
          61,
          61,
          61,
          61,
          61,
          61,
          61,
          61,
          61,
          61,
          61,
          61,
          61,
          61,
          61,
          61,
          61,
          61,
          61,
          61,
          61,
          61,
          62,
          62,
          62,
          62,
          62,
          62,
          62,
          62,
          62,
          62,
          62,
          62,
          62,
          62,
          62,
          62,
          62,
          62,
          62,
          62,
          62,
          62,
          62,
          62,
          62,
          62,
          62,
          62,
          62,
          62,
          62,
          62,
          62,
          62,
          62,
          62,
          62,
          63,
          63,
          63,
          63,
          63,
          63,
          63,
          63,
          63,
          63,
          63,
          63,
          63,
          63,
          63,
          63,
          63,
          63,
          63,
          63,
          63,
          63,
          63,
          63,
          63,
          63,
          63,
          63,
          63,
          63,
          63,
          63,
          63,
          63,
          63,
          63,
          63,
          63,
          63,
          63,
          63,
          63,
          63,
          63,
          64,
          64,
          64,
          64,
          64,
          64,
          64,
          64,
          64,
          64,
          64,
          64,
          64,
          64,
          64,
          64,
          64,
          64,
          64,
          64,
          64,
          64,
          64,
          64,
          64,
          64,
          64,
          64,
          64,
          64,
          64,
          64,
          64,
          64,
          64,
          64,
          64,
          64,
          64,
          64,
          64,
          65,
          65,
          65,
          65,
          65,
          65,
          65,
          65,
          65,
          65,
          65,
          65,
          65,
          65,
          65,
          65,
          65,
          65,
          65,
          65,
          65,
          65,
          65,
          65,
          66,
          66,
          66,
          66,
          66,
          66,
          66,
          66,
          66,
          66,
          66,
          66,
          66,
          66,
          66,
          66,
          66,
          66,
          66,
          66,
          66,
          66,
          66,
          66,
          66,
          66,
          66,
          66,
          66,
          66,
          66,
          66,
          66,
          66,
          66,
          66,
          66,
          66,
          66,
          66,
          66,
          66,
          66,
          67,
          67,
          67,
          67,
          67,
          67,
          67,
          67,
          67,
          67,
          67,
          67,
          67,
          67,
          67,
          67,
          67,
          67,
          67,
          67,
          67,
          67,
          67,
          67,
          67,
          67,
          67,
          67,
          67,
          67,
          68,
          68,
          68,
          68,
          68,
          68,
          68,
          68,
          68,
          68,
          68,
          68,
          68,
          68,
          68,
          68,
          68,
          68,
          68,
          68,
          68,
          68,
          68,
          68,
          68,
          68,
          68,
          68,
          68,
          68,
          68,
          68,
          68,
          68,
          68,
          68,
          69,
          69,
          69,
          69,
          69,
          69,
          69,
          69,
          69,
          69,
          69,
          69,
          69,
          69,
          69,
          69,
          69,
          69,
          69,
          69,
          69,
          69,
          69,
          69,
          69,
          69,
          69,
          69,
          69,
          70,
          70,
          70,
          70,
          70,
          70,
          70,
          70,
          70,
          70,
          70,
          70,
          70,
          70,
          70,
          70,
          70,
          70,
          70,
          70,
          70,
          70,
          70,
          70,
          70,
          70,
          70,
          70,
          70,
          70,
          70,
          70,
          70,
          70,
          70,
          71,
          71,
          71,
          71,
          71,
          71,
          71,
          71,
          71,
          71,
          71,
          71,
          71,
          71,
          71,
          71,
          71,
          71,
          71,
          71,
          71,
          71,
          71,
          71,
          71,
          71,
          71,
          71,
          71,
          71,
          71,
          71,
          71,
          72,
          72,
          72,
          72,
          72,
          72,
          72,
          72,
          72,
          72,
          72,
          72,
          72,
          72,
          72,
          72,
          72,
          72,
          72,
          72,
          72,
          72,
          72,
          72,
          72,
          72,
          72,
          72,
          72,
          72,
          72,
          72,
          72,
          72,
          73,
          73,
          73,
          73,
          73,
          73,
          73,
          73,
          73,
          73,
          73,
          73,
          73,
          73,
          73,
          73,
          73,
          73,
          73,
          73,
          73,
          73,
          73,
          73,
          73,
          73,
          73,
          74,
          74,
          74,
          74,
          74,
          74,
          74,
          74,
          74,
          74,
          74,
          74,
          74,
          74,
          74,
          74,
          74,
          74,
          74,
          74,
          74,
          74,
          74,
          74,
          74,
          74,
          74,
          74,
          74,
          74,
          74,
          74,
          74,
          74,
          74,
          74,
          74,
          74,
          74,
          74,
          74,
          74,
          74,
          75,
          75,
          75,
          75,
          75,
          75,
          75,
          75,
          75,
          75,
          75,
          75,
          75,
          75,
          75,
          75,
          75,
          75,
          75,
          75,
          75,
          75,
          75,
          75,
          75,
          75,
          75,
          75,
          75,
          75,
          75,
          76,
          76,
          76,
          76,
          76,
          76,
          76,
          76,
          76,
          76,
          76,
          76,
          76,
          76,
          76,
          76,
          76,
          76,
          76,
          76,
          76,
          76,
          76,
          76,
          76,
          76,
          76,
          76,
          76,
          76,
          76,
          76,
          76,
          76,
          76,
          77,
          77,
          77,
          77,
          77,
          77,
          77,
          77,
          77,
          77,
          77,
          77,
          77,
          77,
          77,
          77,
          77,
          77,
          77,
          77,
          77,
          77,
          77,
          77,
          77,
          77,
          77,
          78,
          78,
          78,
          78,
          78,
          78,
          78,
          78,
          78,
          78,
          78,
          78,
          78,
          78,
          78,
          78,
          78,
          78,
          78,
          78,
          78,
          78,
          78,
          78,
          78,
          78,
          78,
          78,
          78,
          78,
          78,
          78,
          78,
          78,
          78,
          78,
          78,
          78,
          79,
          79,
          79,
          79,
          79,
          79,
          79,
          79,
          79,
          79,
          79,
          79,
          79,
          79,
          79,
          79,
          79,
          79,
          79,
          79,
          79,
          79,
          79,
          79,
          79,
          79,
          79,
          79,
          79,
          79,
          80,
          80,
          80,
          80,
          80,
          80,
          80,
          80,
          80,
          80,
          80,
          80,
          80,
          80,
          80,
          80,
          80,
          80,
          80,
          80,
          80,
          80,
          80,
          80,
          80,
          80,
          80,
          80,
          81,
          81,
          81,
          81,
          81,
          81,
          81,
          81,
          81,
          81,
          81,
          81,
          81,
          81,
          81,
          81,
          81,
          81,
          81,
          81,
          81,
          81,
          81,
          81,
          81,
          81,
          81,
          81,
          81,
          81,
          81,
          81,
          81,
          81,
          81,
          81,
          82,
          82,
          82,
          82,
          82,
          82,
          82,
          82,
          82,
          82,
          82,
          82,
          82,
          82,
          82,
          82,
          82,
          82,
          82,
          82,
          82,
          82,
          82,
          82,
          82,
          82,
          82,
          82,
          82,
          82,
          82,
          82,
          82,
          82,
          82,
          82,
          82,
          82,
          82,
          82,
          82,
          82,
          83,
          83,
          83,
          83,
          83,
          83,
          83,
          83,
          83,
          83,
          83,
          83,
          83,
          83,
          83,
          83,
          83,
          83,
          83,
          83,
          83,
          83,
          83,
          83,
          83,
          83,
          83,
          83,
          84,
          84,
          84,
          84,
          84,
          84,
          84,
          84,
          84,
          84,
          84,
          84,
          84,
          84,
          84,
          84,
          84,
          84,
          84,
          84,
          84,
          84,
          84,
          84,
          84,
          84,
          84,
          84,
          84,
          84,
          84,
          84,
          84,
          84,
          84,
          84,
          84,
          84,
          84,
          84,
          84,
          85,
          85,
          85,
          85,
          85,
          85,
          85,
          85,
          85,
          85,
          85,
          85,
          85,
          85,
          85,
          86,
          86,
          86,
          86,
          86,
          86,
          86,
          86,
          86,
          86,
          86,
          86,
          86,
          86,
          86,
          86,
          86,
          86,
          86,
          86,
          86,
          86,
          86,
          86,
          86,
          86,
          86,
          86,
          86,
          86,
          86,
          86,
          87,
          87,
          87,
          87,
          87,
          87,
          87,
          87,
          87,
          87,
          87,
          87,
          87,
          87,
          87,
          87,
          88,
          88,
          88,
          88,
          88,
          88,
          88,
          88,
          88,
          88,
          88,
          88,
          88,
          88,
          88,
          88,
          88,
          88,
          88,
          88,
          88,
          88,
          88,
          88,
          88,
          88,
          88,
          88,
          89,
          89,
          89,
          89,
          89,
          89,
          89,
          89,
          89,
          89,
          89,
          89,
          89,
          89,
          89,
          89,
          89,
          89,
          89,
          89,
          89,
          89,
          89,
          89,
          89,
          89,
          89,
          89,
          89,
          90,
          90,
          90,
          90,
          90,
          90,
          90,
          90,
          90,
          90,
          90,
          90,
          90,
          90,
          90,
          90,
          90,
          90,
          90,
          90,
          90,
          90,
          90,
          90,
          90,
          90,
          90,
          91,
          91,
          91,
          91,
          91,
          91,
          91,
          91,
          91,
          91,
          91,
          91,
          91,
          91,
          91,
          91,
          91,
          91,
          91,
          91,
          91,
          91,
          91,
          91,
          91,
          92,
          92,
          92,
          92,
          92,
          92,
          92,
          92,
          92,
          92,
          92,
          92,
          92,
          92,
          92,
          92,
          92,
          92,
          92,
          92,
          92,
          92,
          92,
          92,
          92,
          92,
          92,
          92,
          92,
          92,
          93,
          93,
          93,
          93,
          93,
          93,
          93,
          93,
          93,
          93,
          93,
          93,
          93,
          93,
          93,
          93,
          93,
          93,
          93,
          93,
          93,
          93,
          93,
          93,
          93,
          93,
          94,
          94,
          94,
          94,
          94,
          94,
          94,
          94,
          94,
          94,
          94,
          94,
          94,
          94,
          94,
          94,
          94,
          94,
          94,
          94,
          94,
          94,
          94,
          94,
          94,
          94,
          95,
          95,
          95,
          95,
          95,
          95,
          95,
          95,
          95,
          95,
          95,
          95,
          95,
          95,
          95,
          95,
          95,
          95,
          95,
          95,
          95,
          95,
          95,
          95,
          95,
          95,
          95,
          96,
          96,
          96,
          96,
          96,
          96,
          96,
          96,
          96,
          96,
          96,
          96,
          96,
          96,
          96,
          96,
          96,
          96,
          96,
          96,
          96,
          96,
          97,
          97,
          97,
          97,
          97,
          97,
          97,
          97,
          97,
          97,
          97,
          97,
          97,
          97,
          97,
          97,
          97,
          97,
          97,
          97,
          98,
          98,
          98,
          98,
          98,
          98,
          98,
          98,
          98,
          98,
          98,
          98,
          98,
          98,
          98,
          98,
          98,
          98,
          98,
          98,
          98,
          98,
          98,
          98,
          98,
          98,
          98,
          98,
          98,
          98,
          98,
          98,
          99,
          99,
          99,
          99,
          99,
          99,
          99,
          99,
          99,
          99,
          99,
          99,
          99,
          99,
          99,
          99,
          99,
          99,
          99,
          100,
          100,
          100,
          100,
          100,
          100,
          100,
          100,
          100,
          100,
          100,
          100,
          100,
          100,
          100,
          100,
          100,
          100,
          100,
          100,
          100,
          100,
          100,
          100,
          100,
          100,
          100,
          100,
          100,
          101,
          101,
          101,
          101,
          101,
          101,
          101,
          101,
          101,
          101,
          101,
          101,
          101,
          101,
          101,
          101,
          101,
          101,
          101,
          102,
          102,
          102,
          102,
          102,
          102,
          102,
          102,
          102,
          102,
          102,
          102,
          102,
          102,
          102,
          102,
          102,
          102,
          102,
          102,
          102,
          102,
          102,
          102,
          102,
          102,
          102,
          102,
          102,
          102,
          102,
          103,
          103,
          103,
          103,
          103,
          103,
          103,
          103,
          103,
          103,
          103,
          103,
          103,
          103,
          103,
          103,
          103,
          103,
          103,
          103,
          103,
          103,
          103,
          104,
          104,
          104,
          104,
          104,
          104,
          104,
          104,
          104,
          104,
          104,
          104,
          104,
          104,
          104,
          104,
          104,
          104,
          104,
          104,
          104,
          104,
          105,
          105,
          105,
          105,
          105,
          105,
          105,
          105,
          105,
          105,
          105,
          105,
          105,
          105,
          105,
          105,
          105,
          105,
          105,
          105,
          105,
          105,
          106,
          106,
          106,
          106,
          106,
          106,
          106,
          106,
          106,
          106,
          106,
          106,
          106,
          106,
          106,
          106,
          106,
          106,
          106,
          106,
          106,
          106,
          106,
          106,
          106,
          107,
          107,
          107,
          107,
          107,
          107,
          107,
          107,
          107,
          107,
          107,
          107,
          107,
          107,
          107,
          107,
          107,
          107,
          107,
          107,
          107,
          108,
          108,
          108,
          108,
          108,
          108,
          108,
          108,
          108,
          108,
          108,
          108,
          108,
          108,
          108,
          108,
          108,
          108,
          108,
          108,
          108,
          108,
          108,
          109,
          109,
          109,
          109,
          109,
          109,
          109,
          109,
          109,
          109,
          109,
          109,
          109,
          109,
          109,
          110,
          110,
          110,
          110,
          110,
          110,
          110,
          110,
          110,
          110,
          110,
          110,
          110,
          110,
          110,
          110,
          110,
          110,
          110,
          110,
          110,
          110,
          110,
          110,
          110,
          110,
          110,
          110,
          110,
          111,
          111,
          111,
          111,
          111,
          111,
          111,
          111,
          111,
          111,
          111,
          111,
          111,
          111,
          111,
          112,
          112,
          112,
          112,
          112,
          112,
          112,
          112,
          112,
          112,
          112,
          112,
          112,
          112,
          112,
          112,
          112,
          112,
          112,
          113,
          113,
          113,
          113,
          113,
          113,
          113,
          113,
          113,
          113,
          113,
          113,
          113,
          113,
          113,
          113,
          113,
          113,
          113,
          113,
          113,
          113,
          113,
          114,
          114,
          114,
          114,
          114,
          114,
          114,
          114,
          114,
          114,
          114,
          114,
          114,
          114,
          114,
          114,
          114,
          114,
          114,
          114,
          114,
          114,
          114,
          114,
          114,
          115,
          115,
          115,
          115,
          115,
          115,
          115,
          115,
          115,
          115,
          115,
          115,
          116,
          116,
          116,
          116,
          116,
          116,
          116,
          116,
          116,
          116,
          116,
          116,
          116,
          116,
          116,
          116,
          116,
          116,
          116,
          116,
          116,
          116,
          116,
          116,
          117,
          117,
          117,
          117,
          117,
          117,
          117,
          117,
          117,
          117,
          117,
          117,
          117,
          117,
          117,
          117,
          117,
          118,
          118,
          118,
          118,
          118,
          118,
          118,
          118,
          118,
          118,
          118,
          118,
          118,
          118,
          118,
          118,
          118,
          118,
          118,
          118,
          119,
          119,
          119,
          119,
          119,
          119,
          119,
          119,
          119,
          119,
          119,
          119,
          119,
          119,
          119,
          119,
          120,
          120,
          120,
          120,
          120,
          120,
          120,
          120,
          120,
          120,
          120,
          120,
          120,
          120,
          120,
          120,
          120,
          120,
          120,
          120,
          120,
          120,
          121,
          121,
          121,
          121,
          121,
          121,
          121,
          121,
          121,
          121,
          121,
          121,
          121,
          121,
          121,
          121,
          121,
          121,
          122,
          122,
          122,
          122,
          122,
          122,
          122,
          122,
          122,
          122,
          122,
          122,
          122,
          122,
          122,
          122,
          122,
          122,
          122,
          122,
          122,
          122,
          122,
          122,
          123,
          123,
          123,
          123,
          123,
          123,
          123,
          123,
          123,
          123,
          123,
          123,
          123,
          123,
          123,
          124,
          124,
          124,
          124,
          124,
          124,
          124,
          124,
          124,
          124,
          124,
          124,
          124,
          124,
          124,
          124,
          124,
          124,
          124,
          124,
          124,
          124,
          124,
          125,
          125,
          125,
          125,
          125,
          125,
          125,
          125,
          125,
          125,
          126,
          126,
          126,
          126,
          126,
          126,
          126,
          126,
          126,
          126,
          126,
          126,
          126,
          126,
          126,
          126,
          126,
          126,
          127,
          127,
          127,
          127,
          127,
          127,
          127,
          127,
          127,
          127,
          127,
          127,
          127,
          127,
          127,
          127,
          127,
          128,
          128,
          128,
          128,
          128,
          128,
          128,
          128,
          128,
          128,
          128,
          128,
          128,
          128,
          128,
          128,
          129,
          129,
          129,
          129,
          129,
          129,
          129,
          130,
          130,
          130,
          130,
          130,
          130,
          130,
          130,
          130,
          130,
          130,
          130,
          130,
          130,
          130,
          130,
          130,
          130,
          130,
          130,
          130,
          130,
          130,
          131,
          131,
          131,
          131,
          131,
          131,
          131,
          131,
          131,
          131,
          131,
          131,
          131,
          132,
          132,
          132,
          132,
          132,
          132,
          132,
          132,
          132,
          132,
          132,
          132,
          132,
          132,
          133,
          133,
          133,
          133,
          133,
          133,
          133,
          133,
          133,
          133,
          133,
          133,
          133,
          133,
          133,
          133,
          134,
          134,
          134,
          134,
          134,
          134,
          134,
          134,
          134,
          134,
          134,
          134,
          134,
          134,
          134,
          134,
          134,
          134,
          134,
          134,
          134,
          134,
          134,
          134,
          134,
          134,
          134,
          134,
          134,
          134,
          134,
          134,
          134,
          134,
          134,
          135,
          135,
          135,
          135,
          135,
          135,
          135,
          135,
          135,
          135,
          135,
          136,
          136,
          136,
          136,
          136,
          136,
          136,
          136,
          136,
          136,
          136,
          136,
          136,
          136,
          136,
          136,
          136,
          137,
          137,
          137,
          137,
          137,
          137,
          137,
          137,
          138,
          138,
          138,
          138,
          138,
          138,
          138,
          138,
          138,
          138,
          138,
          138,
          138,
          138,
          138,
          138,
          138,
          138,
          139,
          139,
          139,
          139,
          139,
          139,
          139,
          139,
          139,
          139,
          139,
          139,
          139,
          140,
          140,
          140,
          140,
          140,
          140,
          140,
          140,
          140,
          140,
          140,
          140,
          140,
          140,
          140,
          140,
          140,
          140,
          141,
          141,
          141,
          141,
          141,
          141,
          141,
          141,
          141,
          141,
          141,
          141,
          142,
          142,
          142,
          142,
          142,
          142,
          142,
          142,
          142,
          142,
          142,
          142,
          143,
          143,
          143,
          143,
          143,
          143,
          143,
          143,
          143,
          143,
          143,
          144,
          144,
          144,
          144,
          144,
          144,
          144,
          144,
          144,
          144,
          144,
          144,
          144,
          144,
          144,
          144,
          144,
          144,
          144,
          144,
          145,
          145,
          145,
          145,
          145,
          145,
          145,
          145,
          145,
          145,
          145,
          145,
          145,
          145,
          145,
          146,
          146,
          146,
          146,
          146,
          146,
          146,
          146,
          146,
          146,
          146,
          146,
          146,
          146,
          146,
          146,
          146,
          147,
          147,
          147,
          147,
          147,
          147,
          147,
          147,
          147,
          147,
          147,
          147,
          147,
          147,
          147,
          148,
          148,
          148,
          148,
          148,
          148,
          148,
          148,
          148,
          148,
          148,
          148,
          148,
          148,
          148,
          148,
          148,
          148,
          148,
          148,
          148,
          148,
          148,
          148,
          148,
          148,
          148,
          148,
          149,
          149,
          149,
          149,
          149,
          149,
          149,
          149,
          149,
          149,
          150,
          150,
          150,
          150,
          150,
          150,
          150,
          150,
          150,
          150,
          150,
          150,
          150,
          150,
          150,
          150,
          150,
          151,
          151,
          151,
          151,
          151,
          151,
          151,
          151,
          151,
          152,
          152,
          152,
          152,
          152,
          152,
          152,
          152,
          152,
          153,
          153,
          153,
          153,
          153,
          153,
          153,
          153,
          154,
          154,
          154,
          154,
          154,
          154,
          154,
          154,
          154,
          154,
          154,
          154,
          154,
          154,
          154,
          154,
          155,
          155,
          155,
          155,
          155,
          155,
          155,
          155,
          155,
          155,
          155,
          156,
          156,
          156,
          156,
          156,
          156,
          156,
          156,
          156,
          156,
          156,
          156,
          156,
          156,
          157,
          157,
          157,
          157,
          157,
          157,
          157,
          157,
          157,
          157,
          157,
          157,
          157,
          158,
          158,
          158,
          158,
          158,
          158,
          158,
          158,
          158,
          158,
          158,
          158,
          158,
          158,
          158,
          158,
          158,
          158,
          158,
          159,
          159,
          159,
          159,
          160,
          160,
          160,
          160,
          160,
          160,
          160,
          160,
          160,
          160,
          160,
          160,
          161,
          161,
          161,
          161,
          161,
          161,
          162,
          162,
          162,
          162,
          162,
          162,
          162,
          162,
          162,
          162,
          163,
          163,
          163,
          163,
          163,
          163,
          163,
          164,
          164,
          164,
          164,
          164,
          164,
          164,
          164,
          164,
          164,
          164,
          164,
          165,
          165,
          165,
          165,
          166,
          166,
          166,
          166,
          167,
          167,
          167,
          167,
          167,
          167,
          167,
          167,
          168,
          168,
          168,
          168,
          168,
          168,
          168,
          168,
          168,
          168,
          168,
          168,
          168,
          168,
          169,
          169,
          169,
          169,
          169,
          169,
          169,
          169,
          169,
          169,
          169,
          169,
          170,
          170,
          170,
          170,
          170,
          170,
          170,
          170,
          170,
          170,
          170,
          170,
          170,
          170,
          170,
          170,
          170,
          171,
          171,
          171,
          171,
          171,
          171,
          171,
          171,
          171,
          171,
          171,
          171,
          171,
          172,
          172,
          172,
          172,
          172,
          172,
          172,
          172,
          172,
          172,
          173,
          173,
          173,
          173,
          173,
          173,
          173,
          173,
          173,
          173,
          174,
          174,
          174,
          174,
          174,
          174,
          174,
          174,
          174,
          174,
          174,
          174,
          175,
          175,
          175,
          175,
          175,
          175,
          175,
          175,
          175,
          175,
          175,
          176,
          176,
          176,
          176,
          176,
          176,
          176,
          176,
          176,
          176,
          176,
          176,
          176,
          176,
          176,
          176,
          176,
          176,
          177,
          177,
          177,
          177,
          177,
          178,
          178,
          178,
          178,
          178,
          178,
          178,
          178,
          178,
          178,
          178,
          178,
          178,
          178,
          179,
          179,
          179,
          179,
          179,
          180,
          180,
          180,
          180,
          180,
          181,
          181,
          181,
          181,
          182,
          182,
          182,
          182,
          182,
          182,
          182,
          182,
          182,
          182,
          182,
          182,
          182,
          182,
          182,
          183,
          183,
          183,
          183,
          184,
          184,
          184,
          184,
          184,
          184,
          185,
          185,
          185,
          185,
          185,
          185,
          185,
          186,
          186,
          186,
          186,
          186,
          186,
          186,
          186,
          186,
          186,
          186,
          187,
          187,
          187,
          187,
          187,
          187,
          188,
          188,
          188,
          188,
          188,
          188,
          188,
          188,
          188,
          188,
          188,
          188,
          189,
          189,
          189,
          189,
          189,
          189,
          189,
          190,
          190,
          190,
          190,
          190,
          190,
          190,
          190,
          190,
          190,
          190,
          191,
          191,
          191,
          191,
          192,
          192,
          192,
          192,
          192,
          192,
          192,
          192,
          192,
          192,
          192,
          192,
          193,
          193,
          193,
          193,
          193,
          193,
          193,
          193,
          194,
          194,
          194,
          194,
          194,
          194,
          194,
          194,
          194,
          194,
          195,
          195,
          195,
          195,
          195,
          196,
          196,
          196,
          196,
          196,
          196,
          196,
          196,
          196,
          196,
          196,
          196,
          196,
          196,
          196,
          197,
          197,
          197,
          197,
          197,
          197,
          197,
          197,
          197,
          197,
          198,
          198,
          198,
          198,
          198,
          198,
          198,
          199,
          199,
          199,
          199,
          199,
          199,
          200,
          200,
          200,
          200,
          200,
          200,
          200,
          200,
          200,
          200,
          200,
          200,
          200,
          201,
          201,
          201,
          201,
          201,
          201,
          202,
          202,
          202,
          202,
          202,
          202,
          202,
          202,
          202,
          202,
          203,
          203,
          203,
          203,
          204,
          204,
          204,
          204,
          204,
          204,
          204,
          204,
          204,
          204,
          204,
          204,
          204,
          205,
          205,
          205,
          205,
          205,
          206,
          206,
          206,
          206,
          206,
          206,
          206,
          207,
          207,
          207,
          207,
          208,
          208,
          208,
          208,
          208,
          208,
          209,
          209,
          210,
          210,
          210,
          210,
          210,
          210,
          210,
          210,
          210,
          211,
          211,
          211,
          211,
          211,
          211,
          211,
          212,
          212,
          212,
          212,
          212,
          212,
          212,
          212,
          212,
          212,
          212,
          212,
          212,
          213,
          213,
          213,
          213,
          213,
          214,
          214,
          214,
          214,
          214,
          214,
          214,
          214,
          214,
          214,
          215,
          215,
          215,
          215,
          216,
          216,
          216,
          216,
          216,
          216,
          216,
          216,
          216,
          216,
          217,
          217,
          217,
          217,
          217,
          218,
          218,
          218,
          218,
          218,
          218,
          218,
          219,
          219,
          219,
          220,
          220,
          220,
          220,
          220,
          220,
          220,
          220,
          221,
          221,
          221,
          221,
          221,
          221,
          222,
          222,
          222,
          222,
          222,
          222,
          222,
          222,
          223,
          223,
          223,
          223,
          223,
          224,
          224,
          224,
          225,
          226,
          226,
          226,
          226,
          226,
          226,
          226,
          226,
          226,
          226,
          227,
          227,
          227,
          227,
          227,
          227,
          228,
          228,
          228,
          228,
          228,
          228,
          228,
          228,
          228,
          229,
          229,
          229,
          229,
          229,
          230,
          230,
          230,
          230,
          230,
          230,
          230,
          231,
          231,
          231,
          232,
          232,
          232,
          232,
          232,
          232,
          232,
          232,
          232,
          232,
          232,
          232,
          232,
          232,
          232,
          233,
          233,
          233,
          233,
          234,
          234,
          234,
          234,
          234,
          234,
          234,
          234,
          234,
          235,
          235,
          235,
          235,
          236,
          236,
          236,
          236,
          237,
          238,
          238,
          238,
          238,
          238,
          238,
          238,
          239,
          239,
          239,
          239,
          240,
          240,
          240,
          240,
          240,
          240,
          240,
          240,
          240,
          241,
          241,
          241,
          241,
          241,
          241,
          241,
          241,
          241,
          242,
          242,
          242,
          243,
          244,
          244,
          244,
          244,
          244,
          244,
          244,
          244,
          245,
          245,
          245,
          245,
          246,
          246,
          247,
          247,
          248,
          248,
          248,
          249,
          249,
          250,
          250,
          250,
          250,
          250,
          250,
          250,
          250,
          250,
          251,
          251,
          251,
          252,
          252,
          252,
          252,
          252,
          252,
          253,
          253,
          253,
          254,
          254,
          254,
          254,
          254,
          254,
          254,
          255,
          255,
          256,
          256,
          256,
          257,
          257,
          257,
          258,
          258,
          258,
          258,
          258,
          258,
          259,
          260,
          260,
          260,
          260,
          260,
          260,
          260,
          260,
          262,
          262,
          262,
          262,
          263,
          263,
          264,
          264,
          264,
          264,
          264,
          264,
          264,
          264,
          264,
          265,
          266,
          266,
          266,
          266,
          266,
          266,
          266,
          267,
          267,
          268,
          268,
          268,
          268,
          269,
          269,
          269,
          269,
          270,
          270,
          270,
          270,
          271,
          271,
          272,
          272,
          272,
          272,
          272,
          272,
          273,
          273,
          273,
          273,
          273,
          274,
          274,
          274,
          275,
          275,
          275,
          275,
          276,
          276,
          276,
          276,
          276,
          276,
          276,
          276,
          277,
          277,
          277,
          278,
          278,
          278,
          278,
          278,
          278,
          278,
          279,
          279,
          279,
          280,
          280,
          280,
          280,
          280,
          280,
          280,
          281,
          281,
          281,
          281,
          281,
          282,
          282,
          282,
          282,
          283,
          283,
          284,
          284,
          284,
          285,
          285,
          285,
          286,
          286,
          286,
          286,
          286,
          286,
          287,
          287,
          288,
          288,
          288,
          289,
          289,
          290,
          290,
          290,
          290,
          290,
          290,
          290,
          291,
          291,
          291,
          291,
          292,
          292,
          292,
          292,
          293,
          293,
          293,
          294,
          294,
          294,
          294,
          294,
          295,
          295,
          296,
          296,
          296,
          296,
          296,
          296,
          297,
          297,
          297,
          297,
          298,
          298,
          298,
          298,
          299,
          300,
          300,
          300,
          300,
          301,
          302,
          302,
          302,
          303,
          303,
          304,
          304,
          304,
          305,
          305,
          305,
          305,
          306,
          306,
          306,
          306,
          306,
          306,
          308,
          308,
          308,
          308,
          309,
          309,
          310,
          310,
          310,
          311,
          311,
          312,
          312,
          312,
          312,
          312,
          312,
          312,
          312,
          312,
          312,
          314,
          314,
          314,
          314,
          315,
          315,
          315,
          315,
          316,
          316,
          316,
          316,
          317,
          318,
          318,
          318,
          318,
          319,
          319,
          319,
          320,
          320,
          320,
          320,
          320,
          321,
          321,
          321,
          321,
          321,
          322,
          322,
          322,
          322,
          322,
          322,
          322,
          322,
          322,
          323,
          323,
          324,
          324,
          324,
          324,
          325,
          326,
          326,
          326,
          327,
          328,
          328,
          329,
          330,
          330,
          330,
          330,
          330,
          331,
          331,
          332,
          332,
          332,
          332,
          332,
          332,
          334,
          334,
          334,
          334,
          334,
          334,
          334,
          335,
          335,
          335,
          336,
          336,
          336,
          336,
          337,
          338,
          338,
          338,
          338,
          338,
          339,
          339,
          340,
          340,
          340,
          340,
          340,
          341,
          341,
          342,
          342,
          342,
          342,
          342,
          342,
          343,
          344,
          344,
          344,
          345,
          346,
          346,
          346,
          346,
          346,
          347,
          348,
          348,
          349,
          350,
          350,
          350,
          350,
          351,
          352,
          352,
          352,
          352,
          352,
          352,
          352,
          353,
          353,
          353,
          354,
          354,
          356,
          356,
          356,
          357,
          357,
          359,
          359,
          360,
          360,
          361,
          361,
          361,
          361,
          362,
          362,
          362,
          362,
          362,
          362,
          362,
          362,
          362,
          363,
          363,
          363,
          363,
          364,
          364,
          364,
          364,
          364,
          364,
          364,
          364,
          364,
          364,
          365,
          366,
          367,
          367,
          368,
          368,
          368,
          371,
          371,
          371,
          372,
          372,
          372,
          372,
          372,
          373,
          374,
          374,
          374,
          375,
          375,
          375,
          376,
          376,
          376,
          377,
          377,
          378,
          378,
          378,
          378,
          378,
          379,
          379,
          379,
          380,
          380,
          380,
          382,
          382,
          382,
          384,
          385,
          385,
          386,
          386,
          386,
          388,
          388,
          388,
          388,
          389,
          389,
          389,
          390,
          390,
          390,
          390,
          390,
          390,
          391,
          391,
          391,
          392,
          392,
          392,
          393,
          393,
          393,
          394,
          394,
          395,
          395,
          395,
          396,
          396,
          396,
          396,
          396,
          397,
          397,
          398,
          398,
          398,
          398,
          400,
          400,
          400,
          400,
          401,
          402,
          402,
          404,
          404,
          405,
          405,
          406,
          406,
          406,
          407,
          408,
          409,
          409,
          409,
          410,
          410,
          411,
          412,
          412,
          413,
          414,
          415,
          416,
          416,
          416,
          416,
          416,
          417,
          417,
          418,
          419,
          419,
          419,
          420,
          420,
          421,
          421,
          422,
          423,
          423,
          424,
          424,
          424,
          425,
          426,
          426,
          426,
          427,
          428,
          428,
          428,
          428,
          428,
          430,
          430,
          432,
          433,
          435,
          436,
          436,
          438,
          439,
          439,
          440,
          440,
          440,
          440,
          441,
          441,
          442,
          443,
          444,
          444,
          444,
          445,
          446,
          446,
          446,
          446,
          448,
          448,
          449,
          450,
          451,
          451,
          452,
          452,
          452,
          453,
          454,
          456,
          457,
          458,
          458,
          458,
          459,
          460,
          460,
          460,
          462,
          462,
          462,
          464,
          465,
          466,
          466,
          466,
          466,
          467,
          468,
          469,
          470,
          470,
          470,
          470,
          470,
          471,
          472,
          472,
          472,
          474,
          474,
          474,
          474,
          474,
          475,
          475,
          476,
          476,
          476,
          479,
          482,
          482,
          484,
          485,
          486,
          486,
          487,
          487,
          488,
          488,
          490,
          490,
          490,
          491,
          492,
          492,
          492,
          493,
          493,
          494,
          494,
          494,
          495,
          495,
          496,
          496,
          497,
          500,
          500,
          502,
          502,
          504,
          504,
          505,
          505,
          508,
          508,
          508,
          511,
          511,
          512,
          512,
          512,
          513,
          514,
          515,
          516,
          518,
          518,
          518,
          518,
          519,
          519,
          519,
          520,
          522,
          523,
          524,
          524,
          525,
          525,
          526,
          526,
          528,
          529,
          530,
          531,
          532,
          533,
          534,
          536,
          536,
          536,
          537,
          538,
          539,
          540,
          540,
          541,
          544,
          544,
          550,
          550,
          552,
          552,
          556,
          559,
          560,
          560,
          561,
          562,
          566,
          568,
          568,
          568,
          569,
          569,
          570,
          570,
          570,
          571,
          574,
          578,
          578,
          580,
          580,
          580,
          582,
          583,
          584,
          584,
          586,
          587,
          589,
          590,
          590,
          592,
          592,
          594,
          596,
          599,
          603,
          606,
          607,
          610,
          610,
          612,
          612,
          613,
          614,
          619,
          622,
          624,
          625,
          626,
          628,
          628,
          630,
          630,
          630,
          634,
          634,
          635,
          635,
          638,
          644,
          646,
          646,
          649,
          650,
          651,
          652,
          652,
          652,
          657,
          661,
          662,
          663,
          664,
          668,
          668,
          669,
          672,
          676,
          676,
          678,
          690,
          697,
          698,
          700,
          705,
          706,
          706,
          709,
          710,
          715,
          720,
          720,
          722,
          723,
          723,
          725,
          727,
          727,
          728,
          738,
          740,
          742,
          742,
          744,
          744,
          757,
          766,
          768,
          768,
          786,
          790,
          791,
          793,
          793,
          794,
          794,
          796,
          799,
          807,
          819,
          821,
          824,
          828,
          828,
          835,
          846,
          862,
          868,
          870,
          871,
          872,
          876,
          884,
          900,
          906,
          911,
          915,
          938,
          940,
          942,
          959,
          963,
          966,
          971,
          971,
          988,
          1008,
          1025,
          1028,
          1029,
          1036,
          1038,
          1060,
          1078,
          1085,
          1092,
          1098,
          1140,
          1148,
          1151,
          1155,
          1160,
          1184,
          1186,
          1208,
          1224,
          1238,
          1253,
          1253,
          1256,
          1270,
          1277,
          1312,
          1345,
          1355,
          1357,
          1366,
          1372,
          1395,
          1418,
          1425,
          1455,
          1502,
          1672,
          1720
         ]
        }
       ],
       "layout": {
        "coloraxis": {
         "colorbar": {
          "title": {
           "text": "nama"
          }
         },
         "colorscale": [
          [
           0,
           "#0d0887"
          ],
          [
           0.1111111111111111,
           "#46039f"
          ],
          [
           0.2222222222222222,
           "#7201a8"
          ],
          [
           0.3333333333333333,
           "#9c179e"
          ],
          [
           0.4444444444444444,
           "#bd3786"
          ],
          [
           0.5555555555555556,
           "#d8576b"
          ],
          [
           0.6666666666666666,
           "#ed7953"
          ],
          [
           0.7777777777777778,
           "#fb9f3a"
          ],
          [
           0.8888888888888888,
           "#fdca26"
          ],
          [
           1,
           "#f0f921"
          ]
         ]
        },
        "height": 600,
        "legend": {
         "tracegroupgap": 0
        },
        "mapbox": {
         "center": {
          "lat": -6.767403244430962,
          "lon": 107.73034612795593
         },
         "domain": {
          "x": [
           0,
           1
          ],
          "y": [
           0,
           1
          ]
         },
         "style": "stamen-terrain",
         "zoom": 8
        },
        "template": {
         "data": {
          "bar": [
           {
            "error_x": {
             "color": "#2a3f5f"
            },
            "error_y": {
             "color": "#2a3f5f"
            },
            "marker": {
             "line": {
              "color": "#E5ECF6",
              "width": 0.5
             },
             "pattern": {
              "fillmode": "overlay",
              "size": 10,
              "solidity": 0.2
             }
            },
            "type": "bar"
           }
          ],
          "barpolar": [
           {
            "marker": {
             "line": {
              "color": "#E5ECF6",
              "width": 0.5
             },
             "pattern": {
              "fillmode": "overlay",
              "size": 10,
              "solidity": 0.2
             }
            },
            "type": "barpolar"
           }
          ],
          "carpet": [
           {
            "aaxis": {
             "endlinecolor": "#2a3f5f",
             "gridcolor": "white",
             "linecolor": "white",
             "minorgridcolor": "white",
             "startlinecolor": "#2a3f5f"
            },
            "baxis": {
             "endlinecolor": "#2a3f5f",
             "gridcolor": "white",
             "linecolor": "white",
             "minorgridcolor": "white",
             "startlinecolor": "#2a3f5f"
            },
            "type": "carpet"
           }
          ],
          "choropleth": [
           {
            "colorbar": {
             "outlinewidth": 0,
             "ticks": ""
            },
            "type": "choropleth"
           }
          ],
          "contour": [
           {
            "colorbar": {
             "outlinewidth": 0,
             "ticks": ""
            },
            "colorscale": [
             [
              0,
              "#0d0887"
             ],
             [
              0.1111111111111111,
              "#46039f"
             ],
             [
              0.2222222222222222,
              "#7201a8"
             ],
             [
              0.3333333333333333,
              "#9c179e"
             ],
             [
              0.4444444444444444,
              "#bd3786"
             ],
             [
              0.5555555555555556,
              "#d8576b"
             ],
             [
              0.6666666666666666,
              "#ed7953"
             ],
             [
              0.7777777777777778,
              "#fb9f3a"
             ],
             [
              0.8888888888888888,
              "#fdca26"
             ],
             [
              1,
              "#f0f921"
             ]
            ],
            "type": "contour"
           }
          ],
          "contourcarpet": [
           {
            "colorbar": {
             "outlinewidth": 0,
             "ticks": ""
            },
            "type": "contourcarpet"
           }
          ],
          "heatmap": [
           {
            "colorbar": {
             "outlinewidth": 0,
             "ticks": ""
            },
            "colorscale": [
             [
              0,
              "#0d0887"
             ],
             [
              0.1111111111111111,
              "#46039f"
             ],
             [
              0.2222222222222222,
              "#7201a8"
             ],
             [
              0.3333333333333333,
              "#9c179e"
             ],
             [
              0.4444444444444444,
              "#bd3786"
             ],
             [
              0.5555555555555556,
              "#d8576b"
             ],
             [
              0.6666666666666666,
              "#ed7953"
             ],
             [
              0.7777777777777778,
              "#fb9f3a"
             ],
             [
              0.8888888888888888,
              "#fdca26"
             ],
             [
              1,
              "#f0f921"
             ]
            ],
            "type": "heatmap"
           }
          ],
          "heatmapgl": [
           {
            "colorbar": {
             "outlinewidth": 0,
             "ticks": ""
            },
            "colorscale": [
             [
              0,
              "#0d0887"
             ],
             [
              0.1111111111111111,
              "#46039f"
             ],
             [
              0.2222222222222222,
              "#7201a8"
             ],
             [
              0.3333333333333333,
              "#9c179e"
             ],
             [
              0.4444444444444444,
              "#bd3786"
             ],
             [
              0.5555555555555556,
              "#d8576b"
             ],
             [
              0.6666666666666666,
              "#ed7953"
             ],
             [
              0.7777777777777778,
              "#fb9f3a"
             ],
             [
              0.8888888888888888,
              "#fdca26"
             ],
             [
              1,
              "#f0f921"
             ]
            ],
            "type": "heatmapgl"
           }
          ],
          "histogram": [
           {
            "marker": {
             "pattern": {
              "fillmode": "overlay",
              "size": 10,
              "solidity": 0.2
             }
            },
            "type": "histogram"
           }
          ],
          "histogram2d": [
           {
            "colorbar": {
             "outlinewidth": 0,
             "ticks": ""
            },
            "colorscale": [
             [
              0,
              "#0d0887"
             ],
             [
              0.1111111111111111,
              "#46039f"
             ],
             [
              0.2222222222222222,
              "#7201a8"
             ],
             [
              0.3333333333333333,
              "#9c179e"
             ],
             [
              0.4444444444444444,
              "#bd3786"
             ],
             [
              0.5555555555555556,
              "#d8576b"
             ],
             [
              0.6666666666666666,
              "#ed7953"
             ],
             [
              0.7777777777777778,
              "#fb9f3a"
             ],
             [
              0.8888888888888888,
              "#fdca26"
             ],
             [
              1,
              "#f0f921"
             ]
            ],
            "type": "histogram2d"
           }
          ],
          "histogram2dcontour": [
           {
            "colorbar": {
             "outlinewidth": 0,
             "ticks": ""
            },
            "colorscale": [
             [
              0,
              "#0d0887"
             ],
             [
              0.1111111111111111,
              "#46039f"
             ],
             [
              0.2222222222222222,
              "#7201a8"
             ],
             [
              0.3333333333333333,
              "#9c179e"
             ],
             [
              0.4444444444444444,
              "#bd3786"
             ],
             [
              0.5555555555555556,
              "#d8576b"
             ],
             [
              0.6666666666666666,
              "#ed7953"
             ],
             [
              0.7777777777777778,
              "#fb9f3a"
             ],
             [
              0.8888888888888888,
              "#fdca26"
             ],
             [
              1,
              "#f0f921"
             ]
            ],
            "type": "histogram2dcontour"
           }
          ],
          "mesh3d": [
           {
            "colorbar": {
             "outlinewidth": 0,
             "ticks": ""
            },
            "type": "mesh3d"
           }
          ],
          "parcoords": [
           {
            "line": {
             "colorbar": {
              "outlinewidth": 0,
              "ticks": ""
             }
            },
            "type": "parcoords"
           }
          ],
          "pie": [
           {
            "automargin": true,
            "type": "pie"
           }
          ],
          "scatter": [
           {
            "fillpattern": {
             "fillmode": "overlay",
             "size": 10,
             "solidity": 0.2
            },
            "type": "scatter"
           }
          ],
          "scatter3d": [
           {
            "line": {
             "colorbar": {
              "outlinewidth": 0,
              "ticks": ""
             }
            },
            "marker": {
             "colorbar": {
              "outlinewidth": 0,
              "ticks": ""
             }
            },
            "type": "scatter3d"
           }
          ],
          "scattercarpet": [
           {
            "marker": {
             "colorbar": {
              "outlinewidth": 0,
              "ticks": ""
             }
            },
            "type": "scattercarpet"
           }
          ],
          "scattergeo": [
           {
            "marker": {
             "colorbar": {
              "outlinewidth": 0,
              "ticks": ""
             }
            },
            "type": "scattergeo"
           }
          ],
          "scattergl": [
           {
            "marker": {
             "colorbar": {
              "outlinewidth": 0,
              "ticks": ""
             }
            },
            "type": "scattergl"
           }
          ],
          "scattermapbox": [
           {
            "marker": {
             "colorbar": {
              "outlinewidth": 0,
              "ticks": ""
             }
            },
            "type": "scattermapbox"
           }
          ],
          "scatterpolar": [
           {
            "marker": {
             "colorbar": {
              "outlinewidth": 0,
              "ticks": ""
             }
            },
            "type": "scatterpolar"
           }
          ],
          "scatterpolargl": [
           {
            "marker": {
             "colorbar": {
              "outlinewidth": 0,
              "ticks": ""
             }
            },
            "type": "scatterpolargl"
           }
          ],
          "scatterternary": [
           {
            "marker": {
             "colorbar": {
              "outlinewidth": 0,
              "ticks": ""
             }
            },
            "type": "scatterternary"
           }
          ],
          "surface": [
           {
            "colorbar": {
             "outlinewidth": 0,
             "ticks": ""
            },
            "colorscale": [
             [
              0,
              "#0d0887"
             ],
             [
              0.1111111111111111,
              "#46039f"
             ],
             [
              0.2222222222222222,
              "#7201a8"
             ],
             [
              0.3333333333333333,
              "#9c179e"
             ],
             [
              0.4444444444444444,
              "#bd3786"
             ],
             [
              0.5555555555555556,
              "#d8576b"
             ],
             [
              0.6666666666666666,
              "#ed7953"
             ],
             [
              0.7777777777777778,
              "#fb9f3a"
             ],
             [
              0.8888888888888888,
              "#fdca26"
             ],
             [
              1,
              "#f0f921"
             ]
            ],
            "type": "surface"
           }
          ],
          "table": [
           {
            "cells": {
             "fill": {
              "color": "#EBF0F8"
             },
             "line": {
              "color": "white"
             }
            },
            "header": {
             "fill": {
              "color": "#C8D4E3"
             },
             "line": {
              "color": "white"
             }
            },
            "type": "table"
           }
          ]
         },
         "layout": {
          "annotationdefaults": {
           "arrowcolor": "#2a3f5f",
           "arrowhead": 0,
           "arrowwidth": 1
          },
          "autotypenumbers": "strict",
          "coloraxis": {
           "colorbar": {
            "outlinewidth": 0,
            "ticks": ""
           }
          },
          "colorscale": {
           "diverging": [
            [
             0,
             "#8e0152"
            ],
            [
             0.1,
             "#c51b7d"
            ],
            [
             0.2,
             "#de77ae"
            ],
            [
             0.3,
             "#f1b6da"
            ],
            [
             0.4,
             "#fde0ef"
            ],
            [
             0.5,
             "#f7f7f7"
            ],
            [
             0.6,
             "#e6f5d0"
            ],
            [
             0.7,
             "#b8e186"
            ],
            [
             0.8,
             "#7fbc41"
            ],
            [
             0.9,
             "#4d9221"
            ],
            [
             1,
             "#276419"
            ]
           ],
           "sequential": [
            [
             0,
             "#0d0887"
            ],
            [
             0.1111111111111111,
             "#46039f"
            ],
            [
             0.2222222222222222,
             "#7201a8"
            ],
            [
             0.3333333333333333,
             "#9c179e"
            ],
            [
             0.4444444444444444,
             "#bd3786"
            ],
            [
             0.5555555555555556,
             "#d8576b"
            ],
            [
             0.6666666666666666,
             "#ed7953"
            ],
            [
             0.7777777777777778,
             "#fb9f3a"
            ],
            [
             0.8888888888888888,
             "#fdca26"
            ],
            [
             1,
             "#f0f921"
            ]
           ],
           "sequentialminus": [
            [
             0,
             "#0d0887"
            ],
            [
             0.1111111111111111,
             "#46039f"
            ],
            [
             0.2222222222222222,
             "#7201a8"
            ],
            [
             0.3333333333333333,
             "#9c179e"
            ],
            [
             0.4444444444444444,
             "#bd3786"
            ],
            [
             0.5555555555555556,
             "#d8576b"
            ],
            [
             0.6666666666666666,
             "#ed7953"
            ],
            [
             0.7777777777777778,
             "#fb9f3a"
            ],
            [
             0.8888888888888888,
             "#fdca26"
            ],
            [
             1,
             "#f0f921"
            ]
           ]
          },
          "colorway": [
           "#636efa",
           "#EF553B",
           "#00cc96",
           "#ab63fa",
           "#FFA15A",
           "#19d3f3",
           "#FF6692",
           "#B6E880",
           "#FF97FF",
           "#FECB52"
          ],
          "font": {
           "color": "#2a3f5f"
          },
          "geo": {
           "bgcolor": "white",
           "lakecolor": "white",
           "landcolor": "#E5ECF6",
           "showlakes": true,
           "showland": true,
           "subunitcolor": "white"
          },
          "hoverlabel": {
           "align": "left"
          },
          "hovermode": "closest",
          "mapbox": {
           "style": "light"
          },
          "paper_bgcolor": "white",
          "plot_bgcolor": "#E5ECF6",
          "polar": {
           "angularaxis": {
            "gridcolor": "white",
            "linecolor": "white",
            "ticks": ""
           },
           "bgcolor": "#E5ECF6",
           "radialaxis": {
            "gridcolor": "white",
            "linecolor": "white",
            "ticks": ""
           }
          },
          "scene": {
           "xaxis": {
            "backgroundcolor": "#E5ECF6",
            "gridcolor": "white",
            "gridwidth": 2,
            "linecolor": "white",
            "showbackground": true,
            "ticks": "",
            "zerolinecolor": "white"
           },
           "yaxis": {
            "backgroundcolor": "#E5ECF6",
            "gridcolor": "white",
            "gridwidth": 2,
            "linecolor": "white",
            "showbackground": true,
            "ticks": "",
            "zerolinecolor": "white"
           },
           "zaxis": {
            "backgroundcolor": "#E5ECF6",
            "gridcolor": "white",
            "gridwidth": 2,
            "linecolor": "white",
            "showbackground": true,
            "ticks": "",
            "zerolinecolor": "white"
           }
          },
          "shapedefaults": {
           "line": {
            "color": "#2a3f5f"
           }
          },
          "ternary": {
           "aaxis": {
            "gridcolor": "white",
            "linecolor": "white",
            "ticks": ""
           },
           "baxis": {
            "gridcolor": "white",
            "linecolor": "white",
            "ticks": ""
           },
           "bgcolor": "#E5ECF6",
           "caxis": {
            "gridcolor": "white",
            "linecolor": "white",
            "ticks": ""
           }
          },
          "title": {
           "x": 0.05
          },
          "xaxis": {
           "automargin": true,
           "gridcolor": "white",
           "linecolor": "white",
           "ticks": "",
           "title": {
            "standoff": 15
           },
           "zerolinecolor": "white",
           "zerolinewidth": 2
          },
          "yaxis": {
           "automargin": true,
           "gridcolor": "white",
           "linecolor": "white",
           "ticks": "",
           "title": {
            "standoff": 15
           },
           "zerolinecolor": "white",
           "zerolinewidth": 2
          }
         }
        },
        "title": {
         "text": "Peta Persebaran Laki-Laki Inisial R Umur 24-35 Tahun di Jawa Barat"
        }
       }
      }
     },
     "metadata": {},
     "output_type": "display_data"
    }
   ],
   "source": [
    "fig = px.density_mapbox(inisial_r_coordinate, lat='lat', lon='long', z='nama',radius=7,\n",
    "                        mapbox_style=\"stamen-terrain\",height=600, title='Peta Persebaran Laki-Laki Inisial R Umur 24-35 Tahun di Jawa Barat')\n",
    "fig"
   ]
  },
  {
   "cell_type": "code",
   "execution_count": 135,
   "metadata": {},
   "outputs": [
    {
     "data": {
      "text/html": [
       "<div>\n",
       "<style scoped>\n",
       "    .dataframe tbody tr th:only-of-type {\n",
       "        vertical-align: middle;\n",
       "    }\n",
       "\n",
       "    .dataframe tbody tr th {\n",
       "        vertical-align: top;\n",
       "    }\n",
       "\n",
       "    .dataframe thead th {\n",
       "        text-align: right;\n",
       "    }\n",
       "</style>\n",
       "<table border=\"1\" class=\"dataframe\">\n",
       "  <thead>\n",
       "    <tr style=\"text-align: right;\">\n",
       "      <th></th>\n",
       "      <th>kab_kota</th>\n",
       "      <th>nama</th>\n",
       "    </tr>\n",
       "  </thead>\n",
       "  <tbody>\n",
       "    <tr>\n",
       "      <th>3</th>\n",
       "      <td>BOGOR</td>\n",
       "      <td>103369</td>\n",
       "    </tr>\n",
       "    <tr>\n",
       "      <th>0</th>\n",
       "      <td>BANDUNG</td>\n",
       "      <td>89769</td>\n",
       "    </tr>\n",
       "    <tr>\n",
       "      <th>7</th>\n",
       "      <td>GARUT</td>\n",
       "      <td>60833</td>\n",
       "    </tr>\n",
       "  </tbody>\n",
       "</table>\n",
       "</div>"
      ],
      "text/plain": [
       "  kab_kota    nama\n",
       "3    BOGOR  103369\n",
       "0  BANDUNG   89769\n",
       "7    GARUT   60833"
      ]
     },
     "execution_count": 135,
     "metadata": {},
     "output_type": "execute_result"
    }
   ],
   "source": [
    "inisial_r_bar = inisial_r_coordinate.groupby('kab_kota').nama.sum().to_frame().reset_index().sort_values('nama',ascending=False)\n",
    "inisial_r_bar.head(3)"
   ]
  },
  {
   "cell_type": "code",
   "execution_count": 139,
   "metadata": {},
   "outputs": [
    {
     "data": {
      "application/vnd.plotly.v1+json": {
       "config": {
        "plotlyServerURL": "https://plot.ly"
       },
       "data": [
        {
         "alignmentgroup": "True",
         "hovertemplate": "nama=%{x}<br>kab_kota=%{y}<extra></extra>",
         "legendgroup": "",
         "marker": {
          "color": "#636efa",
          "pattern": {
           "shape": ""
          }
         },
         "name": "",
         "offsetgroup": "",
         "orientation": "h",
         "showlegend": false,
         "textposition": "auto",
         "texttemplate": "%{x}",
         "type": "bar",
         "x": [
          35949,
          39269,
          40540,
          42151,
          43569,
          52868,
          54306,
          60833,
          89769,
          103369
         ],
         "xaxis": "x",
         "y": [
          "CIREBON",
          "KARAWANG",
          "KOTA BEKASI",
          "BANDUNG BARAT",
          "BEKASI",
          "CIANJUR",
          "KOTA BANDUNG",
          "GARUT",
          "BANDUNG",
          "BOGOR"
         ],
         "yaxis": "y"
        }
       ],
       "layout": {
        "barmode": "relative",
        "legend": {
         "tracegroupgap": 0
        },
        "template": {
         "data": {
          "bar": [
           {
            "error_x": {
             "color": "#2a3f5f"
            },
            "error_y": {
             "color": "#2a3f5f"
            },
            "marker": {
             "line": {
              "color": "#E5ECF6",
              "width": 0.5
             },
             "pattern": {
              "fillmode": "overlay",
              "size": 10,
              "solidity": 0.2
             }
            },
            "type": "bar"
           }
          ],
          "barpolar": [
           {
            "marker": {
             "line": {
              "color": "#E5ECF6",
              "width": 0.5
             },
             "pattern": {
              "fillmode": "overlay",
              "size": 10,
              "solidity": 0.2
             }
            },
            "type": "barpolar"
           }
          ],
          "carpet": [
           {
            "aaxis": {
             "endlinecolor": "#2a3f5f",
             "gridcolor": "white",
             "linecolor": "white",
             "minorgridcolor": "white",
             "startlinecolor": "#2a3f5f"
            },
            "baxis": {
             "endlinecolor": "#2a3f5f",
             "gridcolor": "white",
             "linecolor": "white",
             "minorgridcolor": "white",
             "startlinecolor": "#2a3f5f"
            },
            "type": "carpet"
           }
          ],
          "choropleth": [
           {
            "colorbar": {
             "outlinewidth": 0,
             "ticks": ""
            },
            "type": "choropleth"
           }
          ],
          "contour": [
           {
            "colorbar": {
             "outlinewidth": 0,
             "ticks": ""
            },
            "colorscale": [
             [
              0,
              "#0d0887"
             ],
             [
              0.1111111111111111,
              "#46039f"
             ],
             [
              0.2222222222222222,
              "#7201a8"
             ],
             [
              0.3333333333333333,
              "#9c179e"
             ],
             [
              0.4444444444444444,
              "#bd3786"
             ],
             [
              0.5555555555555556,
              "#d8576b"
             ],
             [
              0.6666666666666666,
              "#ed7953"
             ],
             [
              0.7777777777777778,
              "#fb9f3a"
             ],
             [
              0.8888888888888888,
              "#fdca26"
             ],
             [
              1,
              "#f0f921"
             ]
            ],
            "type": "contour"
           }
          ],
          "contourcarpet": [
           {
            "colorbar": {
             "outlinewidth": 0,
             "ticks": ""
            },
            "type": "contourcarpet"
           }
          ],
          "heatmap": [
           {
            "colorbar": {
             "outlinewidth": 0,
             "ticks": ""
            },
            "colorscale": [
             [
              0,
              "#0d0887"
             ],
             [
              0.1111111111111111,
              "#46039f"
             ],
             [
              0.2222222222222222,
              "#7201a8"
             ],
             [
              0.3333333333333333,
              "#9c179e"
             ],
             [
              0.4444444444444444,
              "#bd3786"
             ],
             [
              0.5555555555555556,
              "#d8576b"
             ],
             [
              0.6666666666666666,
              "#ed7953"
             ],
             [
              0.7777777777777778,
              "#fb9f3a"
             ],
             [
              0.8888888888888888,
              "#fdca26"
             ],
             [
              1,
              "#f0f921"
             ]
            ],
            "type": "heatmap"
           }
          ],
          "heatmapgl": [
           {
            "colorbar": {
             "outlinewidth": 0,
             "ticks": ""
            },
            "colorscale": [
             [
              0,
              "#0d0887"
             ],
             [
              0.1111111111111111,
              "#46039f"
             ],
             [
              0.2222222222222222,
              "#7201a8"
             ],
             [
              0.3333333333333333,
              "#9c179e"
             ],
             [
              0.4444444444444444,
              "#bd3786"
             ],
             [
              0.5555555555555556,
              "#d8576b"
             ],
             [
              0.6666666666666666,
              "#ed7953"
             ],
             [
              0.7777777777777778,
              "#fb9f3a"
             ],
             [
              0.8888888888888888,
              "#fdca26"
             ],
             [
              1,
              "#f0f921"
             ]
            ],
            "type": "heatmapgl"
           }
          ],
          "histogram": [
           {
            "marker": {
             "pattern": {
              "fillmode": "overlay",
              "size": 10,
              "solidity": 0.2
             }
            },
            "type": "histogram"
           }
          ],
          "histogram2d": [
           {
            "colorbar": {
             "outlinewidth": 0,
             "ticks": ""
            },
            "colorscale": [
             [
              0,
              "#0d0887"
             ],
             [
              0.1111111111111111,
              "#46039f"
             ],
             [
              0.2222222222222222,
              "#7201a8"
             ],
             [
              0.3333333333333333,
              "#9c179e"
             ],
             [
              0.4444444444444444,
              "#bd3786"
             ],
             [
              0.5555555555555556,
              "#d8576b"
             ],
             [
              0.6666666666666666,
              "#ed7953"
             ],
             [
              0.7777777777777778,
              "#fb9f3a"
             ],
             [
              0.8888888888888888,
              "#fdca26"
             ],
             [
              1,
              "#f0f921"
             ]
            ],
            "type": "histogram2d"
           }
          ],
          "histogram2dcontour": [
           {
            "colorbar": {
             "outlinewidth": 0,
             "ticks": ""
            },
            "colorscale": [
             [
              0,
              "#0d0887"
             ],
             [
              0.1111111111111111,
              "#46039f"
             ],
             [
              0.2222222222222222,
              "#7201a8"
             ],
             [
              0.3333333333333333,
              "#9c179e"
             ],
             [
              0.4444444444444444,
              "#bd3786"
             ],
             [
              0.5555555555555556,
              "#d8576b"
             ],
             [
              0.6666666666666666,
              "#ed7953"
             ],
             [
              0.7777777777777778,
              "#fb9f3a"
             ],
             [
              0.8888888888888888,
              "#fdca26"
             ],
             [
              1,
              "#f0f921"
             ]
            ],
            "type": "histogram2dcontour"
           }
          ],
          "mesh3d": [
           {
            "colorbar": {
             "outlinewidth": 0,
             "ticks": ""
            },
            "type": "mesh3d"
           }
          ],
          "parcoords": [
           {
            "line": {
             "colorbar": {
              "outlinewidth": 0,
              "ticks": ""
             }
            },
            "type": "parcoords"
           }
          ],
          "pie": [
           {
            "automargin": true,
            "type": "pie"
           }
          ],
          "scatter": [
           {
            "fillpattern": {
             "fillmode": "overlay",
             "size": 10,
             "solidity": 0.2
            },
            "type": "scatter"
           }
          ],
          "scatter3d": [
           {
            "line": {
             "colorbar": {
              "outlinewidth": 0,
              "ticks": ""
             }
            },
            "marker": {
             "colorbar": {
              "outlinewidth": 0,
              "ticks": ""
             }
            },
            "type": "scatter3d"
           }
          ],
          "scattercarpet": [
           {
            "marker": {
             "colorbar": {
              "outlinewidth": 0,
              "ticks": ""
             }
            },
            "type": "scattercarpet"
           }
          ],
          "scattergeo": [
           {
            "marker": {
             "colorbar": {
              "outlinewidth": 0,
              "ticks": ""
             }
            },
            "type": "scattergeo"
           }
          ],
          "scattergl": [
           {
            "marker": {
             "colorbar": {
              "outlinewidth": 0,
              "ticks": ""
             }
            },
            "type": "scattergl"
           }
          ],
          "scattermapbox": [
           {
            "marker": {
             "colorbar": {
              "outlinewidth": 0,
              "ticks": ""
             }
            },
            "type": "scattermapbox"
           }
          ],
          "scatterpolar": [
           {
            "marker": {
             "colorbar": {
              "outlinewidth": 0,
              "ticks": ""
             }
            },
            "type": "scatterpolar"
           }
          ],
          "scatterpolargl": [
           {
            "marker": {
             "colorbar": {
              "outlinewidth": 0,
              "ticks": ""
             }
            },
            "type": "scatterpolargl"
           }
          ],
          "scatterternary": [
           {
            "marker": {
             "colorbar": {
              "outlinewidth": 0,
              "ticks": ""
             }
            },
            "type": "scatterternary"
           }
          ],
          "surface": [
           {
            "colorbar": {
             "outlinewidth": 0,
             "ticks": ""
            },
            "colorscale": [
             [
              0,
              "#0d0887"
             ],
             [
              0.1111111111111111,
              "#46039f"
             ],
             [
              0.2222222222222222,
              "#7201a8"
             ],
             [
              0.3333333333333333,
              "#9c179e"
             ],
             [
              0.4444444444444444,
              "#bd3786"
             ],
             [
              0.5555555555555556,
              "#d8576b"
             ],
             [
              0.6666666666666666,
              "#ed7953"
             ],
             [
              0.7777777777777778,
              "#fb9f3a"
             ],
             [
              0.8888888888888888,
              "#fdca26"
             ],
             [
              1,
              "#f0f921"
             ]
            ],
            "type": "surface"
           }
          ],
          "table": [
           {
            "cells": {
             "fill": {
              "color": "#EBF0F8"
             },
             "line": {
              "color": "white"
             }
            },
            "header": {
             "fill": {
              "color": "#C8D4E3"
             },
             "line": {
              "color": "white"
             }
            },
            "type": "table"
           }
          ]
         },
         "layout": {
          "annotationdefaults": {
           "arrowcolor": "#2a3f5f",
           "arrowhead": 0,
           "arrowwidth": 1
          },
          "autotypenumbers": "strict",
          "coloraxis": {
           "colorbar": {
            "outlinewidth": 0,
            "ticks": ""
           }
          },
          "colorscale": {
           "diverging": [
            [
             0,
             "#8e0152"
            ],
            [
             0.1,
             "#c51b7d"
            ],
            [
             0.2,
             "#de77ae"
            ],
            [
             0.3,
             "#f1b6da"
            ],
            [
             0.4,
             "#fde0ef"
            ],
            [
             0.5,
             "#f7f7f7"
            ],
            [
             0.6,
             "#e6f5d0"
            ],
            [
             0.7,
             "#b8e186"
            ],
            [
             0.8,
             "#7fbc41"
            ],
            [
             0.9,
             "#4d9221"
            ],
            [
             1,
             "#276419"
            ]
           ],
           "sequential": [
            [
             0,
             "#0d0887"
            ],
            [
             0.1111111111111111,
             "#46039f"
            ],
            [
             0.2222222222222222,
             "#7201a8"
            ],
            [
             0.3333333333333333,
             "#9c179e"
            ],
            [
             0.4444444444444444,
             "#bd3786"
            ],
            [
             0.5555555555555556,
             "#d8576b"
            ],
            [
             0.6666666666666666,
             "#ed7953"
            ],
            [
             0.7777777777777778,
             "#fb9f3a"
            ],
            [
             0.8888888888888888,
             "#fdca26"
            ],
            [
             1,
             "#f0f921"
            ]
           ],
           "sequentialminus": [
            [
             0,
             "#0d0887"
            ],
            [
             0.1111111111111111,
             "#46039f"
            ],
            [
             0.2222222222222222,
             "#7201a8"
            ],
            [
             0.3333333333333333,
             "#9c179e"
            ],
            [
             0.4444444444444444,
             "#bd3786"
            ],
            [
             0.5555555555555556,
             "#d8576b"
            ],
            [
             0.6666666666666666,
             "#ed7953"
            ],
            [
             0.7777777777777778,
             "#fb9f3a"
            ],
            [
             0.8888888888888888,
             "#fdca26"
            ],
            [
             1,
             "#f0f921"
            ]
           ]
          },
          "colorway": [
           "#636efa",
           "#EF553B",
           "#00cc96",
           "#ab63fa",
           "#FFA15A",
           "#19d3f3",
           "#FF6692",
           "#B6E880",
           "#FF97FF",
           "#FECB52"
          ],
          "font": {
           "color": "#2a3f5f"
          },
          "geo": {
           "bgcolor": "white",
           "lakecolor": "white",
           "landcolor": "#E5ECF6",
           "showlakes": true,
           "showland": true,
           "subunitcolor": "white"
          },
          "hoverlabel": {
           "align": "left"
          },
          "hovermode": "closest",
          "mapbox": {
           "style": "light"
          },
          "paper_bgcolor": "white",
          "plot_bgcolor": "#E5ECF6",
          "polar": {
           "angularaxis": {
            "gridcolor": "white",
            "linecolor": "white",
            "ticks": ""
           },
           "bgcolor": "#E5ECF6",
           "radialaxis": {
            "gridcolor": "white",
            "linecolor": "white",
            "ticks": ""
           }
          },
          "scene": {
           "xaxis": {
            "backgroundcolor": "#E5ECF6",
            "gridcolor": "white",
            "gridwidth": 2,
            "linecolor": "white",
            "showbackground": true,
            "ticks": "",
            "zerolinecolor": "white"
           },
           "yaxis": {
            "backgroundcolor": "#E5ECF6",
            "gridcolor": "white",
            "gridwidth": 2,
            "linecolor": "white",
            "showbackground": true,
            "ticks": "",
            "zerolinecolor": "white"
           },
           "zaxis": {
            "backgroundcolor": "#E5ECF6",
            "gridcolor": "white",
            "gridwidth": 2,
            "linecolor": "white",
            "showbackground": true,
            "ticks": "",
            "zerolinecolor": "white"
           }
          },
          "shapedefaults": {
           "line": {
            "color": "#2a3f5f"
           }
          },
          "ternary": {
           "aaxis": {
            "gridcolor": "white",
            "linecolor": "white",
            "ticks": ""
           },
           "baxis": {
            "gridcolor": "white",
            "linecolor": "white",
            "ticks": ""
           },
           "bgcolor": "#E5ECF6",
           "caxis": {
            "gridcolor": "white",
            "linecolor": "white",
            "ticks": ""
           }
          },
          "title": {
           "x": 0.05
          },
          "xaxis": {
           "automargin": true,
           "gridcolor": "white",
           "linecolor": "white",
           "ticks": "",
           "title": {
            "standoff": 15
           },
           "zerolinecolor": "white",
           "zerolinewidth": 2
          },
          "yaxis": {
           "automargin": true,
           "gridcolor": "white",
           "linecolor": "white",
           "ticks": "",
           "title": {
            "standoff": 15
           },
           "zerolinecolor": "white",
           "zerolinewidth": 2
          }
         }
        },
        "title": {
         "text": "Inisial R Tiap Kab Kota"
        },
        "width": 400,
        "xaxis": {
         "anchor": "y",
         "domain": [
          0,
          1
         ],
         "title": {
          "text": "nama"
         }
        },
        "yaxis": {
         "anchor": "x",
         "domain": [
          0,
          1
         ],
         "title": {
          "text": "kab_kota"
         }
        }
       }
      }
     },
     "metadata": {},
     "output_type": "display_data"
    }
   ],
   "source": [
    "fig = px.bar(inisial_r_bar.head(10).sort_values('nama'), y='kab_kota', x='nama',width=400,text_auto=True, title='Inisial R Tiap Kab Kota')\n",
    "fig.show()"
   ]
  },
  {
   "cell_type": "code",
   "execution_count": 140,
   "metadata": {},
   "outputs": [
    {
     "data": {
      "application/vnd.plotly.v1+json": {
       "config": {
        "plotlyServerURL": "https://plot.ly"
       },
       "data": [
        {
         "alignmentgroup": "True",
         "hovertemplate": "nama=%{x}<br>kab_kota=%{y}<extra></extra>",
         "legendgroup": "",
         "marker": {
          "color": "#636efa",
          "pattern": {
           "shape": ""
          }
         },
         "name": "",
         "offsetgroup": "",
         "orientation": "h",
         "showlegend": false,
         "textposition": "auto",
         "texttemplate": "%{x}",
         "type": "bar",
         "x": [
          25704,
          23021,
          20040,
          18999,
          16238,
          12272,
          8874,
          8141,
          6148,
          3802
         ],
         "xaxis": "x",
         "y": [
          "MAJALENGKA",
          "KUNINGAN",
          "KOTA BOGOR",
          "PURWAKARTA",
          "KOTA TASIKMALAYA",
          "KOTA CIMAHI",
          "PANGANDARAN",
          "KOTA SUKABUMI",
          "KOTA CIREBON",
          "KOTA BANJAR"
         ],
         "yaxis": "y"
        }
       ],
       "layout": {
        "barmode": "relative",
        "legend": {
         "tracegroupgap": 0
        },
        "template": {
         "data": {
          "bar": [
           {
            "error_x": {
             "color": "#2a3f5f"
            },
            "error_y": {
             "color": "#2a3f5f"
            },
            "marker": {
             "line": {
              "color": "#E5ECF6",
              "width": 0.5
             },
             "pattern": {
              "fillmode": "overlay",
              "size": 10,
              "solidity": 0.2
             }
            },
            "type": "bar"
           }
          ],
          "barpolar": [
           {
            "marker": {
             "line": {
              "color": "#E5ECF6",
              "width": 0.5
             },
             "pattern": {
              "fillmode": "overlay",
              "size": 10,
              "solidity": 0.2
             }
            },
            "type": "barpolar"
           }
          ],
          "carpet": [
           {
            "aaxis": {
             "endlinecolor": "#2a3f5f",
             "gridcolor": "white",
             "linecolor": "white",
             "minorgridcolor": "white",
             "startlinecolor": "#2a3f5f"
            },
            "baxis": {
             "endlinecolor": "#2a3f5f",
             "gridcolor": "white",
             "linecolor": "white",
             "minorgridcolor": "white",
             "startlinecolor": "#2a3f5f"
            },
            "type": "carpet"
           }
          ],
          "choropleth": [
           {
            "colorbar": {
             "outlinewidth": 0,
             "ticks": ""
            },
            "type": "choropleth"
           }
          ],
          "contour": [
           {
            "colorbar": {
             "outlinewidth": 0,
             "ticks": ""
            },
            "colorscale": [
             [
              0,
              "#0d0887"
             ],
             [
              0.1111111111111111,
              "#46039f"
             ],
             [
              0.2222222222222222,
              "#7201a8"
             ],
             [
              0.3333333333333333,
              "#9c179e"
             ],
             [
              0.4444444444444444,
              "#bd3786"
             ],
             [
              0.5555555555555556,
              "#d8576b"
             ],
             [
              0.6666666666666666,
              "#ed7953"
             ],
             [
              0.7777777777777778,
              "#fb9f3a"
             ],
             [
              0.8888888888888888,
              "#fdca26"
             ],
             [
              1,
              "#f0f921"
             ]
            ],
            "type": "contour"
           }
          ],
          "contourcarpet": [
           {
            "colorbar": {
             "outlinewidth": 0,
             "ticks": ""
            },
            "type": "contourcarpet"
           }
          ],
          "heatmap": [
           {
            "colorbar": {
             "outlinewidth": 0,
             "ticks": ""
            },
            "colorscale": [
             [
              0,
              "#0d0887"
             ],
             [
              0.1111111111111111,
              "#46039f"
             ],
             [
              0.2222222222222222,
              "#7201a8"
             ],
             [
              0.3333333333333333,
              "#9c179e"
             ],
             [
              0.4444444444444444,
              "#bd3786"
             ],
             [
              0.5555555555555556,
              "#d8576b"
             ],
             [
              0.6666666666666666,
              "#ed7953"
             ],
             [
              0.7777777777777778,
              "#fb9f3a"
             ],
             [
              0.8888888888888888,
              "#fdca26"
             ],
             [
              1,
              "#f0f921"
             ]
            ],
            "type": "heatmap"
           }
          ],
          "heatmapgl": [
           {
            "colorbar": {
             "outlinewidth": 0,
             "ticks": ""
            },
            "colorscale": [
             [
              0,
              "#0d0887"
             ],
             [
              0.1111111111111111,
              "#46039f"
             ],
             [
              0.2222222222222222,
              "#7201a8"
             ],
             [
              0.3333333333333333,
              "#9c179e"
             ],
             [
              0.4444444444444444,
              "#bd3786"
             ],
             [
              0.5555555555555556,
              "#d8576b"
             ],
             [
              0.6666666666666666,
              "#ed7953"
             ],
             [
              0.7777777777777778,
              "#fb9f3a"
             ],
             [
              0.8888888888888888,
              "#fdca26"
             ],
             [
              1,
              "#f0f921"
             ]
            ],
            "type": "heatmapgl"
           }
          ],
          "histogram": [
           {
            "marker": {
             "pattern": {
              "fillmode": "overlay",
              "size": 10,
              "solidity": 0.2
             }
            },
            "type": "histogram"
           }
          ],
          "histogram2d": [
           {
            "colorbar": {
             "outlinewidth": 0,
             "ticks": ""
            },
            "colorscale": [
             [
              0,
              "#0d0887"
             ],
             [
              0.1111111111111111,
              "#46039f"
             ],
             [
              0.2222222222222222,
              "#7201a8"
             ],
             [
              0.3333333333333333,
              "#9c179e"
             ],
             [
              0.4444444444444444,
              "#bd3786"
             ],
             [
              0.5555555555555556,
              "#d8576b"
             ],
             [
              0.6666666666666666,
              "#ed7953"
             ],
             [
              0.7777777777777778,
              "#fb9f3a"
             ],
             [
              0.8888888888888888,
              "#fdca26"
             ],
             [
              1,
              "#f0f921"
             ]
            ],
            "type": "histogram2d"
           }
          ],
          "histogram2dcontour": [
           {
            "colorbar": {
             "outlinewidth": 0,
             "ticks": ""
            },
            "colorscale": [
             [
              0,
              "#0d0887"
             ],
             [
              0.1111111111111111,
              "#46039f"
             ],
             [
              0.2222222222222222,
              "#7201a8"
             ],
             [
              0.3333333333333333,
              "#9c179e"
             ],
             [
              0.4444444444444444,
              "#bd3786"
             ],
             [
              0.5555555555555556,
              "#d8576b"
             ],
             [
              0.6666666666666666,
              "#ed7953"
             ],
             [
              0.7777777777777778,
              "#fb9f3a"
             ],
             [
              0.8888888888888888,
              "#fdca26"
             ],
             [
              1,
              "#f0f921"
             ]
            ],
            "type": "histogram2dcontour"
           }
          ],
          "mesh3d": [
           {
            "colorbar": {
             "outlinewidth": 0,
             "ticks": ""
            },
            "type": "mesh3d"
           }
          ],
          "parcoords": [
           {
            "line": {
             "colorbar": {
              "outlinewidth": 0,
              "ticks": ""
             }
            },
            "type": "parcoords"
           }
          ],
          "pie": [
           {
            "automargin": true,
            "type": "pie"
           }
          ],
          "scatter": [
           {
            "fillpattern": {
             "fillmode": "overlay",
             "size": 10,
             "solidity": 0.2
            },
            "type": "scatter"
           }
          ],
          "scatter3d": [
           {
            "line": {
             "colorbar": {
              "outlinewidth": 0,
              "ticks": ""
             }
            },
            "marker": {
             "colorbar": {
              "outlinewidth": 0,
              "ticks": ""
             }
            },
            "type": "scatter3d"
           }
          ],
          "scattercarpet": [
           {
            "marker": {
             "colorbar": {
              "outlinewidth": 0,
              "ticks": ""
             }
            },
            "type": "scattercarpet"
           }
          ],
          "scattergeo": [
           {
            "marker": {
             "colorbar": {
              "outlinewidth": 0,
              "ticks": ""
             }
            },
            "type": "scattergeo"
           }
          ],
          "scattergl": [
           {
            "marker": {
             "colorbar": {
              "outlinewidth": 0,
              "ticks": ""
             }
            },
            "type": "scattergl"
           }
          ],
          "scattermapbox": [
           {
            "marker": {
             "colorbar": {
              "outlinewidth": 0,
              "ticks": ""
             }
            },
            "type": "scattermapbox"
           }
          ],
          "scatterpolar": [
           {
            "marker": {
             "colorbar": {
              "outlinewidth": 0,
              "ticks": ""
             }
            },
            "type": "scatterpolar"
           }
          ],
          "scatterpolargl": [
           {
            "marker": {
             "colorbar": {
              "outlinewidth": 0,
              "ticks": ""
             }
            },
            "type": "scatterpolargl"
           }
          ],
          "scatterternary": [
           {
            "marker": {
             "colorbar": {
              "outlinewidth": 0,
              "ticks": ""
             }
            },
            "type": "scatterternary"
           }
          ],
          "surface": [
           {
            "colorbar": {
             "outlinewidth": 0,
             "ticks": ""
            },
            "colorscale": [
             [
              0,
              "#0d0887"
             ],
             [
              0.1111111111111111,
              "#46039f"
             ],
             [
              0.2222222222222222,
              "#7201a8"
             ],
             [
              0.3333333333333333,
              "#9c179e"
             ],
             [
              0.4444444444444444,
              "#bd3786"
             ],
             [
              0.5555555555555556,
              "#d8576b"
             ],
             [
              0.6666666666666666,
              "#ed7953"
             ],
             [
              0.7777777777777778,
              "#fb9f3a"
             ],
             [
              0.8888888888888888,
              "#fdca26"
             ],
             [
              1,
              "#f0f921"
             ]
            ],
            "type": "surface"
           }
          ],
          "table": [
           {
            "cells": {
             "fill": {
              "color": "#EBF0F8"
             },
             "line": {
              "color": "white"
             }
            },
            "header": {
             "fill": {
              "color": "#C8D4E3"
             },
             "line": {
              "color": "white"
             }
            },
            "type": "table"
           }
          ]
         },
         "layout": {
          "annotationdefaults": {
           "arrowcolor": "#2a3f5f",
           "arrowhead": 0,
           "arrowwidth": 1
          },
          "autotypenumbers": "strict",
          "coloraxis": {
           "colorbar": {
            "outlinewidth": 0,
            "ticks": ""
           }
          },
          "colorscale": {
           "diverging": [
            [
             0,
             "#8e0152"
            ],
            [
             0.1,
             "#c51b7d"
            ],
            [
             0.2,
             "#de77ae"
            ],
            [
             0.3,
             "#f1b6da"
            ],
            [
             0.4,
             "#fde0ef"
            ],
            [
             0.5,
             "#f7f7f7"
            ],
            [
             0.6,
             "#e6f5d0"
            ],
            [
             0.7,
             "#b8e186"
            ],
            [
             0.8,
             "#7fbc41"
            ],
            [
             0.9,
             "#4d9221"
            ],
            [
             1,
             "#276419"
            ]
           ],
           "sequential": [
            [
             0,
             "#0d0887"
            ],
            [
             0.1111111111111111,
             "#46039f"
            ],
            [
             0.2222222222222222,
             "#7201a8"
            ],
            [
             0.3333333333333333,
             "#9c179e"
            ],
            [
             0.4444444444444444,
             "#bd3786"
            ],
            [
             0.5555555555555556,
             "#d8576b"
            ],
            [
             0.6666666666666666,
             "#ed7953"
            ],
            [
             0.7777777777777778,
             "#fb9f3a"
            ],
            [
             0.8888888888888888,
             "#fdca26"
            ],
            [
             1,
             "#f0f921"
            ]
           ],
           "sequentialminus": [
            [
             0,
             "#0d0887"
            ],
            [
             0.1111111111111111,
             "#46039f"
            ],
            [
             0.2222222222222222,
             "#7201a8"
            ],
            [
             0.3333333333333333,
             "#9c179e"
            ],
            [
             0.4444444444444444,
             "#bd3786"
            ],
            [
             0.5555555555555556,
             "#d8576b"
            ],
            [
             0.6666666666666666,
             "#ed7953"
            ],
            [
             0.7777777777777778,
             "#fb9f3a"
            ],
            [
             0.8888888888888888,
             "#fdca26"
            ],
            [
             1,
             "#f0f921"
            ]
           ]
          },
          "colorway": [
           "#636efa",
           "#EF553B",
           "#00cc96",
           "#ab63fa",
           "#FFA15A",
           "#19d3f3",
           "#FF6692",
           "#B6E880",
           "#FF97FF",
           "#FECB52"
          ],
          "font": {
           "color": "#2a3f5f"
          },
          "geo": {
           "bgcolor": "white",
           "lakecolor": "white",
           "landcolor": "#E5ECF6",
           "showlakes": true,
           "showland": true,
           "subunitcolor": "white"
          },
          "hoverlabel": {
           "align": "left"
          },
          "hovermode": "closest",
          "mapbox": {
           "style": "light"
          },
          "paper_bgcolor": "white",
          "plot_bgcolor": "#E5ECF6",
          "polar": {
           "angularaxis": {
            "gridcolor": "white",
            "linecolor": "white",
            "ticks": ""
           },
           "bgcolor": "#E5ECF6",
           "radialaxis": {
            "gridcolor": "white",
            "linecolor": "white",
            "ticks": ""
           }
          },
          "scene": {
           "xaxis": {
            "backgroundcolor": "#E5ECF6",
            "gridcolor": "white",
            "gridwidth": 2,
            "linecolor": "white",
            "showbackground": true,
            "ticks": "",
            "zerolinecolor": "white"
           },
           "yaxis": {
            "backgroundcolor": "#E5ECF6",
            "gridcolor": "white",
            "gridwidth": 2,
            "linecolor": "white",
            "showbackground": true,
            "ticks": "",
            "zerolinecolor": "white"
           },
           "zaxis": {
            "backgroundcolor": "#E5ECF6",
            "gridcolor": "white",
            "gridwidth": 2,
            "linecolor": "white",
            "showbackground": true,
            "ticks": "",
            "zerolinecolor": "white"
           }
          },
          "shapedefaults": {
           "line": {
            "color": "#2a3f5f"
           }
          },
          "ternary": {
           "aaxis": {
            "gridcolor": "white",
            "linecolor": "white",
            "ticks": ""
           },
           "baxis": {
            "gridcolor": "white",
            "linecolor": "white",
            "ticks": ""
           },
           "bgcolor": "#E5ECF6",
           "caxis": {
            "gridcolor": "white",
            "linecolor": "white",
            "ticks": ""
           }
          },
          "title": {
           "x": 0.05
          },
          "xaxis": {
           "automargin": true,
           "gridcolor": "white",
           "linecolor": "white",
           "ticks": "",
           "title": {
            "standoff": 15
           },
           "zerolinecolor": "white",
           "zerolinewidth": 2
          },
          "yaxis": {
           "automargin": true,
           "gridcolor": "white",
           "linecolor": "white",
           "ticks": "",
           "title": {
            "standoff": 15
           },
           "zerolinecolor": "white",
           "zerolinewidth": 2
          }
         }
        },
        "title": {
         "text": "Inisial R Tiap Kab Kota"
        },
        "width": 400,
        "xaxis": {
         "anchor": "y",
         "domain": [
          0,
          1
         ],
         "title": {
          "text": "nama"
         }
        },
        "yaxis": {
         "anchor": "x",
         "domain": [
          0,
          1
         ],
         "title": {
          "text": "kab_kota"
         }
        }
       }
      }
     },
     "metadata": {},
     "output_type": "display_data"
    }
   ],
   "source": [
    "fig = px.bar(inisial_r_bar.tail(10), y='kab_kota', x='nama',width=400,text_auto=True, title='Inisial R Tiap Kab Kota')\n",
    "fig.show()"
   ]
  },
  {
   "cell_type": "code",
   "execution_count": 154,
   "metadata": {},
   "outputs": [
    {
     "data": {
      "application/vnd.plotly.v1+json": {
       "config": {
        "plotlyServerURL": "https://plot.ly"
       },
       "data": [
        {
         "alignmentgroup": "True",
         "hovertemplate": "inisial_r=%{x}<br>count=%{y}<extra></extra>",
         "legendgroup": "",
         "marker": {
          "color": "#636efa",
          "pattern": {
           "shape": ""
          }
         },
         "name": "",
         "offsetgroup": "",
         "orientation": "v",
         "showlegend": false,
         "textposition": "auto",
         "texttemplate": "%{y}",
         "type": "bar",
         "x": [
          "ridwan",
          "rahmat",
          "rizki",
          "ramdani",
          "riki",
          "rizal",
          "rahman",
          "rohman",
          "ramadhan",
          "rian",
          "rizky",
          "rudi",
          "reza",
          "roni",
          "ramdan"
         ],
         "xaxis": "x",
         "y": [
          34848,
          28746,
          27814,
          24815,
          20198,
          19520,
          19404,
          19318,
          18143,
          17898,
          17159,
          17003,
          14393,
          10945,
          10292
         ],
         "yaxis": "y"
        }
       ],
       "layout": {
        "barmode": "relative",
        "legend": {
         "tracegroupgap": 0
        },
        "template": {
         "data": {
          "bar": [
           {
            "error_x": {
             "color": "#2a3f5f"
            },
            "error_y": {
             "color": "#2a3f5f"
            },
            "marker": {
             "line": {
              "color": "#E5ECF6",
              "width": 0.5
             },
             "pattern": {
              "fillmode": "overlay",
              "size": 10,
              "solidity": 0.2
             }
            },
            "type": "bar"
           }
          ],
          "barpolar": [
           {
            "marker": {
             "line": {
              "color": "#E5ECF6",
              "width": 0.5
             },
             "pattern": {
              "fillmode": "overlay",
              "size": 10,
              "solidity": 0.2
             }
            },
            "type": "barpolar"
           }
          ],
          "carpet": [
           {
            "aaxis": {
             "endlinecolor": "#2a3f5f",
             "gridcolor": "white",
             "linecolor": "white",
             "minorgridcolor": "white",
             "startlinecolor": "#2a3f5f"
            },
            "baxis": {
             "endlinecolor": "#2a3f5f",
             "gridcolor": "white",
             "linecolor": "white",
             "minorgridcolor": "white",
             "startlinecolor": "#2a3f5f"
            },
            "type": "carpet"
           }
          ],
          "choropleth": [
           {
            "colorbar": {
             "outlinewidth": 0,
             "ticks": ""
            },
            "type": "choropleth"
           }
          ],
          "contour": [
           {
            "colorbar": {
             "outlinewidth": 0,
             "ticks": ""
            },
            "colorscale": [
             [
              0,
              "#0d0887"
             ],
             [
              0.1111111111111111,
              "#46039f"
             ],
             [
              0.2222222222222222,
              "#7201a8"
             ],
             [
              0.3333333333333333,
              "#9c179e"
             ],
             [
              0.4444444444444444,
              "#bd3786"
             ],
             [
              0.5555555555555556,
              "#d8576b"
             ],
             [
              0.6666666666666666,
              "#ed7953"
             ],
             [
              0.7777777777777778,
              "#fb9f3a"
             ],
             [
              0.8888888888888888,
              "#fdca26"
             ],
             [
              1,
              "#f0f921"
             ]
            ],
            "type": "contour"
           }
          ],
          "contourcarpet": [
           {
            "colorbar": {
             "outlinewidth": 0,
             "ticks": ""
            },
            "type": "contourcarpet"
           }
          ],
          "heatmap": [
           {
            "colorbar": {
             "outlinewidth": 0,
             "ticks": ""
            },
            "colorscale": [
             [
              0,
              "#0d0887"
             ],
             [
              0.1111111111111111,
              "#46039f"
             ],
             [
              0.2222222222222222,
              "#7201a8"
             ],
             [
              0.3333333333333333,
              "#9c179e"
             ],
             [
              0.4444444444444444,
              "#bd3786"
             ],
             [
              0.5555555555555556,
              "#d8576b"
             ],
             [
              0.6666666666666666,
              "#ed7953"
             ],
             [
              0.7777777777777778,
              "#fb9f3a"
             ],
             [
              0.8888888888888888,
              "#fdca26"
             ],
             [
              1,
              "#f0f921"
             ]
            ],
            "type": "heatmap"
           }
          ],
          "heatmapgl": [
           {
            "colorbar": {
             "outlinewidth": 0,
             "ticks": ""
            },
            "colorscale": [
             [
              0,
              "#0d0887"
             ],
             [
              0.1111111111111111,
              "#46039f"
             ],
             [
              0.2222222222222222,
              "#7201a8"
             ],
             [
              0.3333333333333333,
              "#9c179e"
             ],
             [
              0.4444444444444444,
              "#bd3786"
             ],
             [
              0.5555555555555556,
              "#d8576b"
             ],
             [
              0.6666666666666666,
              "#ed7953"
             ],
             [
              0.7777777777777778,
              "#fb9f3a"
             ],
             [
              0.8888888888888888,
              "#fdca26"
             ],
             [
              1,
              "#f0f921"
             ]
            ],
            "type": "heatmapgl"
           }
          ],
          "histogram": [
           {
            "marker": {
             "pattern": {
              "fillmode": "overlay",
              "size": 10,
              "solidity": 0.2
             }
            },
            "type": "histogram"
           }
          ],
          "histogram2d": [
           {
            "colorbar": {
             "outlinewidth": 0,
             "ticks": ""
            },
            "colorscale": [
             [
              0,
              "#0d0887"
             ],
             [
              0.1111111111111111,
              "#46039f"
             ],
             [
              0.2222222222222222,
              "#7201a8"
             ],
             [
              0.3333333333333333,
              "#9c179e"
             ],
             [
              0.4444444444444444,
              "#bd3786"
             ],
             [
              0.5555555555555556,
              "#d8576b"
             ],
             [
              0.6666666666666666,
              "#ed7953"
             ],
             [
              0.7777777777777778,
              "#fb9f3a"
             ],
             [
              0.8888888888888888,
              "#fdca26"
             ],
             [
              1,
              "#f0f921"
             ]
            ],
            "type": "histogram2d"
           }
          ],
          "histogram2dcontour": [
           {
            "colorbar": {
             "outlinewidth": 0,
             "ticks": ""
            },
            "colorscale": [
             [
              0,
              "#0d0887"
             ],
             [
              0.1111111111111111,
              "#46039f"
             ],
             [
              0.2222222222222222,
              "#7201a8"
             ],
             [
              0.3333333333333333,
              "#9c179e"
             ],
             [
              0.4444444444444444,
              "#bd3786"
             ],
             [
              0.5555555555555556,
              "#d8576b"
             ],
             [
              0.6666666666666666,
              "#ed7953"
             ],
             [
              0.7777777777777778,
              "#fb9f3a"
             ],
             [
              0.8888888888888888,
              "#fdca26"
             ],
             [
              1,
              "#f0f921"
             ]
            ],
            "type": "histogram2dcontour"
           }
          ],
          "mesh3d": [
           {
            "colorbar": {
             "outlinewidth": 0,
             "ticks": ""
            },
            "type": "mesh3d"
           }
          ],
          "parcoords": [
           {
            "line": {
             "colorbar": {
              "outlinewidth": 0,
              "ticks": ""
             }
            },
            "type": "parcoords"
           }
          ],
          "pie": [
           {
            "automargin": true,
            "type": "pie"
           }
          ],
          "scatter": [
           {
            "fillpattern": {
             "fillmode": "overlay",
             "size": 10,
             "solidity": 0.2
            },
            "type": "scatter"
           }
          ],
          "scatter3d": [
           {
            "line": {
             "colorbar": {
              "outlinewidth": 0,
              "ticks": ""
             }
            },
            "marker": {
             "colorbar": {
              "outlinewidth": 0,
              "ticks": ""
             }
            },
            "type": "scatter3d"
           }
          ],
          "scattercarpet": [
           {
            "marker": {
             "colorbar": {
              "outlinewidth": 0,
              "ticks": ""
             }
            },
            "type": "scattercarpet"
           }
          ],
          "scattergeo": [
           {
            "marker": {
             "colorbar": {
              "outlinewidth": 0,
              "ticks": ""
             }
            },
            "type": "scattergeo"
           }
          ],
          "scattergl": [
           {
            "marker": {
             "colorbar": {
              "outlinewidth": 0,
              "ticks": ""
             }
            },
            "type": "scattergl"
           }
          ],
          "scattermapbox": [
           {
            "marker": {
             "colorbar": {
              "outlinewidth": 0,
              "ticks": ""
             }
            },
            "type": "scattermapbox"
           }
          ],
          "scatterpolar": [
           {
            "marker": {
             "colorbar": {
              "outlinewidth": 0,
              "ticks": ""
             }
            },
            "type": "scatterpolar"
           }
          ],
          "scatterpolargl": [
           {
            "marker": {
             "colorbar": {
              "outlinewidth": 0,
              "ticks": ""
             }
            },
            "type": "scatterpolargl"
           }
          ],
          "scatterternary": [
           {
            "marker": {
             "colorbar": {
              "outlinewidth": 0,
              "ticks": ""
             }
            },
            "type": "scatterternary"
           }
          ],
          "surface": [
           {
            "colorbar": {
             "outlinewidth": 0,
             "ticks": ""
            },
            "colorscale": [
             [
              0,
              "#0d0887"
             ],
             [
              0.1111111111111111,
              "#46039f"
             ],
             [
              0.2222222222222222,
              "#7201a8"
             ],
             [
              0.3333333333333333,
              "#9c179e"
             ],
             [
              0.4444444444444444,
              "#bd3786"
             ],
             [
              0.5555555555555556,
              "#d8576b"
             ],
             [
              0.6666666666666666,
              "#ed7953"
             ],
             [
              0.7777777777777778,
              "#fb9f3a"
             ],
             [
              0.8888888888888888,
              "#fdca26"
             ],
             [
              1,
              "#f0f921"
             ]
            ],
            "type": "surface"
           }
          ],
          "table": [
           {
            "cells": {
             "fill": {
              "color": "#EBF0F8"
             },
             "line": {
              "color": "white"
             }
            },
            "header": {
             "fill": {
              "color": "#C8D4E3"
             },
             "line": {
              "color": "white"
             }
            },
            "type": "table"
           }
          ]
         },
         "layout": {
          "annotationdefaults": {
           "arrowcolor": "#2a3f5f",
           "arrowhead": 0,
           "arrowwidth": 1
          },
          "autotypenumbers": "strict",
          "coloraxis": {
           "colorbar": {
            "outlinewidth": 0,
            "ticks": ""
           }
          },
          "colorscale": {
           "diverging": [
            [
             0,
             "#8e0152"
            ],
            [
             0.1,
             "#c51b7d"
            ],
            [
             0.2,
             "#de77ae"
            ],
            [
             0.3,
             "#f1b6da"
            ],
            [
             0.4,
             "#fde0ef"
            ],
            [
             0.5,
             "#f7f7f7"
            ],
            [
             0.6,
             "#e6f5d0"
            ],
            [
             0.7,
             "#b8e186"
            ],
            [
             0.8,
             "#7fbc41"
            ],
            [
             0.9,
             "#4d9221"
            ],
            [
             1,
             "#276419"
            ]
           ],
           "sequential": [
            [
             0,
             "#0d0887"
            ],
            [
             0.1111111111111111,
             "#46039f"
            ],
            [
             0.2222222222222222,
             "#7201a8"
            ],
            [
             0.3333333333333333,
             "#9c179e"
            ],
            [
             0.4444444444444444,
             "#bd3786"
            ],
            [
             0.5555555555555556,
             "#d8576b"
            ],
            [
             0.6666666666666666,
             "#ed7953"
            ],
            [
             0.7777777777777778,
             "#fb9f3a"
            ],
            [
             0.8888888888888888,
             "#fdca26"
            ],
            [
             1,
             "#f0f921"
            ]
           ],
           "sequentialminus": [
            [
             0,
             "#0d0887"
            ],
            [
             0.1111111111111111,
             "#46039f"
            ],
            [
             0.2222222222222222,
             "#7201a8"
            ],
            [
             0.3333333333333333,
             "#9c179e"
            ],
            [
             0.4444444444444444,
             "#bd3786"
            ],
            [
             0.5555555555555556,
             "#d8576b"
            ],
            [
             0.6666666666666666,
             "#ed7953"
            ],
            [
             0.7777777777777778,
             "#fb9f3a"
            ],
            [
             0.8888888888888888,
             "#fdca26"
            ],
            [
             1,
             "#f0f921"
            ]
           ]
          },
          "colorway": [
           "#636efa",
           "#EF553B",
           "#00cc96",
           "#ab63fa",
           "#FFA15A",
           "#19d3f3",
           "#FF6692",
           "#B6E880",
           "#FF97FF",
           "#FECB52"
          ],
          "font": {
           "color": "#2a3f5f"
          },
          "geo": {
           "bgcolor": "white",
           "lakecolor": "white",
           "landcolor": "#E5ECF6",
           "showlakes": true,
           "showland": true,
           "subunitcolor": "white"
          },
          "hoverlabel": {
           "align": "left"
          },
          "hovermode": "closest",
          "mapbox": {
           "style": "light"
          },
          "paper_bgcolor": "white",
          "plot_bgcolor": "#E5ECF6",
          "polar": {
           "angularaxis": {
            "gridcolor": "white",
            "linecolor": "white",
            "ticks": ""
           },
           "bgcolor": "#E5ECF6",
           "radialaxis": {
            "gridcolor": "white",
            "linecolor": "white",
            "ticks": ""
           }
          },
          "scene": {
           "xaxis": {
            "backgroundcolor": "#E5ECF6",
            "gridcolor": "white",
            "gridwidth": 2,
            "linecolor": "white",
            "showbackground": true,
            "ticks": "",
            "zerolinecolor": "white"
           },
           "yaxis": {
            "backgroundcolor": "#E5ECF6",
            "gridcolor": "white",
            "gridwidth": 2,
            "linecolor": "white",
            "showbackground": true,
            "ticks": "",
            "zerolinecolor": "white"
           },
           "zaxis": {
            "backgroundcolor": "#E5ECF6",
            "gridcolor": "white",
            "gridwidth": 2,
            "linecolor": "white",
            "showbackground": true,
            "ticks": "",
            "zerolinecolor": "white"
           }
          },
          "shapedefaults": {
           "line": {
            "color": "#2a3f5f"
           }
          },
          "ternary": {
           "aaxis": {
            "gridcolor": "white",
            "linecolor": "white",
            "ticks": ""
           },
           "baxis": {
            "gridcolor": "white",
            "linecolor": "white",
            "ticks": ""
           },
           "bgcolor": "#E5ECF6",
           "caxis": {
            "gridcolor": "white",
            "linecolor": "white",
            "ticks": ""
           }
          },
          "title": {
           "x": 0.05
          },
          "xaxis": {
           "automargin": true,
           "gridcolor": "white",
           "linecolor": "white",
           "ticks": "",
           "title": {
            "standoff": 15
           },
           "zerolinecolor": "white",
           "zerolinewidth": 2
          },
          "yaxis": {
           "automargin": true,
           "gridcolor": "white",
           "linecolor": "white",
           "ticks": "",
           "title": {
            "standoff": 15
           },
           "zerolinecolor": "white",
           "zerolinewidth": 2
          }
         }
        },
        "title": {
         "text": "Inisial R Populer"
        },
        "xaxis": {
         "anchor": "y",
         "domain": [
          0,
          1
         ],
         "title": {
          "text": "inisial_r"
         }
        },
        "yaxis": {
         "anchor": "x",
         "domain": [
          0,
          1
         ],
         "title": {
          "text": "count"
         }
        }
       }
      }
     },
     "metadata": {},
     "output_type": "display_data"
    }
   ],
   "source": [
    "inisial_r_name = inisial_r_muda.value_counts('inisial_r').to_frame().reset_index().head(15)\n",
    "fig = px.bar(inisial_r_name, x='inisial_r', y='count',text_auto=True, title='Inisial R Populer')\n",
    "fig.show()"
   ]
  },
  {
   "cell_type": "code",
   "execution_count": null,
   "metadata": {},
   "outputs": [],
   "source": []
  },
  {
   "attachments": {},
   "cell_type": "markdown",
   "metadata": {},
   "source": [
    "## nama jawa"
   ]
  },
  {
   "cell_type": "code",
   "execution_count": 4,
   "metadata": {},
   "outputs": [
    {
     "data": {
      "text/html": [
       "<div>\n",
       "<style scoped>\n",
       "    .dataframe tbody tr th:only-of-type {\n",
       "        vertical-align: middle;\n",
       "    }\n",
       "\n",
       "    .dataframe tbody tr th {\n",
       "        vertical-align: top;\n",
       "    }\n",
       "\n",
       "    .dataframe thead th {\n",
       "        text-align: right;\n",
       "    }\n",
       "</style>\n",
       "<table border=\"1\" class=\"dataframe\">\n",
       "  <thead>\n",
       "    <tr style=\"text-align: right;\">\n",
       "      <th></th>\n",
       "      <th>nama</th>\n",
       "      <th>provinsi</th>\n",
       "      <th>kab_kota</th>\n",
       "      <th>kecamatan</th>\n",
       "      <th>desa</th>\n",
       "      <th>nama_jawa</th>\n",
       "      <th>tahun_lahir</th>\n",
       "      <th>jenisKelamin</th>\n",
       "      <th>umur</th>\n",
       "    </tr>\n",
       "  </thead>\n",
       "  <tbody>\n",
       "    <tr>\n",
       "      <th>0</th>\n",
       "      <td>DENDI ARDIANTO</td>\n",
       "      <td>JAWA BARAT</td>\n",
       "      <td>GARUT</td>\n",
       "      <td>BANJARWANGI</td>\n",
       "      <td>WANGUNJAYA</td>\n",
       "      <td>ardianto</td>\n",
       "      <td>96.0</td>\n",
       "      <td>L</td>\n",
       "      <td>27.0</td>\n",
       "    </tr>\n",
       "    <tr>\n",
       "      <th>1</th>\n",
       "      <td>ALO SALMAN</td>\n",
       "      <td>JAWA BARAT</td>\n",
       "      <td>GARUT</td>\n",
       "      <td>BANJARWANGI</td>\n",
       "      <td>WANGUNJAYA</td>\n",
       "      <td>alo</td>\n",
       "      <td>89.0</td>\n",
       "      <td>L</td>\n",
       "      <td>34.0</td>\n",
       "    </tr>\n",
       "    <tr>\n",
       "      <th>2</th>\n",
       "      <td>ALI ARIDHO</td>\n",
       "      <td>JAWA BARAT</td>\n",
       "      <td>GARUT</td>\n",
       "      <td>BANYURESMI</td>\n",
       "      <td>BAGENDIT</td>\n",
       "      <td>aridho</td>\n",
       "      <td>97.0</td>\n",
       "      <td>L</td>\n",
       "      <td>26.0</td>\n",
       "    </tr>\n",
       "    <tr>\n",
       "      <th>3</th>\n",
       "      <td>YONI WAHYONO</td>\n",
       "      <td>JAWA BARAT</td>\n",
       "      <td>GARUT</td>\n",
       "      <td>BANYURESMI</td>\n",
       "      <td>BAGENDIT</td>\n",
       "      <td>wahyono</td>\n",
       "      <td>91.0</td>\n",
       "      <td>L</td>\n",
       "      <td>32.0</td>\n",
       "    </tr>\n",
       "    <tr>\n",
       "      <th>4</th>\n",
       "      <td>JOJO</td>\n",
       "      <td>JAWA BARAT</td>\n",
       "      <td>GARUT</td>\n",
       "      <td>BANYURESMI</td>\n",
       "      <td>BAGENDIT</td>\n",
       "      <td>jojo</td>\n",
       "      <td>79.0</td>\n",
       "      <td>L</td>\n",
       "      <td>44.0</td>\n",
       "    </tr>\n",
       "    <tr>\n",
       "      <th>5</th>\n",
       "      <td>DEDEN SUDARSONO</td>\n",
       "      <td>JAWA BARAT</td>\n",
       "      <td>GARUT</td>\n",
       "      <td>BANYURESMI</td>\n",
       "      <td>BAGENDIT</td>\n",
       "      <td>sudarsono</td>\n",
       "      <td>62.0</td>\n",
       "      <td>L</td>\n",
       "      <td>61.0</td>\n",
       "    </tr>\n",
       "    <tr>\n",
       "      <th>6</th>\n",
       "      <td>Apriyanto</td>\n",
       "      <td>JAWA BARAT</td>\n",
       "      <td>GARUT</td>\n",
       "      <td>BANYURESMI</td>\n",
       "      <td>BAGENDIT</td>\n",
       "      <td>apriyanto</td>\n",
       "      <td>92.0</td>\n",
       "      <td>L</td>\n",
       "      <td>31.0</td>\n",
       "    </tr>\n",
       "    <tr>\n",
       "      <th>7</th>\n",
       "      <td>KARYO</td>\n",
       "      <td>JAWA BARAT</td>\n",
       "      <td>GARUT</td>\n",
       "      <td>BANYURESMI</td>\n",
       "      <td>BAGENDIT</td>\n",
       "      <td>karyo</td>\n",
       "      <td>55.0</td>\n",
       "      <td>L</td>\n",
       "      <td>68.0</td>\n",
       "    </tr>\n",
       "    <tr>\n",
       "      <th>8</th>\n",
       "      <td>HERIYANTO</td>\n",
       "      <td>JAWA BARAT</td>\n",
       "      <td>GARUT</td>\n",
       "      <td>BANYURESMI</td>\n",
       "      <td>BAGENDIT</td>\n",
       "      <td>heriyanto</td>\n",
       "      <td>77.0</td>\n",
       "      <td>L</td>\n",
       "      <td>46.0</td>\n",
       "    </tr>\n",
       "    <tr>\n",
       "      <th>9</th>\n",
       "      <td>GINA HARYONO</td>\n",
       "      <td>JAWA BARAT</td>\n",
       "      <td>GARUT</td>\n",
       "      <td>BANYURESMI</td>\n",
       "      <td>BAGENDIT</td>\n",
       "      <td>haryono</td>\n",
       "      <td>92.0</td>\n",
       "      <td>P</td>\n",
       "      <td>31.0</td>\n",
       "    </tr>\n",
       "  </tbody>\n",
       "</table>\n",
       "</div>"
      ],
      "text/plain": [
       "              nama    provinsi kab_kota    kecamatan        desa  nama_jawa   \n",
       "0   DENDI ARDIANTO  JAWA BARAT    GARUT  BANJARWANGI  WANGUNJAYA   ardianto  \\\n",
       "1       ALO SALMAN  JAWA BARAT    GARUT  BANJARWANGI  WANGUNJAYA        alo   \n",
       "2       ALI ARIDHO  JAWA BARAT    GARUT   BANYURESMI    BAGENDIT     aridho   \n",
       "3     YONI WAHYONO  JAWA BARAT    GARUT   BANYURESMI    BAGENDIT    wahyono   \n",
       "4             JOJO  JAWA BARAT    GARUT   BANYURESMI    BAGENDIT       jojo   \n",
       "5  DEDEN SUDARSONO  JAWA BARAT    GARUT   BANYURESMI    BAGENDIT  sudarsono   \n",
       "6        Apriyanto  JAWA BARAT    GARUT   BANYURESMI    BAGENDIT  apriyanto   \n",
       "7            KARYO  JAWA BARAT    GARUT   BANYURESMI    BAGENDIT      karyo   \n",
       "8        HERIYANTO  JAWA BARAT    GARUT   BANYURESMI    BAGENDIT  heriyanto   \n",
       "9     GINA HARYONO  JAWA BARAT    GARUT   BANYURESMI    BAGENDIT    haryono   \n",
       "\n",
       "   tahun_lahir jenisKelamin  umur  \n",
       "0         96.0            L  27.0  \n",
       "1         89.0            L  34.0  \n",
       "2         97.0            L  26.0  \n",
       "3         91.0            L  32.0  \n",
       "4         79.0            L  44.0  \n",
       "5         62.0            L  61.0  \n",
       "6         92.0            L  31.0  \n",
       "7         55.0            L  68.0  \n",
       "8         77.0            L  46.0  \n",
       "9         92.0            P  31.0  "
      ]
     },
     "execution_count": 4,
     "metadata": {},
     "output_type": "execute_result"
    }
   ],
   "source": [
    "jawa = con.sql(\"SELECT nama, provinsi, kab_kota, kecamatan, desa, nama_jawa, tahun_lahir, jenisKelamin FROM entity_with_coordinate2 WHERE nama_jawa IS NOT NULL\").fetchdf()\n",
    "jawa['umur'] = datetime.now().year - jawa['tahun_lahir'] - 1900\n",
    "jawa.head(10)\n"
   ]
  },
  {
   "cell_type": "code",
   "execution_count": 7,
   "metadata": {},
   "outputs": [
    {
     "data": {
      "application/vnd.plotly.v1+json": {
       "config": {
        "plotlyServerURL": "https://plot.ly"
       },
       "data": [
        {
         "alignmentgroup": "True",
         "hovertemplate": "nama_jawa=%{x}<br>count=%{y}<extra></extra>",
         "legendgroup": "",
         "marker": {
          "color": "#636efa",
          "pattern": {
           "shape": ""
          }
         },
         "name": "",
         "offsetgroup": "",
         "orientation": "v",
         "showlegend": false,
         "textposition": "auto",
         "texttemplate": "%{y}",
         "type": "bar",
         "x": [
          "eko",
          "yanto",
          "susanto",
          "toto",
          "santoso",
          "hartono",
          "sutrisno",
          "haryanto",
          "joko",
          "sugianto",
          "purwanto",
          "wibowo",
          "riyanto",
          "prasetyo",
          "nono"
         ],
         "xaxis": "x",
         "y": [
          35280,
          33647,
          29807,
          22718,
          22314,
          18032,
          17786,
          14409,
          14295,
          13716,
          13392,
          13324,
          13237,
          12562,
          12509
         ],
         "yaxis": "y"
        }
       ],
       "layout": {
        "barmode": "relative",
        "legend": {
         "tracegroupgap": 0
        },
        "template": {
         "data": {
          "bar": [
           {
            "error_x": {
             "color": "#2a3f5f"
            },
            "error_y": {
             "color": "#2a3f5f"
            },
            "marker": {
             "line": {
              "color": "#E5ECF6",
              "width": 0.5
             },
             "pattern": {
              "fillmode": "overlay",
              "size": 10,
              "solidity": 0.2
             }
            },
            "type": "bar"
           }
          ],
          "barpolar": [
           {
            "marker": {
             "line": {
              "color": "#E5ECF6",
              "width": 0.5
             },
             "pattern": {
              "fillmode": "overlay",
              "size": 10,
              "solidity": 0.2
             }
            },
            "type": "barpolar"
           }
          ],
          "carpet": [
           {
            "aaxis": {
             "endlinecolor": "#2a3f5f",
             "gridcolor": "white",
             "linecolor": "white",
             "minorgridcolor": "white",
             "startlinecolor": "#2a3f5f"
            },
            "baxis": {
             "endlinecolor": "#2a3f5f",
             "gridcolor": "white",
             "linecolor": "white",
             "minorgridcolor": "white",
             "startlinecolor": "#2a3f5f"
            },
            "type": "carpet"
           }
          ],
          "choropleth": [
           {
            "colorbar": {
             "outlinewidth": 0,
             "ticks": ""
            },
            "type": "choropleth"
           }
          ],
          "contour": [
           {
            "colorbar": {
             "outlinewidth": 0,
             "ticks": ""
            },
            "colorscale": [
             [
              0,
              "#0d0887"
             ],
             [
              0.1111111111111111,
              "#46039f"
             ],
             [
              0.2222222222222222,
              "#7201a8"
             ],
             [
              0.3333333333333333,
              "#9c179e"
             ],
             [
              0.4444444444444444,
              "#bd3786"
             ],
             [
              0.5555555555555556,
              "#d8576b"
             ],
             [
              0.6666666666666666,
              "#ed7953"
             ],
             [
              0.7777777777777778,
              "#fb9f3a"
             ],
             [
              0.8888888888888888,
              "#fdca26"
             ],
             [
              1,
              "#f0f921"
             ]
            ],
            "type": "contour"
           }
          ],
          "contourcarpet": [
           {
            "colorbar": {
             "outlinewidth": 0,
             "ticks": ""
            },
            "type": "contourcarpet"
           }
          ],
          "heatmap": [
           {
            "colorbar": {
             "outlinewidth": 0,
             "ticks": ""
            },
            "colorscale": [
             [
              0,
              "#0d0887"
             ],
             [
              0.1111111111111111,
              "#46039f"
             ],
             [
              0.2222222222222222,
              "#7201a8"
             ],
             [
              0.3333333333333333,
              "#9c179e"
             ],
             [
              0.4444444444444444,
              "#bd3786"
             ],
             [
              0.5555555555555556,
              "#d8576b"
             ],
             [
              0.6666666666666666,
              "#ed7953"
             ],
             [
              0.7777777777777778,
              "#fb9f3a"
             ],
             [
              0.8888888888888888,
              "#fdca26"
             ],
             [
              1,
              "#f0f921"
             ]
            ],
            "type": "heatmap"
           }
          ],
          "heatmapgl": [
           {
            "colorbar": {
             "outlinewidth": 0,
             "ticks": ""
            },
            "colorscale": [
             [
              0,
              "#0d0887"
             ],
             [
              0.1111111111111111,
              "#46039f"
             ],
             [
              0.2222222222222222,
              "#7201a8"
             ],
             [
              0.3333333333333333,
              "#9c179e"
             ],
             [
              0.4444444444444444,
              "#bd3786"
             ],
             [
              0.5555555555555556,
              "#d8576b"
             ],
             [
              0.6666666666666666,
              "#ed7953"
             ],
             [
              0.7777777777777778,
              "#fb9f3a"
             ],
             [
              0.8888888888888888,
              "#fdca26"
             ],
             [
              1,
              "#f0f921"
             ]
            ],
            "type": "heatmapgl"
           }
          ],
          "histogram": [
           {
            "marker": {
             "pattern": {
              "fillmode": "overlay",
              "size": 10,
              "solidity": 0.2
             }
            },
            "type": "histogram"
           }
          ],
          "histogram2d": [
           {
            "colorbar": {
             "outlinewidth": 0,
             "ticks": ""
            },
            "colorscale": [
             [
              0,
              "#0d0887"
             ],
             [
              0.1111111111111111,
              "#46039f"
             ],
             [
              0.2222222222222222,
              "#7201a8"
             ],
             [
              0.3333333333333333,
              "#9c179e"
             ],
             [
              0.4444444444444444,
              "#bd3786"
             ],
             [
              0.5555555555555556,
              "#d8576b"
             ],
             [
              0.6666666666666666,
              "#ed7953"
             ],
             [
              0.7777777777777778,
              "#fb9f3a"
             ],
             [
              0.8888888888888888,
              "#fdca26"
             ],
             [
              1,
              "#f0f921"
             ]
            ],
            "type": "histogram2d"
           }
          ],
          "histogram2dcontour": [
           {
            "colorbar": {
             "outlinewidth": 0,
             "ticks": ""
            },
            "colorscale": [
             [
              0,
              "#0d0887"
             ],
             [
              0.1111111111111111,
              "#46039f"
             ],
             [
              0.2222222222222222,
              "#7201a8"
             ],
             [
              0.3333333333333333,
              "#9c179e"
             ],
             [
              0.4444444444444444,
              "#bd3786"
             ],
             [
              0.5555555555555556,
              "#d8576b"
             ],
             [
              0.6666666666666666,
              "#ed7953"
             ],
             [
              0.7777777777777778,
              "#fb9f3a"
             ],
             [
              0.8888888888888888,
              "#fdca26"
             ],
             [
              1,
              "#f0f921"
             ]
            ],
            "type": "histogram2dcontour"
           }
          ],
          "mesh3d": [
           {
            "colorbar": {
             "outlinewidth": 0,
             "ticks": ""
            },
            "type": "mesh3d"
           }
          ],
          "parcoords": [
           {
            "line": {
             "colorbar": {
              "outlinewidth": 0,
              "ticks": ""
             }
            },
            "type": "parcoords"
           }
          ],
          "pie": [
           {
            "automargin": true,
            "type": "pie"
           }
          ],
          "scatter": [
           {
            "fillpattern": {
             "fillmode": "overlay",
             "size": 10,
             "solidity": 0.2
            },
            "type": "scatter"
           }
          ],
          "scatter3d": [
           {
            "line": {
             "colorbar": {
              "outlinewidth": 0,
              "ticks": ""
             }
            },
            "marker": {
             "colorbar": {
              "outlinewidth": 0,
              "ticks": ""
             }
            },
            "type": "scatter3d"
           }
          ],
          "scattercarpet": [
           {
            "marker": {
             "colorbar": {
              "outlinewidth": 0,
              "ticks": ""
             }
            },
            "type": "scattercarpet"
           }
          ],
          "scattergeo": [
           {
            "marker": {
             "colorbar": {
              "outlinewidth": 0,
              "ticks": ""
             }
            },
            "type": "scattergeo"
           }
          ],
          "scattergl": [
           {
            "marker": {
             "colorbar": {
              "outlinewidth": 0,
              "ticks": ""
             }
            },
            "type": "scattergl"
           }
          ],
          "scattermapbox": [
           {
            "marker": {
             "colorbar": {
              "outlinewidth": 0,
              "ticks": ""
             }
            },
            "type": "scattermapbox"
           }
          ],
          "scatterpolar": [
           {
            "marker": {
             "colorbar": {
              "outlinewidth": 0,
              "ticks": ""
             }
            },
            "type": "scatterpolar"
           }
          ],
          "scatterpolargl": [
           {
            "marker": {
             "colorbar": {
              "outlinewidth": 0,
              "ticks": ""
             }
            },
            "type": "scatterpolargl"
           }
          ],
          "scatterternary": [
           {
            "marker": {
             "colorbar": {
              "outlinewidth": 0,
              "ticks": ""
             }
            },
            "type": "scatterternary"
           }
          ],
          "surface": [
           {
            "colorbar": {
             "outlinewidth": 0,
             "ticks": ""
            },
            "colorscale": [
             [
              0,
              "#0d0887"
             ],
             [
              0.1111111111111111,
              "#46039f"
             ],
             [
              0.2222222222222222,
              "#7201a8"
             ],
             [
              0.3333333333333333,
              "#9c179e"
             ],
             [
              0.4444444444444444,
              "#bd3786"
             ],
             [
              0.5555555555555556,
              "#d8576b"
             ],
             [
              0.6666666666666666,
              "#ed7953"
             ],
             [
              0.7777777777777778,
              "#fb9f3a"
             ],
             [
              0.8888888888888888,
              "#fdca26"
             ],
             [
              1,
              "#f0f921"
             ]
            ],
            "type": "surface"
           }
          ],
          "table": [
           {
            "cells": {
             "fill": {
              "color": "#EBF0F8"
             },
             "line": {
              "color": "white"
             }
            },
            "header": {
             "fill": {
              "color": "#C8D4E3"
             },
             "line": {
              "color": "white"
             }
            },
            "type": "table"
           }
          ]
         },
         "layout": {
          "annotationdefaults": {
           "arrowcolor": "#2a3f5f",
           "arrowhead": 0,
           "arrowwidth": 1
          },
          "autotypenumbers": "strict",
          "coloraxis": {
           "colorbar": {
            "outlinewidth": 0,
            "ticks": ""
           }
          },
          "colorscale": {
           "diverging": [
            [
             0,
             "#8e0152"
            ],
            [
             0.1,
             "#c51b7d"
            ],
            [
             0.2,
             "#de77ae"
            ],
            [
             0.3,
             "#f1b6da"
            ],
            [
             0.4,
             "#fde0ef"
            ],
            [
             0.5,
             "#f7f7f7"
            ],
            [
             0.6,
             "#e6f5d0"
            ],
            [
             0.7,
             "#b8e186"
            ],
            [
             0.8,
             "#7fbc41"
            ],
            [
             0.9,
             "#4d9221"
            ],
            [
             1,
             "#276419"
            ]
           ],
           "sequential": [
            [
             0,
             "#0d0887"
            ],
            [
             0.1111111111111111,
             "#46039f"
            ],
            [
             0.2222222222222222,
             "#7201a8"
            ],
            [
             0.3333333333333333,
             "#9c179e"
            ],
            [
             0.4444444444444444,
             "#bd3786"
            ],
            [
             0.5555555555555556,
             "#d8576b"
            ],
            [
             0.6666666666666666,
             "#ed7953"
            ],
            [
             0.7777777777777778,
             "#fb9f3a"
            ],
            [
             0.8888888888888888,
             "#fdca26"
            ],
            [
             1,
             "#f0f921"
            ]
           ],
           "sequentialminus": [
            [
             0,
             "#0d0887"
            ],
            [
             0.1111111111111111,
             "#46039f"
            ],
            [
             0.2222222222222222,
             "#7201a8"
            ],
            [
             0.3333333333333333,
             "#9c179e"
            ],
            [
             0.4444444444444444,
             "#bd3786"
            ],
            [
             0.5555555555555556,
             "#d8576b"
            ],
            [
             0.6666666666666666,
             "#ed7953"
            ],
            [
             0.7777777777777778,
             "#fb9f3a"
            ],
            [
             0.8888888888888888,
             "#fdca26"
            ],
            [
             1,
             "#f0f921"
            ]
           ]
          },
          "colorway": [
           "#636efa",
           "#EF553B",
           "#00cc96",
           "#ab63fa",
           "#FFA15A",
           "#19d3f3",
           "#FF6692",
           "#B6E880",
           "#FF97FF",
           "#FECB52"
          ],
          "font": {
           "color": "#2a3f5f"
          },
          "geo": {
           "bgcolor": "white",
           "lakecolor": "white",
           "landcolor": "#E5ECF6",
           "showlakes": true,
           "showland": true,
           "subunitcolor": "white"
          },
          "hoverlabel": {
           "align": "left"
          },
          "hovermode": "closest",
          "mapbox": {
           "style": "light"
          },
          "paper_bgcolor": "white",
          "plot_bgcolor": "#E5ECF6",
          "polar": {
           "angularaxis": {
            "gridcolor": "white",
            "linecolor": "white",
            "ticks": ""
           },
           "bgcolor": "#E5ECF6",
           "radialaxis": {
            "gridcolor": "white",
            "linecolor": "white",
            "ticks": ""
           }
          },
          "scene": {
           "xaxis": {
            "backgroundcolor": "#E5ECF6",
            "gridcolor": "white",
            "gridwidth": 2,
            "linecolor": "white",
            "showbackground": true,
            "ticks": "",
            "zerolinecolor": "white"
           },
           "yaxis": {
            "backgroundcolor": "#E5ECF6",
            "gridcolor": "white",
            "gridwidth": 2,
            "linecolor": "white",
            "showbackground": true,
            "ticks": "",
            "zerolinecolor": "white"
           },
           "zaxis": {
            "backgroundcolor": "#E5ECF6",
            "gridcolor": "white",
            "gridwidth": 2,
            "linecolor": "white",
            "showbackground": true,
            "ticks": "",
            "zerolinecolor": "white"
           }
          },
          "shapedefaults": {
           "line": {
            "color": "#2a3f5f"
           }
          },
          "ternary": {
           "aaxis": {
            "gridcolor": "white",
            "linecolor": "white",
            "ticks": ""
           },
           "baxis": {
            "gridcolor": "white",
            "linecolor": "white",
            "ticks": ""
           },
           "bgcolor": "#E5ECF6",
           "caxis": {
            "gridcolor": "white",
            "linecolor": "white",
            "ticks": ""
           }
          },
          "title": {
           "x": 0.05
          },
          "xaxis": {
           "automargin": true,
           "gridcolor": "white",
           "linecolor": "white",
           "ticks": "",
           "title": {
            "standoff": 15
           },
           "zerolinecolor": "white",
           "zerolinewidth": 2
          },
          "yaxis": {
           "automargin": true,
           "gridcolor": "white",
           "linecolor": "white",
           "ticks": "",
           "title": {
            "standoff": 15
           },
           "zerolinecolor": "white",
           "zerolinewidth": 2
          }
         }
        },
        "title": {
         "text": "Nama Jawa Populer"
        },
        "xaxis": {
         "anchor": "y",
         "domain": [
          0,
          1
         ],
         "title": {
          "text": "nama_jawa"
         }
        },
        "yaxis": {
         "anchor": "x",
         "domain": [
          0,
          1
         ],
         "title": {
          "text": "count"
         }
        }
       }
      }
     },
     "metadata": {},
     "output_type": "display_data"
    }
   ],
   "source": [
    "jawa_bar = jawa.value_counts('nama_jawa').to_frame().reset_index().head(15)\n",
    "fig = px.bar(jawa_bar, x='nama_jawa', y='count',text_auto=True, title='Nama Jawa Populer')\n",
    "fig.show()"
   ]
  },
  {
   "cell_type": "code",
   "execution_count": 9,
   "metadata": {},
   "outputs": [
    {
     "data": {
      "text/html": [
       "<div>\n",
       "<style scoped>\n",
       "    .dataframe tbody tr th:only-of-type {\n",
       "        vertical-align: middle;\n",
       "    }\n",
       "\n",
       "    .dataframe tbody tr th {\n",
       "        vertical-align: top;\n",
       "    }\n",
       "\n",
       "    .dataframe thead th {\n",
       "        text-align: right;\n",
       "    }\n",
       "</style>\n",
       "<table border=\"1\" class=\"dataframe\">\n",
       "  <thead>\n",
       "    <tr style=\"text-align: right;\">\n",
       "      <th></th>\n",
       "      <th>kab_kota</th>\n",
       "      <th>nama</th>\n",
       "    </tr>\n",
       "  </thead>\n",
       "  <tbody>\n",
       "    <tr>\n",
       "      <th>3</th>\n",
       "      <td>BOGOR</td>\n",
       "      <td>200365</td>\n",
       "    </tr>\n",
       "    <tr>\n",
       "      <th>12</th>\n",
       "      <td>KOTA BEKASI</td>\n",
       "      <td>188569</td>\n",
       "    </tr>\n",
       "    <tr>\n",
       "      <th>2</th>\n",
       "      <td>BEKASI</td>\n",
       "      <td>182100</td>\n",
       "    </tr>\n",
       "  </tbody>\n",
       "</table>\n",
       "</div>"
      ],
      "text/plain": [
       "       kab_kota    nama\n",
       "3         BOGOR  200365\n",
       "12  KOTA BEKASI  188569\n",
       "2        BEKASI  182100"
      ]
     },
     "execution_count": 9,
     "metadata": {},
     "output_type": "execute_result"
    }
   ],
   "source": [
    "jawa_location = jawa.groupby('kab_kota').nama.count().to_frame().reset_index().sort_values('nama',ascending=False)\n",
    "jawa_location.head(3)"
   ]
  },
  {
   "cell_type": "code",
   "execution_count": 10,
   "metadata": {},
   "outputs": [
    {
     "data": {
      "application/vnd.plotly.v1+json": {
       "config": {
        "plotlyServerURL": "https://plot.ly"
       },
       "data": [
        {
         "alignmentgroup": "True",
         "hovertemplate": "kab_kota=%{x}<br>nama=%{y}<extra></extra>",
         "legendgroup": "",
         "marker": {
          "color": "#636efa",
          "pattern": {
           "shape": ""
          }
         },
         "name": "",
         "offsetgroup": "",
         "orientation": "v",
         "showlegend": false,
         "textposition": "auto",
         "texttemplate": "%{y}",
         "type": "bar",
         "x": [
          "BOGOR",
          "KOTA BEKASI",
          "BEKASI",
          "CIREBON",
          "KOTA DEPOK",
          "INDRAMAYU",
          "KOTA BANDUNG",
          "BANDUNG",
          "KARAWANG",
          "SUBANG",
          "CIAMIS",
          "MAJALENGKA",
          "KUNINGAN",
          "GARUT",
          "BANDUNG BARAT",
          "KOTA BOGOR",
          "CIANJUR",
          "PANGANDARAN",
          "PURWAKARTA",
          "KOTA CIMAHI",
          "KOTA CIREBON",
          "KOTA TASIKMALAYA",
          "KOTA BANJAR",
          "KOTA SUKABUMI"
         ],
         "xaxis": "x",
         "y": [
          200365,
          188569,
          182100,
          136543,
          132658,
          132588,
          115834,
          107163,
          93078,
          64479,
          59847,
          56479,
          54937,
          48093,
          46759,
          42390,
          38681,
          33550,
          30263,
          29233,
          27104,
          18529,
          12968,
          8370
         ],
         "yaxis": "y"
        }
       ],
       "layout": {
        "barmode": "relative",
        "legend": {
         "tracegroupgap": 0
        },
        "template": {
         "data": {
          "bar": [
           {
            "error_x": {
             "color": "#2a3f5f"
            },
            "error_y": {
             "color": "#2a3f5f"
            },
            "marker": {
             "line": {
              "color": "#E5ECF6",
              "width": 0.5
             },
             "pattern": {
              "fillmode": "overlay",
              "size": 10,
              "solidity": 0.2
             }
            },
            "type": "bar"
           }
          ],
          "barpolar": [
           {
            "marker": {
             "line": {
              "color": "#E5ECF6",
              "width": 0.5
             },
             "pattern": {
              "fillmode": "overlay",
              "size": 10,
              "solidity": 0.2
             }
            },
            "type": "barpolar"
           }
          ],
          "carpet": [
           {
            "aaxis": {
             "endlinecolor": "#2a3f5f",
             "gridcolor": "white",
             "linecolor": "white",
             "minorgridcolor": "white",
             "startlinecolor": "#2a3f5f"
            },
            "baxis": {
             "endlinecolor": "#2a3f5f",
             "gridcolor": "white",
             "linecolor": "white",
             "minorgridcolor": "white",
             "startlinecolor": "#2a3f5f"
            },
            "type": "carpet"
           }
          ],
          "choropleth": [
           {
            "colorbar": {
             "outlinewidth": 0,
             "ticks": ""
            },
            "type": "choropleth"
           }
          ],
          "contour": [
           {
            "colorbar": {
             "outlinewidth": 0,
             "ticks": ""
            },
            "colorscale": [
             [
              0,
              "#0d0887"
             ],
             [
              0.1111111111111111,
              "#46039f"
             ],
             [
              0.2222222222222222,
              "#7201a8"
             ],
             [
              0.3333333333333333,
              "#9c179e"
             ],
             [
              0.4444444444444444,
              "#bd3786"
             ],
             [
              0.5555555555555556,
              "#d8576b"
             ],
             [
              0.6666666666666666,
              "#ed7953"
             ],
             [
              0.7777777777777778,
              "#fb9f3a"
             ],
             [
              0.8888888888888888,
              "#fdca26"
             ],
             [
              1,
              "#f0f921"
             ]
            ],
            "type": "contour"
           }
          ],
          "contourcarpet": [
           {
            "colorbar": {
             "outlinewidth": 0,
             "ticks": ""
            },
            "type": "contourcarpet"
           }
          ],
          "heatmap": [
           {
            "colorbar": {
             "outlinewidth": 0,
             "ticks": ""
            },
            "colorscale": [
             [
              0,
              "#0d0887"
             ],
             [
              0.1111111111111111,
              "#46039f"
             ],
             [
              0.2222222222222222,
              "#7201a8"
             ],
             [
              0.3333333333333333,
              "#9c179e"
             ],
             [
              0.4444444444444444,
              "#bd3786"
             ],
             [
              0.5555555555555556,
              "#d8576b"
             ],
             [
              0.6666666666666666,
              "#ed7953"
             ],
             [
              0.7777777777777778,
              "#fb9f3a"
             ],
             [
              0.8888888888888888,
              "#fdca26"
             ],
             [
              1,
              "#f0f921"
             ]
            ],
            "type": "heatmap"
           }
          ],
          "heatmapgl": [
           {
            "colorbar": {
             "outlinewidth": 0,
             "ticks": ""
            },
            "colorscale": [
             [
              0,
              "#0d0887"
             ],
             [
              0.1111111111111111,
              "#46039f"
             ],
             [
              0.2222222222222222,
              "#7201a8"
             ],
             [
              0.3333333333333333,
              "#9c179e"
             ],
             [
              0.4444444444444444,
              "#bd3786"
             ],
             [
              0.5555555555555556,
              "#d8576b"
             ],
             [
              0.6666666666666666,
              "#ed7953"
             ],
             [
              0.7777777777777778,
              "#fb9f3a"
             ],
             [
              0.8888888888888888,
              "#fdca26"
             ],
             [
              1,
              "#f0f921"
             ]
            ],
            "type": "heatmapgl"
           }
          ],
          "histogram": [
           {
            "marker": {
             "pattern": {
              "fillmode": "overlay",
              "size": 10,
              "solidity": 0.2
             }
            },
            "type": "histogram"
           }
          ],
          "histogram2d": [
           {
            "colorbar": {
             "outlinewidth": 0,
             "ticks": ""
            },
            "colorscale": [
             [
              0,
              "#0d0887"
             ],
             [
              0.1111111111111111,
              "#46039f"
             ],
             [
              0.2222222222222222,
              "#7201a8"
             ],
             [
              0.3333333333333333,
              "#9c179e"
             ],
             [
              0.4444444444444444,
              "#bd3786"
             ],
             [
              0.5555555555555556,
              "#d8576b"
             ],
             [
              0.6666666666666666,
              "#ed7953"
             ],
             [
              0.7777777777777778,
              "#fb9f3a"
             ],
             [
              0.8888888888888888,
              "#fdca26"
             ],
             [
              1,
              "#f0f921"
             ]
            ],
            "type": "histogram2d"
           }
          ],
          "histogram2dcontour": [
           {
            "colorbar": {
             "outlinewidth": 0,
             "ticks": ""
            },
            "colorscale": [
             [
              0,
              "#0d0887"
             ],
             [
              0.1111111111111111,
              "#46039f"
             ],
             [
              0.2222222222222222,
              "#7201a8"
             ],
             [
              0.3333333333333333,
              "#9c179e"
             ],
             [
              0.4444444444444444,
              "#bd3786"
             ],
             [
              0.5555555555555556,
              "#d8576b"
             ],
             [
              0.6666666666666666,
              "#ed7953"
             ],
             [
              0.7777777777777778,
              "#fb9f3a"
             ],
             [
              0.8888888888888888,
              "#fdca26"
             ],
             [
              1,
              "#f0f921"
             ]
            ],
            "type": "histogram2dcontour"
           }
          ],
          "mesh3d": [
           {
            "colorbar": {
             "outlinewidth": 0,
             "ticks": ""
            },
            "type": "mesh3d"
           }
          ],
          "parcoords": [
           {
            "line": {
             "colorbar": {
              "outlinewidth": 0,
              "ticks": ""
             }
            },
            "type": "parcoords"
           }
          ],
          "pie": [
           {
            "automargin": true,
            "type": "pie"
           }
          ],
          "scatter": [
           {
            "fillpattern": {
             "fillmode": "overlay",
             "size": 10,
             "solidity": 0.2
            },
            "type": "scatter"
           }
          ],
          "scatter3d": [
           {
            "line": {
             "colorbar": {
              "outlinewidth": 0,
              "ticks": ""
             }
            },
            "marker": {
             "colorbar": {
              "outlinewidth": 0,
              "ticks": ""
             }
            },
            "type": "scatter3d"
           }
          ],
          "scattercarpet": [
           {
            "marker": {
             "colorbar": {
              "outlinewidth": 0,
              "ticks": ""
             }
            },
            "type": "scattercarpet"
           }
          ],
          "scattergeo": [
           {
            "marker": {
             "colorbar": {
              "outlinewidth": 0,
              "ticks": ""
             }
            },
            "type": "scattergeo"
           }
          ],
          "scattergl": [
           {
            "marker": {
             "colorbar": {
              "outlinewidth": 0,
              "ticks": ""
             }
            },
            "type": "scattergl"
           }
          ],
          "scattermapbox": [
           {
            "marker": {
             "colorbar": {
              "outlinewidth": 0,
              "ticks": ""
             }
            },
            "type": "scattermapbox"
           }
          ],
          "scatterpolar": [
           {
            "marker": {
             "colorbar": {
              "outlinewidth": 0,
              "ticks": ""
             }
            },
            "type": "scatterpolar"
           }
          ],
          "scatterpolargl": [
           {
            "marker": {
             "colorbar": {
              "outlinewidth": 0,
              "ticks": ""
             }
            },
            "type": "scatterpolargl"
           }
          ],
          "scatterternary": [
           {
            "marker": {
             "colorbar": {
              "outlinewidth": 0,
              "ticks": ""
             }
            },
            "type": "scatterternary"
           }
          ],
          "surface": [
           {
            "colorbar": {
             "outlinewidth": 0,
             "ticks": ""
            },
            "colorscale": [
             [
              0,
              "#0d0887"
             ],
             [
              0.1111111111111111,
              "#46039f"
             ],
             [
              0.2222222222222222,
              "#7201a8"
             ],
             [
              0.3333333333333333,
              "#9c179e"
             ],
             [
              0.4444444444444444,
              "#bd3786"
             ],
             [
              0.5555555555555556,
              "#d8576b"
             ],
             [
              0.6666666666666666,
              "#ed7953"
             ],
             [
              0.7777777777777778,
              "#fb9f3a"
             ],
             [
              0.8888888888888888,
              "#fdca26"
             ],
             [
              1,
              "#f0f921"
             ]
            ],
            "type": "surface"
           }
          ],
          "table": [
           {
            "cells": {
             "fill": {
              "color": "#EBF0F8"
             },
             "line": {
              "color": "white"
             }
            },
            "header": {
             "fill": {
              "color": "#C8D4E3"
             },
             "line": {
              "color": "white"
             }
            },
            "type": "table"
           }
          ]
         },
         "layout": {
          "annotationdefaults": {
           "arrowcolor": "#2a3f5f",
           "arrowhead": 0,
           "arrowwidth": 1
          },
          "autotypenumbers": "strict",
          "coloraxis": {
           "colorbar": {
            "outlinewidth": 0,
            "ticks": ""
           }
          },
          "colorscale": {
           "diverging": [
            [
             0,
             "#8e0152"
            ],
            [
             0.1,
             "#c51b7d"
            ],
            [
             0.2,
             "#de77ae"
            ],
            [
             0.3,
             "#f1b6da"
            ],
            [
             0.4,
             "#fde0ef"
            ],
            [
             0.5,
             "#f7f7f7"
            ],
            [
             0.6,
             "#e6f5d0"
            ],
            [
             0.7,
             "#b8e186"
            ],
            [
             0.8,
             "#7fbc41"
            ],
            [
             0.9,
             "#4d9221"
            ],
            [
             1,
             "#276419"
            ]
           ],
           "sequential": [
            [
             0,
             "#0d0887"
            ],
            [
             0.1111111111111111,
             "#46039f"
            ],
            [
             0.2222222222222222,
             "#7201a8"
            ],
            [
             0.3333333333333333,
             "#9c179e"
            ],
            [
             0.4444444444444444,
             "#bd3786"
            ],
            [
             0.5555555555555556,
             "#d8576b"
            ],
            [
             0.6666666666666666,
             "#ed7953"
            ],
            [
             0.7777777777777778,
             "#fb9f3a"
            ],
            [
             0.8888888888888888,
             "#fdca26"
            ],
            [
             1,
             "#f0f921"
            ]
           ],
           "sequentialminus": [
            [
             0,
             "#0d0887"
            ],
            [
             0.1111111111111111,
             "#46039f"
            ],
            [
             0.2222222222222222,
             "#7201a8"
            ],
            [
             0.3333333333333333,
             "#9c179e"
            ],
            [
             0.4444444444444444,
             "#bd3786"
            ],
            [
             0.5555555555555556,
             "#d8576b"
            ],
            [
             0.6666666666666666,
             "#ed7953"
            ],
            [
             0.7777777777777778,
             "#fb9f3a"
            ],
            [
             0.8888888888888888,
             "#fdca26"
            ],
            [
             1,
             "#f0f921"
            ]
           ]
          },
          "colorway": [
           "#636efa",
           "#EF553B",
           "#00cc96",
           "#ab63fa",
           "#FFA15A",
           "#19d3f3",
           "#FF6692",
           "#B6E880",
           "#FF97FF",
           "#FECB52"
          ],
          "font": {
           "color": "#2a3f5f"
          },
          "geo": {
           "bgcolor": "white",
           "lakecolor": "white",
           "landcolor": "#E5ECF6",
           "showlakes": true,
           "showland": true,
           "subunitcolor": "white"
          },
          "hoverlabel": {
           "align": "left"
          },
          "hovermode": "closest",
          "mapbox": {
           "style": "light"
          },
          "paper_bgcolor": "white",
          "plot_bgcolor": "#E5ECF6",
          "polar": {
           "angularaxis": {
            "gridcolor": "white",
            "linecolor": "white",
            "ticks": ""
           },
           "bgcolor": "#E5ECF6",
           "radialaxis": {
            "gridcolor": "white",
            "linecolor": "white",
            "ticks": ""
           }
          },
          "scene": {
           "xaxis": {
            "backgroundcolor": "#E5ECF6",
            "gridcolor": "white",
            "gridwidth": 2,
            "linecolor": "white",
            "showbackground": true,
            "ticks": "",
            "zerolinecolor": "white"
           },
           "yaxis": {
            "backgroundcolor": "#E5ECF6",
            "gridcolor": "white",
            "gridwidth": 2,
            "linecolor": "white",
            "showbackground": true,
            "ticks": "",
            "zerolinecolor": "white"
           },
           "zaxis": {
            "backgroundcolor": "#E5ECF6",
            "gridcolor": "white",
            "gridwidth": 2,
            "linecolor": "white",
            "showbackground": true,
            "ticks": "",
            "zerolinecolor": "white"
           }
          },
          "shapedefaults": {
           "line": {
            "color": "#2a3f5f"
           }
          },
          "ternary": {
           "aaxis": {
            "gridcolor": "white",
            "linecolor": "white",
            "ticks": ""
           },
           "baxis": {
            "gridcolor": "white",
            "linecolor": "white",
            "ticks": ""
           },
           "bgcolor": "#E5ECF6",
           "caxis": {
            "gridcolor": "white",
            "linecolor": "white",
            "ticks": ""
           }
          },
          "title": {
           "x": 0.05
          },
          "xaxis": {
           "automargin": true,
           "gridcolor": "white",
           "linecolor": "white",
           "ticks": "",
           "title": {
            "standoff": 15
           },
           "zerolinecolor": "white",
           "zerolinewidth": 2
          },
          "yaxis": {
           "automargin": true,
           "gridcolor": "white",
           "linecolor": "white",
           "ticks": "",
           "title": {
            "standoff": 15
           },
           "zerolinecolor": "white",
           "zerolinewidth": 2
          }
         }
        },
        "title": {
         "text": "Kab Kota Nama Jawa Terbanyak"
        },
        "xaxis": {
         "anchor": "y",
         "domain": [
          0,
          1
         ],
         "title": {
          "text": "kab_kota"
         }
        },
        "yaxis": {
         "anchor": "x",
         "domain": [
          0,
          1
         ],
         "title": {
          "text": "nama"
         }
        }
       }
      }
     },
     "metadata": {},
     "output_type": "display_data"
    }
   ],
   "source": [
    "fig = px.bar(jawa_location, x='kab_kota', y='nama',text_auto=True, title='Kab Kota Nama Jawa Terbanyak')\n",
    "fig.show()"
   ]
  },
  {
   "cell_type": "code",
   "execution_count": null,
   "metadata": {},
   "outputs": [],
   "source": []
  },
  {
   "attachments": {},
   "cell_type": "markdown",
   "metadata": {},
   "source": [
    "## kristen"
   ]
  },
  {
   "cell_type": "code",
   "execution_count": 11,
   "metadata": {},
   "outputs": [
    {
     "data": {
      "text/html": [
       "<div>\n",
       "<style scoped>\n",
       "    .dataframe tbody tr th:only-of-type {\n",
       "        vertical-align: middle;\n",
       "    }\n",
       "\n",
       "    .dataframe tbody tr th {\n",
       "        vertical-align: top;\n",
       "    }\n",
       "\n",
       "    .dataframe thead th {\n",
       "        text-align: right;\n",
       "    }\n",
       "</style>\n",
       "<table border=\"1\" class=\"dataframe\">\n",
       "  <thead>\n",
       "    <tr style=\"text-align: right;\">\n",
       "      <th></th>\n",
       "      <th>nama</th>\n",
       "      <th>provinsi</th>\n",
       "      <th>kab_kota</th>\n",
       "      <th>kecamatan</th>\n",
       "      <th>desa</th>\n",
       "      <th>nama_kristen</th>\n",
       "      <th>tahun_lahir</th>\n",
       "      <th>jenisKelamin</th>\n",
       "    </tr>\n",
       "  </thead>\n",
       "  <tbody>\n",
       "    <tr>\n",
       "      <th>0</th>\n",
       "      <td>SARAH YULIA</td>\n",
       "      <td>JAWA BARAT</td>\n",
       "      <td>GARUT</td>\n",
       "      <td>BANJARWANGI</td>\n",
       "      <td>WANGUNJAYA</td>\n",
       "      <td>sarah</td>\n",
       "      <td>86</td>\n",
       "      <td>P</td>\n",
       "    </tr>\n",
       "    <tr>\n",
       "      <th>1</th>\n",
       "      <td>HERLINA</td>\n",
       "      <td>JAWA BARAT</td>\n",
       "      <td>GARUT</td>\n",
       "      <td>BANJARWANGI</td>\n",
       "      <td>WANGUNJAYA</td>\n",
       "      <td>herlina</td>\n",
       "      <td>84</td>\n",
       "      <td>P</td>\n",
       "    </tr>\n",
       "    <tr>\n",
       "      <th>2</th>\n",
       "      <td>DIANA</td>\n",
       "      <td>JAWA BARAT</td>\n",
       "      <td>GARUT</td>\n",
       "      <td>BANJARWANGI</td>\n",
       "      <td>WANGUNJAYA</td>\n",
       "      <td>diana</td>\n",
       "      <td>97</td>\n",
       "      <td>P</td>\n",
       "    </tr>\n",
       "    <tr>\n",
       "      <th>3</th>\n",
       "      <td>UMAR</td>\n",
       "      <td>JAWA BARAT</td>\n",
       "      <td>GARUT</td>\n",
       "      <td>BANJARWANGI</td>\n",
       "      <td>WANGUNJAYA</td>\n",
       "      <td>umar</td>\n",
       "      <td>45</td>\n",
       "      <td>L</td>\n",
       "    </tr>\n",
       "    <tr>\n",
       "      <th>4</th>\n",
       "      <td>AI LENI</td>\n",
       "      <td>JAWA BARAT</td>\n",
       "      <td>GARUT</td>\n",
       "      <td>BANJARWANGI</td>\n",
       "      <td>WANGUNJAYA</td>\n",
       "      <td>leni</td>\n",
       "      <td>8</td>\n",
       "      <td>P</td>\n",
       "    </tr>\n",
       "    <tr>\n",
       "      <th>5</th>\n",
       "      <td>DIKDIK IRAWAN MAJID</td>\n",
       "      <td>JAWA BARAT</td>\n",
       "      <td>GARUT</td>\n",
       "      <td>BANYURESMI</td>\n",
       "      <td>BAGENDIT</td>\n",
       "      <td>irawan</td>\n",
       "      <td>76</td>\n",
       "      <td>L</td>\n",
       "    </tr>\n",
       "    <tr>\n",
       "      <th>6</th>\n",
       "      <td>WAWAN GUNAWAN</td>\n",
       "      <td>JAWA BARAT</td>\n",
       "      <td>GARUT</td>\n",
       "      <td>BANYURESMI</td>\n",
       "      <td>BAGENDIT</td>\n",
       "      <td>gunawan</td>\n",
       "      <td>89</td>\n",
       "      <td>L</td>\n",
       "    </tr>\n",
       "    <tr>\n",
       "      <th>7</th>\n",
       "      <td>Indra Permana</td>\n",
       "      <td>JAWA BARAT</td>\n",
       "      <td>GARUT</td>\n",
       "      <td>BANYURESMI</td>\n",
       "      <td>BAGENDIT</td>\n",
       "      <td>indra</td>\n",
       "      <td>91</td>\n",
       "      <td>L</td>\n",
       "    </tr>\n",
       "    <tr>\n",
       "      <th>8</th>\n",
       "      <td>Gita Tri Mentari</td>\n",
       "      <td>JAWA BARAT</td>\n",
       "      <td>GARUT</td>\n",
       "      <td>BANYURESMI</td>\n",
       "      <td>BAGENDIT</td>\n",
       "      <td>gita</td>\n",
       "      <td>99</td>\n",
       "      <td>L</td>\n",
       "    </tr>\n",
       "    <tr>\n",
       "      <th>9</th>\n",
       "      <td>Sarah Syahidah</td>\n",
       "      <td>JAWA BARAT</td>\n",
       "      <td>GARUT</td>\n",
       "      <td>BANYURESMI</td>\n",
       "      <td>BAGENDIT</td>\n",
       "      <td>sarah</td>\n",
       "      <td>97</td>\n",
       "      <td>P</td>\n",
       "    </tr>\n",
       "  </tbody>\n",
       "</table>\n",
       "</div>"
      ],
      "text/plain": [
       "                  nama    provinsi kab_kota    kecamatan        desa   \n",
       "0          SARAH YULIA  JAWA BARAT    GARUT  BANJARWANGI  WANGUNJAYA  \\\n",
       "1              HERLINA  JAWA BARAT    GARUT  BANJARWANGI  WANGUNJAYA   \n",
       "2                DIANA  JAWA BARAT    GARUT  BANJARWANGI  WANGUNJAYA   \n",
       "3                 UMAR  JAWA BARAT    GARUT  BANJARWANGI  WANGUNJAYA   \n",
       "4              AI LENI  JAWA BARAT    GARUT  BANJARWANGI  WANGUNJAYA   \n",
       "5  DIKDIK IRAWAN MAJID  JAWA BARAT    GARUT   BANYURESMI    BAGENDIT   \n",
       "6        WAWAN GUNAWAN  JAWA BARAT    GARUT   BANYURESMI    BAGENDIT   \n",
       "7        Indra Permana  JAWA BARAT    GARUT   BANYURESMI    BAGENDIT   \n",
       "8     Gita Tri Mentari  JAWA BARAT    GARUT   BANYURESMI    BAGENDIT   \n",
       "9       Sarah Syahidah  JAWA BARAT    GARUT   BANYURESMI    BAGENDIT   \n",
       "\n",
       "  nama_kristen  tahun_lahir jenisKelamin  \n",
       "0        sarah           86            P  \n",
       "1      herlina           84            P  \n",
       "2        diana           97            P  \n",
       "3         umar           45            L  \n",
       "4         leni            8            P  \n",
       "5       irawan           76            L  \n",
       "6      gunawan           89            L  \n",
       "7        indra           91            L  \n",
       "8         gita           99            L  \n",
       "9        sarah           97            P  "
      ]
     },
     "execution_count": 11,
     "metadata": {},
     "output_type": "execute_result"
    }
   ],
   "source": [
    "kristen = con.sql(\"SELECT nama, provinsi, kab_kota, kecamatan, desa, nama_kristen, tahun_lahir, jenisKelamin FROM entity_with_coordinate2 WHERE nama_kristen IS NOT NULL\").fetchdf()\n",
    "kristen.head(10)\n"
   ]
  },
  {
   "cell_type": "code",
   "execution_count": 15,
   "metadata": {},
   "outputs": [
    {
     "data": {
      "application/vnd.plotly.v1+json": {
       "config": {
        "plotlyServerURL": "https://plot.ly"
       },
       "data": [
        {
         "alignmentgroup": "True",
         "hovertemplate": "nama_kristen=%{x}<br>count=%{y}<extra></extra>",
         "legendgroup": "",
         "marker": {
          "color": "#636efa",
          "pattern": {
           "shape": ""
          }
         },
         "name": "",
         "offsetgroup": "",
         "orientation": "v",
         "showlegend": false,
         "textposition": "auto",
         "texttemplate": "%{y}",
         "type": "bar",
         "x": [
          "diana",
          "maria",
          "hani",
          "sarah",
          "hana",
          "zakaria",
          "david",
          "vera",
          "natalia",
          "denny",
          "daniel",
          "andre",
          "lisa",
          "melinda",
          "mariana"
         ],
         "xaxis": "x",
         "y": [
          28091,
          21711,
          19376,
          18927,
          8611,
          7363,
          7062,
          6555,
          6275,
          6154,
          5847,
          5820,
          5596,
          5194,
          4943
         ],
         "yaxis": "y"
        }
       ],
       "layout": {
        "barmode": "relative",
        "legend": {
         "tracegroupgap": 0
        },
        "template": {
         "data": {
          "bar": [
           {
            "error_x": {
             "color": "#2a3f5f"
            },
            "error_y": {
             "color": "#2a3f5f"
            },
            "marker": {
             "line": {
              "color": "#E5ECF6",
              "width": 0.5
             },
             "pattern": {
              "fillmode": "overlay",
              "size": 10,
              "solidity": 0.2
             }
            },
            "type": "bar"
           }
          ],
          "barpolar": [
           {
            "marker": {
             "line": {
              "color": "#E5ECF6",
              "width": 0.5
             },
             "pattern": {
              "fillmode": "overlay",
              "size": 10,
              "solidity": 0.2
             }
            },
            "type": "barpolar"
           }
          ],
          "carpet": [
           {
            "aaxis": {
             "endlinecolor": "#2a3f5f",
             "gridcolor": "white",
             "linecolor": "white",
             "minorgridcolor": "white",
             "startlinecolor": "#2a3f5f"
            },
            "baxis": {
             "endlinecolor": "#2a3f5f",
             "gridcolor": "white",
             "linecolor": "white",
             "minorgridcolor": "white",
             "startlinecolor": "#2a3f5f"
            },
            "type": "carpet"
           }
          ],
          "choropleth": [
           {
            "colorbar": {
             "outlinewidth": 0,
             "ticks": ""
            },
            "type": "choropleth"
           }
          ],
          "contour": [
           {
            "colorbar": {
             "outlinewidth": 0,
             "ticks": ""
            },
            "colorscale": [
             [
              0,
              "#0d0887"
             ],
             [
              0.1111111111111111,
              "#46039f"
             ],
             [
              0.2222222222222222,
              "#7201a8"
             ],
             [
              0.3333333333333333,
              "#9c179e"
             ],
             [
              0.4444444444444444,
              "#bd3786"
             ],
             [
              0.5555555555555556,
              "#d8576b"
             ],
             [
              0.6666666666666666,
              "#ed7953"
             ],
             [
              0.7777777777777778,
              "#fb9f3a"
             ],
             [
              0.8888888888888888,
              "#fdca26"
             ],
             [
              1,
              "#f0f921"
             ]
            ],
            "type": "contour"
           }
          ],
          "contourcarpet": [
           {
            "colorbar": {
             "outlinewidth": 0,
             "ticks": ""
            },
            "type": "contourcarpet"
           }
          ],
          "heatmap": [
           {
            "colorbar": {
             "outlinewidth": 0,
             "ticks": ""
            },
            "colorscale": [
             [
              0,
              "#0d0887"
             ],
             [
              0.1111111111111111,
              "#46039f"
             ],
             [
              0.2222222222222222,
              "#7201a8"
             ],
             [
              0.3333333333333333,
              "#9c179e"
             ],
             [
              0.4444444444444444,
              "#bd3786"
             ],
             [
              0.5555555555555556,
              "#d8576b"
             ],
             [
              0.6666666666666666,
              "#ed7953"
             ],
             [
              0.7777777777777778,
              "#fb9f3a"
             ],
             [
              0.8888888888888888,
              "#fdca26"
             ],
             [
              1,
              "#f0f921"
             ]
            ],
            "type": "heatmap"
           }
          ],
          "heatmapgl": [
           {
            "colorbar": {
             "outlinewidth": 0,
             "ticks": ""
            },
            "colorscale": [
             [
              0,
              "#0d0887"
             ],
             [
              0.1111111111111111,
              "#46039f"
             ],
             [
              0.2222222222222222,
              "#7201a8"
             ],
             [
              0.3333333333333333,
              "#9c179e"
             ],
             [
              0.4444444444444444,
              "#bd3786"
             ],
             [
              0.5555555555555556,
              "#d8576b"
             ],
             [
              0.6666666666666666,
              "#ed7953"
             ],
             [
              0.7777777777777778,
              "#fb9f3a"
             ],
             [
              0.8888888888888888,
              "#fdca26"
             ],
             [
              1,
              "#f0f921"
             ]
            ],
            "type": "heatmapgl"
           }
          ],
          "histogram": [
           {
            "marker": {
             "pattern": {
              "fillmode": "overlay",
              "size": 10,
              "solidity": 0.2
             }
            },
            "type": "histogram"
           }
          ],
          "histogram2d": [
           {
            "colorbar": {
             "outlinewidth": 0,
             "ticks": ""
            },
            "colorscale": [
             [
              0,
              "#0d0887"
             ],
             [
              0.1111111111111111,
              "#46039f"
             ],
             [
              0.2222222222222222,
              "#7201a8"
             ],
             [
              0.3333333333333333,
              "#9c179e"
             ],
             [
              0.4444444444444444,
              "#bd3786"
             ],
             [
              0.5555555555555556,
              "#d8576b"
             ],
             [
              0.6666666666666666,
              "#ed7953"
             ],
             [
              0.7777777777777778,
              "#fb9f3a"
             ],
             [
              0.8888888888888888,
              "#fdca26"
             ],
             [
              1,
              "#f0f921"
             ]
            ],
            "type": "histogram2d"
           }
          ],
          "histogram2dcontour": [
           {
            "colorbar": {
             "outlinewidth": 0,
             "ticks": ""
            },
            "colorscale": [
             [
              0,
              "#0d0887"
             ],
             [
              0.1111111111111111,
              "#46039f"
             ],
             [
              0.2222222222222222,
              "#7201a8"
             ],
             [
              0.3333333333333333,
              "#9c179e"
             ],
             [
              0.4444444444444444,
              "#bd3786"
             ],
             [
              0.5555555555555556,
              "#d8576b"
             ],
             [
              0.6666666666666666,
              "#ed7953"
             ],
             [
              0.7777777777777778,
              "#fb9f3a"
             ],
             [
              0.8888888888888888,
              "#fdca26"
             ],
             [
              1,
              "#f0f921"
             ]
            ],
            "type": "histogram2dcontour"
           }
          ],
          "mesh3d": [
           {
            "colorbar": {
             "outlinewidth": 0,
             "ticks": ""
            },
            "type": "mesh3d"
           }
          ],
          "parcoords": [
           {
            "line": {
             "colorbar": {
              "outlinewidth": 0,
              "ticks": ""
             }
            },
            "type": "parcoords"
           }
          ],
          "pie": [
           {
            "automargin": true,
            "type": "pie"
           }
          ],
          "scatter": [
           {
            "fillpattern": {
             "fillmode": "overlay",
             "size": 10,
             "solidity": 0.2
            },
            "type": "scatter"
           }
          ],
          "scatter3d": [
           {
            "line": {
             "colorbar": {
              "outlinewidth": 0,
              "ticks": ""
             }
            },
            "marker": {
             "colorbar": {
              "outlinewidth": 0,
              "ticks": ""
             }
            },
            "type": "scatter3d"
           }
          ],
          "scattercarpet": [
           {
            "marker": {
             "colorbar": {
              "outlinewidth": 0,
              "ticks": ""
             }
            },
            "type": "scattercarpet"
           }
          ],
          "scattergeo": [
           {
            "marker": {
             "colorbar": {
              "outlinewidth": 0,
              "ticks": ""
             }
            },
            "type": "scattergeo"
           }
          ],
          "scattergl": [
           {
            "marker": {
             "colorbar": {
              "outlinewidth": 0,
              "ticks": ""
             }
            },
            "type": "scattergl"
           }
          ],
          "scattermapbox": [
           {
            "marker": {
             "colorbar": {
              "outlinewidth": 0,
              "ticks": ""
             }
            },
            "type": "scattermapbox"
           }
          ],
          "scatterpolar": [
           {
            "marker": {
             "colorbar": {
              "outlinewidth": 0,
              "ticks": ""
             }
            },
            "type": "scatterpolar"
           }
          ],
          "scatterpolargl": [
           {
            "marker": {
             "colorbar": {
              "outlinewidth": 0,
              "ticks": ""
             }
            },
            "type": "scatterpolargl"
           }
          ],
          "scatterternary": [
           {
            "marker": {
             "colorbar": {
              "outlinewidth": 0,
              "ticks": ""
             }
            },
            "type": "scatterternary"
           }
          ],
          "surface": [
           {
            "colorbar": {
             "outlinewidth": 0,
             "ticks": ""
            },
            "colorscale": [
             [
              0,
              "#0d0887"
             ],
             [
              0.1111111111111111,
              "#46039f"
             ],
             [
              0.2222222222222222,
              "#7201a8"
             ],
             [
              0.3333333333333333,
              "#9c179e"
             ],
             [
              0.4444444444444444,
              "#bd3786"
             ],
             [
              0.5555555555555556,
              "#d8576b"
             ],
             [
              0.6666666666666666,
              "#ed7953"
             ],
             [
              0.7777777777777778,
              "#fb9f3a"
             ],
             [
              0.8888888888888888,
              "#fdca26"
             ],
             [
              1,
              "#f0f921"
             ]
            ],
            "type": "surface"
           }
          ],
          "table": [
           {
            "cells": {
             "fill": {
              "color": "#EBF0F8"
             },
             "line": {
              "color": "white"
             }
            },
            "header": {
             "fill": {
              "color": "#C8D4E3"
             },
             "line": {
              "color": "white"
             }
            },
            "type": "table"
           }
          ]
         },
         "layout": {
          "annotationdefaults": {
           "arrowcolor": "#2a3f5f",
           "arrowhead": 0,
           "arrowwidth": 1
          },
          "autotypenumbers": "strict",
          "coloraxis": {
           "colorbar": {
            "outlinewidth": 0,
            "ticks": ""
           }
          },
          "colorscale": {
           "diverging": [
            [
             0,
             "#8e0152"
            ],
            [
             0.1,
             "#c51b7d"
            ],
            [
             0.2,
             "#de77ae"
            ],
            [
             0.3,
             "#f1b6da"
            ],
            [
             0.4,
             "#fde0ef"
            ],
            [
             0.5,
             "#f7f7f7"
            ],
            [
             0.6,
             "#e6f5d0"
            ],
            [
             0.7,
             "#b8e186"
            ],
            [
             0.8,
             "#7fbc41"
            ],
            [
             0.9,
             "#4d9221"
            ],
            [
             1,
             "#276419"
            ]
           ],
           "sequential": [
            [
             0,
             "#0d0887"
            ],
            [
             0.1111111111111111,
             "#46039f"
            ],
            [
             0.2222222222222222,
             "#7201a8"
            ],
            [
             0.3333333333333333,
             "#9c179e"
            ],
            [
             0.4444444444444444,
             "#bd3786"
            ],
            [
             0.5555555555555556,
             "#d8576b"
            ],
            [
             0.6666666666666666,
             "#ed7953"
            ],
            [
             0.7777777777777778,
             "#fb9f3a"
            ],
            [
             0.8888888888888888,
             "#fdca26"
            ],
            [
             1,
             "#f0f921"
            ]
           ],
           "sequentialminus": [
            [
             0,
             "#0d0887"
            ],
            [
             0.1111111111111111,
             "#46039f"
            ],
            [
             0.2222222222222222,
             "#7201a8"
            ],
            [
             0.3333333333333333,
             "#9c179e"
            ],
            [
             0.4444444444444444,
             "#bd3786"
            ],
            [
             0.5555555555555556,
             "#d8576b"
            ],
            [
             0.6666666666666666,
             "#ed7953"
            ],
            [
             0.7777777777777778,
             "#fb9f3a"
            ],
            [
             0.8888888888888888,
             "#fdca26"
            ],
            [
             1,
             "#f0f921"
            ]
           ]
          },
          "colorway": [
           "#636efa",
           "#EF553B",
           "#00cc96",
           "#ab63fa",
           "#FFA15A",
           "#19d3f3",
           "#FF6692",
           "#B6E880",
           "#FF97FF",
           "#FECB52"
          ],
          "font": {
           "color": "#2a3f5f"
          },
          "geo": {
           "bgcolor": "white",
           "lakecolor": "white",
           "landcolor": "#E5ECF6",
           "showlakes": true,
           "showland": true,
           "subunitcolor": "white"
          },
          "hoverlabel": {
           "align": "left"
          },
          "hovermode": "closest",
          "mapbox": {
           "style": "light"
          },
          "paper_bgcolor": "white",
          "plot_bgcolor": "#E5ECF6",
          "polar": {
           "angularaxis": {
            "gridcolor": "white",
            "linecolor": "white",
            "ticks": ""
           },
           "bgcolor": "#E5ECF6",
           "radialaxis": {
            "gridcolor": "white",
            "linecolor": "white",
            "ticks": ""
           }
          },
          "scene": {
           "xaxis": {
            "backgroundcolor": "#E5ECF6",
            "gridcolor": "white",
            "gridwidth": 2,
            "linecolor": "white",
            "showbackground": true,
            "ticks": "",
            "zerolinecolor": "white"
           },
           "yaxis": {
            "backgroundcolor": "#E5ECF6",
            "gridcolor": "white",
            "gridwidth": 2,
            "linecolor": "white",
            "showbackground": true,
            "ticks": "",
            "zerolinecolor": "white"
           },
           "zaxis": {
            "backgroundcolor": "#E5ECF6",
            "gridcolor": "white",
            "gridwidth": 2,
            "linecolor": "white",
            "showbackground": true,
            "ticks": "",
            "zerolinecolor": "white"
           }
          },
          "shapedefaults": {
           "line": {
            "color": "#2a3f5f"
           }
          },
          "ternary": {
           "aaxis": {
            "gridcolor": "white",
            "linecolor": "white",
            "ticks": ""
           },
           "baxis": {
            "gridcolor": "white",
            "linecolor": "white",
            "ticks": ""
           },
           "bgcolor": "#E5ECF6",
           "caxis": {
            "gridcolor": "white",
            "linecolor": "white",
            "ticks": ""
           }
          },
          "title": {
           "x": 0.05
          },
          "xaxis": {
           "automargin": true,
           "gridcolor": "white",
           "linecolor": "white",
           "ticks": "",
           "title": {
            "standoff": 15
           },
           "zerolinecolor": "white",
           "zerolinewidth": 2
          },
          "yaxis": {
           "automargin": true,
           "gridcolor": "white",
           "linecolor": "white",
           "ticks": "",
           "title": {
            "standoff": 15
           },
           "zerolinecolor": "white",
           "zerolinewidth": 2
          }
         }
        },
        "title": {
         "text": "Nama kristen Populer"
        },
        "xaxis": {
         "anchor": "y",
         "domain": [
          0,
          1
         ],
         "title": {
          "text": "nama_kristen"
         }
        },
        "yaxis": {
         "anchor": "x",
         "domain": [
          0,
          1
         ],
         "title": {
          "text": "count"
         }
        }
       }
      }
     },
     "metadata": {},
     "output_type": "display_data"
    }
   ],
   "source": [
    "kristen_bar = kristen[~kristen.nama_kristen.isin(\n",
    "    ['gunawan','indra','hendra','irawan','iskandar','herlina','leni','yuni','endah','umar','dina','winda','yunita','novita','adam','hendrik','gita','ferry','ivan']\n",
    ")].value_counts('nama_kristen').to_frame().reset_index().head(15)\n",
    "fig = px.bar(kristen_bar, x='nama_kristen', y='count',text_auto=True, title='Nama kristen Populer')\n",
    "fig.show()"
   ]
  },
  {
   "cell_type": "code",
   "execution_count": 13,
   "metadata": {},
   "outputs": [
    {
     "data": {
      "text/html": [
       "<div>\n",
       "<style scoped>\n",
       "    .dataframe tbody tr th:only-of-type {\n",
       "        vertical-align: middle;\n",
       "    }\n",
       "\n",
       "    .dataframe tbody tr th {\n",
       "        vertical-align: top;\n",
       "    }\n",
       "\n",
       "    .dataframe thead th {\n",
       "        text-align: right;\n",
       "    }\n",
       "</style>\n",
       "<table border=\"1\" class=\"dataframe\">\n",
       "  <thead>\n",
       "    <tr style=\"text-align: right;\">\n",
       "      <th></th>\n",
       "      <th>nama</th>\n",
       "      <th>provinsi</th>\n",
       "      <th>kab_kota</th>\n",
       "      <th>kecamatan</th>\n",
       "      <th>desa</th>\n",
       "      <th>nama_kristen</th>\n",
       "      <th>tahun_lahir</th>\n",
       "      <th>jenisKelamin</th>\n",
       "    </tr>\n",
       "  </thead>\n",
       "  <tbody>\n",
       "    <tr>\n",
       "      <th>0</th>\n",
       "      <td>SARAH YULIA</td>\n",
       "      <td>JAWA BARAT</td>\n",
       "      <td>GARUT</td>\n",
       "      <td>BANJARWANGI</td>\n",
       "      <td>WANGUNJAYA</td>\n",
       "      <td>sarah</td>\n",
       "      <td>86</td>\n",
       "      <td>P</td>\n",
       "    </tr>\n",
       "    <tr>\n",
       "      <th>1</th>\n",
       "      <td>HERLINA</td>\n",
       "      <td>JAWA BARAT</td>\n",
       "      <td>GARUT</td>\n",
       "      <td>BANJARWANGI</td>\n",
       "      <td>WANGUNJAYA</td>\n",
       "      <td>herlina</td>\n",
       "      <td>84</td>\n",
       "      <td>P</td>\n",
       "    </tr>\n",
       "    <tr>\n",
       "      <th>2</th>\n",
       "      <td>DIANA</td>\n",
       "      <td>JAWA BARAT</td>\n",
       "      <td>GARUT</td>\n",
       "      <td>BANJARWANGI</td>\n",
       "      <td>WANGUNJAYA</td>\n",
       "      <td>diana</td>\n",
       "      <td>97</td>\n",
       "      <td>P</td>\n",
       "    </tr>\n",
       "    <tr>\n",
       "      <th>3</th>\n",
       "      <td>UMAR</td>\n",
       "      <td>JAWA BARAT</td>\n",
       "      <td>GARUT</td>\n",
       "      <td>BANJARWANGI</td>\n",
       "      <td>WANGUNJAYA</td>\n",
       "      <td>umar</td>\n",
       "      <td>45</td>\n",
       "      <td>L</td>\n",
       "    </tr>\n",
       "    <tr>\n",
       "      <th>4</th>\n",
       "      <td>AI LENI</td>\n",
       "      <td>JAWA BARAT</td>\n",
       "      <td>GARUT</td>\n",
       "      <td>BANJARWANGI</td>\n",
       "      <td>WANGUNJAYA</td>\n",
       "      <td>leni</td>\n",
       "      <td>8</td>\n",
       "      <td>P</td>\n",
       "    </tr>\n",
       "    <tr>\n",
       "      <th>...</th>\n",
       "      <td>...</td>\n",
       "      <td>...</td>\n",
       "      <td>...</td>\n",
       "      <td>...</td>\n",
       "      <td>...</td>\n",
       "      <td>...</td>\n",
       "      <td>...</td>\n",
       "      <td>...</td>\n",
       "    </tr>\n",
       "    <tr>\n",
       "      <th>910418</th>\n",
       "      <td>GUNAWAN</td>\n",
       "      <td>JAWA BARAT</td>\n",
       "      <td>SUBANG</td>\n",
       "      <td>PUSAKAJAYA</td>\n",
       "      <td>PUSAKAJAYA</td>\n",
       "      <td>gunawan</td>\n",
       "      <td>76</td>\n",
       "      <td>L</td>\n",
       "    </tr>\n",
       "    <tr>\n",
       "      <th>910419</th>\n",
       "      <td>DENI GUNAWAN</td>\n",
       "      <td>JAWA BARAT</td>\n",
       "      <td>SUBANG</td>\n",
       "      <td>PUSAKAJAYA</td>\n",
       "      <td>PUSAKAJAYA</td>\n",
       "      <td>gunawan</td>\n",
       "      <td>80</td>\n",
       "      <td>L</td>\n",
       "    </tr>\n",
       "    <tr>\n",
       "      <th>910420</th>\n",
       "      <td>SITI HERLINA</td>\n",
       "      <td>JAWA BARAT</td>\n",
       "      <td>SUBANG</td>\n",
       "      <td>PUSAKAJAYA</td>\n",
       "      <td>PUSAKAJAYA</td>\n",
       "      <td>herlina</td>\n",
       "      <td>77</td>\n",
       "      <td>P</td>\n",
       "    </tr>\n",
       "    <tr>\n",
       "      <th>910421</th>\n",
       "      <td>DENI ISKANDAR</td>\n",
       "      <td>JAWA BARAT</td>\n",
       "      <td>SUBANG</td>\n",
       "      <td>SAGALAHERANG</td>\n",
       "      <td>CURUGAGUNG</td>\n",
       "      <td>iskandar</td>\n",
       "      <td>86</td>\n",
       "      <td>L</td>\n",
       "    </tr>\n",
       "    <tr>\n",
       "      <th>910422</th>\n",
       "      <td>EKO ISKANDAR</td>\n",
       "      <td>JAWA BARAT</td>\n",
       "      <td>BOGOR</td>\n",
       "      <td>CITEUREUP</td>\n",
       "      <td>HAMBALANG</td>\n",
       "      <td>iskandar</td>\n",
       "      <td>90</td>\n",
       "      <td>L</td>\n",
       "    </tr>\n",
       "  </tbody>\n",
       "</table>\n",
       "<p>910423 rows × 8 columns</p>\n",
       "</div>"
      ],
      "text/plain": [
       "                 nama    provinsi kab_kota     kecamatan        desa   \n",
       "0         SARAH YULIA  JAWA BARAT    GARUT   BANJARWANGI  WANGUNJAYA  \\\n",
       "1             HERLINA  JAWA BARAT    GARUT   BANJARWANGI  WANGUNJAYA   \n",
       "2               DIANA  JAWA BARAT    GARUT   BANJARWANGI  WANGUNJAYA   \n",
       "3                UMAR  JAWA BARAT    GARUT   BANJARWANGI  WANGUNJAYA   \n",
       "4             AI LENI  JAWA BARAT    GARUT   BANJARWANGI  WANGUNJAYA   \n",
       "...               ...         ...      ...           ...         ...   \n",
       "910418        GUNAWAN  JAWA BARAT   SUBANG    PUSAKAJAYA  PUSAKAJAYA   \n",
       "910419   DENI GUNAWAN  JAWA BARAT   SUBANG    PUSAKAJAYA  PUSAKAJAYA   \n",
       "910420   SITI HERLINA  JAWA BARAT   SUBANG    PUSAKAJAYA  PUSAKAJAYA   \n",
       "910421  DENI ISKANDAR  JAWA BARAT   SUBANG  SAGALAHERANG  CURUGAGUNG   \n",
       "910422   EKO ISKANDAR  JAWA BARAT    BOGOR     CITEUREUP   HAMBALANG   \n",
       "\n",
       "       nama_kristen  tahun_lahir jenisKelamin  \n",
       "0             sarah           86            P  \n",
       "1           herlina           84            P  \n",
       "2             diana           97            P  \n",
       "3              umar           45            L  \n",
       "4              leni            8            P  \n",
       "...             ...          ...          ...  \n",
       "910418      gunawan           76            L  \n",
       "910419      gunawan           80            L  \n",
       "910420      herlina           77            P  \n",
       "910421     iskandar           86            L  \n",
       "910422     iskandar           90            L  \n",
       "\n",
       "[910423 rows x 8 columns]"
      ]
     },
     "execution_count": 13,
     "metadata": {},
     "output_type": "execute_result"
    }
   ],
   "source": [
    "['gunawan','indra','hendra','irawan','iskandar','herlina','leni','yuni','endah','umar','dina','winda','yunita','novita','adam','hendrik','gita','ferry','ivan']"
   ]
  },
  {
   "cell_type": "code",
   "execution_count": null,
   "metadata": {},
   "outputs": [],
   "source": []
  }
 ],
 "metadata": {
  "kernelspec": {
   "display_name": "Python 3",
   "language": "python",
   "name": "python3"
  },
  "language_info": {
   "codemirror_mode": {
    "name": "ipython",
    "version": 3
   },
   "file_extension": ".py",
   "mimetype": "text/x-python",
   "name": "python",
   "nbconvert_exporter": "python",
   "pygments_lexer": "ipython3",
   "version": "3.11.0"
  },
  "orig_nbformat": 4
 },
 "nbformat": 4,
 "nbformat_minor": 2
}
