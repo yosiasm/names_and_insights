{
 "cells": [
  {
   "attachments": {},
   "cell_type": "markdown",
   "metadata": {},
   "source": [
    "# Exploration\n",
    "- astrologi V\n",
    "- produksi V\n",
    "- trend nama X\n",
    "- daerah pendatang X\n",
    "\n",
    "### column\n",
    "nama, nik, tempatLahir, jenisKelamin, tps, provinsi, kab_kota, \n",
    "\n",
    "kecamatan, desa, newcomer, nama_sunda, nama_jawa, nama_batak, \n",
    "\n",
    "bintang, inisial_r, nama_kristen, umur, tahun_lahir, tanggal_produksi, \n",
    "\n",
    "hari_produksi, unique_location, unique_hash, lat, long, count, unique_location:1,\n",
    "\n",
    " lat:1, long:1, lat_clean, long_clean"
   ]
  },
  {
   "cell_type": "code",
   "execution_count": 2,
   "metadata": {},
   "outputs": [],
   "source": [
    "import pandas as pd\n",
    "import duckdb\n",
    "con = duckdb.connect('entity.db')"
   ]
  },
  {
   "cell_type": "code",
   "execution_count": 3,
   "metadata": {},
   "outputs": [],
   "source": [
    "from datetime import datetime, timedelta\n",
    "import plotly.express as px"
   ]
  },
  {
   "attachments": {},
   "cell_type": "markdown",
   "metadata": {},
   "source": [
    "# Astrologi"
   ]
  },
  {
   "cell_type": "code",
   "execution_count": 43,
   "metadata": {},
   "outputs": [],
   "source": [
    "bintang = con.sql(\"SELECT nama, provinsi, kab_kota, kecamatan, desa, bintang, umur FROM entity_with_coordinate2 WHERE bintang IS NOT NULL\").fetchdf()\n",
    "bintang = bintang[bintang.umur<=2000]\n"
   ]
  },
  {
   "cell_type": "code",
   "execution_count": 44,
   "metadata": {},
   "outputs": [
    {
     "data": {
      "text/html": [
       "<div>\n",
       "<style scoped>\n",
       "    .dataframe tbody tr th:only-of-type {\n",
       "        vertical-align: middle;\n",
       "    }\n",
       "\n",
       "    .dataframe tbody tr th {\n",
       "        vertical-align: top;\n",
       "    }\n",
       "\n",
       "    .dataframe thead th {\n",
       "        text-align: right;\n",
       "    }\n",
       "</style>\n",
       "<table border=\"1\" class=\"dataframe\">\n",
       "  <thead>\n",
       "    <tr style=\"text-align: right;\">\n",
       "      <th></th>\n",
       "      <th>nama</th>\n",
       "      <th>provinsi</th>\n",
       "      <th>kab_kota</th>\n",
       "      <th>kecamatan</th>\n",
       "      <th>desa</th>\n",
       "      <th>signs</th>\n",
       "      <th>umur</th>\n",
       "      <th>tahun_lahir</th>\n",
       "    </tr>\n",
       "  </thead>\n",
       "  <tbody>\n",
       "    <tr>\n",
       "      <th>0</th>\n",
       "      <td>NYANYAH</td>\n",
       "      <td>JAWA BARAT</td>\n",
       "      <td>GARUT</td>\n",
       "      <td>BANJARWANGI</td>\n",
       "      <td>WANGUNJAYA</td>\n",
       "      <td>taurus</td>\n",
       "      <td>49</td>\n",
       "      <td>1949</td>\n",
       "    </tr>\n",
       "    <tr>\n",
       "      <th>1</th>\n",
       "      <td>JALALUDIN</td>\n",
       "      <td>JAWA BARAT</td>\n",
       "      <td>GARUT</td>\n",
       "      <td>BANJARWANGI</td>\n",
       "      <td>WANGUNJAYA</td>\n",
       "      <td>libra</td>\n",
       "      <td>42</td>\n",
       "      <td>1942</td>\n",
       "    </tr>\n",
       "    <tr>\n",
       "      <th>2</th>\n",
       "      <td>AEP SAEPUL MALIK</td>\n",
       "      <td>JAWA BARAT</td>\n",
       "      <td>GARUT</td>\n",
       "      <td>BANJARWANGI</td>\n",
       "      <td>WANGUNJAYA</td>\n",
       "      <td>leo</td>\n",
       "      <td>32</td>\n",
       "      <td>1932</td>\n",
       "    </tr>\n",
       "  </tbody>\n",
       "</table>\n",
       "</div>"
      ],
      "text/plain": [
       "               nama    provinsi kab_kota    kecamatan        desa   signs   \n",
       "0           NYANYAH  JAWA BARAT    GARUT  BANJARWANGI  WANGUNJAYA  taurus  \\\n",
       "1         JALALUDIN  JAWA BARAT    GARUT  BANJARWANGI  WANGUNJAYA   libra   \n",
       "2  AEP SAEPUL MALIK  JAWA BARAT    GARUT  BANJARWANGI  WANGUNJAYA     leo   \n",
       "\n",
       "   umur  tahun_lahir  \n",
       "0    49         1949  \n",
       "1    42         1942  \n",
       "2    32         1932  "
      ]
     },
     "execution_count": 44,
     "metadata": {},
     "output_type": "execute_result"
    }
   ],
   "source": [
    "bintang['tahun_lahir'] = bintang['umur']\n",
    "bintang['umur'] = bintang['tahun_lahir'] - 1900\n",
    "bintang.rename(columns={'bintang':'signs'},inplace=True)\n",
    "bintang.head(3)"
   ]
  },
  {
   "cell_type": "code",
   "execution_count": 45,
   "metadata": {},
   "outputs": [
    {
     "data": {
      "text/html": [
       "<div>\n",
       "<style scoped>\n",
       "    .dataframe tbody tr th:only-of-type {\n",
       "        vertical-align: middle;\n",
       "    }\n",
       "\n",
       "    .dataframe tbody tr th {\n",
       "        vertical-align: top;\n",
       "    }\n",
       "\n",
       "    .dataframe thead th {\n",
       "        text-align: right;\n",
       "    }\n",
       "</style>\n",
       "<table border=\"1\" class=\"dataframe\">\n",
       "  <thead>\n",
       "    <tr style=\"text-align: right;\">\n",
       "      <th></th>\n",
       "      <th>signs</th>\n",
       "      <th>count</th>\n",
       "    </tr>\n",
       "  </thead>\n",
       "  <tbody>\n",
       "    <tr>\n",
       "      <th>0</th>\n",
       "      <td>cancer</td>\n",
       "      <td>3977572</td>\n",
       "    </tr>\n",
       "    <tr>\n",
       "      <th>1</th>\n",
       "      <td>gemini</td>\n",
       "      <td>3099980</td>\n",
       "    </tr>\n",
       "    <tr>\n",
       "      <th>2</th>\n",
       "      <td>taurus</td>\n",
       "      <td>2879968</td>\n",
       "    </tr>\n",
       "  </tbody>\n",
       "</table>\n",
       "</div>"
      ],
      "text/plain": [
       "    signs    count\n",
       "0  cancer  3977572\n",
       "1  gemini  3099980\n",
       "2  taurus  2879968"
      ]
     },
     "execution_count": 45,
     "metadata": {},
     "output_type": "execute_result"
    }
   ],
   "source": [
    "bintang_size = bintang.value_counts('signs').to_frame().reset_index()\n",
    "bintang_size.head(3)"
   ]
  },
  {
   "cell_type": "code",
   "execution_count": 46,
   "metadata": {},
   "outputs": [
    {
     "data": {
      "application/vnd.plotly.v1+json": {
       "config": {
        "plotlyServerURL": "https://plot.ly"
       },
       "data": [
        {
         "domain": {
          "x": [
           0,
           1
          ],
          "y": [
           0,
           1
          ]
         },
         "hovertemplate": "signs=%{label}<br>count=%{value}<extra></extra>",
         "labels": [
          "cancer",
          "gemini",
          "taurus",
          "leo",
          "aries",
          "pisces",
          "aquarius",
          "virgo",
          "libra",
          "scorpio",
          "sagittarius"
         ],
         "legendgroup": "",
         "name": "",
         "showlegend": false,
         "textinfo": "percent+label",
         "textposition": "inside",
         "type": "pie",
         "values": [
          3977572,
          3099980,
          2879968,
          2776976,
          2584547,
          2403733,
          2221775,
          2164652,
          2144739,
          1971236,
          1921320
         ]
        }
       ],
       "layout": {
        "legend": {
         "tracegroupgap": 0
        },
        "template": {
         "data": {
          "bar": [
           {
            "error_x": {
             "color": "#2a3f5f"
            },
            "error_y": {
             "color": "#2a3f5f"
            },
            "marker": {
             "line": {
              "color": "#E5ECF6",
              "width": 0.5
             },
             "pattern": {
              "fillmode": "overlay",
              "size": 10,
              "solidity": 0.2
             }
            },
            "type": "bar"
           }
          ],
          "barpolar": [
           {
            "marker": {
             "line": {
              "color": "#E5ECF6",
              "width": 0.5
             },
             "pattern": {
              "fillmode": "overlay",
              "size": 10,
              "solidity": 0.2
             }
            },
            "type": "barpolar"
           }
          ],
          "carpet": [
           {
            "aaxis": {
             "endlinecolor": "#2a3f5f",
             "gridcolor": "white",
             "linecolor": "white",
             "minorgridcolor": "white",
             "startlinecolor": "#2a3f5f"
            },
            "baxis": {
             "endlinecolor": "#2a3f5f",
             "gridcolor": "white",
             "linecolor": "white",
             "minorgridcolor": "white",
             "startlinecolor": "#2a3f5f"
            },
            "type": "carpet"
           }
          ],
          "choropleth": [
           {
            "colorbar": {
             "outlinewidth": 0,
             "ticks": ""
            },
            "type": "choropleth"
           }
          ],
          "contour": [
           {
            "colorbar": {
             "outlinewidth": 0,
             "ticks": ""
            },
            "colorscale": [
             [
              0,
              "#0d0887"
             ],
             [
              0.1111111111111111,
              "#46039f"
             ],
             [
              0.2222222222222222,
              "#7201a8"
             ],
             [
              0.3333333333333333,
              "#9c179e"
             ],
             [
              0.4444444444444444,
              "#bd3786"
             ],
             [
              0.5555555555555556,
              "#d8576b"
             ],
             [
              0.6666666666666666,
              "#ed7953"
             ],
             [
              0.7777777777777778,
              "#fb9f3a"
             ],
             [
              0.8888888888888888,
              "#fdca26"
             ],
             [
              1,
              "#f0f921"
             ]
            ],
            "type": "contour"
           }
          ],
          "contourcarpet": [
           {
            "colorbar": {
             "outlinewidth": 0,
             "ticks": ""
            },
            "type": "contourcarpet"
           }
          ],
          "heatmap": [
           {
            "colorbar": {
             "outlinewidth": 0,
             "ticks": ""
            },
            "colorscale": [
             [
              0,
              "#0d0887"
             ],
             [
              0.1111111111111111,
              "#46039f"
             ],
             [
              0.2222222222222222,
              "#7201a8"
             ],
             [
              0.3333333333333333,
              "#9c179e"
             ],
             [
              0.4444444444444444,
              "#bd3786"
             ],
             [
              0.5555555555555556,
              "#d8576b"
             ],
             [
              0.6666666666666666,
              "#ed7953"
             ],
             [
              0.7777777777777778,
              "#fb9f3a"
             ],
             [
              0.8888888888888888,
              "#fdca26"
             ],
             [
              1,
              "#f0f921"
             ]
            ],
            "type": "heatmap"
           }
          ],
          "heatmapgl": [
           {
            "colorbar": {
             "outlinewidth": 0,
             "ticks": ""
            },
            "colorscale": [
             [
              0,
              "#0d0887"
             ],
             [
              0.1111111111111111,
              "#46039f"
             ],
             [
              0.2222222222222222,
              "#7201a8"
             ],
             [
              0.3333333333333333,
              "#9c179e"
             ],
             [
              0.4444444444444444,
              "#bd3786"
             ],
             [
              0.5555555555555556,
              "#d8576b"
             ],
             [
              0.6666666666666666,
              "#ed7953"
             ],
             [
              0.7777777777777778,
              "#fb9f3a"
             ],
             [
              0.8888888888888888,
              "#fdca26"
             ],
             [
              1,
              "#f0f921"
             ]
            ],
            "type": "heatmapgl"
           }
          ],
          "histogram": [
           {
            "marker": {
             "pattern": {
              "fillmode": "overlay",
              "size": 10,
              "solidity": 0.2
             }
            },
            "type": "histogram"
           }
          ],
          "histogram2d": [
           {
            "colorbar": {
             "outlinewidth": 0,
             "ticks": ""
            },
            "colorscale": [
             [
              0,
              "#0d0887"
             ],
             [
              0.1111111111111111,
              "#46039f"
             ],
             [
              0.2222222222222222,
              "#7201a8"
             ],
             [
              0.3333333333333333,
              "#9c179e"
             ],
             [
              0.4444444444444444,
              "#bd3786"
             ],
             [
              0.5555555555555556,
              "#d8576b"
             ],
             [
              0.6666666666666666,
              "#ed7953"
             ],
             [
              0.7777777777777778,
              "#fb9f3a"
             ],
             [
              0.8888888888888888,
              "#fdca26"
             ],
             [
              1,
              "#f0f921"
             ]
            ],
            "type": "histogram2d"
           }
          ],
          "histogram2dcontour": [
           {
            "colorbar": {
             "outlinewidth": 0,
             "ticks": ""
            },
            "colorscale": [
             [
              0,
              "#0d0887"
             ],
             [
              0.1111111111111111,
              "#46039f"
             ],
             [
              0.2222222222222222,
              "#7201a8"
             ],
             [
              0.3333333333333333,
              "#9c179e"
             ],
             [
              0.4444444444444444,
              "#bd3786"
             ],
             [
              0.5555555555555556,
              "#d8576b"
             ],
             [
              0.6666666666666666,
              "#ed7953"
             ],
             [
              0.7777777777777778,
              "#fb9f3a"
             ],
             [
              0.8888888888888888,
              "#fdca26"
             ],
             [
              1,
              "#f0f921"
             ]
            ],
            "type": "histogram2dcontour"
           }
          ],
          "mesh3d": [
           {
            "colorbar": {
             "outlinewidth": 0,
             "ticks": ""
            },
            "type": "mesh3d"
           }
          ],
          "parcoords": [
           {
            "line": {
             "colorbar": {
              "outlinewidth": 0,
              "ticks": ""
             }
            },
            "type": "parcoords"
           }
          ],
          "pie": [
           {
            "automargin": true,
            "type": "pie"
           }
          ],
          "scatter": [
           {
            "fillpattern": {
             "fillmode": "overlay",
             "size": 10,
             "solidity": 0.2
            },
            "type": "scatter"
           }
          ],
          "scatter3d": [
           {
            "line": {
             "colorbar": {
              "outlinewidth": 0,
              "ticks": ""
             }
            },
            "marker": {
             "colorbar": {
              "outlinewidth": 0,
              "ticks": ""
             }
            },
            "type": "scatter3d"
           }
          ],
          "scattercarpet": [
           {
            "marker": {
             "colorbar": {
              "outlinewidth": 0,
              "ticks": ""
             }
            },
            "type": "scattercarpet"
           }
          ],
          "scattergeo": [
           {
            "marker": {
             "colorbar": {
              "outlinewidth": 0,
              "ticks": ""
             }
            },
            "type": "scattergeo"
           }
          ],
          "scattergl": [
           {
            "marker": {
             "colorbar": {
              "outlinewidth": 0,
              "ticks": ""
             }
            },
            "type": "scattergl"
           }
          ],
          "scattermapbox": [
           {
            "marker": {
             "colorbar": {
              "outlinewidth": 0,
              "ticks": ""
             }
            },
            "type": "scattermapbox"
           }
          ],
          "scatterpolar": [
           {
            "marker": {
             "colorbar": {
              "outlinewidth": 0,
              "ticks": ""
             }
            },
            "type": "scatterpolar"
           }
          ],
          "scatterpolargl": [
           {
            "marker": {
             "colorbar": {
              "outlinewidth": 0,
              "ticks": ""
             }
            },
            "type": "scatterpolargl"
           }
          ],
          "scatterternary": [
           {
            "marker": {
             "colorbar": {
              "outlinewidth": 0,
              "ticks": ""
             }
            },
            "type": "scatterternary"
           }
          ],
          "surface": [
           {
            "colorbar": {
             "outlinewidth": 0,
             "ticks": ""
            },
            "colorscale": [
             [
              0,
              "#0d0887"
             ],
             [
              0.1111111111111111,
              "#46039f"
             ],
             [
              0.2222222222222222,
              "#7201a8"
             ],
             [
              0.3333333333333333,
              "#9c179e"
             ],
             [
              0.4444444444444444,
              "#bd3786"
             ],
             [
              0.5555555555555556,
              "#d8576b"
             ],
             [
              0.6666666666666666,
              "#ed7953"
             ],
             [
              0.7777777777777778,
              "#fb9f3a"
             ],
             [
              0.8888888888888888,
              "#fdca26"
             ],
             [
              1,
              "#f0f921"
             ]
            ],
            "type": "surface"
           }
          ],
          "table": [
           {
            "cells": {
             "fill": {
              "color": "#EBF0F8"
             },
             "line": {
              "color": "white"
             }
            },
            "header": {
             "fill": {
              "color": "#C8D4E3"
             },
             "line": {
              "color": "white"
             }
            },
            "type": "table"
           }
          ]
         },
         "layout": {
          "annotationdefaults": {
           "arrowcolor": "#2a3f5f",
           "arrowhead": 0,
           "arrowwidth": 1
          },
          "autotypenumbers": "strict",
          "coloraxis": {
           "colorbar": {
            "outlinewidth": 0,
            "ticks": ""
           }
          },
          "colorscale": {
           "diverging": [
            [
             0,
             "#8e0152"
            ],
            [
             0.1,
             "#c51b7d"
            ],
            [
             0.2,
             "#de77ae"
            ],
            [
             0.3,
             "#f1b6da"
            ],
            [
             0.4,
             "#fde0ef"
            ],
            [
             0.5,
             "#f7f7f7"
            ],
            [
             0.6,
             "#e6f5d0"
            ],
            [
             0.7,
             "#b8e186"
            ],
            [
             0.8,
             "#7fbc41"
            ],
            [
             0.9,
             "#4d9221"
            ],
            [
             1,
             "#276419"
            ]
           ],
           "sequential": [
            [
             0,
             "#0d0887"
            ],
            [
             0.1111111111111111,
             "#46039f"
            ],
            [
             0.2222222222222222,
             "#7201a8"
            ],
            [
             0.3333333333333333,
             "#9c179e"
            ],
            [
             0.4444444444444444,
             "#bd3786"
            ],
            [
             0.5555555555555556,
             "#d8576b"
            ],
            [
             0.6666666666666666,
             "#ed7953"
            ],
            [
             0.7777777777777778,
             "#fb9f3a"
            ],
            [
             0.8888888888888888,
             "#fdca26"
            ],
            [
             1,
             "#f0f921"
            ]
           ],
           "sequentialminus": [
            [
             0,
             "#0d0887"
            ],
            [
             0.1111111111111111,
             "#46039f"
            ],
            [
             0.2222222222222222,
             "#7201a8"
            ],
            [
             0.3333333333333333,
             "#9c179e"
            ],
            [
             0.4444444444444444,
             "#bd3786"
            ],
            [
             0.5555555555555556,
             "#d8576b"
            ],
            [
             0.6666666666666666,
             "#ed7953"
            ],
            [
             0.7777777777777778,
             "#fb9f3a"
            ],
            [
             0.8888888888888888,
             "#fdca26"
            ],
            [
             1,
             "#f0f921"
            ]
           ]
          },
          "colorway": [
           "#636efa",
           "#EF553B",
           "#00cc96",
           "#ab63fa",
           "#FFA15A",
           "#19d3f3",
           "#FF6692",
           "#B6E880",
           "#FF97FF",
           "#FECB52"
          ],
          "font": {
           "color": "#2a3f5f"
          },
          "geo": {
           "bgcolor": "white",
           "lakecolor": "white",
           "landcolor": "#E5ECF6",
           "showlakes": true,
           "showland": true,
           "subunitcolor": "white"
          },
          "hoverlabel": {
           "align": "left"
          },
          "hovermode": "closest",
          "mapbox": {
           "style": "light"
          },
          "paper_bgcolor": "white",
          "plot_bgcolor": "#E5ECF6",
          "polar": {
           "angularaxis": {
            "gridcolor": "white",
            "linecolor": "white",
            "ticks": ""
           },
           "bgcolor": "#E5ECF6",
           "radialaxis": {
            "gridcolor": "white",
            "linecolor": "white",
            "ticks": ""
           }
          },
          "scene": {
           "xaxis": {
            "backgroundcolor": "#E5ECF6",
            "gridcolor": "white",
            "gridwidth": 2,
            "linecolor": "white",
            "showbackground": true,
            "ticks": "",
            "zerolinecolor": "white"
           },
           "yaxis": {
            "backgroundcolor": "#E5ECF6",
            "gridcolor": "white",
            "gridwidth": 2,
            "linecolor": "white",
            "showbackground": true,
            "ticks": "",
            "zerolinecolor": "white"
           },
           "zaxis": {
            "backgroundcolor": "#E5ECF6",
            "gridcolor": "white",
            "gridwidth": 2,
            "linecolor": "white",
            "showbackground": true,
            "ticks": "",
            "zerolinecolor": "white"
           }
          },
          "shapedefaults": {
           "line": {
            "color": "#2a3f5f"
           }
          },
          "ternary": {
           "aaxis": {
            "gridcolor": "white",
            "linecolor": "white",
            "ticks": ""
           },
           "baxis": {
            "gridcolor": "white",
            "linecolor": "white",
            "ticks": ""
           },
           "bgcolor": "#E5ECF6",
           "caxis": {
            "gridcolor": "white",
            "linecolor": "white",
            "ticks": ""
           }
          },
          "title": {
           "x": 0.05
          },
          "xaxis": {
           "automargin": true,
           "gridcolor": "white",
           "linecolor": "white",
           "ticks": "",
           "title": {
            "standoff": 15
           },
           "zerolinecolor": "white",
           "zerolinewidth": 2
          },
          "yaxis": {
           "automargin": true,
           "gridcolor": "white",
           "linecolor": "white",
           "ticks": "",
           "title": {
            "standoff": 15
           },
           "zerolinecolor": "white",
           "zerolinewidth": 2
          }
         }
        },
        "title": {
         "text": "Zodiac Sign In West Java"
        }
       }
      }
     },
     "metadata": {},
     "output_type": "display_data"
    }
   ],
   "source": [
    "fig = px.pie(bintang_size, values='count', names='signs', title='Zodiac Sign In West Java')\n",
    "fig.update_traces(textposition='inside', textinfo='percent+label',showlegend=False)\n",
    "fig.show()"
   ]
  },
  {
   "cell_type": "code",
   "execution_count": 47,
   "metadata": {},
   "outputs": [
    {
     "data": {
      "application/vnd.plotly.v1+json": {
       "config": {
        "plotlyServerURL": "https://plot.ly"
       },
       "data": [
        {
         "alignmentgroup": "True",
         "hovertemplate": "count=%{x}<br>signs=%{y}<extra></extra>",
         "legendgroup": "",
         "marker": {
          "color": "#636efa",
          "pattern": {
           "shape": ""
          }
         },
         "name": "",
         "offsetgroup": "",
         "orientation": "h",
         "showlegend": false,
         "textposition": "auto",
         "texttemplate": "%{x}",
         "type": "bar",
         "x": [
          2584547,
          2776976,
          2879968,
          3099980,
          3977572
         ],
         "xaxis": "x",
         "y": [
          "aries",
          "leo",
          "taurus",
          "gemini",
          "cancer"
         ],
         "yaxis": "y"
        }
       ],
       "layout": {
        "barmode": "relative",
        "legend": {
         "tracegroupgap": 0
        },
        "margin": {
         "t": 60
        },
        "template": {
         "data": {
          "bar": [
           {
            "error_x": {
             "color": "#2a3f5f"
            },
            "error_y": {
             "color": "#2a3f5f"
            },
            "marker": {
             "line": {
              "color": "#E5ECF6",
              "width": 0.5
             },
             "pattern": {
              "fillmode": "overlay",
              "size": 10,
              "solidity": 0.2
             }
            },
            "type": "bar"
           }
          ],
          "barpolar": [
           {
            "marker": {
             "line": {
              "color": "#E5ECF6",
              "width": 0.5
             },
             "pattern": {
              "fillmode": "overlay",
              "size": 10,
              "solidity": 0.2
             }
            },
            "type": "barpolar"
           }
          ],
          "carpet": [
           {
            "aaxis": {
             "endlinecolor": "#2a3f5f",
             "gridcolor": "white",
             "linecolor": "white",
             "minorgridcolor": "white",
             "startlinecolor": "#2a3f5f"
            },
            "baxis": {
             "endlinecolor": "#2a3f5f",
             "gridcolor": "white",
             "linecolor": "white",
             "minorgridcolor": "white",
             "startlinecolor": "#2a3f5f"
            },
            "type": "carpet"
           }
          ],
          "choropleth": [
           {
            "colorbar": {
             "outlinewidth": 0,
             "ticks": ""
            },
            "type": "choropleth"
           }
          ],
          "contour": [
           {
            "colorbar": {
             "outlinewidth": 0,
             "ticks": ""
            },
            "colorscale": [
             [
              0,
              "#0d0887"
             ],
             [
              0.1111111111111111,
              "#46039f"
             ],
             [
              0.2222222222222222,
              "#7201a8"
             ],
             [
              0.3333333333333333,
              "#9c179e"
             ],
             [
              0.4444444444444444,
              "#bd3786"
             ],
             [
              0.5555555555555556,
              "#d8576b"
             ],
             [
              0.6666666666666666,
              "#ed7953"
             ],
             [
              0.7777777777777778,
              "#fb9f3a"
             ],
             [
              0.8888888888888888,
              "#fdca26"
             ],
             [
              1,
              "#f0f921"
             ]
            ],
            "type": "contour"
           }
          ],
          "contourcarpet": [
           {
            "colorbar": {
             "outlinewidth": 0,
             "ticks": ""
            },
            "type": "contourcarpet"
           }
          ],
          "heatmap": [
           {
            "colorbar": {
             "outlinewidth": 0,
             "ticks": ""
            },
            "colorscale": [
             [
              0,
              "#0d0887"
             ],
             [
              0.1111111111111111,
              "#46039f"
             ],
             [
              0.2222222222222222,
              "#7201a8"
             ],
             [
              0.3333333333333333,
              "#9c179e"
             ],
             [
              0.4444444444444444,
              "#bd3786"
             ],
             [
              0.5555555555555556,
              "#d8576b"
             ],
             [
              0.6666666666666666,
              "#ed7953"
             ],
             [
              0.7777777777777778,
              "#fb9f3a"
             ],
             [
              0.8888888888888888,
              "#fdca26"
             ],
             [
              1,
              "#f0f921"
             ]
            ],
            "type": "heatmap"
           }
          ],
          "heatmapgl": [
           {
            "colorbar": {
             "outlinewidth": 0,
             "ticks": ""
            },
            "colorscale": [
             [
              0,
              "#0d0887"
             ],
             [
              0.1111111111111111,
              "#46039f"
             ],
             [
              0.2222222222222222,
              "#7201a8"
             ],
             [
              0.3333333333333333,
              "#9c179e"
             ],
             [
              0.4444444444444444,
              "#bd3786"
             ],
             [
              0.5555555555555556,
              "#d8576b"
             ],
             [
              0.6666666666666666,
              "#ed7953"
             ],
             [
              0.7777777777777778,
              "#fb9f3a"
             ],
             [
              0.8888888888888888,
              "#fdca26"
             ],
             [
              1,
              "#f0f921"
             ]
            ],
            "type": "heatmapgl"
           }
          ],
          "histogram": [
           {
            "marker": {
             "pattern": {
              "fillmode": "overlay",
              "size": 10,
              "solidity": 0.2
             }
            },
            "type": "histogram"
           }
          ],
          "histogram2d": [
           {
            "colorbar": {
             "outlinewidth": 0,
             "ticks": ""
            },
            "colorscale": [
             [
              0,
              "#0d0887"
             ],
             [
              0.1111111111111111,
              "#46039f"
             ],
             [
              0.2222222222222222,
              "#7201a8"
             ],
             [
              0.3333333333333333,
              "#9c179e"
             ],
             [
              0.4444444444444444,
              "#bd3786"
             ],
             [
              0.5555555555555556,
              "#d8576b"
             ],
             [
              0.6666666666666666,
              "#ed7953"
             ],
             [
              0.7777777777777778,
              "#fb9f3a"
             ],
             [
              0.8888888888888888,
              "#fdca26"
             ],
             [
              1,
              "#f0f921"
             ]
            ],
            "type": "histogram2d"
           }
          ],
          "histogram2dcontour": [
           {
            "colorbar": {
             "outlinewidth": 0,
             "ticks": ""
            },
            "colorscale": [
             [
              0,
              "#0d0887"
             ],
             [
              0.1111111111111111,
              "#46039f"
             ],
             [
              0.2222222222222222,
              "#7201a8"
             ],
             [
              0.3333333333333333,
              "#9c179e"
             ],
             [
              0.4444444444444444,
              "#bd3786"
             ],
             [
              0.5555555555555556,
              "#d8576b"
             ],
             [
              0.6666666666666666,
              "#ed7953"
             ],
             [
              0.7777777777777778,
              "#fb9f3a"
             ],
             [
              0.8888888888888888,
              "#fdca26"
             ],
             [
              1,
              "#f0f921"
             ]
            ],
            "type": "histogram2dcontour"
           }
          ],
          "mesh3d": [
           {
            "colorbar": {
             "outlinewidth": 0,
             "ticks": ""
            },
            "type": "mesh3d"
           }
          ],
          "parcoords": [
           {
            "line": {
             "colorbar": {
              "outlinewidth": 0,
              "ticks": ""
             }
            },
            "type": "parcoords"
           }
          ],
          "pie": [
           {
            "automargin": true,
            "type": "pie"
           }
          ],
          "scatter": [
           {
            "fillpattern": {
             "fillmode": "overlay",
             "size": 10,
             "solidity": 0.2
            },
            "type": "scatter"
           }
          ],
          "scatter3d": [
           {
            "line": {
             "colorbar": {
              "outlinewidth": 0,
              "ticks": ""
             }
            },
            "marker": {
             "colorbar": {
              "outlinewidth": 0,
              "ticks": ""
             }
            },
            "type": "scatter3d"
           }
          ],
          "scattercarpet": [
           {
            "marker": {
             "colorbar": {
              "outlinewidth": 0,
              "ticks": ""
             }
            },
            "type": "scattercarpet"
           }
          ],
          "scattergeo": [
           {
            "marker": {
             "colorbar": {
              "outlinewidth": 0,
              "ticks": ""
             }
            },
            "type": "scattergeo"
           }
          ],
          "scattergl": [
           {
            "marker": {
             "colorbar": {
              "outlinewidth": 0,
              "ticks": ""
             }
            },
            "type": "scattergl"
           }
          ],
          "scattermapbox": [
           {
            "marker": {
             "colorbar": {
              "outlinewidth": 0,
              "ticks": ""
             }
            },
            "type": "scattermapbox"
           }
          ],
          "scatterpolar": [
           {
            "marker": {
             "colorbar": {
              "outlinewidth": 0,
              "ticks": ""
             }
            },
            "type": "scatterpolar"
           }
          ],
          "scatterpolargl": [
           {
            "marker": {
             "colorbar": {
              "outlinewidth": 0,
              "ticks": ""
             }
            },
            "type": "scatterpolargl"
           }
          ],
          "scatterternary": [
           {
            "marker": {
             "colorbar": {
              "outlinewidth": 0,
              "ticks": ""
             }
            },
            "type": "scatterternary"
           }
          ],
          "surface": [
           {
            "colorbar": {
             "outlinewidth": 0,
             "ticks": ""
            },
            "colorscale": [
             [
              0,
              "#0d0887"
             ],
             [
              0.1111111111111111,
              "#46039f"
             ],
             [
              0.2222222222222222,
              "#7201a8"
             ],
             [
              0.3333333333333333,
              "#9c179e"
             ],
             [
              0.4444444444444444,
              "#bd3786"
             ],
             [
              0.5555555555555556,
              "#d8576b"
             ],
             [
              0.6666666666666666,
              "#ed7953"
             ],
             [
              0.7777777777777778,
              "#fb9f3a"
             ],
             [
              0.8888888888888888,
              "#fdca26"
             ],
             [
              1,
              "#f0f921"
             ]
            ],
            "type": "surface"
           }
          ],
          "table": [
           {
            "cells": {
             "fill": {
              "color": "#EBF0F8"
             },
             "line": {
              "color": "white"
             }
            },
            "header": {
             "fill": {
              "color": "#C8D4E3"
             },
             "line": {
              "color": "white"
             }
            },
            "type": "table"
           }
          ]
         },
         "layout": {
          "annotationdefaults": {
           "arrowcolor": "#2a3f5f",
           "arrowhead": 0,
           "arrowwidth": 1
          },
          "autotypenumbers": "strict",
          "coloraxis": {
           "colorbar": {
            "outlinewidth": 0,
            "ticks": ""
           }
          },
          "colorscale": {
           "diverging": [
            [
             0,
             "#8e0152"
            ],
            [
             0.1,
             "#c51b7d"
            ],
            [
             0.2,
             "#de77ae"
            ],
            [
             0.3,
             "#f1b6da"
            ],
            [
             0.4,
             "#fde0ef"
            ],
            [
             0.5,
             "#f7f7f7"
            ],
            [
             0.6,
             "#e6f5d0"
            ],
            [
             0.7,
             "#b8e186"
            ],
            [
             0.8,
             "#7fbc41"
            ],
            [
             0.9,
             "#4d9221"
            ],
            [
             1,
             "#276419"
            ]
           ],
           "sequential": [
            [
             0,
             "#0d0887"
            ],
            [
             0.1111111111111111,
             "#46039f"
            ],
            [
             0.2222222222222222,
             "#7201a8"
            ],
            [
             0.3333333333333333,
             "#9c179e"
            ],
            [
             0.4444444444444444,
             "#bd3786"
            ],
            [
             0.5555555555555556,
             "#d8576b"
            ],
            [
             0.6666666666666666,
             "#ed7953"
            ],
            [
             0.7777777777777778,
             "#fb9f3a"
            ],
            [
             0.8888888888888888,
             "#fdca26"
            ],
            [
             1,
             "#f0f921"
            ]
           ],
           "sequentialminus": [
            [
             0,
             "#0d0887"
            ],
            [
             0.1111111111111111,
             "#46039f"
            ],
            [
             0.2222222222222222,
             "#7201a8"
            ],
            [
             0.3333333333333333,
             "#9c179e"
            ],
            [
             0.4444444444444444,
             "#bd3786"
            ],
            [
             0.5555555555555556,
             "#d8576b"
            ],
            [
             0.6666666666666666,
             "#ed7953"
            ],
            [
             0.7777777777777778,
             "#fb9f3a"
            ],
            [
             0.8888888888888888,
             "#fdca26"
            ],
            [
             1,
             "#f0f921"
            ]
           ]
          },
          "colorway": [
           "#636efa",
           "#EF553B",
           "#00cc96",
           "#ab63fa",
           "#FFA15A",
           "#19d3f3",
           "#FF6692",
           "#B6E880",
           "#FF97FF",
           "#FECB52"
          ],
          "font": {
           "color": "#2a3f5f"
          },
          "geo": {
           "bgcolor": "white",
           "lakecolor": "white",
           "landcolor": "#E5ECF6",
           "showlakes": true,
           "showland": true,
           "subunitcolor": "white"
          },
          "hoverlabel": {
           "align": "left"
          },
          "hovermode": "closest",
          "mapbox": {
           "style": "light"
          },
          "paper_bgcolor": "white",
          "plot_bgcolor": "#E5ECF6",
          "polar": {
           "angularaxis": {
            "gridcolor": "white",
            "linecolor": "white",
            "ticks": ""
           },
           "bgcolor": "#E5ECF6",
           "radialaxis": {
            "gridcolor": "white",
            "linecolor": "white",
            "ticks": ""
           }
          },
          "scene": {
           "xaxis": {
            "backgroundcolor": "#E5ECF6",
            "gridcolor": "white",
            "gridwidth": 2,
            "linecolor": "white",
            "showbackground": true,
            "ticks": "",
            "zerolinecolor": "white"
           },
           "yaxis": {
            "backgroundcolor": "#E5ECF6",
            "gridcolor": "white",
            "gridwidth": 2,
            "linecolor": "white",
            "showbackground": true,
            "ticks": "",
            "zerolinecolor": "white"
           },
           "zaxis": {
            "backgroundcolor": "#E5ECF6",
            "gridcolor": "white",
            "gridwidth": 2,
            "linecolor": "white",
            "showbackground": true,
            "ticks": "",
            "zerolinecolor": "white"
           }
          },
          "shapedefaults": {
           "line": {
            "color": "#2a3f5f"
           }
          },
          "ternary": {
           "aaxis": {
            "gridcolor": "white",
            "linecolor": "white",
            "ticks": ""
           },
           "baxis": {
            "gridcolor": "white",
            "linecolor": "white",
            "ticks": ""
           },
           "bgcolor": "#E5ECF6",
           "caxis": {
            "gridcolor": "white",
            "linecolor": "white",
            "ticks": ""
           }
          },
          "title": {
           "x": 0.05
          },
          "xaxis": {
           "automargin": true,
           "gridcolor": "white",
           "linecolor": "white",
           "ticks": "",
           "title": {
            "standoff": 15
           },
           "zerolinecolor": "white",
           "zerolinewidth": 2
          },
          "yaxis": {
           "automargin": true,
           "gridcolor": "white",
           "linecolor": "white",
           "ticks": "",
           "title": {
            "standoff": 15
           },
           "zerolinecolor": "white",
           "zerolinewidth": 2
          }
         }
        },
        "width": 400,
        "xaxis": {
         "anchor": "y",
         "domain": [
          0,
          1
         ],
         "title": {
          "text": "count"
         }
        },
        "yaxis": {
         "anchor": "x",
         "domain": [
          0,
          1
         ],
         "title": {
          "text": "signs"
         }
        }
       }
      }
     },
     "metadata": {},
     "output_type": "display_data"
    }
   ],
   "source": [
    "fig = px.bar(bintang_size.head(5).sort_values('count'), y='signs', x='count',width=400,text_auto=True, title='')\n",
    "fig.show()"
   ]
  },
  {
   "cell_type": "code",
   "execution_count": 48,
   "metadata": {},
   "outputs": [
    {
     "data": {
      "text/html": [
       "<div>\n",
       "<style scoped>\n",
       "    .dataframe tbody tr th:only-of-type {\n",
       "        vertical-align: middle;\n",
       "    }\n",
       "\n",
       "    .dataframe tbody tr th {\n",
       "        vertical-align: top;\n",
       "    }\n",
       "\n",
       "    .dataframe thead th {\n",
       "        text-align: right;\n",
       "    }\n",
       "</style>\n",
       "<table border=\"1\" class=\"dataframe\">\n",
       "  <thead>\n",
       "    <tr style=\"text-align: right;\">\n",
       "      <th></th>\n",
       "      <th>provinsi</th>\n",
       "      <th>kab_kota</th>\n",
       "      <th>kecamatan</th>\n",
       "      <th>desa</th>\n",
       "      <th>lat</th>\n",
       "      <th>long</th>\n",
       "    </tr>\n",
       "  </thead>\n",
       "  <tbody>\n",
       "    <tr>\n",
       "      <th>0</th>\n",
       "      <td>JAWA BARAT</td>\n",
       "      <td>BANDUNG</td>\n",
       "      <td>MAJALAYA</td>\n",
       "      <td>SUKAMAJU</td>\n",
       "      <td>-7.05177</td>\n",
       "      <td>107.75618</td>\n",
       "    </tr>\n",
       "    <tr>\n",
       "      <th>1</th>\n",
       "      <td>JAWA BARAT</td>\n",
       "      <td>CIANJUR</td>\n",
       "      <td>CIRANJANG</td>\n",
       "      <td>CIRANJANG</td>\n",
       "      <td>-6.80765</td>\n",
       "      <td>107.27754</td>\n",
       "    </tr>\n",
       "    <tr>\n",
       "      <th>2</th>\n",
       "      <td>JAWA BARAT</td>\n",
       "      <td>BANDUNG</td>\n",
       "      <td>MAJALAYA</td>\n",
       "      <td>BIRU</td>\n",
       "      <td>-7.05323</td>\n",
       "      <td>107.72817</td>\n",
       "    </tr>\n",
       "  </tbody>\n",
       "</table>\n",
       "</div>"
      ],
      "text/plain": [
       "     provinsi kab_kota  kecamatan       desa      lat       long\n",
       "0  JAWA BARAT  BANDUNG   MAJALAYA   SUKAMAJU -7.05177  107.75618\n",
       "1  JAWA BARAT  CIANJUR  CIRANJANG  CIRANJANG -6.80765  107.27754\n",
       "2  JAWA BARAT  BANDUNG   MAJALAYA       BIRU -7.05323  107.72817"
      ]
     },
     "execution_count": 48,
     "metadata": {},
     "output_type": "execute_result"
    }
   ],
   "source": [
    "clean_coordinate = pd.read_csv('clean_coordinate.csv')\n",
    "clean_coordinate = clean_coordinate[['provinsi','kab_kota','kecamatan','desa','lat','long']]\n",
    "clean_coordinate.head(3)"
   ]
  },
  {
   "cell_type": "code",
   "execution_count": 49,
   "metadata": {},
   "outputs": [
    {
     "data": {
      "text/html": [
       "<div>\n",
       "<style scoped>\n",
       "    .dataframe tbody tr th:only-of-type {\n",
       "        vertical-align: middle;\n",
       "    }\n",
       "\n",
       "    .dataframe tbody tr th {\n",
       "        vertical-align: top;\n",
       "    }\n",
       "\n",
       "    .dataframe thead th {\n",
       "        text-align: right;\n",
       "    }\n",
       "</style>\n",
       "<table border=\"1\" class=\"dataframe\">\n",
       "  <thead>\n",
       "    <tr style=\"text-align: right;\">\n",
       "      <th></th>\n",
       "      <th>provinsi</th>\n",
       "      <th>kab_kota</th>\n",
       "      <th>lat</th>\n",
       "      <th>long</th>\n",
       "    </tr>\n",
       "  </thead>\n",
       "  <tbody>\n",
       "    <tr>\n",
       "      <th>0</th>\n",
       "      <td>JAWA BARAT</td>\n",
       "      <td>BANDUNG</td>\n",
       "      <td>-7.061975</td>\n",
       "      <td>107.589536</td>\n",
       "    </tr>\n",
       "    <tr>\n",
       "      <th>1</th>\n",
       "      <td>JAWA BARAT</td>\n",
       "      <td>BANDUNG BARAT</td>\n",
       "      <td>-6.833096</td>\n",
       "      <td>107.420848</td>\n",
       "    </tr>\n",
       "    <tr>\n",
       "      <th>2</th>\n",
       "      <td>JAWA BARAT</td>\n",
       "      <td>BEKASI</td>\n",
       "      <td>-6.255207</td>\n",
       "      <td>107.244573</td>\n",
       "    </tr>\n",
       "  </tbody>\n",
       "</table>\n",
       "</div>"
      ],
      "text/plain": [
       "     provinsi       kab_kota       lat        long\n",
       "0  JAWA BARAT        BANDUNG -7.061975  107.589536\n",
       "1  JAWA BARAT  BANDUNG BARAT -6.833096  107.420848\n",
       "2  JAWA BARAT         BEKASI -6.255207  107.244573"
      ]
     },
     "execution_count": 49,
     "metadata": {},
     "output_type": "execute_result"
    }
   ],
   "source": [
    "kabkota_coordinate = clean_coordinate.groupby(['provinsi','kab_kota'])[['lat','long']].mean().reset_index()\n",
    "kabkota_coordinate.head(3)"
   ]
  },
  {
   "cell_type": "code",
   "execution_count": 50,
   "metadata": {},
   "outputs": [
    {
     "data": {
      "text/html": [
       "<div>\n",
       "<style scoped>\n",
       "    .dataframe tbody tr th:only-of-type {\n",
       "        vertical-align: middle;\n",
       "    }\n",
       "\n",
       "    .dataframe tbody tr th {\n",
       "        vertical-align: top;\n",
       "    }\n",
       "\n",
       "    .dataframe thead th {\n",
       "        text-align: right;\n",
       "    }\n",
       "</style>\n",
       "<table border=\"1\" class=\"dataframe\">\n",
       "  <thead>\n",
       "    <tr style=\"text-align: right;\">\n",
       "      <th></th>\n",
       "      <th>provinsi</th>\n",
       "      <th>kab_kota</th>\n",
       "      <th>tahun_lahir</th>\n",
       "      <th>signs</th>\n",
       "      <th>nama</th>\n",
       "    </tr>\n",
       "  </thead>\n",
       "  <tbody>\n",
       "    <tr>\n",
       "      <th>0</th>\n",
       "      <td>JAWA BARAT</td>\n",
       "      <td>BANDUNG</td>\n",
       "      <td>1924</td>\n",
       "      <td>aquarius</td>\n",
       "      <td>5397</td>\n",
       "    </tr>\n",
       "    <tr>\n",
       "      <th>1</th>\n",
       "      <td>JAWA BARAT</td>\n",
       "      <td>BANDUNG</td>\n",
       "      <td>1924</td>\n",
       "      <td>aries</td>\n",
       "      <td>5483</td>\n",
       "    </tr>\n",
       "    <tr>\n",
       "      <th>2</th>\n",
       "      <td>JAWA BARAT</td>\n",
       "      <td>BANDUNG</td>\n",
       "      <td>1924</td>\n",
       "      <td>cancer</td>\n",
       "      <td>7161</td>\n",
       "    </tr>\n",
       "    <tr>\n",
       "      <th>3</th>\n",
       "      <td>JAWA BARAT</td>\n",
       "      <td>BANDUNG</td>\n",
       "      <td>1924</td>\n",
       "      <td>gemini</td>\n",
       "      <td>5803</td>\n",
       "    </tr>\n",
       "    <tr>\n",
       "      <th>4</th>\n",
       "      <td>JAWA BARAT</td>\n",
       "      <td>BANDUNG</td>\n",
       "      <td>1924</td>\n",
       "      <td>leo</td>\n",
       "      <td>6288</td>\n",
       "    </tr>\n",
       "  </tbody>\n",
       "</table>\n",
       "</div>"
      ],
      "text/plain": [
       "     provinsi kab_kota  tahun_lahir     signs  nama\n",
       "0  JAWA BARAT  BANDUNG         1924  aquarius  5397\n",
       "1  JAWA BARAT  BANDUNG         1924     aries  5483\n",
       "2  JAWA BARAT  BANDUNG         1924    cancer  7161\n",
       "3  JAWA BARAT  BANDUNG         1924    gemini  5803\n",
       "4  JAWA BARAT  BANDUNG         1924       leo  6288"
      ]
     },
     "execution_count": 50,
     "metadata": {},
     "output_type": "execute_result"
    }
   ],
   "source": [
    "bintang_location = bintang.groupby(['provinsi','kab_kota','tahun_lahir','signs']).nama.count().to_frame().reset_index()\n",
    "bintang_location.head()"
   ]
  },
  {
   "cell_type": "code",
   "execution_count": 51,
   "metadata": {},
   "outputs": [
    {
     "data": {
      "text/html": [
       "<div>\n",
       "<style scoped>\n",
       "    .dataframe tbody tr th:only-of-type {\n",
       "        vertical-align: middle;\n",
       "    }\n",
       "\n",
       "    .dataframe tbody tr th {\n",
       "        vertical-align: top;\n",
       "    }\n",
       "\n",
       "    .dataframe thead th {\n",
       "        text-align: right;\n",
       "    }\n",
       "</style>\n",
       "<table border=\"1\" class=\"dataframe\">\n",
       "  <thead>\n",
       "    <tr style=\"text-align: right;\">\n",
       "      <th></th>\n",
       "      <th>provinsi</th>\n",
       "      <th>kab_kota</th>\n",
       "      <th>tahun_lahir</th>\n",
       "      <th>signs</th>\n",
       "      <th>nama</th>\n",
       "      <th>lat</th>\n",
       "      <th>long</th>\n",
       "    </tr>\n",
       "  </thead>\n",
       "  <tbody>\n",
       "    <tr>\n",
       "      <th>0</th>\n",
       "      <td>JAWA BARAT</td>\n",
       "      <td>BANDUNG</td>\n",
       "      <td>1924</td>\n",
       "      <td>aquarius</td>\n",
       "      <td>5397</td>\n",
       "      <td>-7.061975</td>\n",
       "      <td>107.589536</td>\n",
       "    </tr>\n",
       "    <tr>\n",
       "      <th>1</th>\n",
       "      <td>JAWA BARAT</td>\n",
       "      <td>BANDUNG</td>\n",
       "      <td>1924</td>\n",
       "      <td>aries</td>\n",
       "      <td>5483</td>\n",
       "      <td>-7.061975</td>\n",
       "      <td>107.589536</td>\n",
       "    </tr>\n",
       "    <tr>\n",
       "      <th>2</th>\n",
       "      <td>JAWA BARAT</td>\n",
       "      <td>BANDUNG</td>\n",
       "      <td>1924</td>\n",
       "      <td>cancer</td>\n",
       "      <td>7161</td>\n",
       "      <td>-7.061975</td>\n",
       "      <td>107.589536</td>\n",
       "    </tr>\n",
       "  </tbody>\n",
       "</table>\n",
       "</div>"
      ],
      "text/plain": [
       "     provinsi kab_kota  tahun_lahir     signs  nama       lat        long\n",
       "0  JAWA BARAT  BANDUNG         1924  aquarius  5397 -7.061975  107.589536\n",
       "1  JAWA BARAT  BANDUNG         1924     aries  5483 -7.061975  107.589536\n",
       "2  JAWA BARAT  BANDUNG         1924    cancer  7161 -7.061975  107.589536"
      ]
     },
     "execution_count": 51,
     "metadata": {},
     "output_type": "execute_result"
    }
   ],
   "source": [
    "bintang_map = pd.merge(bintang_location,kabkota_coordinate,how='left',on=['provinsi','kab_kota'])\n",
    "bintang_map.head(3)"
   ]
  },
  {
   "cell_type": "code",
   "execution_count": 52,
   "metadata": {},
   "outputs": [
    {
     "data": {
      "text/plain": [
       "array([1924, 1925, 1926, 1927, 1928, 1929, 1930, 1931, 1932, 1933, 1934,\n",
       "       1935, 1936, 1937, 1938, 1939, 1940, 1941, 1942, 1943, 1944, 1945,\n",
       "       1946, 1947, 1948, 1949, 1950, 1951, 1952, 1953, 1954, 1955, 1956,\n",
       "       1957, 1958, 1959, 1960, 1961, 1962, 1963, 1964, 1965, 1966, 1967,\n",
       "       1968, 1969, 1970, 1971, 1972, 1973, 1974, 1975, 1976, 1977, 1978,\n",
       "       1979, 1980, 1981, 1982, 1983, 1984, 1985, 1986, 1987, 1988, 1989,\n",
       "       1990, 1991, 1992, 1993, 1994, 1995, 1996, 1997, 1998, 1999, 2000])"
      ]
     },
     "execution_count": 52,
     "metadata": {},
     "output_type": "execute_result"
    }
   ],
   "source": [
    "bintang_map.sort_values('tahun_lahir').tahun_lahir.unique()"
   ]
  },
  {
   "cell_type": "code",
   "execution_count": 53,
   "metadata": {},
   "outputs": [
    {
     "data": {
      "text/plain": [
       "20270"
      ]
     },
     "execution_count": 53,
     "metadata": {},
     "output_type": "execute_result"
    }
   ],
   "source": [
    "len(bintang_map)"
   ]
  },
  {
   "cell_type": "code",
   "execution_count": null,
   "metadata": {},
   "outputs": [],
   "source": [
    "fig.write_html(\"path/to/file.html\")"
   ]
  },
  {
   "cell_type": "code",
   "execution_count": 58,
   "metadata": {},
   "outputs": [
    {
     "data": {
      "text/html": [
       "<div>\n",
       "<style scoped>\n",
       "    .dataframe tbody tr th:only-of-type {\n",
       "        vertical-align: middle;\n",
       "    }\n",
       "\n",
       "    .dataframe tbody tr th {\n",
       "        vertical-align: top;\n",
       "    }\n",
       "\n",
       "    .dataframe thead th {\n",
       "        text-align: right;\n",
       "    }\n",
       "</style>\n",
       "<table border=\"1\" class=\"dataframe\">\n",
       "  <thead>\n",
       "    <tr style=\"text-align: right;\">\n",
       "      <th></th>\n",
       "      <th>provinsi</th>\n",
       "      <th>kab_kota</th>\n",
       "      <th>tahun_lahir</th>\n",
       "      <th>signs</th>\n",
       "      <th>nama</th>\n",
       "      <th>lat</th>\n",
       "      <th>long</th>\n",
       "      <th>cumulative_value</th>\n",
       "    </tr>\n",
       "  </thead>\n",
       "  <tbody>\n",
       "    <tr>\n",
       "      <th>0</th>\n",
       "      <td>JAWA BARAT</td>\n",
       "      <td>BANDUNG</td>\n",
       "      <td>1924</td>\n",
       "      <td>aquarius</td>\n",
       "      <td>5397</td>\n",
       "      <td>-7.061975</td>\n",
       "      <td>107.589536</td>\n",
       "      <td>5397</td>\n",
       "    </tr>\n",
       "    <tr>\n",
       "      <th>4241</th>\n",
       "      <td>JAWA BARAT</td>\n",
       "      <td>CIANJUR</td>\n",
       "      <td>1924</td>\n",
       "      <td>pisces</td>\n",
       "      <td>3421</td>\n",
       "      <td>-6.964360</td>\n",
       "      <td>107.193911</td>\n",
       "      <td>3421</td>\n",
       "    </tr>\n",
       "    <tr>\n",
       "      <th>4242</th>\n",
       "      <td>JAWA BARAT</td>\n",
       "      <td>CIANJUR</td>\n",
       "      <td>1924</td>\n",
       "      <td>sagittarius</td>\n",
       "      <td>3317</td>\n",
       "      <td>-6.964360</td>\n",
       "      <td>107.193911</td>\n",
       "      <td>3317</td>\n",
       "    </tr>\n",
       "  </tbody>\n",
       "</table>\n",
       "</div>"
      ],
      "text/plain": [
       "        provinsi kab_kota  tahun_lahir        signs  nama       lat   \n",
       "0     JAWA BARAT  BANDUNG         1924     aquarius  5397 -7.061975  \\\n",
       "4241  JAWA BARAT  CIANJUR         1924       pisces  3421 -6.964360   \n",
       "4242  JAWA BARAT  CIANJUR         1924  sagittarius  3317 -6.964360   \n",
       "\n",
       "            long  cumulative_value  \n",
       "0     107.589536              5397  \n",
       "4241  107.193911              3421  \n",
       "4242  107.193911              3317  "
      ]
     },
     "execution_count": 58,
     "metadata": {},
     "output_type": "execute_result"
    }
   ],
   "source": [
    "bintang_map = bintang_map.sort_values('tahun_lahir')\n",
    "bintang_map['cumulative_value'] = bintang_map.groupby(['provinsi','kab_kota','lat','long','signs'])['nama'].cumsum()\n",
    "bintang_map.head(3)"
   ]
  },
  {
   "cell_type": "code",
   "execution_count": 61,
   "metadata": {},
   "outputs": [
    {
     "data": {
      "text/html": [
       "<div>\n",
       "<style scoped>\n",
       "    .dataframe tbody tr th:only-of-type {\n",
       "        vertical-align: middle;\n",
       "    }\n",
       "\n",
       "    .dataframe tbody tr th {\n",
       "        vertical-align: top;\n",
       "    }\n",
       "\n",
       "    .dataframe thead th {\n",
       "        text-align: right;\n",
       "    }\n",
       "</style>\n",
       "<table border=\"1\" class=\"dataframe\">\n",
       "  <thead>\n",
       "    <tr style=\"text-align: right;\">\n",
       "      <th></th>\n",
       "      <th>provinsi</th>\n",
       "      <th>kab_kota</th>\n",
       "      <th>tahun_lahir</th>\n",
       "      <th>signs</th>\n",
       "      <th>nama</th>\n",
       "      <th>lat</th>\n",
       "      <th>long</th>\n",
       "      <th>cumulative_value</th>\n",
       "    </tr>\n",
       "  </thead>\n",
       "  <tbody>\n",
       "    <tr>\n",
       "      <th>3</th>\n",
       "      <td>JAWA BARAT</td>\n",
       "      <td>BANDUNG</td>\n",
       "      <td>1924</td>\n",
       "      <td>gemini</td>\n",
       "      <td>5803</td>\n",
       "      <td>-7.061975</td>\n",
       "      <td>107.589536</td>\n",
       "      <td>5803</td>\n",
       "    </tr>\n",
       "    <tr>\n",
       "      <th>14</th>\n",
       "      <td>JAWA BARAT</td>\n",
       "      <td>BANDUNG</td>\n",
       "      <td>1925</td>\n",
       "      <td>gemini</td>\n",
       "      <td>4848</td>\n",
       "      <td>-7.061975</td>\n",
       "      <td>107.589536</td>\n",
       "      <td>10651</td>\n",
       "    </tr>\n",
       "    <tr>\n",
       "      <th>25</th>\n",
       "      <td>JAWA BARAT</td>\n",
       "      <td>BANDUNG</td>\n",
       "      <td>1926</td>\n",
       "      <td>gemini</td>\n",
       "      <td>5850</td>\n",
       "      <td>-7.061975</td>\n",
       "      <td>107.589536</td>\n",
       "      <td>16501</td>\n",
       "    </tr>\n",
       "    <tr>\n",
       "      <th>36</th>\n",
       "      <td>JAWA BARAT</td>\n",
       "      <td>BANDUNG</td>\n",
       "      <td>1927</td>\n",
       "      <td>gemini</td>\n",
       "      <td>6323</td>\n",
       "      <td>-7.061975</td>\n",
       "      <td>107.589536</td>\n",
       "      <td>22824</td>\n",
       "    </tr>\n",
       "    <tr>\n",
       "      <th>47</th>\n",
       "      <td>JAWA BARAT</td>\n",
       "      <td>BANDUNG</td>\n",
       "      <td>1928</td>\n",
       "      <td>gemini</td>\n",
       "      <td>6395</td>\n",
       "      <td>-7.061975</td>\n",
       "      <td>107.589536</td>\n",
       "      <td>29219</td>\n",
       "    </tr>\n",
       "    <tr>\n",
       "      <th>...</th>\n",
       "      <td>...</td>\n",
       "      <td>...</td>\n",
       "      <td>...</td>\n",
       "      <td>...</td>\n",
       "      <td>...</td>\n",
       "      <td>...</td>\n",
       "      <td>...</td>\n",
       "      <td>...</td>\n",
       "    </tr>\n",
       "    <tr>\n",
       "      <th>795</th>\n",
       "      <td>JAWA BARAT</td>\n",
       "      <td>BANDUNG</td>\n",
       "      <td>1996</td>\n",
       "      <td>gemini</td>\n",
       "      <td>44</td>\n",
       "      <td>-7.061975</td>\n",
       "      <td>107.589536</td>\n",
       "      <td>249197</td>\n",
       "    </tr>\n",
       "    <tr>\n",
       "      <th>806</th>\n",
       "      <td>JAWA BARAT</td>\n",
       "      <td>BANDUNG</td>\n",
       "      <td>1997</td>\n",
       "      <td>gemini</td>\n",
       "      <td>21</td>\n",
       "      <td>-7.061975</td>\n",
       "      <td>107.589536</td>\n",
       "      <td>249218</td>\n",
       "    </tr>\n",
       "    <tr>\n",
       "      <th>817</th>\n",
       "      <td>JAWA BARAT</td>\n",
       "      <td>BANDUNG</td>\n",
       "      <td>1998</td>\n",
       "      <td>gemini</td>\n",
       "      <td>51</td>\n",
       "      <td>-7.061975</td>\n",
       "      <td>107.589536</td>\n",
       "      <td>249269</td>\n",
       "    </tr>\n",
       "    <tr>\n",
       "      <th>828</th>\n",
       "      <td>JAWA BARAT</td>\n",
       "      <td>BANDUNG</td>\n",
       "      <td>1999</td>\n",
       "      <td>gemini</td>\n",
       "      <td>17</td>\n",
       "      <td>-7.061975</td>\n",
       "      <td>107.589536</td>\n",
       "      <td>249286</td>\n",
       "    </tr>\n",
       "    <tr>\n",
       "      <th>839</th>\n",
       "      <td>JAWA BARAT</td>\n",
       "      <td>BANDUNG</td>\n",
       "      <td>2000</td>\n",
       "      <td>gemini</td>\n",
       "      <td>28</td>\n",
       "      <td>-7.061975</td>\n",
       "      <td>107.589536</td>\n",
       "      <td>249314</td>\n",
       "    </tr>\n",
       "  </tbody>\n",
       "</table>\n",
       "<p>77 rows × 8 columns</p>\n",
       "</div>"
      ],
      "text/plain": [
       "       provinsi kab_kota  tahun_lahir   signs  nama       lat        long   \n",
       "3    JAWA BARAT  BANDUNG         1924  gemini  5803 -7.061975  107.589536  \\\n",
       "14   JAWA BARAT  BANDUNG         1925  gemini  4848 -7.061975  107.589536   \n",
       "25   JAWA BARAT  BANDUNG         1926  gemini  5850 -7.061975  107.589536   \n",
       "36   JAWA BARAT  BANDUNG         1927  gemini  6323 -7.061975  107.589536   \n",
       "47   JAWA BARAT  BANDUNG         1928  gemini  6395 -7.061975  107.589536   \n",
       "..          ...      ...          ...     ...   ...       ...         ...   \n",
       "795  JAWA BARAT  BANDUNG         1996  gemini    44 -7.061975  107.589536   \n",
       "806  JAWA BARAT  BANDUNG         1997  gemini    21 -7.061975  107.589536   \n",
       "817  JAWA BARAT  BANDUNG         1998  gemini    51 -7.061975  107.589536   \n",
       "828  JAWA BARAT  BANDUNG         1999  gemini    17 -7.061975  107.589536   \n",
       "839  JAWA BARAT  BANDUNG         2000  gemini    28 -7.061975  107.589536   \n",
       "\n",
       "     cumulative_value  \n",
       "3                5803  \n",
       "14              10651  \n",
       "25              16501  \n",
       "36              22824  \n",
       "47              29219  \n",
       "..                ...  \n",
       "795            249197  \n",
       "806            249218  \n",
       "817            249269  \n",
       "828            249286  \n",
       "839            249314  \n",
       "\n",
       "[77 rows x 8 columns]"
      ]
     },
     "execution_count": 61,
     "metadata": {},
     "output_type": "execute_result"
    }
   ],
   "source": [
    "bintang_map[(bintang_map.kab_kota=='BANDUNG') &( bintang_map.signs=='gemini')]"
   ]
  },
  {
   "cell_type": "code",
   "execution_count": 96,
   "metadata": {},
   "outputs": [
    {
     "data": {
      "application/vnd.plotly.v1+json": {
       "config": {
        "plotlyServerURL": "https://plot.ly"
       },
       "data": [
        {
         "customdata": [
          [
           "gemini",
           3898,
           "BEKASI"
          ],
          [
           "gemini",
           4462,
           "GARUT"
          ],
          [
           "gemini",
           3315,
           "INDRAMAYU"
          ],
          [
           "gemini",
           8965,
           "BOGOR"
          ],
          [
           "gemini",
           2034,
           "CIAMIS"
          ],
          [
           "gemini",
           4160,
           "CIANJUR"
          ],
          [
           "gemini",
           2341,
           "SUBANG"
          ],
          [
           "gemini",
           5803,
           "BANDUNG"
          ],
          [
           "gemini",
           2803,
           "KOTA BEKASI"
          ],
          [
           "gemini",
           308,
           "KOTA BANJAR"
          ],
          [
           "gemini",
           3792,
           "KARAWANG"
          ],
          [
           "gemini",
           2834,
           "KOTA BANDUNG"
          ],
          [
           "gemini",
           657,
           "KOTA CIMAHI"
          ],
          [
           "gemini",
           481,
           "KOTA CIREBON"
          ],
          [
           "gemini",
           1306,
           "KOTA BOGOR"
          ],
          [
           "gemini",
           2243,
           "KOTA DEPOK"
          ],
          [
           "gemini",
           437,
           "KOTA SUKABUMI"
          ],
          [
           "gemini",
           1945,
           "KUNINGAN"
          ],
          [
           "gemini",
           3639,
           "CIREBON"
          ],
          [
           "gemini",
           960,
           "KOTA TASIKMALAYA"
          ],
          [
           "gemini",
           852,
           "PANGANDARAN"
          ],
          [
           "gemini",
           1551,
           "PURWAKARTA"
          ],
          [
           "gemini",
           3011,
           "BANDUNG BARAT"
          ],
          [
           "gemini",
           2218,
           "MAJALENGKA"
          ]
         ],
         "hovertemplate": "tahun_lahir=1924<br>cumulative_value=%{customdata[1]}<br>lat=%{lat}<br>long=%{lon}<br>signs=%{customdata[0]}<br>kab_kota=%{customdata[2]}<extra></extra>",
         "lat": [
          -6.255207083225145,
          -7.268378056249979,
          -6.379720414654616,
          -6.480949860895454,
          -7.30638836261014,
          -6.964360163286933,
          -6.383496996638174,
          -7.0619754345248085,
          -6.274403231484549,
          -7.338933589300536,
          -6.262359392767224,
          -6.921184978737736,
          -6.886467361450196,
          -6.729928146709096,
          -6.592887079014497,
          -6.393166663154723,
          -6.936611189986721,
          -6.936765700872271,
          -6.6329217663006546,
          -7.346940849138343,
          -7.570962318649283,
          -6.579142215298049,
          -6.833096220708732,
          -6.756968888223015
         ],
         "legendgroup": "",
         "lon": [
          107.24457348666594,
          107.7521565245115,
          108.209041696153,
          106.71270915879865,
          108.36989467852787,
          107.19391062360883,
          107.59779987191338,
          107.58953564768917,
          106.97349902561733,
          108.50381181054689,
          107.34518506941599,
          107.6294606695112,
          107.54447682698567,
          108.5573116649281,
          106.79751003489775,
          106.81258186461433,
          106.9264565670129,
          108.48644011759332,
          108.4595702784968,
          108.21931225320567,
          108.50046315234377,
          107.43030037073181,
          107.42084809790781,
          108.2380596008265
         ],
         "marker": {
          "color": "#636efa",
          "size": [
           3898,
           4462,
           3315,
           8965,
           2034,
           4160,
           2341,
           5803,
           2803,
           308,
           3792,
           2834,
           657,
           481,
           1306,
           2243,
           437,
           1945,
           3639,
           960,
           852,
           1551,
           3011,
           2218
          ],
          "sizemode": "area",
          "sizeref": 1118.5675
         },
         "mode": "markers",
         "name": "",
         "showlegend": false,
         "subplot": "mapbox",
         "type": "scattermapbox"
        }
       ],
       "frames": [
        {
         "data": [
          {
           "customdata": [
            [
             "gemini",
             3898,
             "BEKASI"
            ],
            [
             "gemini",
             4462,
             "GARUT"
            ],
            [
             "gemini",
             3315,
             "INDRAMAYU"
            ],
            [
             "gemini",
             8965,
             "BOGOR"
            ],
            [
             "gemini",
             2034,
             "CIAMIS"
            ],
            [
             "gemini",
             4160,
             "CIANJUR"
            ],
            [
             "gemini",
             2341,
             "SUBANG"
            ],
            [
             "gemini",
             5803,
             "BANDUNG"
            ],
            [
             "gemini",
             2803,
             "KOTA BEKASI"
            ],
            [
             "gemini",
             308,
             "KOTA BANJAR"
            ],
            [
             "gemini",
             3792,
             "KARAWANG"
            ],
            [
             "gemini",
             2834,
             "KOTA BANDUNG"
            ],
            [
             "gemini",
             657,
             "KOTA CIMAHI"
            ],
            [
             "gemini",
             481,
             "KOTA CIREBON"
            ],
            [
             "gemini",
             1306,
             "KOTA BOGOR"
            ],
            [
             "gemini",
             2243,
             "KOTA DEPOK"
            ],
            [
             "gemini",
             437,
             "KOTA SUKABUMI"
            ],
            [
             "gemini",
             1945,
             "KUNINGAN"
            ],
            [
             "gemini",
             3639,
             "CIREBON"
            ],
            [
             "gemini",
             960,
             "KOTA TASIKMALAYA"
            ],
            [
             "gemini",
             852,
             "PANGANDARAN"
            ],
            [
             "gemini",
             1551,
             "PURWAKARTA"
            ],
            [
             "gemini",
             3011,
             "BANDUNG BARAT"
            ],
            [
             "gemini",
             2218,
             "MAJALENGKA"
            ]
           ],
           "hovertemplate": "tahun_lahir=1924<br>cumulative_value=%{customdata[1]}<br>lat=%{lat}<br>long=%{lon}<br>signs=%{customdata[0]}<br>kab_kota=%{customdata[2]}<extra></extra>",
           "lat": [
            -6.255207083225145,
            -7.268378056249979,
            -6.379720414654616,
            -6.480949860895454,
            -7.30638836261014,
            -6.964360163286933,
            -6.383496996638174,
            -7.0619754345248085,
            -6.274403231484549,
            -7.338933589300536,
            -6.262359392767224,
            -6.921184978737736,
            -6.886467361450196,
            -6.729928146709096,
            -6.592887079014497,
            -6.393166663154723,
            -6.936611189986721,
            -6.936765700872271,
            -6.6329217663006546,
            -7.346940849138343,
            -7.570962318649283,
            -6.579142215298049,
            -6.833096220708732,
            -6.756968888223015
           ],
           "legendgroup": "",
           "lon": [
            107.24457348666594,
            107.7521565245115,
            108.209041696153,
            106.71270915879865,
            108.36989467852787,
            107.19391062360883,
            107.59779987191338,
            107.58953564768917,
            106.97349902561733,
            108.50381181054689,
            107.34518506941599,
            107.6294606695112,
            107.54447682698567,
            108.5573116649281,
            106.79751003489775,
            106.81258186461433,
            106.9264565670129,
            108.48644011759332,
            108.4595702784968,
            108.21931225320567,
            108.50046315234377,
            107.43030037073181,
            107.42084809790781,
            108.2380596008265
           ],
           "marker": {
            "color": "#636efa",
            "size": [
             3898,
             4462,
             3315,
             8965,
             2034,
             4160,
             2341,
             5803,
             2803,
             308,
             3792,
             2834,
             657,
             481,
             1306,
             2243,
             437,
             1945,
             3639,
             960,
             852,
             1551,
             3011,
             2218
            ],
            "sizemode": "area",
            "sizeref": 1118.5675
           },
           "mode": "markers",
           "name": "",
           "showlegend": false,
           "subplot": "mapbox",
           "type": "scattermapbox"
          }
         ],
         "name": "1924"
        },
        {
         "data": [
          {
           "customdata": [
            [
             "gemini",
             4068,
             "CIAMIS"
            ],
            [
             "gemini",
             3233,
             "PURWAKARTA"
            ],
            [
             "gemini",
             1015,
             "KOTA CIREBON"
            ],
            [
             "gemini",
             4393,
             "MAJALENGKA"
            ],
            [
             "gemini",
             7324,
             "CIANJUR"
            ],
            [
             "gemini",
             1397,
             "KOTA CIMAHI"
            ],
            [
             "gemini",
             6419,
             "KARAWANG"
            ],
            [
             "gemini",
             899,
             "KOTA SUKABUMI"
            ],
            [
             "gemini",
             8823,
             "GARUT"
            ],
            [
             "gemini",
             18261,
             "BOGOR"
            ],
            [
             "gemini",
             5674,
             "INDRAMAYU"
            ],
            [
             "gemini",
             3639,
             "KOTA DEPOK"
            ],
            [
             "gemini",
             1935,
             "KOTA TASIKMALAYA"
            ],
            [
             "gemini",
             2695,
             "KOTA BOGOR"
            ],
            [
             "gemini",
             1532,
             "PANGANDARAN"
            ],
            [
             "gemini",
             5957,
             "KOTA BANDUNG"
            ],
            [
             "gemini",
             5961,
             "KOTA BEKASI"
            ],
            [
             "gemini",
             7355,
             "CIREBON"
            ],
            [
             "gemini",
             6025,
             "BANDUNG BARAT"
            ],
            [
             "gemini",
             3872,
             "KUNINGAN"
            ],
            [
             "gemini",
             4680,
             "SUBANG"
            ],
            [
             "gemini",
             616,
             "KOTA BANJAR"
            ],
            [
             "gemini",
             10651,
             "BANDUNG"
            ],
            [
             "gemini",
             7257,
             "BEKASI"
            ]
           ],
           "hovertemplate": "tahun_lahir=1925<br>cumulative_value=%{customdata[1]}<br>lat=%{lat}<br>long=%{lon}<br>signs=%{customdata[0]}<br>kab_kota=%{customdata[2]}<extra></extra>",
           "lat": [
            -7.30638836261014,
            -6.579142215298049,
            -6.729928146709096,
            -6.756968888223015,
            -6.964360163286933,
            -6.886467361450196,
            -6.262359392767224,
            -6.936611189986721,
            -7.268378056249979,
            -6.480949860895454,
            -6.379720414654616,
            -6.393166663154723,
            -7.346940849138343,
            -6.592887079014497,
            -7.570962318649283,
            -6.921184978737736,
            -6.274403231484549,
            -6.6329217663006546,
            -6.833096220708732,
            -6.936765700872271,
            -6.383496996638174,
            -7.338933589300536,
            -7.0619754345248085,
            -6.255207083225145
           ],
           "legendgroup": "",
           "lon": [
            108.36989467852787,
            107.43030037073181,
            108.5573116649281,
            108.2380596008265,
            107.19391062360883,
            107.54447682698567,
            107.34518506941599,
            106.9264565670129,
            107.7521565245115,
            106.71270915879865,
            108.209041696153,
            106.81258186461433,
            108.21931225320567,
            106.79751003489775,
            108.50046315234377,
            107.6294606695112,
            106.97349902561733,
            108.4595702784968,
            107.42084809790781,
            108.48644011759332,
            107.59779987191338,
            108.50381181054689,
            107.58953564768917,
            107.24457348666594
           ],
           "marker": {
            "color": "#636efa",
            "size": [
             4068,
             3233,
             1015,
             4393,
             7324,
             1397,
             6419,
             899,
             8823,
             18261,
             5674,
             3639,
             1935,
             2695,
             1532,
             5957,
             5961,
             7355,
             6025,
             3872,
             4680,
             616,
             10651,
             7257
            ],
            "sizemode": "area",
            "sizeref": 1118.5675
           },
           "mode": "markers",
           "name": "",
           "showlegend": false,
           "subplot": "mapbox",
           "type": "scattermapbox"
          }
         ],
         "name": "1925"
        },
        {
         "data": [
          {
           "customdata": [
            [
             "gemini",
             903,
             "KOTA BANJAR"
            ],
            [
             "gemini",
             10367,
             "KARAWANG"
            ],
            [
             "gemini",
             12268,
             "CIANJUR"
            ],
            [
             "gemini",
             2305,
             "PANGANDARAN"
            ],
            [
             "gemini",
             2886,
             "KOTA TASIKMALAYA"
            ],
            [
             "gemini",
             8653,
             "KOTA BEKASI"
            ],
            [
             "gemini",
             6698,
             "MAJALENGKA"
            ],
            [
             "gemini",
             14158,
             "GARUT"
            ],
            [
             "gemini",
             8984,
             "INDRAMAYU"
            ],
            [
             "gemini",
             5078,
             "PURWAKARTA"
            ],
            [
             "gemini",
             6129,
             "CIAMIS"
            ],
            [
             "gemini",
             9103,
             "KOTA BANDUNG"
            ],
            [
             "gemini",
             11329,
             "BEKASI"
            ],
            [
             "gemini",
             4075,
             "KOTA BOGOR"
            ],
            [
             "gemini",
             6005,
             "KOTA DEPOK"
            ],
            [
             "gemini",
             11441,
             "CIREBON"
            ],
            [
             "gemini",
             5809,
             "KUNINGAN"
            ],
            [
             "gemini",
             1372,
             "KOTA SUKABUMI"
            ],
            [
             "gemini",
             29100,
             "BOGOR"
            ],
            [
             "gemini",
             1520,
             "KOTA CIREBON"
            ],
            [
             "gemini",
             2124,
             "KOTA CIMAHI"
            ],
            [
             "gemini",
             16501,
             "BANDUNG"
            ],
            [
             "gemini",
             9361,
             "BANDUNG BARAT"
            ],
            [
             "gemini",
             6987,
             "SUBANG"
            ]
           ],
           "hovertemplate": "tahun_lahir=1926<br>cumulative_value=%{customdata[1]}<br>lat=%{lat}<br>long=%{lon}<br>signs=%{customdata[0]}<br>kab_kota=%{customdata[2]}<extra></extra>",
           "lat": [
            -7.338933589300536,
            -6.262359392767224,
            -6.964360163286933,
            -7.570962318649283,
            -7.346940849138343,
            -6.274403231484549,
            -6.756968888223015,
            -7.268378056249979,
            -6.379720414654616,
            -6.579142215298049,
            -7.30638836261014,
            -6.921184978737736,
            -6.255207083225145,
            -6.592887079014497,
            -6.393166663154723,
            -6.6329217663006546,
            -6.936765700872271,
            -6.936611189986721,
            -6.480949860895454,
            -6.729928146709096,
            -6.886467361450196,
            -7.0619754345248085,
            -6.833096220708732,
            -6.383496996638174
           ],
           "legendgroup": "",
           "lon": [
            108.50381181054689,
            107.34518506941599,
            107.19391062360883,
            108.50046315234377,
            108.21931225320567,
            106.97349902561733,
            108.2380596008265,
            107.7521565245115,
            108.209041696153,
            107.43030037073181,
            108.36989467852787,
            107.6294606695112,
            107.24457348666594,
            106.79751003489775,
            106.81258186461433,
            108.4595702784968,
            108.48644011759332,
            106.9264565670129,
            106.71270915879865,
            108.5573116649281,
            107.54447682698567,
            107.58953564768917,
            107.42084809790781,
            107.59779987191338
           ],
           "marker": {
            "color": "#636efa",
            "size": [
             903,
             10367,
             12268,
             2305,
             2886,
             8653,
             6698,
             14158,
             8984,
             5078,
             6129,
             9103,
             11329,
             4075,
             6005,
             11441,
             5809,
             1372,
             29100,
             1520,
             2124,
             16501,
             9361,
             6987
            ],
            "sizemode": "area",
            "sizeref": 1118.5675
           },
           "mode": "markers",
           "name": "",
           "showlegend": false,
           "subplot": "mapbox",
           "type": "scattermapbox"
          }
         ],
         "name": "1926"
        },
        {
         "data": [
          {
           "customdata": [
            [
             "gemini",
             1227,
             "KOTA BANJAR"
            ],
            [
             "gemini",
             15341,
             "BEKASI"
            ],
            [
             "gemini",
             3956,
             "KOTA TASIKMALAYA"
            ],
            [
             "gemini",
             9200,
             "MAJALENGKA"
            ],
            [
             "gemini",
             9458,
             "SUBANG"
            ],
            [
             "gemini",
             11989,
             "KOTA BANDUNG"
            ],
            [
             "gemini",
             15298,
             "CIREBON"
            ],
            [
             "gemini",
             8108,
             "CIAMIS"
            ],
            [
             "gemini",
             11375,
             "KOTA BEKASI"
            ],
            [
             "gemini",
             17323,
             "CIANJUR"
            ],
            [
             "gemini",
             7768,
             "KUNINGAN"
            ],
            [
             "gemini",
             12181,
             "BANDUNG BARAT"
            ],
            [
             "gemini",
             22824,
             "BANDUNG"
            ],
            [
             "gemini",
             14697,
             "KARAWANG"
            ],
            [
             "gemini",
             18234,
             "GARUT"
            ],
            [
             "gemini",
             36271,
             "BOGOR"
            ],
            [
             "gemini",
             3260,
             "PANGANDARAN"
            ],
            [
             "gemini",
             5420,
             "KOTA BOGOR"
            ],
            [
             "gemini",
             8280,
             "KOTA DEPOK"
            ],
            [
             "gemini",
             2057,
             "KOTA CIREBON"
            ],
            [
             "gemini",
             1840,
             "KOTA SUKABUMI"
            ],
            [
             "gemini",
             2861,
             "KOTA CIMAHI"
            ],
            [
             "gemini",
             6674,
             "PURWAKARTA"
            ],
            [
             "gemini",
             12442,
             "INDRAMAYU"
            ]
           ],
           "hovertemplate": "tahun_lahir=1927<br>cumulative_value=%{customdata[1]}<br>lat=%{lat}<br>long=%{lon}<br>signs=%{customdata[0]}<br>kab_kota=%{customdata[2]}<extra></extra>",
           "lat": [
            -7.338933589300536,
            -6.255207083225145,
            -7.346940849138343,
            -6.756968888223015,
            -6.383496996638174,
            -6.921184978737736,
            -6.6329217663006546,
            -7.30638836261014,
            -6.274403231484549,
            -6.964360163286933,
            -6.936765700872271,
            -6.833096220708732,
            -7.0619754345248085,
            -6.262359392767224,
            -7.268378056249979,
            -6.480949860895454,
            -7.570962318649283,
            -6.592887079014497,
            -6.393166663154723,
            -6.729928146709096,
            -6.936611189986721,
            -6.886467361450196,
            -6.579142215298049,
            -6.379720414654616
           ],
           "legendgroup": "",
           "lon": [
            108.50381181054689,
            107.24457348666594,
            108.21931225320567,
            108.2380596008265,
            107.59779987191338,
            107.6294606695112,
            108.4595702784968,
            108.36989467852787,
            106.97349902561733,
            107.19391062360883,
            108.48644011759332,
            107.42084809790781,
            107.58953564768917,
            107.34518506941599,
            107.7521565245115,
            106.71270915879865,
            108.50046315234377,
            106.79751003489775,
            106.81258186461433,
            108.5573116649281,
            106.9264565670129,
            107.54447682698567,
            107.43030037073181,
            108.209041696153
           ],
           "marker": {
            "color": "#636efa",
            "size": [
             1227,
             15341,
             3956,
             9200,
             9458,
             11989,
             15298,
             8108,
             11375,
             17323,
             7768,
             12181,
             22824,
             14697,
             18234,
             36271,
             3260,
             5420,
             8280,
             2057,
             1840,
             2861,
             6674,
             12442
            ],
            "sizemode": "area",
            "sizeref": 1118.5675
           },
           "mode": "markers",
           "name": "",
           "showlegend": false,
           "subplot": "mapbox",
           "type": "scattermapbox"
          }
         ],
         "name": "1927"
        },
        {
         "data": [
          {
           "customdata": [
            [
             "gemini",
             8497,
             "PURWAKARTA"
            ],
            [
             "gemini",
             2361,
             "KOTA SUKABUMI"
            ],
            [
             "gemini",
             15319,
             "BANDUNG BARAT"
            ],
            [
             "gemini",
             15817,
             "INDRAMAYU"
            ],
            [
             "gemini",
             9857,
             "KUNINGAN"
            ],
            [
             "gemini",
             11852,
             "SUBANG"
            ],
            [
             "gemini",
             10654,
             "KOTA DEPOK"
            ],
            [
             "gemini",
             11566,
             "MAJALENGKA"
            ],
            [
             "gemini",
             10180,
             "CIAMIS"
            ],
            [
             "gemini",
             4093,
             "PANGANDARAN"
            ],
            [
             "gemini",
             46431,
             "BOGOR"
            ],
            [
             "gemini",
             4995,
             "KOTA TASIKMALAYA"
            ],
            [
             "gemini",
             2566,
             "KOTA CIREBON"
            ],
            [
             "gemini",
             22996,
             "GARUT"
            ],
            [
             "gemini",
             14285,
             "KOTA BEKASI"
            ],
            [
             "gemini",
             6874,
             "KOTA BOGOR"
            ],
            [
             "gemini",
             19610,
             "BEKASI"
            ],
            [
             "gemini",
             1528,
             "KOTA BANJAR"
            ],
            [
             "gemini",
             19547,
             "CIREBON"
            ],
            [
             "gemini",
             15257,
             "KOTA BANDUNG"
            ],
            [
             "gemini",
             3563,
             "KOTA CIMAHI"
            ],
            [
             "gemini",
             22728,
             "CIANJUR"
            ],
            [
             "gemini",
             29219,
             "BANDUNG"
            ],
            [
             "gemini",
             19063,
             "KARAWANG"
            ]
           ],
           "hovertemplate": "tahun_lahir=1928<br>cumulative_value=%{customdata[1]}<br>lat=%{lat}<br>long=%{lon}<br>signs=%{customdata[0]}<br>kab_kota=%{customdata[2]}<extra></extra>",
           "lat": [
            -6.579142215298049,
            -6.936611189986721,
            -6.833096220708732,
            -6.379720414654616,
            -6.936765700872271,
            -6.383496996638174,
            -6.393166663154723,
            -6.756968888223015,
            -7.30638836261014,
            -7.570962318649283,
            -6.480949860895454,
            -7.346940849138343,
            -6.729928146709096,
            -7.268378056249979,
            -6.274403231484549,
            -6.592887079014497,
            -6.255207083225145,
            -7.338933589300536,
            -6.6329217663006546,
            -6.921184978737736,
            -6.886467361450196,
            -6.964360163286933,
            -7.0619754345248085,
            -6.262359392767224
           ],
           "legendgroup": "",
           "lon": [
            107.43030037073181,
            106.9264565670129,
            107.42084809790781,
            108.209041696153,
            108.48644011759332,
            107.59779987191338,
            106.81258186461433,
            108.2380596008265,
            108.36989467852787,
            108.50046315234377,
            106.71270915879865,
            108.21931225320567,
            108.5573116649281,
            107.7521565245115,
            106.97349902561733,
            106.79751003489775,
            107.24457348666594,
            108.50381181054689,
            108.4595702784968,
            107.6294606695112,
            107.54447682698567,
            107.19391062360883,
            107.58953564768917,
            107.34518506941599
           ],
           "marker": {
            "color": "#636efa",
            "size": [
             8497,
             2361,
             15319,
             15817,
             9857,
             11852,
             10654,
             11566,
             10180,
             4093,
             46431,
             4995,
             2566,
             22996,
             14285,
             6874,
             19610,
             1528,
             19547,
             15257,
             3563,
             22728,
             29219,
             19063
            ],
            "sizemode": "area",
            "sizeref": 1118.5675
           },
           "mode": "markers",
           "name": "",
           "showlegend": false,
           "subplot": "mapbox",
           "type": "scattermapbox"
          }
         ],
         "name": "1928"
        },
        {
         "data": [
          {
           "customdata": [
            [
             "gemini",
             12183,
             "CIAMIS"
            ],
            [
             "gemini",
             12935,
             "KOTA DEPOK"
            ],
            [
             "gemini",
             56417,
             "BOGOR"
            ],
            [
             "gemini",
             23617,
             "CIREBON"
            ],
            [
             "gemini",
             35288,
             "BANDUNG"
            ],
            [
             "gemini",
             23934,
             "BEKASI"
            ],
            [
             "gemini",
             4247,
             "KOTA CIMAHI"
            ],
            [
             "gemini",
             2833,
             "KOTA SUKABUMI"
            ],
            [
             "gemini",
             14113,
             "SUBANG"
            ],
            [
             "gemini",
             8213,
             "KOTA BOGOR"
            ],
            [
             "gemini",
             3028,
             "KOTA CIREBON"
            ],
            [
             "gemini",
             27446,
             "GARUT"
            ],
            [
             "gemini",
             27715,
             "CIANJUR"
            ],
            [
             "gemini",
             23219,
             "KARAWANG"
            ],
            [
             "gemini",
             17146,
             "KOTA BEKASI"
            ],
            [
             "gemini",
             18347,
             "KOTA BANDUNG"
            ],
            [
             "gemini",
             10198,
             "PURWAKARTA"
            ],
            [
             "gemini",
             5958,
             "KOTA TASIKMALAYA"
            ],
            [
             "gemini",
             13803,
             "MAJALENGKA"
            ],
            [
             "gemini",
             4912,
             "PANGANDARAN"
            ],
            [
             "gemini",
             19090,
             "INDRAMAYU"
            ],
            [
             "gemini",
             18379,
             "BANDUNG BARAT"
            ],
            [
             "gemini",
             1833,
             "KOTA BANJAR"
            ],
            [
             "gemini",
             11713,
             "KUNINGAN"
            ]
           ],
           "hovertemplate": "tahun_lahir=1929<br>cumulative_value=%{customdata[1]}<br>lat=%{lat}<br>long=%{lon}<br>signs=%{customdata[0]}<br>kab_kota=%{customdata[2]}<extra></extra>",
           "lat": [
            -7.30638836261014,
            -6.393166663154723,
            -6.480949860895454,
            -6.6329217663006546,
            -7.0619754345248085,
            -6.255207083225145,
            -6.886467361450196,
            -6.936611189986721,
            -6.383496996638174,
            -6.592887079014497,
            -6.729928146709096,
            -7.268378056249979,
            -6.964360163286933,
            -6.262359392767224,
            -6.274403231484549,
            -6.921184978737736,
            -6.579142215298049,
            -7.346940849138343,
            -6.756968888223015,
            -7.570962318649283,
            -6.379720414654616,
            -6.833096220708732,
            -7.338933589300536,
            -6.936765700872271
           ],
           "legendgroup": "",
           "lon": [
            108.36989467852787,
            106.81258186461433,
            106.71270915879865,
            108.4595702784968,
            107.58953564768917,
            107.24457348666594,
            107.54447682698567,
            106.9264565670129,
            107.59779987191338,
            106.79751003489775,
            108.5573116649281,
            107.7521565245115,
            107.19391062360883,
            107.34518506941599,
            106.97349902561733,
            107.6294606695112,
            107.43030037073181,
            108.21931225320567,
            108.2380596008265,
            108.50046315234377,
            108.209041696153,
            107.42084809790781,
            108.50381181054689,
            108.48644011759332
           ],
           "marker": {
            "color": "#636efa",
            "size": [
             12183,
             12935,
             56417,
             23617,
             35288,
             23934,
             4247,
             2833,
             14113,
             8213,
             3028,
             27446,
             27715,
             23219,
             17146,
             18347,
             10198,
             5958,
             13803,
             4912,
             19090,
             18379,
             1833,
             11713
            ],
            "sizemode": "area",
            "sizeref": 1118.5675
           },
           "mode": "markers",
           "name": "",
           "showlegend": false,
           "subplot": "mapbox",
           "type": "scattermapbox"
          }
         ],
         "name": "1929"
        },
        {
         "data": [
          {
           "customdata": [
            [
             "gemini",
             21353,
             "BANDUNG BARAT"
            ],
            [
             "gemini",
             13989,
             "CIAMIS"
            ],
            [
             "gemini",
             15138,
             "KOTA DEPOK"
            ],
            [
             "gemini",
             21296,
             "KOTA BANDUNG"
            ],
            [
             "gemini",
             3525,
             "KOTA CIREBON"
            ],
            [
             "gemini",
             6879,
             "KOTA TASIKMALAYA"
            ],
            [
             "gemini",
             66080,
             "BOGOR"
            ],
            [
             "gemini",
             20058,
             "KOTA BEKASI"
            ],
            [
             "gemini",
             31664,
             "GARUT"
            ],
            [
             "gemini",
             9566,
             "KOTA BOGOR"
            ],
            [
             "gemini",
             3269,
             "KOTA SUKABUMI"
            ],
            [
             "gemini",
             4952,
             "KOTA CIMAHI"
            ],
            [
             "gemini",
             41095,
             "BANDUNG"
            ],
            [
             "gemini",
             16395,
             "SUBANG"
            ],
            [
             "gemini",
             2134,
             "KOTA BANJAR"
            ],
            [
             "gemini",
             5703,
             "PANGANDARAN"
            ],
            [
             "gemini",
             28489,
             "BEKASI"
            ],
            [
             "gemini",
             13448,
             "KUNINGAN"
            ],
            [
             "gemini",
             12035,
             "PURWAKARTA"
            ],
            [
             "gemini",
             32320,
             "CIANJUR"
            ],
            [
             "gemini",
             27642,
             "KARAWANG"
            ],
            [
             "gemini",
             27656,
             "CIREBON"
            ],
            [
             "gemini",
             22276,
             "INDRAMAYU"
            ],
            [
             "gemini",
             15995,
             "MAJALENGKA"
            ]
           ],
           "hovertemplate": "tahun_lahir=1930<br>cumulative_value=%{customdata[1]}<br>lat=%{lat}<br>long=%{lon}<br>signs=%{customdata[0]}<br>kab_kota=%{customdata[2]}<extra></extra>",
           "lat": [
            -6.833096220708732,
            -7.30638836261014,
            -6.393166663154723,
            -6.921184978737736,
            -6.729928146709096,
            -7.346940849138343,
            -6.480949860895454,
            -6.274403231484549,
            -7.268378056249979,
            -6.592887079014497,
            -6.936611189986721,
            -6.886467361450196,
            -7.0619754345248085,
            -6.383496996638174,
            -7.338933589300536,
            -7.570962318649283,
            -6.255207083225145,
            -6.936765700872271,
            -6.579142215298049,
            -6.964360163286933,
            -6.262359392767224,
            -6.6329217663006546,
            -6.379720414654616,
            -6.756968888223015
           ],
           "legendgroup": "",
           "lon": [
            107.42084809790781,
            108.36989467852787,
            106.81258186461433,
            107.6294606695112,
            108.5573116649281,
            108.21931225320567,
            106.71270915879865,
            106.97349902561733,
            107.7521565245115,
            106.79751003489775,
            106.9264565670129,
            107.54447682698567,
            107.58953564768917,
            107.59779987191338,
            108.50381181054689,
            108.50046315234377,
            107.24457348666594,
            108.48644011759332,
            107.43030037073181,
            107.19391062360883,
            107.34518506941599,
            108.4595702784968,
            108.209041696153,
            108.2380596008265
           ],
           "marker": {
            "color": "#636efa",
            "size": [
             21353,
             13989,
             15138,
             21296,
             3525,
             6879,
             66080,
             20058,
             31664,
             9566,
             3269,
             4952,
             41095,
             16395,
             2134,
             5703,
             28489,
             13448,
             12035,
             32320,
             27642,
             27656,
             22276,
             15995
            ],
            "sizemode": "area",
            "sizeref": 1118.5675
           },
           "mode": "markers",
           "name": "",
           "showlegend": false,
           "subplot": "mapbox",
           "type": "scattermapbox"
          }
         ],
         "name": "1930"
        },
        {
         "data": [
          {
           "customdata": [
            [
             "gemini",
             13783,
             "PURWAKARTA"
            ],
            [
             "gemini",
             17383,
             "KOTA DEPOK"
            ],
            [
             "gemini",
             2458,
             "KOTA BANJAR"
            ],
            [
             "gemini",
             37054,
             "CIANJUR"
            ],
            [
             "gemini",
             18715,
             "SUBANG"
            ],
            [
             "gemini",
             15304,
             "KUNINGAN"
            ],
            [
             "gemini",
             7843,
             "KOTA TASIKMALAYA"
            ],
            [
             "gemini",
             24286,
             "BANDUNG BARAT"
            ],
            [
             "gemini",
             24255,
             "KOTA BANDUNG"
            ],
            [
             "gemini",
             5661,
             "KOTA CIMAHI"
            ],
            [
             "gemini",
             23090,
             "KOTA BEKASI"
            ],
            [
             "gemini",
             10950,
             "KOTA BOGOR"
            ],
            [
             "gemini",
             33346,
             "BEKASI"
            ],
            [
             "gemini",
             4005,
             "KOTA CIREBON"
            ],
            [
             "gemini",
             18294,
             "MAJALENGKA"
            ],
            [
             "gemini",
             15862,
             "CIAMIS"
            ],
            [
             "gemini",
             46693,
             "BANDUNG"
            ],
            [
             "gemini",
             6464,
             "PANGANDARAN"
            ],
            [
             "gemini",
             31792,
             "CIREBON"
            ],
            [
             "gemini",
             35924,
             "GARUT"
            ],
            [
             "gemini",
             32152,
             "KARAWANG"
            ],
            [
             "gemini",
             3695,
             "KOTA SUKABUMI"
            ],
            [
             "gemini",
             25513,
             "INDRAMAYU"
            ],
            [
             "gemini",
             76390,
             "BOGOR"
            ]
           ],
           "hovertemplate": "tahun_lahir=1931<br>cumulative_value=%{customdata[1]}<br>lat=%{lat}<br>long=%{lon}<br>signs=%{customdata[0]}<br>kab_kota=%{customdata[2]}<extra></extra>",
           "lat": [
            -6.579142215298049,
            -6.393166663154723,
            -7.338933589300536,
            -6.964360163286933,
            -6.383496996638174,
            -6.936765700872271,
            -7.346940849138343,
            -6.833096220708732,
            -6.921184978737736,
            -6.886467361450196,
            -6.274403231484549,
            -6.592887079014497,
            -6.255207083225145,
            -6.729928146709096,
            -6.756968888223015,
            -7.30638836261014,
            -7.0619754345248085,
            -7.570962318649283,
            -6.6329217663006546,
            -7.268378056249979,
            -6.262359392767224,
            -6.936611189986721,
            -6.379720414654616,
            -6.480949860895454
           ],
           "legendgroup": "",
           "lon": [
            107.43030037073181,
            106.81258186461433,
            108.50381181054689,
            107.19391062360883,
            107.59779987191338,
            108.48644011759332,
            108.21931225320567,
            107.42084809790781,
            107.6294606695112,
            107.54447682698567,
            106.97349902561733,
            106.79751003489775,
            107.24457348666594,
            108.5573116649281,
            108.2380596008265,
            108.36989467852787,
            107.58953564768917,
            108.50046315234377,
            108.4595702784968,
            107.7521565245115,
            107.34518506941599,
            106.9264565670129,
            108.209041696153,
            106.71270915879865
           ],
           "marker": {
            "color": "#636efa",
            "size": [
             13783,
             17383,
             2458,
             37054,
             18715,
             15304,
             7843,
             24286,
             24255,
             5661,
             23090,
             10950,
             33346,
             4005,
             18294,
             15862,
             46693,
             6464,
             31792,
             35924,
             32152,
             3695,
             25513,
             76390
            ],
            "sizemode": "area",
            "sizeref": 1118.5675
           },
           "mode": "markers",
           "name": "",
           "showlegend": false,
           "subplot": "mapbox",
           "type": "scattermapbox"
          }
         ],
         "name": "1931"
        },
        {
         "data": [
          {
           "customdata": [
            [
             "gemini",
             27034,
             "KOTA BANDUNG"
            ],
            [
             "gemini",
             52009,
             "BANDUNG"
            ],
            [
             "gemini",
             20370,
             "MAJALENGKA"
            ],
            [
             "gemini",
             41185,
             "CIANJUR"
            ],
            [
             "gemini",
             19510,
             "KOTA DEPOK"
            ],
            [
             "gemini",
             6363,
             "KOTA CIMAHI"
            ],
            [
             "gemini",
             37939,
             "BEKASI"
            ],
            [
             "gemini",
             16970,
             "KUNINGAN"
            ],
            [
             "gemini",
             2744,
             "KOTA BANJAR"
            ],
            [
             "gemini",
             25985,
             "KOTA BEKASI"
            ],
            [
             "gemini",
             36061,
             "KARAWANG"
            ],
            [
             "gemini",
             8683,
             "KOTA TASIKMALAYA"
            ],
            [
             "gemini",
             17512,
             "CIAMIS"
            ],
            [
             "gemini",
             7151,
             "PANGANDARAN"
            ],
            [
             "gemini",
             85898,
             "BOGOR"
            ],
            [
             "gemini",
             35704,
             "CIREBON"
            ],
            [
             "gemini",
             28322,
             "INDRAMAYU"
            ],
            [
             "gemini",
             39572,
             "GARUT"
            ],
            [
             "gemini",
             15413,
             "PURWAKARTA"
            ],
            [
             "gemini",
             4096,
             "KOTA SUKABUMI"
            ],
            [
             "gemini",
             20706,
             "SUBANG"
            ],
            [
             "gemini",
             4469,
             "KOTA CIREBON"
            ],
            [
             "gemini",
             12216,
             "KOTA BOGOR"
            ],
            [
             "gemini",
             26932,
             "BANDUNG BARAT"
            ]
           ],
           "hovertemplate": "tahun_lahir=1932<br>cumulative_value=%{customdata[1]}<br>lat=%{lat}<br>long=%{lon}<br>signs=%{customdata[0]}<br>kab_kota=%{customdata[2]}<extra></extra>",
           "lat": [
            -6.921184978737736,
            -7.0619754345248085,
            -6.756968888223015,
            -6.964360163286933,
            -6.393166663154723,
            -6.886467361450196,
            -6.255207083225145,
            -6.936765700872271,
            -7.338933589300536,
            -6.274403231484549,
            -6.262359392767224,
            -7.346940849138343,
            -7.30638836261014,
            -7.570962318649283,
            -6.480949860895454,
            -6.6329217663006546,
            -6.379720414654616,
            -7.268378056249979,
            -6.579142215298049,
            -6.936611189986721,
            -6.383496996638174,
            -6.729928146709096,
            -6.592887079014497,
            -6.833096220708732
           ],
           "legendgroup": "",
           "lon": [
            107.6294606695112,
            107.58953564768917,
            108.2380596008265,
            107.19391062360883,
            106.81258186461433,
            107.54447682698567,
            107.24457348666594,
            108.48644011759332,
            108.50381181054689,
            106.97349902561733,
            107.34518506941599,
            108.21931225320567,
            108.36989467852787,
            108.50046315234377,
            106.71270915879865,
            108.4595702784968,
            108.209041696153,
            107.7521565245115,
            107.43030037073181,
            106.9264565670129,
            107.59779987191338,
            108.5573116649281,
            106.79751003489775,
            107.42084809790781
           ],
           "marker": {
            "color": "#636efa",
            "size": [
             27034,
             52009,
             20370,
             41185,
             19510,
             6363,
             37939,
             16970,
             2744,
             25985,
             36061,
             8683,
             17512,
             7151,
             85898,
             35704,
             28322,
             39572,
             15413,
             4096,
             20706,
             4469,
             12216,
             26932
            ],
            "sizemode": "area",
            "sizeref": 1118.5675
           },
           "mode": "markers",
           "name": "",
           "showlegend": false,
           "subplot": "mapbox",
           "type": "scattermapbox"
          }
         ],
         "name": "1932"
        },
        {
         "data": [
          {
           "customdata": [
            [
             "gemini",
             57664,
             "BANDUNG"
            ],
            [
             "gemini",
             31675,
             "INDRAMAYU"
            ],
            [
             "gemini",
             30035,
             "KOTA BANDUNG"
            ],
            [
             "gemini",
             18753,
             "KUNINGAN"
            ],
            [
             "gemini",
             29922,
             "BANDUNG BARAT"
            ],
            [
             "gemini",
             43208,
             "BEKASI"
            ],
            [
             "gemini",
             3058,
             "KOTA BANJAR"
            ],
            [
             "gemini",
             23056,
             "SUBANG"
            ],
            [
             "gemini",
             28971,
             "KOTA BEKASI"
            ],
            [
             "gemini",
             43832,
             "GARUT"
            ],
            [
             "gemini",
             40349,
             "KARAWANG"
            ],
            [
             "gemini",
             4531,
             "KOTA SUKABUMI"
            ],
            [
             "gemini",
             7026,
             "KOTA CIMAHI"
            ],
            [
             "gemini",
             21689,
             "KOTA DEPOK"
            ],
            [
             "gemini",
             96522,
             "BOGOR"
            ],
            [
             "gemini",
             39965,
             "CIREBON"
            ],
            [
             "gemini",
             46133,
             "CIANJUR"
            ],
            [
             "gemini",
             13598,
             "KOTA BOGOR"
            ],
            [
             "gemini",
             17161,
             "PURWAKARTA"
            ],
            [
             "gemini",
             22633,
             "MAJALENGKA"
            ],
            [
             "gemini",
             9572,
             "KOTA TASIKMALAYA"
            ],
            [
             "gemini",
             7845,
             "PANGANDARAN"
            ],
            [
             "gemini",
             19296,
             "CIAMIS"
            ],
            [
             "gemini",
             4936,
             "KOTA CIREBON"
            ]
           ],
           "hovertemplate": "tahun_lahir=1933<br>cumulative_value=%{customdata[1]}<br>lat=%{lat}<br>long=%{lon}<br>signs=%{customdata[0]}<br>kab_kota=%{customdata[2]}<extra></extra>",
           "lat": [
            -7.0619754345248085,
            -6.379720414654616,
            -6.921184978737736,
            -6.936765700872271,
            -6.833096220708732,
            -6.255207083225145,
            -7.338933589300536,
            -6.383496996638174,
            -6.274403231484549,
            -7.268378056249979,
            -6.262359392767224,
            -6.936611189986721,
            -6.886467361450196,
            -6.393166663154723,
            -6.480949860895454,
            -6.6329217663006546,
            -6.964360163286933,
            -6.592887079014497,
            -6.579142215298049,
            -6.756968888223015,
            -7.346940849138343,
            -7.570962318649283,
            -7.30638836261014,
            -6.729928146709096
           ],
           "legendgroup": "",
           "lon": [
            107.58953564768917,
            108.209041696153,
            107.6294606695112,
            108.48644011759332,
            107.42084809790781,
            107.24457348666594,
            108.50381181054689,
            107.59779987191338,
            106.97349902561733,
            107.7521565245115,
            107.34518506941599,
            106.9264565670129,
            107.54447682698567,
            106.81258186461433,
            106.71270915879865,
            108.4595702784968,
            107.19391062360883,
            106.79751003489775,
            107.43030037073181,
            108.2380596008265,
            108.21931225320567,
            108.50046315234377,
            108.36989467852787,
            108.5573116649281
           ],
           "marker": {
            "color": "#636efa",
            "size": [
             57664,
             31675,
             30035,
             18753,
             29922,
             43208,
             3058,
             23056,
             28971,
             43832,
             40349,
             4531,
             7026,
             21689,
             96522,
             39965,
             46133,
             13598,
             17161,
             22633,
             9572,
             7845,
             19296,
             4936
            ],
            "sizemode": "area",
            "sizeref": 1118.5675
           },
           "mode": "markers",
           "name": "",
           "showlegend": false,
           "subplot": "mapbox",
           "type": "scattermapbox"
          }
         ],
         "name": "1933"
        },
        {
         "data": [
          {
           "customdata": [
            [
             "gemini",
             32029,
             "KOTA BEKASI"
            ],
            [
             "gemini",
             14969,
             "KOTA BOGOR"
            ],
            [
             "gemini",
             44446,
             "KARAWANG"
            ],
            [
             "gemini",
             50633,
             "CIANJUR"
            ],
            [
             "gemini",
             47900,
             "GARUT"
            ],
            [
             "gemini",
             44084,
             "CIREBON"
            ],
            [
             "gemini",
             106568,
             "BOGOR"
            ],
            [
             "gemini",
             63168,
             "BANDUNG"
            ],
            [
             "gemini",
             48147,
             "BEKASI"
            ],
            [
             "gemini",
             3359,
             "KOTA BANJAR"
            ],
            [
             "gemini",
             32928,
             "KOTA BANDUNG"
            ],
            [
             "gemini",
             32498,
             "BANDUNG BARAT"
            ],
            [
             "gemini",
             5407,
             "KOTA CIREBON"
            ],
            [
             "gemini",
             23867,
             "KOTA DEPOK"
            ],
            [
             "gemini",
             21044,
             "CIAMIS"
            ],
            [
             "gemini",
             20563,
             "KUNINGAN"
            ],
            [
             "gemini",
             4989,
             "KOTA SUKABUMI"
            ],
            [
             "gemini",
             10576,
             "KOTA TASIKMALAYA"
            ],
            [
             "gemini",
             24895,
             "MAJALENGKA"
            ],
            [
             "gemini",
             25130,
             "SUBANG"
            ],
            [
             "gemini",
             7686,
             "KOTA CIMAHI"
            ],
            [
             "gemini",
             34706,
             "INDRAMAYU"
            ],
            [
             "gemini",
             8629,
             "PANGANDARAN"
            ],
            [
             "gemini",
             18845,
             "PURWAKARTA"
            ]
           ],
           "hovertemplate": "tahun_lahir=1934<br>cumulative_value=%{customdata[1]}<br>lat=%{lat}<br>long=%{lon}<br>signs=%{customdata[0]}<br>kab_kota=%{customdata[2]}<extra></extra>",
           "lat": [
            -6.274403231484549,
            -6.592887079014497,
            -6.262359392767224,
            -6.964360163286933,
            -7.268378056249979,
            -6.6329217663006546,
            -6.480949860895454,
            -7.0619754345248085,
            -6.255207083225145,
            -7.338933589300536,
            -6.921184978737736,
            -6.833096220708732,
            -6.729928146709096,
            -6.393166663154723,
            -7.30638836261014,
            -6.936765700872271,
            -6.936611189986721,
            -7.346940849138343,
            -6.756968888223015,
            -6.383496996638174,
            -6.886467361450196,
            -6.379720414654616,
            -7.570962318649283,
            -6.579142215298049
           ],
           "legendgroup": "",
           "lon": [
            106.97349902561733,
            106.79751003489775,
            107.34518506941599,
            107.19391062360883,
            107.7521565245115,
            108.4595702784968,
            106.71270915879865,
            107.58953564768917,
            107.24457348666594,
            108.50381181054689,
            107.6294606695112,
            107.42084809790781,
            108.5573116649281,
            106.81258186461433,
            108.36989467852787,
            108.48644011759332,
            106.9264565670129,
            108.21931225320567,
            108.2380596008265,
            107.59779987191338,
            107.54447682698567,
            108.209041696153,
            108.50046315234377,
            107.43030037073181
           ],
           "marker": {
            "color": "#636efa",
            "size": [
             32029,
             14969,
             44446,
             50633,
             47900,
             44084,
             106568,
             63168,
             48147,
             3359,
             32928,
             32498,
             5407,
             23867,
             21044,
             20563,
             4989,
             10576,
             24895,
             25130,
             7686,
             34706,
             8629,
             18845
            ],
            "sizemode": "area",
            "sizeref": 1118.5675
           },
           "mode": "markers",
           "name": "",
           "showlegend": false,
           "subplot": "mapbox",
           "type": "scattermapbox"
          }
         ],
         "name": "1934"
        },
        {
         "data": [
          {
           "customdata": [
            [
             "gemini",
             5404,
             "KOTA SUKABUMI"
            ],
            [
             "gemini",
             5877,
             "KOTA CIREBON"
            ],
            [
             "gemini",
             3631,
             "KOTA BANJAR"
            ],
            [
             "gemini",
             68475,
             "BANDUNG"
            ],
            [
             "gemini",
             37817,
             "INDRAMAYU"
            ],
            [
             "gemini",
             54923,
             "CIANJUR"
            ],
            [
             "gemini",
             35226,
             "BANDUNG BARAT"
            ],
            [
             "gemini",
             8309,
             "KOTA CIMAHI"
            ],
            [
             "gemini",
             51663,
             "GARUT"
            ],
            [
             "gemini",
             27146,
             "SUBANG"
            ],
            [
             "gemini",
             9327,
             "PANGANDARAN"
            ],
            [
             "gemini",
             52909,
             "BEKASI"
            ],
            [
             "gemini",
             22251,
             "KUNINGAN"
            ],
            [
             "gemini",
             22755,
             "CIAMIS"
            ],
            [
             "gemini",
             26095,
             "KOTA DEPOK"
            ],
            [
             "gemini",
             47993,
             "CIREBON"
            ],
            [
             "gemini",
             11524,
             "KOTA TASIKMALAYA"
            ],
            [
             "gemini",
             48396,
             "KARAWANG"
            ],
            [
             "gemini",
             35837,
             "KOTA BANDUNG"
            ],
            [
             "gemini",
             27103,
             "MAJALENGKA"
            ],
            [
             "gemini",
             20498,
             "PURWAKARTA"
            ],
            [
             "gemini",
             116288,
             "BOGOR"
            ],
            [
             "gemini",
             34992,
             "KOTA BEKASI"
            ],
            [
             "gemini",
             16277,
             "KOTA BOGOR"
            ]
           ],
           "hovertemplate": "tahun_lahir=1935<br>cumulative_value=%{customdata[1]}<br>lat=%{lat}<br>long=%{lon}<br>signs=%{customdata[0]}<br>kab_kota=%{customdata[2]}<extra></extra>",
           "lat": [
            -6.936611189986721,
            -6.729928146709096,
            -7.338933589300536,
            -7.0619754345248085,
            -6.379720414654616,
            -6.964360163286933,
            -6.833096220708732,
            -6.886467361450196,
            -7.268378056249979,
            -6.383496996638174,
            -7.570962318649283,
            -6.255207083225145,
            -6.936765700872271,
            -7.30638836261014,
            -6.393166663154723,
            -6.6329217663006546,
            -7.346940849138343,
            -6.262359392767224,
            -6.921184978737736,
            -6.756968888223015,
            -6.579142215298049,
            -6.480949860895454,
            -6.274403231484549,
            -6.592887079014497
           ],
           "legendgroup": "",
           "lon": [
            106.9264565670129,
            108.5573116649281,
            108.50381181054689,
            107.58953564768917,
            108.209041696153,
            107.19391062360883,
            107.42084809790781,
            107.54447682698567,
            107.7521565245115,
            107.59779987191338,
            108.50046315234377,
            107.24457348666594,
            108.48644011759332,
            108.36989467852787,
            106.81258186461433,
            108.4595702784968,
            108.21931225320567,
            107.34518506941599,
            107.6294606695112,
            108.2380596008265,
            107.43030037073181,
            106.71270915879865,
            106.97349902561733,
            106.79751003489775
           ],
           "marker": {
            "color": "#636efa",
            "size": [
             5404,
             5877,
             3631,
             68475,
             37817,
             54923,
             35226,
             8309,
             51663,
             27146,
             9327,
             52909,
             22251,
             22755,
             26095,
             47993,
             11524,
             48396,
             35837,
             27103,
             20498,
             116288,
             34992,
             16277
            ],
            "sizemode": "area",
            "sizeref": 1118.5675
           },
           "mode": "markers",
           "name": "",
           "showlegend": false,
           "subplot": "mapbox",
           "type": "scattermapbox"
          }
         ],
         "name": "1935"
        },
        {
         "data": [
          {
           "customdata": [
            [
             "gemini",
             12496,
             "KOTA TASIKMALAYA"
            ],
            [
             "gemini",
             8939,
             "KOTA CIMAHI"
            ],
            [
             "gemini",
             59294,
             "CIANJUR"
            ],
            [
             "gemini",
             55368,
             "GARUT"
            ],
            [
             "gemini",
             126199,
             "BOGOR"
            ],
            [
             "gemini",
             41051,
             "INDRAMAYU"
            ],
            [
             "gemini",
             22218,
             "PURWAKARTA"
            ],
            [
             "gemini",
             38752,
             "KOTA BANDUNG"
            ],
            [
             "gemini",
             6374,
             "KOTA CIREBON"
            ],
            [
             "gemini",
             73766,
             "BANDUNG"
            ],
            [
             "gemini",
             38013,
             "KOTA BEKASI"
            ],
            [
             "gemini",
             52044,
             "CIREBON"
            ],
            [
             "gemini",
             17595,
             "KOTA BOGOR"
            ],
            [
             "gemini",
             29300,
             "MAJALENGKA"
            ],
            [
             "gemini",
             57882,
             "BEKASI"
            ],
            [
             "gemini",
             3929,
             "KOTA BANJAR"
            ],
            [
             "gemini",
             28349,
             "KOTA DEPOK"
            ],
            [
             "gemini",
             37946,
             "BANDUNG BARAT"
            ],
            [
             "gemini",
             52601,
             "KARAWANG"
            ],
            [
             "gemini",
             29129,
             "SUBANG"
            ],
            [
             "gemini",
             5832,
             "KOTA SUKABUMI"
            ],
            [
             "gemini",
             24399,
             "CIAMIS"
            ],
            [
             "gemini",
             10032,
             "PANGANDARAN"
            ],
            [
             "gemini",
             24015,
             "KUNINGAN"
            ]
           ],
           "hovertemplate": "tahun_lahir=1936<br>cumulative_value=%{customdata[1]}<br>lat=%{lat}<br>long=%{lon}<br>signs=%{customdata[0]}<br>kab_kota=%{customdata[2]}<extra></extra>",
           "lat": [
            -7.346940849138343,
            -6.886467361450196,
            -6.964360163286933,
            -7.268378056249979,
            -6.480949860895454,
            -6.379720414654616,
            -6.579142215298049,
            -6.921184978737736,
            -6.729928146709096,
            -7.0619754345248085,
            -6.274403231484549,
            -6.6329217663006546,
            -6.592887079014497,
            -6.756968888223015,
            -6.255207083225145,
            -7.338933589300536,
            -6.393166663154723,
            -6.833096220708732,
            -6.262359392767224,
            -6.383496996638174,
            -6.936611189986721,
            -7.30638836261014,
            -7.570962318649283,
            -6.936765700872271
           ],
           "legendgroup": "",
           "lon": [
            108.21931225320567,
            107.54447682698567,
            107.19391062360883,
            107.7521565245115,
            106.71270915879865,
            108.209041696153,
            107.43030037073181,
            107.6294606695112,
            108.5573116649281,
            107.58953564768917,
            106.97349902561733,
            108.4595702784968,
            106.79751003489775,
            108.2380596008265,
            107.24457348666594,
            108.50381181054689,
            106.81258186461433,
            107.42084809790781,
            107.34518506941599,
            107.59779987191338,
            106.9264565670129,
            108.36989467852787,
            108.50046315234377,
            108.48644011759332
           ],
           "marker": {
            "color": "#636efa",
            "size": [
             12496,
             8939,
             59294,
             55368,
             126199,
             41051,
             22218,
             38752,
             6374,
             73766,
             38013,
             52044,
             17595,
             29300,
             57882,
             3929,
             28349,
             37946,
             52601,
             29129,
             5832,
             24399,
             10032,
             24015
            ],
            "sizemode": "area",
            "sizeref": 1118.5675
           },
           "mode": "markers",
           "name": "",
           "showlegend": false,
           "subplot": "mapbox",
           "type": "scattermapbox"
          }
         ],
         "name": "1936"
        },
        {
         "data": [
          {
           "customdata": [
            [
             "gemini",
             56592,
             "CIREBON"
            ],
            [
             "gemini",
             19057,
             "KOTA BOGOR"
            ],
            [
             "gemini",
             31679,
             "MAJALENGKA"
            ],
            [
             "gemini",
             79677,
             "BANDUNG"
            ],
            [
             "gemini",
             6828,
             "KOTA CIREBON"
            ],
            [
             "gemini",
             63868,
             "CIANJUR"
            ],
            [
             "gemini",
             41848,
             "KOTA BANDUNG"
            ],
            [
             "gemini",
             31334,
             "SUBANG"
            ],
            [
             "gemini",
             10805,
             "PANGANDARAN"
            ],
            [
             "gemini",
             26159,
             "KUNINGAN"
            ],
            [
             "gemini",
             63400,
             "BEKASI"
            ],
            [
             "gemini",
             41179,
             "KOTA BEKASI"
            ],
            [
             "gemini",
             44602,
             "INDRAMAYU"
            ],
            [
             "gemini",
             6289,
             "KOTA SUKABUMI"
            ],
            [
             "gemini",
             26201,
             "CIAMIS"
            ],
            [
             "gemini",
             40888,
             "BANDUNG BARAT"
            ],
            [
             "gemini",
             4182,
             "KOTA BANJAR"
            ],
            [
             "gemini",
             13458,
             "KOTA TASIKMALAYA"
            ],
            [
             "gemini",
             23991,
             "PURWAKARTA"
            ],
            [
             "gemini",
             136925,
             "BOGOR"
            ],
            [
             "gemini",
             9621,
             "KOTA CIMAHI"
            ],
            [
             "gemini",
             59186,
             "GARUT"
            ],
            [
             "gemini",
             30728,
             "KOTA DEPOK"
            ],
            [
             "gemini",
             56988,
             "KARAWANG"
            ]
           ],
           "hovertemplate": "tahun_lahir=1937<br>cumulative_value=%{customdata[1]}<br>lat=%{lat}<br>long=%{lon}<br>signs=%{customdata[0]}<br>kab_kota=%{customdata[2]}<extra></extra>",
           "lat": [
            -6.6329217663006546,
            -6.592887079014497,
            -6.756968888223015,
            -7.0619754345248085,
            -6.729928146709096,
            -6.964360163286933,
            -6.921184978737736,
            -6.383496996638174,
            -7.570962318649283,
            -6.936765700872271,
            -6.255207083225145,
            -6.274403231484549,
            -6.379720414654616,
            -6.936611189986721,
            -7.30638836261014,
            -6.833096220708732,
            -7.338933589300536,
            -7.346940849138343,
            -6.579142215298049,
            -6.480949860895454,
            -6.886467361450196,
            -7.268378056249979,
            -6.393166663154723,
            -6.262359392767224
           ],
           "legendgroup": "",
           "lon": [
            108.4595702784968,
            106.79751003489775,
            108.2380596008265,
            107.58953564768917,
            108.5573116649281,
            107.19391062360883,
            107.6294606695112,
            107.59779987191338,
            108.50046315234377,
            108.48644011759332,
            107.24457348666594,
            106.97349902561733,
            108.209041696153,
            106.9264565670129,
            108.36989467852787,
            107.42084809790781,
            108.50381181054689,
            108.21931225320567,
            107.43030037073181,
            106.71270915879865,
            107.54447682698567,
            107.7521565245115,
            106.81258186461433,
            107.34518506941599
           ],
           "marker": {
            "color": "#636efa",
            "size": [
             56592,
             19057,
             31679,
             79677,
             6828,
             63868,
             41848,
             31334,
             10805,
             26159,
             63400,
             41179,
             44602,
             6289,
             26201,
             40888,
             4182,
             13458,
             23991,
             136925,
             9621,
             59186,
             30728,
             56988
            ],
            "sizemode": "area",
            "sizeref": 1118.5675
           },
           "mode": "markers",
           "name": "",
           "showlegend": false,
           "subplot": "mapbox",
           "type": "scattermapbox"
          }
         ],
         "name": "1937"
        },
        {
         "data": [
          {
           "customdata": [
            [
             "gemini",
             69258,
             "BEKASI"
            ],
            [
             "gemini",
             33860,
             "SUBANG"
            ],
            [
             "gemini",
             63222,
             "GARUT"
            ],
            [
             "gemini",
             33149,
             "KOTA DEPOK"
            ],
            [
             "gemini",
             61505,
             "KARAWANG"
            ],
            [
             "gemini",
             28099,
             "CIAMIS"
            ],
            [
             "gemini",
             25874,
             "PURWAKARTA"
            ],
            [
             "gemini",
             61240,
             "CIREBON"
            ],
            [
             "gemini",
             43957,
             "BANDUNG BARAT"
            ],
            [
             "gemini",
             45043,
             "KOTA BANDUNG"
            ],
            [
             "gemini",
             85847,
             "BANDUNG"
            ],
            [
             "gemini",
             48553,
             "INDRAMAYU"
            ],
            [
             "gemini",
             10276,
             "KOTA CIMAHI"
            ],
            [
             "gemini",
             7278,
             "KOTA CIREBON"
            ],
            [
             "gemini",
             28287,
             "KUNINGAN"
            ],
            [
             "gemini",
             69055,
             "CIANJUR"
            ],
            [
             "gemini",
             147818,
             "BOGOR"
            ],
            [
             "gemini",
             34343,
             "MAJALENGKA"
            ],
            [
             "gemini",
             11559,
             "PANGANDARAN"
            ],
            [
             "gemini",
             14424,
             "KOTA TASIKMALAYA"
            ],
            [
             "gemini",
             4453,
             "KOTA BANJAR"
            ],
            [
             "gemini",
             6738,
             "KOTA SUKABUMI"
            ],
            [
             "gemini",
             44374,
             "KOTA BEKASI"
            ],
            [
             "gemini",
             20455,
             "KOTA BOGOR"
            ]
           ],
           "hovertemplate": "tahun_lahir=1938<br>cumulative_value=%{customdata[1]}<br>lat=%{lat}<br>long=%{lon}<br>signs=%{customdata[0]}<br>kab_kota=%{customdata[2]}<extra></extra>",
           "lat": [
            -6.255207083225145,
            -6.383496996638174,
            -7.268378056249979,
            -6.393166663154723,
            -6.262359392767224,
            -7.30638836261014,
            -6.579142215298049,
            -6.6329217663006546,
            -6.833096220708732,
            -6.921184978737736,
            -7.0619754345248085,
            -6.379720414654616,
            -6.886467361450196,
            -6.729928146709096,
            -6.936765700872271,
            -6.964360163286933,
            -6.480949860895454,
            -6.756968888223015,
            -7.570962318649283,
            -7.346940849138343,
            -7.338933589300536,
            -6.936611189986721,
            -6.274403231484549,
            -6.592887079014497
           ],
           "legendgroup": "",
           "lon": [
            107.24457348666594,
            107.59779987191338,
            107.7521565245115,
            106.81258186461433,
            107.34518506941599,
            108.36989467852787,
            107.43030037073181,
            108.4595702784968,
            107.42084809790781,
            107.6294606695112,
            107.58953564768917,
            108.209041696153,
            107.54447682698567,
            108.5573116649281,
            108.48644011759332,
            107.19391062360883,
            106.71270915879865,
            108.2380596008265,
            108.50046315234377,
            108.21931225320567,
            108.50381181054689,
            106.9264565670129,
            106.97349902561733,
            106.79751003489775
           ],
           "marker": {
            "color": "#636efa",
            "size": [
             69258,
             33860,
             63222,
             33149,
             61505,
             28099,
             25874,
             61240,
             43957,
             45043,
             85847,
             48553,
             10276,
             7278,
             28287,
             69055,
             147818,
             34343,
             11559,
             14424,
             4453,
             6738,
             44374,
             20455
            ],
            "sizemode": "area",
            "sizeref": 1118.5675
           },
           "mode": "markers",
           "name": "",
           "showlegend": false,
           "subplot": "mapbox",
           "type": "scattermapbox"
          }
         ],
         "name": "1938"
        },
        {
         "data": [
          {
           "customdata": [
            [
             "gemini",
             12359,
             "PANGANDARAN"
            ],
            [
             "gemini",
             52132,
             "INDRAMAYU"
            ],
            [
             "gemini",
             47196,
             "BANDUNG BARAT"
            ],
            [
             "gemini",
             92093,
             "BANDUNG"
            ],
            [
             "gemini",
             4760,
             "KOTA BANJAR"
            ],
            [
             "gemini",
             30112,
             "CIAMIS"
            ],
            [
             "gemini",
             7809,
             "KOTA CIREBON"
            ],
            [
             "gemini",
             73877,
             "CIANJUR"
            ],
            [
             "gemini",
             47656,
             "KOTA BEKASI"
            ],
            [
             "gemini",
             10972,
             "KOTA CIMAHI"
            ],
            [
             "gemini",
             37087,
             "MAJALENGKA"
            ],
            [
             "gemini",
             74954,
             "BEKASI"
            ],
            [
             "gemini",
             65891,
             "KARAWANG"
            ],
            [
             "gemini",
             158584,
             "BOGOR"
            ],
            [
             "gemini",
             15399,
             "KOTA TASIKMALAYA"
            ],
            [
             "gemini",
             30468,
             "KUNINGAN"
            ],
            [
             "gemini",
             65821,
             "CIREBON"
            ],
            [
             "gemini",
             36185,
             "SUBANG"
            ],
            [
             "gemini",
             7236,
             "KOTA SUKABUMI"
            ],
            [
             "gemini",
             27640,
             "PURWAKARTA"
            ],
            [
             "gemini",
             21918,
             "KOTA BOGOR"
            ],
            [
             "gemini",
             48494,
             "KOTA BANDUNG"
            ],
            [
             "gemini",
             67232,
             "GARUT"
            ],
            [
             "gemini",
             35643,
             "KOTA DEPOK"
            ]
           ],
           "hovertemplate": "tahun_lahir=1939<br>cumulative_value=%{customdata[1]}<br>lat=%{lat}<br>long=%{lon}<br>signs=%{customdata[0]}<br>kab_kota=%{customdata[2]}<extra></extra>",
           "lat": [
            -7.570962318649283,
            -6.379720414654616,
            -6.833096220708732,
            -7.0619754345248085,
            -7.338933589300536,
            -7.30638836261014,
            -6.729928146709096,
            -6.964360163286933,
            -6.274403231484549,
            -6.886467361450196,
            -6.756968888223015,
            -6.255207083225145,
            -6.262359392767224,
            -6.480949860895454,
            -7.346940849138343,
            -6.936765700872271,
            -6.6329217663006546,
            -6.383496996638174,
            -6.936611189986721,
            -6.579142215298049,
            -6.592887079014497,
            -6.921184978737736,
            -7.268378056249979,
            -6.393166663154723
           ],
           "legendgroup": "",
           "lon": [
            108.50046315234377,
            108.209041696153,
            107.42084809790781,
            107.58953564768917,
            108.50381181054689,
            108.36989467852787,
            108.5573116649281,
            107.19391062360883,
            106.97349902561733,
            107.54447682698567,
            108.2380596008265,
            107.24457348666594,
            107.34518506941599,
            106.71270915879865,
            108.21931225320567,
            108.48644011759332,
            108.4595702784968,
            107.59779987191338,
            106.9264565670129,
            107.43030037073181,
            106.79751003489775,
            107.6294606695112,
            107.7521565245115,
            106.81258186461433
           ],
           "marker": {
            "color": "#636efa",
            "size": [
             12359,
             52132,
             47196,
             92093,
             4760,
             30112,
             7809,
             73877,
             47656,
             10972,
             37087,
             74954,
             65891,
             158584,
             15399,
             30468,
             65821,
             36185,
             7236,
             27640,
             21918,
             48494,
             67232,
             35643
            ],
            "sizemode": "area",
            "sizeref": 1118.5675
           },
           "mode": "markers",
           "name": "",
           "showlegend": false,
           "subplot": "mapbox",
           "type": "scattermapbox"
          }
         ],
         "name": "1939"
        },
        {
         "data": [
          {
           "customdata": [
            [
             "gemini",
             51816,
             "KOTA BANDUNG"
            ],
            [
             "gemini",
             50222,
             "BANDUNG BARAT"
            ],
            [
             "gemini",
             38815,
             "SUBANG"
            ],
            [
             "gemini",
             23453,
             "KOTA BOGOR"
            ],
            [
             "gemini",
             5075,
             "KOTA BANJAR"
            ],
            [
             "gemini",
             55821,
             "INDRAMAYU"
            ],
            [
             "gemini",
             13143,
             "PANGANDARAN"
            ],
            [
             "gemini",
             70461,
             "CIREBON"
            ],
            [
             "gemini",
             7681,
             "KOTA SUKABUMI"
            ],
            [
             "gemini",
             70786,
             "GARUT"
            ],
            [
             "gemini",
             169072,
             "BOGOR"
            ],
            [
             "gemini",
             32615,
             "KUNINGAN"
            ],
            [
             "gemini",
             16328,
             "KOTA TASIKMALAYA"
            ],
            [
             "gemini",
             70397,
             "KARAWANG"
            ],
            [
             "gemini",
             8345,
             "KOTA CIREBON"
            ],
            [
             "gemini",
             29381,
             "PURWAKARTA"
            ],
            [
             "gemini",
             11651,
             "KOTA CIMAHI"
            ],
            [
             "gemini",
             78159,
             "CIANJUR"
            ],
            [
             "gemini",
             80884,
             "BEKASI"
            ],
            [
             "gemini",
             39844,
             "MAJALENGKA"
            ],
            [
             "gemini",
             38330,
             "KOTA DEPOK"
            ],
            [
             "gemini",
             97881,
             "BANDUNG"
            ],
            [
             "gemini",
             31962,
             "CIAMIS"
            ],
            [
             "gemini",
             50983,
             "KOTA BEKASI"
            ]
           ],
           "hovertemplate": "tahun_lahir=1940<br>cumulative_value=%{customdata[1]}<br>lat=%{lat}<br>long=%{lon}<br>signs=%{customdata[0]}<br>kab_kota=%{customdata[2]}<extra></extra>",
           "lat": [
            -6.921184978737736,
            -6.833096220708732,
            -6.383496996638174,
            -6.592887079014497,
            -7.338933589300536,
            -6.379720414654616,
            -7.570962318649283,
            -6.6329217663006546,
            -6.936611189986721,
            -7.268378056249979,
            -6.480949860895454,
            -6.936765700872271,
            -7.346940849138343,
            -6.262359392767224,
            -6.729928146709096,
            -6.579142215298049,
            -6.886467361450196,
            -6.964360163286933,
            -6.255207083225145,
            -6.756968888223015,
            -6.393166663154723,
            -7.0619754345248085,
            -7.30638836261014,
            -6.274403231484549
           ],
           "legendgroup": "",
           "lon": [
            107.6294606695112,
            107.42084809790781,
            107.59779987191338,
            106.79751003489775,
            108.50381181054689,
            108.209041696153,
            108.50046315234377,
            108.4595702784968,
            106.9264565670129,
            107.7521565245115,
            106.71270915879865,
            108.48644011759332,
            108.21931225320567,
            107.34518506941599,
            108.5573116649281,
            107.43030037073181,
            107.54447682698567,
            107.19391062360883,
            107.24457348666594,
            108.2380596008265,
            106.81258186461433,
            107.58953564768917,
            108.36989467852787,
            106.97349902561733
           ],
           "marker": {
            "color": "#636efa",
            "size": [
             51816,
             50222,
             38815,
             23453,
             5075,
             55821,
             13143,
             70461,
             7681,
             70786,
             169072,
             32615,
             16328,
             70397,
             8345,
             29381,
             11651,
             78159,
             80884,
             39844,
             38330,
             97881,
             31962,
             50983
            ],
            "sizemode": "area",
            "sizeref": 1118.5675
           },
           "mode": "markers",
           "name": "",
           "showlegend": false,
           "subplot": "mapbox",
           "type": "scattermapbox"
          }
         ],
         "name": "1940"
        },
        {
         "data": [
          {
           "customdata": [
            [
             "gemini",
             25193,
             "KOTA BOGOR"
            ],
            [
             "gemini",
             8217,
             "KOTA SUKABUMI"
            ],
            [
             "gemini",
             75854,
             "KARAWANG"
            ],
            [
             "gemini",
             5420,
             "KOTA BANJAR"
            ],
            [
             "gemini",
             75367,
             "CIREBON"
            ],
            [
             "gemini",
             31542,
             "PURWAKARTA"
            ],
            [
             "gemini",
             83647,
             "CIANJUR"
            ],
            [
             "gemini",
             14019,
             "PANGANDARAN"
            ],
            [
             "gemini",
             43363,
             "MAJALENGKA"
            ],
            [
             "gemini",
             181015,
             "BOGOR"
            ],
            [
             "gemini",
             8953,
             "KOTA CIREBON"
            ],
            [
             "gemini",
             54587,
             "KOTA BEKASI"
            ],
            [
             "gemini",
             41958,
             "SUBANG"
            ],
            [
             "gemini",
             12474,
             "KOTA CIMAHI"
            ],
            [
             "gemini",
             17487,
             "KOTA TASIKMALAYA"
            ],
            [
             "gemini",
             34242,
             "CIAMIS"
            ],
            [
             "gemini",
             34985,
             "KUNINGAN"
            ],
            [
             "gemini",
             76006,
             "GARUT"
            ],
            [
             "gemini",
             60167,
             "INDRAMAYU"
            ],
            [
             "gemini",
             55672,
             "KOTA BANDUNG"
            ],
            [
             "gemini",
             41157,
             "KOTA DEPOK"
            ],
            [
             "gemini",
             105371,
             "BANDUNG"
            ],
            [
             "gemini",
             87510,
             "BEKASI"
            ],
            [
             "gemini",
             53931,
             "BANDUNG BARAT"
            ]
           ],
           "hovertemplate": "tahun_lahir=1941<br>cumulative_value=%{customdata[1]}<br>lat=%{lat}<br>long=%{lon}<br>signs=%{customdata[0]}<br>kab_kota=%{customdata[2]}<extra></extra>",
           "lat": [
            -6.592887079014497,
            -6.936611189986721,
            -6.262359392767224,
            -7.338933589300536,
            -6.6329217663006546,
            -6.579142215298049,
            -6.964360163286933,
            -7.570962318649283,
            -6.756968888223015,
            -6.480949860895454,
            -6.729928146709096,
            -6.274403231484549,
            -6.383496996638174,
            -6.886467361450196,
            -7.346940849138343,
            -7.30638836261014,
            -6.936765700872271,
            -7.268378056249979,
            -6.379720414654616,
            -6.921184978737736,
            -6.393166663154723,
            -7.0619754345248085,
            -6.255207083225145,
            -6.833096220708732
           ],
           "legendgroup": "",
           "lon": [
            106.79751003489775,
            106.9264565670129,
            107.34518506941599,
            108.50381181054689,
            108.4595702784968,
            107.43030037073181,
            107.19391062360883,
            108.50046315234377,
            108.2380596008265,
            106.71270915879865,
            108.5573116649281,
            106.97349902561733,
            107.59779987191338,
            107.54447682698567,
            108.21931225320567,
            108.36989467852787,
            108.48644011759332,
            107.7521565245115,
            108.209041696153,
            107.6294606695112,
            106.81258186461433,
            107.58953564768917,
            107.24457348666594,
            107.42084809790781
           ],
           "marker": {
            "color": "#636efa",
            "size": [
             25193,
             8217,
             75854,
             5420,
             75367,
             31542,
             83647,
             14019,
             43363,
             181015,
             8953,
             54587,
             41958,
             12474,
             17487,
             34242,
             34985,
             76006,
             60167,
             55672,
             41157,
             105371,
             87510,
             53931
            ],
            "sizemode": "area",
            "sizeref": 1118.5675
           },
           "mode": "markers",
           "name": "",
           "showlegend": false,
           "subplot": "mapbox",
           "type": "scattermapbox"
          }
         ],
         "name": "1941"
        },
        {
         "data": [
          {
           "customdata": [
            [
             "gemini",
             5727,
             "KOTA BANJAR"
            ],
            [
             "gemini",
             46168,
             "MAJALENGKA"
            ],
            [
             "gemini",
             63483,
             "INDRAMAYU"
            ],
            [
             "gemini",
             44377,
             "SUBANG"
            ],
            [
             "gemini",
             37130,
             "KUNINGAN"
            ],
            [
             "gemini",
             79423,
             "GARUT"
            ],
            [
             "gemini",
             80122,
             "KARAWANG"
            ],
            [
             "gemini",
             87243,
             "CIANJUR"
            ],
            [
             "gemini",
             111270,
             "BANDUNG"
            ],
            [
             "gemini",
             13264,
             "KOTA CIMAHI"
            ],
            [
             "gemini",
             18410,
             "KOTA TASIKMALAYA"
            ],
            [
             "gemini",
             9496,
             "KOTA CIREBON"
            ],
            [
             "gemini",
             92878,
             "BEKASI"
            ],
            [
             "gemini",
             79572,
             "CIREBON"
            ],
            [
             "gemini",
             43874,
             "KOTA DEPOK"
            ],
            [
             "gemini",
             8684,
             "KOTA SUKABUMI"
            ],
            [
             "gemini",
             56816,
             "BANDUNG BARAT"
            ],
            [
             "gemini",
             59101,
             "KOTA BANDUNG"
            ],
            [
             "gemini",
             57743,
             "KOTA BEKASI"
            ],
            [
             "gemini",
             14721,
             "PANGANDARAN"
            ],
            [
             "gemini",
             190514,
             "BOGOR"
            ],
            [
             "gemini",
             36140,
             "CIAMIS"
            ],
            [
             "gemini",
             33186,
             "PURWAKARTA"
            ],
            [
             "gemini",
             26678,
             "KOTA BOGOR"
            ]
           ],
           "hovertemplate": "tahun_lahir=1942<br>cumulative_value=%{customdata[1]}<br>lat=%{lat}<br>long=%{lon}<br>signs=%{customdata[0]}<br>kab_kota=%{customdata[2]}<extra></extra>",
           "lat": [
            -7.338933589300536,
            -6.756968888223015,
            -6.379720414654616,
            -6.383496996638174,
            -6.936765700872271,
            -7.268378056249979,
            -6.262359392767224,
            -6.964360163286933,
            -7.0619754345248085,
            -6.886467361450196,
            -7.346940849138343,
            -6.729928146709096,
            -6.255207083225145,
            -6.6329217663006546,
            -6.393166663154723,
            -6.936611189986721,
            -6.833096220708732,
            -6.921184978737736,
            -6.274403231484549,
            -7.570962318649283,
            -6.480949860895454,
            -7.30638836261014,
            -6.579142215298049,
            -6.592887079014497
           ],
           "legendgroup": "",
           "lon": [
            108.50381181054689,
            108.2380596008265,
            108.209041696153,
            107.59779987191338,
            108.48644011759332,
            107.7521565245115,
            107.34518506941599,
            107.19391062360883,
            107.58953564768917,
            107.54447682698567,
            108.21931225320567,
            108.5573116649281,
            107.24457348666594,
            108.4595702784968,
            106.81258186461433,
            106.9264565670129,
            107.42084809790781,
            107.6294606695112,
            106.97349902561733,
            108.50046315234377,
            106.71270915879865,
            108.36989467852787,
            107.43030037073181,
            106.79751003489775
           ],
           "marker": {
            "color": "#636efa",
            "size": [
             5727,
             46168,
             63483,
             44377,
             37130,
             79423,
             80122,
             87243,
             111270,
             13264,
             18410,
             9496,
             92878,
             79572,
             43874,
             8684,
             56816,
             59101,
             57743,
             14721,
             190514,
             36140,
             33186,
             26678
            ],
            "sizemode": "area",
            "sizeref": 1118.5675
           },
           "mode": "markers",
           "name": "",
           "showlegend": false,
           "subplot": "mapbox",
           "type": "scattermapbox"
          }
         ],
         "name": "1942"
        },
        {
         "data": [
          {
           "customdata": [
            [
             "gemini",
             19428,
             "KOTA TASIKMALAYA"
            ],
            [
             "gemini",
             83758,
             "GARUT"
            ],
            [
             "gemini",
             28418,
             "KOTA BOGOR"
            ],
            [
             "gemini",
             10051,
             "KOTA CIREBON"
            ],
            [
             "gemini",
             92775,
             "CIANJUR"
            ],
            [
             "gemini",
             39424,
             "KUNINGAN"
            ],
            [
             "gemini",
             67799,
             "INDRAMAYU"
            ],
            [
             "gemini",
             9182,
             "KOTA SUKABUMI"
            ],
            [
             "gemini",
             14095,
             "KOTA CIMAHI"
            ],
            [
             "gemini",
             47337,
             "SUBANG"
            ],
            [
             "gemini",
             61131,
             "KOTA BEKASI"
            ],
            [
             "gemini",
             49534,
             "MAJALENGKA"
            ],
            [
             "gemini",
             60409,
             "BANDUNG BARAT"
            ],
            [
             "gemini",
             62753,
             "KOTA BANDUNG"
            ],
            [
             "gemini",
             6044,
             "KOTA BANJAR"
            ],
            [
             "gemini",
             99536,
             "BEKASI"
            ],
            [
             "gemini",
             46763,
             "KOTA DEPOK"
            ],
            [
             "gemini",
             84320,
             "CIREBON"
            ],
            [
             "gemini",
             202723,
             "BOGOR"
            ],
            [
             "gemini",
             85362,
             "KARAWANG"
            ],
            [
             "gemini",
             15596,
             "PANGANDARAN"
            ],
            [
             "gemini",
             38367,
             "CIAMIS"
            ],
            [
             "gemini",
             35231,
             "PURWAKARTA"
            ],
            [
             "gemini",
             117757,
             "BANDUNG"
            ]
           ],
           "hovertemplate": "tahun_lahir=1943<br>cumulative_value=%{customdata[1]}<br>lat=%{lat}<br>long=%{lon}<br>signs=%{customdata[0]}<br>kab_kota=%{customdata[2]}<extra></extra>",
           "lat": [
            -7.346940849138343,
            -7.268378056249979,
            -6.592887079014497,
            -6.729928146709096,
            -6.964360163286933,
            -6.936765700872271,
            -6.379720414654616,
            -6.936611189986721,
            -6.886467361450196,
            -6.383496996638174,
            -6.274403231484549,
            -6.756968888223015,
            -6.833096220708732,
            -6.921184978737736,
            -7.338933589300536,
            -6.255207083225145,
            -6.393166663154723,
            -6.6329217663006546,
            -6.480949860895454,
            -6.262359392767224,
            -7.570962318649283,
            -7.30638836261014,
            -6.579142215298049,
            -7.0619754345248085
           ],
           "legendgroup": "",
           "lon": [
            108.21931225320567,
            107.7521565245115,
            106.79751003489775,
            108.5573116649281,
            107.19391062360883,
            108.48644011759332,
            108.209041696153,
            106.9264565670129,
            107.54447682698567,
            107.59779987191338,
            106.97349902561733,
            108.2380596008265,
            107.42084809790781,
            107.6294606695112,
            108.50381181054689,
            107.24457348666594,
            106.81258186461433,
            108.4595702784968,
            106.71270915879865,
            107.34518506941599,
            108.50046315234377,
            108.36989467852787,
            107.43030037073181,
            107.58953564768917
           ],
           "marker": {
            "color": "#636efa",
            "size": [
             19428,
             83758,
             28418,
             10051,
             92775,
             39424,
             67799,
             9182,
             14095,
             47337,
             61131,
             49534,
             60409,
             62753,
             6044,
             99536,
             46763,
             84320,
             202723,
             85362,
             15596,
             38367,
             35231,
             117757
            ],
            "sizemode": "area",
            "sizeref": 1118.5675
           },
           "mode": "markers",
           "name": "",
           "showlegend": false,
           "subplot": "mapbox",
           "type": "scattermapbox"
          }
         ],
         "name": "1943"
        },
        {
         "data": [
          {
           "customdata": [
            [
             "gemini",
             9619,
             "KOTA SUKABUMI"
            ],
            [
             "gemini",
             20474,
             "KOTA TASIKMALAYA"
            ],
            [
             "gemini",
             16330,
             "PANGANDARAN"
            ],
            [
             "gemini",
             52543,
             "MAJALENGKA"
            ],
            [
             "gemini",
             49829,
             "SUBANG"
            ],
            [
             "gemini",
             88696,
             "CIREBON"
            ],
            [
             "gemini",
             36980,
             "PURWAKARTA"
            ],
            [
             "gemini",
             124214,
             "BANDUNG"
            ],
            [
             "gemini",
             212979,
             "BOGOR"
            ],
            [
             "gemini",
             40477,
             "CIAMIS"
            ],
            [
             "gemini",
             41534,
             "KUNINGAN"
            ],
            [
             "gemini",
             96732,
             "CIANJUR"
            ],
            [
             "gemini",
             49613,
             "KOTA DEPOK"
            ],
            [
             "gemini",
             6363,
             "KOTA BANJAR"
            ],
            [
             "gemini",
             89701,
             "KARAWANG"
            ],
            [
             "gemini",
             14944,
             "KOTA CIMAHI"
            ],
            [
             "gemini",
             87421,
             "GARUT"
            ],
            [
             "gemini",
             71315,
             "INDRAMAYU"
            ],
            [
             "gemini",
             66455,
             "KOTA BANDUNG"
            ],
            [
             "gemini",
             105401,
             "BEKASI"
            ],
            [
             "gemini",
             64560,
             "KOTA BEKASI"
            ],
            [
             "gemini",
             30024,
             "KOTA BOGOR"
            ],
            [
             "gemini",
             63404,
             "BANDUNG BARAT"
            ],
            [
             "gemini",
             10619,
             "KOTA CIREBON"
            ]
           ],
           "hovertemplate": "tahun_lahir=1944<br>cumulative_value=%{customdata[1]}<br>lat=%{lat}<br>long=%{lon}<br>signs=%{customdata[0]}<br>kab_kota=%{customdata[2]}<extra></extra>",
           "lat": [
            -6.936611189986721,
            -7.346940849138343,
            -7.570962318649283,
            -6.756968888223015,
            -6.383496996638174,
            -6.6329217663006546,
            -6.579142215298049,
            -7.0619754345248085,
            -6.480949860895454,
            -7.30638836261014,
            -6.936765700872271,
            -6.964360163286933,
            -6.393166663154723,
            -7.338933589300536,
            -6.262359392767224,
            -6.886467361450196,
            -7.268378056249979,
            -6.379720414654616,
            -6.921184978737736,
            -6.255207083225145,
            -6.274403231484549,
            -6.592887079014497,
            -6.833096220708732,
            -6.729928146709096
           ],
           "legendgroup": "",
           "lon": [
            106.9264565670129,
            108.21931225320567,
            108.50046315234377,
            108.2380596008265,
            107.59779987191338,
            108.4595702784968,
            107.43030037073181,
            107.58953564768917,
            106.71270915879865,
            108.36989467852787,
            108.48644011759332,
            107.19391062360883,
            106.81258186461433,
            108.50381181054689,
            107.34518506941599,
            107.54447682698567,
            107.7521565245115,
            108.209041696153,
            107.6294606695112,
            107.24457348666594,
            106.97349902561733,
            106.79751003489775,
            107.42084809790781,
            108.5573116649281
           ],
           "marker": {
            "color": "#636efa",
            "size": [
             9619,
             20474,
             16330,
             52543,
             49829,
             88696,
             36980,
             124214,
             212979,
             40477,
             41534,
             96732,
             49613,
             6363,
             89701,
             14944,
             87421,
             71315,
             66455,
             105401,
             64560,
             30024,
             63404,
             10619
            ],
            "sizemode": "area",
            "sizeref": 1118.5675
           },
           "mode": "markers",
           "name": "",
           "showlegend": false,
           "subplot": "mapbox",
           "type": "scattermapbox"
          }
         ],
         "name": "1944"
        },
        {
         "data": [
          {
           "customdata": [
            [
             "gemini",
             74984,
             "INDRAMAYU"
            ],
            [
             "gemini",
             66420,
             "BANDUNG BARAT"
            ],
            [
             "gemini",
             21386,
             "KOTA TASIKMALAYA"
            ],
            [
             "gemini",
             31564,
             "KOTA BOGOR"
            ],
            [
             "gemini",
             52420,
             "KOTA DEPOK"
            ],
            [
             "gemini",
             17189,
             "PANGANDARAN"
            ],
            [
             "gemini",
             101248,
             "CIANJUR"
            ],
            [
             "gemini",
             10028,
             "KOTA SUKABUMI"
            ],
            [
             "gemini",
             93103,
             "CIREBON"
            ],
            [
             "gemini",
             6637,
             "KOTA BANJAR"
            ],
            [
             "gemini",
             15755,
             "KOTA CIMAHI"
            ],
            [
             "gemini",
             55606,
             "MAJALENGKA"
            ],
            [
             "gemini",
             94244,
             "KARAWANG"
            ],
            [
             "gemini",
             38698,
             "PURWAKARTA"
            ],
            [
             "gemini",
             223951,
             "BOGOR"
            ],
            [
             "gemini",
             11159,
             "KOTA CIREBON"
            ],
            [
             "gemini",
             70035,
             "KOTA BANDUNG"
            ],
            [
             "gemini",
             43743,
             "KUNINGAN"
            ],
            [
             "gemini",
             91215,
             "GARUT"
            ],
            [
             "gemini",
             130381,
             "BANDUNG"
            ],
            [
             "gemini",
             67930,
             "KOTA BEKASI"
            ],
            [
             "gemini",
             52037,
             "SUBANG"
            ],
            [
             "gemini",
             111462,
             "BEKASI"
            ],
            [
             "gemini",
             42416,
             "CIAMIS"
            ]
           ],
           "hovertemplate": "tahun_lahir=1945<br>cumulative_value=%{customdata[1]}<br>lat=%{lat}<br>long=%{lon}<br>signs=%{customdata[0]}<br>kab_kota=%{customdata[2]}<extra></extra>",
           "lat": [
            -6.379720414654616,
            -6.833096220708732,
            -7.346940849138343,
            -6.592887079014497,
            -6.393166663154723,
            -7.570962318649283,
            -6.964360163286933,
            -6.936611189986721,
            -6.6329217663006546,
            -7.338933589300536,
            -6.886467361450196,
            -6.756968888223015,
            -6.262359392767224,
            -6.579142215298049,
            -6.480949860895454,
            -6.729928146709096,
            -6.921184978737736,
            -6.936765700872271,
            -7.268378056249979,
            -7.0619754345248085,
            -6.274403231484549,
            -6.383496996638174,
            -6.255207083225145,
            -7.30638836261014
           ],
           "legendgroup": "",
           "lon": [
            108.209041696153,
            107.42084809790781,
            108.21931225320567,
            106.79751003489775,
            106.81258186461433,
            108.50046315234377,
            107.19391062360883,
            106.9264565670129,
            108.4595702784968,
            108.50381181054689,
            107.54447682698567,
            108.2380596008265,
            107.34518506941599,
            107.43030037073181,
            106.71270915879865,
            108.5573116649281,
            107.6294606695112,
            108.48644011759332,
            107.7521565245115,
            107.58953564768917,
            106.97349902561733,
            107.59779987191338,
            107.24457348666594,
            108.36989467852787
           ],
           "marker": {
            "color": "#636efa",
            "size": [
             74984,
             66420,
             21386,
             31564,
             52420,
             17189,
             101248,
             10028,
             93103,
             6637,
             15755,
             55606,
             94244,
             38698,
             223951,
             11159,
             70035,
             43743,
             91215,
             130381,
             67930,
             52037,
             111462,
             42416
            ],
            "sizemode": "area",
            "sizeref": 1118.5675
           },
           "mode": "markers",
           "name": "",
           "showlegend": false,
           "subplot": "mapbox",
           "type": "scattermapbox"
          }
         ],
         "name": "1945"
        },
        {
         "data": [
          {
           "customdata": [
            [
             "gemini",
             11710,
             "KOTA CIREBON"
            ],
            [
             "gemini",
             10472,
             "KOTA SUKABUMI"
            ],
            [
             "gemini",
             71134,
             "KOTA BEKASI"
            ],
            [
             "gemini",
             98961,
             "KARAWANG"
            ],
            [
             "gemini",
             69455,
             "BANDUNG BARAT"
            ],
            [
             "gemini",
             44519,
             "CIAMIS"
            ],
            [
             "gemini",
             45805,
             "KUNINGAN"
            ],
            [
             "gemini",
             73574,
             "KOTA BANDUNG"
            ],
            [
             "gemini",
             6934,
             "KOTA BANJAR"
            ],
            [
             "gemini",
             18042,
             "PANGANDARAN"
            ],
            [
             "gemini",
             58645,
             "MAJALENGKA"
            ],
            [
             "gemini",
             97276,
             "CIREBON"
            ],
            [
             "gemini",
             234517,
             "BOGOR"
            ],
            [
             "gemini",
             16516,
             "KOTA CIMAHI"
            ],
            [
             "gemini",
             136324,
             "BANDUNG"
            ],
            [
             "gemini",
             33006,
             "KOTA BOGOR"
            ],
            [
             "gemini",
             105419,
             "CIANJUR"
            ],
            [
             "gemini",
             78588,
             "INDRAMAYU"
            ],
            [
             "gemini",
             95071,
             "GARUT"
            ],
            [
             "gemini",
             55204,
             "KOTA DEPOK"
            ],
            [
             "gemini",
             117182,
             "BEKASI"
            ],
            [
             "gemini",
             22301,
             "KOTA TASIKMALAYA"
            ],
            [
             "gemini",
             54386,
             "SUBANG"
            ],
            [
             "gemini",
             40408,
             "PURWAKARTA"
            ]
           ],
           "hovertemplate": "tahun_lahir=1946<br>cumulative_value=%{customdata[1]}<br>lat=%{lat}<br>long=%{lon}<br>signs=%{customdata[0]}<br>kab_kota=%{customdata[2]}<extra></extra>",
           "lat": [
            -6.729928146709096,
            -6.936611189986721,
            -6.274403231484549,
            -6.262359392767224,
            -6.833096220708732,
            -7.30638836261014,
            -6.936765700872271,
            -6.921184978737736,
            -7.338933589300536,
            -7.570962318649283,
            -6.756968888223015,
            -6.6329217663006546,
            -6.480949860895454,
            -6.886467361450196,
            -7.0619754345248085,
            -6.592887079014497,
            -6.964360163286933,
            -6.379720414654616,
            -7.268378056249979,
            -6.393166663154723,
            -6.255207083225145,
            -7.346940849138343,
            -6.383496996638174,
            -6.579142215298049
           ],
           "legendgroup": "",
           "lon": [
            108.5573116649281,
            106.9264565670129,
            106.97349902561733,
            107.34518506941599,
            107.42084809790781,
            108.36989467852787,
            108.48644011759332,
            107.6294606695112,
            108.50381181054689,
            108.50046315234377,
            108.2380596008265,
            108.4595702784968,
            106.71270915879865,
            107.54447682698567,
            107.58953564768917,
            106.79751003489775,
            107.19391062360883,
            108.209041696153,
            107.7521565245115,
            106.81258186461433,
            107.24457348666594,
            108.21931225320567,
            107.59779987191338,
            107.43030037073181
           ],
           "marker": {
            "color": "#636efa",
            "size": [
             11710,
             10472,
             71134,
             98961,
             69455,
             44519,
             45805,
             73574,
             6934,
             18042,
             58645,
             97276,
             234517,
             16516,
             136324,
             33006,
             105419,
             78588,
             95071,
             55204,
             117182,
             22301,
             54386,
             40408
            ],
            "sizemode": "area",
            "sizeref": 1118.5675
           },
           "mode": "markers",
           "name": "",
           "showlegend": false,
           "subplot": "mapbox",
           "type": "scattermapbox"
          }
         ],
         "name": "1946"
        },
        {
         "data": [
          {
           "customdata": [
            [
             "gemini",
             123553,
             "BEKASI"
            ],
            [
             "gemini",
             12290,
             "KOTA CIREBON"
            ],
            [
             "gemini",
             56921,
             "SUBANG"
            ],
            [
             "gemini",
             245695,
             "BOGOR"
            ],
            [
             "gemini",
             10923,
             "KOTA SUKABUMI"
            ],
            [
             "gemini",
             98872,
             "GARUT"
            ],
            [
             "gemini",
             42177,
             "PURWAKARTA"
            ],
            [
             "gemini",
             72726,
             "BANDUNG BARAT"
            ],
            [
             "gemini",
             103652,
             "KARAWANG"
            ],
            [
             "gemini",
             101922,
             "CIREBON"
            ],
            [
             "gemini",
             58105,
             "KOTA DEPOK"
            ],
            [
             "gemini",
             23383,
             "KOTA TASIKMALAYA"
            ],
            [
             "gemini",
             34508,
             "KOTA BOGOR"
            ],
            [
             "gemini",
             17413,
             "KOTA CIMAHI"
            ],
            [
             "gemini",
             47989,
             "KUNINGAN"
            ],
            [
             "gemini",
             7267,
             "KOTA BANJAR"
            ],
            [
             "gemini",
             62465,
             "MAJALENGKA"
            ],
            [
             "gemini",
             18994,
             "PANGANDARAN"
            ],
            [
             "gemini",
             74548,
             "KOTA BEKASI"
            ],
            [
             "gemini",
             82230,
             "INDRAMAYU"
            ],
            [
             "gemini",
             46746,
             "CIAMIS"
            ],
            [
             "gemini",
             77333,
             "KOTA BANDUNG"
            ],
            [
             "gemini",
             143245,
             "BANDUNG"
            ],
            [
             "gemini",
             109571,
             "CIANJUR"
            ]
           ],
           "hovertemplate": "tahun_lahir=1947<br>cumulative_value=%{customdata[1]}<br>lat=%{lat}<br>long=%{lon}<br>signs=%{customdata[0]}<br>kab_kota=%{customdata[2]}<extra></extra>",
           "lat": [
            -6.255207083225145,
            -6.729928146709096,
            -6.383496996638174,
            -6.480949860895454,
            -6.936611189986721,
            -7.268378056249979,
            -6.579142215298049,
            -6.833096220708732,
            -6.262359392767224,
            -6.6329217663006546,
            -6.393166663154723,
            -7.346940849138343,
            -6.592887079014497,
            -6.886467361450196,
            -6.936765700872271,
            -7.338933589300536,
            -6.756968888223015,
            -7.570962318649283,
            -6.274403231484549,
            -6.379720414654616,
            -7.30638836261014,
            -6.921184978737736,
            -7.0619754345248085,
            -6.964360163286933
           ],
           "legendgroup": "",
           "lon": [
            107.24457348666594,
            108.5573116649281,
            107.59779987191338,
            106.71270915879865,
            106.9264565670129,
            107.7521565245115,
            107.43030037073181,
            107.42084809790781,
            107.34518506941599,
            108.4595702784968,
            106.81258186461433,
            108.21931225320567,
            106.79751003489775,
            107.54447682698567,
            108.48644011759332,
            108.50381181054689,
            108.2380596008265,
            108.50046315234377,
            106.97349902561733,
            108.209041696153,
            108.36989467852787,
            107.6294606695112,
            107.58953564768917,
            107.19391062360883
           ],
           "marker": {
            "color": "#636efa",
            "size": [
             123553,
             12290,
             56921,
             245695,
             10923,
             98872,
             42177,
             72726,
             103652,
             101922,
             58105,
             23383,
             34508,
             17413,
             47989,
             7267,
             62465,
             18994,
             74548,
             82230,
             46746,
             77333,
             143245,
             109571
            ],
            "sizemode": "area",
            "sizeref": 1118.5675
           },
           "mode": "markers",
           "name": "",
           "showlegend": false,
           "subplot": "mapbox",
           "type": "scattermapbox"
          }
         ],
         "name": "1947"
        },
        {
         "data": [
          {
           "customdata": [
            [
             "gemini",
             106439,
             "CIREBON"
            ],
            [
             "gemini",
             149936,
             "BANDUNG"
            ],
            [
             "gemini",
             76163,
             "BANDUNG BARAT"
            ],
            [
             "gemini",
             257966,
             "BOGOR"
            ],
            [
             "gemini",
             20054,
             "PANGANDARAN"
            ],
            [
             "gemini",
             103180,
             "GARUT"
            ],
            [
             "gemini",
             18228,
             "KOTA CIMAHI"
            ],
            [
             "gemini",
             115169,
             "CIANJUR"
            ],
            [
             "gemini",
             24385,
             "KOTA TASIKMALAYA"
            ],
            [
             "gemini",
             59697,
             "SUBANG"
            ],
            [
             "gemini",
             36078,
             "KOTA BOGOR"
            ],
            [
             "gemini",
             130171,
             "BEKASI"
            ],
            [
             "gemini",
             7544,
             "KOTA BANJAR"
            ],
            [
             "gemini",
             77930,
             "KOTA BEKASI"
            ],
            [
             "gemini",
             11381,
             "KOTA SUKABUMI"
            ],
            [
             "gemini",
             50233,
             "KUNINGAN"
            ],
            [
             "gemini",
             12834,
             "KOTA CIREBON"
            ],
            [
             "gemini",
             108684,
             "KARAWANG"
            ],
            [
             "gemini",
             80912,
             "KOTA BANDUNG"
            ],
            [
             "gemini",
             44168,
             "PURWAKARTA"
            ],
            [
             "gemini",
             49008,
             "CIAMIS"
            ],
            [
             "gemini",
             66236,
             "MAJALENGKA"
            ],
            [
             "gemini",
             61019,
             "KOTA DEPOK"
            ],
            [
             "gemini",
             86238,
             "INDRAMAYU"
            ]
           ],
           "hovertemplate": "tahun_lahir=1948<br>cumulative_value=%{customdata[1]}<br>lat=%{lat}<br>long=%{lon}<br>signs=%{customdata[0]}<br>kab_kota=%{customdata[2]}<extra></extra>",
           "lat": [
            -6.6329217663006546,
            -7.0619754345248085,
            -6.833096220708732,
            -6.480949860895454,
            -7.570962318649283,
            -7.268378056249979,
            -6.886467361450196,
            -6.964360163286933,
            -7.346940849138343,
            -6.383496996638174,
            -6.592887079014497,
            -6.255207083225145,
            -7.338933589300536,
            -6.274403231484549,
            -6.936611189986721,
            -6.936765700872271,
            -6.729928146709096,
            -6.262359392767224,
            -6.921184978737736,
            -6.579142215298049,
            -7.30638836261014,
            -6.756968888223015,
            -6.393166663154723,
            -6.379720414654616
           ],
           "legendgroup": "",
           "lon": [
            108.4595702784968,
            107.58953564768917,
            107.42084809790781,
            106.71270915879865,
            108.50046315234377,
            107.7521565245115,
            107.54447682698567,
            107.19391062360883,
            108.21931225320567,
            107.59779987191338,
            106.79751003489775,
            107.24457348666594,
            108.50381181054689,
            106.97349902561733,
            106.9264565670129,
            108.48644011759332,
            108.5573116649281,
            107.34518506941599,
            107.6294606695112,
            107.43030037073181,
            108.36989467852787,
            108.2380596008265,
            106.81258186461433,
            108.209041696153
           ],
           "marker": {
            "color": "#636efa",
            "size": [
             106439,
             149936,
             76163,
             257966,
             20054,
             103180,
             18228,
             115169,
             24385,
             59697,
             36078,
             130171,
             7544,
             77930,
             11381,
             50233,
             12834,
             108684,
             80912,
             44168,
             49008,
             66236,
             61019,
             86238
            ],
            "sizemode": "area",
            "sizeref": 1118.5675
           },
           "mode": "markers",
           "name": "",
           "showlegend": false,
           "subplot": "mapbox",
           "type": "scattermapbox"
          }
         ],
         "name": "1948"
        },
        {
         "data": [
          {
           "customdata": [
            [
             "gemini",
             106458,
             "GARUT"
            ],
            [
             "gemini",
             45602,
             "PURWAKARTA"
            ],
            [
             "gemini",
             62096,
             "SUBANG"
            ],
            [
             "gemini",
             135248,
             "BEKASI"
            ],
            [
             "gemini",
             11766,
             "KOTA SUKABUMI"
            ],
            [
             "gemini",
             50934,
             "CIAMIS"
            ],
            [
             "gemini",
             13369,
             "KOTA CIREBON"
            ],
            [
             "gemini",
             80939,
             "KOTA BEKASI"
            ],
            [
             "gemini",
             52243,
             "KUNINGAN"
            ],
            [
             "gemini",
             63603,
             "KOTA DEPOK"
            ],
            [
             "gemini",
             37432,
             "KOTA BOGOR"
            ],
            [
             "gemini",
             84227,
             "KOTA BANDUNG"
            ],
            [
             "gemini",
             69523,
             "MAJALENGKA"
            ],
            [
             "gemini",
             89335,
             "INDRAMAYU"
            ],
            [
             "gemini",
             78925,
             "BANDUNG BARAT"
            ],
            [
             "gemini",
             18980,
             "KOTA CIMAHI"
            ],
            [
             "gemini",
             112762,
             "KARAWANG"
            ],
            [
             "gemini",
             25249,
             "KOTA TASIKMALAYA"
            ],
            [
             "gemini",
             7838,
             "KOTA BANJAR"
            ],
            [
             "gemini",
             118953,
             "CIANJUR"
            ],
            [
             "gemini",
             110081,
             "CIREBON"
            ],
            [
             "gemini",
             267716,
             "BOGOR"
            ],
            [
             "gemini",
             155623,
             "BANDUNG"
            ],
            [
             "gemini",
             20977,
             "PANGANDARAN"
            ]
           ],
           "hovertemplate": "tahun_lahir=1949<br>cumulative_value=%{customdata[1]}<br>lat=%{lat}<br>long=%{lon}<br>signs=%{customdata[0]}<br>kab_kota=%{customdata[2]}<extra></extra>",
           "lat": [
            -7.268378056249979,
            -6.579142215298049,
            -6.383496996638174,
            -6.255207083225145,
            -6.936611189986721,
            -7.30638836261014,
            -6.729928146709096,
            -6.274403231484549,
            -6.936765700872271,
            -6.393166663154723,
            -6.592887079014497,
            -6.921184978737736,
            -6.756968888223015,
            -6.379720414654616,
            -6.833096220708732,
            -6.886467361450196,
            -6.262359392767224,
            -7.346940849138343,
            -7.338933589300536,
            -6.964360163286933,
            -6.6329217663006546,
            -6.480949860895454,
            -7.0619754345248085,
            -7.570962318649283
           ],
           "legendgroup": "",
           "lon": [
            107.7521565245115,
            107.43030037073181,
            107.59779987191338,
            107.24457348666594,
            106.9264565670129,
            108.36989467852787,
            108.5573116649281,
            106.97349902561733,
            108.48644011759332,
            106.81258186461433,
            106.79751003489775,
            107.6294606695112,
            108.2380596008265,
            108.209041696153,
            107.42084809790781,
            107.54447682698567,
            107.34518506941599,
            108.21931225320567,
            108.50381181054689,
            107.19391062360883,
            108.4595702784968,
            106.71270915879865,
            107.58953564768917,
            108.50046315234377
           ],
           "marker": {
            "color": "#636efa",
            "size": [
             106458,
             45602,
             62096,
             135248,
             11766,
             50934,
             13369,
             80939,
             52243,
             63603,
             37432,
             84227,
             69523,
             89335,
             78925,
             18980,
             112762,
             25249,
             7838,
             118953,
             110081,
             267716,
             155623,
             20977
            ],
            "sizemode": "area",
            "sizeref": 1118.5675
           },
           "mode": "markers",
           "name": "",
           "showlegend": false,
           "subplot": "mapbox",
           "type": "scattermapbox"
          }
         ],
         "name": "1949"
        },
        {
         "data": [
          {
           "customdata": [
            [
             "gemini",
             84048,
             "KOTA BEKASI"
            ],
            [
             "gemini",
             12173,
             "KOTA SUKABUMI"
            ],
            [
             "gemini",
             54425,
             "KUNINGAN"
            ],
            [
             "gemini",
             140608,
             "BEKASI"
            ],
            [
             "gemini",
             72955,
             "MAJALENGKA"
            ],
            [
             "gemini",
             81944,
             "BANDUNG BARAT"
            ],
            [
             "gemini",
             8128,
             "KOTA BANJAR"
            ],
            [
             "gemini",
             21874,
             "PANGANDARAN"
            ],
            [
             "gemini",
             161547,
             "BANDUNG"
            ],
            [
             "gemini",
             19762,
             "KOTA CIMAHI"
            ],
            [
             "gemini",
             277954,
             "BOGOR"
            ],
            [
             "gemini",
             53035,
             "CIAMIS"
            ],
            [
             "gemini",
             114010,
             "CIREBON"
            ],
            [
             "gemini",
             26144,
             "KOTA TASIKMALAYA"
            ],
            [
             "gemini",
             110031,
             "GARUT"
            ],
            [
             "gemini",
             47202,
             "PURWAKARTA"
            ],
            [
             "gemini",
             87568,
             "KOTA BANDUNG"
            ],
            [
             "gemini",
             38823,
             "KOTA BOGOR"
            ],
            [
             "gemini",
             116855,
             "KARAWANG"
            ],
            [
             "gemini",
             13906,
             "KOTA CIREBON"
            ],
            [
             "gemini",
             92664,
             "INDRAMAYU"
            ],
            [
             "gemini",
             123073,
             "CIANJUR"
            ],
            [
             "gemini",
             66242,
             "KOTA DEPOK"
            ],
            [
             "gemini",
             64556,
             "SUBANG"
            ]
           ],
           "hovertemplate": "tahun_lahir=1950<br>cumulative_value=%{customdata[1]}<br>lat=%{lat}<br>long=%{lon}<br>signs=%{customdata[0]}<br>kab_kota=%{customdata[2]}<extra></extra>",
           "lat": [
            -6.274403231484549,
            -6.936611189986721,
            -6.936765700872271,
            -6.255207083225145,
            -6.756968888223015,
            -6.833096220708732,
            -7.338933589300536,
            -7.570962318649283,
            -7.0619754345248085,
            -6.886467361450196,
            -6.480949860895454,
            -7.30638836261014,
            -6.6329217663006546,
            -7.346940849138343,
            -7.268378056249979,
            -6.579142215298049,
            -6.921184978737736,
            -6.592887079014497,
            -6.262359392767224,
            -6.729928146709096,
            -6.379720414654616,
            -6.964360163286933,
            -6.393166663154723,
            -6.383496996638174
           ],
           "legendgroup": "",
           "lon": [
            106.97349902561733,
            106.9264565670129,
            108.48644011759332,
            107.24457348666594,
            108.2380596008265,
            107.42084809790781,
            108.50381181054689,
            108.50046315234377,
            107.58953564768917,
            107.54447682698567,
            106.71270915879865,
            108.36989467852787,
            108.4595702784968,
            108.21931225320567,
            107.7521565245115,
            107.43030037073181,
            107.6294606695112,
            106.79751003489775,
            107.34518506941599,
            108.5573116649281,
            108.209041696153,
            107.19391062360883,
            106.81258186461433,
            107.59779987191338
           ],
           "marker": {
            "color": "#636efa",
            "size": [
             84048,
             12173,
             54425,
             140608,
             72955,
             81944,
             8128,
             21874,
             161547,
             19762,
             277954,
             53035,
             114010,
             26144,
             110031,
             47202,
             87568,
             38823,
             116855,
             13906,
             92664,
             123073,
             66242,
             64556
            ],
            "sizemode": "area",
            "sizeref": 1118.5675
           },
           "mode": "markers",
           "name": "",
           "showlegend": false,
           "subplot": "mapbox",
           "type": "scattermapbox"
          }
         ],
         "name": "1950"
        },
        {
         "data": [
          {
           "customdata": [
            [
             "gemini",
             67394,
             "SUBANG"
            ],
            [
             "gemini",
             12616,
             "KOTA SUKABUMI"
            ],
            [
             "gemini",
             69016,
             "KOTA DEPOK"
            ],
            [
             "gemini",
             40375,
             "KOTA BOGOR"
            ],
            [
             "gemini",
             118218,
             "CIREBON"
            ],
            [
             "gemini",
             95976,
             "INDRAMAYU"
            ],
            [
             "gemini",
             55468,
             "CIAMIS"
            ],
            [
             "gemini",
             84926,
             "BANDUNG BARAT"
            ],
            [
             "gemini",
             14444,
             "KOTA CIREBON"
            ],
            [
             "gemini",
             8435,
             "KOTA BANJAR"
            ],
            [
             "gemini",
             76971,
             "MAJALENGKA"
            ],
            [
             "gemini",
             127583,
             "CIANJUR"
            ],
            [
             "gemini",
             22864,
             "PANGANDARAN"
            ],
            [
             "gemini",
             91094,
             "KOTA BANDUNG"
            ],
            [
             "gemini",
             49020,
             "PURWAKARTA"
            ],
            [
             "gemini",
             56860,
             "KUNINGAN"
            ],
            [
             "gemini",
             288703,
             "BOGOR"
            ],
            [
             "gemini",
             146223,
             "BEKASI"
            ],
            [
             "gemini",
             121594,
             "KARAWANG"
            ],
            [
             "gemini",
             27169,
             "KOTA TASIKMALAYA"
            ],
            [
             "gemini",
             87320,
             "KOTA BEKASI"
            ],
            [
             "gemini",
             20579,
             "KOTA CIMAHI"
            ],
            [
             "gemini",
             167718,
             "BANDUNG"
            ],
            [
             "gemini",
             113991,
             "GARUT"
            ]
           ],
           "hovertemplate": "tahun_lahir=1951<br>cumulative_value=%{customdata[1]}<br>lat=%{lat}<br>long=%{lon}<br>signs=%{customdata[0]}<br>kab_kota=%{customdata[2]}<extra></extra>",
           "lat": [
            -6.383496996638174,
            -6.936611189986721,
            -6.393166663154723,
            -6.592887079014497,
            -6.6329217663006546,
            -6.379720414654616,
            -7.30638836261014,
            -6.833096220708732,
            -6.729928146709096,
            -7.338933589300536,
            -6.756968888223015,
            -6.964360163286933,
            -7.570962318649283,
            -6.921184978737736,
            -6.579142215298049,
            -6.936765700872271,
            -6.480949860895454,
            -6.255207083225145,
            -6.262359392767224,
            -7.346940849138343,
            -6.274403231484549,
            -6.886467361450196,
            -7.0619754345248085,
            -7.268378056249979
           ],
           "legendgroup": "",
           "lon": [
            107.59779987191338,
            106.9264565670129,
            106.81258186461433,
            106.79751003489775,
            108.4595702784968,
            108.209041696153,
            108.36989467852787,
            107.42084809790781,
            108.5573116649281,
            108.50381181054689,
            108.2380596008265,
            107.19391062360883,
            108.50046315234377,
            107.6294606695112,
            107.43030037073181,
            108.48644011759332,
            106.71270915879865,
            107.24457348666594,
            107.34518506941599,
            108.21931225320567,
            106.97349902561733,
            107.54447682698567,
            107.58953564768917,
            107.7521565245115
           ],
           "marker": {
            "color": "#636efa",
            "size": [
             67394,
             12616,
             69016,
             40375,
             118218,
             95976,
             55468,
             84926,
             14444,
             8435,
             76971,
             127583,
             22864,
             91094,
             49020,
             56860,
             288703,
             146223,
             121594,
             27169,
             87320,
             20579,
             167718,
             113991
            ],
            "sizemode": "area",
            "sizeref": 1118.5675
           },
           "mode": "markers",
           "name": "",
           "showlegend": false,
           "subplot": "mapbox",
           "type": "scattermapbox"
          }
         ],
         "name": "1951"
        },
        {
         "data": [
          {
           "customdata": [
            [
             "gemini",
             90006,
             "KOTA BEKASI"
            ],
            [
             "gemini",
             58577,
             "KUNINGAN"
            ],
            [
             "gemini",
             50282,
             "PURWAKARTA"
            ],
            [
             "gemini",
             23590,
             "PANGANDARAN"
            ],
            [
             "gemini",
             94222,
             "KOTA BANDUNG"
            ],
            [
             "gemini",
             69345,
             "SUBANG"
            ],
            [
             "gemini",
             116851,
             "GARUT"
            ],
            [
             "gemini",
             41551,
             "KOTA BOGOR"
            ],
            [
             "gemini",
             130618,
             "CIANJUR"
            ],
            [
             "gemini",
             172217,
             "BANDUNG"
            ],
            [
             "gemini",
             71343,
             "KOTA DEPOK"
            ],
            [
             "gemini",
             296712,
             "BOGOR"
            ],
            [
             "gemini",
             27955,
             "KOTA TASIKMALAYA"
            ],
            [
             "gemini",
             124726,
             "KARAWANG"
            ],
            [
             "gemini",
             121158,
             "CIREBON"
            ],
            [
             "gemini",
             8676,
             "KOTA BANJAR"
            ],
            [
             "gemini",
             21210,
             "KOTA CIMAHI"
            ],
            [
             "gemini",
             98471,
             "INDRAMAYU"
            ],
            [
             "gemini",
             57183,
             "CIAMIS"
            ],
            [
             "gemini",
             87121,
             "BANDUNG BARAT"
            ],
            [
             "gemini",
             150504,
             "BEKASI"
            ],
            [
             "gemini",
             79742,
             "MAJALENGKA"
            ],
            [
             "gemini",
             14920,
             "KOTA CIREBON"
            ],
            [
             "gemini",
             12915,
             "KOTA SUKABUMI"
            ]
           ],
           "hovertemplate": "tahun_lahir=1952<br>cumulative_value=%{customdata[1]}<br>lat=%{lat}<br>long=%{lon}<br>signs=%{customdata[0]}<br>kab_kota=%{customdata[2]}<extra></extra>",
           "lat": [
            -6.274403231484549,
            -6.936765700872271,
            -6.579142215298049,
            -7.570962318649283,
            -6.921184978737736,
            -6.383496996638174,
            -7.268378056249979,
            -6.592887079014497,
            -6.964360163286933,
            -7.0619754345248085,
            -6.393166663154723,
            -6.480949860895454,
            -7.346940849138343,
            -6.262359392767224,
            -6.6329217663006546,
            -7.338933589300536,
            -6.886467361450196,
            -6.379720414654616,
            -7.30638836261014,
            -6.833096220708732,
            -6.255207083225145,
            -6.756968888223015,
            -6.729928146709096,
            -6.936611189986721
           ],
           "legendgroup": "",
           "lon": [
            106.97349902561733,
            108.48644011759332,
            107.43030037073181,
            108.50046315234377,
            107.6294606695112,
            107.59779987191338,
            107.7521565245115,
            106.79751003489775,
            107.19391062360883,
            107.58953564768917,
            106.81258186461433,
            106.71270915879865,
            108.21931225320567,
            107.34518506941599,
            108.4595702784968,
            108.50381181054689,
            107.54447682698567,
            108.209041696153,
            108.36989467852787,
            107.42084809790781,
            107.24457348666594,
            108.2380596008265,
            108.5573116649281,
            106.9264565670129
           ],
           "marker": {
            "color": "#636efa",
            "size": [
             90006,
             58577,
             50282,
             23590,
             94222,
             69345,
             116851,
             41551,
             130618,
             172217,
             71343,
             296712,
             27955,
             124726,
             121158,
             8676,
             21210,
             98471,
             57183,
             87121,
             150504,
             79742,
             14920,
             12915
            ],
            "sizemode": "area",
            "sizeref": 1118.5675
           },
           "mode": "markers",
           "name": "",
           "showlegend": false,
           "subplot": "mapbox",
           "type": "scattermapbox"
          }
         ],
         "name": "1952"
        },
        {
         "data": [
          {
           "customdata": [
            [
             "gemini",
             21910,
             "KOTA CIMAHI"
            ],
            [
             "gemini",
             13345,
             "KOTA SUKABUMI"
            ],
            [
             "gemini",
             28849,
             "KOTA TASIKMALAYA"
            ],
            [
             "gemini",
             156512,
             "BEKASI"
            ],
            [
             "gemini",
             129498,
             "KARAWANG"
            ],
            [
             "gemini",
             15451,
             "KOTA CIREBON"
            ],
            [
             "gemini",
             83615,
             "MAJALENGKA"
            ],
            [
             "gemini",
             120691,
             "GARUT"
            ],
            [
             "gemini",
             135409,
             "CIANJUR"
            ],
            [
             "gemini",
             102063,
             "INDRAMAYU"
            ],
            [
             "gemini",
             59482,
             "CIAMIS"
            ],
            [
             "gemini",
             308151,
             "BOGOR"
            ],
            [
             "gemini",
             125302,
             "CIREBON"
            ],
            [
             "gemini",
             90120,
             "BANDUNG BARAT"
            ],
            [
             "gemini",
             52069,
             "PURWAKARTA"
            ],
            [
             "gemini",
             177530,
             "BANDUNG"
            ],
            [
             "gemini",
             73915,
             "KOTA DEPOK"
            ],
            [
             "gemini",
             72018,
             "SUBANG"
            ],
            [
             "gemini",
             8937,
             "KOTA BANJAR"
            ],
            [
             "gemini",
             93288,
             "KOTA BEKASI"
            ],
            [
             "gemini",
             60857,
             "KUNINGAN"
            ],
            [
             "gemini",
             42981,
             "KOTA BOGOR"
            ],
            [
             "gemini",
             97454,
             "KOTA BANDUNG"
            ],
            [
             "gemini",
             24612,
             "PANGANDARAN"
            ]
           ],
           "hovertemplate": "tahun_lahir=1953<br>cumulative_value=%{customdata[1]}<br>lat=%{lat}<br>long=%{lon}<br>signs=%{customdata[0]}<br>kab_kota=%{customdata[2]}<extra></extra>",
           "lat": [
            -6.886467361450196,
            -6.936611189986721,
            -7.346940849138343,
            -6.255207083225145,
            -6.262359392767224,
            -6.729928146709096,
            -6.756968888223015,
            -7.268378056249979,
            -6.964360163286933,
            -6.379720414654616,
            -7.30638836261014,
            -6.480949860895454,
            -6.6329217663006546,
            -6.833096220708732,
            -6.579142215298049,
            -7.0619754345248085,
            -6.393166663154723,
            -6.383496996638174,
            -7.338933589300536,
            -6.274403231484549,
            -6.936765700872271,
            -6.592887079014497,
            -6.921184978737736,
            -7.570962318649283
           ],
           "legendgroup": "",
           "lon": [
            107.54447682698567,
            106.9264565670129,
            108.21931225320567,
            107.24457348666594,
            107.34518506941599,
            108.5573116649281,
            108.2380596008265,
            107.7521565245115,
            107.19391062360883,
            108.209041696153,
            108.36989467852787,
            106.71270915879865,
            108.4595702784968,
            107.42084809790781,
            107.43030037073181,
            107.58953564768917,
            106.81258186461433,
            107.59779987191338,
            108.50381181054689,
            106.97349902561733,
            108.48644011759332,
            106.79751003489775,
            107.6294606695112,
            108.50046315234377
           ],
           "marker": {
            "color": "#636efa",
            "size": [
             21910,
             13345,
             28849,
             156512,
             129498,
             15451,
             83615,
             120691,
             135409,
             102063,
             59482,
             308151,
             125302,
             90120,
             52069,
             177530,
             73915,
             72018,
             8937,
             93288,
             60857,
             42981,
             97454,
             24612
            ],
            "sizemode": "area",
            "sizeref": 1118.5675
           },
           "mode": "markers",
           "name": "",
           "showlegend": false,
           "subplot": "mapbox",
           "type": "scattermapbox"
          }
         ],
         "name": "1953"
        },
        {
         "data": [
          {
           "customdata": [
            [
             "gemini",
             96247,
             "KOTA BEKASI"
            ],
            [
             "gemini",
             13712,
             "KOTA SUKABUMI"
            ],
            [
             "gemini",
             29716,
             "KOTA TASIKMALAYA"
            ],
            [
             "gemini",
             22587,
             "KOTA CIMAHI"
            ],
            [
             "gemini",
             123569,
             "GARUT"
            ],
            [
             "gemini",
             15990,
             "KOTA CIREBON"
            ],
            [
             "gemini",
             316838,
             "BOGOR"
            ],
            [
             "gemini",
             132934,
             "KARAWANG"
            ],
            [
             "gemini",
             161229,
             "BEKASI"
            ],
            [
             "gemini",
             9203,
             "KOTA BANJAR"
            ],
            [
             "gemini",
             104523,
             "INDRAMAYU"
            ],
            [
             "gemini",
             128715,
             "CIREBON"
            ],
            [
             "gemini",
             182696,
             "BANDUNG"
            ],
            [
             "gemini",
             53453,
             "PURWAKARTA"
            ],
            [
             "gemini",
             44377,
             "KOTA BOGOR"
            ],
            [
             "gemini",
             138705,
             "CIANJUR"
            ],
            [
             "gemini",
             87244,
             "MAJALENGKA"
            ],
            [
             "gemini",
             62907,
             "KUNINGAN"
            ],
            [
             "gemini",
             74268,
             "SUBANG"
            ],
            [
             "gemini",
             92421,
             "BANDUNG BARAT"
            ],
            [
             "gemini",
             76369,
             "KOTA DEPOK"
            ],
            [
             "gemini",
             100815,
             "KOTA BANDUNG"
            ],
            [
             "gemini",
             61586,
             "CIAMIS"
            ],
            [
             "gemini",
             25526,
             "PANGANDARAN"
            ]
           ],
           "hovertemplate": "tahun_lahir=1954<br>cumulative_value=%{customdata[1]}<br>lat=%{lat}<br>long=%{lon}<br>signs=%{customdata[0]}<br>kab_kota=%{customdata[2]}<extra></extra>",
           "lat": [
            -6.274403231484549,
            -6.936611189986721,
            -7.346940849138343,
            -6.886467361450196,
            -7.268378056249979,
            -6.729928146709096,
            -6.480949860895454,
            -6.262359392767224,
            -6.255207083225145,
            -7.338933589300536,
            -6.379720414654616,
            -6.6329217663006546,
            -7.0619754345248085,
            -6.579142215298049,
            -6.592887079014497,
            -6.964360163286933,
            -6.756968888223015,
            -6.936765700872271,
            -6.383496996638174,
            -6.833096220708732,
            -6.393166663154723,
            -6.921184978737736,
            -7.30638836261014,
            -7.570962318649283
           ],
           "legendgroup": "",
           "lon": [
            106.97349902561733,
            106.9264565670129,
            108.21931225320567,
            107.54447682698567,
            107.7521565245115,
            108.5573116649281,
            106.71270915879865,
            107.34518506941599,
            107.24457348666594,
            108.50381181054689,
            108.209041696153,
            108.4595702784968,
            107.58953564768917,
            107.43030037073181,
            106.79751003489775,
            107.19391062360883,
            108.2380596008265,
            108.48644011759332,
            107.59779987191338,
            107.42084809790781,
            106.81258186461433,
            107.6294606695112,
            108.36989467852787,
            108.50046315234377
           ],
           "marker": {
            "color": "#636efa",
            "size": [
             96247,
             13712,
             29716,
             22587,
             123569,
             15990,
             316838,
             132934,
             161229,
             9203,
             104523,
             128715,
             182696,
             53453,
             44377,
             138705,
             87244,
             62907,
             74268,
             92421,
             76369,
             100815,
             61586,
             25526
            ],
            "sizemode": "area",
            "sizeref": 1118.5675
           },
           "mode": "markers",
           "name": "",
           "showlegend": false,
           "subplot": "mapbox",
           "type": "scattermapbox"
          }
         ],
         "name": "1954"
        },
        {
         "data": [
          {
           "customdata": [
            [
             "gemini",
             45655,
             "KOTA BOGOR"
            ],
            [
             "gemini",
             103974,
             "KOTA BANDUNG"
            ],
            [
             "gemini",
             142261,
             "CIANJUR"
            ],
            [
             "gemini",
             126432,
             "GARUT"
            ],
            [
             "gemini",
             63520,
             "CIAMIS"
            ],
            [
             "gemini",
             325595,
             "BOGOR"
            ],
            [
             "gemini",
             64926,
             "KUNINGAN"
            ],
            [
             "gemini",
             187307,
             "BANDUNG"
            ],
            [
             "gemini",
             54742,
             "PURWAKARTA"
            ],
            [
             "gemini",
             90618,
             "MAJALENGKA"
            ],
            [
             "gemini",
             23285,
             "KOTA CIMAHI"
            ],
            [
             "gemini",
             165906,
             "BEKASI"
            ],
            [
             "gemini",
             30539,
             "KOTA TASIKMALAYA"
            ],
            [
             "gemini",
             16496,
             "KOTA CIREBON"
            ],
            [
             "gemini",
             94795,
             "BANDUNG BARAT"
            ],
            [
             "gemini",
             107168,
             "INDRAMAYU"
            ],
            [
             "gemini",
             76391,
             "SUBANG"
            ],
            [
             "gemini",
             14071,
             "KOTA SUKABUMI"
            ],
            [
             "gemini",
             99262,
             "KOTA BEKASI"
            ],
            [
             "gemini",
             9470,
             "KOTA BANJAR"
            ],
            [
             "gemini",
             78633,
             "KOTA DEPOK"
            ],
            [
             "gemini",
             26377,
             "PANGANDARAN"
            ],
            [
             "gemini",
             136515,
             "KARAWANG"
            ],
            [
             "gemini",
             132130,
             "CIREBON"
            ]
           ],
           "hovertemplate": "tahun_lahir=1955<br>cumulative_value=%{customdata[1]}<br>lat=%{lat}<br>long=%{lon}<br>signs=%{customdata[0]}<br>kab_kota=%{customdata[2]}<extra></extra>",
           "lat": [
            -6.592887079014497,
            -6.921184978737736,
            -6.964360163286933,
            -7.268378056249979,
            -7.30638836261014,
            -6.480949860895454,
            -6.936765700872271,
            -7.0619754345248085,
            -6.579142215298049,
            -6.756968888223015,
            -6.886467361450196,
            -6.255207083225145,
            -7.346940849138343,
            -6.729928146709096,
            -6.833096220708732,
            -6.379720414654616,
            -6.383496996638174,
            -6.936611189986721,
            -6.274403231484549,
            -7.338933589300536,
            -6.393166663154723,
            -7.570962318649283,
            -6.262359392767224,
            -6.6329217663006546
           ],
           "legendgroup": "",
           "lon": [
            106.79751003489775,
            107.6294606695112,
            107.19391062360883,
            107.7521565245115,
            108.36989467852787,
            106.71270915879865,
            108.48644011759332,
            107.58953564768917,
            107.43030037073181,
            108.2380596008265,
            107.54447682698567,
            107.24457348666594,
            108.21931225320567,
            108.5573116649281,
            107.42084809790781,
            108.209041696153,
            107.59779987191338,
            106.9264565670129,
            106.97349902561733,
            108.50381181054689,
            106.81258186461433,
            108.50046315234377,
            107.34518506941599,
            108.4595702784968
           ],
           "marker": {
            "color": "#636efa",
            "size": [
             45655,
             103974,
             142261,
             126432,
             63520,
             325595,
             64926,
             187307,
             54742,
             90618,
             23285,
             165906,
             30539,
             16496,
             94795,
             107168,
             76391,
             14071,
             99262,
             9470,
             78633,
             26377,
             136515,
             132130
            ],
            "sizemode": "area",
            "sizeref": 1118.5675
           },
           "mode": "markers",
           "name": "",
           "showlegend": false,
           "subplot": "mapbox",
           "type": "scattermapbox"
          }
         ],
         "name": "1955"
        },
        {
         "data": [
          {
           "customdata": [
            [
             "gemini",
             46873,
             "KOTA BOGOR"
            ],
            [
             "gemini",
             16979,
             "KOTA CIREBON"
            ],
            [
             "gemini",
             55917,
             "PURWAKARTA"
            ],
            [
             "gemini",
             27169,
             "PANGANDARAN"
            ],
            [
             "gemini",
             169845,
             "BEKASI"
            ],
            [
             "gemini",
             96965,
             "BANDUNG BARAT"
            ],
            [
             "gemini",
             9694,
             "KOTA BANJAR"
            ],
            [
             "gemini",
             80812,
             "KOTA DEPOK"
            ],
            [
             "gemini",
             333647,
             "BOGOR"
            ],
            [
             "gemini",
             65340,
             "CIAMIS"
            ],
            [
             "gemini",
             23901,
             "KOTA CIMAHI"
            ],
            [
             "gemini",
             135325,
             "CIREBON"
            ],
            [
             "gemini",
             145125,
             "CIANJUR"
            ],
            [
             "gemini",
             66756,
             "KUNINGAN"
            ],
            [
             "gemini",
             191585,
             "BANDUNG"
            ],
            [
             "gemini",
             31289,
             "KOTA TASIKMALAYA"
            ],
            [
             "gemini",
             102043,
             "KOTA BEKASI"
            ],
            [
             "gemini",
             139509,
             "KARAWANG"
            ],
            [
             "gemini",
             78182,
             "SUBANG"
            ],
            [
             "gemini",
             129171,
             "GARUT"
            ],
            [
             "gemini",
             93870,
             "MAJALENGKA"
            ],
            [
             "gemini",
             14408,
             "KOTA SUKABUMI"
            ],
            [
             "gemini",
             107092,
             "KOTA BANDUNG"
            ],
            [
             "gemini",
             109384,
             "INDRAMAYU"
            ]
           ],
           "hovertemplate": "tahun_lahir=1956<br>cumulative_value=%{customdata[1]}<br>lat=%{lat}<br>long=%{lon}<br>signs=%{customdata[0]}<br>kab_kota=%{customdata[2]}<extra></extra>",
           "lat": [
            -6.592887079014497,
            -6.729928146709096,
            -6.579142215298049,
            -7.570962318649283,
            -6.255207083225145,
            -6.833096220708732,
            -7.338933589300536,
            -6.393166663154723,
            -6.480949860895454,
            -7.30638836261014,
            -6.886467361450196,
            -6.6329217663006546,
            -6.964360163286933,
            -6.936765700872271,
            -7.0619754345248085,
            -7.346940849138343,
            -6.274403231484549,
            -6.262359392767224,
            -6.383496996638174,
            -7.268378056249979,
            -6.756968888223015,
            -6.936611189986721,
            -6.921184978737736,
            -6.379720414654616
           ],
           "legendgroup": "",
           "lon": [
            106.79751003489775,
            108.5573116649281,
            107.43030037073181,
            108.50046315234377,
            107.24457348666594,
            107.42084809790781,
            108.50381181054689,
            106.81258186461433,
            106.71270915879865,
            108.36989467852787,
            107.54447682698567,
            108.4595702784968,
            107.19391062360883,
            108.48644011759332,
            107.58953564768917,
            108.21931225320567,
            106.97349902561733,
            107.34518506941599,
            107.59779987191338,
            107.7521565245115,
            108.2380596008265,
            106.9264565670129,
            107.6294606695112,
            108.209041696153
           ],
           "marker": {
            "color": "#636efa",
            "size": [
             46873,
             16979,
             55917,
             27169,
             169845,
             96965,
             9694,
             80812,
             333647,
             65340,
             23901,
             135325,
             145125,
             66756,
             191585,
             31289,
             102043,
             139509,
             78182,
             129171,
             93870,
             14408,
             107092,
             109384
            ],
            "sizemode": "area",
            "sizeref": 1118.5675
           },
           "mode": "markers",
           "name": "",
           "showlegend": false,
           "subplot": "mapbox",
           "type": "scattermapbox"
          }
         ],
         "name": "1956"
        },
        {
         "data": [
          {
           "customdata": [
            [
             "gemini",
             173344,
             "BEKASI"
            ],
            [
             "gemini",
             110130,
             "KOTA BANDUNG"
            ],
            [
             "gemini",
             47970,
             "KOTA BOGOR"
            ],
            [
             "gemini",
             17464,
             "KOTA CIREBON"
            ],
            [
             "gemini",
             14758,
             "KOTA SUKABUMI"
            ],
            [
             "gemini",
             96874,
             "MAJALENGKA"
            ],
            [
             "gemini",
             340980,
             "BOGOR"
            ],
            [
             "gemini",
             56981,
             "PURWAKARTA"
            ],
            [
             "gemini",
             27947,
             "PANGANDARAN"
            ],
            [
             "gemini",
             195694,
             "BANDUNG"
            ],
            [
             "gemini",
             67256,
             "CIAMIS"
            ],
            [
             "gemini",
             68538,
             "KUNINGAN"
            ],
            [
             "gemini",
             24546,
             "KOTA CIMAHI"
            ],
            [
             "gemini",
             111269,
             "INDRAMAYU"
            ],
            [
             "gemini",
             131799,
             "GARUT"
            ],
            [
             "gemini",
             79645,
             "SUBANG"
            ],
            [
             "gemini",
             147751,
             "CIANJUR"
            ],
            [
             "gemini",
             98986,
             "BANDUNG BARAT"
            ],
            [
             "gemini",
             82813,
             "KOTA DEPOK"
            ],
            [
             "gemini",
             104796,
             "KOTA BEKASI"
            ],
            [
             "gemini",
             32018,
             "KOTA TASIKMALAYA"
            ],
            [
             "gemini",
             142040,
             "KARAWANG"
            ],
            [
             "gemini",
             9940,
             "KOTA BANJAR"
            ],
            [
             "gemini",
             138278,
             "CIREBON"
            ]
           ],
           "hovertemplate": "tahun_lahir=1957<br>cumulative_value=%{customdata[1]}<br>lat=%{lat}<br>long=%{lon}<br>signs=%{customdata[0]}<br>kab_kota=%{customdata[2]}<extra></extra>",
           "lat": [
            -6.255207083225145,
            -6.921184978737736,
            -6.592887079014497,
            -6.729928146709096,
            -6.936611189986721,
            -6.756968888223015,
            -6.480949860895454,
            -6.579142215298049,
            -7.570962318649283,
            -7.0619754345248085,
            -7.30638836261014,
            -6.936765700872271,
            -6.886467361450196,
            -6.379720414654616,
            -7.268378056249979,
            -6.383496996638174,
            -6.964360163286933,
            -6.833096220708732,
            -6.393166663154723,
            -6.274403231484549,
            -7.346940849138343,
            -6.262359392767224,
            -7.338933589300536,
            -6.6329217663006546
           ],
           "legendgroup": "",
           "lon": [
            107.24457348666594,
            107.6294606695112,
            106.79751003489775,
            108.5573116649281,
            106.9264565670129,
            108.2380596008265,
            106.71270915879865,
            107.43030037073181,
            108.50046315234377,
            107.58953564768917,
            108.36989467852787,
            108.48644011759332,
            107.54447682698567,
            108.209041696153,
            107.7521565245115,
            107.59779987191338,
            107.19391062360883,
            107.42084809790781,
            106.81258186461433,
            106.97349902561733,
            108.21931225320567,
            107.34518506941599,
            108.50381181054689,
            108.4595702784968
           ],
           "marker": {
            "color": "#636efa",
            "size": [
             173344,
             110130,
             47970,
             17464,
             14758,
             96874,
             340980,
             56981,
             27947,
             195694,
             67256,
             68538,
             24546,
             111269,
             131799,
             79645,
             147751,
             98986,
             82813,
             104796,
             32018,
             142040,
             9940,
             138278
            ],
            "sizemode": "area",
            "sizeref": 1118.5675
           },
           "mode": "markers",
           "name": "",
           "showlegend": false,
           "subplot": "mapbox",
           "type": "scattermapbox"
          }
         ],
         "name": "1957"
        },
        {
         "data": [
          {
           "customdata": [
            [
             "gemini",
             29053,
             "PANGANDARAN"
            ],
            [
             "gemini",
             81949,
             "SUBANG"
            ],
            [
             "gemini",
             178147,
             "BEKASI"
            ],
            [
             "gemini",
             200437,
             "BANDUNG"
            ],
            [
             "gemini",
             49191,
             "KOTA BOGOR"
            ],
            [
             "gemini",
             17999,
             "KOTA CIREBON"
            ],
            [
             "gemini",
             85089,
             "KOTA DEPOK"
            ],
            [
             "gemini",
             58345,
             "PURWAKARTA"
            ],
            [
             "gemini",
             25179,
             "KOTA CIMAHI"
            ],
            [
             "gemini",
             113400,
             "KOTA BANDUNG"
            ],
            [
             "gemini",
             70700,
             "KUNINGAN"
            ],
            [
             "gemini",
             151793,
             "CIANJUR"
            ],
            [
             "gemini",
             101143,
             "MAJALENGKA"
            ],
            [
             "gemini",
             107887,
             "KOTA BEKASI"
            ],
            [
             "gemini",
             350741,
             "BOGOR"
            ],
            [
             "gemini",
             101384,
             "BANDUNG BARAT"
            ],
            [
             "gemini",
             15110,
             "KOTA SUKABUMI"
            ],
            [
             "gemini",
             134971,
             "GARUT"
            ],
            [
             "gemini",
             32888,
             "KOTA TASIKMALAYA"
            ],
            [
             "gemini",
             146052,
             "KARAWANG"
            ],
            [
             "gemini",
             141903,
             "CIREBON"
            ],
            [
             "gemini",
             114062,
             "INDRAMAYU"
            ],
            [
             "gemini",
             69513,
             "CIAMIS"
            ],
            [
             "gemini",
             10286,
             "KOTA BANJAR"
            ]
           ],
           "hovertemplate": "tahun_lahir=1958<br>cumulative_value=%{customdata[1]}<br>lat=%{lat}<br>long=%{lon}<br>signs=%{customdata[0]}<br>kab_kota=%{customdata[2]}<extra></extra>",
           "lat": [
            -7.570962318649283,
            -6.383496996638174,
            -6.255207083225145,
            -7.0619754345248085,
            -6.592887079014497,
            -6.729928146709096,
            -6.393166663154723,
            -6.579142215298049,
            -6.886467361450196,
            -6.921184978737736,
            -6.936765700872271,
            -6.964360163286933,
            -6.756968888223015,
            -6.274403231484549,
            -6.480949860895454,
            -6.833096220708732,
            -6.936611189986721,
            -7.268378056249979,
            -7.346940849138343,
            -6.262359392767224,
            -6.6329217663006546,
            -6.379720414654616,
            -7.30638836261014,
            -7.338933589300536
           ],
           "legendgroup": "",
           "lon": [
            108.50046315234377,
            107.59779987191338,
            107.24457348666594,
            107.58953564768917,
            106.79751003489775,
            108.5573116649281,
            106.81258186461433,
            107.43030037073181,
            107.54447682698567,
            107.6294606695112,
            108.48644011759332,
            107.19391062360883,
            108.2380596008265,
            106.97349902561733,
            106.71270915879865,
            107.42084809790781,
            106.9264565670129,
            107.7521565245115,
            108.21931225320567,
            107.34518506941599,
            108.4595702784968,
            108.209041696153,
            108.36989467852787,
            108.50381181054689
           ],
           "marker": {
            "color": "#636efa",
            "size": [
             29053,
             81949,
             178147,
             200437,
             49191,
             17999,
             85089,
             58345,
             25179,
             113400,
             70700,
             151793,
             101143,
             107887,
             350741,
             101384,
             15110,
             134971,
             32888,
             146052,
             141903,
             114062,
             69513,
             10286
            ],
            "sizemode": "area",
            "sizeref": 1118.5675
           },
           "mode": "markers",
           "name": "",
           "showlegend": false,
           "subplot": "mapbox",
           "type": "scattermapbox"
          }
         ],
         "name": "1958"
        },
        {
         "data": [
          {
           "customdata": [
            [
             "gemini",
             357316,
             "BOGOR"
            ],
            [
             "gemini",
             33604,
             "KOTA TASIKMALAYA"
            ],
            [
             "gemini",
             154599,
             "CIANJUR"
            ],
            [
             "gemini",
             15403,
             "KOTA SUKABUMI"
            ],
            [
             "gemini",
             71343,
             "CIAMIS"
            ],
            [
             "gemini",
             181383,
             "BEKASI"
            ],
            [
             "gemini",
             103266,
             "BANDUNG BARAT"
            ],
            [
             "gemini",
             110317,
             "KOTA BEKASI"
            ],
            [
             "gemini",
             104556,
             "MAJALENGKA"
            ],
            [
             "gemini",
             148242,
             "KARAWANG"
            ],
            [
             "gemini",
             59310,
             "PURWAKARTA"
            ],
            [
             "gemini",
             83686,
             "SUBANG"
            ],
            [
             "gemini",
             204020,
             "BANDUNG"
            ],
            [
             "gemini",
             116190,
             "KOTA BANDUNG"
            ],
            [
             "gemini",
             115829,
             "INDRAMAYU"
            ],
            [
             "gemini",
             50211,
             "KOTA BOGOR"
            ],
            [
             "gemini",
             29828,
             "PANGANDARAN"
            ],
            [
             "gemini",
             18434,
             "KOTA CIREBON"
            ],
            [
             "gemini",
             25743,
             "KOTA CIMAHI"
            ],
            [
             "gemini",
             137322,
             "GARUT"
            ],
            [
             "gemini",
             72261,
             "KUNINGAN"
            ],
            [
             "gemini",
             144406,
             "CIREBON"
            ],
            [
             "gemini",
             10529,
             "KOTA BANJAR"
            ],
            [
             "gemini",
             86955,
             "KOTA DEPOK"
            ]
           ],
           "hovertemplate": "tahun_lahir=1959<br>cumulative_value=%{customdata[1]}<br>lat=%{lat}<br>long=%{lon}<br>signs=%{customdata[0]}<br>kab_kota=%{customdata[2]}<extra></extra>",
           "lat": [
            -6.480949860895454,
            -7.346940849138343,
            -6.964360163286933,
            -6.936611189986721,
            -7.30638836261014,
            -6.255207083225145,
            -6.833096220708732,
            -6.274403231484549,
            -6.756968888223015,
            -6.262359392767224,
            -6.579142215298049,
            -6.383496996638174,
            -7.0619754345248085,
            -6.921184978737736,
            -6.379720414654616,
            -6.592887079014497,
            -7.570962318649283,
            -6.729928146709096,
            -6.886467361450196,
            -7.268378056249979,
            -6.936765700872271,
            -6.6329217663006546,
            -7.338933589300536,
            -6.393166663154723
           ],
           "legendgroup": "",
           "lon": [
            106.71270915879865,
            108.21931225320567,
            107.19391062360883,
            106.9264565670129,
            108.36989467852787,
            107.24457348666594,
            107.42084809790781,
            106.97349902561733,
            108.2380596008265,
            107.34518506941599,
            107.43030037073181,
            107.59779987191338,
            107.58953564768917,
            107.6294606695112,
            108.209041696153,
            106.79751003489775,
            108.50046315234377,
            108.5573116649281,
            107.54447682698567,
            107.7521565245115,
            108.48644011759332,
            108.4595702784968,
            108.50381181054689,
            106.81258186461433
           ],
           "marker": {
            "color": "#636efa",
            "size": [
             357316,
             33604,
             154599,
             15403,
             71343,
             181383,
             103266,
             110317,
             104556,
             148242,
             59310,
             83686,
             204020,
             116190,
             115829,
             50211,
             29828,
             18434,
             25743,
             137322,
             72261,
             144406,
             10529,
             86955
            ],
            "sizemode": "area",
            "sizeref": 1118.5675
           },
           "mode": "markers",
           "name": "",
           "showlegend": false,
           "subplot": "mapbox",
           "type": "scattermapbox"
          }
         ],
         "name": "1959"
        },
        {
         "data": [
          {
           "customdata": [
            [
             "gemini",
             85292,
             "SUBANG"
            ],
            [
             "gemini",
             60150,
             "PURWAKARTA"
            ],
            [
             "gemini",
             150654,
             "KARAWANG"
            ],
            [
             "gemini",
             207715,
             "BANDUNG"
            ],
            [
             "gemini",
             15692,
             "KOTA SUKABUMI"
            ],
            [
             "gemini",
             118983,
             "KOTA BANDUNG"
            ],
            [
             "gemini",
             30532,
             "PANGANDARAN"
            ],
            [
             "gemini",
             18865,
             "KOTA CIREBON"
            ],
            [
             "gemini",
             157243,
             "CIANJUR"
            ],
            [
             "gemini",
             51260,
             "KOTA BOGOR"
            ],
            [
             "gemini",
             139600,
             "GARUT"
            ],
            [
             "gemini",
             117716,
             "INDRAMAYU"
            ],
            [
             "gemini",
             105097,
             "BANDUNG BARAT"
            ],
            [
             "gemini",
             26233,
             "KOTA CIMAHI"
            ],
            [
             "gemini",
             73110,
             "CIAMIS"
            ],
            [
             "gemini",
             112944,
             "KOTA BEKASI"
            ],
            [
             "gemini",
             363790,
             "BOGOR"
            ],
            [
             "gemini",
             107712,
             "MAJALENGKA"
            ],
            [
             "gemini",
             10783,
             "KOTA BANJAR"
            ],
            [
             "gemini",
             88728,
             "KOTA DEPOK"
            ],
            [
             "gemini",
             34258,
             "KOTA TASIKMALAYA"
            ],
            [
             "gemini",
             147193,
             "CIREBON"
            ],
            [
             "gemini",
             184943,
             "BEKASI"
            ],
            [
             "gemini",
             73775,
             "KUNINGAN"
            ]
           ],
           "hovertemplate": "tahun_lahir=1960<br>cumulative_value=%{customdata[1]}<br>lat=%{lat}<br>long=%{lon}<br>signs=%{customdata[0]}<br>kab_kota=%{customdata[2]}<extra></extra>",
           "lat": [
            -6.383496996638174,
            -6.579142215298049,
            -6.262359392767224,
            -7.0619754345248085,
            -6.936611189986721,
            -6.921184978737736,
            -7.570962318649283,
            -6.729928146709096,
            -6.964360163286933,
            -6.592887079014497,
            -7.268378056249979,
            -6.379720414654616,
            -6.833096220708732,
            -6.886467361450196,
            -7.30638836261014,
            -6.274403231484549,
            -6.480949860895454,
            -6.756968888223015,
            -7.338933589300536,
            -6.393166663154723,
            -7.346940849138343,
            -6.6329217663006546,
            -6.255207083225145,
            -6.936765700872271
           ],
           "legendgroup": "",
           "lon": [
            107.59779987191338,
            107.43030037073181,
            107.34518506941599,
            107.58953564768917,
            106.9264565670129,
            107.6294606695112,
            108.50046315234377,
            108.5573116649281,
            107.19391062360883,
            106.79751003489775,
            107.7521565245115,
            108.209041696153,
            107.42084809790781,
            107.54447682698567,
            108.36989467852787,
            106.97349902561733,
            106.71270915879865,
            108.2380596008265,
            108.50381181054689,
            106.81258186461433,
            108.21931225320567,
            108.4595702784968,
            107.24457348666594,
            108.48644011759332
           ],
           "marker": {
            "color": "#636efa",
            "size": [
             85292,
             60150,
             150654,
             207715,
             15692,
             118983,
             30532,
             18865,
             157243,
             51260,
             139600,
             117716,
             105097,
             26233,
             73110,
             112944,
             363790,
             107712,
             10783,
             88728,
             34258,
             147193,
             184943,
             73775
            ],
            "sizemode": "area",
            "sizeref": 1118.5675
           },
           "mode": "markers",
           "name": "",
           "showlegend": false,
           "subplot": "mapbox",
           "type": "scattermapbox"
          }
         ],
         "name": "1960"
        },
        {
         "data": [
          {
           "customdata": [
            [
             "gemini",
             119618,
             "INDRAMAYU"
            ],
            [
             "gemini",
             75491,
             "KUNINGAN"
            ],
            [
             "gemini",
             52388,
             "KOTA BOGOR"
            ],
            [
             "gemini",
             15974,
             "KOTA SUKABUMI"
            ],
            [
             "gemini",
             160071,
             "CIANJUR"
            ],
            [
             "gemini",
             211331,
             "BANDUNG"
            ],
            [
             "gemini",
             121849,
             "KOTA BANDUNG"
            ],
            [
             "gemini",
             90606,
             "KOTA DEPOK"
            ],
            [
             "gemini",
             11038,
             "KOTA BANJAR"
            ],
            [
             "gemini",
             188018,
             "BEKASI"
            ],
            [
             "gemini",
             111392,
             "MAJALENGKA"
            ],
            [
             "gemini",
             34962,
             "KOTA TASIKMALAYA"
            ],
            [
             "gemini",
             19345,
             "KOTA CIREBON"
            ],
            [
             "gemini",
             26751,
             "KOTA CIMAHI"
            ],
            [
             "gemini",
             106982,
             "BANDUNG BARAT"
            ],
            [
             "gemini",
             370897,
             "BOGOR"
            ],
            [
             "gemini",
             31293,
             "PANGANDARAN"
            ],
            [
             "gemini",
             86917,
             "SUBANG"
            ],
            [
             "gemini",
             115607,
             "KOTA BEKASI"
            ],
            [
             "gemini",
             153227,
             "KARAWANG"
            ],
            [
             "gemini",
             75021,
             "CIAMIS"
            ],
            [
             "gemini",
             142073,
             "GARUT"
            ],
            [
             "gemini",
             61085,
             "PURWAKARTA"
            ],
            [
             "gemini",
             150035,
             "CIREBON"
            ]
           ],
           "hovertemplate": "tahun_lahir=1961<br>cumulative_value=%{customdata[1]}<br>lat=%{lat}<br>long=%{lon}<br>signs=%{customdata[0]}<br>kab_kota=%{customdata[2]}<extra></extra>",
           "lat": [
            -6.379720414654616,
            -6.936765700872271,
            -6.592887079014497,
            -6.936611189986721,
            -6.964360163286933,
            -7.0619754345248085,
            -6.921184978737736,
            -6.393166663154723,
            -7.338933589300536,
            -6.255207083225145,
            -6.756968888223015,
            -7.346940849138343,
            -6.729928146709096,
            -6.886467361450196,
            -6.833096220708732,
            -6.480949860895454,
            -7.570962318649283,
            -6.383496996638174,
            -6.274403231484549,
            -6.262359392767224,
            -7.30638836261014,
            -7.268378056249979,
            -6.579142215298049,
            -6.6329217663006546
           ],
           "legendgroup": "",
           "lon": [
            108.209041696153,
            108.48644011759332,
            106.79751003489775,
            106.9264565670129,
            107.19391062360883,
            107.58953564768917,
            107.6294606695112,
            106.81258186461433,
            108.50381181054689,
            107.24457348666594,
            108.2380596008265,
            108.21931225320567,
            108.5573116649281,
            107.54447682698567,
            107.42084809790781,
            106.71270915879865,
            108.50046315234377,
            107.59779987191338,
            106.97349902561733,
            107.34518506941599,
            108.36989467852787,
            107.7521565245115,
            107.43030037073181,
            108.4595702784968
           ],
           "marker": {
            "color": "#636efa",
            "size": [
             119618,
             75491,
             52388,
             15974,
             160071,
             211331,
             121849,
             90606,
             11038,
             188018,
             111392,
             34962,
             19345,
             26751,
             106982,
             370897,
             31293,
             86917,
             115607,
             153227,
             75021,
             142073,
             61085,
             150035
            ],
            "sizemode": "area",
            "sizeref": 1118.5675
           },
           "mode": "markers",
           "name": "",
           "showlegend": false,
           "subplot": "mapbox",
           "type": "scattermapbox"
          }
         ],
         "name": "1961"
        },
        {
         "data": [
          {
           "customdata": [
            [
             "gemini",
             91953,
             "KOTA DEPOK"
            ],
            [
             "gemini",
             11204,
             "KOTA BANJAR"
            ],
            [
             "gemini",
             152075,
             "CIREBON"
            ],
            [
             "gemini",
             120893,
             "INDRAMAYU"
            ],
            [
             "gemini",
             190317,
             "BEKASI"
            ],
            [
             "gemini",
             143784,
             "GARUT"
            ],
            [
             "gemini",
             213996,
             "BANDUNG"
            ],
            [
             "gemini",
             31841,
             "PANGANDARAN"
            ],
            [
             "gemini",
             53198,
             "KOTA BOGOR"
            ],
            [
             "gemini",
             108151,
             "BANDUNG BARAT"
            ],
            [
             "gemini",
             16190,
             "KOTA SUKABUMI"
            ],
            [
             "gemini",
             113880,
             "MAJALENGKA"
            ],
            [
             "gemini",
             117627,
             "KOTA BEKASI"
            ],
            [
             "gemini",
             124057,
             "KOTA BANDUNG"
            ],
            [
             "gemini",
             375892,
             "BOGOR"
            ],
            [
             "gemini",
             35436,
             "KOTA TASIKMALAYA"
            ],
            [
             "gemini",
             161679,
             "CIANJUR"
            ],
            [
             "gemini",
             154777,
             "KARAWANG"
            ],
            [
             "gemini",
             87869,
             "SUBANG"
            ],
            [
             "gemini",
             76648,
             "KUNINGAN"
            ],
            [
             "gemini",
             76386,
             "CIAMIS"
            ],
            [
             "gemini",
             19763,
             "KOTA CIREBON"
            ],
            [
             "gemini",
             27121,
             "KOTA CIMAHI"
            ],
            [
             "gemini",
             61644,
             "PURWAKARTA"
            ]
           ],
           "hovertemplate": "tahun_lahir=1962<br>cumulative_value=%{customdata[1]}<br>lat=%{lat}<br>long=%{lon}<br>signs=%{customdata[0]}<br>kab_kota=%{customdata[2]}<extra></extra>",
           "lat": [
            -6.393166663154723,
            -7.338933589300536,
            -6.6329217663006546,
            -6.379720414654616,
            -6.255207083225145,
            -7.268378056249979,
            -7.0619754345248085,
            -7.570962318649283,
            -6.592887079014497,
            -6.833096220708732,
            -6.936611189986721,
            -6.756968888223015,
            -6.274403231484549,
            -6.921184978737736,
            -6.480949860895454,
            -7.346940849138343,
            -6.964360163286933,
            -6.262359392767224,
            -6.383496996638174,
            -6.936765700872271,
            -7.30638836261014,
            -6.729928146709096,
            -6.886467361450196,
            -6.579142215298049
           ],
           "legendgroup": "",
           "lon": [
            106.81258186461433,
            108.50381181054689,
            108.4595702784968,
            108.209041696153,
            107.24457348666594,
            107.7521565245115,
            107.58953564768917,
            108.50046315234377,
            106.79751003489775,
            107.42084809790781,
            106.9264565670129,
            108.2380596008265,
            106.97349902561733,
            107.6294606695112,
            106.71270915879865,
            108.21931225320567,
            107.19391062360883,
            107.34518506941599,
            107.59779987191338,
            108.48644011759332,
            108.36989467852787,
            108.5573116649281,
            107.54447682698567,
            107.43030037073181
           ],
           "marker": {
            "color": "#636efa",
            "size": [
             91953,
             11204,
             152075,
             120893,
             190317,
             143784,
             213996,
             31841,
             53198,
             108151,
             16190,
             113880,
             117627,
             124057,
             375892,
             35436,
             161679,
             154777,
             87869,
             76648,
             76386,
             19763,
             27121,
             61644
            ],
            "sizemode": "area",
            "sizeref": 1118.5675
           },
           "mode": "markers",
           "name": "",
           "showlegend": false,
           "subplot": "mapbox",
           "type": "scattermapbox"
          }
         ],
         "name": "1962"
        },
        {
         "data": [
          {
           "customdata": [
            [
             "gemini",
             158442,
             "KARAWANG"
            ],
            [
             "gemini",
             20330,
             "KOTA CIREBON"
            ],
            [
             "gemini",
             78709,
             "CIAMIS"
            ],
            [
             "gemini",
             165547,
             "CIANJUR"
            ],
            [
             "gemini",
             78618,
             "KUNINGAN"
            ],
            [
             "gemini",
             155544,
             "CIREBON"
            ],
            [
             "gemini",
             11550,
             "KOTA BANJAR"
            ],
            [
             "gemini",
             27601,
             "KOTA CIMAHI"
            ],
            [
             "gemini",
             110308,
             "BANDUNG BARAT"
            ],
            [
             "gemini",
             385190,
             "BOGOR"
            ],
            [
             "gemini",
             62860,
             "PURWAKARTA"
            ],
            [
             "gemini",
             93843,
             "KOTA DEPOK"
            ],
            [
             "gemini",
             54331,
             "KOTA BOGOR"
            ],
            [
             "gemini",
             194826,
             "BEKASI"
            ],
            [
             "gemini",
             36197,
             "KOTA TASIKMALAYA"
            ],
            [
             "gemini",
             146708,
             "GARUT"
            ],
            [
             "gemini",
             90029,
             "SUBANG"
            ],
            [
             "gemini",
             120444,
             "KOTA BEKASI"
            ],
            [
             "gemini",
             126889,
             "KOTA BANDUNG"
            ],
            [
             "gemini",
             118446,
             "MAJALENGKA"
            ],
            [
             "gemini",
             217693,
             "BANDUNG"
            ],
            [
             "gemini",
             123984,
             "INDRAMAYU"
            ],
            [
             "gemini",
             32881,
             "PANGANDARAN"
            ],
            [
             "gemini",
             16461,
             "KOTA SUKABUMI"
            ]
           ],
           "hovertemplate": "tahun_lahir=1963<br>cumulative_value=%{customdata[1]}<br>lat=%{lat}<br>long=%{lon}<br>signs=%{customdata[0]}<br>kab_kota=%{customdata[2]}<extra></extra>",
           "lat": [
            -6.262359392767224,
            -6.729928146709096,
            -7.30638836261014,
            -6.964360163286933,
            -6.936765700872271,
            -6.6329217663006546,
            -7.338933589300536,
            -6.886467361450196,
            -6.833096220708732,
            -6.480949860895454,
            -6.579142215298049,
            -6.393166663154723,
            -6.592887079014497,
            -6.255207083225145,
            -7.346940849138343,
            -7.268378056249979,
            -6.383496996638174,
            -6.274403231484549,
            -6.921184978737736,
            -6.756968888223015,
            -7.0619754345248085,
            -6.379720414654616,
            -7.570962318649283,
            -6.936611189986721
           ],
           "legendgroup": "",
           "lon": [
            107.34518506941599,
            108.5573116649281,
            108.36989467852787,
            107.19391062360883,
            108.48644011759332,
            108.4595702784968,
            108.50381181054689,
            107.54447682698567,
            107.42084809790781,
            106.71270915879865,
            107.43030037073181,
            106.81258186461433,
            106.79751003489775,
            107.24457348666594,
            108.21931225320567,
            107.7521565245115,
            107.59779987191338,
            106.97349902561733,
            107.6294606695112,
            108.2380596008265,
            107.58953564768917,
            108.209041696153,
            108.50046315234377,
            106.9264565670129
           ],
           "marker": {
            "color": "#636efa",
            "size": [
             158442,
             20330,
             78709,
             165547,
             78618,
             155544,
             11550,
             27601,
             110308,
             385190,
             62860,
             93843,
             54331,
             194826,
             36197,
             146708,
             90029,
             120444,
             126889,
             118446,
             217693,
             123984,
             32881,
             16461
            ],
            "sizemode": "area",
            "sizeref": 1118.5675
           },
           "mode": "markers",
           "name": "",
           "showlegend": false,
           "subplot": "mapbox",
           "type": "scattermapbox"
          }
         ],
         "name": "1963"
        },
        {
         "data": [
          {
           "customdata": [
            [
             "gemini",
             36777,
             "KOTA TASIKMALAYA"
            ],
            [
             "gemini",
             167362,
             "CIANJUR"
            ],
            [
             "gemini",
             129378,
             "KOTA BANDUNG"
            ],
            [
             "gemini",
             55204,
             "KOTA BOGOR"
            ],
            [
             "gemini",
             121425,
             "MAJALENGKA"
            ],
            [
             "gemini",
             16683,
             "KOTA SUKABUMI"
            ],
            [
             "gemini",
             91338,
             "SUBANG"
            ],
            [
             "gemini",
             160153,
             "KARAWANG"
            ],
            [
             "gemini",
             11776,
             "KOTA BANJAR"
            ],
            [
             "gemini",
             197163,
             "BEKASI"
            ],
            [
             "gemini",
             122477,
             "KOTA BEKASI"
            ],
            [
             "gemini",
             125372,
             "INDRAMAYU"
            ],
            [
             "gemini",
             80309,
             "CIAMIS"
            ],
            [
             "gemini",
             389814,
             "BOGOR"
            ],
            [
             "gemini",
             157491,
             "CIREBON"
            ],
            [
             "gemini",
             220236,
             "BANDUNG"
            ],
            [
             "gemini",
             63588,
             "PURWAKARTA"
            ],
            [
             "gemini",
             33529,
             "PANGANDARAN"
            ],
            [
             "gemini",
             111699,
             "BANDUNG BARAT"
            ],
            [
             "gemini",
             20820,
             "KOTA CIREBON"
            ],
            [
             "gemini",
             79822,
             "KUNINGAN"
            ],
            [
             "gemini",
             148231,
             "GARUT"
            ],
            [
             "gemini",
             95227,
             "KOTA DEPOK"
            ],
            [
             "gemini",
             27972,
             "KOTA CIMAHI"
            ]
           ],
           "hovertemplate": "tahun_lahir=1964<br>cumulative_value=%{customdata[1]}<br>lat=%{lat}<br>long=%{lon}<br>signs=%{customdata[0]}<br>kab_kota=%{customdata[2]}<extra></extra>",
           "lat": [
            -7.346940849138343,
            -6.964360163286933,
            -6.921184978737736,
            -6.592887079014497,
            -6.756968888223015,
            -6.936611189986721,
            -6.383496996638174,
            -6.262359392767224,
            -7.338933589300536,
            -6.255207083225145,
            -6.274403231484549,
            -6.379720414654616,
            -7.30638836261014,
            -6.480949860895454,
            -6.6329217663006546,
            -7.0619754345248085,
            -6.579142215298049,
            -7.570962318649283,
            -6.833096220708732,
            -6.729928146709096,
            -6.936765700872271,
            -7.268378056249979,
            -6.393166663154723,
            -6.886467361450196
           ],
           "legendgroup": "",
           "lon": [
            108.21931225320567,
            107.19391062360883,
            107.6294606695112,
            106.79751003489775,
            108.2380596008265,
            106.9264565670129,
            107.59779987191338,
            107.34518506941599,
            108.50381181054689,
            107.24457348666594,
            106.97349902561733,
            108.209041696153,
            108.36989467852787,
            106.71270915879865,
            108.4595702784968,
            107.58953564768917,
            107.43030037073181,
            108.50046315234377,
            107.42084809790781,
            108.5573116649281,
            108.48644011759332,
            107.7521565245115,
            106.81258186461433,
            107.54447682698567
           ],
           "marker": {
            "color": "#636efa",
            "size": [
             36777,
             167362,
             129378,
             55204,
             121425,
             16683,
             91338,
             160153,
             11776,
             197163,
             122477,
             125372,
             80309,
             389814,
             157491,
             220236,
             63588,
             33529,
             111699,
             20820,
             79822,
             148231,
             95227,
             27972
            ],
            "sizemode": "area",
            "sizeref": 1118.5675
           },
           "mode": "markers",
           "name": "",
           "showlegend": false,
           "subplot": "mapbox",
           "type": "scattermapbox"
          }
         ],
         "name": "1964"
        },
        {
         "data": [
          {
           "customdata": [
            [
             "gemini",
             169630,
             "CIANJUR"
            ],
            [
             "gemini",
             56081,
             "KOTA BOGOR"
            ],
            [
             "gemini",
             131740,
             "KOTA BANDUNG"
            ],
            [
             "gemini",
             394964,
             "BOGOR"
            ],
            [
             "gemini",
             96729,
             "KOTA DEPOK"
            ],
            [
             "gemini",
             124388,
             "MAJALENGKA"
            ],
            [
             "gemini",
             16898,
             "KOTA SUKABUMI"
            ],
            [
             "gemini",
             113080,
             "BANDUNG BARAT"
            ],
            [
             "gemini",
             222928,
             "BANDUNG"
            ],
            [
             "gemini",
             124761,
             "KOTA BEKASI"
            ],
            [
             "gemini",
             127043,
             "INDRAMAYU"
            ],
            [
             "gemini",
             199878,
             "BEKASI"
            ],
            [
             "gemini",
             21230,
             "KOTA CIREBON"
            ],
            [
             "gemini",
             12003,
             "KOTA BANJAR"
            ],
            [
             "gemini",
             34129,
             "PANGANDARAN"
            ],
            [
             "gemini",
             81866,
             "CIAMIS"
            ],
            [
             "gemini",
             64285,
             "PURWAKARTA"
            ],
            [
             "gemini",
             150147,
             "GARUT"
            ],
            [
             "gemini",
             81271,
             "KUNINGAN"
            ],
            [
             "gemini",
             159825,
             "CIREBON"
            ],
            [
             "gemini",
             92595,
             "SUBANG"
            ],
            [
             "gemini",
             37327,
             "KOTA TASIKMALAYA"
            ],
            [
             "gemini",
             162094,
             "KARAWANG"
            ],
            [
             "gemini",
             28333,
             "KOTA CIMAHI"
            ]
           ],
           "hovertemplate": "tahun_lahir=1965<br>cumulative_value=%{customdata[1]}<br>lat=%{lat}<br>long=%{lon}<br>signs=%{customdata[0]}<br>kab_kota=%{customdata[2]}<extra></extra>",
           "lat": [
            -6.964360163286933,
            -6.592887079014497,
            -6.921184978737736,
            -6.480949860895454,
            -6.393166663154723,
            -6.756968888223015,
            -6.936611189986721,
            -6.833096220708732,
            -7.0619754345248085,
            -6.274403231484549,
            -6.379720414654616,
            -6.255207083225145,
            -6.729928146709096,
            -7.338933589300536,
            -7.570962318649283,
            -7.30638836261014,
            -6.579142215298049,
            -7.268378056249979,
            -6.936765700872271,
            -6.6329217663006546,
            -6.383496996638174,
            -7.346940849138343,
            -6.262359392767224,
            -6.886467361450196
           ],
           "legendgroup": "",
           "lon": [
            107.19391062360883,
            106.79751003489775,
            107.6294606695112,
            106.71270915879865,
            106.81258186461433,
            108.2380596008265,
            106.9264565670129,
            107.42084809790781,
            107.58953564768917,
            106.97349902561733,
            108.209041696153,
            107.24457348666594,
            108.5573116649281,
            108.50381181054689,
            108.50046315234377,
            108.36989467852787,
            107.43030037073181,
            107.7521565245115,
            108.48644011759332,
            108.4595702784968,
            107.59779987191338,
            108.21931225320567,
            107.34518506941599,
            107.54447682698567
           ],
           "marker": {
            "color": "#636efa",
            "size": [
             169630,
             56081,
             131740,
             394964,
             96729,
             124388,
             16898,
             113080,
             222928,
             124761,
             127043,
             199878,
             21230,
             12003,
             34129,
             81866,
             64285,
             150147,
             81271,
             159825,
             92595,
             37327,
             162094,
             28333
            ],
            "sizemode": "area",
            "sizeref": 1118.5675
           },
           "mode": "markers",
           "name": "",
           "showlegend": false,
           "subplot": "mapbox",
           "type": "scattermapbox"
          }
         ],
         "name": "1965"
        },
        {
         "data": [
          {
           "customdata": [
            [
             "gemini",
             128397,
             "INDRAMAYU"
            ],
            [
             "gemini",
             127175,
             "MAJALENGKA"
            ],
            [
             "gemini",
             202016,
             "BEKASI"
            ],
            [
             "gemini",
             37808,
             "KOTA TASIKMALAYA"
            ],
            [
             "gemini",
             28656,
             "KOTA CIMAHI"
            ],
            [
             "gemini",
             162120,
             "CIREBON"
            ],
            [
             "gemini",
             64866,
             "PURWAKARTA"
            ],
            [
             "gemini",
             163683,
             "KARAWANG"
            ],
            [
             "gemini",
             82486,
             "KUNINGAN"
            ],
            [
             "gemini",
             171366,
             "CIANJUR"
            ],
            [
             "gemini",
             34735,
             "PANGANDARAN"
            ],
            [
             "gemini",
             134092,
             "KOTA BANDUNG"
            ],
            [
             "gemini",
             56915,
             "KOTA BOGOR"
            ],
            [
             "gemini",
             83368,
             "CIAMIS"
            ],
            [
             "gemini",
             126682,
             "KOTA BEKASI"
            ],
            [
             "gemini",
             114292,
             "BANDUNG BARAT"
            ],
            [
             "gemini",
             12197,
             "KOTA BANJAR"
            ],
            [
             "gemini",
             97972,
             "KOTA DEPOK"
            ],
            [
             "gemini",
             399981,
             "BOGOR"
            ],
            [
             "gemini",
             17083,
             "KOTA SUKABUMI"
            ],
            [
             "gemini",
             93696,
             "SUBANG"
            ],
            [
             "gemini",
             151736,
             "GARUT"
            ],
            [
             "gemini",
             21650,
             "KOTA CIREBON"
            ],
            [
             "gemini",
             225359,
             "BANDUNG"
            ]
           ],
           "hovertemplate": "tahun_lahir=1966<br>cumulative_value=%{customdata[1]}<br>lat=%{lat}<br>long=%{lon}<br>signs=%{customdata[0]}<br>kab_kota=%{customdata[2]}<extra></extra>",
           "lat": [
            -6.379720414654616,
            -6.756968888223015,
            -6.255207083225145,
            -7.346940849138343,
            -6.886467361450196,
            -6.6329217663006546,
            -6.579142215298049,
            -6.262359392767224,
            -6.936765700872271,
            -6.964360163286933,
            -7.570962318649283,
            -6.921184978737736,
            -6.592887079014497,
            -7.30638836261014,
            -6.274403231484549,
            -6.833096220708732,
            -7.338933589300536,
            -6.393166663154723,
            -6.480949860895454,
            -6.936611189986721,
            -6.383496996638174,
            -7.268378056249979,
            -6.729928146709096,
            -7.0619754345248085
           ],
           "legendgroup": "",
           "lon": [
            108.209041696153,
            108.2380596008265,
            107.24457348666594,
            108.21931225320567,
            107.54447682698567,
            108.4595702784968,
            107.43030037073181,
            107.34518506941599,
            108.48644011759332,
            107.19391062360883,
            108.50046315234377,
            107.6294606695112,
            106.79751003489775,
            108.36989467852787,
            106.97349902561733,
            107.42084809790781,
            108.50381181054689,
            106.81258186461433,
            106.71270915879865,
            106.9264565670129,
            107.59779987191338,
            107.7521565245115,
            108.5573116649281,
            107.58953564768917
           ],
           "marker": {
            "color": "#636efa",
            "size": [
             128397,
             127175,
             202016,
             37808,
             28656,
             162120,
             64866,
             163683,
             82486,
             171366,
             34735,
             134092,
             56915,
             83368,
             126682,
             114292,
             12197,
             97972,
             399981,
             17083,
             93696,
             151736,
             21650,
             225359
            ],
            "sizemode": "area",
            "sizeref": 1118.5675
           },
           "mode": "markers",
           "name": "",
           "showlegend": false,
           "subplot": "mapbox",
           "type": "scattermapbox"
          }
         ],
         "name": "1966"
        },
        {
         "data": [
          {
           "customdata": [
            [
             "gemini",
             17281,
             "KOTA SUKABUMI"
            ],
            [
             "gemini",
             227727,
             "BANDUNG"
            ],
            [
             "gemini",
             404469,
             "BOGOR"
            ],
            [
             "gemini",
             28995,
             "KOTA CIMAHI"
            ],
            [
             "gemini",
             129699,
             "MAJALENGKA"
            ],
            [
             "gemini",
             129671,
             "INDRAMAYU"
            ],
            [
             "gemini",
             165162,
             "KARAWANG"
            ],
            [
             "gemini",
             204023,
             "BEKASI"
            ],
            [
             "gemini",
             128420,
             "KOTA BEKASI"
            ],
            [
             "gemini",
             84772,
             "CIAMIS"
            ],
            [
             "gemini",
             99146,
             "KOTA DEPOK"
            ],
            [
             "gemini",
             136380,
             "KOTA BANDUNG"
            ],
            [
             "gemini",
             22034,
             "KOTA CIREBON"
            ],
            [
             "gemini",
             153182,
             "GARUT"
            ],
            [
             "gemini",
             172881,
             "CIANJUR"
            ],
            [
             "gemini",
             94691,
             "SUBANG"
            ],
            [
             "gemini",
             38307,
             "KOTA TASIKMALAYA"
            ],
            [
             "gemini",
             35285,
             "PANGANDARAN"
            ],
            [
             "gemini",
             115416,
             "BANDUNG BARAT"
            ],
            [
             "gemini",
             83646,
             "KUNINGAN"
            ],
            [
             "gemini",
             65516,
             "PURWAKARTA"
            ],
            [
             "gemini",
             12375,
             "KOTA BANJAR"
            ],
            [
             "gemini",
             57668,
             "KOTA BOGOR"
            ],
            [
             "gemini",
             164001,
             "CIREBON"
            ]
           ],
           "hovertemplate": "tahun_lahir=1967<br>cumulative_value=%{customdata[1]}<br>lat=%{lat}<br>long=%{lon}<br>signs=%{customdata[0]}<br>kab_kota=%{customdata[2]}<extra></extra>",
           "lat": [
            -6.936611189986721,
            -7.0619754345248085,
            -6.480949860895454,
            -6.886467361450196,
            -6.756968888223015,
            -6.379720414654616,
            -6.262359392767224,
            -6.255207083225145,
            -6.274403231484549,
            -7.30638836261014,
            -6.393166663154723,
            -6.921184978737736,
            -6.729928146709096,
            -7.268378056249979,
            -6.964360163286933,
            -6.383496996638174,
            -7.346940849138343,
            -7.570962318649283,
            -6.833096220708732,
            -6.936765700872271,
            -6.579142215298049,
            -7.338933589300536,
            -6.592887079014497,
            -6.6329217663006546
           ],
           "legendgroup": "",
           "lon": [
            106.9264565670129,
            107.58953564768917,
            106.71270915879865,
            107.54447682698567,
            108.2380596008265,
            108.209041696153,
            107.34518506941599,
            107.24457348666594,
            106.97349902561733,
            108.36989467852787,
            106.81258186461433,
            107.6294606695112,
            108.5573116649281,
            107.7521565245115,
            107.19391062360883,
            107.59779987191338,
            108.21931225320567,
            108.50046315234377,
            107.42084809790781,
            108.48644011759332,
            107.43030037073181,
            108.50381181054689,
            106.79751003489775,
            108.4595702784968
           ],
           "marker": {
            "color": "#636efa",
            "size": [
             17281,
             227727,
             404469,
             28995,
             129699,
             129671,
             165162,
             204023,
             128420,
             84772,
             99146,
             136380,
             22034,
             153182,
             172881,
             94691,
             38307,
             35285,
             115416,
             83646,
             65516,
             12375,
             57668,
             164001
            ],
            "sizemode": "area",
            "sizeref": 1118.5675
           },
           "mode": "markers",
           "name": "",
           "showlegend": false,
           "subplot": "mapbox",
           "type": "scattermapbox"
          }
         ],
         "name": "1967"
        },
        {
         "data": [
          {
           "customdata": [
            [
             "gemini",
             130194,
             "KOTA BEKASI"
            ],
            [
             "gemini",
             58432,
             "KOTA BOGOR"
            ],
            [
             "gemini",
             206392,
             "BEKASI"
            ],
            [
             "gemini",
             166293,
             "CIREBON"
            ],
            [
             "gemini",
             409796,
             "BOGOR"
            ],
            [
             "gemini",
             12583,
             "KOTA BANJAR"
            ],
            [
             "gemini",
             17470,
             "KOTA SUKABUMI"
            ],
            [
             "gemini",
             131516,
             "INDRAMAYU"
            ],
            [
             "gemini",
             95883,
             "SUBANG"
            ],
            [
             "gemini",
             175001,
             "CIANJUR"
            ],
            [
             "gemini",
             100373,
             "KOTA DEPOK"
            ],
            [
             "gemini",
             154888,
             "GARUT"
            ],
            [
             "gemini",
             66220,
             "PURWAKARTA"
            ],
            [
             "gemini",
             138416,
             "KOTA BANDUNG"
            ],
            [
             "gemini",
             38812,
             "KOTA TASIKMALAYA"
            ],
            [
             "gemini",
             22440,
             "KOTA CIREBON"
            ],
            [
             "gemini",
             132725,
             "MAJALENGKA"
            ],
            [
             "gemini",
             35895,
             "PANGANDARAN"
            ],
            [
             "gemini",
             84962,
             "KUNINGAN"
            ],
            [
             "gemini",
             86253,
             "CIAMIS"
            ],
            [
             "gemini",
             29283,
             "KOTA CIMAHI"
            ],
            [
             "gemini",
             116675,
             "BANDUNG BARAT"
            ],
            [
             "gemini",
             167051,
             "KARAWANG"
            ],
            [
             "gemini",
             229989,
             "BANDUNG"
            ]
           ],
           "hovertemplate": "tahun_lahir=1968<br>cumulative_value=%{customdata[1]}<br>lat=%{lat}<br>long=%{lon}<br>signs=%{customdata[0]}<br>kab_kota=%{customdata[2]}<extra></extra>",
           "lat": [
            -6.274403231484549,
            -6.592887079014497,
            -6.255207083225145,
            -6.6329217663006546,
            -6.480949860895454,
            -7.338933589300536,
            -6.936611189986721,
            -6.379720414654616,
            -6.383496996638174,
            -6.964360163286933,
            -6.393166663154723,
            -7.268378056249979,
            -6.579142215298049,
            -6.921184978737736,
            -7.346940849138343,
            -6.729928146709096,
            -6.756968888223015,
            -7.570962318649283,
            -6.936765700872271,
            -7.30638836261014,
            -6.886467361450196,
            -6.833096220708732,
            -6.262359392767224,
            -7.0619754345248085
           ],
           "legendgroup": "",
           "lon": [
            106.97349902561733,
            106.79751003489775,
            107.24457348666594,
            108.4595702784968,
            106.71270915879865,
            108.50381181054689,
            106.9264565670129,
            108.209041696153,
            107.59779987191338,
            107.19391062360883,
            106.81258186461433,
            107.7521565245115,
            107.43030037073181,
            107.6294606695112,
            108.21931225320567,
            108.5573116649281,
            108.2380596008265,
            108.50046315234377,
            108.48644011759332,
            108.36989467852787,
            107.54447682698567,
            107.42084809790781,
            107.34518506941599,
            107.58953564768917
           ],
           "marker": {
            "color": "#636efa",
            "size": [
             130194,
             58432,
             206392,
             166293,
             409796,
             12583,
             17470,
             131516,
             95883,
             175001,
             100373,
             154888,
             66220,
             138416,
             38812,
             22440,
             132725,
             35895,
             84962,
             86253,
             29283,
             116675,
             167051,
             229989
            ],
            "sizemode": "area",
            "sizeref": 1118.5675
           },
           "mode": "markers",
           "name": "",
           "showlegend": false,
           "subplot": "mapbox",
           "type": "scattermapbox"
          }
         ],
         "name": "1968"
        },
        {
         "data": [
          {
           "customdata": [
            [
             "gemini",
             167811,
             "CIREBON"
            ],
            [
             "gemini",
             96892,
             "SUBANG"
            ],
            [
             "gemini",
             86051,
             "KUNINGAN"
            ],
            [
             "gemini",
             101350,
             "KOTA DEPOK"
            ],
            [
             "gemini",
             22817,
             "KOTA CIREBON"
            ],
            [
             "gemini",
             59047,
             "KOTA BOGOR"
            ],
            [
             "gemini",
             117772,
             "BANDUNG BARAT"
            ],
            [
             "gemini",
             12740,
             "KOTA BANJAR"
            ],
            [
             "gemini",
             39262,
             "KOTA TASIKMALAYA"
            ],
            [
             "gemini",
             176561,
             "CIANJUR"
            ],
            [
             "gemini",
             36472,
             "PANGANDARAN"
            ],
            [
             "gemini",
             168372,
             "KARAWANG"
            ],
            [
             "gemini",
             131594,
             "KOTA BEKASI"
            ],
            [
             "gemini",
             156120,
             "GARUT"
            ],
            [
             "gemini",
             132569,
             "INDRAMAYU"
            ],
            [
             "gemini",
             87750,
             "CIAMIS"
            ],
            [
             "gemini",
             140395,
             "KOTA BANDUNG"
            ],
            [
             "gemini",
             208033,
             "BEKASI"
            ],
            [
             "gemini",
             135285,
             "MAJALENGKA"
            ],
            [
             "gemini",
             66793,
             "PURWAKARTA"
            ],
            [
             "gemini",
             413414,
             "BOGOR"
            ],
            [
             "gemini",
             232149,
             "BANDUNG"
            ],
            [
             "gemini",
             17633,
             "KOTA SUKABUMI"
            ],
            [
             "gemini",
             29565,
             "KOTA CIMAHI"
            ]
           ],
           "hovertemplate": "tahun_lahir=1969<br>cumulative_value=%{customdata[1]}<br>lat=%{lat}<br>long=%{lon}<br>signs=%{customdata[0]}<br>kab_kota=%{customdata[2]}<extra></extra>",
           "lat": [
            -6.6329217663006546,
            -6.383496996638174,
            -6.936765700872271,
            -6.393166663154723,
            -6.729928146709096,
            -6.592887079014497,
            -6.833096220708732,
            -7.338933589300536,
            -7.346940849138343,
            -6.964360163286933,
            -7.570962318649283,
            -6.262359392767224,
            -6.274403231484549,
            -7.268378056249979,
            -6.379720414654616,
            -7.30638836261014,
            -6.921184978737736,
            -6.255207083225145,
            -6.756968888223015,
            -6.579142215298049,
            -6.480949860895454,
            -7.0619754345248085,
            -6.936611189986721,
            -6.886467361450196
           ],
           "legendgroup": "",
           "lon": [
            108.4595702784968,
            107.59779987191338,
            108.48644011759332,
            106.81258186461433,
            108.5573116649281,
            106.79751003489775,
            107.42084809790781,
            108.50381181054689,
            108.21931225320567,
            107.19391062360883,
            108.50046315234377,
            107.34518506941599,
            106.97349902561733,
            107.7521565245115,
            108.209041696153,
            108.36989467852787,
            107.6294606695112,
            107.24457348666594,
            108.2380596008265,
            107.43030037073181,
            106.71270915879865,
            107.58953564768917,
            106.9264565670129,
            107.54447682698567
           ],
           "marker": {
            "color": "#636efa",
            "size": [
             167811,
             96892,
             86051,
             101350,
             22817,
             59047,
             117772,
             12740,
             39262,
             176561,
             36472,
             168372,
             131594,
             156120,
             132569,
             87750,
             140395,
             208033,
             135285,
             66793,
             413414,
             232149,
             17633,
             29565
            ],
            "sizemode": "area",
            "sizeref": 1118.5675
           },
           "mode": "markers",
           "name": "",
           "showlegend": false,
           "subplot": "mapbox",
           "type": "scattermapbox"
          }
         ],
         "name": "1969"
        },
        {
         "data": [
          {
           "customdata": [
            [
             "gemini",
             209738,
             "BEKASI"
            ],
            [
             "gemini",
             23133,
             "KOTA CIREBON"
            ],
            [
             "gemini",
             132814,
             "KOTA BEKASI"
            ],
            [
             "gemini",
             12890,
             "KOTA BANJAR"
            ],
            [
             "gemini",
             39654,
             "KOTA TASIKMALAYA"
            ],
            [
             "gemini",
             87031,
             "KUNINGAN"
            ],
            [
             "gemini",
             142164,
             "KOTA BANDUNG"
            ],
            [
             "gemini",
             416467,
             "BOGOR"
            ],
            [
             "gemini",
             118732,
             "BANDUNG BARAT"
            ],
            [
             "gemini",
             102227,
             "KOTA DEPOK"
            ],
            [
             "gemini",
             157306,
             "GARUT"
            ],
            [
             "gemini",
             88900,
             "CIAMIS"
            ],
            [
             "gemini",
             59591,
             "KOTA BOGOR"
            ],
            [
             "gemini",
             29807,
             "KOTA CIMAHI"
            ],
            [
             "gemini",
             133616,
             "INDRAMAYU"
            ],
            [
             "gemini",
             17768,
             "KOTA SUKABUMI"
            ],
            [
             "gemini",
             234039,
             "BANDUNG"
            ],
            [
             "gemini",
             97739,
             "SUBANG"
            ],
            [
             "gemini",
             137392,
             "MAJALENGKA"
            ],
            [
             "gemini",
             177951,
             "CIANJUR"
            ],
            [
             "gemini",
             67210,
             "PURWAKARTA"
            ],
            [
             "gemini",
             169374,
             "CIREBON"
            ],
            [
             "gemini",
             169442,
             "KARAWANG"
            ],
            [
             "gemini",
             36912,
             "PANGANDARAN"
            ]
           ],
           "hovertemplate": "tahun_lahir=1970<br>cumulative_value=%{customdata[1]}<br>lat=%{lat}<br>long=%{lon}<br>signs=%{customdata[0]}<br>kab_kota=%{customdata[2]}<extra></extra>",
           "lat": [
            -6.255207083225145,
            -6.729928146709096,
            -6.274403231484549,
            -7.338933589300536,
            -7.346940849138343,
            -6.936765700872271,
            -6.921184978737736,
            -6.480949860895454,
            -6.833096220708732,
            -6.393166663154723,
            -7.268378056249979,
            -7.30638836261014,
            -6.592887079014497,
            -6.886467361450196,
            -6.379720414654616,
            -6.936611189986721,
            -7.0619754345248085,
            -6.383496996638174,
            -6.756968888223015,
            -6.964360163286933,
            -6.579142215298049,
            -6.6329217663006546,
            -6.262359392767224,
            -7.570962318649283
           ],
           "legendgroup": "",
           "lon": [
            107.24457348666594,
            108.5573116649281,
            106.97349902561733,
            108.50381181054689,
            108.21931225320567,
            108.48644011759332,
            107.6294606695112,
            106.71270915879865,
            107.42084809790781,
            106.81258186461433,
            107.7521565245115,
            108.36989467852787,
            106.79751003489775,
            107.54447682698567,
            108.209041696153,
            106.9264565670129,
            107.58953564768917,
            107.59779987191338,
            108.2380596008265,
            107.19391062360883,
            107.43030037073181,
            108.4595702784968,
            107.34518506941599,
            108.50046315234377
           ],
           "marker": {
            "color": "#636efa",
            "size": [
             209738,
             23133,
             132814,
             12890,
             39654,
             87031,
             142164,
             416467,
             118732,
             102227,
             157306,
             88900,
             59591,
             29807,
             133616,
             17768,
             234039,
             97739,
             137392,
             177951,
             67210,
             169374,
             169442,
             36912
            ],
            "sizemode": "area",
            "sizeref": 1118.5675
           },
           "mode": "markers",
           "name": "",
           "showlegend": false,
           "subplot": "mapbox",
           "type": "scattermapbox"
          }
         ],
         "name": "1970"
        },
        {
         "data": [
          {
           "customdata": [
            [
             "gemini",
             158521,
             "GARUT"
            ],
            [
             "gemini",
             420098,
             "BOGOR"
            ],
            [
             "gemini",
             67774,
             "PURWAKARTA"
            ],
            [
             "gemini",
             179395,
             "CIANJUR"
            ],
            [
             "gemini",
             17931,
             "KOTA SUKABUMI"
            ],
            [
             "gemini",
             171078,
             "CIREBON"
            ],
            [
             "gemini",
             140018,
             "MAJALENGKA"
            ],
            [
             "gemini",
             98625,
             "SUBANG"
            ],
            [
             "gemini",
             134146,
             "KOTA BEKASI"
            ],
            [
             "gemini",
             37378,
             "PANGANDARAN"
            ],
            [
             "gemini",
             30052,
             "KOTA CIMAHI"
            ],
            [
             "gemini",
             60250,
             "KOTA BOGOR"
            ],
            [
             "gemini",
             119759,
             "BANDUNG BARAT"
            ],
            [
             "gemini",
             170714,
             "KARAWANG"
            ],
            [
             "gemini",
             143896,
             "KOTA BANDUNG"
            ],
            [
             "gemini",
             40053,
             "KOTA TASIKMALAYA"
            ],
            [
             "gemini",
             211242,
             "BEKASI"
            ],
            [
             "gemini",
             90143,
             "CIAMIS"
            ],
            [
             "gemini",
             134691,
             "INDRAMAYU"
            ],
            [
             "gemini",
             103172,
             "KOTA DEPOK"
            ],
            [
             "gemini",
             23450,
             "KOTA CIREBON"
            ],
            [
             "gemini",
             88060,
             "KUNINGAN"
            ],
            [
             "gemini",
             13060,
             "KOTA BANJAR"
            ],
            [
             "gemini",
             235969,
             "BANDUNG"
            ]
           ],
           "hovertemplate": "tahun_lahir=1971<br>cumulative_value=%{customdata[1]}<br>lat=%{lat}<br>long=%{lon}<br>signs=%{customdata[0]}<br>kab_kota=%{customdata[2]}<extra></extra>",
           "lat": [
            -7.268378056249979,
            -6.480949860895454,
            -6.579142215298049,
            -6.964360163286933,
            -6.936611189986721,
            -6.6329217663006546,
            -6.756968888223015,
            -6.383496996638174,
            -6.274403231484549,
            -7.570962318649283,
            -6.886467361450196,
            -6.592887079014497,
            -6.833096220708732,
            -6.262359392767224,
            -6.921184978737736,
            -7.346940849138343,
            -6.255207083225145,
            -7.30638836261014,
            -6.379720414654616,
            -6.393166663154723,
            -6.729928146709096,
            -6.936765700872271,
            -7.338933589300536,
            -7.0619754345248085
           ],
           "legendgroup": "",
           "lon": [
            107.7521565245115,
            106.71270915879865,
            107.43030037073181,
            107.19391062360883,
            106.9264565670129,
            108.4595702784968,
            108.2380596008265,
            107.59779987191338,
            106.97349902561733,
            108.50046315234377,
            107.54447682698567,
            106.79751003489775,
            107.42084809790781,
            107.34518506941599,
            107.6294606695112,
            108.21931225320567,
            107.24457348666594,
            108.36989467852787,
            108.209041696153,
            106.81258186461433,
            108.5573116649281,
            108.48644011759332,
            108.50381181054689,
            107.58953564768917
           ],
           "marker": {
            "color": "#636efa",
            "size": [
             158521,
             420098,
             67774,
             179395,
             17931,
             171078,
             140018,
             98625,
             134146,
             37378,
             30052,
             60250,
             119759,
             170714,
             143896,
             40053,
             211242,
             90143,
             134691,
             103172,
             23450,
             88060,
             13060,
             235969
            ],
            "sizemode": "area",
            "sizeref": 1118.5675
           },
           "mode": "markers",
           "name": "",
           "showlegend": false,
           "subplot": "mapbox",
           "type": "scattermapbox"
          }
         ],
         "name": "1971"
        },
        {
         "data": [
          {
           "customdata": [
            [
             "gemini",
             91013,
             "CIAMIS"
            ],
            [
             "gemini",
             99168,
             "SUBANG"
            ],
            [
             "gemini",
             171419,
             "KARAWANG"
            ],
            [
             "gemini",
             23655,
             "KOTA CIREBON"
            ],
            [
             "gemini",
             135408,
             "INDRAMAYU"
            ],
            [
             "gemini",
             30238,
             "KOTA CIMAHI"
            ],
            [
             "gemini",
             422338,
             "BOGOR"
            ],
            [
             "gemini",
             103814,
             "KOTA DEPOK"
            ],
            [
             "gemini",
             237132,
             "BANDUNG"
            ],
            [
             "gemini",
             159332,
             "GARUT"
            ],
            [
             "gemini",
             145054,
             "KOTA BANDUNG"
            ],
            [
             "gemini",
             212293,
             "BEKASI"
            ],
            [
             "gemini",
             141638,
             "MAJALENGKA"
            ],
            [
             "gemini",
             37665,
             "PANGANDARAN"
            ],
            [
             "gemini",
             13195,
             "KOTA BANJAR"
            ],
            [
             "gemini",
             40312,
             "KOTA TASIKMALAYA"
            ],
            [
             "gemini",
             135012,
             "KOTA BEKASI"
            ],
            [
             "gemini",
             60686,
             "KOTA BOGOR"
            ],
            [
             "gemini",
             172131,
             "CIREBON"
            ],
            [
             "gemini",
             88749,
             "KUNINGAN"
            ],
            [
             "gemini",
             18038,
             "KOTA SUKABUMI"
            ],
            [
             "gemini",
             68078,
             "PURWAKARTA"
            ],
            [
             "gemini",
             180174,
             "CIANJUR"
            ],
            [
             "gemini",
             120283,
             "BANDUNG BARAT"
            ]
           ],
           "hovertemplate": "tahun_lahir=1972<br>cumulative_value=%{customdata[1]}<br>lat=%{lat}<br>long=%{lon}<br>signs=%{customdata[0]}<br>kab_kota=%{customdata[2]}<extra></extra>",
           "lat": [
            -7.30638836261014,
            -6.383496996638174,
            -6.262359392767224,
            -6.729928146709096,
            -6.379720414654616,
            -6.886467361450196,
            -6.480949860895454,
            -6.393166663154723,
            -7.0619754345248085,
            -7.268378056249979,
            -6.921184978737736,
            -6.255207083225145,
            -6.756968888223015,
            -7.570962318649283,
            -7.338933589300536,
            -7.346940849138343,
            -6.274403231484549,
            -6.592887079014497,
            -6.6329217663006546,
            -6.936765700872271,
            -6.936611189986721,
            -6.579142215298049,
            -6.964360163286933,
            -6.833096220708732
           ],
           "legendgroup": "",
           "lon": [
            108.36989467852787,
            107.59779987191338,
            107.34518506941599,
            108.5573116649281,
            108.209041696153,
            107.54447682698567,
            106.71270915879865,
            106.81258186461433,
            107.58953564768917,
            107.7521565245115,
            107.6294606695112,
            107.24457348666594,
            108.2380596008265,
            108.50046315234377,
            108.50381181054689,
            108.21931225320567,
            106.97349902561733,
            106.79751003489775,
            108.4595702784968,
            108.48644011759332,
            106.9264565670129,
            107.43030037073181,
            107.19391062360883,
            107.42084809790781
           ],
           "marker": {
            "color": "#636efa",
            "size": [
             91013,
             99168,
             171419,
             23655,
             135408,
             30238,
             422338,
             103814,
             237132,
             159332,
             145054,
             212293,
             141638,
             37665,
             13195,
             40312,
             135012,
             60686,
             172131,
             88749,
             18038,
             68078,
             180174,
             120283
            ],
            "sizemode": "area",
            "sizeref": 1118.5675
           },
           "mode": "markers",
           "name": "",
           "showlegend": false,
           "subplot": "mapbox",
           "type": "scattermapbox"
          }
         ],
         "name": "1972"
        },
        {
         "data": [
          {
           "customdata": [
            [
             "gemini",
             426710,
             "BOGOR"
            ],
            [
             "gemini",
             92431,
             "CIAMIS"
            ],
            [
             "gemini",
             238887,
             "BANDUNG"
            ],
            [
             "gemini",
             38183,
             "PANGANDARAN"
            ],
            [
             "gemini",
             61234,
             "KOTA BOGOR"
            ],
            [
             "gemini",
             13339,
             "KOTA BANJAR"
            ],
            [
             "gemini",
             144524,
             "MAJALENGKA"
            ],
            [
             "gemini",
             146537,
             "KOTA BANDUNG"
            ],
            [
             "gemini",
             137028,
             "INDRAMAYU"
            ],
            [
             "gemini",
             30422,
             "KOTA CIMAHI"
            ],
            [
             "gemini",
             89859,
             "KUNINGAN"
            ],
            [
             "gemini",
             214250,
             "BEKASI"
            ],
            [
             "gemini",
             121304,
             "BANDUNG BARAT"
            ],
            [
             "gemini",
             104680,
             "KOTA DEPOK"
            ],
            [
             "gemini",
             160813,
             "GARUT"
            ],
            [
             "gemini",
             100182,
             "SUBANG"
            ],
            [
             "gemini",
             40729,
             "KOTA TASIKMALAYA"
            ],
            [
             "gemini",
             23943,
             "KOTA CIREBON"
            ],
            [
             "gemini",
             18165,
             "KOTA SUKABUMI"
            ],
            [
             "gemini",
             173955,
             "CIREBON"
            ],
            [
             "gemini",
             181965,
             "CIANJUR"
            ],
            [
             "gemini",
             136161,
             "KOTA BEKASI"
            ],
            [
             "gemini",
             173095,
             "KARAWANG"
            ],
            [
             "gemini",
             68717,
             "PURWAKARTA"
            ]
           ],
           "hovertemplate": "tahun_lahir=1973<br>cumulative_value=%{customdata[1]}<br>lat=%{lat}<br>long=%{lon}<br>signs=%{customdata[0]}<br>kab_kota=%{customdata[2]}<extra></extra>",
           "lat": [
            -6.480949860895454,
            -7.30638836261014,
            -7.0619754345248085,
            -7.570962318649283,
            -6.592887079014497,
            -7.338933589300536,
            -6.756968888223015,
            -6.921184978737736,
            -6.379720414654616,
            -6.886467361450196,
            -6.936765700872271,
            -6.255207083225145,
            -6.833096220708732,
            -6.393166663154723,
            -7.268378056249979,
            -6.383496996638174,
            -7.346940849138343,
            -6.729928146709096,
            -6.936611189986721,
            -6.6329217663006546,
            -6.964360163286933,
            -6.274403231484549,
            -6.262359392767224,
            -6.579142215298049
           ],
           "legendgroup": "",
           "lon": [
            106.71270915879865,
            108.36989467852787,
            107.58953564768917,
            108.50046315234377,
            106.79751003489775,
            108.50381181054689,
            108.2380596008265,
            107.6294606695112,
            108.209041696153,
            107.54447682698567,
            108.48644011759332,
            107.24457348666594,
            107.42084809790781,
            106.81258186461433,
            107.7521565245115,
            107.59779987191338,
            108.21931225320567,
            108.5573116649281,
            106.9264565670129,
            108.4595702784968,
            107.19391062360883,
            106.97349902561733,
            107.34518506941599,
            107.43030037073181
           ],
           "marker": {
            "color": "#636efa",
            "size": [
             426710,
             92431,
             238887,
             38183,
             61234,
             13339,
             144524,
             146537,
             137028,
             30422,
             89859,
             214250,
             121304,
             104680,
             160813,
             100182,
             40729,
             23943,
             18165,
             173955,
             181965,
             136161,
             173095,
             68717
            ],
            "sizemode": "area",
            "sizeref": 1118.5675
           },
           "mode": "markers",
           "name": "",
           "showlegend": false,
           "subplot": "mapbox",
           "type": "scattermapbox"
          }
         ],
         "name": "1973"
        },
        {
         "data": [
          {
           "customdata": [
            [
             "gemini",
             40937,
             "KOTA TASIKMALAYA"
            ],
            [
             "gemini",
             173687,
             "KARAWANG"
            ],
            [
             "gemini",
             24151,
             "KOTA CIREBON"
            ],
            [
             "gemini",
             13413,
             "KOTA BANJAR"
            ],
            [
             "gemini",
             69014,
             "PURWAKARTA"
            ],
            [
             "gemini",
             93200,
             "CIAMIS"
            ],
            [
             "gemini",
             239810,
             "BANDUNG"
            ],
            [
             "gemini",
             100683,
             "SUBANG"
            ],
            [
             "gemini",
             61541,
             "KOTA BOGOR"
            ],
            [
             "gemini",
             147628,
             "KOTA BANDUNG"
            ],
            [
             "gemini",
             428297,
             "BOGOR"
            ],
            [
             "gemini",
             137571,
             "INDRAMAYU"
            ],
            [
             "gemini",
             18257,
             "KOTA SUKABUMI"
            ],
            [
             "gemini",
             105183,
             "KOTA DEPOK"
            ],
            [
             "gemini",
             161408,
             "GARUT"
            ],
            [
             "gemini",
             90392,
             "KUNINGAN"
            ],
            [
             "gemini",
             121840,
             "BANDUNG BARAT"
            ],
            [
             "gemini",
             136831,
             "KOTA BEKASI"
            ],
            [
             "gemini",
             30574,
             "KOTA CIMAHI"
            ],
            [
             "gemini",
             174759,
             "CIREBON"
            ],
            [
             "gemini",
             38474,
             "PANGANDARAN"
            ],
            [
             "gemini",
             182658,
             "CIANJUR"
            ],
            [
             "gemini",
             146013,
             "MAJALENGKA"
            ],
            [
             "gemini",
             215018,
             "BEKASI"
            ]
           ],
           "hovertemplate": "tahun_lahir=1974<br>cumulative_value=%{customdata[1]}<br>lat=%{lat}<br>long=%{lon}<br>signs=%{customdata[0]}<br>kab_kota=%{customdata[2]}<extra></extra>",
           "lat": [
            -7.346940849138343,
            -6.262359392767224,
            -6.729928146709096,
            -7.338933589300536,
            -6.579142215298049,
            -7.30638836261014,
            -7.0619754345248085,
            -6.383496996638174,
            -6.592887079014497,
            -6.921184978737736,
            -6.480949860895454,
            -6.379720414654616,
            -6.936611189986721,
            -6.393166663154723,
            -7.268378056249979,
            -6.936765700872271,
            -6.833096220708732,
            -6.274403231484549,
            -6.886467361450196,
            -6.6329217663006546,
            -7.570962318649283,
            -6.964360163286933,
            -6.756968888223015,
            -6.255207083225145
           ],
           "legendgroup": "",
           "lon": [
            108.21931225320567,
            107.34518506941599,
            108.5573116649281,
            108.50381181054689,
            107.43030037073181,
            108.36989467852787,
            107.58953564768917,
            107.59779987191338,
            106.79751003489775,
            107.6294606695112,
            106.71270915879865,
            108.209041696153,
            106.9264565670129,
            106.81258186461433,
            107.7521565245115,
            108.48644011759332,
            107.42084809790781,
            106.97349902561733,
            107.54447682698567,
            108.4595702784968,
            108.50046315234377,
            107.19391062360883,
            108.2380596008265,
            107.24457348666594
           ],
           "marker": {
            "color": "#636efa",
            "size": [
             40937,
             173687,
             24151,
             13413,
             69014,
             93200,
             239810,
             100683,
             61541,
             147628,
             428297,
             137571,
             18257,
             105183,
             161408,
             90392,
             121840,
             136831,
             30574,
             174759,
             38474,
             182658,
             146013,
             215018
            ],
            "sizemode": "area",
            "sizeref": 1118.5675
           },
           "mode": "markers",
           "name": "",
           "showlegend": false,
           "subplot": "mapbox",
           "type": "scattermapbox"
          }
         ],
         "name": "1974"
        },
        {
         "data": [
          {
           "customdata": [
            [
             "gemini",
             138300,
             "INDRAMAYU"
            ],
            [
             "gemini",
             24331,
             "KOTA CIREBON"
            ],
            [
             "gemini",
             148574,
             "KOTA BANDUNG"
            ],
            [
             "gemini",
             174378,
             "KARAWANG"
            ],
            [
             "gemini",
             101233,
             "SUBANG"
            ],
            [
             "gemini",
             216036,
             "BEKASI"
            ],
            [
             "gemini",
             122450,
             "BANDUNG BARAT"
            ],
            [
             "gemini",
             105709,
             "KOTA DEPOK"
            ],
            [
             "gemini",
             69293,
             "PURWAKARTA"
            ],
            [
             "gemini",
             147502,
             "MAJALENGKA"
            ],
            [
             "gemini",
             18325,
             "KOTA SUKABUMI"
            ],
            [
             "gemini",
             240780,
             "BANDUNG"
            ],
            [
             "gemini",
             91110,
             "KUNINGAN"
            ],
            [
             "gemini",
             430149,
             "BOGOR"
            ],
            [
             "gemini",
             162239,
             "GARUT"
            ],
            [
             "gemini",
             183496,
             "CIANJUR"
            ],
            [
             "gemini",
             61861,
             "KOTA BOGOR"
            ],
            [
             "gemini",
             41168,
             "KOTA TASIKMALAYA"
            ],
            [
             "gemini",
             137519,
             "KOTA BEKASI"
            ],
            [
             "gemini",
             93987,
             "CIAMIS"
            ],
            [
             "gemini",
             38740,
             "PANGANDARAN"
            ],
            [
             "gemini",
             30711,
             "KOTA CIMAHI"
            ],
            [
             "gemini",
             13505,
             "KOTA BANJAR"
            ],
            [
             "gemini",
             175757,
             "CIREBON"
            ]
           ],
           "hovertemplate": "tahun_lahir=1975<br>cumulative_value=%{customdata[1]}<br>lat=%{lat}<br>long=%{lon}<br>signs=%{customdata[0]}<br>kab_kota=%{customdata[2]}<extra></extra>",
           "lat": [
            -6.379720414654616,
            -6.729928146709096,
            -6.921184978737736,
            -6.262359392767224,
            -6.383496996638174,
            -6.255207083225145,
            -6.833096220708732,
            -6.393166663154723,
            -6.579142215298049,
            -6.756968888223015,
            -6.936611189986721,
            -7.0619754345248085,
            -6.936765700872271,
            -6.480949860895454,
            -7.268378056249979,
            -6.964360163286933,
            -6.592887079014497,
            -7.346940849138343,
            -6.274403231484549,
            -7.30638836261014,
            -7.570962318649283,
            -6.886467361450196,
            -7.338933589300536,
            -6.6329217663006546
           ],
           "legendgroup": "",
           "lon": [
            108.209041696153,
            108.5573116649281,
            107.6294606695112,
            107.34518506941599,
            107.59779987191338,
            107.24457348666594,
            107.42084809790781,
            106.81258186461433,
            107.43030037073181,
            108.2380596008265,
            106.9264565670129,
            107.58953564768917,
            108.48644011759332,
            106.71270915879865,
            107.7521565245115,
            107.19391062360883,
            106.79751003489775,
            108.21931225320567,
            106.97349902561733,
            108.36989467852787,
            108.50046315234377,
            107.54447682698567,
            108.50381181054689,
            108.4595702784968
           ],
           "marker": {
            "color": "#636efa",
            "size": [
             138300,
             24331,
             148574,
             174378,
             101233,
             216036,
             122450,
             105709,
             69293,
             147502,
             18325,
             240780,
             91110,
             430149,
             162239,
             183496,
             61861,
             41168,
             137519,
             93987,
             38740,
             30711,
             13505,
             175757
            ],
            "sizemode": "area",
            "sizeref": 1118.5675
           },
           "mode": "markers",
           "name": "",
           "showlegend": false,
           "subplot": "mapbox",
           "type": "scattermapbox"
          }
         ],
         "name": "1975"
        },
        {
         "data": [
          {
           "customdata": [
            [
             "gemini",
             122951,
             "BANDUNG BARAT"
            ],
            [
             "gemini",
             216761,
             "BEKASI"
            ],
            [
             "gemini",
             149035,
             "MAJALENGKA"
            ],
            [
             "gemini",
             101714,
             "SUBANG"
            ],
            [
             "gemini",
             41359,
             "KOTA TASIKMALAYA"
            ],
            [
             "gemini",
             176603,
             "CIREBON"
            ],
            [
             "gemini",
             431881,
             "BOGOR"
            ],
            [
             "gemini",
             184157,
             "CIANJUR"
            ],
            [
             "gemini",
             62157,
             "KOTA BOGOR"
            ],
            [
             "gemini",
             149486,
             "KOTA BANDUNG"
            ],
            [
             "gemini",
             91660,
             "KUNINGAN"
            ],
            [
             "gemini",
             13580,
             "KOTA BANJAR"
            ],
            [
             "gemini",
             24481,
             "KOTA CIREBON"
            ],
            [
             "gemini",
             241624,
             "BANDUNG"
            ],
            [
             "gemini",
             30823,
             "KOTA CIMAHI"
            ],
            [
             "gemini",
             174996,
             "KARAWANG"
            ],
            [
             "gemini",
             69540,
             "PURWAKARTA"
            ],
            [
             "gemini",
             162916,
             "GARUT"
            ],
            [
             "gemini",
             106180,
             "KOTA DEPOK"
            ],
            [
             "gemini",
             138130,
             "KOTA BEKASI"
            ],
            [
             "gemini",
             39024,
             "PANGANDARAN"
            ],
            [
             "gemini",
             94725,
             "CIAMIS"
            ],
            [
             "gemini",
             138907,
             "INDRAMAYU"
            ],
            [
             "gemini",
             18401,
             "KOTA SUKABUMI"
            ]
           ],
           "hovertemplate": "tahun_lahir=1976<br>cumulative_value=%{customdata[1]}<br>lat=%{lat}<br>long=%{lon}<br>signs=%{customdata[0]}<br>kab_kota=%{customdata[2]}<extra></extra>",
           "lat": [
            -6.833096220708732,
            -6.255207083225145,
            -6.756968888223015,
            -6.383496996638174,
            -7.346940849138343,
            -6.6329217663006546,
            -6.480949860895454,
            -6.964360163286933,
            -6.592887079014497,
            -6.921184978737736,
            -6.936765700872271,
            -7.338933589300536,
            -6.729928146709096,
            -7.0619754345248085,
            -6.886467361450196,
            -6.262359392767224,
            -6.579142215298049,
            -7.268378056249979,
            -6.393166663154723,
            -6.274403231484549,
            -7.570962318649283,
            -7.30638836261014,
            -6.379720414654616,
            -6.936611189986721
           ],
           "legendgroup": "",
           "lon": [
            107.42084809790781,
            107.24457348666594,
            108.2380596008265,
            107.59779987191338,
            108.21931225320567,
            108.4595702784968,
            106.71270915879865,
            107.19391062360883,
            106.79751003489775,
            107.6294606695112,
            108.48644011759332,
            108.50381181054689,
            108.5573116649281,
            107.58953564768917,
            107.54447682698567,
            107.34518506941599,
            107.43030037073181,
            107.7521565245115,
            106.81258186461433,
            106.97349902561733,
            108.50046315234377,
            108.36989467852787,
            108.209041696153,
            106.9264565670129
           ],
           "marker": {
            "color": "#636efa",
            "size": [
             122951,
             216761,
             149035,
             101714,
             41359,
             176603,
             431881,
             184157,
             62157,
             149486,
             91660,
             13580,
             24481,
             241624,
             30823,
             174996,
             69540,
             162916,
             106180,
             138130,
             39024,
             94725,
             138907,
             18401
            ],
            "sizemode": "area",
            "sizeref": 1118.5675
           },
           "mode": "markers",
           "name": "",
           "showlegend": false,
           "subplot": "mapbox",
           "type": "scattermapbox"
          }
         ],
         "name": "1976"
        },
        {
         "data": [
          {
           "customdata": [
            [
             "gemini",
             62388,
             "KOTA BOGOR"
            ],
            [
             "gemini",
             92155,
             "KUNINGAN"
            ],
            [
             "gemini",
             13653,
             "KOTA BANJAR"
            ],
            [
             "gemini",
             217411,
             "BEKASI"
            ],
            [
             "gemini",
             242373,
             "BANDUNG"
            ],
            [
             "gemini",
             184699,
             "CIANJUR"
            ],
            [
             "gemini",
             163534,
             "GARUT"
            ],
            [
             "gemini",
             30962,
             "KOTA CIMAHI"
            ],
            [
             "gemini",
             139364,
             "INDRAMAYU"
            ],
            [
             "gemini",
             123344,
             "BANDUNG BARAT"
            ],
            [
             "gemini",
             102065,
             "SUBANG"
            ],
            [
             "gemini",
             69765,
             "PURWAKARTA"
            ],
            [
             "gemini",
             41572,
             "KOTA TASIKMALAYA"
            ],
            [
             "gemini",
             24642,
             "KOTA CIREBON"
            ],
            [
             "gemini",
             138630,
             "KOTA BEKASI"
            ],
            [
             "gemini",
             95325,
             "CIAMIS"
            ],
            [
             "gemini",
             39253,
             "PANGANDARAN"
            ],
            [
             "gemini",
             18461,
             "KOTA SUKABUMI"
            ],
            [
             "gemini",
             175524,
             "KARAWANG"
            ],
            [
             "gemini",
             150317,
             "KOTA BANDUNG"
            ],
            [
             "gemini",
             177277,
             "CIREBON"
            ],
            [
             "gemini",
             433518,
             "BOGOR"
            ],
            [
             "gemini",
             150167,
             "MAJALENGKA"
            ],
            [
             "gemini",
             106581,
             "KOTA DEPOK"
            ]
           ],
           "hovertemplate": "tahun_lahir=1977<br>cumulative_value=%{customdata[1]}<br>lat=%{lat}<br>long=%{lon}<br>signs=%{customdata[0]}<br>kab_kota=%{customdata[2]}<extra></extra>",
           "lat": [
            -6.592887079014497,
            -6.936765700872271,
            -7.338933589300536,
            -6.255207083225145,
            -7.0619754345248085,
            -6.964360163286933,
            -7.268378056249979,
            -6.886467361450196,
            -6.379720414654616,
            -6.833096220708732,
            -6.383496996638174,
            -6.579142215298049,
            -7.346940849138343,
            -6.729928146709096,
            -6.274403231484549,
            -7.30638836261014,
            -7.570962318649283,
            -6.936611189986721,
            -6.262359392767224,
            -6.921184978737736,
            -6.6329217663006546,
            -6.480949860895454,
            -6.756968888223015,
            -6.393166663154723
           ],
           "legendgroup": "",
           "lon": [
            106.79751003489775,
            108.48644011759332,
            108.50381181054689,
            107.24457348666594,
            107.58953564768917,
            107.19391062360883,
            107.7521565245115,
            107.54447682698567,
            108.209041696153,
            107.42084809790781,
            107.59779987191338,
            107.43030037073181,
            108.21931225320567,
            108.5573116649281,
            106.97349902561733,
            108.36989467852787,
            108.50046315234377,
            106.9264565670129,
            107.34518506941599,
            107.6294606695112,
            108.4595702784968,
            106.71270915879865,
            108.2380596008265,
            106.81258186461433
           ],
           "marker": {
            "color": "#636efa",
            "size": [
             62388,
             92155,
             13653,
             217411,
             242373,
             184699,
             163534,
             30962,
             139364,
             123344,
             102065,
             69765,
             41572,
             24642,
             138630,
             95325,
             39253,
             18461,
             175524,
             150317,
             177277,
             433518,
             150167,
             106581
            ],
            "sizemode": "area",
            "sizeref": 1118.5675
           },
           "mode": "markers",
           "name": "",
           "showlegend": false,
           "subplot": "mapbox",
           "type": "scattermapbox"
          }
         ],
         "name": "1977"
        },
        {
         "data": [
          {
           "customdata": [
            [
             "gemini",
             13760,
             "KOTA BANJAR"
            ],
            [
             "gemini",
             178298,
             "CIREBON"
            ],
            [
             "gemini",
             102686,
             "SUBANG"
            ],
            [
             "gemini",
             31096,
             "KOTA CIMAHI"
            ],
            [
             "gemini",
             39642,
             "PANGANDARAN"
            ],
            [
             "gemini",
             107136,
             "KOTA DEPOK"
            ],
            [
             "gemini",
             62732,
             "KOTA BOGOR"
            ],
            [
             "gemini",
             164630,
             "GARUT"
            ],
            [
             "gemini",
             139288,
             "KOTA BEKASI"
            ],
            [
             "gemini",
             218550,
             "BEKASI"
            ],
            [
             "gemini",
             124142,
             "BANDUNG BARAT"
            ],
            [
             "gemini",
             24844,
             "KOTA CIREBON"
            ],
            [
             "gemini",
             140233,
             "INDRAMAYU"
            ],
            [
             "gemini",
             92911,
             "KUNINGAN"
            ],
            [
             "gemini",
             186042,
             "CIANJUR"
            ],
            [
             "gemini",
             151448,
             "KOTA BANDUNG"
            ],
            [
             "gemini",
             70204,
             "PURWAKARTA"
            ],
            [
             "gemini",
             243691,
             "BANDUNG"
            ],
            [
             "gemini",
             41884,
             "KOTA TASIKMALAYA"
            ],
            [
             "gemini",
             176572,
             "KARAWANG"
            ],
            [
             "gemini",
             436175,
             "BOGOR"
            ],
            [
             "gemini",
             18549,
             "KOTA SUKABUMI"
            ],
            [
             "gemini",
             152121,
             "MAJALENGKA"
            ],
            [
             "gemini",
             96265,
             "CIAMIS"
            ]
           ],
           "hovertemplate": "tahun_lahir=1978<br>cumulative_value=%{customdata[1]}<br>lat=%{lat}<br>long=%{lon}<br>signs=%{customdata[0]}<br>kab_kota=%{customdata[2]}<extra></extra>",
           "lat": [
            -7.338933589300536,
            -6.6329217663006546,
            -6.383496996638174,
            -6.886467361450196,
            -7.570962318649283,
            -6.393166663154723,
            -6.592887079014497,
            -7.268378056249979,
            -6.274403231484549,
            -6.255207083225145,
            -6.833096220708732,
            -6.729928146709096,
            -6.379720414654616,
            -6.936765700872271,
            -6.964360163286933,
            -6.921184978737736,
            -6.579142215298049,
            -7.0619754345248085,
            -7.346940849138343,
            -6.262359392767224,
            -6.480949860895454,
            -6.936611189986721,
            -6.756968888223015,
            -7.30638836261014
           ],
           "legendgroup": "",
           "lon": [
            108.50381181054689,
            108.4595702784968,
            107.59779987191338,
            107.54447682698567,
            108.50046315234377,
            106.81258186461433,
            106.79751003489775,
            107.7521565245115,
            106.97349902561733,
            107.24457348666594,
            107.42084809790781,
            108.5573116649281,
            108.209041696153,
            108.48644011759332,
            107.19391062360883,
            107.6294606695112,
            107.43030037073181,
            107.58953564768917,
            108.21931225320567,
            107.34518506941599,
            106.71270915879865,
            106.9264565670129,
            108.2380596008265,
            108.36989467852787
           ],
           "marker": {
            "color": "#636efa",
            "size": [
             13760,
             178298,
             102686,
             31096,
             39642,
             107136,
             62732,
             164630,
             139288,
             218550,
             124142,
             24844,
             140233,
             92911,
             186042,
             151448,
             70204,
             243691,
             41884,
             176572,
             436175,
             18549,
             152121,
             96265
            ],
            "sizemode": "area",
            "sizeref": 1118.5675
           },
           "mode": "markers",
           "name": "",
           "showlegend": false,
           "subplot": "mapbox",
           "type": "scattermapbox"
          }
         ],
         "name": "1978"
        },
        {
         "data": [
          {
           "customdata": [
            [
             "gemini",
             102939,
             "SUBANG"
            ],
            [
             "gemini",
             124461,
             "BANDUNG BARAT"
            ],
            [
             "gemini",
             218944,
             "BEKASI"
            ],
            [
             "gemini",
             62935,
             "KOTA BOGOR"
            ],
            [
             "gemini",
             107438,
             "KOTA DEPOK"
            ],
            [
             "gemini",
             39771,
             "PANGANDARAN"
            ],
            [
             "gemini",
             18597,
             "KOTA SUKABUMI"
            ],
            [
             "gemini",
             152241,
             "KOTA BANDUNG"
            ],
            [
             "gemini",
             437126,
             "BOGOR"
            ],
            [
             "gemini",
             42011,
             "KOTA TASIKMALAYA"
            ],
            [
             "gemini",
             244289,
             "BANDUNG"
            ],
            [
             "gemini",
             176943,
             "KARAWANG"
            ],
            [
             "gemini",
             139604,
             "KOTA BEKASI"
            ],
            [
             "gemini",
             13808,
             "KOTA BANJAR"
            ],
            [
             "gemini",
             152945,
             "MAJALENGKA"
            ],
            [
             "gemini",
             96765,
             "CIAMIS"
            ],
            [
             "gemini",
             164962,
             "GARUT"
            ],
            [
             "gemini",
             31186,
             "KOTA CIMAHI"
            ],
            [
             "gemini",
             24979,
             "KOTA CIREBON"
            ],
            [
             "gemini",
             93266,
             "KUNINGAN"
            ],
            [
             "gemini",
             140545,
             "INDRAMAYU"
            ],
            [
             "gemini",
             186385,
             "CIANJUR"
            ],
            [
             "gemini",
             70374,
             "PURWAKARTA"
            ],
            [
             "gemini",
             178755,
             "CIREBON"
            ]
           ],
           "hovertemplate": "tahun_lahir=1979<br>cumulative_value=%{customdata[1]}<br>lat=%{lat}<br>long=%{lon}<br>signs=%{customdata[0]}<br>kab_kota=%{customdata[2]}<extra></extra>",
           "lat": [
            -6.383496996638174,
            -6.833096220708732,
            -6.255207083225145,
            -6.592887079014497,
            -6.393166663154723,
            -7.570962318649283,
            -6.936611189986721,
            -6.921184978737736,
            -6.480949860895454,
            -7.346940849138343,
            -7.0619754345248085,
            -6.262359392767224,
            -6.274403231484549,
            -7.338933589300536,
            -6.756968888223015,
            -7.30638836261014,
            -7.268378056249979,
            -6.886467361450196,
            -6.729928146709096,
            -6.936765700872271,
            -6.379720414654616,
            -6.964360163286933,
            -6.579142215298049,
            -6.6329217663006546
           ],
           "legendgroup": "",
           "lon": [
            107.59779987191338,
            107.42084809790781,
            107.24457348666594,
            106.79751003489775,
            106.81258186461433,
            108.50046315234377,
            106.9264565670129,
            107.6294606695112,
            106.71270915879865,
            108.21931225320567,
            107.58953564768917,
            107.34518506941599,
            106.97349902561733,
            108.50381181054689,
            108.2380596008265,
            108.36989467852787,
            107.7521565245115,
            107.54447682698567,
            108.5573116649281,
            108.48644011759332,
            108.209041696153,
            107.19391062360883,
            107.43030037073181,
            108.4595702784968
           ],
           "marker": {
            "color": "#636efa",
            "size": [
             102939,
             124461,
             218944,
             62935,
             107438,
             39771,
             18597,
             152241,
             437126,
             42011,
             244289,
             176943,
             139604,
             13808,
             152945,
             96765,
             164962,
             31186,
             24979,
             93266,
             140545,
             186385,
             70374,
             178755
            ],
            "sizemode": "area",
            "sizeref": 1118.5675
           },
           "mode": "markers",
           "name": "",
           "showlegend": false,
           "subplot": "mapbox",
           "type": "scattermapbox"
          }
         ],
         "name": "1979"
        },
        {
         "data": [
          {
           "customdata": [
            [
             "gemini",
             103272,
             "SUBANG"
            ],
            [
             "gemini",
             93707,
             "KUNINGAN"
            ],
            [
             "gemini",
             31292,
             "KOTA CIMAHI"
            ],
            [
             "gemini",
             63145,
             "KOTA BOGOR"
            ],
            [
             "gemini",
             177321,
             "KARAWANG"
            ],
            [
             "gemini",
             25103,
             "KOTA CIREBON"
            ],
            [
             "gemini",
             70566,
             "PURWAKARTA"
            ],
            [
             "gemini",
             124860,
             "BANDUNG BARAT"
            ],
            [
             "gemini",
             219672,
             "BEKASI"
            ],
            [
             "gemini",
             42163,
             "KOTA TASIKMALAYA"
            ],
            [
             "gemini",
             13878,
             "KOTA BANJAR"
            ],
            [
             "gemini",
             153915,
             "MAJALENGKA"
            ],
            [
             "gemini",
             107754,
             "KOTA DEPOK"
            ],
            [
             "gemini",
             165445,
             "GARUT"
            ],
            [
             "gemini",
             179338,
             "CIREBON"
            ],
            [
             "gemini",
             18651,
             "KOTA SUKABUMI"
            ],
            [
             "gemini",
             244995,
             "BANDUNG"
            ],
            [
             "gemini",
             140934,
             "INDRAMAYU"
            ],
            [
             "gemini",
             39928,
             "PANGANDARAN"
            ],
            [
             "gemini",
             139984,
             "KOTA BEKASI"
            ],
            [
             "gemini",
             438332,
             "BOGOR"
            ],
            [
             "gemini",
             97291,
             "CIAMIS"
            ],
            [
             "gemini",
             186896,
             "CIANJUR"
            ],
            [
             "gemini",
             152977,
             "KOTA BANDUNG"
            ]
           ],
           "hovertemplate": "tahun_lahir=1980<br>cumulative_value=%{customdata[1]}<br>lat=%{lat}<br>long=%{lon}<br>signs=%{customdata[0]}<br>kab_kota=%{customdata[2]}<extra></extra>",
           "lat": [
            -6.383496996638174,
            -6.936765700872271,
            -6.886467361450196,
            -6.592887079014497,
            -6.262359392767224,
            -6.729928146709096,
            -6.579142215298049,
            -6.833096220708732,
            -6.255207083225145,
            -7.346940849138343,
            -7.338933589300536,
            -6.756968888223015,
            -6.393166663154723,
            -7.268378056249979,
            -6.6329217663006546,
            -6.936611189986721,
            -7.0619754345248085,
            -6.379720414654616,
            -7.570962318649283,
            -6.274403231484549,
            -6.480949860895454,
            -7.30638836261014,
            -6.964360163286933,
            -6.921184978737736
           ],
           "legendgroup": "",
           "lon": [
            107.59779987191338,
            108.48644011759332,
            107.54447682698567,
            106.79751003489775,
            107.34518506941599,
            108.5573116649281,
            107.43030037073181,
            107.42084809790781,
            107.24457348666594,
            108.21931225320567,
            108.50381181054689,
            108.2380596008265,
            106.81258186461433,
            107.7521565245115,
            108.4595702784968,
            106.9264565670129,
            107.58953564768917,
            108.209041696153,
            108.50046315234377,
            106.97349902561733,
            106.71270915879865,
            108.36989467852787,
            107.19391062360883,
            107.6294606695112
           ],
           "marker": {
            "color": "#636efa",
            "size": [
             103272,
             93707,
             31292,
             63145,
             177321,
             25103,
             70566,
             124860,
             219672,
             42163,
             13878,
             153915,
             107754,
             165445,
             179338,
             18651,
             244995,
             140934,
             39928,
             139984,
             438332,
             97291,
             186896,
             152977
            ],
            "sizemode": "area",
            "sizeref": 1118.5675
           },
           "mode": "markers",
           "name": "",
           "showlegend": false,
           "subplot": "mapbox",
           "type": "scattermapbox"
          }
         ],
         "name": "1980"
        },
        {
         "data": [
          {
           "customdata": [
            [
             "gemini",
             155263,
             "MAJALENGKA"
            ],
            [
             "gemini",
             103681,
             "SUBANG"
            ],
            [
             "gemini",
             31414,
             "KOTA CIMAHI"
            ],
            [
             "gemini",
             63384,
             "KOTA BOGOR"
            ],
            [
             "gemini",
             40200,
             "PANGANDARAN"
            ],
            [
             "gemini",
             166008,
             "GARUT"
            ],
            [
             "gemini",
             439849,
             "BOGOR"
            ],
            [
             "gemini",
             141358,
             "INDRAMAYU"
            ],
            [
             "gemini",
             108158,
             "KOTA DEPOK"
            ],
            [
             "gemini",
             220238,
             "BEKASI"
            ],
            [
             "gemini",
             18736,
             "KOTA SUKABUMI"
            ],
            [
             "gemini",
             140434,
             "KOTA BEKASI"
            ],
            [
             "gemini",
             13945,
             "KOTA BANJAR"
            ],
            [
             "gemini",
             25260,
             "KOTA CIREBON"
            ],
            [
             "gemini",
             97970,
             "CIAMIS"
            ],
            [
             "gemini",
             70853,
             "PURWAKARTA"
            ],
            [
             "gemini",
             245873,
             "BANDUNG"
            ],
            [
             "gemini",
             42377,
             "KOTA TASIKMALAYA"
            ],
            [
             "gemini",
             94217,
             "KUNINGAN"
            ],
            [
             "gemini",
             153989,
             "KOTA BANDUNG"
            ],
            [
             "gemini",
             180042,
             "CIREBON"
            ],
            [
             "gemini",
             187496,
             "CIANJUR"
            ],
            [
             "gemini",
             125386,
             "BANDUNG BARAT"
            ],
            [
             "gemini",
             177884,
             "KARAWANG"
            ]
           ],
           "hovertemplate": "tahun_lahir=1981<br>cumulative_value=%{customdata[1]}<br>lat=%{lat}<br>long=%{lon}<br>signs=%{customdata[0]}<br>kab_kota=%{customdata[2]}<extra></extra>",
           "lat": [
            -6.756968888223015,
            -6.383496996638174,
            -6.886467361450196,
            -6.592887079014497,
            -7.570962318649283,
            -7.268378056249979,
            -6.480949860895454,
            -6.379720414654616,
            -6.393166663154723,
            -6.255207083225145,
            -6.936611189986721,
            -6.274403231484549,
            -7.338933589300536,
            -6.729928146709096,
            -7.30638836261014,
            -6.579142215298049,
            -7.0619754345248085,
            -7.346940849138343,
            -6.936765700872271,
            -6.921184978737736,
            -6.6329217663006546,
            -6.964360163286933,
            -6.833096220708732,
            -6.262359392767224
           ],
           "legendgroup": "",
           "lon": [
            108.2380596008265,
            107.59779987191338,
            107.54447682698567,
            106.79751003489775,
            108.50046315234377,
            107.7521565245115,
            106.71270915879865,
            108.209041696153,
            106.81258186461433,
            107.24457348666594,
            106.9264565670129,
            106.97349902561733,
            108.50381181054689,
            108.5573116649281,
            108.36989467852787,
            107.43030037073181,
            107.58953564768917,
            108.21931225320567,
            108.48644011759332,
            107.6294606695112,
            108.4595702784968,
            107.19391062360883,
            107.42084809790781,
            107.34518506941599
           ],
           "marker": {
            "color": "#636efa",
            "size": [
             155263,
             103681,
             31414,
             63384,
             40200,
             166008,
             439849,
             141358,
             108158,
             220238,
             18736,
             140434,
             13945,
             25260,
             97970,
             70853,
             245873,
             42377,
             94217,
             153989,
             180042,
             187496,
             125386,
             177884
            ],
            "sizemode": "area",
            "sizeref": 1118.5675
           },
           "mode": "markers",
           "name": "",
           "showlegend": false,
           "subplot": "mapbox",
           "type": "scattermapbox"
          }
         ],
         "name": "1981"
        },
        {
         "data": [
          {
           "customdata": [
            [
             "gemini",
             40316,
             "PANGANDARAN"
            ],
            [
             "gemini",
             18763,
             "KOTA SUKABUMI"
            ],
            [
             "gemini",
             154468,
             "KOTA BANDUNG"
            ],
            [
             "gemini",
             187729,
             "CIANJUR"
            ],
            [
             "gemini",
             103836,
             "SUBANG"
            ],
            [
             "gemini",
             98307,
             "CIAMIS"
            ],
            [
             "gemini",
             94482,
             "KUNINGAN"
            ],
            [
             "gemini",
             13977,
             "KOTA BANJAR"
            ],
            [
             "gemini",
             246247,
             "BANDUNG"
            ],
            [
             "gemini",
             25337,
             "KOTA CIREBON"
            ],
            [
             "gemini",
             180368,
             "CIREBON"
            ],
            [
             "gemini",
             125587,
             "BANDUNG BARAT"
            ],
            [
             "gemini",
             155884,
             "MAJALENGKA"
            ],
            [
             "gemini",
             440660,
             "BOGOR"
            ],
            [
             "gemini",
             108364,
             "KOTA DEPOK"
            ],
            [
             "gemini",
             178107,
             "KARAWANG"
            ],
            [
             "gemini",
             63529,
             "KOTA BOGOR"
            ],
            [
             "gemini",
             42460,
             "KOTA TASIKMALAYA"
            ],
            [
             "gemini",
             220573,
             "BEKASI"
            ],
            [
             "gemini",
             166352,
             "GARUT"
            ],
            [
             "gemini",
             140648,
             "KOTA BEKASI"
            ],
            [
             "gemini",
             31489,
             "KOTA CIMAHI"
            ],
            [
             "gemini",
             141601,
             "INDRAMAYU"
            ],
            [
             "gemini",
             70951,
             "PURWAKARTA"
            ]
           ],
           "hovertemplate": "tahun_lahir=1982<br>cumulative_value=%{customdata[1]}<br>lat=%{lat}<br>long=%{lon}<br>signs=%{customdata[0]}<br>kab_kota=%{customdata[2]}<extra></extra>",
           "lat": [
            -7.570962318649283,
            -6.936611189986721,
            -6.921184978737736,
            -6.964360163286933,
            -6.383496996638174,
            -7.30638836261014,
            -6.936765700872271,
            -7.338933589300536,
            -7.0619754345248085,
            -6.729928146709096,
            -6.6329217663006546,
            -6.833096220708732,
            -6.756968888223015,
            -6.480949860895454,
            -6.393166663154723,
            -6.262359392767224,
            -6.592887079014497,
            -7.346940849138343,
            -6.255207083225145,
            -7.268378056249979,
            -6.274403231484549,
            -6.886467361450196,
            -6.379720414654616,
            -6.579142215298049
           ],
           "legendgroup": "",
           "lon": [
            108.50046315234377,
            106.9264565670129,
            107.6294606695112,
            107.19391062360883,
            107.59779987191338,
            108.36989467852787,
            108.48644011759332,
            108.50381181054689,
            107.58953564768917,
            108.5573116649281,
            108.4595702784968,
            107.42084809790781,
            108.2380596008265,
            106.71270915879865,
            106.81258186461433,
            107.34518506941599,
            106.79751003489775,
            108.21931225320567,
            107.24457348666594,
            107.7521565245115,
            106.97349902561733,
            107.54447682698567,
            108.209041696153,
            107.43030037073181
           ],
           "marker": {
            "color": "#636efa",
            "size": [
             40316,
             18763,
             154468,
             187729,
             103836,
             98307,
             94482,
             13977,
             246247,
             25337,
             180368,
             125587,
             155884,
             440660,
             108364,
             178107,
             63529,
             42460,
             220573,
             166352,
             140648,
             31489,
             141601,
             70951
            ],
            "sizemode": "area",
            "sizeref": 1118.5675
           },
           "mode": "markers",
           "name": "",
           "showlegend": false,
           "subplot": "mapbox",
           "type": "scattermapbox"
          }
         ],
         "name": "1982"
        },
        {
         "data": [
          {
           "customdata": [
            [
             "gemini",
             18817,
             "KOTA SUKABUMI"
            ],
            [
             "gemini",
             181022,
             "CIREBON"
            ],
            [
             "gemini",
             442557,
             "BOGOR"
            ],
            [
             "gemini",
             221243,
             "BEKASI"
            ],
            [
             "gemini",
             31571,
             "KOTA CIMAHI"
            ],
            [
             "gemini",
             178765,
             "KARAWANG"
            ],
            [
             "gemini",
             95003,
             "KUNINGAN"
            ],
            [
             "gemini",
             98977,
             "CIAMIS"
            ],
            [
             "gemini",
             167018,
             "GARUT"
            ],
            [
             "gemini",
             188521,
             "CIANJUR"
            ],
            [
             "gemini",
             108714,
             "KOTA DEPOK"
            ],
            [
             "gemini",
             71236,
             "PURWAKARTA"
            ],
            [
             "gemini",
             14042,
             "KOTA BANJAR"
            ],
            [
             "gemini",
             155250,
             "KOTA BANDUNG"
            ],
            [
             "gemini",
             25459,
             "KOTA CIREBON"
            ],
            [
             "gemini",
             141064,
             "KOTA BEKASI"
            ],
            [
             "gemini",
             246953,
             "BANDUNG"
            ],
            [
             "gemini",
             142165,
             "INDRAMAYU"
            ],
            [
             "gemini",
             126091,
             "BANDUNG BARAT"
            ],
            [
             "gemini",
             40609,
             "PANGANDARAN"
            ],
            [
             "gemini",
             63760,
             "KOTA BOGOR"
            ],
            [
             "gemini",
             104247,
             "SUBANG"
            ],
            [
             "gemini",
             157262,
             "MAJALENGKA"
            ],
            [
             "gemini",
             42617,
             "KOTA TASIKMALAYA"
            ]
           ],
           "hovertemplate": "tahun_lahir=1983<br>cumulative_value=%{customdata[1]}<br>lat=%{lat}<br>long=%{lon}<br>signs=%{customdata[0]}<br>kab_kota=%{customdata[2]}<extra></extra>",
           "lat": [
            -6.936611189986721,
            -6.6329217663006546,
            -6.480949860895454,
            -6.255207083225145,
            -6.886467361450196,
            -6.262359392767224,
            -6.936765700872271,
            -7.30638836261014,
            -7.268378056249979,
            -6.964360163286933,
            -6.393166663154723,
            -6.579142215298049,
            -7.338933589300536,
            -6.921184978737736,
            -6.729928146709096,
            -6.274403231484549,
            -7.0619754345248085,
            -6.379720414654616,
            -6.833096220708732,
            -7.570962318649283,
            -6.592887079014497,
            -6.383496996638174,
            -6.756968888223015,
            -7.346940849138343
           ],
           "legendgroup": "",
           "lon": [
            106.9264565670129,
            108.4595702784968,
            106.71270915879865,
            107.24457348666594,
            107.54447682698567,
            107.34518506941599,
            108.48644011759332,
            108.36989467852787,
            107.7521565245115,
            107.19391062360883,
            106.81258186461433,
            107.43030037073181,
            108.50381181054689,
            107.6294606695112,
            108.5573116649281,
            106.97349902561733,
            107.58953564768917,
            108.209041696153,
            107.42084809790781,
            108.50046315234377,
            106.79751003489775,
            107.59779987191338,
            108.2380596008265,
            108.21931225320567
           ],
           "marker": {
            "color": "#636efa",
            "size": [
             18817,
             181022,
             442557,
             221243,
             31571,
             178765,
             95003,
             98977,
             167018,
             188521,
             108714,
             71236,
             14042,
             155250,
             25459,
             141064,
             246953,
             142165,
             126091,
             40609,
             63760,
             104247,
             157262,
             42617
            ],
            "sizemode": "area",
            "sizeref": 1118.5675
           },
           "mode": "markers",
           "name": "",
           "showlegend": false,
           "subplot": "mapbox",
           "type": "scattermapbox"
          }
         ],
         "name": "1983"
        },
        {
         "data": [
          {
           "customdata": [
            [
             "gemini",
             40707,
             "PANGANDARAN"
            ],
            [
             "gemini",
             443107,
             "BOGOR"
            ],
            [
             "gemini",
             157747,
             "MAJALENGKA"
            ],
            [
             "gemini",
             42701,
             "KOTA TASIKMALAYA"
            ],
            [
             "gemini",
             95203,
             "KUNINGAN"
            ],
            [
             "gemini",
             142294,
             "INDRAMAYU"
            ],
            [
             "gemini",
             108871,
             "KOTA DEPOK"
            ],
            [
             "gemini",
             25545,
             "KOTA CIREBON"
            ],
            [
             "gemini",
             178921,
             "KARAWANG"
            ],
            [
             "gemini",
             221490,
             "BEKASI"
            ],
            [
             "gemini",
             14075,
             "KOTA BANJAR"
            ],
            [
             "gemini",
             63872,
             "KOTA BOGOR"
            ],
            [
             "gemini",
             188754,
             "CIANJUR"
            ],
            [
             "gemini",
             247324,
             "BANDUNG"
            ],
            [
             "gemini",
             31622,
             "KOTA CIMAHI"
            ],
            [
             "gemini",
             126310,
             "BANDUNG BARAT"
            ],
            [
             "gemini",
             181276,
             "CIREBON"
            ],
            [
             "gemini",
             71368,
             "PURWAKARTA"
            ],
            [
             "gemini",
             18850,
             "KOTA SUKABUMI"
            ],
            [
             "gemini",
             104387,
             "SUBANG"
            ],
            [
             "gemini",
             99252,
             "CIAMIS"
            ],
            [
             "gemini",
             155757,
             "KOTA BANDUNG"
            ],
            [
             "gemini",
             141231,
             "KOTA BEKASI"
            ],
            [
             "gemini",
             167255,
             "GARUT"
            ]
           ],
           "hovertemplate": "tahun_lahir=1984<br>cumulative_value=%{customdata[1]}<br>lat=%{lat}<br>long=%{lon}<br>signs=%{customdata[0]}<br>kab_kota=%{customdata[2]}<extra></extra>",
           "lat": [
            -7.570962318649283,
            -6.480949860895454,
            -6.756968888223015,
            -7.346940849138343,
            -6.936765700872271,
            -6.379720414654616,
            -6.393166663154723,
            -6.729928146709096,
            -6.262359392767224,
            -6.255207083225145,
            -7.338933589300536,
            -6.592887079014497,
            -6.964360163286933,
            -7.0619754345248085,
            -6.886467361450196,
            -6.833096220708732,
            -6.6329217663006546,
            -6.579142215298049,
            -6.936611189986721,
            -6.383496996638174,
            -7.30638836261014,
            -6.921184978737736,
            -6.274403231484549,
            -7.268378056249979
           ],
           "legendgroup": "",
           "lon": [
            108.50046315234377,
            106.71270915879865,
            108.2380596008265,
            108.21931225320567,
            108.48644011759332,
            108.209041696153,
            106.81258186461433,
            108.5573116649281,
            107.34518506941599,
            107.24457348666594,
            108.50381181054689,
            106.79751003489775,
            107.19391062360883,
            107.58953564768917,
            107.54447682698567,
            107.42084809790781,
            108.4595702784968,
            107.43030037073181,
            106.9264565670129,
            107.59779987191338,
            108.36989467852787,
            107.6294606695112,
            106.97349902561733,
            107.7521565245115
           ],
           "marker": {
            "color": "#636efa",
            "size": [
             40707,
             443107,
             157747,
             42701,
             95203,
             142294,
             108871,
             25545,
             178921,
             221490,
             14075,
             63872,
             188754,
             247324,
             31622,
             126310,
             181276,
             71368,
             18850,
             104387,
             99252,
             155757,
             141231,
             167255
            ],
            "sizemode": "area",
            "sizeref": 1118.5675
           },
           "mode": "markers",
           "name": "",
           "showlegend": false,
           "subplot": "mapbox",
           "type": "scattermapbox"
          }
         ],
         "name": "1984"
        },
        {
         "data": [
          {
           "customdata": [
            [
             "gemini",
             71476,
             "PURWAKARTA"
            ],
            [
             "gemini",
             181561,
             "CIREBON"
            ],
            [
             "gemini",
             40779,
             "PANGANDARAN"
            ],
            [
             "gemini",
             189055,
             "CIANJUR"
            ],
            [
             "gemini",
             167516,
             "GARUT"
            ],
            [
             "gemini",
             247649,
             "BANDUNG"
            ],
            [
             "gemini",
             126492,
             "BANDUNG BARAT"
            ],
            [
             "gemini",
             156177,
             "KOTA BANDUNG"
            ],
            [
             "gemini",
             109021,
             "KOTA DEPOK"
            ],
            [
             "gemini",
             18885,
             "KOTA SUKABUMI"
            ],
            [
             "gemini",
             63965,
             "KOTA BOGOR"
            ],
            [
             "gemini",
             141422,
             "KOTA BEKASI"
            ],
            [
             "gemini",
             25593,
             "KOTA CIREBON"
            ],
            [
             "gemini",
             104559,
             "SUBANG"
            ],
            [
             "gemini",
             158215,
             "MAJALENGKA"
            ],
            [
             "gemini",
             14122,
             "KOTA BANJAR"
            ],
            [
             "gemini",
             142471,
             "INDRAMAYU"
            ],
            [
             "gemini",
             99490,
             "CIAMIS"
            ],
            [
             "gemini",
             95445,
             "KUNINGAN"
            ],
            [
             "gemini",
             221814,
             "BEKASI"
            ],
            [
             "gemini",
             31671,
             "KOTA CIMAHI"
            ],
            [
             "gemini",
             42768,
             "KOTA TASIKMALAYA"
            ],
            [
             "gemini",
             443686,
             "BOGOR"
            ],
            [
             "gemini",
             179103,
             "KARAWANG"
            ]
           ],
           "hovertemplate": "tahun_lahir=1985<br>cumulative_value=%{customdata[1]}<br>lat=%{lat}<br>long=%{lon}<br>signs=%{customdata[0]}<br>kab_kota=%{customdata[2]}<extra></extra>",
           "lat": [
            -6.579142215298049,
            -6.6329217663006546,
            -7.570962318649283,
            -6.964360163286933,
            -7.268378056249979,
            -7.0619754345248085,
            -6.833096220708732,
            -6.921184978737736,
            -6.393166663154723,
            -6.936611189986721,
            -6.592887079014497,
            -6.274403231484549,
            -6.729928146709096,
            -6.383496996638174,
            -6.756968888223015,
            -7.338933589300536,
            -6.379720414654616,
            -7.30638836261014,
            -6.936765700872271,
            -6.255207083225145,
            -6.886467361450196,
            -7.346940849138343,
            -6.480949860895454,
            -6.262359392767224
           ],
           "legendgroup": "",
           "lon": [
            107.43030037073181,
            108.4595702784968,
            108.50046315234377,
            107.19391062360883,
            107.7521565245115,
            107.58953564768917,
            107.42084809790781,
            107.6294606695112,
            106.81258186461433,
            106.9264565670129,
            106.79751003489775,
            106.97349902561733,
            108.5573116649281,
            107.59779987191338,
            108.2380596008265,
            108.50381181054689,
            108.209041696153,
            108.36989467852787,
            108.48644011759332,
            107.24457348666594,
            107.54447682698567,
            108.21931225320567,
            106.71270915879865,
            107.34518506941599
           ],
           "marker": {
            "color": "#636efa",
            "size": [
             71476,
             181561,
             40779,
             189055,
             167516,
             247649,
             126492,
             156177,
             109021,
             18885,
             63965,
             141422,
             25593,
             104559,
             158215,
             14122,
             142471,
             99490,
             95445,
             221814,
             31671,
             42768,
             443686,
             179103
            ],
            "sizemode": "area",
            "sizeref": 1118.5675
           },
           "mode": "markers",
           "name": "",
           "showlegend": false,
           "subplot": "mapbox",
           "type": "scattermapbox"
          }
         ],
         "name": "1985"
        },
        {
         "data": [
          {
           "customdata": [
            [
             "gemini",
             158616,
             "MAJALENGKA"
            ],
            [
             "gemini",
             64054,
             "KOTA BOGOR"
            ],
            [
             "gemini",
             444221,
             "BOGOR"
            ],
            [
             "gemini",
             181806,
             "CIREBON"
            ],
            [
             "gemini",
             126655,
             "BANDUNG BARAT"
            ],
            [
             "gemini",
             104677,
             "SUBANG"
            ],
            [
             "gemini",
             156529,
             "KOTA BANDUNG"
            ],
            [
             "gemini",
             40867,
             "PANGANDARAN"
            ],
            [
             "gemini",
             14154,
             "KOTA BANJAR"
            ],
            [
             "gemini",
             189247,
             "CIANJUR"
            ],
            [
             "gemini",
             167742,
             "GARUT"
            ],
            [
             "gemini",
             31700,
             "KOTA CIMAHI"
            ],
            [
             "gemini",
             222039,
             "BEKASI"
            ],
            [
             "gemini",
             42818,
             "KOTA TASIKMALAYA"
            ],
            [
             "gemini",
             142587,
             "INDRAMAYU"
            ],
            [
             "gemini",
             141573,
             "KOTA BEKASI"
            ],
            [
             "gemini",
             95621,
             "KUNINGAN"
            ],
            [
             "gemini",
             109139,
             "KOTA DEPOK"
            ],
            [
             "gemini",
             99667,
             "CIAMIS"
            ],
            [
             "gemini",
             247910,
             "BANDUNG"
            ],
            [
             "gemini",
             71556,
             "PURWAKARTA"
            ],
            [
             "gemini",
             18906,
             "KOTA SUKABUMI"
            ],
            [
             "gemini",
             25652,
             "KOTA CIREBON"
            ],
            [
             "gemini",
             179270,
             "KARAWANG"
            ]
           ],
           "hovertemplate": "tahun_lahir=1986<br>cumulative_value=%{customdata[1]}<br>lat=%{lat}<br>long=%{lon}<br>signs=%{customdata[0]}<br>kab_kota=%{customdata[2]}<extra></extra>",
           "lat": [
            -6.756968888223015,
            -6.592887079014497,
            -6.480949860895454,
            -6.6329217663006546,
            -6.833096220708732,
            -6.383496996638174,
            -6.921184978737736,
            -7.570962318649283,
            -7.338933589300536,
            -6.964360163286933,
            -7.268378056249979,
            -6.886467361450196,
            -6.255207083225145,
            -7.346940849138343,
            -6.379720414654616,
            -6.274403231484549,
            -6.936765700872271,
            -6.393166663154723,
            -7.30638836261014,
            -7.0619754345248085,
            -6.579142215298049,
            -6.936611189986721,
            -6.729928146709096,
            -6.262359392767224
           ],
           "legendgroup": "",
           "lon": [
            108.2380596008265,
            106.79751003489775,
            106.71270915879865,
            108.4595702784968,
            107.42084809790781,
            107.59779987191338,
            107.6294606695112,
            108.50046315234377,
            108.50381181054689,
            107.19391062360883,
            107.7521565245115,
            107.54447682698567,
            107.24457348666594,
            108.21931225320567,
            108.209041696153,
            106.97349902561733,
            108.48644011759332,
            106.81258186461433,
            108.36989467852787,
            107.58953564768917,
            107.43030037073181,
            106.9264565670129,
            108.5573116649281,
            107.34518506941599
           ],
           "marker": {
            "color": "#636efa",
            "size": [
             158616,
             64054,
             444221,
             181806,
             126655,
             104677,
             156529,
             40867,
             14154,
             189247,
             167742,
             31700,
             222039,
             42818,
             142587,
             141573,
             95621,
             109139,
             99667,
             247910,
             71556,
             18906,
             25652,
             179270
            ],
            "sizemode": "area",
            "sizeref": 1118.5675
           },
           "mode": "markers",
           "name": "",
           "showlegend": false,
           "subplot": "mapbox",
           "type": "scattermapbox"
          }
         ],
         "name": "1986"
        },
        {
         "data": [
          {
           "customdata": [
            [
             "gemini",
             42869,
             "KOTA TASIKMALAYA"
            ],
            [
             "gemini",
             189398,
             "CIANJUR"
            ],
            [
             "gemini",
             25695,
             "KOTA CIREBON"
            ],
            [
             "gemini",
             126789,
             "BANDUNG BARAT"
            ],
            [
             "gemini",
             142699,
             "INDRAMAYU"
            ],
            [
             "gemini",
             104770,
             "SUBANG"
            ],
            [
             "gemini",
             444716,
             "BOGOR"
            ],
            [
             "gemini",
             167942,
             "GARUT"
            ],
            [
             "gemini",
             141706,
             "KOTA BEKASI"
            ],
            [
             "gemini",
             156871,
             "KOTA BANDUNG"
            ],
            [
             "gemini",
             109267,
             "KOTA DEPOK"
            ],
            [
             "gemini",
             95800,
             "KUNINGAN"
            ],
            [
             "gemini",
             158917,
             "MAJALENGKA"
            ],
            [
             "gemini",
             71615,
             "PURWAKARTA"
            ],
            [
             "gemini",
             40937,
             "PANGANDARAN"
            ],
            [
             "gemini",
             31733,
             "KOTA CIMAHI"
            ],
            [
             "gemini",
             18926,
             "KOTA SUKABUMI"
            ],
            [
             "gemini",
             248134,
             "BANDUNG"
            ],
            [
             "gemini",
             222196,
             "BEKASI"
            ],
            [
             "gemini",
             182003,
             "CIREBON"
            ],
            [
             "gemini",
             14185,
             "KOTA BANJAR"
            ],
            [
             "gemini",
             99843,
             "CIAMIS"
            ],
            [
             "gemini",
             64146,
             "KOTA BOGOR"
            ],
            [
             "gemini",
             179373,
             "KARAWANG"
            ]
           ],
           "hovertemplate": "tahun_lahir=1987<br>cumulative_value=%{customdata[1]}<br>lat=%{lat}<br>long=%{lon}<br>signs=%{customdata[0]}<br>kab_kota=%{customdata[2]}<extra></extra>",
           "lat": [
            -7.346940849138343,
            -6.964360163286933,
            -6.729928146709096,
            -6.833096220708732,
            -6.379720414654616,
            -6.383496996638174,
            -6.480949860895454,
            -7.268378056249979,
            -6.274403231484549,
            -6.921184978737736,
            -6.393166663154723,
            -6.936765700872271,
            -6.756968888223015,
            -6.579142215298049,
            -7.570962318649283,
            -6.886467361450196,
            -6.936611189986721,
            -7.0619754345248085,
            -6.255207083225145,
            -6.6329217663006546,
            -7.338933589300536,
            -7.30638836261014,
            -6.592887079014497,
            -6.262359392767224
           ],
           "legendgroup": "",
           "lon": [
            108.21931225320567,
            107.19391062360883,
            108.5573116649281,
            107.42084809790781,
            108.209041696153,
            107.59779987191338,
            106.71270915879865,
            107.7521565245115,
            106.97349902561733,
            107.6294606695112,
            106.81258186461433,
            108.48644011759332,
            108.2380596008265,
            107.43030037073181,
            108.50046315234377,
            107.54447682698567,
            106.9264565670129,
            107.58953564768917,
            107.24457348666594,
            108.4595702784968,
            108.50381181054689,
            108.36989467852787,
            106.79751003489775,
            107.34518506941599
           ],
           "marker": {
            "color": "#636efa",
            "size": [
             42869,
             189398,
             25695,
             126789,
             142699,
             104770,
             444716,
             167942,
             141706,
             156871,
             109267,
             95800,
             158917,
             71615,
             40937,
             31733,
             18926,
             248134,
             222196,
             182003,
             14185,
             99843,
             64146,
             179373
            ],
            "sizemode": "area",
            "sizeref": 1118.5675
           },
           "mode": "markers",
           "name": "",
           "showlegend": false,
           "subplot": "mapbox",
           "type": "scattermapbox"
          }
         ],
         "name": "1987"
        },
        {
         "data": [
          {
           "customdata": [
            [
             "gemini",
             248371,
             "BANDUNG"
            ],
            [
             "gemini",
             104891,
             "SUBANG"
            ],
            [
             "gemini",
             25744,
             "KOTA CIREBON"
            ],
            [
             "gemini",
             182228,
             "CIREBON"
            ],
            [
             "gemini",
             14210,
             "KOTA BANJAR"
            ],
            [
             "gemini",
             168164,
             "GARUT"
            ],
            [
             "gemini",
             179597,
             "KARAWANG"
            ],
            [
             "gemini",
             100100,
             "CIAMIS"
            ],
            [
             "gemini",
             445490,
             "BOGOR"
            ],
            [
             "gemini",
             42942,
             "KOTA TASIKMALAYA"
            ],
            [
             "gemini",
             96008,
             "KUNINGAN"
            ],
            [
             "gemini",
             157213,
             "KOTA BANDUNG"
            ],
            [
             "gemini",
             189700,
             "CIANJUR"
            ],
            [
             "gemini",
             126969,
             "BANDUNG BARAT"
            ],
            [
             "gemini",
             222448,
             "BEKASI"
            ],
            [
             "gemini",
             141869,
             "KOTA BEKASI"
            ],
            [
             "gemini",
             71710,
             "PURWAKARTA"
            ],
            [
             "gemini",
             64226,
             "KOTA BOGOR"
            ],
            [
             "gemini",
             109386,
             "KOTA DEPOK"
            ],
            [
             "gemini",
             159410,
             "MAJALENGKA"
            ],
            [
             "gemini",
             18943,
             "KOTA SUKABUMI"
            ],
            [
             "gemini",
             41061,
             "PANGANDARAN"
            ],
            [
             "gemini",
             31760,
             "KOTA CIMAHI"
            ],
            [
             "gemini",
             142869,
             "INDRAMAYU"
            ]
           ],
           "hovertemplate": "tahun_lahir=1988<br>cumulative_value=%{customdata[1]}<br>lat=%{lat}<br>long=%{lon}<br>signs=%{customdata[0]}<br>kab_kota=%{customdata[2]}<extra></extra>",
           "lat": [
            -7.0619754345248085,
            -6.383496996638174,
            -6.729928146709096,
            -6.6329217663006546,
            -7.338933589300536,
            -7.268378056249979,
            -6.262359392767224,
            -7.30638836261014,
            -6.480949860895454,
            -7.346940849138343,
            -6.936765700872271,
            -6.921184978737736,
            -6.964360163286933,
            -6.833096220708732,
            -6.255207083225145,
            -6.274403231484549,
            -6.579142215298049,
            -6.592887079014497,
            -6.393166663154723,
            -6.756968888223015,
            -6.936611189986721,
            -7.570962318649283,
            -6.886467361450196,
            -6.379720414654616
           ],
           "legendgroup": "",
           "lon": [
            107.58953564768917,
            107.59779987191338,
            108.5573116649281,
            108.4595702784968,
            108.50381181054689,
            107.7521565245115,
            107.34518506941599,
            108.36989467852787,
            106.71270915879865,
            108.21931225320567,
            108.48644011759332,
            107.6294606695112,
            107.19391062360883,
            107.42084809790781,
            107.24457348666594,
            106.97349902561733,
            107.43030037073181,
            106.79751003489775,
            106.81258186461433,
            108.2380596008265,
            106.9264565670129,
            108.50046315234377,
            107.54447682698567,
            108.209041696153
           ],
           "marker": {
            "color": "#636efa",
            "size": [
             248371,
             104891,
             25744,
             182228,
             14210,
             168164,
             179597,
             100100,
             445490,
             42942,
             96008,
             157213,
             189700,
             126969,
             222448,
             141869,
             71710,
             64226,
             109386,
             159410,
             18943,
             41061,
             31760,
             142869
            ],
            "sizemode": "area",
            "sizeref": 1118.5675
           },
           "mode": "markers",
           "name": "",
           "showlegend": false,
           "subplot": "mapbox",
           "type": "scattermapbox"
          }
         ],
         "name": "1988"
        },
        {
         "data": [
          {
           "customdata": [
            [
             "gemini",
             31786,
             "KOTA CIMAHI"
            ],
            [
             "gemini",
             14227,
             "KOTA BANJAR"
            ],
            [
             "gemini",
             179674,
             "KARAWANG"
            ],
            [
             "gemini",
             168254,
             "GARUT"
            ],
            [
             "gemini",
             71748,
             "PURWAKARTA"
            ],
            [
             "gemini",
             142923,
             "INDRAMAYU"
            ],
            [
             "gemini",
             159625,
             "MAJALENGKA"
            ],
            [
             "gemini",
             157444,
             "KOTA BANDUNG"
            ],
            [
             "gemini",
             104948,
             "SUBANG"
            ],
            [
             "gemini",
             41103,
             "PANGANDARAN"
            ],
            [
             "gemini",
             18964,
             "KOTA SUKABUMI"
            ],
            [
             "gemini",
             182340,
             "CIREBON"
            ],
            [
             "gemini",
             248496,
             "BANDUNG"
            ],
            [
             "gemini",
             96118,
             "KUNINGAN"
            ],
            [
             "gemini",
             189800,
             "CIANJUR"
            ],
            [
             "gemini",
             109451,
             "KOTA DEPOK"
            ],
            [
             "gemini",
             222579,
             "BEKASI"
            ],
            [
             "gemini",
             42973,
             "KOTA TASIKMALAYA"
            ],
            [
             "gemini",
             127037,
             "BANDUNG BARAT"
            ],
            [
             "gemini",
             141969,
             "KOTA BEKASI"
            ],
            [
             "gemini",
             25797,
             "KOTA CIREBON"
            ],
            [
             "gemini",
             445751,
             "BOGOR"
            ],
            [
             "gemini",
             100201,
             "CIAMIS"
            ],
            [
             "gemini",
             64285,
             "KOTA BOGOR"
            ]
           ],
           "hovertemplate": "tahun_lahir=1989<br>cumulative_value=%{customdata[1]}<br>lat=%{lat}<br>long=%{lon}<br>signs=%{customdata[0]}<br>kab_kota=%{customdata[2]}<extra></extra>",
           "lat": [
            -6.886467361450196,
            -7.338933589300536,
            -6.262359392767224,
            -7.268378056249979,
            -6.579142215298049,
            -6.379720414654616,
            -6.756968888223015,
            -6.921184978737736,
            -6.383496996638174,
            -7.570962318649283,
            -6.936611189986721,
            -6.6329217663006546,
            -7.0619754345248085,
            -6.936765700872271,
            -6.964360163286933,
            -6.393166663154723,
            -6.255207083225145,
            -7.346940849138343,
            -6.833096220708732,
            -6.274403231484549,
            -6.729928146709096,
            -6.480949860895454,
            -7.30638836261014,
            -6.592887079014497
           ],
           "legendgroup": "",
           "lon": [
            107.54447682698567,
            108.50381181054689,
            107.34518506941599,
            107.7521565245115,
            107.43030037073181,
            108.209041696153,
            108.2380596008265,
            107.6294606695112,
            107.59779987191338,
            108.50046315234377,
            106.9264565670129,
            108.4595702784968,
            107.58953564768917,
            108.48644011759332,
            107.19391062360883,
            106.81258186461433,
            107.24457348666594,
            108.21931225320567,
            107.42084809790781,
            106.97349902561733,
            108.5573116649281,
            106.71270915879865,
            108.36989467852787,
            106.79751003489775
           ],
           "marker": {
            "color": "#636efa",
            "size": [
             31786,
             14227,
             179674,
             168254,
             71748,
             142923,
             159625,
             157444,
             104948,
             41103,
             18964,
             182340,
             248496,
             96118,
             189800,
             109451,
             222579,
             42973,
             127037,
             141969,
             25797,
             445751,
             100201,
             64285
            ],
            "sizemode": "area",
            "sizeref": 1118.5675
           },
           "mode": "markers",
           "name": "",
           "showlegend": false,
           "subplot": "mapbox",
           "type": "scattermapbox"
          }
         ],
         "name": "1989"
        },
        {
         "data": [
          {
           "customdata": [
            [
             "gemini",
             71796,
             "PURWAKARTA"
            ],
            [
             "gemini",
             142061,
             "KOTA BEKASI"
            ],
            [
             "gemini",
             248670,
             "BANDUNG"
            ],
            [
             "gemini",
             100297,
             "CIAMIS"
            ],
            [
             "gemini",
             64329,
             "KOTA BOGOR"
            ],
            [
             "gemini",
             446041,
             "BOGOR"
            ],
            [
             "gemini",
             157628,
             "KOTA BANDUNG"
            ],
            [
             "gemini",
             96208,
             "KUNINGAN"
            ],
            [
             "gemini",
             25827,
             "KOTA CIREBON"
            ],
            [
             "gemini",
             109517,
             "KOTA DEPOK"
            ],
            [
             "gemini",
             43000,
             "KOTA TASIKMALAYA"
            ],
            [
             "gemini",
             127149,
             "BANDUNG BARAT"
            ],
            [
             "gemini",
             189915,
             "CIANJUR"
            ],
            [
             "gemini",
             182483,
             "CIREBON"
            ],
            [
             "gemini",
             105007,
             "SUBANG"
            ],
            [
             "gemini",
             14243,
             "KOTA BANJAR"
            ],
            [
             "gemini",
             41137,
             "PANGANDARAN"
            ],
            [
             "gemini",
             168346,
             "GARUT"
            ],
            [
             "gemini",
             18970,
             "KOTA SUKABUMI"
            ],
            [
             "gemini",
             179725,
             "KARAWANG"
            ],
            [
             "gemini",
             31802,
             "KOTA CIMAHI"
            ],
            [
             "gemini",
             222797,
             "BEKASI"
            ],
            [
             "gemini",
             159832,
             "MAJALENGKA"
            ],
            [
             "gemini",
             143002,
             "INDRAMAYU"
            ]
           ],
           "hovertemplate": "tahun_lahir=1990<br>cumulative_value=%{customdata[1]}<br>lat=%{lat}<br>long=%{lon}<br>signs=%{customdata[0]}<br>kab_kota=%{customdata[2]}<extra></extra>",
           "lat": [
            -6.579142215298049,
            -6.274403231484549,
            -7.0619754345248085,
            -7.30638836261014,
            -6.592887079014497,
            -6.480949860895454,
            -6.921184978737736,
            -6.936765700872271,
            -6.729928146709096,
            -6.393166663154723,
            -7.346940849138343,
            -6.833096220708732,
            -6.964360163286933,
            -6.6329217663006546,
            -6.383496996638174,
            -7.338933589300536,
            -7.570962318649283,
            -7.268378056249979,
            -6.936611189986721,
            -6.262359392767224,
            -6.886467361450196,
            -6.255207083225145,
            -6.756968888223015,
            -6.379720414654616
           ],
           "legendgroup": "",
           "lon": [
            107.43030037073181,
            106.97349902561733,
            107.58953564768917,
            108.36989467852787,
            106.79751003489775,
            106.71270915879865,
            107.6294606695112,
            108.48644011759332,
            108.5573116649281,
            106.81258186461433,
            108.21931225320567,
            107.42084809790781,
            107.19391062360883,
            108.4595702784968,
            107.59779987191338,
            108.50381181054689,
            108.50046315234377,
            107.7521565245115,
            106.9264565670129,
            107.34518506941599,
            107.54447682698567,
            107.24457348666594,
            108.2380596008265,
            108.209041696153
           ],
           "marker": {
            "color": "#636efa",
            "size": [
             71796,
             142061,
             248670,
             100297,
             64329,
             446041,
             157628,
             96208,
             25827,
             109517,
             43000,
             127149,
             189915,
             182483,
             105007,
             14243,
             41137,
             168346,
             18970,
             179725,
             31802,
             222797,
             159832,
             143002
            ],
            "sizemode": "area",
            "sizeref": 1118.5675
           },
           "mode": "markers",
           "name": "",
           "showlegend": false,
           "subplot": "mapbox",
           "type": "scattermapbox"
          }
         ],
         "name": "1990"
        },
        {
         "data": [
          {
           "customdata": [
            [
             "gemini",
             43038,
             "KOTA TASIKMALAYA"
            ],
            [
             "gemini",
             25862,
             "KOTA CIREBON"
            ],
            [
             "gemini",
             157802,
             "KOTA BANDUNG"
            ],
            [
             "gemini",
             109595,
             "KOTA DEPOK"
            ],
            [
             "gemini",
             18975,
             "KOTA SUKABUMI"
            ],
            [
             "gemini",
             222919,
             "BEKASI"
            ],
            [
             "gemini",
             71842,
             "PURWAKARTA"
            ],
            [
             "gemini",
             160073,
             "MAJALENGKA"
            ],
            [
             "gemini",
             127239,
             "BANDUNG BARAT"
            ],
            [
             "gemini",
             31823,
             "KOTA CIMAHI"
            ],
            [
             "gemini",
             168463,
             "GARUT"
            ],
            [
             "gemini",
             143061,
             "INDRAMAYU"
            ],
            [
             "gemini",
             179817,
             "KARAWANG"
            ],
            [
             "gemini",
             41171,
             "PANGANDARAN"
            ],
            [
             "gemini",
             64368,
             "KOTA BOGOR"
            ],
            [
             "gemini",
             446389,
             "BOGOR"
            ],
            [
             "gemini",
             14255,
             "KOTA BANJAR"
            ],
            [
             "gemini",
             96309,
             "KUNINGAN"
            ],
            [
             "gemini",
             248807,
             "BANDUNG"
            ],
            [
             "gemini",
             100396,
             "CIAMIS"
            ],
            [
             "gemini",
             182603,
             "CIREBON"
            ],
            [
             "gemini",
             142162,
             "KOTA BEKASI"
            ],
            [
             "gemini",
             190029,
             "CIANJUR"
            ],
            [
             "gemini",
             105053,
             "SUBANG"
            ]
           ],
           "hovertemplate": "tahun_lahir=1991<br>cumulative_value=%{customdata[1]}<br>lat=%{lat}<br>long=%{lon}<br>signs=%{customdata[0]}<br>kab_kota=%{customdata[2]}<extra></extra>",
           "lat": [
            -7.346940849138343,
            -6.729928146709096,
            -6.921184978737736,
            -6.393166663154723,
            -6.936611189986721,
            -6.255207083225145,
            -6.579142215298049,
            -6.756968888223015,
            -6.833096220708732,
            -6.886467361450196,
            -7.268378056249979,
            -6.379720414654616,
            -6.262359392767224,
            -7.570962318649283,
            -6.592887079014497,
            -6.480949860895454,
            -7.338933589300536,
            -6.936765700872271,
            -7.0619754345248085,
            -7.30638836261014,
            -6.6329217663006546,
            -6.274403231484549,
            -6.964360163286933,
            -6.383496996638174
           ],
           "legendgroup": "",
           "lon": [
            108.21931225320567,
            108.5573116649281,
            107.6294606695112,
            106.81258186461433,
            106.9264565670129,
            107.24457348666594,
            107.43030037073181,
            108.2380596008265,
            107.42084809790781,
            107.54447682698567,
            107.7521565245115,
            108.209041696153,
            107.34518506941599,
            108.50046315234377,
            106.79751003489775,
            106.71270915879865,
            108.50381181054689,
            108.48644011759332,
            107.58953564768917,
            108.36989467852787,
            108.4595702784968,
            106.97349902561733,
            107.19391062360883,
            107.59779987191338
           ],
           "marker": {
            "color": "#636efa",
            "size": [
             43038,
             25862,
             157802,
             109595,
             18975,
             222919,
             71842,
             160073,
             127239,
             31823,
             168463,
             143061,
             179817,
             41171,
             64368,
             446389,
             14255,
             96309,
             248807,
             100396,
             182603,
             142162,
             190029,
             105053
            ],
            "sizemode": "area",
            "sizeref": 1118.5675
           },
           "mode": "markers",
           "name": "",
           "showlegend": false,
           "subplot": "mapbox",
           "type": "scattermapbox"
          }
         ],
         "name": "1991"
        },
        {
         "data": [
          {
           "customdata": [
            [
             "gemini",
             248891,
             "BANDUNG"
            ],
            [
             "gemini",
             168529,
             "GARUT"
            ],
            [
             "gemini",
             105087,
             "SUBANG"
            ],
            [
             "gemini",
             143100,
             "INDRAMAYU"
            ],
            [
             "gemini",
             96371,
             "KUNINGAN"
            ],
            [
             "gemini",
             100469,
             "CIAMIS"
            ],
            [
             "gemini",
             14261,
             "KOTA BANJAR"
            ],
            [
             "gemini",
             223003,
             "BEKASI"
            ],
            [
             "gemini",
             182675,
             "CIREBON"
            ],
            [
             "gemini",
             31836,
             "KOTA CIMAHI"
            ],
            [
             "gemini",
             64392,
             "KOTA BOGOR"
            ],
            [
             "gemini",
             71864,
             "PURWAKARTA"
            ],
            [
             "gemini",
             142210,
             "KOTA BEKASI"
            ],
            [
             "gemini",
             18982,
             "KOTA SUKABUMI"
            ],
            [
             "gemini",
             446587,
             "BOGOR"
            ],
            [
             "gemini",
             43057,
             "KOTA TASIKMALAYA"
            ],
            [
             "gemini",
             109639,
             "KOTA DEPOK"
            ],
            [
             "gemini",
             127275,
             "BANDUNG BARAT"
            ],
            [
             "gemini",
             41195,
             "PANGANDARAN"
            ],
            [
             "gemini",
             160196,
             "MAJALENGKA"
            ],
            [
             "gemini",
             25880,
             "KOTA CIREBON"
            ],
            [
             "gemini",
             190089,
             "CIANJUR"
            ],
            [
             "gemini",
             157907,
             "KOTA BANDUNG"
            ],
            [
             "gemini",
             179850,
             "KARAWANG"
            ]
           ],
           "hovertemplate": "tahun_lahir=1992<br>cumulative_value=%{customdata[1]}<br>lat=%{lat}<br>long=%{lon}<br>signs=%{customdata[0]}<br>kab_kota=%{customdata[2]}<extra></extra>",
           "lat": [
            -7.0619754345248085,
            -7.268378056249979,
            -6.383496996638174,
            -6.379720414654616,
            -6.936765700872271,
            -7.30638836261014,
            -7.338933589300536,
            -6.255207083225145,
            -6.6329217663006546,
            -6.886467361450196,
            -6.592887079014497,
            -6.579142215298049,
            -6.274403231484549,
            -6.936611189986721,
            -6.480949860895454,
            -7.346940849138343,
            -6.393166663154723,
            -6.833096220708732,
            -7.570962318649283,
            -6.756968888223015,
            -6.729928146709096,
            -6.964360163286933,
            -6.921184978737736,
            -6.262359392767224
           ],
           "legendgroup": "",
           "lon": [
            107.58953564768917,
            107.7521565245115,
            107.59779987191338,
            108.209041696153,
            108.48644011759332,
            108.36989467852787,
            108.50381181054689,
            107.24457348666594,
            108.4595702784968,
            107.54447682698567,
            106.79751003489775,
            107.43030037073181,
            106.97349902561733,
            106.9264565670129,
            106.71270915879865,
            108.21931225320567,
            106.81258186461433,
            107.42084809790781,
            108.50046315234377,
            108.2380596008265,
            108.5573116649281,
            107.19391062360883,
            107.6294606695112,
            107.34518506941599
           ],
           "marker": {
            "color": "#636efa",
            "size": [
             248891,
             168529,
             105087,
             143100,
             96371,
             100469,
             14261,
             223003,
             182675,
             31836,
             64392,
             71864,
             142210,
             18982,
             446587,
             43057,
             109639,
             127275,
             41195,
             160196,
             25880,
             190089,
             157907,
             179850
            ],
            "sizemode": "area",
            "sizeref": 1118.5675
           },
           "mode": "markers",
           "name": "",
           "showlegend": false,
           "subplot": "mapbox",
           "type": "scattermapbox"
          }
         ],
         "name": "1992"
        },
        {
         "data": [
          {
           "customdata": [
            [
             "gemini",
             168741,
             "GARUT"
            ],
            [
             "gemini",
             25917,
             "KOTA CIREBON"
            ],
            [
             "gemini",
             446983,
             "BOGOR"
            ],
            [
             "gemini",
             31848,
             "KOTA CIMAHI"
            ],
            [
             "gemini",
             143197,
             "INDRAMAYU"
            ],
            [
             "gemini",
             43081,
             "KOTA TASIKMALAYA"
            ],
            [
             "gemini",
             158079,
             "KOTA BANDUNG"
            ],
            [
             "gemini",
             249057,
             "BANDUNG"
            ],
            [
             "gemini",
             64435,
             "KOTA BOGOR"
            ],
            [
             "gemini",
             142316,
             "KOTA BEKASI"
            ],
            [
             "gemini",
             179956,
             "KARAWANG"
            ],
            [
             "gemini",
             14280,
             "KOTA BANJAR"
            ],
            [
             "gemini",
             41271,
             "PANGANDARAN"
            ],
            [
             "gemini",
             190291,
             "CIANJUR"
            ],
            [
             "gemini",
             109704,
             "KOTA DEPOK"
            ],
            [
             "gemini",
             71926,
             "PURWAKARTA"
            ],
            [
             "gemini",
             18994,
             "KOTA SUKABUMI"
            ],
            [
             "gemini",
             223191,
             "BEKASI"
            ],
            [
             "gemini",
             160531,
             "MAJALENGKA"
            ],
            [
             "gemini",
             100627,
             "CIAMIS"
            ],
            [
             "gemini",
             127395,
             "BANDUNG BARAT"
            ],
            [
             "gemini",
             96549,
             "KUNINGAN"
            ],
            [
             "gemini",
             105172,
             "SUBANG"
            ],
            [
             "gemini",
             182816,
             "CIREBON"
            ]
           ],
           "hovertemplate": "tahun_lahir=1993<br>cumulative_value=%{customdata[1]}<br>lat=%{lat}<br>long=%{lon}<br>signs=%{customdata[0]}<br>kab_kota=%{customdata[2]}<extra></extra>",
           "lat": [
            -7.268378056249979,
            -6.729928146709096,
            -6.480949860895454,
            -6.886467361450196,
            -6.379720414654616,
            -7.346940849138343,
            -6.921184978737736,
            -7.0619754345248085,
            -6.592887079014497,
            -6.274403231484549,
            -6.262359392767224,
            -7.338933589300536,
            -7.570962318649283,
            -6.964360163286933,
            -6.393166663154723,
            -6.579142215298049,
            -6.936611189986721,
            -6.255207083225145,
            -6.756968888223015,
            -7.30638836261014,
            -6.833096220708732,
            -6.936765700872271,
            -6.383496996638174,
            -6.6329217663006546
           ],
           "legendgroup": "",
           "lon": [
            107.7521565245115,
            108.5573116649281,
            106.71270915879865,
            107.54447682698567,
            108.209041696153,
            108.21931225320567,
            107.6294606695112,
            107.58953564768917,
            106.79751003489775,
            106.97349902561733,
            107.34518506941599,
            108.50381181054689,
            108.50046315234377,
            107.19391062360883,
            106.81258186461433,
            107.43030037073181,
            106.9264565670129,
            107.24457348666594,
            108.2380596008265,
            108.36989467852787,
            107.42084809790781,
            108.48644011759332,
            107.59779987191338,
            108.4595702784968
           ],
           "marker": {
            "color": "#636efa",
            "size": [
             168741,
             25917,
             446983,
             31848,
             143197,
             43081,
             158079,
             249057,
             64435,
             142316,
             179956,
             14280,
             41271,
             190291,
             109704,
             71926,
             18994,
             223191,
             160531,
             100627,
             127395,
             96549,
             105172,
             182816
            ],
            "sizemode": "area",
            "sizeref": 1118.5675
           },
           "mode": "markers",
           "name": "",
           "showlegend": false,
           "subplot": "mapbox",
           "type": "scattermapbox"
          }
         ],
         "name": "1993"
        },
        {
         "data": [
          {
           "customdata": [
            [
             "gemini",
             190319,
             "CIANJUR"
            ],
            [
             "gemini",
             18999,
             "KOTA SUKABUMI"
            ],
            [
             "gemini",
             158144,
             "KOTA BANDUNG"
            ],
            [
             "gemini",
             105204,
             "SUBANG"
            ],
            [
             "gemini",
             109721,
             "KOTA DEPOK"
            ],
            [
             "gemini",
             223225,
             "BEKASI"
            ],
            [
             "gemini",
             25931,
             "KOTA CIREBON"
            ],
            [
             "gemini",
             43091,
             "KOTA TASIKMALAYA"
            ],
            [
             "gemini",
             179988,
             "KARAWANG"
            ],
            [
             "gemini",
             64451,
             "KOTA BOGOR"
            ],
            [
             "gemini",
             41281,
             "PANGANDARAN"
            ],
            [
             "gemini",
             249099,
             "BANDUNG"
            ],
            [
             "gemini",
             14284,
             "KOTA BANJAR"
            ],
            [
             "gemini",
             96596,
             "KUNINGAN"
            ],
            [
             "gemini",
             447054,
             "BOGOR"
            ],
            [
             "gemini",
             142342,
             "KOTA BEKASI"
            ],
            [
             "gemini",
             71943,
             "PURWAKARTA"
            ],
            [
             "gemini",
             100663,
             "CIAMIS"
            ],
            [
             "gemini",
             143220,
             "INDRAMAYU"
            ],
            [
             "gemini",
             31856,
             "KOTA CIMAHI"
            ],
            [
             "gemini",
             127420,
             "BANDUNG BARAT"
            ],
            [
             "gemini",
             160632,
             "MAJALENGKA"
            ],
            [
             "gemini",
             182846,
             "CIREBON"
            ],
            [
             "gemini",
             168787,
             "GARUT"
            ]
           ],
           "hovertemplate": "tahun_lahir=1994<br>cumulative_value=%{customdata[1]}<br>lat=%{lat}<br>long=%{lon}<br>signs=%{customdata[0]}<br>kab_kota=%{customdata[2]}<extra></extra>",
           "lat": [
            -6.964360163286933,
            -6.936611189986721,
            -6.921184978737736,
            -6.383496996638174,
            -6.393166663154723,
            -6.255207083225145,
            -6.729928146709096,
            -7.346940849138343,
            -6.262359392767224,
            -6.592887079014497,
            -7.570962318649283,
            -7.0619754345248085,
            -7.338933589300536,
            -6.936765700872271,
            -6.480949860895454,
            -6.274403231484549,
            -6.579142215298049,
            -7.30638836261014,
            -6.379720414654616,
            -6.886467361450196,
            -6.833096220708732,
            -6.756968888223015,
            -6.6329217663006546,
            -7.268378056249979
           ],
           "legendgroup": "",
           "lon": [
            107.19391062360883,
            106.9264565670129,
            107.6294606695112,
            107.59779987191338,
            106.81258186461433,
            107.24457348666594,
            108.5573116649281,
            108.21931225320567,
            107.34518506941599,
            106.79751003489775,
            108.50046315234377,
            107.58953564768917,
            108.50381181054689,
            108.48644011759332,
            106.71270915879865,
            106.97349902561733,
            107.43030037073181,
            108.36989467852787,
            108.209041696153,
            107.54447682698567,
            107.42084809790781,
            108.2380596008265,
            108.4595702784968,
            107.7521565245115
           ],
           "marker": {
            "color": "#636efa",
            "size": [
             190319,
             18999,
             158144,
             105204,
             109721,
             223225,
             25931,
             43091,
             179988,
             64451,
             41281,
             249099,
             14284,
             96596,
             447054,
             142342,
             71943,
             100663,
             143220,
             31856,
             127420,
             160632,
             182846,
             168787
            ],
            "sizemode": "area",
            "sizeref": 1118.5675
           },
           "mode": "markers",
           "name": "",
           "showlegend": false,
           "subplot": "mapbox",
           "type": "scattermapbox"
          }
         ],
         "name": "1994"
        },
        {
         "data": [
          {
           "customdata": [
            [
             "gemini",
             31857,
             "KOTA CIMAHI"
            ],
            [
             "gemini",
             223277,
             "BEKASI"
            ],
            [
             "gemini",
             41304,
             "PANGANDARAN"
            ],
            [
             "gemini",
             25943,
             "KOTA CIREBON"
            ],
            [
             "gemini",
             100697,
             "CIAMIS"
            ],
            [
             "gemini",
             190369,
             "CIANJUR"
            ],
            [
             "gemini",
             160722,
             "MAJALENGKA"
            ],
            [
             "gemini",
             127459,
             "BANDUNG BARAT"
            ],
            [
             "gemini",
             71955,
             "PURWAKARTA"
            ],
            [
             "gemini",
             109743,
             "KOTA DEPOK"
            ],
            [
             "gemini",
             143239,
             "INDRAMAYU"
            ],
            [
             "gemini",
             168834,
             "GARUT"
            ],
            [
             "gemini",
             105224,
             "SUBANG"
            ],
            [
             "gemini",
             19003,
             "KOTA SUKABUMI"
            ],
            [
             "gemini",
             14286,
             "KOTA BANJAR"
            ],
            [
             "gemini",
             447141,
             "BOGOR"
            ],
            [
             "gemini",
             249153,
             "BANDUNG"
            ],
            [
             "gemini",
             180016,
             "KARAWANG"
            ],
            [
             "gemini",
             96658,
             "KUNINGAN"
            ],
            [
             "gemini",
             142369,
             "KOTA BEKASI"
            ],
            [
             "gemini",
             43101,
             "KOTA TASIKMALAYA"
            ],
            [
             "gemini",
             182885,
             "CIREBON"
            ],
            [
             "gemini",
             64462,
             "KOTA BOGOR"
            ],
            [
             "gemini",
             158211,
             "KOTA BANDUNG"
            ]
           ],
           "hovertemplate": "tahun_lahir=1995<br>cumulative_value=%{customdata[1]}<br>lat=%{lat}<br>long=%{lon}<br>signs=%{customdata[0]}<br>kab_kota=%{customdata[2]}<extra></extra>",
           "lat": [
            -6.886467361450196,
            -6.255207083225145,
            -7.570962318649283,
            -6.729928146709096,
            -7.30638836261014,
            -6.964360163286933,
            -6.756968888223015,
            -6.833096220708732,
            -6.579142215298049,
            -6.393166663154723,
            -6.379720414654616,
            -7.268378056249979,
            -6.383496996638174,
            -6.936611189986721,
            -7.338933589300536,
            -6.480949860895454,
            -7.0619754345248085,
            -6.262359392767224,
            -6.936765700872271,
            -6.274403231484549,
            -7.346940849138343,
            -6.6329217663006546,
            -6.592887079014497,
            -6.921184978737736
           ],
           "legendgroup": "",
           "lon": [
            107.54447682698567,
            107.24457348666594,
            108.50046315234377,
            108.5573116649281,
            108.36989467852787,
            107.19391062360883,
            108.2380596008265,
            107.42084809790781,
            107.43030037073181,
            106.81258186461433,
            108.209041696153,
            107.7521565245115,
            107.59779987191338,
            106.9264565670129,
            108.50381181054689,
            106.71270915879865,
            107.58953564768917,
            107.34518506941599,
            108.48644011759332,
            106.97349902561733,
            108.21931225320567,
            108.4595702784968,
            106.79751003489775,
            107.6294606695112
           ],
           "marker": {
            "color": "#636efa",
            "size": [
             31857,
             223277,
             41304,
             25943,
             100697,
             190369,
             160722,
             127459,
             71955,
             109743,
             143239,
             168834,
             105224,
             19003,
             14286,
             447141,
             249153,
             180016,
             96658,
             142369,
             43101,
             182885,
             64462,
             158211
            ],
            "sizemode": "area",
            "sizeref": 1118.5675
           },
           "mode": "markers",
           "name": "",
           "showlegend": false,
           "subplot": "mapbox",
           "type": "scattermapbox"
          }
         ],
         "name": "1995"
        },
        {
         "data": [
          {
           "customdata": [
            [
             "gemini",
             180037,
             "KARAWANG"
            ],
            [
             "gemini",
             168859,
             "GARUT"
            ],
            [
             "gemini",
             143251,
             "INDRAMAYU"
            ],
            [
             "gemini",
             127484,
             "BANDUNG BARAT"
            ],
            [
             "gemini",
             96684,
             "KUNINGAN"
            ],
            [
             "gemini",
             14290,
             "KOTA BANJAR"
            ],
            [
             "gemini",
             43111,
             "KOTA TASIKMALAYA"
            ],
            [
             "gemini",
             142390,
             "KOTA BEKASI"
            ],
            [
             "gemini",
             182912,
             "CIREBON"
            ],
            [
             "gemini",
             31863,
             "KOTA CIMAHI"
            ],
            [
             "gemini",
             160796,
             "MAJALENGKA"
            ],
            [
             "gemini",
             100732,
             "CIAMIS"
            ],
            [
             "gemini",
             105229,
             "SUBANG"
            ],
            [
             "gemini",
             64478,
             "KOTA BOGOR"
            ],
            [
             "gemini",
             25949,
             "KOTA CIREBON"
            ],
            [
             "gemini",
             158275,
             "KOTA BANDUNG"
            ],
            [
             "gemini",
             71962,
             "PURWAKARTA"
            ],
            [
             "gemini",
             447205,
             "BOGOR"
            ],
            [
             "gemini",
             223309,
             "BEKASI"
            ],
            [
             "gemini",
             190392,
             "CIANJUR"
            ],
            [
             "gemini",
             249197,
             "BANDUNG"
            ],
            [
             "gemini",
             41317,
             "PANGANDARAN"
            ],
            [
             "gemini",
             109762,
             "KOTA DEPOK"
            ]
           ],
           "hovertemplate": "tahun_lahir=1996<br>cumulative_value=%{customdata[1]}<br>lat=%{lat}<br>long=%{lon}<br>signs=%{customdata[0]}<br>kab_kota=%{customdata[2]}<extra></extra>",
           "lat": [
            -6.262359392767224,
            -7.268378056249979,
            -6.379720414654616,
            -6.833096220708732,
            -6.936765700872271,
            -7.338933589300536,
            -7.346940849138343,
            -6.274403231484549,
            -6.6329217663006546,
            -6.886467361450196,
            -6.756968888223015,
            -7.30638836261014,
            -6.383496996638174,
            -6.592887079014497,
            -6.729928146709096,
            -6.921184978737736,
            -6.579142215298049,
            -6.480949860895454,
            -6.255207083225145,
            -6.964360163286933,
            -7.0619754345248085,
            -7.570962318649283,
            -6.393166663154723
           ],
           "legendgroup": "",
           "lon": [
            107.34518506941599,
            107.7521565245115,
            108.209041696153,
            107.42084809790781,
            108.48644011759332,
            108.50381181054689,
            108.21931225320567,
            106.97349902561733,
            108.4595702784968,
            107.54447682698567,
            108.2380596008265,
            108.36989467852787,
            107.59779987191338,
            106.79751003489775,
            108.5573116649281,
            107.6294606695112,
            107.43030037073181,
            106.71270915879865,
            107.24457348666594,
            107.19391062360883,
            107.58953564768917,
            108.50046315234377,
            106.81258186461433
           ],
           "marker": {
            "color": "#636efa",
            "size": [
             180037,
             168859,
             143251,
             127484,
             96684,
             14290,
             43111,
             142390,
             182912,
             31863,
             160796,
             100732,
             105229,
             64478,
             25949,
             158275,
             71962,
             447205,
             223309,
             190392,
             249197,
             41317,
             109762
            ],
            "sizemode": "area",
            "sizeref": 1118.5675
           },
           "mode": "markers",
           "name": "",
           "showlegend": false,
           "subplot": "mapbox",
           "type": "scattermapbox"
          }
         ],
         "name": "1996"
        },
        {
         "data": [
          {
           "customdata": [
            [
             "gemini",
             96715,
             "KUNINGAN"
            ],
            [
             "gemini",
             105242,
             "SUBANG"
            ],
            [
             "gemini",
             64484,
             "KOTA BOGOR"
            ],
            [
             "gemini",
             249218,
             "BANDUNG"
            ],
            [
             "gemini",
             19005,
             "KOTA SUKABUMI"
            ],
            [
             "gemini",
             14291,
             "KOTA BANJAR"
            ],
            [
             "gemini",
             127507,
             "BANDUNG BARAT"
            ],
            [
             "gemini",
             158314,
             "KOTA BANDUNG"
            ],
            [
             "gemini",
             100745,
             "CIAMIS"
            ],
            [
             "gemini",
             180045,
             "KARAWANG"
            ],
            [
             "gemini",
             31870,
             "KOTA CIMAHI"
            ],
            [
             "gemini",
             71977,
             "PURWAKARTA"
            ],
            [
             "gemini",
             43114,
             "KOTA TASIKMALAYA"
            ],
            [
             "gemini",
             109778,
             "KOTA DEPOK"
            ],
            [
             "gemini",
             41321,
             "PANGANDARAN"
            ],
            [
             "gemini",
             143262,
             "INDRAMAYU"
            ],
            [
             "gemini",
             447266,
             "BOGOR"
            ],
            [
             "gemini",
             182927,
             "CIREBON"
            ],
            [
             "gemini",
             190406,
             "CIANJUR"
            ],
            [
             "gemini",
             223336,
             "BEKASI"
            ],
            [
             "gemini",
             160837,
             "MAJALENGKA"
            ],
            [
             "gemini",
             168889,
             "GARUT"
            ],
            [
             "gemini",
             25953,
             "KOTA CIREBON"
            ],
            [
             "gemini",
             142398,
             "KOTA BEKASI"
            ]
           ],
           "hovertemplate": "tahun_lahir=1997<br>cumulative_value=%{customdata[1]}<br>lat=%{lat}<br>long=%{lon}<br>signs=%{customdata[0]}<br>kab_kota=%{customdata[2]}<extra></extra>",
           "lat": [
            -6.936765700872271,
            -6.383496996638174,
            -6.592887079014497,
            -7.0619754345248085,
            -6.936611189986721,
            -7.338933589300536,
            -6.833096220708732,
            -6.921184978737736,
            -7.30638836261014,
            -6.262359392767224,
            -6.886467361450196,
            -6.579142215298049,
            -7.346940849138343,
            -6.393166663154723,
            -7.570962318649283,
            -6.379720414654616,
            -6.480949860895454,
            -6.6329217663006546,
            -6.964360163286933,
            -6.255207083225145,
            -6.756968888223015,
            -7.268378056249979,
            -6.729928146709096,
            -6.274403231484549
           ],
           "legendgroup": "",
           "lon": [
            108.48644011759332,
            107.59779987191338,
            106.79751003489775,
            107.58953564768917,
            106.9264565670129,
            108.50381181054689,
            107.42084809790781,
            107.6294606695112,
            108.36989467852787,
            107.34518506941599,
            107.54447682698567,
            107.43030037073181,
            108.21931225320567,
            106.81258186461433,
            108.50046315234377,
            108.209041696153,
            106.71270915879865,
            108.4595702784968,
            107.19391062360883,
            107.24457348666594,
            108.2380596008265,
            107.7521565245115,
            108.5573116649281,
            106.97349902561733
           ],
           "marker": {
            "color": "#636efa",
            "size": [
             96715,
             105242,
             64484,
             249218,
             19005,
             14291,
             127507,
             158314,
             100745,
             180045,
             31870,
             71977,
             43114,
             109778,
             41321,
             143262,
             447266,
             182927,
             190406,
             223336,
             160837,
             168889,
             25953,
             142398
            ],
            "sizemode": "area",
            "sizeref": 1118.5675
           },
           "mode": "markers",
           "name": "",
           "showlegend": false,
           "subplot": "mapbox",
           "type": "scattermapbox"
          }
         ],
         "name": "1997"
        },
        {
         "data": [
          {
           "customdata": [
            [
             "gemini",
             72002,
             "PURWAKARTA"
            ],
            [
             "gemini",
             160880,
             "MAJALENGKA"
            ],
            [
             "gemini",
             182946,
             "CIREBON"
            ],
            [
             "gemini",
             31871,
             "KOTA CIMAHI"
            ],
            [
             "gemini",
             447356,
             "BOGOR"
            ],
            [
             "gemini",
             64494,
             "KOTA BOGOR"
            ],
            [
             "gemini",
             158353,
             "KOTA BANDUNG"
            ],
            [
             "gemini",
             41329,
             "PANGANDARAN"
            ],
            [
             "gemini",
             96739,
             "KUNINGAN"
            ],
            [
             "gemini",
             190439,
             "CIANJUR"
            ],
            [
             "gemini",
             100774,
             "CIAMIS"
            ],
            [
             "gemini",
             249269,
             "BANDUNG"
            ],
            [
             "gemini",
             168927,
             "GARUT"
            ],
            [
             "gemini",
             25957,
             "KOTA CIREBON"
            ],
            [
             "gemini",
             143278,
             "INDRAMAYU"
            ],
            [
             "gemini",
             43115,
             "KOTA TASIKMALAYA"
            ],
            [
             "gemini",
             180065,
             "KARAWANG"
            ],
            [
             "gemini",
             105255,
             "SUBANG"
            ],
            [
             "gemini",
             109790,
             "KOTA DEPOK"
            ],
            [
             "gemini",
             14301,
             "KOTA BANJAR"
            ],
            [
             "gemini",
             142412,
             "KOTA BEKASI"
            ],
            [
             "gemini",
             223365,
             "BEKASI"
            ],
            [
             "gemini",
             127541,
             "BANDUNG BARAT"
            ],
            [
             "gemini",
             19006,
             "KOTA SUKABUMI"
            ]
           ],
           "hovertemplate": "tahun_lahir=1998<br>cumulative_value=%{customdata[1]}<br>lat=%{lat}<br>long=%{lon}<br>signs=%{customdata[0]}<br>kab_kota=%{customdata[2]}<extra></extra>",
           "lat": [
            -6.579142215298049,
            -6.756968888223015,
            -6.6329217663006546,
            -6.886467361450196,
            -6.480949860895454,
            -6.592887079014497,
            -6.921184978737736,
            -7.570962318649283,
            -6.936765700872271,
            -6.964360163286933,
            -7.30638836261014,
            -7.0619754345248085,
            -7.268378056249979,
            -6.729928146709096,
            -6.379720414654616,
            -7.346940849138343,
            -6.262359392767224,
            -6.383496996638174,
            -6.393166663154723,
            -7.338933589300536,
            -6.274403231484549,
            -6.255207083225145,
            -6.833096220708732,
            -6.936611189986721
           ],
           "legendgroup": "",
           "lon": [
            107.43030037073181,
            108.2380596008265,
            108.4595702784968,
            107.54447682698567,
            106.71270915879865,
            106.79751003489775,
            107.6294606695112,
            108.50046315234377,
            108.48644011759332,
            107.19391062360883,
            108.36989467852787,
            107.58953564768917,
            107.7521565245115,
            108.5573116649281,
            108.209041696153,
            108.21931225320567,
            107.34518506941599,
            107.59779987191338,
            106.81258186461433,
            108.50381181054689,
            106.97349902561733,
            107.24457348666594,
            107.42084809790781,
            106.9264565670129
           ],
           "marker": {
            "color": "#636efa",
            "size": [
             72002,
             160880,
             182946,
             31871,
             447356,
             64494,
             158353,
             41329,
             96739,
             190439,
             100774,
             249269,
             168927,
             25957,
             143278,
             43115,
             180065,
             105255,
             109790,
             14301,
             142412,
             223365,
             127541,
             19006
            ],
            "sizemode": "area",
            "sizeref": 1118.5675
           },
           "mode": "markers",
           "name": "",
           "showlegend": false,
           "subplot": "mapbox",
           "type": "scattermapbox"
          }
         ],
         "name": "1998"
        },
        {
         "data": [
          {
           "customdata": [
            [
             "gemini",
             105260,
             "SUBANG"
            ],
            [
             "gemini",
             96752,
             "KUNINGAN"
            ],
            [
             "gemini",
             223382,
             "BEKASI"
            ],
            [
             "gemini",
             127549,
             "BANDUNG BARAT"
            ],
            [
             "gemini",
             160888,
             "MAJALENGKA"
            ],
            [
             "gemini",
             249286,
             "BANDUNG"
            ],
            [
             "gemini",
             72006,
             "PURWAKARTA"
            ],
            [
             "gemini",
             31873,
             "KOTA CIMAHI"
            ],
            [
             "gemini",
             25962,
             "KOTA CIREBON"
            ],
            [
             "gemini",
             142425,
             "KOTA BEKASI"
            ],
            [
             "gemini",
             14306,
             "KOTA BANJAR"
            ],
            [
             "gemini",
             180076,
             "KARAWANG"
            ],
            [
             "gemini",
             143285,
             "INDRAMAYU"
            ],
            [
             "gemini",
             168943,
             "GARUT"
            ],
            [
             "gemini",
             100789,
             "CIAMIS"
            ],
            [
             "gemini",
             190449,
             "CIANJUR"
            ],
            [
             "gemini",
             41335,
             "PANGANDARAN"
            ],
            [
             "gemini",
             43118,
             "KOTA TASIKMALAYA"
            ],
            [
             "gemini",
             109798,
             "KOTA DEPOK"
            ],
            [
             "gemini",
             64497,
             "KOTA BOGOR"
            ],
            [
             "gemini",
             182954,
             "CIREBON"
            ],
            [
             "gemini",
             158377,
             "KOTA BANDUNG"
            ],
            [
             "gemini",
             447390,
             "BOGOR"
            ]
           ],
           "hovertemplate": "tahun_lahir=1999<br>cumulative_value=%{customdata[1]}<br>lat=%{lat}<br>long=%{lon}<br>signs=%{customdata[0]}<br>kab_kota=%{customdata[2]}<extra></extra>",
           "lat": [
            -6.383496996638174,
            -6.936765700872271,
            -6.255207083225145,
            -6.833096220708732,
            -6.756968888223015,
            -7.0619754345248085,
            -6.579142215298049,
            -6.886467361450196,
            -6.729928146709096,
            -6.274403231484549,
            -7.338933589300536,
            -6.262359392767224,
            -6.379720414654616,
            -7.268378056249979,
            -7.30638836261014,
            -6.964360163286933,
            -7.570962318649283,
            -7.346940849138343,
            -6.393166663154723,
            -6.592887079014497,
            -6.6329217663006546,
            -6.921184978737736,
            -6.480949860895454
           ],
           "legendgroup": "",
           "lon": [
            107.59779987191338,
            108.48644011759332,
            107.24457348666594,
            107.42084809790781,
            108.2380596008265,
            107.58953564768917,
            107.43030037073181,
            107.54447682698567,
            108.5573116649281,
            106.97349902561733,
            108.50381181054689,
            107.34518506941599,
            108.209041696153,
            107.7521565245115,
            108.36989467852787,
            107.19391062360883,
            108.50046315234377,
            108.21931225320567,
            106.81258186461433,
            106.79751003489775,
            108.4595702784968,
            107.6294606695112,
            106.71270915879865
           ],
           "marker": {
            "color": "#636efa",
            "size": [
             105260,
             96752,
             223382,
             127549,
             160888,
             249286,
             72006,
             31873,
             25962,
             142425,
             14306,
             180076,
             143285,
             168943,
             100789,
             190449,
             41335,
             43118,
             109798,
             64497,
             182954,
             158377,
             447390
            ],
            "sizemode": "area",
            "sizeref": 1118.5675
           },
           "mode": "markers",
           "name": "",
           "showlegend": false,
           "subplot": "mapbox",
           "type": "scattermapbox"
          }
         ],
         "name": "1999"
        },
        {
         "data": [
          {
           "customdata": [
            [
             "gemini",
             168953,
             "GARUT"
            ],
            [
             "gemini",
             143292,
             "INDRAMAYU"
            ],
            [
             "gemini",
             96771,
             "KUNINGAN"
            ],
            [
             "gemini",
             160904,
             "MAJALENGKA"
            ],
            [
             "gemini",
             180086,
             "KARAWANG"
            ],
            [
             "gemini",
             158390,
             "KOTA BANDUNG"
            ],
            [
             "gemini",
             72010,
             "PURWAKARTA"
            ],
            [
             "gemini",
             182969,
             "CIREBON"
            ],
            [
             "gemini",
             14308,
             "KOTA BANJAR"
            ],
            [
             "gemini",
             142438,
             "KOTA BEKASI"
            ],
            [
             "gemini",
             190462,
             "CIANJUR"
            ],
            [
             "gemini",
             223415,
             "BEKASI"
            ],
            [
             "gemini",
             127561,
             "BANDUNG BARAT"
            ],
            [
             "gemini",
             249314,
             "BANDUNG"
            ],
            [
             "gemini",
             447427,
             "BOGOR"
            ],
            [
             "gemini",
             100799,
             "CIAMIS"
            ],
            [
             "gemini",
             105269,
             "SUBANG"
            ],
            [
             "gemini",
             25968,
             "KOTA CIREBON"
            ],
            [
             "gemini",
             43120,
             "KOTA TASIKMALAYA"
            ],
            [
             "gemini",
             41339,
             "PANGANDARAN"
            ],
            [
             "gemini",
             109805,
             "KOTA DEPOK"
            ],
            [
             "gemini",
             19008,
             "KOTA SUKABUMI"
            ],
            [
             "gemini",
             64499,
             "KOTA BOGOR"
            ]
           ],
           "hovertemplate": "tahun_lahir=2000<br>cumulative_value=%{customdata[1]}<br>lat=%{lat}<br>long=%{lon}<br>signs=%{customdata[0]}<br>kab_kota=%{customdata[2]}<extra></extra>",
           "lat": [
            -7.268378056249979,
            -6.379720414654616,
            -6.936765700872271,
            -6.756968888223015,
            -6.262359392767224,
            -6.921184978737736,
            -6.579142215298049,
            -6.6329217663006546,
            -7.338933589300536,
            -6.274403231484549,
            -6.964360163286933,
            -6.255207083225145,
            -6.833096220708732,
            -7.0619754345248085,
            -6.480949860895454,
            -7.30638836261014,
            -6.383496996638174,
            -6.729928146709096,
            -7.346940849138343,
            -7.570962318649283,
            -6.393166663154723,
            -6.936611189986721,
            -6.592887079014497
           ],
           "legendgroup": "",
           "lon": [
            107.7521565245115,
            108.209041696153,
            108.48644011759332,
            108.2380596008265,
            107.34518506941599,
            107.6294606695112,
            107.43030037073181,
            108.4595702784968,
            108.50381181054689,
            106.97349902561733,
            107.19391062360883,
            107.24457348666594,
            107.42084809790781,
            107.58953564768917,
            106.71270915879865,
            108.36989467852787,
            107.59779987191338,
            108.5573116649281,
            108.21931225320567,
            108.50046315234377,
            106.81258186461433,
            106.9264565670129,
            106.79751003489775
           ],
           "marker": {
            "color": "#636efa",
            "size": [
             168953,
             143292,
             96771,
             160904,
             180086,
             158390,
             72010,
             182969,
             14308,
             142438,
             190462,
             223415,
             127561,
             249314,
             447427,
             100799,
             105269,
             25968,
             43120,
             41339,
             109805,
             19008,
             64499
            ],
            "sizemode": "area",
            "sizeref": 1118.5675
           },
           "mode": "markers",
           "name": "",
           "showlegend": false,
           "subplot": "mapbox",
           "type": "scattermapbox"
          }
         ],
         "name": "2000"
        }
       ],
       "layout": {
        "legend": {
         "itemsizing": "constant",
         "tracegroupgap": 0
        },
        "mapbox": {
         "center": {
          "lat": -6.79534847668152,
          "lon": 107.6890247209549
         },
         "domain": {
          "x": [
           0,
           1
          ],
          "y": [
           0,
           1
          ]
         },
         "style": "open-street-map",
         "zoom": 7
        },
        "margin": {
         "b": 0,
         "l": 0,
         "r": 15,
         "t": 50
        },
        "sliders": [
         {
          "active": 0,
          "currentvalue": {
           "prefix": "tahun_lahir="
          },
          "len": 0.9,
          "pad": {
           "b": 10,
           "t": 60
          },
          "steps": [
           {
            "args": [
             [
              "1924"
             ],
             {
              "frame": {
               "duration": 0,
               "redraw": true
              },
              "fromcurrent": true,
              "mode": "immediate",
              "transition": {
               "duration": 0,
               "easing": "linear"
              }
             }
            ],
            "label": "1924",
            "method": "animate"
           },
           {
            "args": [
             [
              "1925"
             ],
             {
              "frame": {
               "duration": 0,
               "redraw": true
              },
              "fromcurrent": true,
              "mode": "immediate",
              "transition": {
               "duration": 0,
               "easing": "linear"
              }
             }
            ],
            "label": "1925",
            "method": "animate"
           },
           {
            "args": [
             [
              "1926"
             ],
             {
              "frame": {
               "duration": 0,
               "redraw": true
              },
              "fromcurrent": true,
              "mode": "immediate",
              "transition": {
               "duration": 0,
               "easing": "linear"
              }
             }
            ],
            "label": "1926",
            "method": "animate"
           },
           {
            "args": [
             [
              "1927"
             ],
             {
              "frame": {
               "duration": 0,
               "redraw": true
              },
              "fromcurrent": true,
              "mode": "immediate",
              "transition": {
               "duration": 0,
               "easing": "linear"
              }
             }
            ],
            "label": "1927",
            "method": "animate"
           },
           {
            "args": [
             [
              "1928"
             ],
             {
              "frame": {
               "duration": 0,
               "redraw": true
              },
              "fromcurrent": true,
              "mode": "immediate",
              "transition": {
               "duration": 0,
               "easing": "linear"
              }
             }
            ],
            "label": "1928",
            "method": "animate"
           },
           {
            "args": [
             [
              "1929"
             ],
             {
              "frame": {
               "duration": 0,
               "redraw": true
              },
              "fromcurrent": true,
              "mode": "immediate",
              "transition": {
               "duration": 0,
               "easing": "linear"
              }
             }
            ],
            "label": "1929",
            "method": "animate"
           },
           {
            "args": [
             [
              "1930"
             ],
             {
              "frame": {
               "duration": 0,
               "redraw": true
              },
              "fromcurrent": true,
              "mode": "immediate",
              "transition": {
               "duration": 0,
               "easing": "linear"
              }
             }
            ],
            "label": "1930",
            "method": "animate"
           },
           {
            "args": [
             [
              "1931"
             ],
             {
              "frame": {
               "duration": 0,
               "redraw": true
              },
              "fromcurrent": true,
              "mode": "immediate",
              "transition": {
               "duration": 0,
               "easing": "linear"
              }
             }
            ],
            "label": "1931",
            "method": "animate"
           },
           {
            "args": [
             [
              "1932"
             ],
             {
              "frame": {
               "duration": 0,
               "redraw": true
              },
              "fromcurrent": true,
              "mode": "immediate",
              "transition": {
               "duration": 0,
               "easing": "linear"
              }
             }
            ],
            "label": "1932",
            "method": "animate"
           },
           {
            "args": [
             [
              "1933"
             ],
             {
              "frame": {
               "duration": 0,
               "redraw": true
              },
              "fromcurrent": true,
              "mode": "immediate",
              "transition": {
               "duration": 0,
               "easing": "linear"
              }
             }
            ],
            "label": "1933",
            "method": "animate"
           },
           {
            "args": [
             [
              "1934"
             ],
             {
              "frame": {
               "duration": 0,
               "redraw": true
              },
              "fromcurrent": true,
              "mode": "immediate",
              "transition": {
               "duration": 0,
               "easing": "linear"
              }
             }
            ],
            "label": "1934",
            "method": "animate"
           },
           {
            "args": [
             [
              "1935"
             ],
             {
              "frame": {
               "duration": 0,
               "redraw": true
              },
              "fromcurrent": true,
              "mode": "immediate",
              "transition": {
               "duration": 0,
               "easing": "linear"
              }
             }
            ],
            "label": "1935",
            "method": "animate"
           },
           {
            "args": [
             [
              "1936"
             ],
             {
              "frame": {
               "duration": 0,
               "redraw": true
              },
              "fromcurrent": true,
              "mode": "immediate",
              "transition": {
               "duration": 0,
               "easing": "linear"
              }
             }
            ],
            "label": "1936",
            "method": "animate"
           },
           {
            "args": [
             [
              "1937"
             ],
             {
              "frame": {
               "duration": 0,
               "redraw": true
              },
              "fromcurrent": true,
              "mode": "immediate",
              "transition": {
               "duration": 0,
               "easing": "linear"
              }
             }
            ],
            "label": "1937",
            "method": "animate"
           },
           {
            "args": [
             [
              "1938"
             ],
             {
              "frame": {
               "duration": 0,
               "redraw": true
              },
              "fromcurrent": true,
              "mode": "immediate",
              "transition": {
               "duration": 0,
               "easing": "linear"
              }
             }
            ],
            "label": "1938",
            "method": "animate"
           },
           {
            "args": [
             [
              "1939"
             ],
             {
              "frame": {
               "duration": 0,
               "redraw": true
              },
              "fromcurrent": true,
              "mode": "immediate",
              "transition": {
               "duration": 0,
               "easing": "linear"
              }
             }
            ],
            "label": "1939",
            "method": "animate"
           },
           {
            "args": [
             [
              "1940"
             ],
             {
              "frame": {
               "duration": 0,
               "redraw": true
              },
              "fromcurrent": true,
              "mode": "immediate",
              "transition": {
               "duration": 0,
               "easing": "linear"
              }
             }
            ],
            "label": "1940",
            "method": "animate"
           },
           {
            "args": [
             [
              "1941"
             ],
             {
              "frame": {
               "duration": 0,
               "redraw": true
              },
              "fromcurrent": true,
              "mode": "immediate",
              "transition": {
               "duration": 0,
               "easing": "linear"
              }
             }
            ],
            "label": "1941",
            "method": "animate"
           },
           {
            "args": [
             [
              "1942"
             ],
             {
              "frame": {
               "duration": 0,
               "redraw": true
              },
              "fromcurrent": true,
              "mode": "immediate",
              "transition": {
               "duration": 0,
               "easing": "linear"
              }
             }
            ],
            "label": "1942",
            "method": "animate"
           },
           {
            "args": [
             [
              "1943"
             ],
             {
              "frame": {
               "duration": 0,
               "redraw": true
              },
              "fromcurrent": true,
              "mode": "immediate",
              "transition": {
               "duration": 0,
               "easing": "linear"
              }
             }
            ],
            "label": "1943",
            "method": "animate"
           },
           {
            "args": [
             [
              "1944"
             ],
             {
              "frame": {
               "duration": 0,
               "redraw": true
              },
              "fromcurrent": true,
              "mode": "immediate",
              "transition": {
               "duration": 0,
               "easing": "linear"
              }
             }
            ],
            "label": "1944",
            "method": "animate"
           },
           {
            "args": [
             [
              "1945"
             ],
             {
              "frame": {
               "duration": 0,
               "redraw": true
              },
              "fromcurrent": true,
              "mode": "immediate",
              "transition": {
               "duration": 0,
               "easing": "linear"
              }
             }
            ],
            "label": "1945",
            "method": "animate"
           },
           {
            "args": [
             [
              "1946"
             ],
             {
              "frame": {
               "duration": 0,
               "redraw": true
              },
              "fromcurrent": true,
              "mode": "immediate",
              "transition": {
               "duration": 0,
               "easing": "linear"
              }
             }
            ],
            "label": "1946",
            "method": "animate"
           },
           {
            "args": [
             [
              "1947"
             ],
             {
              "frame": {
               "duration": 0,
               "redraw": true
              },
              "fromcurrent": true,
              "mode": "immediate",
              "transition": {
               "duration": 0,
               "easing": "linear"
              }
             }
            ],
            "label": "1947",
            "method": "animate"
           },
           {
            "args": [
             [
              "1948"
             ],
             {
              "frame": {
               "duration": 0,
               "redraw": true
              },
              "fromcurrent": true,
              "mode": "immediate",
              "transition": {
               "duration": 0,
               "easing": "linear"
              }
             }
            ],
            "label": "1948",
            "method": "animate"
           },
           {
            "args": [
             [
              "1949"
             ],
             {
              "frame": {
               "duration": 0,
               "redraw": true
              },
              "fromcurrent": true,
              "mode": "immediate",
              "transition": {
               "duration": 0,
               "easing": "linear"
              }
             }
            ],
            "label": "1949",
            "method": "animate"
           },
           {
            "args": [
             [
              "1950"
             ],
             {
              "frame": {
               "duration": 0,
               "redraw": true
              },
              "fromcurrent": true,
              "mode": "immediate",
              "transition": {
               "duration": 0,
               "easing": "linear"
              }
             }
            ],
            "label": "1950",
            "method": "animate"
           },
           {
            "args": [
             [
              "1951"
             ],
             {
              "frame": {
               "duration": 0,
               "redraw": true
              },
              "fromcurrent": true,
              "mode": "immediate",
              "transition": {
               "duration": 0,
               "easing": "linear"
              }
             }
            ],
            "label": "1951",
            "method": "animate"
           },
           {
            "args": [
             [
              "1952"
             ],
             {
              "frame": {
               "duration": 0,
               "redraw": true
              },
              "fromcurrent": true,
              "mode": "immediate",
              "transition": {
               "duration": 0,
               "easing": "linear"
              }
             }
            ],
            "label": "1952",
            "method": "animate"
           },
           {
            "args": [
             [
              "1953"
             ],
             {
              "frame": {
               "duration": 0,
               "redraw": true
              },
              "fromcurrent": true,
              "mode": "immediate",
              "transition": {
               "duration": 0,
               "easing": "linear"
              }
             }
            ],
            "label": "1953",
            "method": "animate"
           },
           {
            "args": [
             [
              "1954"
             ],
             {
              "frame": {
               "duration": 0,
               "redraw": true
              },
              "fromcurrent": true,
              "mode": "immediate",
              "transition": {
               "duration": 0,
               "easing": "linear"
              }
             }
            ],
            "label": "1954",
            "method": "animate"
           },
           {
            "args": [
             [
              "1955"
             ],
             {
              "frame": {
               "duration": 0,
               "redraw": true
              },
              "fromcurrent": true,
              "mode": "immediate",
              "transition": {
               "duration": 0,
               "easing": "linear"
              }
             }
            ],
            "label": "1955",
            "method": "animate"
           },
           {
            "args": [
             [
              "1956"
             ],
             {
              "frame": {
               "duration": 0,
               "redraw": true
              },
              "fromcurrent": true,
              "mode": "immediate",
              "transition": {
               "duration": 0,
               "easing": "linear"
              }
             }
            ],
            "label": "1956",
            "method": "animate"
           },
           {
            "args": [
             [
              "1957"
             ],
             {
              "frame": {
               "duration": 0,
               "redraw": true
              },
              "fromcurrent": true,
              "mode": "immediate",
              "transition": {
               "duration": 0,
               "easing": "linear"
              }
             }
            ],
            "label": "1957",
            "method": "animate"
           },
           {
            "args": [
             [
              "1958"
             ],
             {
              "frame": {
               "duration": 0,
               "redraw": true
              },
              "fromcurrent": true,
              "mode": "immediate",
              "transition": {
               "duration": 0,
               "easing": "linear"
              }
             }
            ],
            "label": "1958",
            "method": "animate"
           },
           {
            "args": [
             [
              "1959"
             ],
             {
              "frame": {
               "duration": 0,
               "redraw": true
              },
              "fromcurrent": true,
              "mode": "immediate",
              "transition": {
               "duration": 0,
               "easing": "linear"
              }
             }
            ],
            "label": "1959",
            "method": "animate"
           },
           {
            "args": [
             [
              "1960"
             ],
             {
              "frame": {
               "duration": 0,
               "redraw": true
              },
              "fromcurrent": true,
              "mode": "immediate",
              "transition": {
               "duration": 0,
               "easing": "linear"
              }
             }
            ],
            "label": "1960",
            "method": "animate"
           },
           {
            "args": [
             [
              "1961"
             ],
             {
              "frame": {
               "duration": 0,
               "redraw": true
              },
              "fromcurrent": true,
              "mode": "immediate",
              "transition": {
               "duration": 0,
               "easing": "linear"
              }
             }
            ],
            "label": "1961",
            "method": "animate"
           },
           {
            "args": [
             [
              "1962"
             ],
             {
              "frame": {
               "duration": 0,
               "redraw": true
              },
              "fromcurrent": true,
              "mode": "immediate",
              "transition": {
               "duration": 0,
               "easing": "linear"
              }
             }
            ],
            "label": "1962",
            "method": "animate"
           },
           {
            "args": [
             [
              "1963"
             ],
             {
              "frame": {
               "duration": 0,
               "redraw": true
              },
              "fromcurrent": true,
              "mode": "immediate",
              "transition": {
               "duration": 0,
               "easing": "linear"
              }
             }
            ],
            "label": "1963",
            "method": "animate"
           },
           {
            "args": [
             [
              "1964"
             ],
             {
              "frame": {
               "duration": 0,
               "redraw": true
              },
              "fromcurrent": true,
              "mode": "immediate",
              "transition": {
               "duration": 0,
               "easing": "linear"
              }
             }
            ],
            "label": "1964",
            "method": "animate"
           },
           {
            "args": [
             [
              "1965"
             ],
             {
              "frame": {
               "duration": 0,
               "redraw": true
              },
              "fromcurrent": true,
              "mode": "immediate",
              "transition": {
               "duration": 0,
               "easing": "linear"
              }
             }
            ],
            "label": "1965",
            "method": "animate"
           },
           {
            "args": [
             [
              "1966"
             ],
             {
              "frame": {
               "duration": 0,
               "redraw": true
              },
              "fromcurrent": true,
              "mode": "immediate",
              "transition": {
               "duration": 0,
               "easing": "linear"
              }
             }
            ],
            "label": "1966",
            "method": "animate"
           },
           {
            "args": [
             [
              "1967"
             ],
             {
              "frame": {
               "duration": 0,
               "redraw": true
              },
              "fromcurrent": true,
              "mode": "immediate",
              "transition": {
               "duration": 0,
               "easing": "linear"
              }
             }
            ],
            "label": "1967",
            "method": "animate"
           },
           {
            "args": [
             [
              "1968"
             ],
             {
              "frame": {
               "duration": 0,
               "redraw": true
              },
              "fromcurrent": true,
              "mode": "immediate",
              "transition": {
               "duration": 0,
               "easing": "linear"
              }
             }
            ],
            "label": "1968",
            "method": "animate"
           },
           {
            "args": [
             [
              "1969"
             ],
             {
              "frame": {
               "duration": 0,
               "redraw": true
              },
              "fromcurrent": true,
              "mode": "immediate",
              "transition": {
               "duration": 0,
               "easing": "linear"
              }
             }
            ],
            "label": "1969",
            "method": "animate"
           },
           {
            "args": [
             [
              "1970"
             ],
             {
              "frame": {
               "duration": 0,
               "redraw": true
              },
              "fromcurrent": true,
              "mode": "immediate",
              "transition": {
               "duration": 0,
               "easing": "linear"
              }
             }
            ],
            "label": "1970",
            "method": "animate"
           },
           {
            "args": [
             [
              "1971"
             ],
             {
              "frame": {
               "duration": 0,
               "redraw": true
              },
              "fromcurrent": true,
              "mode": "immediate",
              "transition": {
               "duration": 0,
               "easing": "linear"
              }
             }
            ],
            "label": "1971",
            "method": "animate"
           },
           {
            "args": [
             [
              "1972"
             ],
             {
              "frame": {
               "duration": 0,
               "redraw": true
              },
              "fromcurrent": true,
              "mode": "immediate",
              "transition": {
               "duration": 0,
               "easing": "linear"
              }
             }
            ],
            "label": "1972",
            "method": "animate"
           },
           {
            "args": [
             [
              "1973"
             ],
             {
              "frame": {
               "duration": 0,
               "redraw": true
              },
              "fromcurrent": true,
              "mode": "immediate",
              "transition": {
               "duration": 0,
               "easing": "linear"
              }
             }
            ],
            "label": "1973",
            "method": "animate"
           },
           {
            "args": [
             [
              "1974"
             ],
             {
              "frame": {
               "duration": 0,
               "redraw": true
              },
              "fromcurrent": true,
              "mode": "immediate",
              "transition": {
               "duration": 0,
               "easing": "linear"
              }
             }
            ],
            "label": "1974",
            "method": "animate"
           },
           {
            "args": [
             [
              "1975"
             ],
             {
              "frame": {
               "duration": 0,
               "redraw": true
              },
              "fromcurrent": true,
              "mode": "immediate",
              "transition": {
               "duration": 0,
               "easing": "linear"
              }
             }
            ],
            "label": "1975",
            "method": "animate"
           },
           {
            "args": [
             [
              "1976"
             ],
             {
              "frame": {
               "duration": 0,
               "redraw": true
              },
              "fromcurrent": true,
              "mode": "immediate",
              "transition": {
               "duration": 0,
               "easing": "linear"
              }
             }
            ],
            "label": "1976",
            "method": "animate"
           },
           {
            "args": [
             [
              "1977"
             ],
             {
              "frame": {
               "duration": 0,
               "redraw": true
              },
              "fromcurrent": true,
              "mode": "immediate",
              "transition": {
               "duration": 0,
               "easing": "linear"
              }
             }
            ],
            "label": "1977",
            "method": "animate"
           },
           {
            "args": [
             [
              "1978"
             ],
             {
              "frame": {
               "duration": 0,
               "redraw": true
              },
              "fromcurrent": true,
              "mode": "immediate",
              "transition": {
               "duration": 0,
               "easing": "linear"
              }
             }
            ],
            "label": "1978",
            "method": "animate"
           },
           {
            "args": [
             [
              "1979"
             ],
             {
              "frame": {
               "duration": 0,
               "redraw": true
              },
              "fromcurrent": true,
              "mode": "immediate",
              "transition": {
               "duration": 0,
               "easing": "linear"
              }
             }
            ],
            "label": "1979",
            "method": "animate"
           },
           {
            "args": [
             [
              "1980"
             ],
             {
              "frame": {
               "duration": 0,
               "redraw": true
              },
              "fromcurrent": true,
              "mode": "immediate",
              "transition": {
               "duration": 0,
               "easing": "linear"
              }
             }
            ],
            "label": "1980",
            "method": "animate"
           },
           {
            "args": [
             [
              "1981"
             ],
             {
              "frame": {
               "duration": 0,
               "redraw": true
              },
              "fromcurrent": true,
              "mode": "immediate",
              "transition": {
               "duration": 0,
               "easing": "linear"
              }
             }
            ],
            "label": "1981",
            "method": "animate"
           },
           {
            "args": [
             [
              "1982"
             ],
             {
              "frame": {
               "duration": 0,
               "redraw": true
              },
              "fromcurrent": true,
              "mode": "immediate",
              "transition": {
               "duration": 0,
               "easing": "linear"
              }
             }
            ],
            "label": "1982",
            "method": "animate"
           },
           {
            "args": [
             [
              "1983"
             ],
             {
              "frame": {
               "duration": 0,
               "redraw": true
              },
              "fromcurrent": true,
              "mode": "immediate",
              "transition": {
               "duration": 0,
               "easing": "linear"
              }
             }
            ],
            "label": "1983",
            "method": "animate"
           },
           {
            "args": [
             [
              "1984"
             ],
             {
              "frame": {
               "duration": 0,
               "redraw": true
              },
              "fromcurrent": true,
              "mode": "immediate",
              "transition": {
               "duration": 0,
               "easing": "linear"
              }
             }
            ],
            "label": "1984",
            "method": "animate"
           },
           {
            "args": [
             [
              "1985"
             ],
             {
              "frame": {
               "duration": 0,
               "redraw": true
              },
              "fromcurrent": true,
              "mode": "immediate",
              "transition": {
               "duration": 0,
               "easing": "linear"
              }
             }
            ],
            "label": "1985",
            "method": "animate"
           },
           {
            "args": [
             [
              "1986"
             ],
             {
              "frame": {
               "duration": 0,
               "redraw": true
              },
              "fromcurrent": true,
              "mode": "immediate",
              "transition": {
               "duration": 0,
               "easing": "linear"
              }
             }
            ],
            "label": "1986",
            "method": "animate"
           },
           {
            "args": [
             [
              "1987"
             ],
             {
              "frame": {
               "duration": 0,
               "redraw": true
              },
              "fromcurrent": true,
              "mode": "immediate",
              "transition": {
               "duration": 0,
               "easing": "linear"
              }
             }
            ],
            "label": "1987",
            "method": "animate"
           },
           {
            "args": [
             [
              "1988"
             ],
             {
              "frame": {
               "duration": 0,
               "redraw": true
              },
              "fromcurrent": true,
              "mode": "immediate",
              "transition": {
               "duration": 0,
               "easing": "linear"
              }
             }
            ],
            "label": "1988",
            "method": "animate"
           },
           {
            "args": [
             [
              "1989"
             ],
             {
              "frame": {
               "duration": 0,
               "redraw": true
              },
              "fromcurrent": true,
              "mode": "immediate",
              "transition": {
               "duration": 0,
               "easing": "linear"
              }
             }
            ],
            "label": "1989",
            "method": "animate"
           },
           {
            "args": [
             [
              "1990"
             ],
             {
              "frame": {
               "duration": 0,
               "redraw": true
              },
              "fromcurrent": true,
              "mode": "immediate",
              "transition": {
               "duration": 0,
               "easing": "linear"
              }
             }
            ],
            "label": "1990",
            "method": "animate"
           },
           {
            "args": [
             [
              "1991"
             ],
             {
              "frame": {
               "duration": 0,
               "redraw": true
              },
              "fromcurrent": true,
              "mode": "immediate",
              "transition": {
               "duration": 0,
               "easing": "linear"
              }
             }
            ],
            "label": "1991",
            "method": "animate"
           },
           {
            "args": [
             [
              "1992"
             ],
             {
              "frame": {
               "duration": 0,
               "redraw": true
              },
              "fromcurrent": true,
              "mode": "immediate",
              "transition": {
               "duration": 0,
               "easing": "linear"
              }
             }
            ],
            "label": "1992",
            "method": "animate"
           },
           {
            "args": [
             [
              "1993"
             ],
             {
              "frame": {
               "duration": 0,
               "redraw": true
              },
              "fromcurrent": true,
              "mode": "immediate",
              "transition": {
               "duration": 0,
               "easing": "linear"
              }
             }
            ],
            "label": "1993",
            "method": "animate"
           },
           {
            "args": [
             [
              "1994"
             ],
             {
              "frame": {
               "duration": 0,
               "redraw": true
              },
              "fromcurrent": true,
              "mode": "immediate",
              "transition": {
               "duration": 0,
               "easing": "linear"
              }
             }
            ],
            "label": "1994",
            "method": "animate"
           },
           {
            "args": [
             [
              "1995"
             ],
             {
              "frame": {
               "duration": 0,
               "redraw": true
              },
              "fromcurrent": true,
              "mode": "immediate",
              "transition": {
               "duration": 0,
               "easing": "linear"
              }
             }
            ],
            "label": "1995",
            "method": "animate"
           },
           {
            "args": [
             [
              "1996"
             ],
             {
              "frame": {
               "duration": 0,
               "redraw": true
              },
              "fromcurrent": true,
              "mode": "immediate",
              "transition": {
               "duration": 0,
               "easing": "linear"
              }
             }
            ],
            "label": "1996",
            "method": "animate"
           },
           {
            "args": [
             [
              "1997"
             ],
             {
              "frame": {
               "duration": 0,
               "redraw": true
              },
              "fromcurrent": true,
              "mode": "immediate",
              "transition": {
               "duration": 0,
               "easing": "linear"
              }
             }
            ],
            "label": "1997",
            "method": "animate"
           },
           {
            "args": [
             [
              "1998"
             ],
             {
              "frame": {
               "duration": 0,
               "redraw": true
              },
              "fromcurrent": true,
              "mode": "immediate",
              "transition": {
               "duration": 0,
               "easing": "linear"
              }
             }
            ],
            "label": "1998",
            "method": "animate"
           },
           {
            "args": [
             [
              "1999"
             ],
             {
              "frame": {
               "duration": 0,
               "redraw": true
              },
              "fromcurrent": true,
              "mode": "immediate",
              "transition": {
               "duration": 0,
               "easing": "linear"
              }
             }
            ],
            "label": "1999",
            "method": "animate"
           },
           {
            "args": [
             [
              "2000"
             ],
             {
              "frame": {
               "duration": 0,
               "redraw": true
              },
              "fromcurrent": true,
              "mode": "immediate",
              "transition": {
               "duration": 0,
               "easing": "linear"
              }
             }
            ],
            "label": "2000",
            "method": "animate"
           }
          ],
          "x": 0.1,
          "xanchor": "left",
          "y": 0,
          "yanchor": "top"
         }
        ],
        "template": {
         "data": {
          "bar": [
           {
            "error_x": {
             "color": "#2a3f5f"
            },
            "error_y": {
             "color": "#2a3f5f"
            },
            "marker": {
             "line": {
              "color": "#E5ECF6",
              "width": 0.5
             },
             "pattern": {
              "fillmode": "overlay",
              "size": 10,
              "solidity": 0.2
             }
            },
            "type": "bar"
           }
          ],
          "barpolar": [
           {
            "marker": {
             "line": {
              "color": "#E5ECF6",
              "width": 0.5
             },
             "pattern": {
              "fillmode": "overlay",
              "size": 10,
              "solidity": 0.2
             }
            },
            "type": "barpolar"
           }
          ],
          "carpet": [
           {
            "aaxis": {
             "endlinecolor": "#2a3f5f",
             "gridcolor": "white",
             "linecolor": "white",
             "minorgridcolor": "white",
             "startlinecolor": "#2a3f5f"
            },
            "baxis": {
             "endlinecolor": "#2a3f5f",
             "gridcolor": "white",
             "linecolor": "white",
             "minorgridcolor": "white",
             "startlinecolor": "#2a3f5f"
            },
            "type": "carpet"
           }
          ],
          "choropleth": [
           {
            "colorbar": {
             "outlinewidth": 0,
             "ticks": ""
            },
            "type": "choropleth"
           }
          ],
          "contour": [
           {
            "colorbar": {
             "outlinewidth": 0,
             "ticks": ""
            },
            "colorscale": [
             [
              0,
              "#0d0887"
             ],
             [
              0.1111111111111111,
              "#46039f"
             ],
             [
              0.2222222222222222,
              "#7201a8"
             ],
             [
              0.3333333333333333,
              "#9c179e"
             ],
             [
              0.4444444444444444,
              "#bd3786"
             ],
             [
              0.5555555555555556,
              "#d8576b"
             ],
             [
              0.6666666666666666,
              "#ed7953"
             ],
             [
              0.7777777777777778,
              "#fb9f3a"
             ],
             [
              0.8888888888888888,
              "#fdca26"
             ],
             [
              1,
              "#f0f921"
             ]
            ],
            "type": "contour"
           }
          ],
          "contourcarpet": [
           {
            "colorbar": {
             "outlinewidth": 0,
             "ticks": ""
            },
            "type": "contourcarpet"
           }
          ],
          "heatmap": [
           {
            "colorbar": {
             "outlinewidth": 0,
             "ticks": ""
            },
            "colorscale": [
             [
              0,
              "#0d0887"
             ],
             [
              0.1111111111111111,
              "#46039f"
             ],
             [
              0.2222222222222222,
              "#7201a8"
             ],
             [
              0.3333333333333333,
              "#9c179e"
             ],
             [
              0.4444444444444444,
              "#bd3786"
             ],
             [
              0.5555555555555556,
              "#d8576b"
             ],
             [
              0.6666666666666666,
              "#ed7953"
             ],
             [
              0.7777777777777778,
              "#fb9f3a"
             ],
             [
              0.8888888888888888,
              "#fdca26"
             ],
             [
              1,
              "#f0f921"
             ]
            ],
            "type": "heatmap"
           }
          ],
          "heatmapgl": [
           {
            "colorbar": {
             "outlinewidth": 0,
             "ticks": ""
            },
            "colorscale": [
             [
              0,
              "#0d0887"
             ],
             [
              0.1111111111111111,
              "#46039f"
             ],
             [
              0.2222222222222222,
              "#7201a8"
             ],
             [
              0.3333333333333333,
              "#9c179e"
             ],
             [
              0.4444444444444444,
              "#bd3786"
             ],
             [
              0.5555555555555556,
              "#d8576b"
             ],
             [
              0.6666666666666666,
              "#ed7953"
             ],
             [
              0.7777777777777778,
              "#fb9f3a"
             ],
             [
              0.8888888888888888,
              "#fdca26"
             ],
             [
              1,
              "#f0f921"
             ]
            ],
            "type": "heatmapgl"
           }
          ],
          "histogram": [
           {
            "marker": {
             "pattern": {
              "fillmode": "overlay",
              "size": 10,
              "solidity": 0.2
             }
            },
            "type": "histogram"
           }
          ],
          "histogram2d": [
           {
            "colorbar": {
             "outlinewidth": 0,
             "ticks": ""
            },
            "colorscale": [
             [
              0,
              "#0d0887"
             ],
             [
              0.1111111111111111,
              "#46039f"
             ],
             [
              0.2222222222222222,
              "#7201a8"
             ],
             [
              0.3333333333333333,
              "#9c179e"
             ],
             [
              0.4444444444444444,
              "#bd3786"
             ],
             [
              0.5555555555555556,
              "#d8576b"
             ],
             [
              0.6666666666666666,
              "#ed7953"
             ],
             [
              0.7777777777777778,
              "#fb9f3a"
             ],
             [
              0.8888888888888888,
              "#fdca26"
             ],
             [
              1,
              "#f0f921"
             ]
            ],
            "type": "histogram2d"
           }
          ],
          "histogram2dcontour": [
           {
            "colorbar": {
             "outlinewidth": 0,
             "ticks": ""
            },
            "colorscale": [
             [
              0,
              "#0d0887"
             ],
             [
              0.1111111111111111,
              "#46039f"
             ],
             [
              0.2222222222222222,
              "#7201a8"
             ],
             [
              0.3333333333333333,
              "#9c179e"
             ],
             [
              0.4444444444444444,
              "#bd3786"
             ],
             [
              0.5555555555555556,
              "#d8576b"
             ],
             [
              0.6666666666666666,
              "#ed7953"
             ],
             [
              0.7777777777777778,
              "#fb9f3a"
             ],
             [
              0.8888888888888888,
              "#fdca26"
             ],
             [
              1,
              "#f0f921"
             ]
            ],
            "type": "histogram2dcontour"
           }
          ],
          "mesh3d": [
           {
            "colorbar": {
             "outlinewidth": 0,
             "ticks": ""
            },
            "type": "mesh3d"
           }
          ],
          "parcoords": [
           {
            "line": {
             "colorbar": {
              "outlinewidth": 0,
              "ticks": ""
             }
            },
            "type": "parcoords"
           }
          ],
          "pie": [
           {
            "automargin": true,
            "type": "pie"
           }
          ],
          "scatter": [
           {
            "fillpattern": {
             "fillmode": "overlay",
             "size": 10,
             "solidity": 0.2
            },
            "type": "scatter"
           }
          ],
          "scatter3d": [
           {
            "line": {
             "colorbar": {
              "outlinewidth": 0,
              "ticks": ""
             }
            },
            "marker": {
             "colorbar": {
              "outlinewidth": 0,
              "ticks": ""
             }
            },
            "type": "scatter3d"
           }
          ],
          "scattercarpet": [
           {
            "marker": {
             "colorbar": {
              "outlinewidth": 0,
              "ticks": ""
             }
            },
            "type": "scattercarpet"
           }
          ],
          "scattergeo": [
           {
            "marker": {
             "colorbar": {
              "outlinewidth": 0,
              "ticks": ""
             }
            },
            "type": "scattergeo"
           }
          ],
          "scattergl": [
           {
            "marker": {
             "colorbar": {
              "outlinewidth": 0,
              "ticks": ""
             }
            },
            "type": "scattergl"
           }
          ],
          "scattermapbox": [
           {
            "marker": {
             "colorbar": {
              "outlinewidth": 0,
              "ticks": ""
             }
            },
            "type": "scattermapbox"
           }
          ],
          "scatterpolar": [
           {
            "marker": {
             "colorbar": {
              "outlinewidth": 0,
              "ticks": ""
             }
            },
            "type": "scatterpolar"
           }
          ],
          "scatterpolargl": [
           {
            "marker": {
             "colorbar": {
              "outlinewidth": 0,
              "ticks": ""
             }
            },
            "type": "scatterpolargl"
           }
          ],
          "scatterternary": [
           {
            "marker": {
             "colorbar": {
              "outlinewidth": 0,
              "ticks": ""
             }
            },
            "type": "scatterternary"
           }
          ],
          "surface": [
           {
            "colorbar": {
             "outlinewidth": 0,
             "ticks": ""
            },
            "colorscale": [
             [
              0,
              "#0d0887"
             ],
             [
              0.1111111111111111,
              "#46039f"
             ],
             [
              0.2222222222222222,
              "#7201a8"
             ],
             [
              0.3333333333333333,
              "#9c179e"
             ],
             [
              0.4444444444444444,
              "#bd3786"
             ],
             [
              0.5555555555555556,
              "#d8576b"
             ],
             [
              0.6666666666666666,
              "#ed7953"
             ],
             [
              0.7777777777777778,
              "#fb9f3a"
             ],
             [
              0.8888888888888888,
              "#fdca26"
             ],
             [
              1,
              "#f0f921"
             ]
            ],
            "type": "surface"
           }
          ],
          "table": [
           {
            "cells": {
             "fill": {
              "color": "#EBF0F8"
             },
             "line": {
              "color": "white"
             }
            },
            "header": {
             "fill": {
              "color": "#C8D4E3"
             },
             "line": {
              "color": "white"
             }
            },
            "type": "table"
           }
          ]
         },
         "layout": {
          "annotationdefaults": {
           "arrowcolor": "#2a3f5f",
           "arrowhead": 0,
           "arrowwidth": 1
          },
          "autotypenumbers": "strict",
          "coloraxis": {
           "colorbar": {
            "outlinewidth": 0,
            "ticks": ""
           }
          },
          "colorscale": {
           "diverging": [
            [
             0,
             "#8e0152"
            ],
            [
             0.1,
             "#c51b7d"
            ],
            [
             0.2,
             "#de77ae"
            ],
            [
             0.3,
             "#f1b6da"
            ],
            [
             0.4,
             "#fde0ef"
            ],
            [
             0.5,
             "#f7f7f7"
            ],
            [
             0.6,
             "#e6f5d0"
            ],
            [
             0.7,
             "#b8e186"
            ],
            [
             0.8,
             "#7fbc41"
            ],
            [
             0.9,
             "#4d9221"
            ],
            [
             1,
             "#276419"
            ]
           ],
           "sequential": [
            [
             0,
             "#0d0887"
            ],
            [
             0.1111111111111111,
             "#46039f"
            ],
            [
             0.2222222222222222,
             "#7201a8"
            ],
            [
             0.3333333333333333,
             "#9c179e"
            ],
            [
             0.4444444444444444,
             "#bd3786"
            ],
            [
             0.5555555555555556,
             "#d8576b"
            ],
            [
             0.6666666666666666,
             "#ed7953"
            ],
            [
             0.7777777777777778,
             "#fb9f3a"
            ],
            [
             0.8888888888888888,
             "#fdca26"
            ],
            [
             1,
             "#f0f921"
            ]
           ],
           "sequentialminus": [
            [
             0,
             "#0d0887"
            ],
            [
             0.1111111111111111,
             "#46039f"
            ],
            [
             0.2222222222222222,
             "#7201a8"
            ],
            [
             0.3333333333333333,
             "#9c179e"
            ],
            [
             0.4444444444444444,
             "#bd3786"
            ],
            [
             0.5555555555555556,
             "#d8576b"
            ],
            [
             0.6666666666666666,
             "#ed7953"
            ],
            [
             0.7777777777777778,
             "#fb9f3a"
            ],
            [
             0.8888888888888888,
             "#fdca26"
            ],
            [
             1,
             "#f0f921"
            ]
           ]
          },
          "colorway": [
           "#636efa",
           "#EF553B",
           "#00cc96",
           "#ab63fa",
           "#FFA15A",
           "#19d3f3",
           "#FF6692",
           "#B6E880",
           "#FF97FF",
           "#FECB52"
          ],
          "font": {
           "color": "#2a3f5f"
          },
          "geo": {
           "bgcolor": "white",
           "lakecolor": "white",
           "landcolor": "#E5ECF6",
           "showlakes": true,
           "showland": true,
           "subunitcolor": "white"
          },
          "hoverlabel": {
           "align": "left"
          },
          "hovermode": "closest",
          "mapbox": {
           "style": "light"
          },
          "paper_bgcolor": "white",
          "plot_bgcolor": "#E5ECF6",
          "polar": {
           "angularaxis": {
            "gridcolor": "white",
            "linecolor": "white",
            "ticks": ""
           },
           "bgcolor": "#E5ECF6",
           "radialaxis": {
            "gridcolor": "white",
            "linecolor": "white",
            "ticks": ""
           }
          },
          "scene": {
           "xaxis": {
            "backgroundcolor": "#E5ECF6",
            "gridcolor": "white",
            "gridwidth": 2,
            "linecolor": "white",
            "showbackground": true,
            "ticks": "",
            "zerolinecolor": "white"
           },
           "yaxis": {
            "backgroundcolor": "#E5ECF6",
            "gridcolor": "white",
            "gridwidth": 2,
            "linecolor": "white",
            "showbackground": true,
            "ticks": "",
            "zerolinecolor": "white"
           },
           "zaxis": {
            "backgroundcolor": "#E5ECF6",
            "gridcolor": "white",
            "gridwidth": 2,
            "linecolor": "white",
            "showbackground": true,
            "ticks": "",
            "zerolinecolor": "white"
           }
          },
          "shapedefaults": {
           "line": {
            "color": "#2a3f5f"
           }
          },
          "ternary": {
           "aaxis": {
            "gridcolor": "white",
            "linecolor": "white",
            "ticks": ""
           },
           "baxis": {
            "gridcolor": "white",
            "linecolor": "white",
            "ticks": ""
           },
           "bgcolor": "#E5ECF6",
           "caxis": {
            "gridcolor": "white",
            "linecolor": "white",
            "ticks": ""
           }
          },
          "title": {
           "x": 0.05
          },
          "xaxis": {
           "automargin": true,
           "gridcolor": "white",
           "linecolor": "white",
           "ticks": "",
           "title": {
            "standoff": 15
           },
           "zerolinecolor": "white",
           "zerolinewidth": 2
          },
          "yaxis": {
           "automargin": true,
           "gridcolor": "white",
           "linecolor": "white",
           "ticks": "",
           "title": {
            "standoff": 15
           },
           "zerolinecolor": "white",
           "zerolinewidth": 2
          }
         }
        },
        "title": {
         "text": "Pertumbuhan Gemini 1924 - 2000",
         "x": 0.5,
         "y": 0.95
        },
        "updatemenus": [
         {
          "buttons": [
           {
            "args": [
             null,
             {
              "frame": {
               "duration": 500,
               "redraw": true
              },
              "fromcurrent": true,
              "mode": "immediate",
              "transition": {
               "duration": 500,
               "easing": "linear"
              }
             }
            ],
            "label": "&#9654;",
            "method": "animate"
           },
           {
            "args": [
             [
              null
             ],
             {
              "frame": {
               "duration": 0,
               "redraw": true
              },
              "fromcurrent": true,
              "mode": "immediate",
              "transition": {
               "duration": 0,
               "easing": "linear"
              }
             }
            ],
            "label": "&#9724;",
            "method": "animate"
           }
          ],
          "direction": "left",
          "pad": {
           "r": 10,
           "t": 70
          },
          "showactive": false,
          "type": "buttons",
          "x": 0.1,
          "xanchor": "right",
          "y": 0,
          "yanchor": "top"
         }
        ]
       }
      }
     },
     "metadata": {},
     "output_type": "display_data"
    }
   ],
   "source": [
    "fig = px.scatter_mapbox(\n",
    "    bintang_map[(bintang_map.signs=='gemini')],\n",
    "    # bintang_map[(bintang_map.signs=='gemini')|(bintang_map.signs=='cancer')],\n",
    "    lat=\"lat\",\n",
    "    lon=\"long\",\n",
    "    size=\"cumulative_value\",\n",
    "    hover_data=[\"signs\",'cumulative_value','kab_kota'],\n",
    "    animation_frame=\"tahun_lahir\",\n",
    "    # color=\"signs\",\n",
    "    title='Pertumbuhan Gemini 1924 - 2000'\n",
    ").update_layout(\n",
    "    title_x=0.5,\n",
    "    title_y=0.95,\n",
    "    mapbox={\"style\": \"open-street-map\", \"zoom\":7}, margin={\"l\": 0, \"r\": 15, \"t\": 50, \"b\": 0}\n",
    ")\n",
    "\n",
    "fig.show()"
   ]
  },
  {
   "cell_type": "code",
   "execution_count": 97,
   "metadata": {},
   "outputs": [],
   "source": [
    "fig.write_html(\"gemini.html\")"
   ]
  },
  {
   "attachments": {},
   "cell_type": "markdown",
   "metadata": {},
   "source": [
    "# Produksi"
   ]
  },
  {
   "cell_type": "code",
   "execution_count": 3,
   "metadata": {},
   "outputs": [
    {
     "data": {
      "text/html": [
       "<div>\n",
       "<style scoped>\n",
       "    .dataframe tbody tr th:only-of-type {\n",
       "        vertical-align: middle;\n",
       "    }\n",
       "\n",
       "    .dataframe tbody tr th {\n",
       "        vertical-align: top;\n",
       "    }\n",
       "\n",
       "    .dataframe thead th {\n",
       "        text-align: right;\n",
       "    }\n",
       "</style>\n",
       "<table border=\"1\" class=\"dataframe\">\n",
       "  <thead>\n",
       "    <tr style=\"text-align: right;\">\n",
       "      <th></th>\n",
       "      <th>nama</th>\n",
       "      <th>provinsi</th>\n",
       "      <th>kab_kota</th>\n",
       "      <th>kecamatan</th>\n",
       "      <th>desa</th>\n",
       "      <th>tanggal_produksi</th>\n",
       "      <th>hari_produksi</th>\n",
       "      <th>umur</th>\n",
       "    </tr>\n",
       "  </thead>\n",
       "  <tbody>\n",
       "    <tr>\n",
       "      <th>0</th>\n",
       "      <td>NYANYAH</td>\n",
       "      <td>JAWA BARAT</td>\n",
       "      <td>GARUT</td>\n",
       "      <td>BANJARWANGI</td>\n",
       "      <td>WANGUNJAYA</td>\n",
       "      <td>1973-08-01</td>\n",
       "      <td>Wednesday</td>\n",
       "      <td>1949</td>\n",
       "    </tr>\n",
       "    <tr>\n",
       "      <th>1</th>\n",
       "      <td>JALALUDIN</td>\n",
       "      <td>JAWA BARAT</td>\n",
       "      <td>GARUT</td>\n",
       "      <td>BANJARWANGI</td>\n",
       "      <td>WANGUNJAYA</td>\n",
       "      <td>1981-01-04</td>\n",
       "      <td>Sunday</td>\n",
       "      <td>1942</td>\n",
       "    </tr>\n",
       "    <tr>\n",
       "      <th>2</th>\n",
       "      <td>AEP SAEPUL MALIK</td>\n",
       "      <td>JAWA BARAT</td>\n",
       "      <td>GARUT</td>\n",
       "      <td>BANJARWANGI</td>\n",
       "      <td>WANGUNJAYA</td>\n",
       "      <td>1990-11-16</td>\n",
       "      <td>Friday</td>\n",
       "      <td>1932</td>\n",
       "    </tr>\n",
       "  </tbody>\n",
       "</table>\n",
       "</div>"
      ],
      "text/plain": [
       "               nama    provinsi kab_kota    kecamatan        desa   \n",
       "0           NYANYAH  JAWA BARAT    GARUT  BANJARWANGI  WANGUNJAYA  \\\n",
       "1         JALALUDIN  JAWA BARAT    GARUT  BANJARWANGI  WANGUNJAYA   \n",
       "2  AEP SAEPUL MALIK  JAWA BARAT    GARUT  BANJARWANGI  WANGUNJAYA   \n",
       "\n",
       "  tanggal_produksi hari_produksi  umur  \n",
       "0       1973-08-01     Wednesday  1949  \n",
       "1       1981-01-04        Sunday  1942  \n",
       "2       1990-11-16        Friday  1932  "
      ]
     },
     "execution_count": 3,
     "metadata": {},
     "output_type": "execute_result"
    }
   ],
   "source": [
    "produksi = con.sql(\"SELECT nama, provinsi, kab_kota, kecamatan, desa, tanggal_produksi, hari_produksi, umur FROM entity_with_coordinate2 WHERE tanggal_produksi IS NOT NULL\").fetchdf()\n",
    "produksi = produksi[produksi.umur<=2000]\n",
    "produksi.head(3)"
   ]
  },
  {
   "cell_type": "code",
   "execution_count": 7,
   "metadata": {},
   "outputs": [
    {
     "data": {
      "text/plain": [
       "tanggal_produksi\n",
       "1922-03-27     135\n",
       "1922-03-28      10\n",
       "1922-03-29       4\n",
       "1922-03-30       8\n",
       "1922-03-31       6\n",
       "              ... \n",
       "1999-03-22    2178\n",
       "1999-03-23    2245\n",
       "1999-03-24    2084\n",
       "1999-03-25    1931\n",
       "1999-03-26    1877\n",
       "Name: nama, Length: 28058, dtype: int64"
      ]
     },
     "execution_count": 7,
     "metadata": {},
     "output_type": "execute_result"
    }
   ],
   "source": [
    "produksi.groupby('tanggal_produksi').nama.count()"
   ]
  },
  {
   "cell_type": "code",
   "execution_count": 41,
   "metadata": {},
   "outputs": [
    {
     "data": {
      "text/html": [
       "<div>\n",
       "<style scoped>\n",
       "    .dataframe tbody tr th:only-of-type {\n",
       "        vertical-align: middle;\n",
       "    }\n",
       "\n",
       "    .dataframe tbody tr th {\n",
       "        vertical-align: top;\n",
       "    }\n",
       "\n",
       "    .dataframe thead th {\n",
       "        text-align: right;\n",
       "    }\n",
       "</style>\n",
       "<table border=\"1\" class=\"dataframe\">\n",
       "  <thead>\n",
       "    <tr style=\"text-align: right;\">\n",
       "      <th></th>\n",
       "      <th>nama</th>\n",
       "      <th>provinsi</th>\n",
       "      <th>kab_kota</th>\n",
       "      <th>kecamatan</th>\n",
       "      <th>desa</th>\n",
       "      <th>tanggal_produksi</th>\n",
       "      <th>hari_produksi</th>\n",
       "      <th>umur</th>\n",
       "      <th>q</th>\n",
       "      <th>month</th>\n",
       "      <th>year</th>\n",
       "      <th>year_group</th>\n",
       "    </tr>\n",
       "  </thead>\n",
       "  <tbody>\n",
       "    <tr>\n",
       "      <th>0</th>\n",
       "      <td>NYANYAH</td>\n",
       "      <td>JAWA BARAT</td>\n",
       "      <td>GARUT</td>\n",
       "      <td>BANJARWANGI</td>\n",
       "      <td>WANGUNJAYA</td>\n",
       "      <td>1973-08-01</td>\n",
       "      <td>Wednesday</td>\n",
       "      <td>1949</td>\n",
       "      <td>3</td>\n",
       "      <td>August</td>\n",
       "      <td>1973</td>\n",
       "      <td>(1971, 1980)</td>\n",
       "    </tr>\n",
       "    <tr>\n",
       "      <th>1</th>\n",
       "      <td>JALALUDIN</td>\n",
       "      <td>JAWA BARAT</td>\n",
       "      <td>GARUT</td>\n",
       "      <td>BANJARWANGI</td>\n",
       "      <td>WANGUNJAYA</td>\n",
       "      <td>1981-01-04</td>\n",
       "      <td>Sunday</td>\n",
       "      <td>1942</td>\n",
       "      <td>1</td>\n",
       "      <td>January</td>\n",
       "      <td>1981</td>\n",
       "      <td>(1981, 1990)</td>\n",
       "    </tr>\n",
       "    <tr>\n",
       "      <th>2</th>\n",
       "      <td>AEP SAEPUL MALIK</td>\n",
       "      <td>JAWA BARAT</td>\n",
       "      <td>GARUT</td>\n",
       "      <td>BANJARWANGI</td>\n",
       "      <td>WANGUNJAYA</td>\n",
       "      <td>1990-11-16</td>\n",
       "      <td>Friday</td>\n",
       "      <td>1932</td>\n",
       "      <td>4</td>\n",
       "      <td>November</td>\n",
       "      <td>1990</td>\n",
       "      <td>(1981, 1990)</td>\n",
       "    </tr>\n",
       "  </tbody>\n",
       "</table>\n",
       "</div>"
      ],
      "text/plain": [
       "               nama    provinsi kab_kota    kecamatan        desa   \n",
       "0           NYANYAH  JAWA BARAT    GARUT  BANJARWANGI  WANGUNJAYA  \\\n",
       "1         JALALUDIN  JAWA BARAT    GARUT  BANJARWANGI  WANGUNJAYA   \n",
       "2  AEP SAEPUL MALIK  JAWA BARAT    GARUT  BANJARWANGI  WANGUNJAYA   \n",
       "\n",
       "  tanggal_produksi hari_produksi  umur  q     month  year    year_group  \n",
       "0       1973-08-01     Wednesday  1949  3    August  1973  (1971, 1980)  \n",
       "1       1981-01-04        Sunday  1942  1   January  1981  (1981, 1990)  \n",
       "2       1990-11-16        Friday  1932  4  November  1990  (1981, 1990)  "
      ]
     },
     "execution_count": 41,
     "metadata": {},
     "output_type": "execute_result"
    }
   ],
   "source": [
    "produksi['q'] = produksi['tanggal_produksi'].dt.quarter\n",
    "produksi['month'] = produksi['tanggal_produksi'].dt.month_name()\n",
    "produksi['year'] = produksi['tanggal_produksi'].dt.year\n",
    "produksi.head(3)"
   ]
  },
  {
   "cell_type": "code",
   "execution_count": 26,
   "metadata": {},
   "outputs": [
    {
     "name": "stdout",
     "output_type": "stream",
     "text": [
      "1922 1999\n"
     ]
    }
   ],
   "source": [
    "print(produksi.year.min(), produksi.year.max())"
   ]
  },
  {
   "cell_type": "code",
   "execution_count": 35,
   "metadata": {},
   "outputs": [
    {
     "data": {
      "text/plain": [
       "[(1991, 2000),\n",
       " (1981, 1990),\n",
       " (1971, 1980),\n",
       " (1961, 1970),\n",
       " (1951, 1960),\n",
       " (1941, 1950),\n",
       " (1931, 1940),\n",
       " (1921, 1930)]"
      ]
     },
     "execution_count": 35,
     "metadata": {},
     "output_type": "execute_result"
    }
   ],
   "source": [
    "year_group = []\n",
    "for i in range(1,9):\n",
    "    a = 2000-(i*10) + 1\n",
    "    b = 2000-((i-1)*10) \n",
    "    year_group.append((a,b))\n",
    "year_group\n"
   ]
  },
  {
   "cell_type": "code",
   "execution_count": 38,
   "metadata": {},
   "outputs": [
    {
     "data": {
      "text/plain": [
       "(1951, 1960)"
      ]
     },
     "execution_count": 38,
     "metadata": {},
     "output_type": "execute_result"
    }
   ],
   "source": [
    "def find_year_group(year):\n",
    "    for yg in year_group:\n",
    "        if year >= yg[0] and year <= yg[1]:\n",
    "            return yg\n",
    "find_year_group(1951)"
   ]
  },
  {
   "cell_type": "code",
   "execution_count": 39,
   "metadata": {},
   "outputs": [
    {
     "data": {
      "text/html": [
       "<div>\n",
       "<style scoped>\n",
       "    .dataframe tbody tr th:only-of-type {\n",
       "        vertical-align: middle;\n",
       "    }\n",
       "\n",
       "    .dataframe tbody tr th {\n",
       "        vertical-align: top;\n",
       "    }\n",
       "\n",
       "    .dataframe thead th {\n",
       "        text-align: right;\n",
       "    }\n",
       "</style>\n",
       "<table border=\"1\" class=\"dataframe\">\n",
       "  <thead>\n",
       "    <tr style=\"text-align: right;\">\n",
       "      <th></th>\n",
       "      <th>nama</th>\n",
       "      <th>provinsi</th>\n",
       "      <th>kab_kota</th>\n",
       "      <th>kecamatan</th>\n",
       "      <th>desa</th>\n",
       "      <th>tanggal_produksi</th>\n",
       "      <th>hari_produksi</th>\n",
       "      <th>umur</th>\n",
       "      <th>q</th>\n",
       "      <th>month</th>\n",
       "      <th>year</th>\n",
       "      <th>year_group</th>\n",
       "    </tr>\n",
       "  </thead>\n",
       "  <tbody>\n",
       "    <tr>\n",
       "      <th>0</th>\n",
       "      <td>NYANYAH</td>\n",
       "      <td>JAWA BARAT</td>\n",
       "      <td>GARUT</td>\n",
       "      <td>BANJARWANGI</td>\n",
       "      <td>WANGUNJAYA</td>\n",
       "      <td>1973-08-01</td>\n",
       "      <td>Wednesday</td>\n",
       "      <td>1949</td>\n",
       "      <td>3</td>\n",
       "      <td>8</td>\n",
       "      <td>1973</td>\n",
       "      <td>(1971, 1980)</td>\n",
       "    </tr>\n",
       "    <tr>\n",
       "      <th>1</th>\n",
       "      <td>JALALUDIN</td>\n",
       "      <td>JAWA BARAT</td>\n",
       "      <td>GARUT</td>\n",
       "      <td>BANJARWANGI</td>\n",
       "      <td>WANGUNJAYA</td>\n",
       "      <td>1981-01-04</td>\n",
       "      <td>Sunday</td>\n",
       "      <td>1942</td>\n",
       "      <td>1</td>\n",
       "      <td>1</td>\n",
       "      <td>1981</td>\n",
       "      <td>(1981, 1990)</td>\n",
       "    </tr>\n",
       "    <tr>\n",
       "      <th>2</th>\n",
       "      <td>AEP SAEPUL MALIK</td>\n",
       "      <td>JAWA BARAT</td>\n",
       "      <td>GARUT</td>\n",
       "      <td>BANJARWANGI</td>\n",
       "      <td>WANGUNJAYA</td>\n",
       "      <td>1990-11-16</td>\n",
       "      <td>Friday</td>\n",
       "      <td>1932</td>\n",
       "      <td>4</td>\n",
       "      <td>11</td>\n",
       "      <td>1990</td>\n",
       "      <td>(1981, 1990)</td>\n",
       "    </tr>\n",
       "  </tbody>\n",
       "</table>\n",
       "</div>"
      ],
      "text/plain": [
       "               nama    provinsi kab_kota    kecamatan        desa   \n",
       "0           NYANYAH  JAWA BARAT    GARUT  BANJARWANGI  WANGUNJAYA  \\\n",
       "1         JALALUDIN  JAWA BARAT    GARUT  BANJARWANGI  WANGUNJAYA   \n",
       "2  AEP SAEPUL MALIK  JAWA BARAT    GARUT  BANJARWANGI  WANGUNJAYA   \n",
       "\n",
       "  tanggal_produksi hari_produksi  umur  q  month  year    year_group  \n",
       "0       1973-08-01     Wednesday  1949  3      8  1973  (1971, 1980)  \n",
       "1       1981-01-04        Sunday  1942  1      1  1981  (1981, 1990)  \n",
       "2       1990-11-16        Friday  1932  4     11  1990  (1981, 1990)  "
      ]
     },
     "execution_count": 39,
     "metadata": {},
     "output_type": "execute_result"
    }
   ],
   "source": [
    "produksi['year_group'] = produksi.year.apply(find_year_group)\n",
    "produksi.head(3)"
   ]
  },
  {
   "cell_type": "code",
   "execution_count": 47,
   "metadata": {},
   "outputs": [],
   "source": [
    "quarter = produksi.groupby('q').nama.count().to_frame().reset_index()\n",
    "quarter['quarter'] = quarter.q.apply(lambda x: {1:'Jan-Mar',2:'Apr-Jun',3:'Jul-Sep',4:'Okt-Des'}[x])\n",
    "quarter.rename(columns={'nama':'count'},inplace=True)\n"
   ]
  },
  {
   "cell_type": "code",
   "execution_count": 49,
   "metadata": {},
   "outputs": [
    {
     "data": {
      "application/vnd.plotly.v1+json": {
       "config": {
        "plotlyServerURL": "https://plot.ly"
       },
       "data": [
        {
         "alignmentgroup": "True",
         "hovertemplate": "quarter=%{x}<br>count=%{y}<extra></extra>",
         "legendgroup": "",
         "marker": {
          "color": "#636efa",
          "pattern": {
           "shape": ""
          }
         },
         "name": "",
         "offsetgroup": "",
         "orientation": "v",
         "showlegend": false,
         "textposition": "auto",
         "texttemplate": "%{y}",
         "type": "bar",
         "x": [
          "Jan-Mar",
          "Apr-Jun",
          "Jul-Sep",
          "Okt-Des"
         ],
         "xaxis": "x",
         "y": [
          6527525,
          6813440,
          9701969,
          7459127
         ],
         "yaxis": "y"
        }
       ],
       "layout": {
        "barmode": "relative",
        "legend": {
         "tracegroupgap": 0
        },
        "template": {
         "data": {
          "bar": [
           {
            "error_x": {
             "color": "#2a3f5f"
            },
            "error_y": {
             "color": "#2a3f5f"
            },
            "marker": {
             "line": {
              "color": "#E5ECF6",
              "width": 0.5
             },
             "pattern": {
              "fillmode": "overlay",
              "size": 10,
              "solidity": 0.2
             }
            },
            "type": "bar"
           }
          ],
          "barpolar": [
           {
            "marker": {
             "line": {
              "color": "#E5ECF6",
              "width": 0.5
             },
             "pattern": {
              "fillmode": "overlay",
              "size": 10,
              "solidity": 0.2
             }
            },
            "type": "barpolar"
           }
          ],
          "carpet": [
           {
            "aaxis": {
             "endlinecolor": "#2a3f5f",
             "gridcolor": "white",
             "linecolor": "white",
             "minorgridcolor": "white",
             "startlinecolor": "#2a3f5f"
            },
            "baxis": {
             "endlinecolor": "#2a3f5f",
             "gridcolor": "white",
             "linecolor": "white",
             "minorgridcolor": "white",
             "startlinecolor": "#2a3f5f"
            },
            "type": "carpet"
           }
          ],
          "choropleth": [
           {
            "colorbar": {
             "outlinewidth": 0,
             "ticks": ""
            },
            "type": "choropleth"
           }
          ],
          "contour": [
           {
            "colorbar": {
             "outlinewidth": 0,
             "ticks": ""
            },
            "colorscale": [
             [
              0,
              "#0d0887"
             ],
             [
              0.1111111111111111,
              "#46039f"
             ],
             [
              0.2222222222222222,
              "#7201a8"
             ],
             [
              0.3333333333333333,
              "#9c179e"
             ],
             [
              0.4444444444444444,
              "#bd3786"
             ],
             [
              0.5555555555555556,
              "#d8576b"
             ],
             [
              0.6666666666666666,
              "#ed7953"
             ],
             [
              0.7777777777777778,
              "#fb9f3a"
             ],
             [
              0.8888888888888888,
              "#fdca26"
             ],
             [
              1,
              "#f0f921"
             ]
            ],
            "type": "contour"
           }
          ],
          "contourcarpet": [
           {
            "colorbar": {
             "outlinewidth": 0,
             "ticks": ""
            },
            "type": "contourcarpet"
           }
          ],
          "heatmap": [
           {
            "colorbar": {
             "outlinewidth": 0,
             "ticks": ""
            },
            "colorscale": [
             [
              0,
              "#0d0887"
             ],
             [
              0.1111111111111111,
              "#46039f"
             ],
             [
              0.2222222222222222,
              "#7201a8"
             ],
             [
              0.3333333333333333,
              "#9c179e"
             ],
             [
              0.4444444444444444,
              "#bd3786"
             ],
             [
              0.5555555555555556,
              "#d8576b"
             ],
             [
              0.6666666666666666,
              "#ed7953"
             ],
             [
              0.7777777777777778,
              "#fb9f3a"
             ],
             [
              0.8888888888888888,
              "#fdca26"
             ],
             [
              1,
              "#f0f921"
             ]
            ],
            "type": "heatmap"
           }
          ],
          "heatmapgl": [
           {
            "colorbar": {
             "outlinewidth": 0,
             "ticks": ""
            },
            "colorscale": [
             [
              0,
              "#0d0887"
             ],
             [
              0.1111111111111111,
              "#46039f"
             ],
             [
              0.2222222222222222,
              "#7201a8"
             ],
             [
              0.3333333333333333,
              "#9c179e"
             ],
             [
              0.4444444444444444,
              "#bd3786"
             ],
             [
              0.5555555555555556,
              "#d8576b"
             ],
             [
              0.6666666666666666,
              "#ed7953"
             ],
             [
              0.7777777777777778,
              "#fb9f3a"
             ],
             [
              0.8888888888888888,
              "#fdca26"
             ],
             [
              1,
              "#f0f921"
             ]
            ],
            "type": "heatmapgl"
           }
          ],
          "histogram": [
           {
            "marker": {
             "pattern": {
              "fillmode": "overlay",
              "size": 10,
              "solidity": 0.2
             }
            },
            "type": "histogram"
           }
          ],
          "histogram2d": [
           {
            "colorbar": {
             "outlinewidth": 0,
             "ticks": ""
            },
            "colorscale": [
             [
              0,
              "#0d0887"
             ],
             [
              0.1111111111111111,
              "#46039f"
             ],
             [
              0.2222222222222222,
              "#7201a8"
             ],
             [
              0.3333333333333333,
              "#9c179e"
             ],
             [
              0.4444444444444444,
              "#bd3786"
             ],
             [
              0.5555555555555556,
              "#d8576b"
             ],
             [
              0.6666666666666666,
              "#ed7953"
             ],
             [
              0.7777777777777778,
              "#fb9f3a"
             ],
             [
              0.8888888888888888,
              "#fdca26"
             ],
             [
              1,
              "#f0f921"
             ]
            ],
            "type": "histogram2d"
           }
          ],
          "histogram2dcontour": [
           {
            "colorbar": {
             "outlinewidth": 0,
             "ticks": ""
            },
            "colorscale": [
             [
              0,
              "#0d0887"
             ],
             [
              0.1111111111111111,
              "#46039f"
             ],
             [
              0.2222222222222222,
              "#7201a8"
             ],
             [
              0.3333333333333333,
              "#9c179e"
             ],
             [
              0.4444444444444444,
              "#bd3786"
             ],
             [
              0.5555555555555556,
              "#d8576b"
             ],
             [
              0.6666666666666666,
              "#ed7953"
             ],
             [
              0.7777777777777778,
              "#fb9f3a"
             ],
             [
              0.8888888888888888,
              "#fdca26"
             ],
             [
              1,
              "#f0f921"
             ]
            ],
            "type": "histogram2dcontour"
           }
          ],
          "mesh3d": [
           {
            "colorbar": {
             "outlinewidth": 0,
             "ticks": ""
            },
            "type": "mesh3d"
           }
          ],
          "parcoords": [
           {
            "line": {
             "colorbar": {
              "outlinewidth": 0,
              "ticks": ""
             }
            },
            "type": "parcoords"
           }
          ],
          "pie": [
           {
            "automargin": true,
            "type": "pie"
           }
          ],
          "scatter": [
           {
            "fillpattern": {
             "fillmode": "overlay",
             "size": 10,
             "solidity": 0.2
            },
            "type": "scatter"
           }
          ],
          "scatter3d": [
           {
            "line": {
             "colorbar": {
              "outlinewidth": 0,
              "ticks": ""
             }
            },
            "marker": {
             "colorbar": {
              "outlinewidth": 0,
              "ticks": ""
             }
            },
            "type": "scatter3d"
           }
          ],
          "scattercarpet": [
           {
            "marker": {
             "colorbar": {
              "outlinewidth": 0,
              "ticks": ""
             }
            },
            "type": "scattercarpet"
           }
          ],
          "scattergeo": [
           {
            "marker": {
             "colorbar": {
              "outlinewidth": 0,
              "ticks": ""
             }
            },
            "type": "scattergeo"
           }
          ],
          "scattergl": [
           {
            "marker": {
             "colorbar": {
              "outlinewidth": 0,
              "ticks": ""
             }
            },
            "type": "scattergl"
           }
          ],
          "scattermapbox": [
           {
            "marker": {
             "colorbar": {
              "outlinewidth": 0,
              "ticks": ""
             }
            },
            "type": "scattermapbox"
           }
          ],
          "scatterpolar": [
           {
            "marker": {
             "colorbar": {
              "outlinewidth": 0,
              "ticks": ""
             }
            },
            "type": "scatterpolar"
           }
          ],
          "scatterpolargl": [
           {
            "marker": {
             "colorbar": {
              "outlinewidth": 0,
              "ticks": ""
             }
            },
            "type": "scatterpolargl"
           }
          ],
          "scatterternary": [
           {
            "marker": {
             "colorbar": {
              "outlinewidth": 0,
              "ticks": ""
             }
            },
            "type": "scatterternary"
           }
          ],
          "surface": [
           {
            "colorbar": {
             "outlinewidth": 0,
             "ticks": ""
            },
            "colorscale": [
             [
              0,
              "#0d0887"
             ],
             [
              0.1111111111111111,
              "#46039f"
             ],
             [
              0.2222222222222222,
              "#7201a8"
             ],
             [
              0.3333333333333333,
              "#9c179e"
             ],
             [
              0.4444444444444444,
              "#bd3786"
             ],
             [
              0.5555555555555556,
              "#d8576b"
             ],
             [
              0.6666666666666666,
              "#ed7953"
             ],
             [
              0.7777777777777778,
              "#fb9f3a"
             ],
             [
              0.8888888888888888,
              "#fdca26"
             ],
             [
              1,
              "#f0f921"
             ]
            ],
            "type": "surface"
           }
          ],
          "table": [
           {
            "cells": {
             "fill": {
              "color": "#EBF0F8"
             },
             "line": {
              "color": "white"
             }
            },
            "header": {
             "fill": {
              "color": "#C8D4E3"
             },
             "line": {
              "color": "white"
             }
            },
            "type": "table"
           }
          ]
         },
         "layout": {
          "annotationdefaults": {
           "arrowcolor": "#2a3f5f",
           "arrowhead": 0,
           "arrowwidth": 1
          },
          "autotypenumbers": "strict",
          "coloraxis": {
           "colorbar": {
            "outlinewidth": 0,
            "ticks": ""
           }
          },
          "colorscale": {
           "diverging": [
            [
             0,
             "#8e0152"
            ],
            [
             0.1,
             "#c51b7d"
            ],
            [
             0.2,
             "#de77ae"
            ],
            [
             0.3,
             "#f1b6da"
            ],
            [
             0.4,
             "#fde0ef"
            ],
            [
             0.5,
             "#f7f7f7"
            ],
            [
             0.6,
             "#e6f5d0"
            ],
            [
             0.7,
             "#b8e186"
            ],
            [
             0.8,
             "#7fbc41"
            ],
            [
             0.9,
             "#4d9221"
            ],
            [
             1,
             "#276419"
            ]
           ],
           "sequential": [
            [
             0,
             "#0d0887"
            ],
            [
             0.1111111111111111,
             "#46039f"
            ],
            [
             0.2222222222222222,
             "#7201a8"
            ],
            [
             0.3333333333333333,
             "#9c179e"
            ],
            [
             0.4444444444444444,
             "#bd3786"
            ],
            [
             0.5555555555555556,
             "#d8576b"
            ],
            [
             0.6666666666666666,
             "#ed7953"
            ],
            [
             0.7777777777777778,
             "#fb9f3a"
            ],
            [
             0.8888888888888888,
             "#fdca26"
            ],
            [
             1,
             "#f0f921"
            ]
           ],
           "sequentialminus": [
            [
             0,
             "#0d0887"
            ],
            [
             0.1111111111111111,
             "#46039f"
            ],
            [
             0.2222222222222222,
             "#7201a8"
            ],
            [
             0.3333333333333333,
             "#9c179e"
            ],
            [
             0.4444444444444444,
             "#bd3786"
            ],
            [
             0.5555555555555556,
             "#d8576b"
            ],
            [
             0.6666666666666666,
             "#ed7953"
            ],
            [
             0.7777777777777778,
             "#fb9f3a"
            ],
            [
             0.8888888888888888,
             "#fdca26"
            ],
            [
             1,
             "#f0f921"
            ]
           ]
          },
          "colorway": [
           "#636efa",
           "#EF553B",
           "#00cc96",
           "#ab63fa",
           "#FFA15A",
           "#19d3f3",
           "#FF6692",
           "#B6E880",
           "#FF97FF",
           "#FECB52"
          ],
          "font": {
           "color": "#2a3f5f"
          },
          "geo": {
           "bgcolor": "white",
           "lakecolor": "white",
           "landcolor": "#E5ECF6",
           "showlakes": true,
           "showland": true,
           "subunitcolor": "white"
          },
          "hoverlabel": {
           "align": "left"
          },
          "hovermode": "closest",
          "mapbox": {
           "style": "light"
          },
          "paper_bgcolor": "white",
          "plot_bgcolor": "#E5ECF6",
          "polar": {
           "angularaxis": {
            "gridcolor": "white",
            "linecolor": "white",
            "ticks": ""
           },
           "bgcolor": "#E5ECF6",
           "radialaxis": {
            "gridcolor": "white",
            "linecolor": "white",
            "ticks": ""
           }
          },
          "scene": {
           "xaxis": {
            "backgroundcolor": "#E5ECF6",
            "gridcolor": "white",
            "gridwidth": 2,
            "linecolor": "white",
            "showbackground": true,
            "ticks": "",
            "zerolinecolor": "white"
           },
           "yaxis": {
            "backgroundcolor": "#E5ECF6",
            "gridcolor": "white",
            "gridwidth": 2,
            "linecolor": "white",
            "showbackground": true,
            "ticks": "",
            "zerolinecolor": "white"
           },
           "zaxis": {
            "backgroundcolor": "#E5ECF6",
            "gridcolor": "white",
            "gridwidth": 2,
            "linecolor": "white",
            "showbackground": true,
            "ticks": "",
            "zerolinecolor": "white"
           }
          },
          "shapedefaults": {
           "line": {
            "color": "#2a3f5f"
           }
          },
          "ternary": {
           "aaxis": {
            "gridcolor": "white",
            "linecolor": "white",
            "ticks": ""
           },
           "baxis": {
            "gridcolor": "white",
            "linecolor": "white",
            "ticks": ""
           },
           "bgcolor": "#E5ECF6",
           "caxis": {
            "gridcolor": "white",
            "linecolor": "white",
            "ticks": ""
           }
          },
          "title": {
           "x": 0.05
          },
          "xaxis": {
           "automargin": true,
           "gridcolor": "white",
           "linecolor": "white",
           "ticks": "",
           "title": {
            "standoff": 15
           },
           "zerolinecolor": "white",
           "zerolinewidth": 2
          },
          "yaxis": {
           "automargin": true,
           "gridcolor": "white",
           "linecolor": "white",
           "ticks": "",
           "title": {
            "standoff": 15
           },
           "zerolinecolor": "white",
           "zerolinewidth": 2
          }
         }
        },
        "title": {
         "text": "Human Production Count and Quartile Distribution 1922-1999"
        },
        "xaxis": {
         "anchor": "y",
         "domain": [
          0,
          1
         ],
         "title": {
          "text": "quarter"
         }
        },
        "yaxis": {
         "anchor": "x",
         "domain": [
          0,
          1
         ],
         "title": {
          "text": "count"
         }
        }
       }
      }
     },
     "metadata": {},
     "output_type": "display_data"
    }
   ],
   "source": [
    "fig = px.bar(quarter, x='quarter', y='count',text_auto=True, title='Human Production Count and Quartile Distribution 1922-1999')\n",
    "fig.show()"
   ]
  },
  {
   "cell_type": "code",
   "execution_count": 52,
   "metadata": {},
   "outputs": [
    {
     "data": {
      "text/html": [
       "<div>\n",
       "<style scoped>\n",
       "    .dataframe tbody tr th:only-of-type {\n",
       "        vertical-align: middle;\n",
       "    }\n",
       "\n",
       "    .dataframe tbody tr th {\n",
       "        vertical-align: top;\n",
       "    }\n",
       "\n",
       "    .dataframe thead th {\n",
       "        text-align: right;\n",
       "    }\n",
       "</style>\n",
       "<table border=\"1\" class=\"dataframe\">\n",
       "  <thead>\n",
       "    <tr style=\"text-align: right;\">\n",
       "      <th></th>\n",
       "      <th>month</th>\n",
       "      <th>year_group</th>\n",
       "      <th>nama</th>\n",
       "    </tr>\n",
       "  </thead>\n",
       "  <tbody>\n",
       "    <tr>\n",
       "      <th>0</th>\n",
       "      <td>April</td>\n",
       "      <td>(1921, 1930)</td>\n",
       "      <td>4616</td>\n",
       "    </tr>\n",
       "    <tr>\n",
       "      <th>1</th>\n",
       "      <td>April</td>\n",
       "      <td>(1931, 1940)</td>\n",
       "      <td>25544</td>\n",
       "    </tr>\n",
       "    <tr>\n",
       "      <th>2</th>\n",
       "      <td>April</td>\n",
       "      <td>(1941, 1950)</td>\n",
       "      <td>77990</td>\n",
       "    </tr>\n",
       "  </tbody>\n",
       "</table>\n",
       "</div>"
      ],
      "text/plain": [
       "   month    year_group   nama\n",
       "0  April  (1921, 1930)   4616\n",
       "1  April  (1931, 1940)  25544\n",
       "2  April  (1941, 1950)  77990"
      ]
     },
     "execution_count": 52,
     "metadata": {},
     "output_type": "execute_result"
    }
   ],
   "source": [
    "month_year_group = produksi.groupby(['month','year_group']).nama.count().to_frame().reset_index()\n",
    "month_year_group.head(3)"
   ]
  },
  {
   "cell_type": "code",
   "execution_count": 53,
   "metadata": {},
   "outputs": [],
   "source": [
    "month_year_group.rename(columns={'nama':'count'},inplace=True)"
   ]
  },
  {
   "cell_type": "code",
   "execution_count": 57,
   "metadata": {},
   "outputs": [],
   "source": [
    "month_year_group['month_num'] = month_year_group.month.apply(\n",
    "    lambda x: {\n",
    "        'January':1,'February':2,'March':3,'April':4,'May':5,'June':6,'July':7,\n",
    "        'August':8,'September':9,'October':10,'November':11,'December':12\n",
    "    }[x]\n",
    ")\n",
    "month_year_group.sort_values('month_num',inplace=True)"
   ]
  },
  {
   "cell_type": "code",
   "execution_count": 62,
   "metadata": {},
   "outputs": [
    {
     "data": {
      "application/vnd.plotly.v1+json": {
       "config": {
        "plotlyServerURL": "https://plot.ly"
       },
       "data": [
        {
         "hovertemplate": "year_group=(1991, 2000)<br>month=%{x}<br>count=%{y}<extra></extra>",
         "legendgroup": "(1991, 2000)",
         "line": {
          "color": "#636efa",
          "dash": "solid"
         },
         "marker": {
          "symbol": "circle"
         },
         "mode": "lines",
         "name": "(1991, 2000)",
         "orientation": "v",
         "showlegend": true,
         "type": "scatter",
         "x": [
          "January",
          "February",
          "March",
          "April",
          "May",
          "June",
          "July",
          "August",
          "September",
          "October",
          "November",
          "December"
         ],
         "xaxis": "x",
         "y": [
          525416,
          470267,
          543223,
          434583,
          484832,
          467612,
          525216,
          524002,
          598743,
          528113,
          504131,
          482790
         ],
         "yaxis": "y"
        },
        {
         "hovertemplate": "year_group=(1981, 1990)<br>month=%{x}<br>count=%{y}<extra></extra>",
         "legendgroup": "(1981, 1990)",
         "line": {
          "color": "#EF553B",
          "dash": "solid"
         },
         "marker": {
          "symbol": "circle"
         },
         "mode": "lines",
         "name": "(1981, 1990)",
         "orientation": "v",
         "showlegend": true,
         "type": "scatter",
         "x": [
          "January",
          "February",
          "March",
          "April",
          "May",
          "June",
          "July",
          "August",
          "September",
          "October",
          "November",
          "December"
         ],
         "xaxis": "x",
         "y": [
          519867,
          438602,
          563977,
          482122,
          584128,
          579583,
          675159,
          671300,
          821429,
          679993,
          628391,
          541774
         ],
         "yaxis": "y"
        },
        {
         "hovertemplate": "year_group=(1971, 1980)<br>month=%{x}<br>count=%{y}<extra></extra>",
         "legendgroup": "(1971, 1980)",
         "line": {
          "color": "#00cc96",
          "dash": "solid"
         },
         "marker": {
          "symbol": "circle"
         },
         "mode": "lines",
         "name": "(1971, 1980)",
         "orientation": "v",
         "showlegend": true,
         "type": "scatter",
         "x": [
          "January",
          "February",
          "March",
          "April",
          "May",
          "June",
          "July",
          "August",
          "September",
          "October",
          "November",
          "December"
         ],
         "xaxis": "x",
         "y": [
          462956,
          386688,
          538657,
          417745,
          557766,
          569219,
          685754,
          695259,
          903627,
          666870,
          598082,
          491155
         ],
         "yaxis": "y"
        },
        {
         "hovertemplate": "year_group=(1961, 1970)<br>month=%{x}<br>count=%{y}<extra></extra>",
         "legendgroup": "(1961, 1970)",
         "line": {
          "color": "#ab63fa",
          "dash": "solid"
         },
         "marker": {
          "symbol": "circle"
         },
         "mode": "lines",
         "name": "(1961, 1970)",
         "orientation": "v",
         "showlegend": true,
         "type": "scatter",
         "x": [
          "January",
          "February",
          "March",
          "April",
          "May",
          "June",
          "July",
          "August",
          "September",
          "October",
          "November",
          "December"
         ],
         "xaxis": "x",
         "y": [
          337319,
          283513,
          437410,
          312985,
          427178,
          423545,
          491762,
          496994,
          772180,
          469113,
          412072,
          358986
         ],
         "yaxis": "y"
        },
        {
         "hovertemplate": "year_group=(1951, 1960)<br>month=%{x}<br>count=%{y}<extra></extra>",
         "legendgroup": "(1951, 1960)",
         "line": {
          "color": "#FFA15A",
          "dash": "solid"
         },
         "marker": {
          "symbol": "circle"
         },
         "mode": "lines",
         "name": "(1951, 1960)",
         "orientation": "v",
         "showlegend": true,
         "type": "scatter",
         "x": [
          "January",
          "February",
          "March",
          "April",
          "May",
          "June",
          "July",
          "August",
          "September",
          "October",
          "November",
          "December"
         ],
         "xaxis": "x",
         "y": [
          192859,
          167209,
          296023,
          183912,
          248043,
          242306,
          278707,
          290723,
          548809,
          278424,
          227045,
          198565
         ],
         "yaxis": "y"
        },
        {
         "hovertemplate": "year_group=(1941, 1950)<br>month=%{x}<br>count=%{y}<extra></extra>",
         "legendgroup": "(1941, 1950)",
         "line": {
          "color": "#19d3f3",
          "dash": "solid"
         },
         "marker": {
          "symbol": "circle"
         },
         "mode": "lines",
         "name": "(1941, 1950)",
         "orientation": "v",
         "showlegend": true,
         "type": "scatter",
         "x": [
          "January",
          "February",
          "March",
          "April",
          "May",
          "June",
          "July",
          "August",
          "September",
          "October",
          "November",
          "December"
         ],
         "xaxis": "x",
         "y": [
          73409,
          63351,
          127561,
          77990,
          108621,
          103626,
          116627,
          119912,
          280795,
          121505,
          94809,
          78586
         ],
         "yaxis": "y"
        },
        {
         "hovertemplate": "year_group=(1931, 1940)<br>month=%{x}<br>count=%{y}<extra></extra>",
         "legendgroup": "(1931, 1940)",
         "line": {
          "color": "#FF6692",
          "dash": "solid"
         },
         "marker": {
          "symbol": "circle"
         },
         "mode": "lines",
         "name": "(1931, 1940)",
         "orientation": "v",
         "showlegend": true,
         "type": "scatter",
         "x": [
          "January",
          "February",
          "March",
          "April",
          "May",
          "June",
          "July",
          "August",
          "September",
          "October",
          "November",
          "December"
         ],
         "xaxis": "x",
         "y": [
          21824,
          19738,
          42668,
          25544,
          33822,
          32553,
          34804,
          35878,
          103752,
          35747,
          25866,
          23696
         ],
         "yaxis": "y"
        },
        {
         "hovertemplate": "year_group=(1921, 1930)<br>month=%{x}<br>count=%{y}<extra></extra>",
         "legendgroup": "(1921, 1930)",
         "line": {
          "color": "#B6E880",
          "dash": "solid"
         },
         "marker": {
          "symbol": "circle"
         },
         "mode": "lines",
         "name": "(1921, 1930)",
         "orientation": "v",
         "showlegend": true,
         "type": "scatter",
         "x": [
          "January",
          "February",
          "March",
          "April",
          "May",
          "June",
          "July",
          "August",
          "September",
          "October",
          "November",
          "December"
         ],
         "xaxis": "x",
         "y": [
          3391,
          3499,
          8098,
          4616,
          5856,
          5253,
          5396,
          5840,
          19301,
          5584,
          3929,
          3901
         ],
         "yaxis": "y"
        }
       ],
       "layout": {
        "legend": {
         "title": {
          "text": "year_group"
         },
         "tracegroupgap": 0
        },
        "template": {
         "data": {
          "bar": [
           {
            "error_x": {
             "color": "#2a3f5f"
            },
            "error_y": {
             "color": "#2a3f5f"
            },
            "marker": {
             "line": {
              "color": "#E5ECF6",
              "width": 0.5
             },
             "pattern": {
              "fillmode": "overlay",
              "size": 10,
              "solidity": 0.2
             }
            },
            "type": "bar"
           }
          ],
          "barpolar": [
           {
            "marker": {
             "line": {
              "color": "#E5ECF6",
              "width": 0.5
             },
             "pattern": {
              "fillmode": "overlay",
              "size": 10,
              "solidity": 0.2
             }
            },
            "type": "barpolar"
           }
          ],
          "carpet": [
           {
            "aaxis": {
             "endlinecolor": "#2a3f5f",
             "gridcolor": "white",
             "linecolor": "white",
             "minorgridcolor": "white",
             "startlinecolor": "#2a3f5f"
            },
            "baxis": {
             "endlinecolor": "#2a3f5f",
             "gridcolor": "white",
             "linecolor": "white",
             "minorgridcolor": "white",
             "startlinecolor": "#2a3f5f"
            },
            "type": "carpet"
           }
          ],
          "choropleth": [
           {
            "colorbar": {
             "outlinewidth": 0,
             "ticks": ""
            },
            "type": "choropleth"
           }
          ],
          "contour": [
           {
            "colorbar": {
             "outlinewidth": 0,
             "ticks": ""
            },
            "colorscale": [
             [
              0,
              "#0d0887"
             ],
             [
              0.1111111111111111,
              "#46039f"
             ],
             [
              0.2222222222222222,
              "#7201a8"
             ],
             [
              0.3333333333333333,
              "#9c179e"
             ],
             [
              0.4444444444444444,
              "#bd3786"
             ],
             [
              0.5555555555555556,
              "#d8576b"
             ],
             [
              0.6666666666666666,
              "#ed7953"
             ],
             [
              0.7777777777777778,
              "#fb9f3a"
             ],
             [
              0.8888888888888888,
              "#fdca26"
             ],
             [
              1,
              "#f0f921"
             ]
            ],
            "type": "contour"
           }
          ],
          "contourcarpet": [
           {
            "colorbar": {
             "outlinewidth": 0,
             "ticks": ""
            },
            "type": "contourcarpet"
           }
          ],
          "heatmap": [
           {
            "colorbar": {
             "outlinewidth": 0,
             "ticks": ""
            },
            "colorscale": [
             [
              0,
              "#0d0887"
             ],
             [
              0.1111111111111111,
              "#46039f"
             ],
             [
              0.2222222222222222,
              "#7201a8"
             ],
             [
              0.3333333333333333,
              "#9c179e"
             ],
             [
              0.4444444444444444,
              "#bd3786"
             ],
             [
              0.5555555555555556,
              "#d8576b"
             ],
             [
              0.6666666666666666,
              "#ed7953"
             ],
             [
              0.7777777777777778,
              "#fb9f3a"
             ],
             [
              0.8888888888888888,
              "#fdca26"
             ],
             [
              1,
              "#f0f921"
             ]
            ],
            "type": "heatmap"
           }
          ],
          "heatmapgl": [
           {
            "colorbar": {
             "outlinewidth": 0,
             "ticks": ""
            },
            "colorscale": [
             [
              0,
              "#0d0887"
             ],
             [
              0.1111111111111111,
              "#46039f"
             ],
             [
              0.2222222222222222,
              "#7201a8"
             ],
             [
              0.3333333333333333,
              "#9c179e"
             ],
             [
              0.4444444444444444,
              "#bd3786"
             ],
             [
              0.5555555555555556,
              "#d8576b"
             ],
             [
              0.6666666666666666,
              "#ed7953"
             ],
             [
              0.7777777777777778,
              "#fb9f3a"
             ],
             [
              0.8888888888888888,
              "#fdca26"
             ],
             [
              1,
              "#f0f921"
             ]
            ],
            "type": "heatmapgl"
           }
          ],
          "histogram": [
           {
            "marker": {
             "pattern": {
              "fillmode": "overlay",
              "size": 10,
              "solidity": 0.2
             }
            },
            "type": "histogram"
           }
          ],
          "histogram2d": [
           {
            "colorbar": {
             "outlinewidth": 0,
             "ticks": ""
            },
            "colorscale": [
             [
              0,
              "#0d0887"
             ],
             [
              0.1111111111111111,
              "#46039f"
             ],
             [
              0.2222222222222222,
              "#7201a8"
             ],
             [
              0.3333333333333333,
              "#9c179e"
             ],
             [
              0.4444444444444444,
              "#bd3786"
             ],
             [
              0.5555555555555556,
              "#d8576b"
             ],
             [
              0.6666666666666666,
              "#ed7953"
             ],
             [
              0.7777777777777778,
              "#fb9f3a"
             ],
             [
              0.8888888888888888,
              "#fdca26"
             ],
             [
              1,
              "#f0f921"
             ]
            ],
            "type": "histogram2d"
           }
          ],
          "histogram2dcontour": [
           {
            "colorbar": {
             "outlinewidth": 0,
             "ticks": ""
            },
            "colorscale": [
             [
              0,
              "#0d0887"
             ],
             [
              0.1111111111111111,
              "#46039f"
             ],
             [
              0.2222222222222222,
              "#7201a8"
             ],
             [
              0.3333333333333333,
              "#9c179e"
             ],
             [
              0.4444444444444444,
              "#bd3786"
             ],
             [
              0.5555555555555556,
              "#d8576b"
             ],
             [
              0.6666666666666666,
              "#ed7953"
             ],
             [
              0.7777777777777778,
              "#fb9f3a"
             ],
             [
              0.8888888888888888,
              "#fdca26"
             ],
             [
              1,
              "#f0f921"
             ]
            ],
            "type": "histogram2dcontour"
           }
          ],
          "mesh3d": [
           {
            "colorbar": {
             "outlinewidth": 0,
             "ticks": ""
            },
            "type": "mesh3d"
           }
          ],
          "parcoords": [
           {
            "line": {
             "colorbar": {
              "outlinewidth": 0,
              "ticks": ""
             }
            },
            "type": "parcoords"
           }
          ],
          "pie": [
           {
            "automargin": true,
            "type": "pie"
           }
          ],
          "scatter": [
           {
            "fillpattern": {
             "fillmode": "overlay",
             "size": 10,
             "solidity": 0.2
            },
            "type": "scatter"
           }
          ],
          "scatter3d": [
           {
            "line": {
             "colorbar": {
              "outlinewidth": 0,
              "ticks": ""
             }
            },
            "marker": {
             "colorbar": {
              "outlinewidth": 0,
              "ticks": ""
             }
            },
            "type": "scatter3d"
           }
          ],
          "scattercarpet": [
           {
            "marker": {
             "colorbar": {
              "outlinewidth": 0,
              "ticks": ""
             }
            },
            "type": "scattercarpet"
           }
          ],
          "scattergeo": [
           {
            "marker": {
             "colorbar": {
              "outlinewidth": 0,
              "ticks": ""
             }
            },
            "type": "scattergeo"
           }
          ],
          "scattergl": [
           {
            "marker": {
             "colorbar": {
              "outlinewidth": 0,
              "ticks": ""
             }
            },
            "type": "scattergl"
           }
          ],
          "scattermapbox": [
           {
            "marker": {
             "colorbar": {
              "outlinewidth": 0,
              "ticks": ""
             }
            },
            "type": "scattermapbox"
           }
          ],
          "scatterpolar": [
           {
            "marker": {
             "colorbar": {
              "outlinewidth": 0,
              "ticks": ""
             }
            },
            "type": "scatterpolar"
           }
          ],
          "scatterpolargl": [
           {
            "marker": {
             "colorbar": {
              "outlinewidth": 0,
              "ticks": ""
             }
            },
            "type": "scatterpolargl"
           }
          ],
          "scatterternary": [
           {
            "marker": {
             "colorbar": {
              "outlinewidth": 0,
              "ticks": ""
             }
            },
            "type": "scatterternary"
           }
          ],
          "surface": [
           {
            "colorbar": {
             "outlinewidth": 0,
             "ticks": ""
            },
            "colorscale": [
             [
              0,
              "#0d0887"
             ],
             [
              0.1111111111111111,
              "#46039f"
             ],
             [
              0.2222222222222222,
              "#7201a8"
             ],
             [
              0.3333333333333333,
              "#9c179e"
             ],
             [
              0.4444444444444444,
              "#bd3786"
             ],
             [
              0.5555555555555556,
              "#d8576b"
             ],
             [
              0.6666666666666666,
              "#ed7953"
             ],
             [
              0.7777777777777778,
              "#fb9f3a"
             ],
             [
              0.8888888888888888,
              "#fdca26"
             ],
             [
              1,
              "#f0f921"
             ]
            ],
            "type": "surface"
           }
          ],
          "table": [
           {
            "cells": {
             "fill": {
              "color": "#EBF0F8"
             },
             "line": {
              "color": "white"
             }
            },
            "header": {
             "fill": {
              "color": "#C8D4E3"
             },
             "line": {
              "color": "white"
             }
            },
            "type": "table"
           }
          ]
         },
         "layout": {
          "annotationdefaults": {
           "arrowcolor": "#2a3f5f",
           "arrowhead": 0,
           "arrowwidth": 1
          },
          "autotypenumbers": "strict",
          "coloraxis": {
           "colorbar": {
            "outlinewidth": 0,
            "ticks": ""
           }
          },
          "colorscale": {
           "diverging": [
            [
             0,
             "#8e0152"
            ],
            [
             0.1,
             "#c51b7d"
            ],
            [
             0.2,
             "#de77ae"
            ],
            [
             0.3,
             "#f1b6da"
            ],
            [
             0.4,
             "#fde0ef"
            ],
            [
             0.5,
             "#f7f7f7"
            ],
            [
             0.6,
             "#e6f5d0"
            ],
            [
             0.7,
             "#b8e186"
            ],
            [
             0.8,
             "#7fbc41"
            ],
            [
             0.9,
             "#4d9221"
            ],
            [
             1,
             "#276419"
            ]
           ],
           "sequential": [
            [
             0,
             "#0d0887"
            ],
            [
             0.1111111111111111,
             "#46039f"
            ],
            [
             0.2222222222222222,
             "#7201a8"
            ],
            [
             0.3333333333333333,
             "#9c179e"
            ],
            [
             0.4444444444444444,
             "#bd3786"
            ],
            [
             0.5555555555555556,
             "#d8576b"
            ],
            [
             0.6666666666666666,
             "#ed7953"
            ],
            [
             0.7777777777777778,
             "#fb9f3a"
            ],
            [
             0.8888888888888888,
             "#fdca26"
            ],
            [
             1,
             "#f0f921"
            ]
           ],
           "sequentialminus": [
            [
             0,
             "#0d0887"
            ],
            [
             0.1111111111111111,
             "#46039f"
            ],
            [
             0.2222222222222222,
             "#7201a8"
            ],
            [
             0.3333333333333333,
             "#9c179e"
            ],
            [
             0.4444444444444444,
             "#bd3786"
            ],
            [
             0.5555555555555556,
             "#d8576b"
            ],
            [
             0.6666666666666666,
             "#ed7953"
            ],
            [
             0.7777777777777778,
             "#fb9f3a"
            ],
            [
             0.8888888888888888,
             "#fdca26"
            ],
            [
             1,
             "#f0f921"
            ]
           ]
          },
          "colorway": [
           "#636efa",
           "#EF553B",
           "#00cc96",
           "#ab63fa",
           "#FFA15A",
           "#19d3f3",
           "#FF6692",
           "#B6E880",
           "#FF97FF",
           "#FECB52"
          ],
          "font": {
           "color": "#2a3f5f"
          },
          "geo": {
           "bgcolor": "white",
           "lakecolor": "white",
           "landcolor": "#E5ECF6",
           "showlakes": true,
           "showland": true,
           "subunitcolor": "white"
          },
          "hoverlabel": {
           "align": "left"
          },
          "hovermode": "closest",
          "mapbox": {
           "style": "light"
          },
          "paper_bgcolor": "white",
          "plot_bgcolor": "#E5ECF6",
          "polar": {
           "angularaxis": {
            "gridcolor": "white",
            "linecolor": "white",
            "ticks": ""
           },
           "bgcolor": "#E5ECF6",
           "radialaxis": {
            "gridcolor": "white",
            "linecolor": "white",
            "ticks": ""
           }
          },
          "scene": {
           "xaxis": {
            "backgroundcolor": "#E5ECF6",
            "gridcolor": "white",
            "gridwidth": 2,
            "linecolor": "white",
            "showbackground": true,
            "ticks": "",
            "zerolinecolor": "white"
           },
           "yaxis": {
            "backgroundcolor": "#E5ECF6",
            "gridcolor": "white",
            "gridwidth": 2,
            "linecolor": "white",
            "showbackground": true,
            "ticks": "",
            "zerolinecolor": "white"
           },
           "zaxis": {
            "backgroundcolor": "#E5ECF6",
            "gridcolor": "white",
            "gridwidth": 2,
            "linecolor": "white",
            "showbackground": true,
            "ticks": "",
            "zerolinecolor": "white"
           }
          },
          "shapedefaults": {
           "line": {
            "color": "#2a3f5f"
           }
          },
          "ternary": {
           "aaxis": {
            "gridcolor": "white",
            "linecolor": "white",
            "ticks": ""
           },
           "baxis": {
            "gridcolor": "white",
            "linecolor": "white",
            "ticks": ""
           },
           "bgcolor": "#E5ECF6",
           "caxis": {
            "gridcolor": "white",
            "linecolor": "white",
            "ticks": ""
           }
          },
          "title": {
           "x": 0.05
          },
          "xaxis": {
           "automargin": true,
           "gridcolor": "white",
           "linecolor": "white",
           "ticks": "",
           "title": {
            "standoff": 15
           },
           "zerolinecolor": "white",
           "zerolinewidth": 2
          },
          "yaxis": {
           "automargin": true,
           "gridcolor": "white",
           "linecolor": "white",
           "ticks": "",
           "title": {
            "standoff": 15
           },
           "zerolinecolor": "white",
           "zerolinewidth": 2
          }
         }
        },
        "title": {
         "text": "Monthly Human Production Count by 10-Year Ranges"
        },
        "xaxis": {
         "anchor": "y",
         "domain": [
          0,
          1
         ],
         "title": {
          "text": "month"
         }
        },
        "yaxis": {
         "anchor": "x",
         "domain": [
          0,
          1
         ],
         "title": {
          "text": "count"
         }
        }
       }
      }
     },
     "metadata": {},
     "output_type": "display_data"
    }
   ],
   "source": [
    "fig = px.line(month_year_group, x='month', y='count', color='year_group',\n",
    "              title='Monthly Human Production Count by 10-Year Ranges')\n",
    "fig"
   ]
  },
  {
   "cell_type": "code",
   "execution_count": 65,
   "metadata": {},
   "outputs": [],
   "source": [
    "daily_year_group = produksi.groupby(['hari_produksi','year_group']).nama.count().to_frame().reset_index()\n",
    "daily_year_group.rename(columns={'nama':'count'},inplace=True)\n",
    "daily_year_group['hari_num'] = daily_year_group.hari_produksi.apply(\n",
    "    lambda x: {\n",
    "        'Sunday':1,'Monday':2,'Tuesday':3,'Wednesday':4,'Thursday':5,'Friday':6,'Saturday':7\n",
    "    }[x]\n",
    ")\n",
    "daily_year_group.sort_values('hari_num',inplace=True)\n"
   ]
  },
  {
   "cell_type": "code",
   "execution_count": 66,
   "metadata": {},
   "outputs": [
    {
     "data": {
      "application/vnd.plotly.v1+json": {
       "config": {
        "plotlyServerURL": "https://plot.ly"
       },
       "data": [
        {
         "hovertemplate": "year_group=(1951, 1960)<br>hari_produksi=%{x}<br>count=%{y}<extra></extra>",
         "legendgroup": "(1951, 1960)",
         "line": {
          "color": "#636efa",
          "dash": "solid"
         },
         "marker": {
          "symbol": "circle"
         },
         "mode": "lines",
         "name": "(1951, 1960)",
         "orientation": "v",
         "showlegend": true,
         "type": "scatter",
         "x": [
          "Sunday",
          "Monday",
          "Tuesday",
          "Wednesday",
          "Thursday",
          "Friday",
          "Saturday"
         ],
         "xaxis": "x",
         "y": [
          443805,
          433953,
          464440,
          466205,
          435559,
          474235,
          434428
         ],
         "yaxis": "y"
        },
        {
         "hovertemplate": "year_group=(1981, 1990)<br>hari_produksi=%{x}<br>count=%{y}<extra></extra>",
         "legendgroup": "(1981, 1990)",
         "line": {
          "color": "#EF553B",
          "dash": "solid"
         },
         "marker": {
          "symbol": "circle"
         },
         "mode": "lines",
         "name": "(1981, 1990)",
         "orientation": "v",
         "showlegend": true,
         "type": "scatter",
         "x": [
          "Sunday",
          "Monday",
          "Tuesday",
          "Wednesday",
          "Thursday",
          "Friday",
          "Saturday"
         ],
         "xaxis": "x",
         "y": [
          1033408,
          1037905,
          1022551,
          1020238,
          1016322,
          1036760,
          1019141
         ],
         "yaxis": "y"
        },
        {
         "hovertemplate": "year_group=(1941, 1950)<br>hari_produksi=%{x}<br>count=%{y}<extra></extra>",
         "legendgroup": "(1941, 1950)",
         "line": {
          "color": "#00cc96",
          "dash": "solid"
         },
         "marker": {
          "symbol": "circle"
         },
         "mode": "lines",
         "name": "(1941, 1950)",
         "orientation": "v",
         "showlegend": true,
         "type": "scatter",
         "x": [
          "Sunday",
          "Monday",
          "Tuesday",
          "Wednesday",
          "Thursday",
          "Friday",
          "Saturday"
         ],
         "xaxis": "x",
         "y": [
          206490,
          189454,
          186298,
          184760,
          212539,
          187084,
          200167
         ],
         "yaxis": "y"
        },
        {
         "hovertemplate": "year_group=(1931, 1940)<br>hari_produksi=%{x}<br>count=%{y}<extra></extra>",
         "legendgroup": "(1931, 1940)",
         "line": {
          "color": "#ab63fa",
          "dash": "solid"
         },
         "marker": {
          "symbol": "circle"
         },
         "mode": "lines",
         "name": "(1931, 1940)",
         "orientation": "v",
         "showlegend": true,
         "type": "scatter",
         "x": [
          "Sunday",
          "Monday",
          "Tuesday",
          "Wednesday",
          "Thursday",
          "Friday",
          "Saturday"
         ],
         "xaxis": "x",
         "y": [
          56307,
          73337,
          60489,
          58193,
          56881,
          64530,
          66155
         ],
         "yaxis": "y"
        },
        {
         "hovertemplate": "year_group=(1921, 1930)<br>hari_produksi=%{x}<br>count=%{y}<extra></extra>",
         "legendgroup": "(1921, 1930)",
         "line": {
          "color": "#FFA15A",
          "dash": "solid"
         },
         "marker": {
          "symbol": "circle"
         },
         "mode": "lines",
         "name": "(1921, 1930)",
         "orientation": "v",
         "showlegend": true,
         "type": "scatter",
         "x": [
          "Sunday",
          "Monday",
          "Tuesday",
          "Wednesday",
          "Thursday",
          "Friday",
          "Saturday"
         ],
         "xaxis": "x",
         "y": [
          11821,
          9921,
          12689,
          12468,
          9401,
          9566,
          8798
         ],
         "yaxis": "y"
        },
        {
         "hovertemplate": "year_group=(1991, 2000)<br>hari_produksi=%{x}<br>count=%{y}<extra></extra>",
         "legendgroup": "(1991, 2000)",
         "line": {
          "color": "#19d3f3",
          "dash": "solid"
         },
         "marker": {
          "symbol": "circle"
         },
         "mode": "lines",
         "name": "(1991, 2000)",
         "orientation": "v",
         "showlegend": true,
         "type": "scatter",
         "x": [
          "Sunday",
          "Monday",
          "Tuesday",
          "Wednesday",
          "Thursday",
          "Friday",
          "Saturday"
         ],
         "xaxis": "x",
         "y": [
          853127,
          880571,
          861680,
          882278,
          871711,
          875842,
          863719
         ],
         "yaxis": "y"
        },
        {
         "hovertemplate": "year_group=(1961, 1970)<br>hari_produksi=%{x}<br>count=%{y}<extra></extra>",
         "legendgroup": "(1961, 1970)",
         "line": {
          "color": "#FF6692",
          "dash": "solid"
         },
         "marker": {
          "symbol": "circle"
         },
         "mode": "lines",
         "name": "(1961, 1970)",
         "orientation": "v",
         "showlegend": true,
         "type": "scatter",
         "x": [
          "Sunday",
          "Monday",
          "Tuesday",
          "Wednesday",
          "Thursday",
          "Friday",
          "Saturday"
         ],
         "xaxis": "x",
         "y": [
          726432,
          786049,
          730894,
          756197,
          753241,
          737231,
          733013
         ],
         "yaxis": "y"
        },
        {
         "hovertemplate": "year_group=(1971, 1980)<br>hari_produksi=%{x}<br>count=%{y}<extra></extra>",
         "legendgroup": "(1971, 1980)",
         "line": {
          "color": "#B6E880",
          "dash": "solid"
         },
         "marker": {
          "symbol": "circle"
         },
         "mode": "lines",
         "name": "(1971, 1980)",
         "orientation": "v",
         "showlegend": true,
         "type": "scatter",
         "x": [
          "Sunday",
          "Monday",
          "Tuesday",
          "Wednesday",
          "Thursday",
          "Friday",
          "Saturday"
         ],
         "xaxis": "x",
         "y": [
          1000093,
          993686,
          1012200,
          977378,
          993858,
          981823,
          1014740
         ],
         "yaxis": "y"
        }
       ],
       "layout": {
        "legend": {
         "title": {
          "text": "year_group"
         },
         "tracegroupgap": 0
        },
        "template": {
         "data": {
          "bar": [
           {
            "error_x": {
             "color": "#2a3f5f"
            },
            "error_y": {
             "color": "#2a3f5f"
            },
            "marker": {
             "line": {
              "color": "#E5ECF6",
              "width": 0.5
             },
             "pattern": {
              "fillmode": "overlay",
              "size": 10,
              "solidity": 0.2
             }
            },
            "type": "bar"
           }
          ],
          "barpolar": [
           {
            "marker": {
             "line": {
              "color": "#E5ECF6",
              "width": 0.5
             },
             "pattern": {
              "fillmode": "overlay",
              "size": 10,
              "solidity": 0.2
             }
            },
            "type": "barpolar"
           }
          ],
          "carpet": [
           {
            "aaxis": {
             "endlinecolor": "#2a3f5f",
             "gridcolor": "white",
             "linecolor": "white",
             "minorgridcolor": "white",
             "startlinecolor": "#2a3f5f"
            },
            "baxis": {
             "endlinecolor": "#2a3f5f",
             "gridcolor": "white",
             "linecolor": "white",
             "minorgridcolor": "white",
             "startlinecolor": "#2a3f5f"
            },
            "type": "carpet"
           }
          ],
          "choropleth": [
           {
            "colorbar": {
             "outlinewidth": 0,
             "ticks": ""
            },
            "type": "choropleth"
           }
          ],
          "contour": [
           {
            "colorbar": {
             "outlinewidth": 0,
             "ticks": ""
            },
            "colorscale": [
             [
              0,
              "#0d0887"
             ],
             [
              0.1111111111111111,
              "#46039f"
             ],
             [
              0.2222222222222222,
              "#7201a8"
             ],
             [
              0.3333333333333333,
              "#9c179e"
             ],
             [
              0.4444444444444444,
              "#bd3786"
             ],
             [
              0.5555555555555556,
              "#d8576b"
             ],
             [
              0.6666666666666666,
              "#ed7953"
             ],
             [
              0.7777777777777778,
              "#fb9f3a"
             ],
             [
              0.8888888888888888,
              "#fdca26"
             ],
             [
              1,
              "#f0f921"
             ]
            ],
            "type": "contour"
           }
          ],
          "contourcarpet": [
           {
            "colorbar": {
             "outlinewidth": 0,
             "ticks": ""
            },
            "type": "contourcarpet"
           }
          ],
          "heatmap": [
           {
            "colorbar": {
             "outlinewidth": 0,
             "ticks": ""
            },
            "colorscale": [
             [
              0,
              "#0d0887"
             ],
             [
              0.1111111111111111,
              "#46039f"
             ],
             [
              0.2222222222222222,
              "#7201a8"
             ],
             [
              0.3333333333333333,
              "#9c179e"
             ],
             [
              0.4444444444444444,
              "#bd3786"
             ],
             [
              0.5555555555555556,
              "#d8576b"
             ],
             [
              0.6666666666666666,
              "#ed7953"
             ],
             [
              0.7777777777777778,
              "#fb9f3a"
             ],
             [
              0.8888888888888888,
              "#fdca26"
             ],
             [
              1,
              "#f0f921"
             ]
            ],
            "type": "heatmap"
           }
          ],
          "heatmapgl": [
           {
            "colorbar": {
             "outlinewidth": 0,
             "ticks": ""
            },
            "colorscale": [
             [
              0,
              "#0d0887"
             ],
             [
              0.1111111111111111,
              "#46039f"
             ],
             [
              0.2222222222222222,
              "#7201a8"
             ],
             [
              0.3333333333333333,
              "#9c179e"
             ],
             [
              0.4444444444444444,
              "#bd3786"
             ],
             [
              0.5555555555555556,
              "#d8576b"
             ],
             [
              0.6666666666666666,
              "#ed7953"
             ],
             [
              0.7777777777777778,
              "#fb9f3a"
             ],
             [
              0.8888888888888888,
              "#fdca26"
             ],
             [
              1,
              "#f0f921"
             ]
            ],
            "type": "heatmapgl"
           }
          ],
          "histogram": [
           {
            "marker": {
             "pattern": {
              "fillmode": "overlay",
              "size": 10,
              "solidity": 0.2
             }
            },
            "type": "histogram"
           }
          ],
          "histogram2d": [
           {
            "colorbar": {
             "outlinewidth": 0,
             "ticks": ""
            },
            "colorscale": [
             [
              0,
              "#0d0887"
             ],
             [
              0.1111111111111111,
              "#46039f"
             ],
             [
              0.2222222222222222,
              "#7201a8"
             ],
             [
              0.3333333333333333,
              "#9c179e"
             ],
             [
              0.4444444444444444,
              "#bd3786"
             ],
             [
              0.5555555555555556,
              "#d8576b"
             ],
             [
              0.6666666666666666,
              "#ed7953"
             ],
             [
              0.7777777777777778,
              "#fb9f3a"
             ],
             [
              0.8888888888888888,
              "#fdca26"
             ],
             [
              1,
              "#f0f921"
             ]
            ],
            "type": "histogram2d"
           }
          ],
          "histogram2dcontour": [
           {
            "colorbar": {
             "outlinewidth": 0,
             "ticks": ""
            },
            "colorscale": [
             [
              0,
              "#0d0887"
             ],
             [
              0.1111111111111111,
              "#46039f"
             ],
             [
              0.2222222222222222,
              "#7201a8"
             ],
             [
              0.3333333333333333,
              "#9c179e"
             ],
             [
              0.4444444444444444,
              "#bd3786"
             ],
             [
              0.5555555555555556,
              "#d8576b"
             ],
             [
              0.6666666666666666,
              "#ed7953"
             ],
             [
              0.7777777777777778,
              "#fb9f3a"
             ],
             [
              0.8888888888888888,
              "#fdca26"
             ],
             [
              1,
              "#f0f921"
             ]
            ],
            "type": "histogram2dcontour"
           }
          ],
          "mesh3d": [
           {
            "colorbar": {
             "outlinewidth": 0,
             "ticks": ""
            },
            "type": "mesh3d"
           }
          ],
          "parcoords": [
           {
            "line": {
             "colorbar": {
              "outlinewidth": 0,
              "ticks": ""
             }
            },
            "type": "parcoords"
           }
          ],
          "pie": [
           {
            "automargin": true,
            "type": "pie"
           }
          ],
          "scatter": [
           {
            "fillpattern": {
             "fillmode": "overlay",
             "size": 10,
             "solidity": 0.2
            },
            "type": "scatter"
           }
          ],
          "scatter3d": [
           {
            "line": {
             "colorbar": {
              "outlinewidth": 0,
              "ticks": ""
             }
            },
            "marker": {
             "colorbar": {
              "outlinewidth": 0,
              "ticks": ""
             }
            },
            "type": "scatter3d"
           }
          ],
          "scattercarpet": [
           {
            "marker": {
             "colorbar": {
              "outlinewidth": 0,
              "ticks": ""
             }
            },
            "type": "scattercarpet"
           }
          ],
          "scattergeo": [
           {
            "marker": {
             "colorbar": {
              "outlinewidth": 0,
              "ticks": ""
             }
            },
            "type": "scattergeo"
           }
          ],
          "scattergl": [
           {
            "marker": {
             "colorbar": {
              "outlinewidth": 0,
              "ticks": ""
             }
            },
            "type": "scattergl"
           }
          ],
          "scattermapbox": [
           {
            "marker": {
             "colorbar": {
              "outlinewidth": 0,
              "ticks": ""
             }
            },
            "type": "scattermapbox"
           }
          ],
          "scatterpolar": [
           {
            "marker": {
             "colorbar": {
              "outlinewidth": 0,
              "ticks": ""
             }
            },
            "type": "scatterpolar"
           }
          ],
          "scatterpolargl": [
           {
            "marker": {
             "colorbar": {
              "outlinewidth": 0,
              "ticks": ""
             }
            },
            "type": "scatterpolargl"
           }
          ],
          "scatterternary": [
           {
            "marker": {
             "colorbar": {
              "outlinewidth": 0,
              "ticks": ""
             }
            },
            "type": "scatterternary"
           }
          ],
          "surface": [
           {
            "colorbar": {
             "outlinewidth": 0,
             "ticks": ""
            },
            "colorscale": [
             [
              0,
              "#0d0887"
             ],
             [
              0.1111111111111111,
              "#46039f"
             ],
             [
              0.2222222222222222,
              "#7201a8"
             ],
             [
              0.3333333333333333,
              "#9c179e"
             ],
             [
              0.4444444444444444,
              "#bd3786"
             ],
             [
              0.5555555555555556,
              "#d8576b"
             ],
             [
              0.6666666666666666,
              "#ed7953"
             ],
             [
              0.7777777777777778,
              "#fb9f3a"
             ],
             [
              0.8888888888888888,
              "#fdca26"
             ],
             [
              1,
              "#f0f921"
             ]
            ],
            "type": "surface"
           }
          ],
          "table": [
           {
            "cells": {
             "fill": {
              "color": "#EBF0F8"
             },
             "line": {
              "color": "white"
             }
            },
            "header": {
             "fill": {
              "color": "#C8D4E3"
             },
             "line": {
              "color": "white"
             }
            },
            "type": "table"
           }
          ]
         },
         "layout": {
          "annotationdefaults": {
           "arrowcolor": "#2a3f5f",
           "arrowhead": 0,
           "arrowwidth": 1
          },
          "autotypenumbers": "strict",
          "coloraxis": {
           "colorbar": {
            "outlinewidth": 0,
            "ticks": ""
           }
          },
          "colorscale": {
           "diverging": [
            [
             0,
             "#8e0152"
            ],
            [
             0.1,
             "#c51b7d"
            ],
            [
             0.2,
             "#de77ae"
            ],
            [
             0.3,
             "#f1b6da"
            ],
            [
             0.4,
             "#fde0ef"
            ],
            [
             0.5,
             "#f7f7f7"
            ],
            [
             0.6,
             "#e6f5d0"
            ],
            [
             0.7,
             "#b8e186"
            ],
            [
             0.8,
             "#7fbc41"
            ],
            [
             0.9,
             "#4d9221"
            ],
            [
             1,
             "#276419"
            ]
           ],
           "sequential": [
            [
             0,
             "#0d0887"
            ],
            [
             0.1111111111111111,
             "#46039f"
            ],
            [
             0.2222222222222222,
             "#7201a8"
            ],
            [
             0.3333333333333333,
             "#9c179e"
            ],
            [
             0.4444444444444444,
             "#bd3786"
            ],
            [
             0.5555555555555556,
             "#d8576b"
            ],
            [
             0.6666666666666666,
             "#ed7953"
            ],
            [
             0.7777777777777778,
             "#fb9f3a"
            ],
            [
             0.8888888888888888,
             "#fdca26"
            ],
            [
             1,
             "#f0f921"
            ]
           ],
           "sequentialminus": [
            [
             0,
             "#0d0887"
            ],
            [
             0.1111111111111111,
             "#46039f"
            ],
            [
             0.2222222222222222,
             "#7201a8"
            ],
            [
             0.3333333333333333,
             "#9c179e"
            ],
            [
             0.4444444444444444,
             "#bd3786"
            ],
            [
             0.5555555555555556,
             "#d8576b"
            ],
            [
             0.6666666666666666,
             "#ed7953"
            ],
            [
             0.7777777777777778,
             "#fb9f3a"
            ],
            [
             0.8888888888888888,
             "#fdca26"
            ],
            [
             1,
             "#f0f921"
            ]
           ]
          },
          "colorway": [
           "#636efa",
           "#EF553B",
           "#00cc96",
           "#ab63fa",
           "#FFA15A",
           "#19d3f3",
           "#FF6692",
           "#B6E880",
           "#FF97FF",
           "#FECB52"
          ],
          "font": {
           "color": "#2a3f5f"
          },
          "geo": {
           "bgcolor": "white",
           "lakecolor": "white",
           "landcolor": "#E5ECF6",
           "showlakes": true,
           "showland": true,
           "subunitcolor": "white"
          },
          "hoverlabel": {
           "align": "left"
          },
          "hovermode": "closest",
          "mapbox": {
           "style": "light"
          },
          "paper_bgcolor": "white",
          "plot_bgcolor": "#E5ECF6",
          "polar": {
           "angularaxis": {
            "gridcolor": "white",
            "linecolor": "white",
            "ticks": ""
           },
           "bgcolor": "#E5ECF6",
           "radialaxis": {
            "gridcolor": "white",
            "linecolor": "white",
            "ticks": ""
           }
          },
          "scene": {
           "xaxis": {
            "backgroundcolor": "#E5ECF6",
            "gridcolor": "white",
            "gridwidth": 2,
            "linecolor": "white",
            "showbackground": true,
            "ticks": "",
            "zerolinecolor": "white"
           },
           "yaxis": {
            "backgroundcolor": "#E5ECF6",
            "gridcolor": "white",
            "gridwidth": 2,
            "linecolor": "white",
            "showbackground": true,
            "ticks": "",
            "zerolinecolor": "white"
           },
           "zaxis": {
            "backgroundcolor": "#E5ECF6",
            "gridcolor": "white",
            "gridwidth": 2,
            "linecolor": "white",
            "showbackground": true,
            "ticks": "",
            "zerolinecolor": "white"
           }
          },
          "shapedefaults": {
           "line": {
            "color": "#2a3f5f"
           }
          },
          "ternary": {
           "aaxis": {
            "gridcolor": "white",
            "linecolor": "white",
            "ticks": ""
           },
           "baxis": {
            "gridcolor": "white",
            "linecolor": "white",
            "ticks": ""
           },
           "bgcolor": "#E5ECF6",
           "caxis": {
            "gridcolor": "white",
            "linecolor": "white",
            "ticks": ""
           }
          },
          "title": {
           "x": 0.05
          },
          "xaxis": {
           "automargin": true,
           "gridcolor": "white",
           "linecolor": "white",
           "ticks": "",
           "title": {
            "standoff": 15
           },
           "zerolinecolor": "white",
           "zerolinewidth": 2
          },
          "yaxis": {
           "automargin": true,
           "gridcolor": "white",
           "linecolor": "white",
           "ticks": "",
           "title": {
            "standoff": 15
           },
           "zerolinecolor": "white",
           "zerolinewidth": 2
          }
         }
        },
        "title": {
         "text": "Daily Human Production Count by 10-Year Ranges"
        },
        "xaxis": {
         "anchor": "y",
         "domain": [
          0,
          1
         ],
         "title": {
          "text": "hari_produksi"
         }
        },
        "yaxis": {
         "anchor": "x",
         "domain": [
          0,
          1
         ],
         "title": {
          "text": "count"
         }
        }
       }
      }
     },
     "metadata": {},
     "output_type": "display_data"
    }
   ],
   "source": [
    "fig = px.line(daily_year_group, x='hari_produksi', y='count', color='year_group',\n",
    "              title='Daily Human Production Count by 10-Year Ranges')\n",
    "fig"
   ]
  },
  {
   "cell_type": "code",
   "execution_count": null,
   "metadata": {},
   "outputs": [],
   "source": []
  },
  {
   "cell_type": "code",
   "execution_count": null,
   "metadata": {},
   "outputs": [],
   "source": []
  }
 ],
 "metadata": {
  "kernelspec": {
   "display_name": "Python 3",
   "language": "python",
   "name": "python3"
  },
  "language_info": {
   "codemirror_mode": {
    "name": "ipython",
    "version": 3
   },
   "file_extension": ".py",
   "mimetype": "text/x-python",
   "name": "python",
   "nbconvert_exporter": "python",
   "pygments_lexer": "ipython3",
   "version": "3.11.0"
  },
  "orig_nbformat": 4
 },
 "nbformat": 4,
 "nbformat_minor": 2
}
