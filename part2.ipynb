{
 "cells": [
  {
   "attachments": {},
   "cell_type": "markdown",
   "metadata": {},
   "source": [
    "### Exploration\n",
    "- all name V\n",
    "\n",
    "### column\n",
    "nama, nik, tempatLahir, jenisKelamin, tps, provinsi, kab_kota, \n",
    "\n",
    "kecamatan, desa, newcomer, nama_sunda, nama_jawa, nama_batak, \n",
    "\n",
    "bintang, inisial_r, nama_kristen, umur, tahun_lahir, tanggal_produksi, \n",
    "\n",
    "hari_produksi, unique_location, unique_hash, lat, long, count, unique_location:1,\n",
    "\n",
    " lat:1, long:1, lat_clean, long_clean"
   ]
  },
  {
   "cell_type": "code",
   "execution_count": 1,
   "metadata": {},
   "outputs": [],
   "source": [
    "import pandas as pd\n",
    "import plotly.graph_objects as go\n"
   ]
  },
  {
   "cell_type": "code",
   "execution_count": 2,
   "metadata": {},
   "outputs": [
    {
     "data": {
      "text/html": [
       "<div>\n",
       "<style scoped>\n",
       "    .dataframe tbody tr th:only-of-type {\n",
       "        vertical-align: middle;\n",
       "    }\n",
       "\n",
       "    .dataframe tbody tr th {\n",
       "        vertical-align: top;\n",
       "    }\n",
       "\n",
       "    .dataframe thead th {\n",
       "        text-align: right;\n",
       "    }\n",
       "</style>\n",
       "<table border=\"1\" class=\"dataframe\">\n",
       "  <thead>\n",
       "    <tr style=\"text-align: right;\">\n",
       "      <th></th>\n",
       "      <th>source</th>\n",
       "      <th>target</th>\n",
       "      <th>value</th>\n",
       "    </tr>\n",
       "  </thead>\n",
       "  <tbody>\n",
       "    <tr>\n",
       "      <th>0</th>\n",
       "      <td>AEP</td>\n",
       "      <td>SAEPUL</td>\n",
       "      <td>1485</td>\n",
       "    </tr>\n",
       "    <tr>\n",
       "      <th>1</th>\n",
       "      <td>SAEPUL</td>\n",
       "      <td>MALIK</td>\n",
       "      <td>869</td>\n",
       "    </tr>\n",
       "    <tr>\n",
       "      <th>2</th>\n",
       "      <td>RUDI</td>\n",
       "      <td>SUNDARI</td>\n",
       "      <td>3</td>\n",
       "    </tr>\n",
       "    <tr>\n",
       "      <th>3</th>\n",
       "      <td>ACEP</td>\n",
       "      <td>AAM</td>\n",
       "      <td>8</td>\n",
       "    </tr>\n",
       "    <tr>\n",
       "      <th>4</th>\n",
       "      <td>SARAH</td>\n",
       "      <td>YULIA</td>\n",
       "      <td>8</td>\n",
       "    </tr>\n",
       "    <tr>\n",
       "      <th>...</th>\n",
       "      <td>...</td>\n",
       "      <td>...</td>\n",
       "      <td>...</td>\n",
       "    </tr>\n",
       "    <tr>\n",
       "      <th>7408748</th>\n",
       "      <td>IDA</td>\n",
       "      <td>MUNUMG</td>\n",
       "      <td>1</td>\n",
       "    </tr>\n",
       "    <tr>\n",
       "      <th>7408749</th>\n",
       "      <td>WILSA</td>\n",
       "      <td>NOVA</td>\n",
       "      <td>1</td>\n",
       "    </tr>\n",
       "    <tr>\n",
       "      <th>7408750</th>\n",
       "      <td>DEAN</td>\n",
       "      <td>RAMADAN</td>\n",
       "      <td>1</td>\n",
       "    </tr>\n",
       "    <tr>\n",
       "      <th>7408751</th>\n",
       "      <td>SUKATMA</td>\n",
       "      <td>ISMAIL</td>\n",
       "      <td>1</td>\n",
       "    </tr>\n",
       "    <tr>\n",
       "      <th>7408752</th>\n",
       "      <td>NY</td>\n",
       "      <td>JENAB</td>\n",
       "      <td>1</td>\n",
       "    </tr>\n",
       "  </tbody>\n",
       "</table>\n",
       "<p>7408753 rows × 3 columns</p>\n",
       "</div>"
      ],
      "text/plain": [
       "          source   target  value\n",
       "0            AEP   SAEPUL   1485\n",
       "1         SAEPUL    MALIK    869\n",
       "2           RUDI  SUNDARI      3\n",
       "3           ACEP      AAM      8\n",
       "4          SARAH    YULIA      8\n",
       "...          ...      ...    ...\n",
       "7408748      IDA   MUNUMG      1\n",
       "7408749    WILSA     NOVA      1\n",
       "7408750     DEAN  RAMADAN      1\n",
       "7408751  SUKATMA   ISMAIL      1\n",
       "7408752       NY    JENAB      1\n",
       "\n",
       "[7408753 rows x 3 columns]"
      ]
     },
     "execution_count": 2,
     "metadata": {},
     "output_type": "execute_result"
    }
   ],
   "source": [
    "df = pd.read_csv('name_composition.csv')\n",
    "df"
   ]
  },
  {
   "cell_type": "code",
   "execution_count": 10,
   "metadata": {},
   "outputs": [
    {
     "data": {
      "text/html": [
       "<div>\n",
       "<style scoped>\n",
       "    .dataframe tbody tr th:only-of-type {\n",
       "        vertical-align: middle;\n",
       "    }\n",
       "\n",
       "    .dataframe tbody tr th {\n",
       "        vertical-align: top;\n",
       "    }\n",
       "\n",
       "    .dataframe thead th {\n",
       "        text-align: right;\n",
       "    }\n",
       "</style>\n",
       "<table border=\"1\" class=\"dataframe\">\n",
       "  <thead>\n",
       "    <tr style=\"text-align: right;\">\n",
       "      <th></th>\n",
       "      <th>source</th>\n",
       "      <th>target</th>\n",
       "      <th>value</th>\n",
       "    </tr>\n",
       "  </thead>\n",
       "  <tbody>\n",
       "    <tr>\n",
       "      <th>1051</th>\n",
       "      <td>SITI</td>\n",
       "      <td>AMINAH</td>\n",
       "      <td>22503</td>\n",
       "    </tr>\n",
       "    <tr>\n",
       "      <th>13</th>\n",
       "      <td>SITI</td>\n",
       "      <td>AISAH</td>\n",
       "      <td>22474</td>\n",
       "    </tr>\n",
       "    <tr>\n",
       "      <th>768</th>\n",
       "      <td>SRI</td>\n",
       "      <td>RAHAYU</td>\n",
       "      <td>21051</td>\n",
       "    </tr>\n",
       "    <tr>\n",
       "      <th>1469</th>\n",
       "      <td>ABDUL</td>\n",
       "      <td>ROHMAN</td>\n",
       "      <td>18251</td>\n",
       "    </tr>\n",
       "    <tr>\n",
       "      <th>389</th>\n",
       "      <td>SITI</td>\n",
       "      <td>AISYAH</td>\n",
       "      <td>18048</td>\n",
       "    </tr>\n",
       "    <tr>\n",
       "      <th>6</th>\n",
       "      <td>SITI</td>\n",
       "      <td>NURJANAH</td>\n",
       "      <td>17549</td>\n",
       "    </tr>\n",
       "    <tr>\n",
       "      <th>4932</th>\n",
       "      <td>SRI</td>\n",
       "      <td>WAHYUNI</td>\n",
       "      <td>16400</td>\n",
       "    </tr>\n",
       "    <tr>\n",
       "      <th>2172</th>\n",
       "      <td>SITI</td>\n",
       "      <td>FATIMAH</td>\n",
       "      <td>15591</td>\n",
       "    </tr>\n",
       "    <tr>\n",
       "      <th>1305</th>\n",
       "      <td>IWAN</td>\n",
       "      <td>SETIAWAN</td>\n",
       "      <td>15022</td>\n",
       "    </tr>\n",
       "    <tr>\n",
       "      <th>319</th>\n",
       "      <td>RAHMAT</td>\n",
       "      <td>HIDAYAT</td>\n",
       "      <td>14219</td>\n",
       "    </tr>\n",
       "    <tr>\n",
       "      <th>425</th>\n",
       "      <td>SRI</td>\n",
       "      <td>MULYANI</td>\n",
       "      <td>14018</td>\n",
       "    </tr>\n",
       "    <tr>\n",
       "      <th>915</th>\n",
       "      <td>WAWAN</td>\n",
       "      <td>SETIAWAN</td>\n",
       "      <td>13130</td>\n",
       "    </tr>\n",
       "    <tr>\n",
       "      <th>1744</th>\n",
       "      <td>SITI</td>\n",
       "      <td>ROHMAH</td>\n",
       "      <td>12835</td>\n",
       "    </tr>\n",
       "    <tr>\n",
       "      <th>1275</th>\n",
       "      <td>SITI</td>\n",
       "      <td>MASITOH</td>\n",
       "      <td>12193</td>\n",
       "    </tr>\n",
       "    <tr>\n",
       "      <th>1448</th>\n",
       "      <td>ASEP</td>\n",
       "      <td>SAEPUDIN</td>\n",
       "      <td>11969</td>\n",
       "    </tr>\n",
       "    <tr>\n",
       "      <th>875</th>\n",
       "      <td>EMAN</td>\n",
       "      <td>SULAEMAN</td>\n",
       "      <td>11802</td>\n",
       "    </tr>\n",
       "    <tr>\n",
       "      <th>219</th>\n",
       "      <td>AJAT</td>\n",
       "      <td>SUDRAJAT</td>\n",
       "      <td>11371</td>\n",
       "    </tr>\n",
       "    <tr>\n",
       "      <th>2901</th>\n",
       "      <td>SRI</td>\n",
       "      <td>MULYATI</td>\n",
       "      <td>11326</td>\n",
       "    </tr>\n",
       "    <tr>\n",
       "      <th>831</th>\n",
       "      <td>IDA</td>\n",
       "      <td>FARIDA</td>\n",
       "      <td>10926</td>\n",
       "    </tr>\n",
       "    <tr>\n",
       "      <th>2245</th>\n",
       "      <td>SITI</td>\n",
       "      <td>PATIMAH</td>\n",
       "      <td>10827</td>\n",
       "    </tr>\n",
       "  </tbody>\n",
       "</table>\n",
       "</div>"
      ],
      "text/plain": [
       "      source    target  value\n",
       "1051    SITI    AMINAH  22503\n",
       "13      SITI     AISAH  22474\n",
       "768      SRI    RAHAYU  21051\n",
       "1469   ABDUL    ROHMAN  18251\n",
       "389     SITI    AISYAH  18048\n",
       "6       SITI  NURJANAH  17549\n",
       "4932     SRI   WAHYUNI  16400\n",
       "2172    SITI   FATIMAH  15591\n",
       "1305    IWAN  SETIAWAN  15022\n",
       "319   RAHMAT   HIDAYAT  14219\n",
       "425      SRI   MULYANI  14018\n",
       "915    WAWAN  SETIAWAN  13130\n",
       "1744    SITI    ROHMAH  12835\n",
       "1275    SITI   MASITOH  12193\n",
       "1448    ASEP  SAEPUDIN  11969\n",
       "875     EMAN  SULAEMAN  11802\n",
       "219     AJAT  SUDRAJAT  11371\n",
       "2901     SRI   MULYATI  11326\n",
       "831      IDA    FARIDA  10926\n",
       "2245    SITI   PATIMAH  10827"
      ]
     },
     "execution_count": 10,
     "metadata": {},
     "output_type": "execute_result"
    }
   ],
   "source": [
    "name_nodes_df_filtered = df.sort_values('value',ascending=False).head(20)\n",
    "name_nodes_df_filtered"
   ]
  },
  {
   "cell_type": "code",
   "execution_count": 11,
   "metadata": {},
   "outputs": [
    {
     "data": {
      "application/vnd.plotly.v1+json": {
       "config": {
        "plotlyServerURL": "https://plot.ly"
       },
       "data": [
        {
         "link": {
          "source": [
           0,
           0,
           1,
           2,
           0,
           0,
           1,
           0,
           3,
           4,
           1,
           5,
           0,
           0,
           6,
           7,
           8,
           1,
           9,
           0
          ],
          "target": [
           10,
           11,
           12,
           13,
           14,
           15,
           16,
           17,
           18,
           19,
           20,
           18,
           21,
           22,
           23,
           24,
           25,
           26,
           27,
           28
          ],
          "value": [
           22503,
           22474,
           21051,
           18251,
           18048,
           17549,
           16400,
           15591,
           15022,
           14219,
           14018,
           13130,
           12835,
           12193,
           11969,
           11802,
           11371,
           11326,
           10926,
           10827
          ]
         },
         "node": {
          "label": [
           "SITI",
           "SRI",
           "ABDUL",
           "IWAN",
           "RAHMAT",
           "WAWAN",
           "ASEP",
           "EMAN",
           "AJAT",
           "IDA",
           "AMINAH",
           "AISAH",
           "RAHAYU",
           "ROHMAN",
           "AISYAH",
           "NURJANAH",
           "WAHYUNI",
           "FATIMAH",
           "SETIAWAN",
           "HIDAYAT",
           "MULYANI",
           "ROHMAH",
           "MASITOH",
           "SAEPUDIN",
           "SULAEMAN",
           "SUDRAJAT",
           "MULYATI",
           "FARIDA",
           "PATIMAH"
          ],
          "line": {
           "color": "black",
           "width": 0.5
          },
          "pad": 15,
          "thickness": 20
         },
         "type": "sankey"
        }
       ],
       "layout": {
        "font": {
         "size": 12
        },
        "template": {
         "data": {
          "bar": [
           {
            "error_x": {
             "color": "#2a3f5f"
            },
            "error_y": {
             "color": "#2a3f5f"
            },
            "marker": {
             "line": {
              "color": "#E5ECF6",
              "width": 0.5
             },
             "pattern": {
              "fillmode": "overlay",
              "size": 10,
              "solidity": 0.2
             }
            },
            "type": "bar"
           }
          ],
          "barpolar": [
           {
            "marker": {
             "line": {
              "color": "#E5ECF6",
              "width": 0.5
             },
             "pattern": {
              "fillmode": "overlay",
              "size": 10,
              "solidity": 0.2
             }
            },
            "type": "barpolar"
           }
          ],
          "carpet": [
           {
            "aaxis": {
             "endlinecolor": "#2a3f5f",
             "gridcolor": "white",
             "linecolor": "white",
             "minorgridcolor": "white",
             "startlinecolor": "#2a3f5f"
            },
            "baxis": {
             "endlinecolor": "#2a3f5f",
             "gridcolor": "white",
             "linecolor": "white",
             "minorgridcolor": "white",
             "startlinecolor": "#2a3f5f"
            },
            "type": "carpet"
           }
          ],
          "choropleth": [
           {
            "colorbar": {
             "outlinewidth": 0,
             "ticks": ""
            },
            "type": "choropleth"
           }
          ],
          "contour": [
           {
            "colorbar": {
             "outlinewidth": 0,
             "ticks": ""
            },
            "colorscale": [
             [
              0,
              "#0d0887"
             ],
             [
              0.1111111111111111,
              "#46039f"
             ],
             [
              0.2222222222222222,
              "#7201a8"
             ],
             [
              0.3333333333333333,
              "#9c179e"
             ],
             [
              0.4444444444444444,
              "#bd3786"
             ],
             [
              0.5555555555555556,
              "#d8576b"
             ],
             [
              0.6666666666666666,
              "#ed7953"
             ],
             [
              0.7777777777777778,
              "#fb9f3a"
             ],
             [
              0.8888888888888888,
              "#fdca26"
             ],
             [
              1,
              "#f0f921"
             ]
            ],
            "type": "contour"
           }
          ],
          "contourcarpet": [
           {
            "colorbar": {
             "outlinewidth": 0,
             "ticks": ""
            },
            "type": "contourcarpet"
           }
          ],
          "heatmap": [
           {
            "colorbar": {
             "outlinewidth": 0,
             "ticks": ""
            },
            "colorscale": [
             [
              0,
              "#0d0887"
             ],
             [
              0.1111111111111111,
              "#46039f"
             ],
             [
              0.2222222222222222,
              "#7201a8"
             ],
             [
              0.3333333333333333,
              "#9c179e"
             ],
             [
              0.4444444444444444,
              "#bd3786"
             ],
             [
              0.5555555555555556,
              "#d8576b"
             ],
             [
              0.6666666666666666,
              "#ed7953"
             ],
             [
              0.7777777777777778,
              "#fb9f3a"
             ],
             [
              0.8888888888888888,
              "#fdca26"
             ],
             [
              1,
              "#f0f921"
             ]
            ],
            "type": "heatmap"
           }
          ],
          "heatmapgl": [
           {
            "colorbar": {
             "outlinewidth": 0,
             "ticks": ""
            },
            "colorscale": [
             [
              0,
              "#0d0887"
             ],
             [
              0.1111111111111111,
              "#46039f"
             ],
             [
              0.2222222222222222,
              "#7201a8"
             ],
             [
              0.3333333333333333,
              "#9c179e"
             ],
             [
              0.4444444444444444,
              "#bd3786"
             ],
             [
              0.5555555555555556,
              "#d8576b"
             ],
             [
              0.6666666666666666,
              "#ed7953"
             ],
             [
              0.7777777777777778,
              "#fb9f3a"
             ],
             [
              0.8888888888888888,
              "#fdca26"
             ],
             [
              1,
              "#f0f921"
             ]
            ],
            "type": "heatmapgl"
           }
          ],
          "histogram": [
           {
            "marker": {
             "pattern": {
              "fillmode": "overlay",
              "size": 10,
              "solidity": 0.2
             }
            },
            "type": "histogram"
           }
          ],
          "histogram2d": [
           {
            "colorbar": {
             "outlinewidth": 0,
             "ticks": ""
            },
            "colorscale": [
             [
              0,
              "#0d0887"
             ],
             [
              0.1111111111111111,
              "#46039f"
             ],
             [
              0.2222222222222222,
              "#7201a8"
             ],
             [
              0.3333333333333333,
              "#9c179e"
             ],
             [
              0.4444444444444444,
              "#bd3786"
             ],
             [
              0.5555555555555556,
              "#d8576b"
             ],
             [
              0.6666666666666666,
              "#ed7953"
             ],
             [
              0.7777777777777778,
              "#fb9f3a"
             ],
             [
              0.8888888888888888,
              "#fdca26"
             ],
             [
              1,
              "#f0f921"
             ]
            ],
            "type": "histogram2d"
           }
          ],
          "histogram2dcontour": [
           {
            "colorbar": {
             "outlinewidth": 0,
             "ticks": ""
            },
            "colorscale": [
             [
              0,
              "#0d0887"
             ],
             [
              0.1111111111111111,
              "#46039f"
             ],
             [
              0.2222222222222222,
              "#7201a8"
             ],
             [
              0.3333333333333333,
              "#9c179e"
             ],
             [
              0.4444444444444444,
              "#bd3786"
             ],
             [
              0.5555555555555556,
              "#d8576b"
             ],
             [
              0.6666666666666666,
              "#ed7953"
             ],
             [
              0.7777777777777778,
              "#fb9f3a"
             ],
             [
              0.8888888888888888,
              "#fdca26"
             ],
             [
              1,
              "#f0f921"
             ]
            ],
            "type": "histogram2dcontour"
           }
          ],
          "mesh3d": [
           {
            "colorbar": {
             "outlinewidth": 0,
             "ticks": ""
            },
            "type": "mesh3d"
           }
          ],
          "parcoords": [
           {
            "line": {
             "colorbar": {
              "outlinewidth": 0,
              "ticks": ""
             }
            },
            "type": "parcoords"
           }
          ],
          "pie": [
           {
            "automargin": true,
            "type": "pie"
           }
          ],
          "scatter": [
           {
            "fillpattern": {
             "fillmode": "overlay",
             "size": 10,
             "solidity": 0.2
            },
            "type": "scatter"
           }
          ],
          "scatter3d": [
           {
            "line": {
             "colorbar": {
              "outlinewidth": 0,
              "ticks": ""
             }
            },
            "marker": {
             "colorbar": {
              "outlinewidth": 0,
              "ticks": ""
             }
            },
            "type": "scatter3d"
           }
          ],
          "scattercarpet": [
           {
            "marker": {
             "colorbar": {
              "outlinewidth": 0,
              "ticks": ""
             }
            },
            "type": "scattercarpet"
           }
          ],
          "scattergeo": [
           {
            "marker": {
             "colorbar": {
              "outlinewidth": 0,
              "ticks": ""
             }
            },
            "type": "scattergeo"
           }
          ],
          "scattergl": [
           {
            "marker": {
             "colorbar": {
              "outlinewidth": 0,
              "ticks": ""
             }
            },
            "type": "scattergl"
           }
          ],
          "scattermapbox": [
           {
            "marker": {
             "colorbar": {
              "outlinewidth": 0,
              "ticks": ""
             }
            },
            "type": "scattermapbox"
           }
          ],
          "scatterpolar": [
           {
            "marker": {
             "colorbar": {
              "outlinewidth": 0,
              "ticks": ""
             }
            },
            "type": "scatterpolar"
           }
          ],
          "scatterpolargl": [
           {
            "marker": {
             "colorbar": {
              "outlinewidth": 0,
              "ticks": ""
             }
            },
            "type": "scatterpolargl"
           }
          ],
          "scatterternary": [
           {
            "marker": {
             "colorbar": {
              "outlinewidth": 0,
              "ticks": ""
             }
            },
            "type": "scatterternary"
           }
          ],
          "surface": [
           {
            "colorbar": {
             "outlinewidth": 0,
             "ticks": ""
            },
            "colorscale": [
             [
              0,
              "#0d0887"
             ],
             [
              0.1111111111111111,
              "#46039f"
             ],
             [
              0.2222222222222222,
              "#7201a8"
             ],
             [
              0.3333333333333333,
              "#9c179e"
             ],
             [
              0.4444444444444444,
              "#bd3786"
             ],
             [
              0.5555555555555556,
              "#d8576b"
             ],
             [
              0.6666666666666666,
              "#ed7953"
             ],
             [
              0.7777777777777778,
              "#fb9f3a"
             ],
             [
              0.8888888888888888,
              "#fdca26"
             ],
             [
              1,
              "#f0f921"
             ]
            ],
            "type": "surface"
           }
          ],
          "table": [
           {
            "cells": {
             "fill": {
              "color": "#EBF0F8"
             },
             "line": {
              "color": "white"
             }
            },
            "header": {
             "fill": {
              "color": "#C8D4E3"
             },
             "line": {
              "color": "white"
             }
            },
            "type": "table"
           }
          ]
         },
         "layout": {
          "annotationdefaults": {
           "arrowcolor": "#2a3f5f",
           "arrowhead": 0,
           "arrowwidth": 1
          },
          "autotypenumbers": "strict",
          "coloraxis": {
           "colorbar": {
            "outlinewidth": 0,
            "ticks": ""
           }
          },
          "colorscale": {
           "diverging": [
            [
             0,
             "#8e0152"
            ],
            [
             0.1,
             "#c51b7d"
            ],
            [
             0.2,
             "#de77ae"
            ],
            [
             0.3,
             "#f1b6da"
            ],
            [
             0.4,
             "#fde0ef"
            ],
            [
             0.5,
             "#f7f7f7"
            ],
            [
             0.6,
             "#e6f5d0"
            ],
            [
             0.7,
             "#b8e186"
            ],
            [
             0.8,
             "#7fbc41"
            ],
            [
             0.9,
             "#4d9221"
            ],
            [
             1,
             "#276419"
            ]
           ],
           "sequential": [
            [
             0,
             "#0d0887"
            ],
            [
             0.1111111111111111,
             "#46039f"
            ],
            [
             0.2222222222222222,
             "#7201a8"
            ],
            [
             0.3333333333333333,
             "#9c179e"
            ],
            [
             0.4444444444444444,
             "#bd3786"
            ],
            [
             0.5555555555555556,
             "#d8576b"
            ],
            [
             0.6666666666666666,
             "#ed7953"
            ],
            [
             0.7777777777777778,
             "#fb9f3a"
            ],
            [
             0.8888888888888888,
             "#fdca26"
            ],
            [
             1,
             "#f0f921"
            ]
           ],
           "sequentialminus": [
            [
             0,
             "#0d0887"
            ],
            [
             0.1111111111111111,
             "#46039f"
            ],
            [
             0.2222222222222222,
             "#7201a8"
            ],
            [
             0.3333333333333333,
             "#9c179e"
            ],
            [
             0.4444444444444444,
             "#bd3786"
            ],
            [
             0.5555555555555556,
             "#d8576b"
            ],
            [
             0.6666666666666666,
             "#ed7953"
            ],
            [
             0.7777777777777778,
             "#fb9f3a"
            ],
            [
             0.8888888888888888,
             "#fdca26"
            ],
            [
             1,
             "#f0f921"
            ]
           ]
          },
          "colorway": [
           "#636efa",
           "#EF553B",
           "#00cc96",
           "#ab63fa",
           "#FFA15A",
           "#19d3f3",
           "#FF6692",
           "#B6E880",
           "#FF97FF",
           "#FECB52"
          ],
          "font": {
           "color": "#2a3f5f"
          },
          "geo": {
           "bgcolor": "white",
           "lakecolor": "white",
           "landcolor": "#E5ECF6",
           "showlakes": true,
           "showland": true,
           "subunitcolor": "white"
          },
          "hoverlabel": {
           "align": "left"
          },
          "hovermode": "closest",
          "mapbox": {
           "style": "light"
          },
          "paper_bgcolor": "white",
          "plot_bgcolor": "#E5ECF6",
          "polar": {
           "angularaxis": {
            "gridcolor": "white",
            "linecolor": "white",
            "ticks": ""
           },
           "bgcolor": "#E5ECF6",
           "radialaxis": {
            "gridcolor": "white",
            "linecolor": "white",
            "ticks": ""
           }
          },
          "scene": {
           "xaxis": {
            "backgroundcolor": "#E5ECF6",
            "gridcolor": "white",
            "gridwidth": 2,
            "linecolor": "white",
            "showbackground": true,
            "ticks": "",
            "zerolinecolor": "white"
           },
           "yaxis": {
            "backgroundcolor": "#E5ECF6",
            "gridcolor": "white",
            "gridwidth": 2,
            "linecolor": "white",
            "showbackground": true,
            "ticks": "",
            "zerolinecolor": "white"
           },
           "zaxis": {
            "backgroundcolor": "#E5ECF6",
            "gridcolor": "white",
            "gridwidth": 2,
            "linecolor": "white",
            "showbackground": true,
            "ticks": "",
            "zerolinecolor": "white"
           }
          },
          "shapedefaults": {
           "line": {
            "color": "#2a3f5f"
           }
          },
          "ternary": {
           "aaxis": {
            "gridcolor": "white",
            "linecolor": "white",
            "ticks": ""
           },
           "baxis": {
            "gridcolor": "white",
            "linecolor": "white",
            "ticks": ""
           },
           "bgcolor": "#E5ECF6",
           "caxis": {
            "gridcolor": "white",
            "linecolor": "white",
            "ticks": ""
           }
          },
          "title": {
           "x": 0.05
          },
          "xaxis": {
           "automargin": true,
           "gridcolor": "white",
           "linecolor": "white",
           "ticks": "",
           "title": {
            "standoff": 15
           },
           "zerolinecolor": "white",
           "zerolinewidth": 2
          },
          "yaxis": {
           "automargin": true,
           "gridcolor": "white",
           "linecolor": "white",
           "ticks": "",
           "title": {
            "standoff": 15
           },
           "zerolinecolor": "white",
           "zerolinewidth": 2
          }
         }
        },
        "title": {
         "text": "Sankey Diagram"
        }
       }
      }
     },
     "metadata": {},
     "output_type": "display_data"
    }
   ],
   "source": [
    "import plotly.graph_objects as go\n",
    "import pandas as pd\n",
    "\n",
    "# Sample DataFrame\n",
    "sample_df = pd.DataFrame({\n",
    "    'source': ['Node A', 'Node A', 'Node B', 'Node C', 'Node C'],\n",
    "    'target': ['Node B', 'Node C', 'Node D', 'Node E', 'Node F'],\n",
    "    'value': [10, 5, 15, 8, 12]\n",
    "})\n",
    "\n",
    "# Define nodes and links\n",
    "nodes = pd.unique(name_nodes_df_filtered[['source', 'target']].values.ravel('K'))\n",
    "links = name_nodes_df_filtered[['source', 'target', 'value']]\n",
    "\n",
    "# Create Sankey diagram\n",
    "fig = go.Figure(data=[go.Sankey(\n",
    "    node=dict(\n",
    "        pad=15,\n",
    "        thickness=20,\n",
    "        line=dict(color='black', width=0.5),\n",
    "        label=nodes\n",
    "    ),\n",
    "    link=dict(\n",
    "        source=links['source'].map(lambda x: nodes.tolist().index(x)),\n",
    "        target=links['target'].map(lambda x: nodes.tolist().index(x)),\n",
    "        value=links['value']\n",
    "    )\n",
    ")])\n",
    "\n",
    "# Customize the appearance of the diagram\n",
    "fig.update_layout(title_text='Sankey Diagram', font=dict(size=12))\n",
    "\n",
    "# Show the plot\n",
    "fig.show()\n"
   ]
  },
  {
   "cell_type": "code",
   "execution_count": 3,
   "metadata": {},
   "outputs": [
    {
     "data": {
      "text/html": [
       "<div>\n",
       "<style scoped>\n",
       "    .dataframe tbody tr th:only-of-type {\n",
       "        vertical-align: middle;\n",
       "    }\n",
       "\n",
       "    .dataframe tbody tr th {\n",
       "        vertical-align: top;\n",
       "    }\n",
       "\n",
       "    .dataframe thead th {\n",
       "        text-align: right;\n",
       "    }\n",
       "</style>\n",
       "<table border=\"1\" class=\"dataframe\">\n",
       "  <thead>\n",
       "    <tr style=\"text-align: right;\">\n",
       "      <th></th>\n",
       "      <th>nama</th>\n",
       "      <th>unique</th>\n",
       "      <th>1stname</th>\n",
       "      <th>2ndname</th>\n",
       "      <th>3rdname</th>\n",
       "      <th>4thname</th>\n",
       "      <th>5thname</th>\n",
       "      <th>lastname1</th>\n",
       "      <th>lastname2</th>\n",
       "      <th>lastname3</th>\n",
       "      <th>lastname4</th>\n",
       "      <th>lastname5</th>\n",
       "    </tr>\n",
       "  </thead>\n",
       "  <tbody>\n",
       "    <tr>\n",
       "      <th>0</th>\n",
       "      <td>NYANYAH</td>\n",
       "      <td>NaN</td>\n",
       "      <td>NYANYAH</td>\n",
       "      <td>NaN</td>\n",
       "      <td>NaN</td>\n",
       "      <td>NaN</td>\n",
       "      <td>NaN</td>\n",
       "      <td>NYANYAH</td>\n",
       "      <td>NaN</td>\n",
       "      <td>NaN</td>\n",
       "      <td>NaN</td>\n",
       "      <td>NaN</td>\n",
       "    </tr>\n",
       "    <tr>\n",
       "      <th>1</th>\n",
       "      <td>JALALUDIN</td>\n",
       "      <td>NaN</td>\n",
       "      <td>JALALUDIN</td>\n",
       "      <td>NaN</td>\n",
       "      <td>NaN</td>\n",
       "      <td>NaN</td>\n",
       "      <td>NaN</td>\n",
       "      <td>JALALUDIN</td>\n",
       "      <td>NaN</td>\n",
       "      <td>NaN</td>\n",
       "      <td>NaN</td>\n",
       "      <td>NaN</td>\n",
       "    </tr>\n",
       "    <tr>\n",
       "      <th>2</th>\n",
       "      <td>AEP SAEPUL MALIK</td>\n",
       "      <td>AEP</td>\n",
       "      <td>AEP</td>\n",
       "      <td>SAEPUL</td>\n",
       "      <td>MALIK</td>\n",
       "      <td>NaN</td>\n",
       "      <td>NaN</td>\n",
       "      <td>MALIK</td>\n",
       "      <td>SAEPUL</td>\n",
       "      <td>AEP</td>\n",
       "      <td>NaN</td>\n",
       "      <td>NaN</td>\n",
       "    </tr>\n",
       "  </tbody>\n",
       "</table>\n",
       "</div>"
      ],
      "text/plain": [
       "               nama unique    1stname 2ndname 3rdname 4thname 5thname   \n",
       "0           NYANYAH    NaN    NYANYAH     NaN     NaN     NaN     NaN  \\\n",
       "1         JALALUDIN    NaN  JALALUDIN     NaN     NaN     NaN     NaN   \n",
       "2  AEP SAEPUL MALIK    AEP        AEP  SAEPUL   MALIK     NaN     NaN   \n",
       "\n",
       "   lastname1 lastname2 lastname3 lastname4 lastname5  \n",
       "0    NYANYAH       NaN       NaN       NaN       NaN  \n",
       "1  JALALUDIN       NaN       NaN       NaN       NaN  \n",
       "2      MALIK    SAEPUL       AEP       NaN       NaN  "
      ]
     },
     "execution_count": 3,
     "metadata": {},
     "output_type": "execute_result"
    }
   ],
   "source": [
    "names = pd.read_csv('names.csv')\n",
    "names.head(3)"
   ]
  },
  {
   "cell_type": "code",
   "execution_count": 21,
   "metadata": {},
   "outputs": [
    {
     "data": {
      "text/html": [
       "<div>\n",
       "<style scoped>\n",
       "    .dataframe tbody tr th:only-of-type {\n",
       "        vertical-align: middle;\n",
       "    }\n",
       "\n",
       "    .dataframe tbody tr th {\n",
       "        vertical-align: top;\n",
       "    }\n",
       "\n",
       "    .dataframe thead th {\n",
       "        text-align: right;\n",
       "    }\n",
       "</style>\n",
       "<table border=\"1\" class=\"dataframe\">\n",
       "  <thead>\n",
       "    <tr style=\"text-align: right;\">\n",
       "      <th></th>\n",
       "      <th>source</th>\n",
       "      <th>target</th>\n",
       "      <th>value</th>\n",
       "    </tr>\n",
       "  </thead>\n",
       "  <tbody>\n",
       "    <tr>\n",
       "      <th>0</th>\n",
       "      <td>MALIK</td>\n",
       "      <td>SAEPUL</td>\n",
       "      <td>484</td>\n",
       "    </tr>\n",
       "    <tr>\n",
       "      <th>1</th>\n",
       "      <td>SAEPUL</td>\n",
       "      <td>AEP</td>\n",
       "      <td>817</td>\n",
       "    </tr>\n",
       "    <tr>\n",
       "      <th>2</th>\n",
       "      <td>SUNDARI</td>\n",
       "      <td>RUDI</td>\n",
       "      <td>2</td>\n",
       "    </tr>\n",
       "    <tr>\n",
       "      <th>3</th>\n",
       "      <td>AAM</td>\n",
       "      <td>ACEP</td>\n",
       "      <td>4</td>\n",
       "    </tr>\n",
       "    <tr>\n",
       "      <th>4</th>\n",
       "      <td>YULIA</td>\n",
       "      <td>SARAH</td>\n",
       "      <td>6</td>\n",
       "    </tr>\n",
       "    <tr>\n",
       "      <th>...</th>\n",
       "      <td>...</td>\n",
       "      <td>...</td>\n",
       "      <td>...</td>\n",
       "    </tr>\n",
       "    <tr>\n",
       "      <th>5289903</th>\n",
       "      <td>FACHRIZAL</td>\n",
       "      <td>RATNO</td>\n",
       "      <td>1</td>\n",
       "    </tr>\n",
       "    <tr>\n",
       "      <th>5289904</th>\n",
       "      <td>RAHARDJO</td>\n",
       "      <td>TJAHYONO</td>\n",
       "      <td>1</td>\n",
       "    </tr>\n",
       "    <tr>\n",
       "      <th>5289905</th>\n",
       "      <td>AHADIN</td>\n",
       "      <td>FAJAR</td>\n",
       "      <td>1</td>\n",
       "    </tr>\n",
       "    <tr>\n",
       "      <th>5289906</th>\n",
       "      <td>SHOLIHAH</td>\n",
       "      <td>THOATIN</td>\n",
       "      <td>1</td>\n",
       "    </tr>\n",
       "    <tr>\n",
       "      <th>5289907</th>\n",
       "      <td>THOATIN</td>\n",
       "      <td>KHORI</td>\n",
       "      <td>1</td>\n",
       "    </tr>\n",
       "  </tbody>\n",
       "</table>\n",
       "<p>5289908 rows × 3 columns</p>\n",
       "</div>"
      ],
      "text/plain": [
       "            source    target  value\n",
       "0            MALIK    SAEPUL    484\n",
       "1           SAEPUL       AEP    817\n",
       "2          SUNDARI      RUDI      2\n",
       "3              AAM      ACEP      4\n",
       "4            YULIA     SARAH      6\n",
       "...            ...       ...    ...\n",
       "5289903  FACHRIZAL     RATNO      1\n",
       "5289904   RAHARDJO  TJAHYONO      1\n",
       "5289905     AHADIN     FAJAR      1\n",
       "5289906   SHOLIHAH   THOATIN      1\n",
       "5289907    THOATIN     KHORI      1\n",
       "\n",
       "[5289908 rows x 3 columns]"
      ]
     },
     "execution_count": 21,
     "metadata": {},
     "output_type": "execute_result"
    }
   ],
   "source": [
    "name_nodes = {}\n",
    "def create_node(row,key1,key2):\n",
    "    return dict(\n",
    "                source=row[key1],\n",
    "                target=row[key2],\n",
    "                value=1\n",
    "            )\n",
    "def name_nodes_append(name_nodes,row,key1,key2):\n",
    "    if type(row[key1]) == str and type(row[key2]) == str:\n",
    "        key = row[key1]+'_'+row[key2]\n",
    "        if key not in name_nodes:\n",
    "            name_nodes[key] = create_node(row,key1,key2)\n",
    "        else:\n",
    "            name_nodes[key]['value'] += 1\n",
    "\n",
    "    return name_nodes\n",
    "\n",
    "for id,row in names[['lastname1','lastname2','lastname3','lastname4','lastname5']].iterrows():\n",
    "    name_nodes = name_nodes_append(name_nodes,row,'lastname1','lastname2')\n",
    "    name_nodes = name_nodes_append(name_nodes,row,'lastname2','lastname3')\n",
    "    name_nodes = name_nodes_append(name_nodes,row,'lastname3','lastname4')\n",
    "    name_nodes = name_nodes_append(name_nodes,row,'lastname4','lastname5')\n",
    "\n",
    "    \n",
    "name_nodes_df = pd.DataFrame([name_nodes[key] for key in name_nodes])\n",
    "name_nodes_df"
   ]
  },
  {
   "cell_type": "code",
   "execution_count": 22,
   "metadata": {},
   "outputs": [],
   "source": [
    "name_nodes_df.to_csv('name_composition2.csv',index=False)"
   ]
  },
  {
   "cell_type": "code",
   "execution_count": 2,
   "metadata": {},
   "outputs": [
    {
     "data": {
      "text/html": [
       "<div>\n",
       "<style scoped>\n",
       "    .dataframe tbody tr th:only-of-type {\n",
       "        vertical-align: middle;\n",
       "    }\n",
       "\n",
       "    .dataframe tbody tr th {\n",
       "        vertical-align: top;\n",
       "    }\n",
       "\n",
       "    .dataframe thead th {\n",
       "        text-align: right;\n",
       "    }\n",
       "</style>\n",
       "<table border=\"1\" class=\"dataframe\">\n",
       "  <thead>\n",
       "    <tr style=\"text-align: right;\">\n",
       "      <th></th>\n",
       "      <th>source</th>\n",
       "      <th>target</th>\n",
       "      <th>value</th>\n",
       "    </tr>\n",
       "  </thead>\n",
       "  <tbody>\n",
       "    <tr>\n",
       "      <th>0</th>\n",
       "      <td>MALIK</td>\n",
       "      <td>SAEPUL</td>\n",
       "      <td>484</td>\n",
       "    </tr>\n",
       "    <tr>\n",
       "      <th>1</th>\n",
       "      <td>SAEPUL</td>\n",
       "      <td>AEP</td>\n",
       "      <td>817</td>\n",
       "    </tr>\n",
       "  </tbody>\n",
       "</table>\n",
       "</div>"
      ],
      "text/plain": [
       "   source  target  value\n",
       "0   MALIK  SAEPUL    484\n",
       "1  SAEPUL     AEP    817"
      ]
     },
     "execution_count": 2,
     "metadata": {},
     "output_type": "execute_result"
    }
   ],
   "source": [
    "name_nodes_df = pd.read_csv('name_composition2.csv')\n",
    "name_nodes_df.head(2)"
   ]
  },
  {
   "cell_type": "code",
   "execution_count": 25,
   "metadata": {},
   "outputs": [
    {
     "data": {
      "text/plain": [
       "lastname1\n",
       "HIDAYAT      107315\n",
       "SETIAWAN      88841\n",
       "NURHAYATI     86235\n",
       "SARI          84426\n",
       "GUNAWAN       61690\n",
       "MAULANA       54404\n",
       "SUPRIATNA     52573\n",
       "S             50883\n",
       "SUMIATI       50428\n",
       "MULYANA       50407\n",
       "SAEPUDIN      48975\n",
       "LESTARI       48961\n",
       "SURYANA       48239\n",
       "SAPUTRA       48023\n",
       "HERMAWAN      48017\n",
       "Name: count, dtype: int64"
      ]
     },
     "execution_count": 25,
     "metadata": {},
     "output_type": "execute_result"
    }
   ],
   "source": [
    "names['lastname1'].value_counts(ascending=False).head(15)"
   ]
  },
  {
   "cell_type": "code",
   "execution_count": 90,
   "metadata": {},
   "outputs": [
    {
     "name": "stderr",
     "output_type": "stream",
     "text": [
      "5it [09:23, 112.72s/it]\n"
     ]
    },
    {
     "data": {
      "text/plain": [
       "{('HIDAYAT',\n",
       "  172827): {('RAHMAT', 13974): {('ASEP', 270): {},\n",
       "   ('ADE', 127): {},\n",
       "   ('DEDE', 123): {},\n",
       "   ('AGUS', 82): {},\n",
       "   ('UJANG', 75): {}}, ('TAUFIK', 8481): {('MUHAMAD', 138): {},\n",
       "   ('ASEP', 91): {},\n",
       "   ('MUHAMMAD', 83): {('ASEP', 1): []},\n",
       "   ('AHMAD', 62): {('ASEP', 1): []},\n",
       "   ('AGUS', 40): {('MOHAMAD', 1): []}}, ('SARIP', 5225): {('ASEP', 159): {},\n",
       "   ('YAYAT', 69): {('U', 1): [], ('RD', 1): []},\n",
       "   ('IIP', 63): {('ASEP', 1): []},\n",
       "   ('DEDE', 62): {},\n",
       "   ('AHMAD', 54): {}}, ('YAYAT', 4898): {('ASEP', 27): {},\n",
       "   ('ADE', 17): {('M', 1): []},\n",
       "   ('UJANG', 10): {},\n",
       "   ('H', 10): {},\n",
       "   ('DEDEN', 6): {}}, ('AHMAD', 4353): {('ASEP', 91): {},\n",
       "   ('YAYAT', 52): {},\n",
       "   ('DEDE', 42): {},\n",
       "   ('ADE', 33): {},\n",
       "   ('UJANG', 31): {}}},\n",
       " ('NURHAYATI',\n",
       "  142130): {('SITI', 7426): {('AI', 109): {('HJ', 1): []},\n",
       "   ('NENG', 56): {},\n",
       "   ('IMAS', 27): {},\n",
       "   ('EUIS', 26): {},\n",
       "   ('YATI', 22): {}}, ('NUNUNG', 5307): {('HJ', 17): {('DRA', 1): []},\n",
       "   ('SITI', 5): {},\n",
       "   ('DEDE', 5): {},\n",
       "   ('ADE', 4): {},\n",
       "   ('AI', 4): {('HJ', 1): []}}, ('AI', 3850): {('SITI', 7): {},\n",
       "   ('HJ', 7): {},\n",
       "   ('NENG', 4): {},\n",
       "   ('ENENG', 3): {},\n",
       "   ('NENENG', 2): {}}, ('YATI', 3747): {('AI', 12): {},\n",
       "   ('HJ', 11): {},\n",
       "   ('ENOK', 5): {},\n",
       "   ('SITI', 5): {},\n",
       "   ('ADE', 3): {}}, ('TATI', 2791): {('AI', 25): {},\n",
       "   ('NENG', 10): {},\n",
       "   ('HJ', 9): {},\n",
       "   ('EUIS', 9): {},\n",
       "   ('ADE', 6): {}}},\n",
       " ('SETIAWAN',\n",
       "  136935): {('IWAN', 14776): {('ASEP', 81): {},\n",
       "   ('ADE', 25): {('OLLS', 1): []},\n",
       "   ('DEDE', 23): {},\n",
       "   ('AGUS', 22): {},\n",
       "   ('CECEP', 9): {}}, ('WAWAN', 13000): {('ASEP', 98): {('H', 2): []},\n",
       "   ('ADE', 19): {},\n",
       "   ('AGUS', 16): {},\n",
       "   ('DEDE', 10): {},\n",
       "   ('ACEP', 8): {}}, ('AGUS', 7933): {('WAWAN', 28): {},\n",
       "   ('MUHAMAD', 27): {},\n",
       "   ('IWAN', 26): {},\n",
       "   ('ASEP', 14): {},\n",
       "   ('DENI', 14): {('IMANUEL', 1): [], ('MOHAMAD', 1): []}}, ('ASEP',\n",
       "   2704): {('H', 6): {}, ('DRS', 2): {}, ('DENI', 2): {}, ('BUDI',\n",
       "    2): {}, ('MUHAMMAD', 2): {}}, ('BUDI', 2664): {('ASEP', 30): {},\n",
       "   ('EKO', 22): {('LOURENSIUS', 1): [], ('SEPTIAN', 1): [], ('R', 1): []},\n",
       "   ('AGUS', 20): {},\n",
       "   ('IWAN', 19): {},\n",
       "   ('AGUNG', 16): {('CAROLUS', 1): []}}},\n",
       " ('SARI',\n",
       "  128651): {('RATNA',\n",
       "   8573): {('DEWI', 619): {('PUTRI', 4): [],\n",
       "    ('NENG', 2): [],\n",
       "    ('SINTA', 2): [],\n",
       "    ('SITI', 2): [],\n",
       "    ('NOVITA', 2): []}, ('DESI', 367): {('AI', 3): [],\n",
       "    ('NENENG', 1): [],\n",
       "    ('EKA', 1): [],\n",
       "    ('TRI', 1): [],\n",
       "    ('DINI', 1): []}, ('SRI', 104): {('SANTI', 4): [],\n",
       "    ('DEWI', 2): [('SITI', 2)],\n",
       "    ('EVA', 1): [],\n",
       "    ('RINI', 1): [],\n",
       "    ('ENDAH', 1): []}, ('AYU', 84): {('DEWI', 3): [],\n",
       "    ('SRI', 3): [],\n",
       "    ('DIAH', 2): [],\n",
       "    ('IDA', 2): [],\n",
       "    ('DWI', 2): []}, ('YAYAH', 77): {('AI', 1): []}}, ('PUSPITA',\n",
       "   7578): {('DEWI', 398): {('SRI', 4): [],\n",
       "    ('EUIS', 2): [],\n",
       "    ('IDA', 2): [],\n",
       "    ('RATNA', 2): [],\n",
       "    ('ROKIMAH', 2): []}, ('ITA', 163): {('SUMIATI', 1): []}, ('INDAH',\n",
       "    132): {('PIPIT', 2): [],\n",
       "    ('OCTORA', 2): [('RATU', 2)],\n",
       "    ('LIA', 2): [],\n",
       "    ('NURUL', 1): [],\n",
       "    ('IIN', 1): []}, ('TITA', 130): {('NENG', 2): [],\n",
       "    ('DEDE', 1): [],\n",
       "    ('NEULIS', 1): []}, ('DIAN', 128): {('YUNITA', 1): [],\n",
       "    ('SANTI', 1): [],\n",
       "    ('AFRIZA', 1): [],\n",
       "    ('ANANDA', 1): [],\n",
       "    ('AYUNDA', 1): []}}, ('PURNAMA',\n",
       "   5316): {('DEWI', 280): {('SINTA', 3): [],\n",
       "    ('ANITA', 2): [],\n",
       "    ('SISKA', 2): [],\n",
       "    ('SHITA', 2): [],\n",
       "    ('SHINTA', 2): []}, ('INDAH', 190): {('RATNA', 4): [],\n",
       "    ('NUR', 4): [],\n",
       "    ('PUPUT', 2): [],\n",
       "    ('INTAN', 2): [('NENG', 1)],\n",
       "    ('DESI', 2): []}, ('ITA', 189): {('DEDE', 1): [],\n",
       "    ('ROSDAH', 1): [],\n",
       "    ('DEVI', 1): [],\n",
       "    ('MAIDA', 1): []}, ('WULAN', 187): {('NUR', 3): [],\n",
       "    ('DEWI', 2): [],\n",
       "    ('AYU', 2): [],\n",
       "    ('SITI', 2): [],\n",
       "    ('RATNA', 2): []}, ('INTAN', 183): {('DEWI', 5): [],\n",
       "    ('SANTI', 3): [],\n",
       "    ('NENG', 3): [],\n",
       "    ('NUR', 3): [],\n",
       "    ('DEVI', 2): []}}, ('WULAN',\n",
       "   4562): {('SRI', 188): {('EUIS', 3): [],\n",
       "    ('AYI', 2): [],\n",
       "    ('NENG', 2): [],\n",
       "    ('IMAS', 2): [],\n",
       "    ('ISMI', 1): []}, ('DEWI', 142): {('RATNA', 3): [],\n",
       "    ('IMAS', 2): [],\n",
       "    ('SRI', 2): [],\n",
       "    ('ENENG', 1): []}, ('RATNA', 97): {('DESI', 2): [],\n",
       "    ('NENG', 2): [],\n",
       "    ('RESTI', 1): [],\n",
       "    ('LIDIA', 1): [],\n",
       "    ('SRI', 1): []}, ('SITI', 57): {('ENENG', 2): [], ('NENG', 1): []}, ('NUR',\n",
       "    51): {('SITI', 2): [],\n",
       "    ('WULAN', 2): [],\n",
       "    ('DWI', 1): [],\n",
       "    ('DEDE', 1): [],\n",
       "    ('HEVITA', 1): []}}, ('KOMALA',\n",
       "   4293): {('KOKOM', 228): {('AI', 2): [],\n",
       "    ('IMAS', 2): [],\n",
       "    ('NON', 1): [],\n",
       "    ('SITI', 1): [],\n",
       "    ('IIS', 1): []}, ('SITI', 154): {('NENENG', 2): [],\n",
       "    ('AI', 2): [],\n",
       "    ('RASEM', 1): [],\n",
       "    ('EUIS', 1): [],\n",
       "    ('ELA', 1): []}, ('DEWI', 140): {('OMAS', 2): [],\n",
       "    ('SRI', 2): [],\n",
       "    ('N', 1): [],\n",
       "    ('WATI', 1): [('ISMA', 1)],\n",
       "    ('NR', 1): []}, ('RATNA', 123): {('KOKOM', 2): [],\n",
       "    ('LILIS', 2): [],\n",
       "    ('AIT', 2): [],\n",
       "    ('IMAS', 2): [],\n",
       "    ('DEVY', 2): []}, ('NUR', 102): {('SITI', 4): [],\n",
       "    ('DEWI', 2): [],\n",
       "    ('LALA', 2): [],\n",
       "    ('FINA', 2): [],\n",
       "    ('SUSAN', 1): []}}},\n",
       " ('GUNAWAN',\n",
       "  96324): {('WAWAN', 7534): {('ASEP', 24): {},\n",
       "   ('DEDE', 9): {},\n",
       "   ('AGUS', 7): {},\n",
       "   ('MUHAMAD', 7): {},\n",
       "   ('CECEP', 6): {}}, ('GUGUN', 5099): {('ASEP', 25): {},\n",
       "   ('MUHAMAD', 6): {},\n",
       "   ('M', 5): {},\n",
       "   ('ADE', 5): {},\n",
       "   ('DEDEN', 4): {}}, ('AGUS', 3800): {('ASEP', 9): {},\n",
       "   ('WAWAN', 5): {},\n",
       "   ('DEDE', 4): {},\n",
       "   ('CEP', 4): {},\n",
       "   ('ADE', 3): {}}, ('IWAN', 3413): {('ASEP', 23): {},\n",
       "   ('ADE', 8): {},\n",
       "   ('DEDE', 7): {},\n",
       "   ('DEDEN', 4): {},\n",
       "   ('R', 3): {}}, ('HENDRA', 2902): {('ASEP', 36): {},\n",
       "   ('AGUS', 19): {('BAMBANG', 1): []},\n",
       "   ('DEDE', 13): {},\n",
       "   ('IWAN', 10): {},\n",
       "   ('ADE', 9): {}}}}"
      ]
     },
     "execution_count": 90,
     "metadata": {},
     "output_type": "execute_result"
    }
   ],
   "source": [
    "from tqdm import tqdm\n",
    "def find_name_leaf(lastname1=None,lastname2=None,lastname3=None,lastname4=None,size=5):\n",
    "    names_chunk = pd.DataFrame()\n",
    "    filter_name = 'lastname1'\n",
    "    if lastname1 == None:\n",
    "        names_chunk = names.copy()\n",
    "    if lastname1:\n",
    "        names_chunk = names[names['lastname1']==lastname1[0]]\n",
    "        filter_name = 'lastname2'\n",
    "    if lastname2:\n",
    "        names_chunk = names_chunk[names_chunk['lastname2']==lastname2[0]]\n",
    "        filter_name = 'lastname3'\n",
    "    if lastname3:\n",
    "        names_chunk = names_chunk[names_chunk['lastname3']==lastname3[0]]\n",
    "        filter_name = 'lastname4'\n",
    "    if lastname4:\n",
    "        names_chunk = names_chunk[names_chunk['lastname4']==lastname4[0]]\n",
    "        filter_name = 'lastname5'\n",
    "    \n",
    "    return names_chunk[filter_name].value_counts(ascending=False).head(size).items()\n",
    "        \n",
    "top_target = {}\n",
    "root_names = find_name_leaf()\n",
    "for root_name in tqdm(root_names):\n",
    "    if root_name not in top_target:\n",
    "        top_target[root_name] = {}\n",
    "\n",
    "    root_names2 = find_name_leaf(lastname1=root_name)\n",
    "    for root_name2 in root_names2:\n",
    "        if root_name2 not in top_target[root_name]:\n",
    "            top_target[root_name][root_name2] = {}\n",
    "\n",
    "        root_names3 = find_name_leaf(lastname1=root_name,lastname2=root_name2)\n",
    "        for root_name3 in root_names3:\n",
    "            if root_name3 not in top_target[root_name][root_name2]:\n",
    "                top_target[root_name][root_name2][root_name3] = {}\n",
    "\n",
    "            root_names4 = find_name_leaf(lastname1=root_name,lastname2=root_name2,lastname3=root_name3)\n",
    "            for root_name4 in root_names4:\n",
    "                root_names5 = find_name_leaf(lastname1=root_name,lastname2=root_name2,lastname3=root_name3,lastname4=root_name4)\n",
    "                root_names5 = [x for x in root_names5]\n",
    "                if root_name4 not in top_target[root_name][root_name2][root_name3]:\n",
    "                    top_target[root_name][root_name2][root_name3][root_name4] = root_names5\n",
    "\n",
    "\n",
    "top_target\n",
    "\n"
   ]
  },
  {
   "attachments": {},
   "cell_type": "markdown",
   "metadata": {},
   "source": []
  },
  {
   "cell_type": "code",
   "execution_count": 91,
   "metadata": {},
   "outputs": [
    {
     "data": {
      "text/plain": [
       "dict_keys([('HIDAYAT', 172827), ('NURHAYATI', 142130), ('SETIAWAN', 136935), ('SARI', 128651), ('GUNAWAN', 96324)])"
      ]
     },
     "execution_count": 91,
     "metadata": {},
     "output_type": "execute_result"
    }
   ],
   "source": [
    "top_target.keys()"
   ]
  },
  {
   "cell_type": "code",
   "execution_count": 63,
   "metadata": {},
   "outputs": [
    {
     "data": {
      "text/plain": [
       "dict_keys([('RAHMAT', 13974), ('TAUFIK', 8481), ('SARIP', 5225), ('YAYAT', 4898), ('AHMAD', 4353)])"
      ]
     },
     "execution_count": 63,
     "metadata": {},
     "output_type": "execute_result"
    }
   ],
   "source": [
    "top_target[('HIDAYAT', 172827)].keys()"
   ]
  },
  {
   "cell_type": "code",
   "execution_count": 61,
   "metadata": {},
   "outputs": [
    {
     "ename": "KeyError",
     "evalue": "('HIDAYAT', 107315)",
     "output_type": "error",
     "traceback": [
      "\u001b[1;31m---------------------------------------------------------------------------\u001b[0m",
      "\u001b[1;31mKeyError\u001b[0m                                  Traceback (most recent call last)",
      "Cell \u001b[1;32mIn[61], line 1\u001b[0m\n\u001b[1;32m----> 1\u001b[0m top_target[(\u001b[39m'\u001b[39;49m\u001b[39mHIDAYAT\u001b[39;49m\u001b[39m'\u001b[39;49m, \u001b[39m107315\u001b[39;49m)][(\u001b[39m'\u001b[39m\u001b[39mTAUFIK\u001b[39m\u001b[39m'\u001b[39m, \u001b[39m5512\u001b[39m)]\n",
      "\u001b[1;31mKeyError\u001b[0m: ('HIDAYAT', 107315)"
     ]
    }
   ],
   "source": [
    "top_target[('HIDAYAT', 107315)][('TAUFIK', 5512)]"
   ]
  },
  {
   "cell_type": "code",
   "execution_count": 92,
   "metadata": {},
   "outputs": [
    {
     "data": {
      "text/html": [
       "<div>\n",
       "<style scoped>\n",
       "    .dataframe tbody tr th:only-of-type {\n",
       "        vertical-align: middle;\n",
       "    }\n",
       "\n",
       "    .dataframe tbody tr th {\n",
       "        vertical-align: top;\n",
       "    }\n",
       "\n",
       "    .dataframe thead th {\n",
       "        text-align: right;\n",
       "    }\n",
       "</style>\n",
       "<table border=\"1\" class=\"dataframe\">\n",
       "  <thead>\n",
       "    <tr style=\"text-align: right;\">\n",
       "      <th></th>\n",
       "      <th>target</th>\n",
       "      <th>source</th>\n",
       "      <th>value</th>\n",
       "      <th>y</th>\n",
       "    </tr>\n",
       "  </thead>\n",
       "  <tbody>\n",
       "    <tr>\n",
       "      <th>0</th>\n",
       "      <td>None</td>\n",
       "      <td>HIDAYAT\\n(172827)</td>\n",
       "      <td>172827</td>\n",
       "      <td>0.0</td>\n",
       "    </tr>\n",
       "    <tr>\n",
       "      <th>1</th>\n",
       "      <td>None</td>\n",
       "      <td>NURHAYATI\\n(142130)</td>\n",
       "      <td>142130</td>\n",
       "      <td>0.2</td>\n",
       "    </tr>\n",
       "  </tbody>\n",
       "</table>\n",
       "</div>"
      ],
      "text/plain": [
       "  target               source   value    y\n",
       "0   None    HIDAYAT\\n(172827)  172827  0.0\n",
       "1   None  NURHAYATI\\n(142130)  142130  0.2"
      ]
     },
     "execution_count": 92,
     "metadata": {},
     "output_type": "execute_result"
    }
   ],
   "source": [
    "def formating_name(list_tt):\n",
    "    full_name = ''\n",
    "    for tt in list_tt:\n",
    "        full_name = full_name + tt[0] + '\\n'\n",
    "    \n",
    "    full_name += '({})'.format(list_tt[0][1])\n",
    "    return full_name\n",
    "\n",
    "source_target = []\n",
    "counter = 0\n",
    "for tt in top_target:\n",
    "    source_target.append(dict(\n",
    "        target = None,\n",
    "        # source = '(1)'+tt[0],\n",
    "        source = formating_name([tt]),\n",
    "        value = tt[1],\n",
    "        y=counter/len(top_target)\n",
    "    ))\n",
    "    counter+=1.0\n",
    "\n",
    "def clean_name(source_target,param = '(1)'):\n",
    "    clean_names = []\n",
    "    for src in source_target:\n",
    "        src_name = src['source']\n",
    "        if param not in src_name:\n",
    "            continue\n",
    "        else:\n",
    "            src_name = src_name.replace(param,'')\n",
    "            clean_names.append(src_name)\n",
    "    return clean_names\n",
    "\n",
    "counter = 0\n",
    "for tt1 in top_target:\n",
    "    for tt in top_target[tt1]:\n",
    "        source_target.append(dict(\n",
    "        # source = '(2)'+tt[0],\n",
    "        # target = '(1)'+tt1[0],\n",
    "        source = formating_name([tt,tt1]),\n",
    "        target = formating_name([tt1]),\n",
    "\n",
    "        value = tt[1],\n",
    "        y = counter/len(top_target[tt1])\n",
    "        ))\n",
    "        counter+=1.0\n",
    "\n",
    "counter = 0\n",
    "for tt1 in top_target:\n",
    "    for tt2 in top_target[tt1]:\n",
    "        for tt in top_target[tt1][tt2]:\n",
    "            source_target.append(dict(\n",
    "            # source = '(3)'+tt[0],\n",
    "            # target = '(2)'+tt2[0],\n",
    "            source = formating_name([tt,tt2,tt1]),\n",
    "            target = formating_name([tt2,tt1]),\n",
    "\n",
    "            value = tt[1],\n",
    "            y = counter/len(top_target[tt1])\n",
    "            ))\n",
    "            counter+=1.0\n",
    "                \n",
    "            \n",
    "counter = 0\n",
    "for tt1 in top_target:\n",
    "    for tt2 in top_target[tt1]:\n",
    "        for tt3 in top_target[tt1][tt2]:\n",
    "            for tt in top_target[tt1][tt2][tt3]:\n",
    "                source_target.append(dict(\n",
    "                # source = '(4)'+tt[0],\n",
    "                # target = '(3)'+tt3[0],        \n",
    "                source = formating_name([tt,tt3,tt2,tt1]),\n",
    "                target = formating_name([tt3,tt2,tt1]),\n",
    "\n",
    "                value = tt[1],\n",
    "                y = counter/len(top_target[tt1])\n",
    "                ))\n",
    "                counter+=1.0\n",
    "            \n",
    "\n",
    "# for tt1 in top_target:\n",
    "#     for tt2 in top_target[tt1]:\n",
    "#         for tt3 in top_target[tt1][tt2]:\n",
    "#             for key,tt4 in zip(clean_name(source_target,'(4)'),top_target[tt1][tt2][tt3]):\n",
    "#                 for tt in top_target[tt1][tt2][tt3][tt4]:\n",
    "#                     source_target.append(dict(\n",
    "#                     source = '(5)'+tt[0],\n",
    "#                     target = '(4)'+key,\n",
    "#                     value = tt[1]\n",
    "#                 ))\n",
    "\n",
    "source_target_df = pd.DataFrame(source_target)\n",
    "source_target_df.head(2)\n"
   ]
  },
  {
   "attachments": {},
   "cell_type": "markdown",
   "metadata": {},
   "source": [
    "## First name"
   ]
  },
  {
   "cell_type": "code",
   "execution_count": 106,
   "metadata": {},
   "outputs": [
    {
     "name": "stderr",
     "output_type": "stream",
     "text": [
      "5it [11:59, 143.82s/it]\n"
     ]
    },
    {
     "data": {
      "text/plain": [
       "{('SITI',\n",
       "  635073): {('AMINAH',\n",
       "   19741): {('BT', 169): {('AMAD', 3): [],\n",
       "    ('AMIN', 3): [],\n",
       "    ('ADANG', 3): [],\n",
       "    ('SUEB', 2): [],\n",
       "    ('ENGGIN', 2): []}, ('BINTI', 41): {('MISAR', 2): [],\n",
       "    ('TJARLI', 2): [],\n",
       "    ('AMIT', 2): [],\n",
       "    ('KASAM', 2): [],\n",
       "    ('SANUSI', 2): []}, ('HJ', 21): {}, ('LUBIS', 7): {}, ('NASUTION',\n",
       "    7): {}}, ('AISAH',\n",
       "   19570): {('BT', 159): {('H', 4): [('MAHIRIN', 2), ('SUNARYA', 2)],\n",
       "    ('SAIM', 3): [],\n",
       "    ('DARMA', 3): [],\n",
       "    ('MURHAN', 2): [],\n",
       "    ('AMIN', 2): [('RAIS', 2)]}, ('BINTI', 53): {('NAJMUDIN', 2): [],\n",
       "    ('DEDIH', 2): [],\n",
       "    ('SANAN', 2): [],\n",
       "    ('SOBUR', 2): [],\n",
       "    ('ENDA', 2): []}, ('HJ', 15): {}, ('BIN', 13): {('ACIN', 2): [],\n",
       "    ('HAJI', 2): [],\n",
       "    ('KANCRA', 1): [],\n",
       "    ('IJUDIN', 1): [],\n",
       "    ('ASAN', 1): []}, ('NURHASANAH', 10): {}}, ('AISYAH',\n",
       "   15422): {('BT', 76): {('YAHMAN', 2): [],\n",
       "    ('RASPIN', 2): [],\n",
       "    ('ZAENAL', 2): [('ABIDIN', 2)],\n",
       "    ('NARSUM', 2): [],\n",
       "    ('DUL', 2): [('SALAM', 2)]}, ('BINTI', 24): {('ANIM', 2): [],\n",
       "    ('WAHID', 2): [],\n",
       "    ('SALAM', 2): [],\n",
       "    ('SUBANDI', 1): [],\n",
       "    ('HANAN', 1): []}, ('NUR', 16): {('FAUZIAH', 2): [],\n",
       "    ('YUNIATI', 2): [],\n",
       "    ('RAHAYU', 1): [],\n",
       "    ('WAHYUNINGSIH', 1): [],\n",
       "    ('SOFIAH', 1): []}, ('NASUTION', 14): {}, ('AMINI', 12): {}}, ('NURJANAH',\n",
       "   13962): {('BT', 66): {('MEMED', 2): [],\n",
       "    ('SAEPUDIN', 2): [],\n",
       "    ('AYUB', 2): [],\n",
       "    ('SAMAN', 2): [],\n",
       "    ('KARTA', 2): []},\n",
       "   ('BINTI', 12): {('HARIRI', 2): [],\n",
       "    ('KIRAN', 1): [],\n",
       "    ('RAHMAT', 1): [],\n",
       "    ('KARYO', 1): [],\n",
       "    ('PARNO', 1): []},\n",
       "   ('S', 4): {},\n",
       "   ('H', 4): {('M', 1): []},\n",
       "   ('HJ', 3): {}}, ('FATIMAH',\n",
       "   12755): {('BT', 71): {('LEBAR', 2): [],\n",
       "    ('ECING', 2): [],\n",
       "    ('ULPA', 2): [],\n",
       "    ('DAKIM', 2): [],\n",
       "    ('CAYA', 2): []}, ('AZZAHRA', 56): {('ANWAR', 1): []}, ('ZAHRO',\n",
       "    40): {}, ('ZAHRA', 35): {('TRI', 1): [('UTARI', 1)],\n",
       "    ('TRIUTARI', 1): [],\n",
       "    ('BAGADER', 1): [],\n",
       "    ('IBRAHIM', 1): []}, ('BINTI', 21): {('ALI', 2): [],\n",
       "    ('AKSAN', 2): [],\n",
       "    ('RAWAN', 2): [],\n",
       "    ('SANAN', 2): [],\n",
       "    ('SATAR', 1): []}}},\n",
       " ('ASEP',\n",
       "  288489): {('SAEPUDIN',\n",
       "   11808): {('BIN', 80): {('UDIN', 4): [('S', 1), ('SAMSUDIN', 1)],\n",
       "    ('DAMA', 2): [],\n",
       "    ('DULOH', 2): [],\n",
       "    ('ENTANG', 2): [('JUBAEDI', 2)],\n",
       "    ('DAMAN', 2): [('HURI', 2)]}, ('ZUHRI', 16): {}, ('JUHRI',\n",
       "    12): {}, ('HIDAYAT', 11): {('RND', 1): []}, ('B', 9): {('TARMIDI', 1): [],\n",
       "    ('DJAJ', 1): [('P', 1)],\n",
       "    ('NADMUDIN', 1): [],\n",
       "    ('KUSMAN', 1): [],\n",
       "    ('HARUN', 1): []}}, ('SUPRIATNA',\n",
       "   4691): {('BIN', 15): {('MINON', 2): [],\n",
       "    ('EDENG', 1): [],\n",
       "    ('ASMAN', 1): [],\n",
       "    ('WAWAN', 1): [],\n",
       "    ('ATING', 1): []}, ('SPD', 3): {}, ('BN', 3): {('RASTA', 2): [],\n",
       "    ('HASAN', 1): []}, ('AMD', 2): {}, ('HADI', 2): {}}, ('MULYANA',\n",
       "   4160): {('BIN', 22): {('UDI', 2): [],\n",
       "    ('NANA', 2): [],\n",
       "    ('MARTO', 2): [],\n",
       "    ('SAMSUDIN', 2): [],\n",
       "    ('RUHAJAT', 1): []}, ('K', 4): {}, ('YUSUP', 4): {}, ('ST',\n",
       "    3): {}, ('AKBAR', 3): {}}, ('SAEPUL',\n",
       "   4050): {('ROHMAN', 445): {('ALS', 1): [('UCUP', 1)],\n",
       "    ('T', 1): [],\n",
       "    ('BIN', 1): [('ENCAR', 1)]}, ('BAHRI',\n",
       "    374): {('BIN', 2): [('YUSIN', 1), ('HAPID', 1)], ('FIRMANSYAH',\n",
       "     1): [], ('B', 1): [('SARBAN', 1)], ('ST', 1): []}, ('ANWAR',\n",
       "    339): {('H', 2): [], ('SANUSI', 1): [], (',',\n",
       "     1): [('SH', 1)], ('NURHIDAYAT', 1): [], ('BAHRI', 1): []}, ('MILAH',\n",
       "    207): {('HIDAYAT', 2): [], ('SIDIQ', 1): []}, ('HIDAYAT',\n",
       "    144): {('ST', 2): []}}, ('SAEPULOH',\n",
       "   3891): {('BIN', 9): {('BARJANG', 2): [],\n",
       "    ('UWES', 1): [],\n",
       "    ('ACA', 1): [],\n",
       "    ('SAMSUDIN', 1): [],\n",
       "    ('DADI', 1): []}, ('HIDAYAT', 9): {}, ('ANWAR',\n",
       "    5): {('HADI', 1): []}, ('NUGRAHA', 3): {}, ('GOJALI,', 2): {}}},\n",
       " ('ADE',\n",
       "  256033): {('SUPRIATNA',\n",
       "   2389): {('BIN', 10): {('ACA', 2): [],\n",
       "    ('YAHYA', 1): [],\n",
       "    ('BIDIN', 1): [('(ALM)', 1)],\n",
       "    ('HASANUD', 1): [],\n",
       "    ('SUTISNA', 1): []}, ('B', 4): {('NAKIM', 2): [],\n",
       "    ('MUKSIN', 1): [],\n",
       "    ('ATMAJA', 1): [('M', 1)]}, ('NURYADIN', 2): {}, (',MT', 2): {}, (\"'\",\n",
       "    1): {}}, ('SURYANA',\n",
       "   2365): {('BIN', 11): {('ROHIM', 2): [],\n",
       "    ('UJU', 1): [],\n",
       "    ('JAMHUR', 1): [],\n",
       "    ('MIDI', 1): [],\n",
       "    ('BAJRI', 1): []}, ('UMAR', 2): {}, ('YASIN', 2): {}, ('SAPUTRA',\n",
       "    2): {}, ('FATAH', 2): {}}, ('RAHMAT', 2318): {('HIDAYAT', 127): {},\n",
       "   ('FAUZI', 10): {},\n",
       "   ('MULYANA', 8): {},\n",
       "   ('SALEH', 8): {},\n",
       "   ('KURNIA', 6): {}}, ('IRAWAN',\n",
       "   2216): {('BIN', 25): {('KALYUBI', 2): [],\n",
       "    ('SUHAJI', 2): [],\n",
       "    ('AYUM', 1): [],\n",
       "    ('SAYI', 1): [],\n",
       "    ('NAWAWI', 1): []}, ('SAPUTRA', 12): {}, ('SETIAWAN', 5): {}, ('B',\n",
       "    2): {('DULAMAT', 1): [], ('WARJA', 1): []}, ('NURALAM',\n",
       "    2): {}}, ('MULYANA',\n",
       "   1884): {('BIN', 13): {('ANAM', 3): [],\n",
       "    ('UDIN', 2): [],\n",
       "    ('ADI', 2): [],\n",
       "    ('SAMSURI', 1): [],\n",
       "    ('MAJID', 1): []},\n",
       "   ('YUSUP', 5): {},\n",
       "   ('PRATAMA', 2): {},\n",
       "   ('SAPUTRA', 2): {},\n",
       "   ('SPD', 2): {}}},\n",
       " ('DEDE',\n",
       "  246211): {('SUPRIATNA',\n",
       "   2643): {('BIN', 7): {('ADMA', 2): [],\n",
       "    ('YATNA', 1): [],\n",
       "    ('JUHARDI', 1): [],\n",
       "    ('NANA', 1): [('SUARNA', 1)],\n",
       "    ('RIMAN', 1): []}, ('ALAMSYAH', 2): {}, ('WANADI', 2): {}, ('APRILIAN',\n",
       "    2): {}, ('YUSUP', 2): {}}, ('SULAEMAN',\n",
       "   2558): {('BIN', 12): {('ATA', 2): [],\n",
       "    ('YAKUB', 1): [],\n",
       "    ('SODLI', 1): [],\n",
       "    ('IDI', 1): [],\n",
       "    ('WARDI', 1): []}, ('B', 5): {('SIDIK', 2): [],\n",
       "    ('KARNA', 1): [],\n",
       "    ('YUSUP', 1): [('TAZIRI', 1)],\n",
       "    ('SURLIM', 1): []}, (\"MA'RUP\", 2): {}, ('RUSDI', 2): {}, ('SAPUTRA',\n",
       "    2): {}}, ('SITI', 2099): {('NURJANAH', 87): {('ADAWIAH', 1): []},\n",
       "   ('ROHMAH', 77): {},\n",
       "   ('AISAH', 70): {},\n",
       "   ('AMINAH', 65): {},\n",
       "   ('FATIMAH', 65): {('ZAHROH', 2): []}}, ('RAHMAT',\n",
       "   1992): {('HIDAYAT', 123): {}, ('KURNIA', 9): {}, ('S', 8): {}, ('H',\n",
       "    8): {}, ('MULYANA', 5): {}}, ('MULYANA',\n",
       "   1940): {('BIN', 10): {('DADANG', 2): [],\n",
       "    ('MADARIP', 2): [],\n",
       "    ('ENDANG', 1): [('SUDRAJAT', 1)],\n",
       "    ('SANDI', 1): [],\n",
       "    ('UJANG', 1): [('AHMAD', 1)]}, ('S', 5): {('PD', 1): []}, ('YUSUP',\n",
       "    3): {}, ('NASUTION', 2): {}, ('ENTE', 2): {}}},\n",
       " ('SRI',\n",
       "  217163): {('RAHAYU', 13150): {('NINGSIH', 285): {},\n",
       "   ('LESTARI', 47): {('NINGSIH', 1): []},\n",
       "   ('BT', 42): {('OYING', 2): [],\n",
       "    ('SUMANTA', 2): [],\n",
       "    ('SUHARTO', 2): [],\n",
       "    ('ASTU', 2): [],\n",
       "    ('KARTA', 1): []},\n",
       "   ('UTAMI', 38): {('S', 1): [],\n",
       "    ('NINGTYAS', 1): [],\n",
       "    ('SARI', 1): [],\n",
       "    ('WIDIANSYAH', 1): []},\n",
       "   ('WULANDARI', 25): {}}, ('WAHYUNI',\n",
       "   11205): {('BT', 25): {('DAMAN', 3): [],\n",
       "    ('SOFYAN', 2): [('WAKIDI', 2)],\n",
       "    ('SUPARNO', 2): [],\n",
       "    ('BOIN', 1): [],\n",
       "    ('MIIH', 1): []}, ('RAHAYU', 17): {}, ('HANDAYANI', 14): {}, ('PUJI',\n",
       "    11): {('ASTUTI', 5): [],\n",
       "    ('RAHAYU', 2): [],\n",
       "    ('A', 2): [],\n",
       "    ('LESTARI', 1): [],\n",
       "    ('ASUTI', 1): []}, ('UTAMI', 8): {}}, ('MULYANI',\n",
       "   9432): {('BT', 33): {('WAKAP', 2): [],\n",
       "    ('NIMIN', 2): [],\n",
       "    ('RAHMAN', 2): [],\n",
       "    ('WARISNO', 1): [],\n",
       "    ('MUMUH', 1): []}, ('RAHAYU', 12): {('HATFIELD', 1): []}, ('PUTRI',\n",
       "    10): {('SEJATI', 1): []}, ('DEWI', 9): {('YULYATI', 1): []}, ('S',\n",
       "    6): {('PD', 2): [('I', 2)], ('Pd', 1): []}}, ('MULYATI',\n",
       "   8579): {('BT', 42): {('H', 6): [('NURDIN', 6)],\n",
       "    ('SAJIM', 2): [],\n",
       "    ('SUGANDI', 2): [],\n",
       "    ('DARTIM', 2): [],\n",
       "    ('MAIL', 2): [('TASIJAN', 2)]}, ('NINGSIH', 23): {('S', 1): []}, ('RAHAYU',\n",
       "    11): {}, ('BINTI', 10): {('CARMA', 2): [],\n",
       "    ('SUPARJO', 2): [('H', 2)],\n",
       "    ('ANYONG', 1): [],\n",
       "    ('CASTA', 1): [],\n",
       "    ('SALIM', 1): []}, ('DEWI', 7): {}}, ('LESTARI',\n",
       "   4891): {('HANDAYANI', 35): {('S', 1): []}, ('NINGSIH',\n",
       "    27): {('S', 1): [('KOM', 1)]}, ('RAHAYU', 26): {('NUR', 1): [],\n",
       "    ('NINGSIH', 1): []}, ('WAHYUNINGSIH', 13): {}, ('BT',\n",
       "    12): {('SAMAN', 3): [],\n",
       "    ('SUWANDI', 1): [],\n",
       "    ('YONO', 1): [],\n",
       "    ('JUJUN', 1): [('S', 1)],\n",
       "    ('SUYONO', 1): []}}}}"
      ]
     },
     "execution_count": 106,
     "metadata": {},
     "output_type": "execute_result"
    }
   ],
   "source": [
    "from tqdm import tqdm\n",
    "def find_firstname_leaf(firstname1=None,firstname2=None,firstname3=None,firstname4=None,size=5):\n",
    "    names_chunk = pd.DataFrame()\n",
    "    filter_name = '1stname'\n",
    "    if firstname1 == None:\n",
    "        names_chunk = names.copy()\n",
    "    if firstname1:\n",
    "        names_chunk = names[names['1stname']==firstname1[0]]\n",
    "        filter_name = '2ndname'\n",
    "    if firstname2:\n",
    "        names_chunk = names_chunk[names_chunk['2ndname']==firstname2[0]]\n",
    "        filter_name = '3rdname'\n",
    "    if firstname3:\n",
    "        names_chunk = names_chunk[names_chunk['3rdname']==firstname3[0]]\n",
    "        filter_name = '4thname'\n",
    "    if firstname4:\n",
    "        names_chunk = names_chunk[names_chunk['4thname']==firstname4[0]]\n",
    "        filter_name = '5thname'\n",
    "    \n",
    "    return names_chunk[filter_name].value_counts(ascending=False).head(size).items()\n",
    "        \n",
    "top_first_target = {}\n",
    "root_names = find_firstname_leaf()\n",
    "for root_name in tqdm(root_names):\n",
    "    if root_name not in top_first_target:\n",
    "        top_first_target[root_name] = {}\n",
    "\n",
    "    root_names2 = find_firstname_leaf(firstname1=root_name)\n",
    "    for root_name2 in root_names2:\n",
    "        if root_name2 not in top_first_target[root_name]:\n",
    "            top_first_target[root_name][root_name2] = {}\n",
    "\n",
    "        root_names3 = find_firstname_leaf(firstname1=root_name,firstname2=root_name2)\n",
    "        for root_name3 in root_names3:\n",
    "            if root_name3 not in top_first_target[root_name][root_name2]:\n",
    "                top_first_target[root_name][root_name2][root_name3] = {}\n",
    "\n",
    "            root_names4 = find_firstname_leaf(firstname1=root_name,firstname2=root_name2,firstname3=root_name3)\n",
    "            for root_name4 in root_names4:\n",
    "                root_names5 = find_firstname_leaf(firstname1=root_name,firstname2=root_name2,firstname3=root_name3,firstname4=root_name4)\n",
    "                root_names5 = [x for x in root_names5]\n",
    "                if root_name4 not in top_first_target[root_name][root_name2][root_name3]:\n",
    "                    top_first_target[root_name][root_name2][root_name3][root_name4] = root_names5\n",
    "\n",
    "\n",
    "top_first_target\n",
    "\n"
   ]
  },
  {
   "cell_type": "code",
   "execution_count": 107,
   "metadata": {},
   "outputs": [
    {
     "data": {
      "text/plain": [
       "dict_keys([('SITI', 635073), ('ASEP', 288489), ('ADE', 256033), ('DEDE', 246211), ('SRI', 217163)])"
      ]
     },
     "execution_count": 107,
     "metadata": {},
     "output_type": "execute_result"
    }
   ],
   "source": [
    "top_first_target.keys()"
   ]
  },
  {
   "cell_type": "code",
   "execution_count": 115,
   "metadata": {},
   "outputs": [
    {
     "data": {
      "text/html": [
       "<div>\n",
       "<style scoped>\n",
       "    .dataframe tbody tr th:only-of-type {\n",
       "        vertical-align: middle;\n",
       "    }\n",
       "\n",
       "    .dataframe tbody tr th {\n",
       "        vertical-align: top;\n",
       "    }\n",
       "\n",
       "    .dataframe thead th {\n",
       "        text-align: right;\n",
       "    }\n",
       "</style>\n",
       "<table border=\"1\" class=\"dataframe\">\n",
       "  <thead>\n",
       "    <tr style=\"text-align: right;\">\n",
       "      <th></th>\n",
       "      <th>target</th>\n",
       "      <th>source</th>\n",
       "      <th>value</th>\n",
       "    </tr>\n",
       "  </thead>\n",
       "  <tbody>\n",
       "    <tr>\n",
       "      <th>0</th>\n",
       "      <td>None</td>\n",
       "      <td>SITI\\n(635073)</td>\n",
       "      <td>635073</td>\n",
       "    </tr>\n",
       "    <tr>\n",
       "      <th>1</th>\n",
       "      <td>None</td>\n",
       "      <td>ASEP\\n(288489)</td>\n",
       "      <td>288489</td>\n",
       "    </tr>\n",
       "  </tbody>\n",
       "</table>\n",
       "</div>"
      ],
      "text/plain": [
       "  target          source   value\n",
       "0   None  SITI\\n(635073)  635073\n",
       "1   None  ASEP\\n(288489)  288489"
      ]
     },
     "execution_count": 115,
     "metadata": {},
     "output_type": "execute_result"
    }
   ],
   "source": [
    "def formating_firstname(list_tt):\n",
    "    full_name = ''\n",
    "    for tt in list_tt:\n",
    "        full_name = full_name + tt[0] + '\\n'\n",
    "    \n",
    "    full_name += '({})'.format(list_tt[-1][1])\n",
    "    return full_name\n",
    "\n",
    "source_first_target = []\n",
    "counter = 0\n",
    "for tt in top_first_target:\n",
    "    source_first_target.append(dict(\n",
    "        target = None,\n",
    "        # source = '(1)'+tt[0],\n",
    "        source = formating_firstname([tt]),\n",
    "        value = tt[1],\n",
    "    ))\n",
    "    counter+=1.0\n",
    "\n",
    "def clean_name(source_first_target,param = '(1)'):\n",
    "    clean_names = []\n",
    "    for src in source_first_target:\n",
    "        src_name = src['source']\n",
    "        if param not in src_name:\n",
    "            continue\n",
    "        else:\n",
    "            src_name = src_name.replace(param,'')\n",
    "            clean_names.append(src_name)\n",
    "    return clean_names\n",
    "\n",
    "counter = 0\n",
    "for tt1 in top_first_target:\n",
    "    for tt in top_first_target[tt1]:\n",
    "        source_first_target.append(dict(\n",
    "        # source = '(2)'+tt[0],\n",
    "        # target = '(1)'+tt1[0],\n",
    "        source = formating_firstname([tt1,tt]),\n",
    "        target = formating_firstname([tt1]),\n",
    "\n",
    "        value = tt[1]\n",
    "        ))\n",
    "        counter+=1.0\n",
    "\n",
    "counter = 0\n",
    "for tt1 in top_first_target:\n",
    "    for tt2 in top_first_target[tt1]:\n",
    "        for tt in top_first_target[tt1][tt2]:\n",
    "            source_first_target.append(dict(\n",
    "            # source = '(3)'+tt[0],\n",
    "            # target = '(2)'+tt2[0],\n",
    "            source = formating_firstname([tt1,tt2,tt]),\n",
    "            target = formating_firstname([tt1,tt2]),\n",
    "\n",
    "            value = tt[1]\n",
    "            ))\n",
    "            counter+=1.0\n",
    "                \n",
    "            \n",
    "counter = 0\n",
    "for tt1 in top_first_target:\n",
    "    for tt2 in top_first_target[tt1]:\n",
    "        for tt3 in top_first_target[tt1][tt2]:\n",
    "            for tt in top_first_target[tt1][tt2][tt3]:\n",
    "                source_first_target.append(dict(\n",
    "                # source = '(4)'+tt[0],\n",
    "                # target = '(3)'+tt3[0],        \n",
    "                source = formating_firstname([tt1,tt2,tt3,tt]),\n",
    "                target = formating_firstname([tt1,tt2,tt3]),\n",
    "\n",
    "                value = tt[1]\n",
    "                ))\n",
    "                counter+=1.0\n",
    "            \n",
    "\n",
    "# for tt1 in top_first_target:\n",
    "#     for tt2 in top_first_target[tt1]:\n",
    "#         for tt3 in top_first_target[tt1][tt2]:\n",
    "#             for key,tt4 in zip(clean_name(source_first_target,'(4)'),top_first_target[tt1][tt2][tt3]):\n",
    "#                 for tt in top_first_target[tt1][tt2][tt3][tt4]:\n",
    "#                     source_first_target.append(dict(\n",
    "#                     source = '(5)'+tt[0],\n",
    "#                     target = '(4)'+key,\n",
    "#                     value = tt[1]\n",
    "#                 ))\n",
    "\n",
    "source_first_target_df = pd.DataFrame(source_first_target)\n",
    "source_first_target_df.head(2)\n"
   ]
  },
  {
   "cell_type": "code",
   "execution_count": null,
   "metadata": {},
   "outputs": [],
   "source": []
  },
  {
   "attachments": {},
   "cell_type": "markdown",
   "metadata": {},
   "source": [
    "### sankey"
   ]
  },
  {
   "cell_type": "code",
   "execution_count": 169,
   "metadata": {},
   "outputs": [],
   "source": [
    "nodes = []\n",
    "def find_position(label):\n",
    "    if '(1)' in label:\n",
    "        return 1\n",
    "    if '(2)' in label:\n",
    "        return 0.75\n",
    "    if '(3)' in label:\n",
    "        return 0.5\n",
    "    if '(4)' in label:\n",
    "        return 0.25\n",
    "    if '(5)' in label:\n",
    "        return 0\n",
    "    \n",
    "for st in source_target:\n",
    "    if st['source']:\n",
    "        nodes.append({'label':st['source'],'x':find_position(st['source']),'y':st['y']})\n",
    "    if st['target']:\n",
    "        nodes.append({'label':st['target'],'x':find_position(st['source']),'y':st['y']})\n",
    "\n",
    "def find_nodes(label):\n",
    "    if not label:\n",
    "        return ''\n",
    "    for n in nodes:\n",
    "        if n['label'] == label:\n",
    "            return nodes.index(n)\n",
    "    \n",
    "\n",
    "links = []\n",
    "for st in source_target:\n",
    "    links.append({\n",
    "        'source':find_nodes(st['source']),\n",
    "        'target':find_nodes(st['target']),\n",
    "        'value':st['value']\n",
    "    })"
   ]
  },
  {
   "cell_type": "code",
   "execution_count": 170,
   "metadata": {},
   "outputs": [
    {
     "data": {
      "text/plain": [
       "4"
      ]
     },
     "execution_count": 170,
     "metadata": {},
     "output_type": "execute_result"
    }
   ],
   "source": [
    "[1,2,'er',4,{3:3}].index({3:3})"
   ]
  },
  {
   "cell_type": "code",
   "execution_count": 171,
   "metadata": {},
   "outputs": [
    {
     "data": {
      "application/vnd.plotly.v1+json": {
       "config": {
        "plotlyServerURL": "https://plot.ly"
       },
       "data": [
        {
         "link": {
          "source": [
           0,
           1,
           2,
           3,
           4,
           5,
           7,
           9,
           11,
           13,
           15,
           17,
           19,
           21,
           23,
           25,
           27,
           29,
           31,
           33,
           35,
           37,
           39,
           41,
           43,
           17,
           47,
           19,
           15,
           53,
           55,
           57,
           59,
           61,
           63,
           65,
           55,
           69,
           71,
           61,
           55,
           77,
           59,
           81,
           71,
           55,
           57,
           63,
           59,
           93,
           71,
           55,
           81,
           65,
           61,
           55,
           57,
           61,
           59,
           113,
           55,
           57,
           61,
           113,
           59,
           125,
           65,
           129,
           131,
           57,
           135,
           69,
           139,
           141,
           143,
           55,
           61,
           125,
           151,
           153,
           155,
           157,
           159,
           161,
           163,
           57,
           167,
           169,
           155,
           59,
           169,
           157,
           167,
           181,
           183,
           167,
           155,
           57,
           169,
           161,
           155,
           157,
           161,
           167,
           57,
           205,
           207,
           209,
           211,
           213,
           205,
           217,
           219,
           221,
           223,
           205,
           219,
           217,
           231,
           233,
           209,
           205,
           239,
           241,
           169,
           245,
           169,
           205,
           239,
           241,
           55,
           65,
           59,
           61,
           263,
           55,
           65,
           269,
           271,
           69,
           129,
           55,
           279,
           281,
           283,
           55,
           59,
           289,
           57,
           129,
           55,
           125,
           61,
           59,
           57,
           305,
           307,
           309,
           311,
           313,
           315,
           317,
           319,
           321,
           323,
           325,
           327,
           329,
           331,
           333,
           329,
           337,
           339,
           341,
           343,
           345,
           347,
           349,
           351,
           343,
           355,
           357,
           359,
           329,
           363,
           365,
           367,
           369,
           371,
           373,
           375,
           377,
           379,
           381,
           343,
           385,
           387,
           389,
           391,
           393,
           355,
           397,
           399,
           401,
           403,
           323,
           407,
           409,
           411,
           413,
           415,
           371,
           359,
           397,
           423,
           425,
           427,
           343,
           341,
           355,
           425,
           437,
           411,
           343,
           443,
           445,
           371,
           367,
           451,
           355,
           455,
           457,
           411,
           457,
           463,
           359,
           467,
           469,
           463,
           473,
           325,
           477,
           479,
           397,
           483,
           485,
           355,
           329,
           491,
           325,
           495,
           331,
           499,
           367,
           503,
           505,
           507,
           509,
           511,
           513,
           515,
           517,
           457,
           521,
           325,
           525,
           527,
           343,
           457,
           533,
           535,
           537
          ],
          "target": [
           "",
           "",
           "",
           "",
           "",
           0,
           0,
           0,
           0,
           0,
           1,
           1,
           1,
           1,
           1,
           2,
           2,
           2,
           2,
           2,
           3,
           3,
           3,
           3,
           3,
           4,
           4,
           4,
           4,
           4,
           5,
           5,
           5,
           5,
           5,
           7,
           7,
           7,
           7,
           7,
           9,
           9,
           9,
           9,
           9,
           11,
           11,
           11,
           11,
           11,
           13,
           13,
           13,
           13,
           13,
           15,
           15,
           15,
           15,
           15,
           17,
           17,
           17,
           17,
           17,
           19,
           19,
           19,
           19,
           19,
           21,
           21,
           21,
           21,
           21,
           23,
           23,
           23,
           23,
           23,
           25,
           25,
           25,
           25,
           25,
           27,
           27,
           27,
           27,
           27,
           29,
           29,
           29,
           29,
           29,
           31,
           31,
           31,
           31,
           31,
           33,
           33,
           33,
           33,
           33,
           35,
           35,
           35,
           35,
           35,
           37,
           37,
           37,
           37,
           37,
           39,
           39,
           39,
           39,
           39,
           41,
           41,
           41,
           41,
           41,
           43,
           43,
           43,
           43,
           43,
           17,
           17,
           17,
           17,
           17,
           47,
           47,
           47,
           47,
           47,
           19,
           19,
           19,
           19,
           19,
           15,
           15,
           15,
           15,
           15,
           53,
           53,
           53,
           53,
           53,
           61,
           57,
           71,
           57,
           55,
           131,
           153,
           155,
           205,
           205,
           205,
           205,
           205,
           207,
           207,
           207,
           207,
           207,
           209,
           209,
           209,
           209,
           209,
           211,
           211,
           211,
           211,
           211,
           213,
           205,
           205,
           205,
           205,
           205,
           217,
           219,
           219,
           219,
           219,
           219,
           221,
           221,
           221,
           221,
           221,
           223,
           223,
           223,
           205,
           205,
           205,
           205,
           205,
           219,
           219,
           219,
           219,
           219,
           217,
           217,
           217,
           217,
           231,
           231,
           231,
           231,
           231,
           233,
           233,
           233,
           233,
           233,
           209,
           209,
           209,
           209,
           209,
           205,
           205,
           205,
           239,
           239,
           239,
           239,
           239,
           241,
           241,
           241,
           241,
           241,
           169,
           169,
           245,
           245,
           245,
           245,
           169,
           169,
           169,
           205,
           205,
           205,
           205,
           205,
           239,
           239,
           239,
           239,
           239,
           241,
           241,
           241,
           241,
           241,
           263,
           263,
           61
          ],
          "value": [
           107315,
           88841,
           86235,
           84426,
           61690,
           8864,
           5512,
           2955,
           2935,
           2753,
           9396,
           8216,
           5146,
           1753,
           1753,
           4582,
           3042,
           2189,
           2167,
           1617,
           5575,
           5117,
           3450,
           2978,
           2856,
           4670,
           3044,
           2326,
           2117,
           1946,
           164,
           83,
           63,
           54,
           41,
           94,
           50,
           49,
           40,
           28,
           99,
           39,
           38,
           36,
           33,
           16,
           8,
           7,
           5,
           2,
           57,
           47,
           35,
           32,
           30,
           47,
           18,
           17,
           13,
           5,
           62,
           9,
           8,
           6,
           6,
           19,
           17,
           12,
           9,
           8,
           3,
           2,
           2,
           2,
           1,
           23,
           15,
           12,
           10,
           9,
           61,
           29,
           21,
           16,
           13,
           4,
           3,
           3,
           3,
           2,
           5,
           3,
           2,
           2,
           1,
           6,
           4,
           3,
           3,
           2,
           15,
           5,
           5,
           4,
           3,
           416,
           224,
           63,
           56,
           51,
           263,
           109,
           90,
           88,
           85,
           182,
           134,
           125,
           124,
           116,
           126,
           95,
           66,
           36,
           33,
           151,
           101,
           96,
           80,
           66,
           17,
           5,
           4,
           4,
           3,
           17,
           4,
           3,
           3,
           3,
           4,
           4,
           4,
           2,
           2,
           9,
           4,
           3,
           3,
           2,
           24,
           9,
           8,
           7,
           4,
           1,
           1,
           1,
           1,
           2,
           1,
           1,
           1,
           4,
           2,
           2,
           2,
           1,
           1,
           1,
           1,
           1,
           1,
           4,
           2,
           1,
           1,
           1,
           2,
           1,
           1,
           1,
           1,
           1,
           2,
           2,
           2,
           2,
           2,
           1,
           2,
           1,
           1,
           1,
           1,
           1,
           1,
           1,
           1,
           1,
           2,
           1,
           1,
           2,
           2,
           2,
           2,
           2,
           4,
           2,
           2,
           2,
           2,
           1,
           1,
           1,
           1,
           5,
           3,
           3,
           2,
           1,
           2,
           1,
           1,
           1,
           1,
           3,
           2,
           2,
           1,
           1,
           2,
           2,
           1,
           2,
           1,
           1,
           1,
           1,
           2,
           2,
           1,
           1,
           1,
           2,
           1,
           2,
           1,
           1,
           1,
           2,
           1,
           1,
           2,
           1,
           1,
           1,
           1,
           2,
           2,
           2,
           2,
           1,
           4,
           1,
           1,
           1,
           1,
           2,
           1,
           1
          ]
         },
         "node": {
          "label": [
           "(1)HIDAYAT",
           "(1)SETIAWAN",
           "(1)NURHAYATI",
           "(1)SARI",
           "(1)GUNAWAN",
           "(2)RAHMAT",
           "(1)HIDAYAT",
           "(2)TAUFIK",
           "(1)HIDAYAT",
           "(2)SARIP",
           "(1)HIDAYAT",
           "(2)YAYAT",
           "(1)HIDAYAT",
           "(2)SYARIF",
           "(1)HIDAYAT",
           "(2)IWAN",
           "(1)SETIAWAN",
           "(2)WAWAN",
           "(1)SETIAWAN",
           "(2)AGUS",
           "(1)SETIAWAN",
           "(2)ASEP",
           "(1)SETIAWAN",
           "(2)BUDI",
           "(1)SETIAWAN",
           "(2)SITI",
           "(1)NURHAYATI",
           "(2)NUNUNG",
           "(1)NURHAYATI",
           "(2)AI",
           "(1)NURHAYATI",
           "(2)YATI",
           "(1)NURHAYATI",
           "(2)TATI",
           "(1)NURHAYATI",
           "(2)RATNA",
           "(1)SARI",
           "(2)PUSPITA",
           "(1)SARI",
           "(2)PURNAMA",
           "(1)SARI",
           "(2)WULAN",
           "(1)SARI",
           "(2)KOMALA",
           "(1)SARI",
           "(2)WAWAN",
           "(1)GUNAWAN",
           "(2)GUGUN",
           "(1)GUNAWAN",
           "(2)AGUS",
           "(1)GUNAWAN",
           "(2)IWAN",
           "(1)GUNAWAN",
           "(2)HENDRA",
           "(1)GUNAWAN",
           "(3)ASEP",
           "(2)RAHMAT",
           "(3)ADE",
           "(2)RAHMAT",
           "(3)DEDE",
           "(2)RAHMAT",
           "(3)AGUS",
           "(2)RAHMAT",
           "(3)UJANG",
           "(2)RAHMAT",
           "(3)MUHAMAD",
           "(2)TAUFIK",
           "(3)ASEP",
           "(2)TAUFIK",
           "(3)MUHAMMAD",
           "(2)TAUFIK",
           "(3)AHMAD",
           "(2)TAUFIK",
           "(3)AGUS",
           "(2)TAUFIK",
           "(3)ASEP",
           "(2)SARIP",
           "(3)IIP",
           "(2)SARIP",
           "(3)DEDE",
           "(2)SARIP",
           "(3)YAYAT",
           "(2)SARIP",
           "(3)AHMAD",
           "(2)SARIP",
           "(3)ASEP",
           "(2)YAYAT",
           "(3)ADE",
           "(2)YAYAT",
           "(3)UJANG",
           "(2)YAYAT",
           "(3)DEDE",
           "(2)YAYAT",
           "(3)UDEN",
           "(2)YAYAT",
           "(3)AHMAD",
           "(2)SYARIF",
           "(3)ASEP",
           "(2)SYARIF",
           "(3)YAYAT",
           "(2)SYARIF",
           "(3)MUHAMAD",
           "(2)SYARIF",
           "(3)AGUS",
           "(2)SYARIF",
           "(3)ASEP",
           "(2)IWAN",
           "(3)ADE",
           "(2)IWAN",
           "(3)AGUS",
           "(2)IWAN",
           "(3)DEDE",
           "(2)IWAN",
           "(3)CECEP",
           "(2)IWAN",
           "(3)ASEP",
           "(2)WAWAN",
           "(3)ADE",
           "(2)WAWAN",
           "(3)AGUS",
           "(2)WAWAN",
           "(3)CECEP",
           "(2)WAWAN",
           "(3)DEDE",
           "(2)WAWAN",
           "(3)IWAN",
           "(2)AGUS",
           "(3)MUHAMAD",
           "(2)AGUS",
           "(3)WAWAN",
           "(2)AGUS",
           "(3)HENDRA",
           "(2)AGUS",
           "(3)ADE",
           "(2)AGUS",
           "(3)H",
           "(2)ASEP",
           "(3)MUHAMMAD",
           "(2)ASEP",
           "(3)DENI",
           "(2)ASEP",
           "(3)BUDI",
           "(2)ASEP",
           "(3)MOHAMAD",
           "(2)ASEP",
           "(3)ASEP",
           "(2)BUDI",
           "(3)AGUS",
           "(2)BUDI",
           "(3)IWAN",
           "(2)BUDI",
           "(3)ARIF",
           "(2)BUDI",
           "(3)AGUNG",
           "(2)BUDI",
           "(3)AI",
           "(2)SITI",
           "(3)NENG",
           "(2)SITI",
           "(3)IMAS",
           "(2)SITI",
           "(3)EUIS",
           "(2)SITI",
           "(3)ENENG",
           "(2)SITI",
           "(3)ADE",
           "(2)NUNUNG",
           "(3)HJ",
           "(2)NUNUNG",
           "(3)SITI",
           "(2)NUNUNG",
           "(3)AI",
           "(2)NUNUNG",
           "(3)DEDE",
           "(2)NUNUNG",
           "(3)SITI",
           "(2)AI",
           "(3)NENG",
           "(2)AI",
           "(3)HJ",
           "(2)AI",
           "(3)NENENG",
           "(2)AI",
           "(3)NOVI",
           "(2)AI",
           "(3)HJ",
           "(2)YATI",
           "(3)AI",
           "(2)YATI",
           "(3)ADE",
           "(2)YATI",
           "(3)SITI",
           "(2)YATI",
           "(3)EUIS",
           "(2)YATI",
           "(3)AI",
           "(2)TATI",
           "(3)NENG",
           "(2)TATI",
           "(3)EUIS",
           "(2)TATI",
           "(3)HJ",
           "(2)TATI",
           "(3)ADE",
           "(2)TATI",
           "(3)DEWI",
           "(2)RATNA",
           "(3)DESI",
           "(2)RATNA",
           "(3)SRI",
           "(2)RATNA",
           "(3)AYU",
           "(2)RATNA",
           "(3)YAYAH",
           "(2)RATNA",
           "(3)DEWI",
           "(2)PUSPITA",
           "(3)ITA",
           "(2)PUSPITA",
           "(3)INDAH",
           "(2)PUSPITA",
           "(3)EKA",
           "(2)PUSPITA",
           "(3)TITA",
           "(2)PUSPITA",
           "(3)DEWI",
           "(2)PURNAMA",
           "(3)INDAH",
           "(2)PURNAMA",
           "(3)ITA",
           "(2)PURNAMA",
           "(3)INTAN",
           "(2)PURNAMA",
           "(3)WULAN",
           "(2)PURNAMA",
           "(3)SRI",
           "(2)WULAN",
           "(3)DEWI",
           "(2)WULAN",
           "(3)RATNA",
           "(2)WULAN",
           "(3)NUR",
           "(2)WULAN",
           "(3)SITI",
           "(2)WULAN",
           "(3)KOKOM",
           "(2)KOMALA",
           "(3)SITI",
           "(2)KOMALA",
           "(3)DEWI",
           "(2)KOMALA",
           "(3)RATNA",
           "(2)KOMALA",
           "(3)NUR",
           "(2)KOMALA",
           "(3)ASEP",
           "(2)WAWAN",
           "(3)MUHAMAD",
           "(2)WAWAN",
           "(3)DEDE",
           "(2)WAWAN",
           "(3)AGUS",
           "(2)WAWAN",
           "(3)BIN",
           "(2)WAWAN",
           "(3)ASEP",
           "(2)GUGUN",
           "(3)MUHAMAD",
           "(2)GUGUN",
           "(3)ACEP",
           "(2)GUGUN",
           "(3)M",
           "(2)GUGUN",
           "(3)MUHAMMAD",
           "(2)GUGUN",
           "(3)WAWAN",
           "(2)AGUS",
           "(3)ASEP",
           "(2)AGUS",
           "(3)CEP",
           "(2)AGUS",
           "(3)FRANS",
           "(2)AGUS",
           "(3)RIYANA",
           "(2)AGUS",
           "(3)ASEP",
           "(2)IWAN",
           "(3)DEDE",
           "(2)IWAN",
           "(3)R",
           "(2)IWAN",
           "(3)ADE",
           "(2)IWAN",
           "(3)WAWAN",
           "(2)IWAN",
           "(3)ASEP",
           "(2)HENDRA",
           "(3)IWAN",
           "(2)HENDRA",
           "(3)AGUS",
           "(2)HENDRA",
           "(3)DEDE",
           "(2)HENDRA",
           "(3)ADE",
           "(2)HENDRA",
           "(4)MOHAMAD",
           "(3)AGUS",
           "(4)M",
           "(3)ADE",
           "(4)ATEP",
           "(3)AHMAD",
           "(4)OLLS",
           "(3)ADE",
           "(4)H",
           "(3)ASEP",
           "(4)LILIK",
           "(3)HENDRA",
           "(4)CAROLUS",
           "(3)AGUNG",
           "(4)HJ",
           "(3)AI",
           "(4)PUTRI",
           "(3)DEWI",
           "(4)SINTA",
           "(3)DEWI",
           "(4)SITI",
           "(3)DEWI",
           "(4)NOVITA",
           "(3)DEWI",
           "(4)AI",
           "(3)DEWI",
           "(4)NENENG",
           "(3)DESI",
           "(4)EKA",
           "(3)DESI",
           "(4)AI",
           "(3)DESI",
           "(4)TRI",
           "(3)DESI",
           "(4)DINI",
           "(3)DESI",
           "(4)SANTI",
           "(3)SRI",
           "(4)DEWI",
           "(3)SRI",
           "(4)EVA",
           "(3)SRI",
           "(4)RINI",
           "(3)SRI",
           "(4)ENDAH",
           "(3)SRI",
           "(4)DIAH",
           "(3)AYU",
           "(4)DEWI",
           "(3)AYU",
           "(4)NENG",
           "(3)AYU",
           "(4)RIA",
           "(3)AYU",
           "(4)DESI",
           "(3)AYU",
           "(4)AI",
           "(3)YAYAH",
           "(4)PEGI",
           "(3)DEWI",
           "(4)IDA",
           "(3)DEWI",
           "(4)EUIS",
           "(3)DEWI",
           "(4)ROKIMAH",
           "(3)DEWI",
           "(4)INTAN",
           "(3)DEWI",
           "(4)SUMIATI",
           "(3)ITA",
           "(4)LIA",
           "(3)INDAH",
           "(4)NURUL",
           "(3)INDAH",
           "(4)SHANTI",
           "(3)INDAH",
           "(4)RIANA",
           "(3)INDAH",
           "(4)DEWI",
           "(3)INDAH",
           "(4)RINDU",
           "(3)EKA",
           "(4)DIAN",
           "(3)EKA",
           "(4)NERITA",
           "(3)EKA",
           "(4)FITRI",
           "(3)EKA",
           "(4)ERWIN",
           "(3)EKA",
           "(4)NENG",
           "(3)TITA",
           "(4)DEDE",
           "(3)TITA",
           "(4)NEULIS",
           "(3)TITA",
           "(4)SHINTA",
           "(3)DEWI",
           "(4)SISKA",
           "(3)DEWI",
           "(4)SINTA",
           "(3)DEWI",
           "(4)ANITA",
           "(3)DEWI",
           "(4)SHITA",
           "(3)DEWI",
           "(4)RATNA",
           "(3)INDAH",
           "(4)SILVIE",
           "(3)INDAH",
           "(4)SUGIARTI",
           "(3)INDAH",
           "(4)INTAN",
           "(3)INDAH",
           "(4)DESI",
           "(3)INDAH",
           "(4)DEDE",
           "(3)ITA",
           "(4)ROSDAH",
           "(3)ITA",
           "(4)DEVI",
           "(3)ITA",
           "(4)MAIDA",
           "(3)ITA",
           "(4)DEWI",
           "(3)INTAN",
           "(4)SANTI",
           "(3)INTAN",
           "(4)NENG",
           "(3)INTAN",
           "(4)DEVI",
           "(3)INTAN",
           "(4)NUR",
           "(3)INTAN",
           "(4)RATNA",
           "(3)WULAN",
           "(4)DEWI",
           "(3)WULAN",
           "(4)LULU",
           "(3)WULAN",
           "(4)LENI",
           "(3)WULAN",
           "(4)INTAN",
           "(3)WULAN",
           "(4)EUIS",
           "(3)SRI",
           "(4)AYI",
           "(3)SRI",
           "(4)NENG",
           "(3)SRI",
           "(4)ISMI",
           "(3)SRI",
           "(4)IMAS",
           "(3)SRI",
           "(4)RATNA",
           "(3)DEWI",
           "(4)IMAS",
           "(3)DEWI",
           "(4)SRI",
           "(3)DEWI",
           "(4)DESI",
           "(3)RATNA",
           "(4)RESTI",
           "(3)RATNA",
           "(4)LIDIA",
           "(3)RATNA",
           "(4)SRI",
           "(3)RATNA",
           "(4)HANNY",
           "(3)RATNA",
           "(4)SITI",
           "(3)NUR",
           "(4)WULAN",
           "(3)NUR",
           "(4)DWI",
           "(3)NUR",
           "(4)DEDE",
           "(3)NUR",
           "(4)HEVITA",
           "(3)NUR",
           "(4)ENENG",
           "(3)SITI",
           "(4)NENG",
           "(3)SITI",
           "(4)AI",
           "(3)KOKOM",
           "(4)NON",
           "(3)KOKOM",
           "(4)SITI",
           "(3)KOKOM",
           "(4)IIS",
           "(3)KOKOM",
           "(4)NENENG",
           "(3)SITI",
           "(4)RASEM",
           "(3)SITI",
           "(4)EUIS",
           "(3)SITI",
           "(4)OMAS",
           "(3)DEWI",
           "(4)N",
           "(3)DEWI",
           "(4)WATI",
           "(3)DEWI",
           "(4)NR",
           "(3)DEWI",
           "(4)FITRIA",
           "(3)DEWI",
           "(4)KOKOM",
           "(3)RATNA",
           "(4)LILIS",
           "(3)RATNA",
           "(4)AIT",
           "(3)RATNA",
           "(4)IMAS",
           "(3)RATNA",
           "(4)CUCU",
           "(3)RATNA",
           "(4)SITI",
           "(3)NUR",
           "(4)SUSAN",
           "(3)NUR",
           "(4)GITA",
           "(3)NUR",
           "(4)DEWI",
           "(3)NUR",
           "(4)IMAS",
           "(3)NUR",
           "(4)SUSILAWATI",
           "(3)BIN",
           "(4)RIZKY",
           "(3)BIN",
           "(4)BAMBANG",
           "(3)AGUS"
          ],
          "line": {
           "color": "black",
           "width": 0.5
          },
          "pad": 15,
          "thickness": 20
         },
         "type": "sankey"
        }
       ],
       "layout": {
        "font": {
         "color": "black",
         "size": 12
        },
        "height": 2000,
        "template": {
         "data": {
          "bar": [
           {
            "error_x": {
             "color": "#2a3f5f"
            },
            "error_y": {
             "color": "#2a3f5f"
            },
            "marker": {
             "line": {
              "color": "#E5ECF6",
              "width": 0.5
             },
             "pattern": {
              "fillmode": "overlay",
              "size": 10,
              "solidity": 0.2
             }
            },
            "type": "bar"
           }
          ],
          "barpolar": [
           {
            "marker": {
             "line": {
              "color": "#E5ECF6",
              "width": 0.5
             },
             "pattern": {
              "fillmode": "overlay",
              "size": 10,
              "solidity": 0.2
             }
            },
            "type": "barpolar"
           }
          ],
          "carpet": [
           {
            "aaxis": {
             "endlinecolor": "#2a3f5f",
             "gridcolor": "white",
             "linecolor": "white",
             "minorgridcolor": "white",
             "startlinecolor": "#2a3f5f"
            },
            "baxis": {
             "endlinecolor": "#2a3f5f",
             "gridcolor": "white",
             "linecolor": "white",
             "minorgridcolor": "white",
             "startlinecolor": "#2a3f5f"
            },
            "type": "carpet"
           }
          ],
          "choropleth": [
           {
            "colorbar": {
             "outlinewidth": 0,
             "ticks": ""
            },
            "type": "choropleth"
           }
          ],
          "contour": [
           {
            "colorbar": {
             "outlinewidth": 0,
             "ticks": ""
            },
            "colorscale": [
             [
              0,
              "#0d0887"
             ],
             [
              0.1111111111111111,
              "#46039f"
             ],
             [
              0.2222222222222222,
              "#7201a8"
             ],
             [
              0.3333333333333333,
              "#9c179e"
             ],
             [
              0.4444444444444444,
              "#bd3786"
             ],
             [
              0.5555555555555556,
              "#d8576b"
             ],
             [
              0.6666666666666666,
              "#ed7953"
             ],
             [
              0.7777777777777778,
              "#fb9f3a"
             ],
             [
              0.8888888888888888,
              "#fdca26"
             ],
             [
              1,
              "#f0f921"
             ]
            ],
            "type": "contour"
           }
          ],
          "contourcarpet": [
           {
            "colorbar": {
             "outlinewidth": 0,
             "ticks": ""
            },
            "type": "contourcarpet"
           }
          ],
          "heatmap": [
           {
            "colorbar": {
             "outlinewidth": 0,
             "ticks": ""
            },
            "colorscale": [
             [
              0,
              "#0d0887"
             ],
             [
              0.1111111111111111,
              "#46039f"
             ],
             [
              0.2222222222222222,
              "#7201a8"
             ],
             [
              0.3333333333333333,
              "#9c179e"
             ],
             [
              0.4444444444444444,
              "#bd3786"
             ],
             [
              0.5555555555555556,
              "#d8576b"
             ],
             [
              0.6666666666666666,
              "#ed7953"
             ],
             [
              0.7777777777777778,
              "#fb9f3a"
             ],
             [
              0.8888888888888888,
              "#fdca26"
             ],
             [
              1,
              "#f0f921"
             ]
            ],
            "type": "heatmap"
           }
          ],
          "heatmapgl": [
           {
            "colorbar": {
             "outlinewidth": 0,
             "ticks": ""
            },
            "colorscale": [
             [
              0,
              "#0d0887"
             ],
             [
              0.1111111111111111,
              "#46039f"
             ],
             [
              0.2222222222222222,
              "#7201a8"
             ],
             [
              0.3333333333333333,
              "#9c179e"
             ],
             [
              0.4444444444444444,
              "#bd3786"
             ],
             [
              0.5555555555555556,
              "#d8576b"
             ],
             [
              0.6666666666666666,
              "#ed7953"
             ],
             [
              0.7777777777777778,
              "#fb9f3a"
             ],
             [
              0.8888888888888888,
              "#fdca26"
             ],
             [
              1,
              "#f0f921"
             ]
            ],
            "type": "heatmapgl"
           }
          ],
          "histogram": [
           {
            "marker": {
             "pattern": {
              "fillmode": "overlay",
              "size": 10,
              "solidity": 0.2
             }
            },
            "type": "histogram"
           }
          ],
          "histogram2d": [
           {
            "colorbar": {
             "outlinewidth": 0,
             "ticks": ""
            },
            "colorscale": [
             [
              0,
              "#0d0887"
             ],
             [
              0.1111111111111111,
              "#46039f"
             ],
             [
              0.2222222222222222,
              "#7201a8"
             ],
             [
              0.3333333333333333,
              "#9c179e"
             ],
             [
              0.4444444444444444,
              "#bd3786"
             ],
             [
              0.5555555555555556,
              "#d8576b"
             ],
             [
              0.6666666666666666,
              "#ed7953"
             ],
             [
              0.7777777777777778,
              "#fb9f3a"
             ],
             [
              0.8888888888888888,
              "#fdca26"
             ],
             [
              1,
              "#f0f921"
             ]
            ],
            "type": "histogram2d"
           }
          ],
          "histogram2dcontour": [
           {
            "colorbar": {
             "outlinewidth": 0,
             "ticks": ""
            },
            "colorscale": [
             [
              0,
              "#0d0887"
             ],
             [
              0.1111111111111111,
              "#46039f"
             ],
             [
              0.2222222222222222,
              "#7201a8"
             ],
             [
              0.3333333333333333,
              "#9c179e"
             ],
             [
              0.4444444444444444,
              "#bd3786"
             ],
             [
              0.5555555555555556,
              "#d8576b"
             ],
             [
              0.6666666666666666,
              "#ed7953"
             ],
             [
              0.7777777777777778,
              "#fb9f3a"
             ],
             [
              0.8888888888888888,
              "#fdca26"
             ],
             [
              1,
              "#f0f921"
             ]
            ],
            "type": "histogram2dcontour"
           }
          ],
          "mesh3d": [
           {
            "colorbar": {
             "outlinewidth": 0,
             "ticks": ""
            },
            "type": "mesh3d"
           }
          ],
          "parcoords": [
           {
            "line": {
             "colorbar": {
              "outlinewidth": 0,
              "ticks": ""
             }
            },
            "type": "parcoords"
           }
          ],
          "pie": [
           {
            "automargin": true,
            "type": "pie"
           }
          ],
          "scatter": [
           {
            "fillpattern": {
             "fillmode": "overlay",
             "size": 10,
             "solidity": 0.2
            },
            "type": "scatter"
           }
          ],
          "scatter3d": [
           {
            "line": {
             "colorbar": {
              "outlinewidth": 0,
              "ticks": ""
             }
            },
            "marker": {
             "colorbar": {
              "outlinewidth": 0,
              "ticks": ""
             }
            },
            "type": "scatter3d"
           }
          ],
          "scattercarpet": [
           {
            "marker": {
             "colorbar": {
              "outlinewidth": 0,
              "ticks": ""
             }
            },
            "type": "scattercarpet"
           }
          ],
          "scattergeo": [
           {
            "marker": {
             "colorbar": {
              "outlinewidth": 0,
              "ticks": ""
             }
            },
            "type": "scattergeo"
           }
          ],
          "scattergl": [
           {
            "marker": {
             "colorbar": {
              "outlinewidth": 0,
              "ticks": ""
             }
            },
            "type": "scattergl"
           }
          ],
          "scattermapbox": [
           {
            "marker": {
             "colorbar": {
              "outlinewidth": 0,
              "ticks": ""
             }
            },
            "type": "scattermapbox"
           }
          ],
          "scatterpolar": [
           {
            "marker": {
             "colorbar": {
              "outlinewidth": 0,
              "ticks": ""
             }
            },
            "type": "scatterpolar"
           }
          ],
          "scatterpolargl": [
           {
            "marker": {
             "colorbar": {
              "outlinewidth": 0,
              "ticks": ""
             }
            },
            "type": "scatterpolargl"
           }
          ],
          "scatterternary": [
           {
            "marker": {
             "colorbar": {
              "outlinewidth": 0,
              "ticks": ""
             }
            },
            "type": "scatterternary"
           }
          ],
          "surface": [
           {
            "colorbar": {
             "outlinewidth": 0,
             "ticks": ""
            },
            "colorscale": [
             [
              0,
              "#0d0887"
             ],
             [
              0.1111111111111111,
              "#46039f"
             ],
             [
              0.2222222222222222,
              "#7201a8"
             ],
             [
              0.3333333333333333,
              "#9c179e"
             ],
             [
              0.4444444444444444,
              "#bd3786"
             ],
             [
              0.5555555555555556,
              "#d8576b"
             ],
             [
              0.6666666666666666,
              "#ed7953"
             ],
             [
              0.7777777777777778,
              "#fb9f3a"
             ],
             [
              0.8888888888888888,
              "#fdca26"
             ],
             [
              1,
              "#f0f921"
             ]
            ],
            "type": "surface"
           }
          ],
          "table": [
           {
            "cells": {
             "fill": {
              "color": "#EBF0F8"
             },
             "line": {
              "color": "white"
             }
            },
            "header": {
             "fill": {
              "color": "#C8D4E3"
             },
             "line": {
              "color": "white"
             }
            },
            "type": "table"
           }
          ]
         },
         "layout": {
          "annotationdefaults": {
           "arrowcolor": "#2a3f5f",
           "arrowhead": 0,
           "arrowwidth": 1
          },
          "autotypenumbers": "strict",
          "coloraxis": {
           "colorbar": {
            "outlinewidth": 0,
            "ticks": ""
           }
          },
          "colorscale": {
           "diverging": [
            [
             0,
             "#8e0152"
            ],
            [
             0.1,
             "#c51b7d"
            ],
            [
             0.2,
             "#de77ae"
            ],
            [
             0.3,
             "#f1b6da"
            ],
            [
             0.4,
             "#fde0ef"
            ],
            [
             0.5,
             "#f7f7f7"
            ],
            [
             0.6,
             "#e6f5d0"
            ],
            [
             0.7,
             "#b8e186"
            ],
            [
             0.8,
             "#7fbc41"
            ],
            [
             0.9,
             "#4d9221"
            ],
            [
             1,
             "#276419"
            ]
           ],
           "sequential": [
            [
             0,
             "#0d0887"
            ],
            [
             0.1111111111111111,
             "#46039f"
            ],
            [
             0.2222222222222222,
             "#7201a8"
            ],
            [
             0.3333333333333333,
             "#9c179e"
            ],
            [
             0.4444444444444444,
             "#bd3786"
            ],
            [
             0.5555555555555556,
             "#d8576b"
            ],
            [
             0.6666666666666666,
             "#ed7953"
            ],
            [
             0.7777777777777778,
             "#fb9f3a"
            ],
            [
             0.8888888888888888,
             "#fdca26"
            ],
            [
             1,
             "#f0f921"
            ]
           ],
           "sequentialminus": [
            [
             0,
             "#0d0887"
            ],
            [
             0.1111111111111111,
             "#46039f"
            ],
            [
             0.2222222222222222,
             "#7201a8"
            ],
            [
             0.3333333333333333,
             "#9c179e"
            ],
            [
             0.4444444444444444,
             "#bd3786"
            ],
            [
             0.5555555555555556,
             "#d8576b"
            ],
            [
             0.6666666666666666,
             "#ed7953"
            ],
            [
             0.7777777777777778,
             "#fb9f3a"
            ],
            [
             0.8888888888888888,
             "#fdca26"
            ],
            [
             1,
             "#f0f921"
            ]
           ]
          },
          "colorway": [
           "#636efa",
           "#EF553B",
           "#00cc96",
           "#ab63fa",
           "#FFA15A",
           "#19d3f3",
           "#FF6692",
           "#B6E880",
           "#FF97FF",
           "#FECB52"
          ],
          "font": {
           "color": "#2a3f5f"
          },
          "geo": {
           "bgcolor": "white",
           "lakecolor": "white",
           "landcolor": "#E5ECF6",
           "showlakes": true,
           "showland": true,
           "subunitcolor": "white"
          },
          "hoverlabel": {
           "align": "left"
          },
          "hovermode": "closest",
          "mapbox": {
           "style": "light"
          },
          "paper_bgcolor": "white",
          "plot_bgcolor": "#E5ECF6",
          "polar": {
           "angularaxis": {
            "gridcolor": "white",
            "linecolor": "white",
            "ticks": ""
           },
           "bgcolor": "#E5ECF6",
           "radialaxis": {
            "gridcolor": "white",
            "linecolor": "white",
            "ticks": ""
           }
          },
          "scene": {
           "xaxis": {
            "backgroundcolor": "#E5ECF6",
            "gridcolor": "white",
            "gridwidth": 2,
            "linecolor": "white",
            "showbackground": true,
            "ticks": "",
            "zerolinecolor": "white"
           },
           "yaxis": {
            "backgroundcolor": "#E5ECF6",
            "gridcolor": "white",
            "gridwidth": 2,
            "linecolor": "white",
            "showbackground": true,
            "ticks": "",
            "zerolinecolor": "white"
           },
           "zaxis": {
            "backgroundcolor": "#E5ECF6",
            "gridcolor": "white",
            "gridwidth": 2,
            "linecolor": "white",
            "showbackground": true,
            "ticks": "",
            "zerolinecolor": "white"
           }
          },
          "shapedefaults": {
           "line": {
            "color": "#2a3f5f"
           }
          },
          "ternary": {
           "aaxis": {
            "gridcolor": "white",
            "linecolor": "white",
            "ticks": ""
           },
           "baxis": {
            "gridcolor": "white",
            "linecolor": "white",
            "ticks": ""
           },
           "bgcolor": "#E5ECF6",
           "caxis": {
            "gridcolor": "white",
            "linecolor": "white",
            "ticks": ""
           }
          },
          "title": {
           "x": 0.05
          },
          "xaxis": {
           "automargin": true,
           "gridcolor": "white",
           "linecolor": "white",
           "ticks": "",
           "title": {
            "standoff": 15
           },
           "zerolinecolor": "white",
           "zerolinewidth": 2
          },
          "yaxis": {
           "automargin": true,
           "gridcolor": "white",
           "linecolor": "white",
           "ticks": "",
           "title": {
            "standoff": 15
           },
           "zerolinecolor": "white",
           "zerolinewidth": 2
          }
         }
        },
        "title": {
         "text": "Flow of People between Groups"
        },
        "width": 800
       }
      }
     },
     "metadata": {},
     "output_type": "display_data"
    }
   ],
   "source": [
    "import plotly.graph_objects as go\n",
    "\n",
    "# Define the nodes and links\n",
    "# nodes = [\n",
    "#     {'label': 'Group A'},\n",
    "#     {'label': 'Group B'},\n",
    "#     {'label': 'Group C'},\n",
    "# ]\n",
    "\n",
    "# links = [\n",
    "#     {'source': 0, 'target': 1, 'value': 50},   # Flow from Group A to Group B with a value of 50\n",
    "#     {'source': 0, 'target': 2, 'value': 30},   # Flow from Group A to Group C with a value of 30\n",
    "#     {'source': 1, 'target': 2, 'value': 20},   # Flow from Group B to Group C with a value of 20\n",
    "# ]\n",
    "\n",
    "# Create the Sankey diagram\n",
    "fig = go.Figure(data=[go.Sankey(\n",
    "    node=dict(\n",
    "        pad=15,\n",
    "        thickness=20,\n",
    "        line=dict(color='black', width=0.5),\n",
    "        label=[node['label'] for node in nodes],\n",
    "        # x=[node['x'] for node in nodes], \n",
    "        # y=[node['y'] for node in nodes], \n",
    "    ),\n",
    "    link=dict(\n",
    "        source=[link['source'] for link in links],\n",
    "        target=[link['target'] for link in links],\n",
    "        value=[link['value'] for link in links],\n",
    "    ),\n",
    "    # arrangement=\"fixed\"  # Set the arrangement to \"fixed\"\n",
    ")])\n",
    "\n",
    "\n",
    "# Customize the layout\n",
    "fig.update_layout(\n",
    "    title='Flow of People between Groups',\n",
    "    font=dict(size=12, color='black'),\n",
    "    # Set the figure size\n",
    "    width=800,\n",
    "    height=2000\n",
    ")\n",
    "\n",
    "# Display the figure\n",
    "fig.show()\n"
   ]
  },
  {
   "attachments": {},
   "cell_type": "markdown",
   "metadata": {},
   "source": [
    "### ete"
   ]
  },
  {
   "cell_type": "code",
   "execution_count": 173,
   "metadata": {},
   "outputs": [
    {
     "name": "stdout",
     "output_type": "stream",
     "text": [
      "Collecting ete3\n",
      "  Downloading ete3-3.1.3.tar.gz (4.8 MB)\n",
      "     ---------------------------------------- 4.8/4.8 MB 1.2 MB/s eta 0:00:00\n",
      "  Preparing metadata (setup.py): started\n",
      "  Preparing metadata (setup.py): finished with status 'done'\n",
      "Installing collected packages: ete3\n",
      "  Running setup.py install for ete3: started\n",
      "  Running setup.py install for ete3: finished with status 'done'\n",
      "Successfully installed ete3-3.1.3\n"
     ]
    },
    {
     "name": "stderr",
     "output_type": "stream",
     "text": [
      "  DEPRECATION: ete3 is being installed using the legacy 'setup.py install' method, because it does not have a 'pyproject.toml' and the 'wheel' package is not installed. pip 23.1 will enforce this behaviour change. A possible replacement is to enable the '--use-pep517' option. Discussion can be found at https://github.com/pypa/pip/issues/8559\n",
      "\n",
      "[notice] A new release of pip available: 22.3 -> 23.1.2\n",
      "[notice] To update, run: python.exe -m pip install --upgrade pip\n"
     ]
    }
   ],
   "source": [
    "!pip install ete3"
   ]
  },
  {
   "cell_type": "code",
   "execution_count": 179,
   "metadata": {},
   "outputs": [
    {
     "data": {
      "text/plain": [
       "<module 'ete3' from 'c:\\\\Users\\\\yosia\\\\AppData\\\\Local\\\\Programs\\\\Python\\\\Python311\\\\Lib\\\\site-packages\\\\ete3\\\\__init__.py'>"
      ]
     },
     "execution_count": 179,
     "metadata": {},
     "output_type": "execute_result"
    }
   ],
   "source": [
    "import ete3\n",
    "import importlib\n",
    "importlib.reload(ete3)"
   ]
  },
  {
   "cell_type": "code",
   "execution_count": 181,
   "metadata": {},
   "outputs": [
    {
     "name": "stdout",
     "output_type": "stream",
     "text": [
      "^C\n"
     ]
    },
    {
     "name": "stderr",
     "output_type": "stream",
     "text": [
      "ERROR: Could not find a version that satisfies the requirement PyQt4 (from versions: none)\n",
      "ERROR: No matching distribution found for PyQt4\n",
      "\n",
      "[notice] A new release of pip available: 22.3 -> 23.1.2\n",
      "[notice] To update, run: python.exe -m pip install --upgrade pip\n"
     ]
    }
   ],
   "source": [
    "!pip uninstall PyQt5\n",
    "!pip install PyQt4"
   ]
  },
  {
   "cell_type": "code",
   "execution_count": 184,
   "metadata": {},
   "outputs": [
    {
     "data": {
      "text/plain": [
       "'(((aaaaaaaaac:1,(aaaaaaaaad:1,(aaaaaaaaae:1,aaaaaaaaaf:1)1:1)1:1)1:1,((aaaaaaaaag:1,aaaaaaaaah:1)1:1,(aaaaaaaaai:1,aaaaaaaaaj:1)1:1)1:1)1:1,(((aaaaaaaaak:1,aaaaaaaaal:1)1:1,(aaaaaaaaam:1,(aaaaaaaaan:1,aaaaaaaaao:1)1:1)1:1)1:1,(((aaaaaaaaap:1,aaaaaaaaaq:1)1:1,(aaaaaaaaar:1,aaaaaaaaas:1)1:1)1:1,((aaaaaaaaat:1,(aaaaaaaaau:1,(aaaaaaaaav:1,(aaaaaaaaaw:1,(aaaaaaaaax:1,(aaaaaaaaay:1,aaaaaaaaaz:1)1:1)1:1)1:1)1:1)1:1)1:1,((aaaaaaaabb:1,(aaaaaaaabc:1,(aaaaaaaabd:1,aaaaaaaabe:1)1:1)1:1)1:1,(aaaaaaaaaa:1,aaaaaaaaab:1)1:1)1:1)1:1)1:1)1:1);'"
      ]
     },
     "execution_count": 184,
     "metadata": {},
     "output_type": "execute_result"
    }
   ],
   "source": [
    "from ete3 import Tree, TreeStyle\n",
    "t = Tree()\n",
    "t.populate(30)\n",
    "ts = TreeStyle()\n",
    "ts.show_leaf_name = True\n",
    "ts.mode = \"c\"\n",
    "ts.arc_start = -180 # 0 degrees = 3 o'clock\n",
    "ts.arc_span = 180\n",
    "# t.show(tree_style=ts)\n",
    "t.render(\"mytree.svg\",)\n",
    "# t.write('mytree.svg')"
   ]
  },
  {
   "attachments": {},
   "cell_type": "markdown",
   "metadata": {},
   "source": [
    "### pyvis"
   ]
  },
  {
   "cell_type": "code",
   "execution_count": 192,
   "metadata": {},
   "outputs": [
    {
     "name": "stdout",
     "output_type": "stream",
     "text": [
      "Warning: When  cdn_resources is 'local' jupyter notebook has issues displaying graphics on chrome/safari. Use cdn_resources='in_line' or cdn_resources='remote' if you have issues viewing graphics in a notebook.\n"
     ]
    },
    {
     "ename": "ModuleNotFoundError",
     "evalue": "No module named 'matplotlib'",
     "output_type": "error",
     "traceback": [
      "\u001b[1;31m---------------------------------------------------------------------------\u001b[0m",
      "\u001b[1;31mModuleNotFoundError\u001b[0m                       Traceback (most recent call last)",
      "Cell \u001b[1;32mIn[192], line 22\u001b[0m\n\u001b[0;32m     20\u001b[0m \u001b[39m# Draw the graph\u001b[39;00m\n\u001b[0;32m     21\u001b[0m pos \u001b[39m=\u001b[39m nx\u001b[39m.\u001b[39mspring_layout(G)\n\u001b[1;32m---> 22\u001b[0m nx\u001b[39m.\u001b[39;49mdraw(G, pos, with_labels\u001b[39m=\u001b[39;49m\u001b[39mTrue\u001b[39;49;00m, node_color\u001b[39m=\u001b[39;49m\u001b[39m'\u001b[39;49m\u001b[39mlightblue\u001b[39;49m\u001b[39m'\u001b[39;49m, edge_color\u001b[39m=\u001b[39;49m\u001b[39m'\u001b[39;49m\u001b[39mgray\u001b[39;49m\u001b[39m'\u001b[39;49m, node_size\u001b[39m=\u001b[39;49mnode_sizes)\n\u001b[0;32m     25\u001b[0m nxg \u001b[39m=\u001b[39m nx\u001b[39m.\u001b[39mcomplete_graph(\u001b[39m4\u001b[39m)\n\u001b[0;32m     26\u001b[0m g\u001b[39m.\u001b[39mfrom_nx(G)\n",
      "File \u001b[1;32mc:\\Users\\yosia\\AppData\\Local\\Programs\\Python\\Python311\\Lib\\site-packages\\networkx\\drawing\\nx_pylab.py:105\u001b[0m, in \u001b[0;36mdraw\u001b[1;34m(G, pos, ax, **kwds)\u001b[0m\n\u001b[0;32m     49\u001b[0m \u001b[39mdef\u001b[39;00m \u001b[39mdraw\u001b[39m(G, pos\u001b[39m=\u001b[39m\u001b[39mNone\u001b[39;00m, ax\u001b[39m=\u001b[39m\u001b[39mNone\u001b[39;00m, \u001b[39m*\u001b[39m\u001b[39m*\u001b[39mkwds):\n\u001b[0;32m     50\u001b[0m \u001b[39m    \u001b[39m\u001b[39m\"\"\"Draw the graph G with Matplotlib.\u001b[39;00m\n\u001b[0;32m     51\u001b[0m \n\u001b[0;32m     52\u001b[0m \u001b[39m    Draw the graph as a simple representation with no node\u001b[39;00m\n\u001b[1;32m   (...)\u001b[0m\n\u001b[0;32m    103\u001b[0m \u001b[39m    https://networkx.org/documentation/latest/auto_examples/index.html\u001b[39;00m\n\u001b[0;32m    104\u001b[0m \u001b[39m    \"\"\"\u001b[39;00m\n\u001b[1;32m--> 105\u001b[0m     \u001b[39mimport\u001b[39;00m \u001b[39mmatplotlib\u001b[39;00m\u001b[39m.\u001b[39;00m\u001b[39mpyplot\u001b[39;00m \u001b[39mas\u001b[39;00m \u001b[39mplt\u001b[39;00m\n\u001b[0;32m    107\u001b[0m     \u001b[39mif\u001b[39;00m ax \u001b[39mis\u001b[39;00m \u001b[39mNone\u001b[39;00m:\n\u001b[0;32m    108\u001b[0m         cf \u001b[39m=\u001b[39m plt\u001b[39m.\u001b[39mgcf()\n",
      "\u001b[1;31mModuleNotFoundError\u001b[0m: No module named 'matplotlib'"
     ]
    }
   ],
   "source": [
    "from pyvis.network import Network\n",
    "import networkx as nx\n",
    "\n",
    "g = Network(notebook=True)\n",
    "import networkx as nx\n",
    "\n",
    "# Create a sample DataFrame\n",
    "df = pd.DataFrame({\n",
    "    'source': ['Node 1', 'Node 1', 'Node 2', 'Node 3'],\n",
    "    'target': ['Node 2', 'Node 3', 'Node 3', 'Node 4'],\n",
    "    'value': [20, 30, 40, 50]\n",
    "})\n",
    "\n",
    "# Create an empty graph\n",
    "G = nx.from_pandas_edgelist(df, 'source', 'target')\n",
    "\n",
    "# Map node sizes based on 'value' column\n",
    "node_sizes = [50 * value for value in df['value']]\n",
    "\n",
    "# Draw the graph\n",
    "pos = nx.spring_layout(G)\n",
    "nx.draw(G, pos, with_labels=True, node_color='lightblue', edge_color='gray', node_size=node_sizes)\n",
    "\n",
    "\n",
    "nxg = nx.complete_graph(4)\n",
    "g.from_nx(G)\n",
    "g.save_graph('graph.html')\n",
    "\n",
    "# nx_graph = nx.cycle_graph(10)\n",
    "# nx_graph.nodes[1]['title'] = 'Number 1'\n",
    "# nx_graph.nodes[1]['group'] = 1\n",
    "# nx_graph.nodes[3]['title'] = 'I belong to a different group!'\n",
    "# nx_graph.nodes[3]['group'] = 10\n",
    "# nx_graph.add_node(20, size=20, title='couple', group=2)\n",
    "# nx_graph.add_node(21, size=15, title='couple', group=2)\n",
    "# nx_graph.add_edge(20, 21, weight=5)\n",
    "# nx_graph.add_node(25, size=25, label='lonely', title='lonely node', group=3)\n",
    "# nt = Network('500px', '500px',notebook=True,cdn_resources='remote')\n",
    "# # populates the nodes and edges data structures\n",
    "# nt.from_nx(nx_graph)\n",
    "# nt.show('nx.html')"
   ]
  },
  {
   "cell_type": "code",
   "execution_count": 20,
   "metadata": {},
   "outputs": [],
   "source": [
    "import pandas as pd\n",
    "import networkx as nx\n",
    "from pyvis.network import Network\n",
    "\n",
    "data = {\n",
    "    'source': ['A', 'B', 'C'],\n",
    "    'target': ['B', 'C', 'A'],\n",
    "    'value': [10, 15, 5]\n",
    "}\n",
    "\n",
    "df = pd.DataFrame(data)\n",
    "\n",
    "G = nx.Graph()\n",
    "\n",
    "for row in df.itertuples(index=False):\n",
    "    G.add_edge(row.source, row.target, value=row.value)\n",
    "\n",
    "nt = Network(height='500px', width='800px')\n",
    "nt.from_nx(G)\n",
    "# nt.show('network.html')\n",
    "nt.save_graph('graph.html')\n"
   ]
  },
  {
   "cell_type": "code",
   "execution_count": 78,
   "metadata": {},
   "outputs": [
    {
     "data": {
      "text/html": [
       "<div>\n",
       "<style scoped>\n",
       "    .dataframe tbody tr th:only-of-type {\n",
       "        vertical-align: middle;\n",
       "    }\n",
       "\n",
       "    .dataframe tbody tr th {\n",
       "        vertical-align: top;\n",
       "    }\n",
       "\n",
       "    .dataframe thead th {\n",
       "        text-align: right;\n",
       "    }\n",
       "</style>\n",
       "<table border=\"1\" class=\"dataframe\">\n",
       "  <thead>\n",
       "    <tr style=\"text-align: right;\">\n",
       "      <th></th>\n",
       "      <th>target</th>\n",
       "      <th>source</th>\n",
       "      <th>value</th>\n",
       "      <th>y</th>\n",
       "    </tr>\n",
       "  </thead>\n",
       "  <tbody>\n",
       "    <tr>\n",
       "      <th>0</th>\n",
       "      <td>None</td>\n",
       "      <td>HIDAYAT\\n(172827)</td>\n",
       "      <td>172827</td>\n",
       "      <td>0.0</td>\n",
       "    </tr>\n",
       "    <tr>\n",
       "      <th>1</th>\n",
       "      <td>HIDAYAT\\n(172827)</td>\n",
       "      <td>RAHMAT\\nHIDAYAT\\n(13974)</td>\n",
       "      <td>13974</td>\n",
       "      <td>0.0</td>\n",
       "    </tr>\n",
       "    <tr>\n",
       "      <th>2</th>\n",
       "      <td>HIDAYAT\\n(172827)</td>\n",
       "      <td>TAUFIK\\nHIDAYAT\\n(8481)</td>\n",
       "      <td>8481</td>\n",
       "      <td>0.2</td>\n",
       "    </tr>\n",
       "    <tr>\n",
       "      <th>3</th>\n",
       "      <td>HIDAYAT\\n(172827)</td>\n",
       "      <td>SARIP\\nHIDAYAT\\n(5225)</td>\n",
       "      <td>5225</td>\n",
       "      <td>0.4</td>\n",
       "    </tr>\n",
       "    <tr>\n",
       "      <th>4</th>\n",
       "      <td>HIDAYAT\\n(172827)</td>\n",
       "      <td>YAYAT\\nHIDAYAT\\n(4898)</td>\n",
       "      <td>4898</td>\n",
       "      <td>0.6</td>\n",
       "    </tr>\n",
       "    <tr>\n",
       "      <th>5</th>\n",
       "      <td>HIDAYAT\\n(172827)</td>\n",
       "      <td>AHMAD\\nHIDAYAT\\n(4353)</td>\n",
       "      <td>4353</td>\n",
       "      <td>0.8</td>\n",
       "    </tr>\n",
       "    <tr>\n",
       "      <th>6</th>\n",
       "      <td>ASEP\\nRAHMAT\\n(270)</td>\n",
       "      <td>ASEP\\nRAHMAT\\nHIDAYAT\\n(270)</td>\n",
       "      <td>270</td>\n",
       "      <td>0.0</td>\n",
       "    </tr>\n",
       "    <tr>\n",
       "      <th>7</th>\n",
       "      <td>ADE\\nRAHMAT\\n(127)</td>\n",
       "      <td>ADE\\nRAHMAT\\nHIDAYAT\\n(127)</td>\n",
       "      <td>127</td>\n",
       "      <td>0.2</td>\n",
       "    </tr>\n",
       "    <tr>\n",
       "      <th>8</th>\n",
       "      <td>DEDE\\nRAHMAT\\n(123)</td>\n",
       "      <td>DEDE\\nRAHMAT\\nHIDAYAT\\n(123)</td>\n",
       "      <td>123</td>\n",
       "      <td>0.4</td>\n",
       "    </tr>\n",
       "    <tr>\n",
       "      <th>9</th>\n",
       "      <td>AGUS\\nRAHMAT\\n(82)</td>\n",
       "      <td>AGUS\\nRAHMAT\\nHIDAYAT\\n(82)</td>\n",
       "      <td>82</td>\n",
       "      <td>0.6</td>\n",
       "    </tr>\n",
       "    <tr>\n",
       "      <th>10</th>\n",
       "      <td>UJANG\\nRAHMAT\\n(75)</td>\n",
       "      <td>UJANG\\nRAHMAT\\nHIDAYAT\\n(75)</td>\n",
       "      <td>75</td>\n",
       "      <td>0.8</td>\n",
       "    </tr>\n",
       "    <tr>\n",
       "      <th>11</th>\n",
       "      <td>MUHAMAD\\nTAUFIK\\n(138)</td>\n",
       "      <td>MUHAMAD\\nTAUFIK\\nHIDAYAT\\n(138)</td>\n",
       "      <td>138</td>\n",
       "      <td>1.0</td>\n",
       "    </tr>\n",
       "    <tr>\n",
       "      <th>12</th>\n",
       "      <td>ASEP\\nTAUFIK\\n(91)</td>\n",
       "      <td>ASEP\\nTAUFIK\\nHIDAYAT\\n(91)</td>\n",
       "      <td>91</td>\n",
       "      <td>1.2</td>\n",
       "    </tr>\n",
       "    <tr>\n",
       "      <th>13</th>\n",
       "      <td>MUHAMMAD\\nTAUFIK\\n(83)</td>\n",
       "      <td>MUHAMMAD\\nTAUFIK\\nHIDAYAT\\n(83)</td>\n",
       "      <td>83</td>\n",
       "      <td>1.4</td>\n",
       "    </tr>\n",
       "    <tr>\n",
       "      <th>14</th>\n",
       "      <td>AHMAD\\nTAUFIK\\n(62)</td>\n",
       "      <td>AHMAD\\nTAUFIK\\nHIDAYAT\\n(62)</td>\n",
       "      <td>62</td>\n",
       "      <td>1.6</td>\n",
       "    </tr>\n",
       "    <tr>\n",
       "      <th>15</th>\n",
       "      <td>AGUS\\nTAUFIK\\n(40)</td>\n",
       "      <td>AGUS\\nTAUFIK\\nHIDAYAT\\n(40)</td>\n",
       "      <td>40</td>\n",
       "      <td>1.8</td>\n",
       "    </tr>\n",
       "    <tr>\n",
       "      <th>16</th>\n",
       "      <td>ASEP\\nSARIP\\n(159)</td>\n",
       "      <td>ASEP\\nSARIP\\nHIDAYAT\\n(159)</td>\n",
       "      <td>159</td>\n",
       "      <td>2.0</td>\n",
       "    </tr>\n",
       "    <tr>\n",
       "      <th>17</th>\n",
       "      <td>YAYAT\\nSARIP\\n(69)</td>\n",
       "      <td>YAYAT\\nSARIP\\nHIDAYAT\\n(69)</td>\n",
       "      <td>69</td>\n",
       "      <td>2.2</td>\n",
       "    </tr>\n",
       "    <tr>\n",
       "      <th>18</th>\n",
       "      <td>IIP\\nSARIP\\n(63)</td>\n",
       "      <td>IIP\\nSARIP\\nHIDAYAT\\n(63)</td>\n",
       "      <td>63</td>\n",
       "      <td>2.4</td>\n",
       "    </tr>\n",
       "    <tr>\n",
       "      <th>19</th>\n",
       "      <td>DEDE\\nSARIP\\n(62)</td>\n",
       "      <td>DEDE\\nSARIP\\nHIDAYAT\\n(62)</td>\n",
       "      <td>62</td>\n",
       "      <td>2.6</td>\n",
       "    </tr>\n",
       "  </tbody>\n",
       "</table>\n",
       "</div>"
      ],
      "text/plain": [
       "                    target                           source   value    y\n",
       "0                     None                HIDAYAT\\n(172827)  172827  0.0\n",
       "1        HIDAYAT\\n(172827)         RAHMAT\\nHIDAYAT\\n(13974)   13974  0.0\n",
       "2        HIDAYAT\\n(172827)          TAUFIK\\nHIDAYAT\\n(8481)    8481  0.2\n",
       "3        HIDAYAT\\n(172827)           SARIP\\nHIDAYAT\\n(5225)    5225  0.4\n",
       "4        HIDAYAT\\n(172827)           YAYAT\\nHIDAYAT\\n(4898)    4898  0.6\n",
       "5        HIDAYAT\\n(172827)           AHMAD\\nHIDAYAT\\n(4353)    4353  0.8\n",
       "6      ASEP\\nRAHMAT\\n(270)     ASEP\\nRAHMAT\\nHIDAYAT\\n(270)     270  0.0\n",
       "7       ADE\\nRAHMAT\\n(127)      ADE\\nRAHMAT\\nHIDAYAT\\n(127)     127  0.2\n",
       "8      DEDE\\nRAHMAT\\n(123)     DEDE\\nRAHMAT\\nHIDAYAT\\n(123)     123  0.4\n",
       "9       AGUS\\nRAHMAT\\n(82)      AGUS\\nRAHMAT\\nHIDAYAT\\n(82)      82  0.6\n",
       "10     UJANG\\nRAHMAT\\n(75)     UJANG\\nRAHMAT\\nHIDAYAT\\n(75)      75  0.8\n",
       "11  MUHAMAD\\nTAUFIK\\n(138)  MUHAMAD\\nTAUFIK\\nHIDAYAT\\n(138)     138  1.0\n",
       "12      ASEP\\nTAUFIK\\n(91)      ASEP\\nTAUFIK\\nHIDAYAT\\n(91)      91  1.2\n",
       "13  MUHAMMAD\\nTAUFIK\\n(83)  MUHAMMAD\\nTAUFIK\\nHIDAYAT\\n(83)      83  1.4\n",
       "14     AHMAD\\nTAUFIK\\n(62)     AHMAD\\nTAUFIK\\nHIDAYAT\\n(62)      62  1.6\n",
       "15      AGUS\\nTAUFIK\\n(40)      AGUS\\nTAUFIK\\nHIDAYAT\\n(40)      40  1.8\n",
       "16      ASEP\\nSARIP\\n(159)      ASEP\\nSARIP\\nHIDAYAT\\n(159)     159  2.0\n",
       "17      YAYAT\\nSARIP\\n(69)      YAYAT\\nSARIP\\nHIDAYAT\\n(69)      69  2.2\n",
       "18        IIP\\nSARIP\\n(63)        IIP\\nSARIP\\nHIDAYAT\\n(63)      63  2.4\n",
       "19       DEDE\\nSARIP\\n(62)       DEDE\\nSARIP\\nHIDAYAT\\n(62)      62  2.6"
      ]
     },
     "execution_count": 78,
     "metadata": {},
     "output_type": "execute_result"
    }
   ],
   "source": [
    "source_target_df.head(20)"
   ]
  },
  {
   "cell_type": "code",
   "execution_count": 93,
   "metadata": {},
   "outputs": [],
   "source": [
    "import pandas as pd\n",
    "import networkx as nx\n",
    "from pyvis.network import Network\n",
    "\n",
    "# data = {\n",
    "#     'source': ['A', 'B', 'C'],\n",
    "#     'target': ['B', 'C', 'A'],\n",
    "#     'value': [20, 15, 5],\n",
    "#     'node_size': [10, 30, 15]\n",
    "# }\n",
    "\n",
    "# df = pd.DataFrame(data)\n",
    "\n",
    "graph_df = source_target_df.copy()\n",
    "\n",
    "G = nx.Graph()\n",
    "\n",
    "for row in graph_df.itertuples(index=False):\n",
    "    if not row.target:\n",
    "        continue\n",
    "    # G.add_edge(row.source, row.target, value=row.value/100)\n",
    "    G.add_edge(row.source, row.target)\n",
    "    # G.add_edge(1, 3, weight=7, capacity=15, length=342.7)\n",
    "\n",
    "# nt = Network(height='500px', width='800px',directed=True)\n",
    "nt = Network(height='500px', width='800px')\n",
    "\n",
    "# Add nodes to the network with their respective sizes\n",
    "for node in G.nodes:\n",
    "    if node:\n",
    "        node_size = graph_df.loc[graph_df['source'] == node, 'value'].values[0]\n",
    "        node_size = int(node_size)\n",
    "        if node_size > 100000:\n",
    "            node_size = 40\n",
    "        elif node_size > 10000:\n",
    "            node_size = 30\n",
    "        elif node_size > 1000:\n",
    "            node_size = 20\n",
    "        else:\n",
    "            node_size = 10\n",
    "        # nt.add_node(node, size=node_size)\n",
    "        nt.add_node(node, size=node_size)\n",
    "        # nt.add_node(node)\n",
    "\n",
    "# Add edges to the network\n",
    "# for edge in G.edges:\n",
    "#     nt.add_edge(edge[0], edge[1])\n",
    "nt.from_nx(G)\n",
    "nt.save_graph('graph.html')"
   ]
  },
  {
   "cell_type": "code",
   "execution_count": 84,
   "metadata": {},
   "outputs": [
    {
     "data": {
      "text/html": [
       "<div>\n",
       "<style scoped>\n",
       "    .dataframe tbody tr th:only-of-type {\n",
       "        vertical-align: middle;\n",
       "    }\n",
       "\n",
       "    .dataframe tbody tr th {\n",
       "        vertical-align: top;\n",
       "    }\n",
       "\n",
       "    .dataframe thead th {\n",
       "        text-align: right;\n",
       "    }\n",
       "</style>\n",
       "<table border=\"1\" class=\"dataframe\">\n",
       "  <thead>\n",
       "    <tr style=\"text-align: right;\">\n",
       "      <th></th>\n",
       "      <th>target</th>\n",
       "      <th>source</th>\n",
       "      <th>value</th>\n",
       "      <th>y</th>\n",
       "    </tr>\n",
       "  </thead>\n",
       "  <tbody>\n",
       "    <tr>\n",
       "      <th>0</th>\n",
       "      <td>None</td>\n",
       "      <td>HIDAYAT\\n(172827)</td>\n",
       "      <td>172827</td>\n",
       "      <td>0.0</td>\n",
       "    </tr>\n",
       "    <tr>\n",
       "      <th>1</th>\n",
       "      <td>HIDAYAT\\n(172827)</td>\n",
       "      <td>RAHMAT\\nHIDAYAT\\n(13974)</td>\n",
       "      <td>13974</td>\n",
       "      <td>0.0</td>\n",
       "    </tr>\n",
       "    <tr>\n",
       "      <th>2</th>\n",
       "      <td>HIDAYAT\\n(172827)</td>\n",
       "      <td>TAUFIK\\nHIDAYAT\\n(8481)</td>\n",
       "      <td>8481</td>\n",
       "      <td>0.2</td>\n",
       "    </tr>\n",
       "    <tr>\n",
       "      <th>3</th>\n",
       "      <td>HIDAYAT\\n(172827)</td>\n",
       "      <td>SARIP\\nHIDAYAT\\n(5225)</td>\n",
       "      <td>5225</td>\n",
       "      <td>0.4</td>\n",
       "    </tr>\n",
       "  </tbody>\n",
       "</table>\n",
       "</div>"
      ],
      "text/plain": [
       "              target                    source   value    y\n",
       "0               None         HIDAYAT\\n(172827)  172827  0.0\n",
       "1  HIDAYAT\\n(172827)  RAHMAT\\nHIDAYAT\\n(13974)   13974  0.0\n",
       "2  HIDAYAT\\n(172827)   TAUFIK\\nHIDAYAT\\n(8481)    8481  0.2\n",
       "3  HIDAYAT\\n(172827)    SARIP\\nHIDAYAT\\n(5225)    5225  0.4"
      ]
     },
     "execution_count": 84,
     "metadata": {},
     "output_type": "execute_result"
    }
   ],
   "source": [
    "graph_df"
   ]
  },
  {
   "cell_type": "code",
   "execution_count": 117,
   "metadata": {},
   "outputs": [],
   "source": [
    "import pandas as pd\n",
    "import networkx as nx\n",
    "from pyvis.network import Network\n",
    "\n",
    "# data = {\n",
    "#     'source': ['A', 'B', 'C'],\n",
    "#     'target': ['B', 'C', 'A'],\n",
    "#     'value': [20, 15, 5],\n",
    "#     'node_size': [10, 30, 15]\n",
    "# }\n",
    "\n",
    "# df = pd.DataFrame(data)\n",
    "\n",
    "graph_df = source_first_target_df.copy()\n",
    "\n",
    "G = nx.Graph()\n",
    "\n",
    "for row in graph_df.itertuples(index=False):\n",
    "    if not row.target:\n",
    "        continue\n",
    "    # G.add_edge(row.source, row.target, value=row.value/100)\n",
    "    G.add_edge(row.source, row.target)\n",
    "    # G.add_edge(1, 3, weight=7, capacity=15, length=342.7)\n",
    "\n",
    "# nt = Network(height='500px', width='800px',directed=True)\n",
    "nt = Network(height='500px', width='800px')\n",
    "\n",
    "# Add nodes to the network with their respective sizes\n",
    "for node in G.nodes:\n",
    "    if node:\n",
    "        node_size = graph_df.loc[graph_df['source'] == node, 'value'].values[0]\n",
    "        node_size = int(node_size)\n",
    "        if node_size > 500000:\n",
    "            node_size = 70\n",
    "        elif node_size > 250000:\n",
    "            node_size = 50\n",
    "        elif node_size > 200000:\n",
    "            node_size = 30\n",
    "        elif node_size > 15000:\n",
    "            node_size = 20\n",
    "        elif node_size > 7000:\n",
    "            node_size = 10\n",
    "        else:\n",
    "            node_size = 5\n",
    "        # nt.add_node(node, size=node_size)\n",
    "        nt.add_node(node, size=node_size)\n",
    "        # nt.add_node(node)\n",
    "\n",
    "# Add edges to the network\n",
    "# for edge in G.edges:\n",
    "#     nt.add_edge(edge[0], edge[1])\n",
    "nt.from_nx(G)\n",
    "nt.save_graph('firstname_graph.html')"
   ]
  },
  {
   "cell_type": "code",
   "execution_count": 116,
   "metadata": {},
   "outputs": [
    {
     "data": {
      "text/html": [
       "<div>\n",
       "<style scoped>\n",
       "    .dataframe tbody tr th:only-of-type {\n",
       "        vertical-align: middle;\n",
       "    }\n",
       "\n",
       "    .dataframe tbody tr th {\n",
       "        vertical-align: top;\n",
       "    }\n",
       "\n",
       "    .dataframe thead th {\n",
       "        text-align: right;\n",
       "    }\n",
       "</style>\n",
       "<table border=\"1\" class=\"dataframe\">\n",
       "  <thead>\n",
       "    <tr style=\"text-align: right;\">\n",
       "      <th></th>\n",
       "      <th>target</th>\n",
       "      <th>source</th>\n",
       "      <th>value</th>\n",
       "    </tr>\n",
       "  </thead>\n",
       "  <tbody>\n",
       "    <tr>\n",
       "      <th>0</th>\n",
       "      <td>None</td>\n",
       "      <td>SITI\\n(635073)</td>\n",
       "      <td>635073</td>\n",
       "    </tr>\n",
       "    <tr>\n",
       "      <th>1</th>\n",
       "      <td>None</td>\n",
       "      <td>ASEP\\n(288489)</td>\n",
       "      <td>288489</td>\n",
       "    </tr>\n",
       "    <tr>\n",
       "      <th>2</th>\n",
       "      <td>None</td>\n",
       "      <td>ADE\\n(256033)</td>\n",
       "      <td>256033</td>\n",
       "    </tr>\n",
       "    <tr>\n",
       "      <th>3</th>\n",
       "      <td>None</td>\n",
       "      <td>DEDE\\n(246211)</td>\n",
       "      <td>246211</td>\n",
       "    </tr>\n",
       "    <tr>\n",
       "      <th>4</th>\n",
       "      <td>None</td>\n",
       "      <td>SRI\\n(217163)</td>\n",
       "      <td>217163</td>\n",
       "    </tr>\n",
       "    <tr>\n",
       "      <th>5</th>\n",
       "      <td>SITI\\n(635073)</td>\n",
       "      <td>SITI\\nAMINAH\\n(19741)</td>\n",
       "      <td>19741</td>\n",
       "    </tr>\n",
       "    <tr>\n",
       "      <th>6</th>\n",
       "      <td>SITI\\n(635073)</td>\n",
       "      <td>SITI\\nAISAH\\n(19570)</td>\n",
       "      <td>19570</td>\n",
       "    </tr>\n",
       "    <tr>\n",
       "      <th>7</th>\n",
       "      <td>SITI\\n(635073)</td>\n",
       "      <td>SITI\\nAISYAH\\n(15422)</td>\n",
       "      <td>15422</td>\n",
       "    </tr>\n",
       "    <tr>\n",
       "      <th>8</th>\n",
       "      <td>SITI\\n(635073)</td>\n",
       "      <td>SITI\\nNURJANAH\\n(13962)</td>\n",
       "      <td>13962</td>\n",
       "    </tr>\n",
       "    <tr>\n",
       "      <th>25</th>\n",
       "      <td>SRI\\n(217163)</td>\n",
       "      <td>SRI\\nRAHAYU\\n(13150)</td>\n",
       "      <td>13150</td>\n",
       "    </tr>\n",
       "    <tr>\n",
       "      <th>9</th>\n",
       "      <td>SITI\\n(635073)</td>\n",
       "      <td>SITI\\nFATIMAH\\n(12755)</td>\n",
       "      <td>12755</td>\n",
       "    </tr>\n",
       "    <tr>\n",
       "      <th>10</th>\n",
       "      <td>ASEP\\n(288489)</td>\n",
       "      <td>ASEP\\nSAEPUDIN\\n(11808)</td>\n",
       "      <td>11808</td>\n",
       "    </tr>\n",
       "    <tr>\n",
       "      <th>26</th>\n",
       "      <td>SRI\\n(217163)</td>\n",
       "      <td>SRI\\nWAHYUNI\\n(11205)</td>\n",
       "      <td>11205</td>\n",
       "    </tr>\n",
       "    <tr>\n",
       "      <th>27</th>\n",
       "      <td>SRI\\n(217163)</td>\n",
       "      <td>SRI\\nMULYANI\\n(9432)</td>\n",
       "      <td>9432</td>\n",
       "    </tr>\n",
       "    <tr>\n",
       "      <th>28</th>\n",
       "      <td>SRI\\n(217163)</td>\n",
       "      <td>SRI\\nMULYATI\\n(8579)</td>\n",
       "      <td>8579</td>\n",
       "    </tr>\n",
       "    <tr>\n",
       "      <th>29</th>\n",
       "      <td>SRI\\n(217163)</td>\n",
       "      <td>SRI\\nLESTARI\\n(4891)</td>\n",
       "      <td>4891</td>\n",
       "    </tr>\n",
       "    <tr>\n",
       "      <th>11</th>\n",
       "      <td>ASEP\\n(288489)</td>\n",
       "      <td>ASEP\\nSUPRIATNA\\n(4691)</td>\n",
       "      <td>4691</td>\n",
       "    </tr>\n",
       "    <tr>\n",
       "      <th>12</th>\n",
       "      <td>ASEP\\n(288489)</td>\n",
       "      <td>ASEP\\nMULYANA\\n(4160)</td>\n",
       "      <td>4160</td>\n",
       "    </tr>\n",
       "    <tr>\n",
       "      <th>13</th>\n",
       "      <td>ASEP\\n(288489)</td>\n",
       "      <td>ASEP\\nSAEPUL\\n(4050)</td>\n",
       "      <td>4050</td>\n",
       "    </tr>\n",
       "    <tr>\n",
       "      <th>14</th>\n",
       "      <td>ASEP\\n(288489)</td>\n",
       "      <td>ASEP\\nSAEPULOH\\n(3891)</td>\n",
       "      <td>3891</td>\n",
       "    </tr>\n",
       "    <tr>\n",
       "      <th>20</th>\n",
       "      <td>DEDE\\n(246211)</td>\n",
       "      <td>DEDE\\nSUPRIATNA\\n(2643)</td>\n",
       "      <td>2643</td>\n",
       "    </tr>\n",
       "    <tr>\n",
       "      <th>21</th>\n",
       "      <td>DEDE\\n(246211)</td>\n",
       "      <td>DEDE\\nSULAEMAN\\n(2558)</td>\n",
       "      <td>2558</td>\n",
       "    </tr>\n",
       "    <tr>\n",
       "      <th>15</th>\n",
       "      <td>ADE\\n(256033)</td>\n",
       "      <td>ADE\\nSUPRIATNA\\n(2389)</td>\n",
       "      <td>2389</td>\n",
       "    </tr>\n",
       "    <tr>\n",
       "      <th>16</th>\n",
       "      <td>ADE\\n(256033)</td>\n",
       "      <td>ADE\\nSURYANA\\n(2365)</td>\n",
       "      <td>2365</td>\n",
       "    </tr>\n",
       "    <tr>\n",
       "      <th>17</th>\n",
       "      <td>ADE\\n(256033)</td>\n",
       "      <td>ADE\\nRAHMAT\\n(2318)</td>\n",
       "      <td>2318</td>\n",
       "    </tr>\n",
       "    <tr>\n",
       "      <th>18</th>\n",
       "      <td>ADE\\n(256033)</td>\n",
       "      <td>ADE\\nIRAWAN\\n(2216)</td>\n",
       "      <td>2216</td>\n",
       "    </tr>\n",
       "    <tr>\n",
       "      <th>22</th>\n",
       "      <td>DEDE\\n(246211)</td>\n",
       "      <td>DEDE\\nSITI\\n(2099)</td>\n",
       "      <td>2099</td>\n",
       "    </tr>\n",
       "    <tr>\n",
       "      <th>23</th>\n",
       "      <td>DEDE\\n(246211)</td>\n",
       "      <td>DEDE\\nRAHMAT\\n(1992)</td>\n",
       "      <td>1992</td>\n",
       "    </tr>\n",
       "    <tr>\n",
       "      <th>24</th>\n",
       "      <td>DEDE\\n(246211)</td>\n",
       "      <td>DEDE\\nMULYANA\\n(1940)</td>\n",
       "      <td>1940</td>\n",
       "    </tr>\n",
       "    <tr>\n",
       "      <th>19</th>\n",
       "      <td>ADE\\n(256033)</td>\n",
       "      <td>ADE\\nMULYANA\\n(1884)</td>\n",
       "      <td>1884</td>\n",
       "    </tr>\n",
       "  </tbody>\n",
       "</table>\n",
       "</div>"
      ],
      "text/plain": [
       "            target                   source   value\n",
       "0             None           SITI\\n(635073)  635073\n",
       "1             None           ASEP\\n(288489)  288489\n",
       "2             None            ADE\\n(256033)  256033\n",
       "3             None           DEDE\\n(246211)  246211\n",
       "4             None            SRI\\n(217163)  217163\n",
       "5   SITI\\n(635073)    SITI\\nAMINAH\\n(19741)   19741\n",
       "6   SITI\\n(635073)     SITI\\nAISAH\\n(19570)   19570\n",
       "7   SITI\\n(635073)    SITI\\nAISYAH\\n(15422)   15422\n",
       "8   SITI\\n(635073)  SITI\\nNURJANAH\\n(13962)   13962\n",
       "25   SRI\\n(217163)     SRI\\nRAHAYU\\n(13150)   13150\n",
       "9   SITI\\n(635073)   SITI\\nFATIMAH\\n(12755)   12755\n",
       "10  ASEP\\n(288489)  ASEP\\nSAEPUDIN\\n(11808)   11808\n",
       "26   SRI\\n(217163)    SRI\\nWAHYUNI\\n(11205)   11205\n",
       "27   SRI\\n(217163)     SRI\\nMULYANI\\n(9432)    9432\n",
       "28   SRI\\n(217163)     SRI\\nMULYATI\\n(8579)    8579\n",
       "29   SRI\\n(217163)     SRI\\nLESTARI\\n(4891)    4891\n",
       "11  ASEP\\n(288489)  ASEP\\nSUPRIATNA\\n(4691)    4691\n",
       "12  ASEP\\n(288489)    ASEP\\nMULYANA\\n(4160)    4160\n",
       "13  ASEP\\n(288489)     ASEP\\nSAEPUL\\n(4050)    4050\n",
       "14  ASEP\\n(288489)   ASEP\\nSAEPULOH\\n(3891)    3891\n",
       "20  DEDE\\n(246211)  DEDE\\nSUPRIATNA\\n(2643)    2643\n",
       "21  DEDE\\n(246211)   DEDE\\nSULAEMAN\\n(2558)    2558\n",
       "15   ADE\\n(256033)   ADE\\nSUPRIATNA\\n(2389)    2389\n",
       "16   ADE\\n(256033)     ADE\\nSURYANA\\n(2365)    2365\n",
       "17   ADE\\n(256033)      ADE\\nRAHMAT\\n(2318)    2318\n",
       "18   ADE\\n(256033)      ADE\\nIRAWAN\\n(2216)    2216\n",
       "22  DEDE\\n(246211)       DEDE\\nSITI\\n(2099)    2099\n",
       "23  DEDE\\n(246211)     DEDE\\nRAHMAT\\n(1992)    1992\n",
       "24  DEDE\\n(246211)    DEDE\\nMULYANA\\n(1940)    1940\n",
       "19   ADE\\n(256033)     ADE\\nMULYANA\\n(1884)    1884"
      ]
     },
     "execution_count": 116,
     "metadata": {},
     "output_type": "execute_result"
    }
   ],
   "source": [
    "source_first_target_df.sort_values('value',ascending=False).head(30)"
   ]
  },
  {
   "cell_type": "code",
   "execution_count": 103,
   "metadata": {},
   "outputs": [
    {
     "data": {
      "text/html": [
       "<div>\n",
       "<style scoped>\n",
       "    .dataframe tbody tr th:only-of-type {\n",
       "        vertical-align: middle;\n",
       "    }\n",
       "\n",
       "    .dataframe tbody tr th {\n",
       "        vertical-align: top;\n",
       "    }\n",
       "\n",
       "    .dataframe thead th {\n",
       "        text-align: right;\n",
       "    }\n",
       "</style>\n",
       "<table border=\"1\" class=\"dataframe\">\n",
       "  <thead>\n",
       "    <tr style=\"text-align: right;\">\n",
       "      <th></th>\n",
       "      <th>nama</th>\n",
       "      <th>unique</th>\n",
       "      <th>1stname</th>\n",
       "      <th>2ndname</th>\n",
       "      <th>3rdname</th>\n",
       "      <th>4thname</th>\n",
       "      <th>5thname</th>\n",
       "      <th>lastname1</th>\n",
       "      <th>lastname2</th>\n",
       "      <th>lastname3</th>\n",
       "      <th>lastname4</th>\n",
       "      <th>lastname5</th>\n",
       "    </tr>\n",
       "  </thead>\n",
       "  <tbody>\n",
       "    <tr>\n",
       "      <th>38</th>\n",
       "      <td>SITI AISAH</td>\n",
       "      <td>NaN</td>\n",
       "      <td>SITI</td>\n",
       "      <td>AISAH</td>\n",
       "      <td>NaN</td>\n",
       "      <td>NaN</td>\n",
       "      <td>NaN</td>\n",
       "      <td>AISAH</td>\n",
       "      <td>SITI</td>\n",
       "      <td>NaN</td>\n",
       "      <td>NaN</td>\n",
       "      <td>NaN</td>\n",
       "    </tr>\n",
       "    <tr>\n",
       "      <th>75</th>\n",
       "      <td>SITI HAJAR</td>\n",
       "      <td>NaN</td>\n",
       "      <td>SITI</td>\n",
       "      <td>HAJAR</td>\n",
       "      <td>NaN</td>\n",
       "      <td>NaN</td>\n",
       "      <td>NaN</td>\n",
       "      <td>HAJAR</td>\n",
       "      <td>SITI</td>\n",
       "      <td>NaN</td>\n",
       "      <td>NaN</td>\n",
       "      <td>NaN</td>\n",
       "    </tr>\n",
       "    <tr>\n",
       "      <th>85</th>\n",
       "      <td>SITI ZENAB</td>\n",
       "      <td>NaN</td>\n",
       "      <td>SITI</td>\n",
       "      <td>ZENAB</td>\n",
       "      <td>NaN</td>\n",
       "      <td>NaN</td>\n",
       "      <td>NaN</td>\n",
       "      <td>ZENAB</td>\n",
       "      <td>SITI</td>\n",
       "      <td>NaN</td>\n",
       "      <td>NaN</td>\n",
       "      <td>NaN</td>\n",
       "    </tr>\n",
       "    <tr>\n",
       "      <th>110</th>\n",
       "      <td>SITI NURJANAH</td>\n",
       "      <td>NaN</td>\n",
       "      <td>SITI</td>\n",
       "      <td>NURJANAH</td>\n",
       "      <td>NaN</td>\n",
       "      <td>NaN</td>\n",
       "      <td>NaN</td>\n",
       "      <td>NURJANAH</td>\n",
       "      <td>SITI</td>\n",
       "      <td>NaN</td>\n",
       "      <td>NaN</td>\n",
       "      <td>NaN</td>\n",
       "    </tr>\n",
       "    <tr>\n",
       "      <th>116</th>\n",
       "      <td>SITI NURJANAH</td>\n",
       "      <td>NaN</td>\n",
       "      <td>SITI</td>\n",
       "      <td>NURJANAH</td>\n",
       "      <td>NaN</td>\n",
       "      <td>NaN</td>\n",
       "      <td>NaN</td>\n",
       "      <td>NURJANAH</td>\n",
       "      <td>SITI</td>\n",
       "      <td>NaN</td>\n",
       "      <td>NaN</td>\n",
       "      <td>NaN</td>\n",
       "    </tr>\n",
       "    <tr>\n",
       "      <th>...</th>\n",
       "      <td>...</td>\n",
       "      <td>...</td>\n",
       "      <td>...</td>\n",
       "      <td>...</td>\n",
       "      <td>...</td>\n",
       "      <td>...</td>\n",
       "      <td>...</td>\n",
       "      <td>...</td>\n",
       "      <td>...</td>\n",
       "      <td>...</td>\n",
       "      <td>...</td>\n",
       "      <td>...</td>\n",
       "    </tr>\n",
       "    <tr>\n",
       "      <th>32049337</th>\n",
       "      <td>SITI AMINAH</td>\n",
       "      <td>NaN</td>\n",
       "      <td>SITI</td>\n",
       "      <td>AMINAH</td>\n",
       "      <td>NaN</td>\n",
       "      <td>NaN</td>\n",
       "      <td>NaN</td>\n",
       "      <td>AMINAH</td>\n",
       "      <td>SITI</td>\n",
       "      <td>NaN</td>\n",
       "      <td>NaN</td>\n",
       "      <td>NaN</td>\n",
       "    </tr>\n",
       "    <tr>\n",
       "      <th>32049532</th>\n",
       "      <td>SITI NURLAELAH</td>\n",
       "      <td>NaN</td>\n",
       "      <td>SITI</td>\n",
       "      <td>NURLAELAH</td>\n",
       "      <td>NaN</td>\n",
       "      <td>NaN</td>\n",
       "      <td>NaN</td>\n",
       "      <td>NURLAELAH</td>\n",
       "      <td>SITI</td>\n",
       "      <td>NaN</td>\n",
       "      <td>NaN</td>\n",
       "      <td>NaN</td>\n",
       "    </tr>\n",
       "    <tr>\n",
       "      <th>32049536</th>\n",
       "      <td>SITI NURMILAH</td>\n",
       "      <td>NaN</td>\n",
       "      <td>SITI</td>\n",
       "      <td>NURMILAH</td>\n",
       "      <td>NaN</td>\n",
       "      <td>NaN</td>\n",
       "      <td>NaN</td>\n",
       "      <td>NURMILAH</td>\n",
       "      <td>SITI</td>\n",
       "      <td>NaN</td>\n",
       "      <td>NaN</td>\n",
       "      <td>NaN</td>\n",
       "    </tr>\n",
       "    <tr>\n",
       "      <th>32049591</th>\n",
       "      <td>SITI HERLINA</td>\n",
       "      <td>NaN</td>\n",
       "      <td>SITI</td>\n",
       "      <td>HERLINA</td>\n",
       "      <td>NaN</td>\n",
       "      <td>NaN</td>\n",
       "      <td>NaN</td>\n",
       "      <td>HERLINA</td>\n",
       "      <td>SITI</td>\n",
       "      <td>NaN</td>\n",
       "      <td>NaN</td>\n",
       "      <td>NaN</td>\n",
       "    </tr>\n",
       "    <tr>\n",
       "      <th>32049681</th>\n",
       "      <td>SITI UCIH</td>\n",
       "      <td>NaN</td>\n",
       "      <td>SITI</td>\n",
       "      <td>UCIH</td>\n",
       "      <td>NaN</td>\n",
       "      <td>NaN</td>\n",
       "      <td>NaN</td>\n",
       "      <td>UCIH</td>\n",
       "      <td>SITI</td>\n",
       "      <td>NaN</td>\n",
       "      <td>NaN</td>\n",
       "      <td>NaN</td>\n",
       "    </tr>\n",
       "  </tbody>\n",
       "</table>\n",
       "<p>635073 rows × 12 columns</p>\n",
       "</div>"
      ],
      "text/plain": [
       "                    nama unique 1stname    2ndname 3rdname 4thname 5thname   \n",
       "38            SITI AISAH    NaN    SITI      AISAH     NaN     NaN     NaN  \\\n",
       "75            SITI HAJAR    NaN    SITI      HAJAR     NaN     NaN     NaN   \n",
       "85            SITI ZENAB    NaN    SITI      ZENAB     NaN     NaN     NaN   \n",
       "110        SITI NURJANAH    NaN    SITI   NURJANAH     NaN     NaN     NaN   \n",
       "116        SITI NURJANAH    NaN    SITI   NURJANAH     NaN     NaN     NaN   \n",
       "...                  ...    ...     ...        ...     ...     ...     ...   \n",
       "32049337     SITI AMINAH    NaN    SITI     AMINAH     NaN     NaN     NaN   \n",
       "32049532  SITI NURLAELAH    NaN    SITI  NURLAELAH     NaN     NaN     NaN   \n",
       "32049536   SITI NURMILAH    NaN    SITI   NURMILAH     NaN     NaN     NaN   \n",
       "32049591    SITI HERLINA    NaN    SITI    HERLINA     NaN     NaN     NaN   \n",
       "32049681       SITI UCIH    NaN    SITI       UCIH     NaN     NaN     NaN   \n",
       "\n",
       "          lastname1 lastname2 lastname3 lastname4 lastname5  \n",
       "38            AISAH      SITI       NaN       NaN       NaN  \n",
       "75            HAJAR      SITI       NaN       NaN       NaN  \n",
       "85            ZENAB      SITI       NaN       NaN       NaN  \n",
       "110        NURJANAH      SITI       NaN       NaN       NaN  \n",
       "116        NURJANAH      SITI       NaN       NaN       NaN  \n",
       "...             ...       ...       ...       ...       ...  \n",
       "32049337     AMINAH      SITI       NaN       NaN       NaN  \n",
       "32049532  NURLAELAH      SITI       NaN       NaN       NaN  \n",
       "32049536   NURMILAH      SITI       NaN       NaN       NaN  \n",
       "32049591    HERLINA      SITI       NaN       NaN       NaN  \n",
       "32049681       UCIH      SITI       NaN       NaN       NaN  \n",
       "\n",
       "[635073 rows x 12 columns]"
      ]
     },
     "execution_count": 103,
     "metadata": {},
     "output_type": "execute_result"
    }
   ],
   "source": [
    "names[names['1stname']=='SITI']"
   ]
  },
  {
   "cell_type": "code",
   "execution_count": 104,
   "metadata": {},
   "outputs": [
    {
     "data": {
      "text/html": [
       "<div>\n",
       "<style scoped>\n",
       "    .dataframe tbody tr th:only-of-type {\n",
       "        vertical-align: middle;\n",
       "    }\n",
       "\n",
       "    .dataframe tbody tr th {\n",
       "        vertical-align: top;\n",
       "    }\n",
       "\n",
       "    .dataframe thead th {\n",
       "        text-align: right;\n",
       "    }\n",
       "</style>\n",
       "<table border=\"1\" class=\"dataframe\">\n",
       "  <thead>\n",
       "    <tr style=\"text-align: right;\">\n",
       "      <th></th>\n",
       "      <th>nama</th>\n",
       "      <th>unique</th>\n",
       "      <th>1stname</th>\n",
       "      <th>2ndname</th>\n",
       "      <th>3rdname</th>\n",
       "      <th>4thname</th>\n",
       "      <th>5thname</th>\n",
       "      <th>lastname1</th>\n",
       "      <th>lastname2</th>\n",
       "      <th>lastname3</th>\n",
       "      <th>lastname4</th>\n",
       "      <th>lastname5</th>\n",
       "    </tr>\n",
       "  </thead>\n",
       "  <tbody>\n",
       "    <tr>\n",
       "      <th>2364</th>\n",
       "      <td>ASEP DIANA PUTRA</td>\n",
       "      <td>NaN</td>\n",
       "      <td>ASEP</td>\n",
       "      <td>DIANA</td>\n",
       "      <td>PUTRA</td>\n",
       "      <td>NaN</td>\n",
       "      <td>NaN</td>\n",
       "      <td>PUTRA</td>\n",
       "      <td>DIANA</td>\n",
       "      <td>ASEP</td>\n",
       "      <td>NaN</td>\n",
       "      <td>NaN</td>\n",
       "    </tr>\n",
       "    <tr>\n",
       "      <th>4884</th>\n",
       "      <td>JHONI EKA PUTRA</td>\n",
       "      <td>NaN</td>\n",
       "      <td>JHONI</td>\n",
       "      <td>EKA</td>\n",
       "      <td>PUTRA</td>\n",
       "      <td>NaN</td>\n",
       "      <td>NaN</td>\n",
       "      <td>PUTRA</td>\n",
       "      <td>EKA</td>\n",
       "      <td>JHONI</td>\n",
       "      <td>NaN</td>\n",
       "      <td>NaN</td>\n",
       "    </tr>\n",
       "    <tr>\n",
       "      <th>6196</th>\n",
       "      <td>M. GILANG KUSUMA PRATAMA PUTRA</td>\n",
       "      <td>NaN</td>\n",
       "      <td>GILANG</td>\n",
       "      <td>KUSUMA</td>\n",
       "      <td>PRATAMA</td>\n",
       "      <td>PUTRA</td>\n",
       "      <td>NaN</td>\n",
       "      <td>PUTRA</td>\n",
       "      <td>PRATAMA</td>\n",
       "      <td>KUSUMA</td>\n",
       "      <td>GILANG</td>\n",
       "      <td>NaN</td>\n",
       "    </tr>\n",
       "    <tr>\n",
       "      <th>6207</th>\n",
       "      <td>AWAL BAKTI SATRIA PUTRA</td>\n",
       "      <td>NaN</td>\n",
       "      <td>AWAL</td>\n",
       "      <td>BAKTI</td>\n",
       "      <td>SATRIA</td>\n",
       "      <td>PUTRA</td>\n",
       "      <td>NaN</td>\n",
       "      <td>PUTRA</td>\n",
       "      <td>SATRIA</td>\n",
       "      <td>BAKTI</td>\n",
       "      <td>AWAL</td>\n",
       "      <td>NaN</td>\n",
       "    </tr>\n",
       "    <tr>\n",
       "      <th>6719</th>\n",
       "      <td>ANGGA PRATAMA PUTRA</td>\n",
       "      <td>NaN</td>\n",
       "      <td>ANGGA</td>\n",
       "      <td>PRATAMA</td>\n",
       "      <td>PUTRA</td>\n",
       "      <td>NaN</td>\n",
       "      <td>NaN</td>\n",
       "      <td>PUTRA</td>\n",
       "      <td>PRATAMA</td>\n",
       "      <td>ANGGA</td>\n",
       "      <td>NaN</td>\n",
       "      <td>NaN</td>\n",
       "    </tr>\n",
       "    <tr>\n",
       "      <th>...</th>\n",
       "      <td>...</td>\n",
       "      <td>...</td>\n",
       "      <td>...</td>\n",
       "      <td>...</td>\n",
       "      <td>...</td>\n",
       "      <td>...</td>\n",
       "      <td>...</td>\n",
       "      <td>...</td>\n",
       "      <td>...</td>\n",
       "      <td>...</td>\n",
       "      <td>...</td>\n",
       "      <td>...</td>\n",
       "    </tr>\n",
       "    <tr>\n",
       "      <th>32042857</th>\n",
       "      <td>ALFA SABILLA SUGANDA PUTRA</td>\n",
       "      <td>NaN</td>\n",
       "      <td>ALFA</td>\n",
       "      <td>SABILLA</td>\n",
       "      <td>SUGANDA</td>\n",
       "      <td>PUTRA</td>\n",
       "      <td>NaN</td>\n",
       "      <td>PUTRA</td>\n",
       "      <td>SUGANDA</td>\n",
       "      <td>SABILLA</td>\n",
       "      <td>ALFA</td>\n",
       "      <td>NaN</td>\n",
       "    </tr>\n",
       "    <tr>\n",
       "      <th>32044456</th>\n",
       "      <td>EKI IRAWAN PUTRA</td>\n",
       "      <td>NaN</td>\n",
       "      <td>EKI</td>\n",
       "      <td>IRAWAN</td>\n",
       "      <td>PUTRA</td>\n",
       "      <td>NaN</td>\n",
       "      <td>NaN</td>\n",
       "      <td>PUTRA</td>\n",
       "      <td>IRAWAN</td>\n",
       "      <td>EKI</td>\n",
       "      <td>NaN</td>\n",
       "      <td>NaN</td>\n",
       "    </tr>\n",
       "    <tr>\n",
       "      <th>32044863</th>\n",
       "      <td>ADE PANCA PUTRA</td>\n",
       "      <td>NaN</td>\n",
       "      <td>ADE</td>\n",
       "      <td>PANCA</td>\n",
       "      <td>PUTRA</td>\n",
       "      <td>NaN</td>\n",
       "      <td>NaN</td>\n",
       "      <td>PUTRA</td>\n",
       "      <td>PANCA</td>\n",
       "      <td>ADE</td>\n",
       "      <td>NaN</td>\n",
       "      <td>NaN</td>\n",
       "    </tr>\n",
       "    <tr>\n",
       "      <th>32045603</th>\n",
       "      <td>CECEP SUHENA PUTRA</td>\n",
       "      <td>NaN</td>\n",
       "      <td>CECEP</td>\n",
       "      <td>SUHENA</td>\n",
       "      <td>PUTRA</td>\n",
       "      <td>NaN</td>\n",
       "      <td>NaN</td>\n",
       "      <td>PUTRA</td>\n",
       "      <td>SUHENA</td>\n",
       "      <td>CECEP</td>\n",
       "      <td>NaN</td>\n",
       "      <td>NaN</td>\n",
       "    </tr>\n",
       "    <tr>\n",
       "      <th>32045755</th>\n",
       "      <td>MOCH EKA PUTRA</td>\n",
       "      <td>NaN</td>\n",
       "      <td>MOCH</td>\n",
       "      <td>EKA</td>\n",
       "      <td>PUTRA</td>\n",
       "      <td>NaN</td>\n",
       "      <td>NaN</td>\n",
       "      <td>PUTRA</td>\n",
       "      <td>EKA</td>\n",
       "      <td>MOCH</td>\n",
       "      <td>NaN</td>\n",
       "      <td>NaN</td>\n",
       "    </tr>\n",
       "  </tbody>\n",
       "</table>\n",
       "<p>40223 rows × 12 columns</p>\n",
       "</div>"
      ],
      "text/plain": [
       "                                    nama unique 1stname  2ndname  3rdname   \n",
       "2364                    ASEP DIANA PUTRA    NaN    ASEP    DIANA    PUTRA  \\\n",
       "4884                     JHONI EKA PUTRA    NaN   JHONI      EKA    PUTRA   \n",
       "6196      M. GILANG KUSUMA PRATAMA PUTRA    NaN  GILANG   KUSUMA  PRATAMA   \n",
       "6207             AWAL BAKTI SATRIA PUTRA    NaN    AWAL    BAKTI   SATRIA   \n",
       "6719                 ANGGA PRATAMA PUTRA    NaN   ANGGA  PRATAMA    PUTRA   \n",
       "...                                  ...    ...     ...      ...      ...   \n",
       "32042857      ALFA SABILLA SUGANDA PUTRA    NaN    ALFA  SABILLA  SUGANDA   \n",
       "32044456                EKI IRAWAN PUTRA    NaN     EKI   IRAWAN    PUTRA   \n",
       "32044863                 ADE PANCA PUTRA    NaN     ADE    PANCA    PUTRA   \n",
       "32045603              CECEP SUHENA PUTRA    NaN   CECEP   SUHENA    PUTRA   \n",
       "32045755                  MOCH EKA PUTRA    NaN    MOCH      EKA    PUTRA   \n",
       "\n",
       "         4thname 5thname lastname1 lastname2 lastname3 lastname4 lastname5  \n",
       "2364         NaN     NaN     PUTRA     DIANA      ASEP       NaN       NaN  \n",
       "4884         NaN     NaN     PUTRA       EKA     JHONI       NaN       NaN  \n",
       "6196       PUTRA     NaN     PUTRA   PRATAMA    KUSUMA    GILANG       NaN  \n",
       "6207       PUTRA     NaN     PUTRA    SATRIA     BAKTI      AWAL       NaN  \n",
       "6719         NaN     NaN     PUTRA   PRATAMA     ANGGA       NaN       NaN  \n",
       "...          ...     ...       ...       ...       ...       ...       ...  \n",
       "32042857   PUTRA     NaN     PUTRA   SUGANDA   SABILLA      ALFA       NaN  \n",
       "32044456     NaN     NaN     PUTRA    IRAWAN       EKI       NaN       NaN  \n",
       "32044863     NaN     NaN     PUTRA     PANCA       ADE       NaN       NaN  \n",
       "32045603     NaN     NaN     PUTRA    SUHENA     CECEP       NaN       NaN  \n",
       "32045755     NaN     NaN     PUTRA       EKA      MOCH       NaN       NaN  \n",
       "\n",
       "[40223 rows x 12 columns]"
      ]
     },
     "execution_count": 104,
     "metadata": {},
     "output_type": "execute_result"
    }
   ],
   "source": [
    "names[names['lastname1']=='PUTRA']"
   ]
  },
  {
   "cell_type": "code",
   "execution_count": 121,
   "metadata": {},
   "outputs": [
    {
     "data": {
      "text/html": [
       "<div>\n",
       "<style scoped>\n",
       "    .dataframe tbody tr th:only-of-type {\n",
       "        vertical-align: middle;\n",
       "    }\n",
       "\n",
       "    .dataframe tbody tr th {\n",
       "        vertical-align: top;\n",
       "    }\n",
       "\n",
       "    .dataframe thead th {\n",
       "        text-align: right;\n",
       "    }\n",
       "</style>\n",
       "<table border=\"1\" class=\"dataframe\">\n",
       "  <thead>\n",
       "    <tr style=\"text-align: right;\">\n",
       "      <th></th>\n",
       "      <th>1stname</th>\n",
       "      <th>count</th>\n",
       "    </tr>\n",
       "  </thead>\n",
       "  <tbody>\n",
       "    <tr>\n",
       "      <th>0</th>\n",
       "      <td>SITI</td>\n",
       "      <td>635073</td>\n",
       "    </tr>\n",
       "    <tr>\n",
       "      <th>1</th>\n",
       "      <td>ASEP</td>\n",
       "      <td>288489</td>\n",
       "    </tr>\n",
       "    <tr>\n",
       "      <th>2</th>\n",
       "      <td>ADE</td>\n",
       "      <td>256033</td>\n",
       "    </tr>\n",
       "    <tr>\n",
       "      <th>3</th>\n",
       "      <td>DEDE</td>\n",
       "      <td>246211</td>\n",
       "    </tr>\n",
       "    <tr>\n",
       "      <th>4</th>\n",
       "      <td>SRI</td>\n",
       "      <td>217163</td>\n",
       "    </tr>\n",
       "    <tr>\n",
       "      <th>...</th>\n",
       "      <td>...</td>\n",
       "      <td>...</td>\n",
       "    </tr>\n",
       "    <tr>\n",
       "      <th>743037</th>\n",
       "      <td>FUNDWI</td>\n",
       "      <td>1</td>\n",
       "    </tr>\n",
       "    <tr>\n",
       "      <th>743038</th>\n",
       "      <td>NUSRULLOH</td>\n",
       "      <td>1</td>\n",
       "    </tr>\n",
       "    <tr>\n",
       "      <th>743039</th>\n",
       "      <td>FUNFUN</td>\n",
       "      <td>1</td>\n",
       "    </tr>\n",
       "    <tr>\n",
       "      <th>743040</th>\n",
       "      <td>NUSROWATI</td>\n",
       "      <td>1</td>\n",
       "    </tr>\n",
       "    <tr>\n",
       "      <th>743041</th>\n",
       "      <td>ÝAN</td>\n",
       "      <td>1</td>\n",
       "    </tr>\n",
       "  </tbody>\n",
       "</table>\n",
       "<p>743042 rows × 2 columns</p>\n",
       "</div>"
      ],
      "text/plain": [
       "          1stname   count\n",
       "0            SITI  635073\n",
       "1            ASEP  288489\n",
       "2             ADE  256033\n",
       "3            DEDE  246211\n",
       "4             SRI  217163\n",
       "...           ...     ...\n",
       "743037     FUNDWI       1\n",
       "743038  NUSRULLOH       1\n",
       "743039     FUNFUN       1\n",
       "743040  NUSROWATI       1\n",
       "743041        ÝAN       1\n",
       "\n",
       "[743042 rows x 2 columns]"
      ]
     },
     "execution_count": 121,
     "metadata": {},
     "output_type": "execute_result"
    }
   ],
   "source": [
    "fav_first_name = names.value_counts('1stname').to_frame().reset_index()\n",
    "fav_first_name"
   ]
  },
  {
   "cell_type": "code",
   "execution_count": 122,
   "metadata": {},
   "outputs": [
    {
     "data": {
      "application/vnd.plotly.v1+json": {
       "config": {
        "plotlyServerURL": "https://plot.ly"
       },
       "data": [
        {
         "alignmentgroup": "True",
         "hovertemplate": "1stname=%{x}<br>count=%{y}<extra></extra>",
         "legendgroup": "",
         "marker": {
          "color": "#636efa",
          "pattern": {
           "shape": ""
          }
         },
         "name": "",
         "offsetgroup": "",
         "orientation": "v",
         "showlegend": false,
         "textposition": "auto",
         "texttemplate": "%{y}",
         "type": "bar",
         "x": [
          "SITI",
          "ASEP",
          "ADE",
          "DEDE",
          "SRI",
          "AGUS",
          "AHMAD",
          "MUHAMAD",
          "AI",
          "ABDUL"
         ],
         "xaxis": "x",
         "y": [
          635073,
          288489,
          256033,
          246211,
          217163,
          213124,
          200691,
          189197,
          161788,
          157906
         ],
         "yaxis": "y"
        }
       ],
       "layout": {
        "barmode": "relative",
        "legend": {
         "tracegroupgap": 0
        },
        "template": {
         "data": {
          "bar": [
           {
            "error_x": {
             "color": "#2a3f5f"
            },
            "error_y": {
             "color": "#2a3f5f"
            },
            "marker": {
             "line": {
              "color": "#E5ECF6",
              "width": 0.5
             },
             "pattern": {
              "fillmode": "overlay",
              "size": 10,
              "solidity": 0.2
             }
            },
            "type": "bar"
           }
          ],
          "barpolar": [
           {
            "marker": {
             "line": {
              "color": "#E5ECF6",
              "width": 0.5
             },
             "pattern": {
              "fillmode": "overlay",
              "size": 10,
              "solidity": 0.2
             }
            },
            "type": "barpolar"
           }
          ],
          "carpet": [
           {
            "aaxis": {
             "endlinecolor": "#2a3f5f",
             "gridcolor": "white",
             "linecolor": "white",
             "minorgridcolor": "white",
             "startlinecolor": "#2a3f5f"
            },
            "baxis": {
             "endlinecolor": "#2a3f5f",
             "gridcolor": "white",
             "linecolor": "white",
             "minorgridcolor": "white",
             "startlinecolor": "#2a3f5f"
            },
            "type": "carpet"
           }
          ],
          "choropleth": [
           {
            "colorbar": {
             "outlinewidth": 0,
             "ticks": ""
            },
            "type": "choropleth"
           }
          ],
          "contour": [
           {
            "colorbar": {
             "outlinewidth": 0,
             "ticks": ""
            },
            "colorscale": [
             [
              0,
              "#0d0887"
             ],
             [
              0.1111111111111111,
              "#46039f"
             ],
             [
              0.2222222222222222,
              "#7201a8"
             ],
             [
              0.3333333333333333,
              "#9c179e"
             ],
             [
              0.4444444444444444,
              "#bd3786"
             ],
             [
              0.5555555555555556,
              "#d8576b"
             ],
             [
              0.6666666666666666,
              "#ed7953"
             ],
             [
              0.7777777777777778,
              "#fb9f3a"
             ],
             [
              0.8888888888888888,
              "#fdca26"
             ],
             [
              1,
              "#f0f921"
             ]
            ],
            "type": "contour"
           }
          ],
          "contourcarpet": [
           {
            "colorbar": {
             "outlinewidth": 0,
             "ticks": ""
            },
            "type": "contourcarpet"
           }
          ],
          "heatmap": [
           {
            "colorbar": {
             "outlinewidth": 0,
             "ticks": ""
            },
            "colorscale": [
             [
              0,
              "#0d0887"
             ],
             [
              0.1111111111111111,
              "#46039f"
             ],
             [
              0.2222222222222222,
              "#7201a8"
             ],
             [
              0.3333333333333333,
              "#9c179e"
             ],
             [
              0.4444444444444444,
              "#bd3786"
             ],
             [
              0.5555555555555556,
              "#d8576b"
             ],
             [
              0.6666666666666666,
              "#ed7953"
             ],
             [
              0.7777777777777778,
              "#fb9f3a"
             ],
             [
              0.8888888888888888,
              "#fdca26"
             ],
             [
              1,
              "#f0f921"
             ]
            ],
            "type": "heatmap"
           }
          ],
          "heatmapgl": [
           {
            "colorbar": {
             "outlinewidth": 0,
             "ticks": ""
            },
            "colorscale": [
             [
              0,
              "#0d0887"
             ],
             [
              0.1111111111111111,
              "#46039f"
             ],
             [
              0.2222222222222222,
              "#7201a8"
             ],
             [
              0.3333333333333333,
              "#9c179e"
             ],
             [
              0.4444444444444444,
              "#bd3786"
             ],
             [
              0.5555555555555556,
              "#d8576b"
             ],
             [
              0.6666666666666666,
              "#ed7953"
             ],
             [
              0.7777777777777778,
              "#fb9f3a"
             ],
             [
              0.8888888888888888,
              "#fdca26"
             ],
             [
              1,
              "#f0f921"
             ]
            ],
            "type": "heatmapgl"
           }
          ],
          "histogram": [
           {
            "marker": {
             "pattern": {
              "fillmode": "overlay",
              "size": 10,
              "solidity": 0.2
             }
            },
            "type": "histogram"
           }
          ],
          "histogram2d": [
           {
            "colorbar": {
             "outlinewidth": 0,
             "ticks": ""
            },
            "colorscale": [
             [
              0,
              "#0d0887"
             ],
             [
              0.1111111111111111,
              "#46039f"
             ],
             [
              0.2222222222222222,
              "#7201a8"
             ],
             [
              0.3333333333333333,
              "#9c179e"
             ],
             [
              0.4444444444444444,
              "#bd3786"
             ],
             [
              0.5555555555555556,
              "#d8576b"
             ],
             [
              0.6666666666666666,
              "#ed7953"
             ],
             [
              0.7777777777777778,
              "#fb9f3a"
             ],
             [
              0.8888888888888888,
              "#fdca26"
             ],
             [
              1,
              "#f0f921"
             ]
            ],
            "type": "histogram2d"
           }
          ],
          "histogram2dcontour": [
           {
            "colorbar": {
             "outlinewidth": 0,
             "ticks": ""
            },
            "colorscale": [
             [
              0,
              "#0d0887"
             ],
             [
              0.1111111111111111,
              "#46039f"
             ],
             [
              0.2222222222222222,
              "#7201a8"
             ],
             [
              0.3333333333333333,
              "#9c179e"
             ],
             [
              0.4444444444444444,
              "#bd3786"
             ],
             [
              0.5555555555555556,
              "#d8576b"
             ],
             [
              0.6666666666666666,
              "#ed7953"
             ],
             [
              0.7777777777777778,
              "#fb9f3a"
             ],
             [
              0.8888888888888888,
              "#fdca26"
             ],
             [
              1,
              "#f0f921"
             ]
            ],
            "type": "histogram2dcontour"
           }
          ],
          "mesh3d": [
           {
            "colorbar": {
             "outlinewidth": 0,
             "ticks": ""
            },
            "type": "mesh3d"
           }
          ],
          "parcoords": [
           {
            "line": {
             "colorbar": {
              "outlinewidth": 0,
              "ticks": ""
             }
            },
            "type": "parcoords"
           }
          ],
          "pie": [
           {
            "automargin": true,
            "type": "pie"
           }
          ],
          "scatter": [
           {
            "fillpattern": {
             "fillmode": "overlay",
             "size": 10,
             "solidity": 0.2
            },
            "type": "scatter"
           }
          ],
          "scatter3d": [
           {
            "line": {
             "colorbar": {
              "outlinewidth": 0,
              "ticks": ""
             }
            },
            "marker": {
             "colorbar": {
              "outlinewidth": 0,
              "ticks": ""
             }
            },
            "type": "scatter3d"
           }
          ],
          "scattercarpet": [
           {
            "marker": {
             "colorbar": {
              "outlinewidth": 0,
              "ticks": ""
             }
            },
            "type": "scattercarpet"
           }
          ],
          "scattergeo": [
           {
            "marker": {
             "colorbar": {
              "outlinewidth": 0,
              "ticks": ""
             }
            },
            "type": "scattergeo"
           }
          ],
          "scattergl": [
           {
            "marker": {
             "colorbar": {
              "outlinewidth": 0,
              "ticks": ""
             }
            },
            "type": "scattergl"
           }
          ],
          "scattermapbox": [
           {
            "marker": {
             "colorbar": {
              "outlinewidth": 0,
              "ticks": ""
             }
            },
            "type": "scattermapbox"
           }
          ],
          "scatterpolar": [
           {
            "marker": {
             "colorbar": {
              "outlinewidth": 0,
              "ticks": ""
             }
            },
            "type": "scatterpolar"
           }
          ],
          "scatterpolargl": [
           {
            "marker": {
             "colorbar": {
              "outlinewidth": 0,
              "ticks": ""
             }
            },
            "type": "scatterpolargl"
           }
          ],
          "scatterternary": [
           {
            "marker": {
             "colorbar": {
              "outlinewidth": 0,
              "ticks": ""
             }
            },
            "type": "scatterternary"
           }
          ],
          "surface": [
           {
            "colorbar": {
             "outlinewidth": 0,
             "ticks": ""
            },
            "colorscale": [
             [
              0,
              "#0d0887"
             ],
             [
              0.1111111111111111,
              "#46039f"
             ],
             [
              0.2222222222222222,
              "#7201a8"
             ],
             [
              0.3333333333333333,
              "#9c179e"
             ],
             [
              0.4444444444444444,
              "#bd3786"
             ],
             [
              0.5555555555555556,
              "#d8576b"
             ],
             [
              0.6666666666666666,
              "#ed7953"
             ],
             [
              0.7777777777777778,
              "#fb9f3a"
             ],
             [
              0.8888888888888888,
              "#fdca26"
             ],
             [
              1,
              "#f0f921"
             ]
            ],
            "type": "surface"
           }
          ],
          "table": [
           {
            "cells": {
             "fill": {
              "color": "#EBF0F8"
             },
             "line": {
              "color": "white"
             }
            },
            "header": {
             "fill": {
              "color": "#C8D4E3"
             },
             "line": {
              "color": "white"
             }
            },
            "type": "table"
           }
          ]
         },
         "layout": {
          "annotationdefaults": {
           "arrowcolor": "#2a3f5f",
           "arrowhead": 0,
           "arrowwidth": 1
          },
          "autotypenumbers": "strict",
          "coloraxis": {
           "colorbar": {
            "outlinewidth": 0,
            "ticks": ""
           }
          },
          "colorscale": {
           "diverging": [
            [
             0,
             "#8e0152"
            ],
            [
             0.1,
             "#c51b7d"
            ],
            [
             0.2,
             "#de77ae"
            ],
            [
             0.3,
             "#f1b6da"
            ],
            [
             0.4,
             "#fde0ef"
            ],
            [
             0.5,
             "#f7f7f7"
            ],
            [
             0.6,
             "#e6f5d0"
            ],
            [
             0.7,
             "#b8e186"
            ],
            [
             0.8,
             "#7fbc41"
            ],
            [
             0.9,
             "#4d9221"
            ],
            [
             1,
             "#276419"
            ]
           ],
           "sequential": [
            [
             0,
             "#0d0887"
            ],
            [
             0.1111111111111111,
             "#46039f"
            ],
            [
             0.2222222222222222,
             "#7201a8"
            ],
            [
             0.3333333333333333,
             "#9c179e"
            ],
            [
             0.4444444444444444,
             "#bd3786"
            ],
            [
             0.5555555555555556,
             "#d8576b"
            ],
            [
             0.6666666666666666,
             "#ed7953"
            ],
            [
             0.7777777777777778,
             "#fb9f3a"
            ],
            [
             0.8888888888888888,
             "#fdca26"
            ],
            [
             1,
             "#f0f921"
            ]
           ],
           "sequentialminus": [
            [
             0,
             "#0d0887"
            ],
            [
             0.1111111111111111,
             "#46039f"
            ],
            [
             0.2222222222222222,
             "#7201a8"
            ],
            [
             0.3333333333333333,
             "#9c179e"
            ],
            [
             0.4444444444444444,
             "#bd3786"
            ],
            [
             0.5555555555555556,
             "#d8576b"
            ],
            [
             0.6666666666666666,
             "#ed7953"
            ],
            [
             0.7777777777777778,
             "#fb9f3a"
            ],
            [
             0.8888888888888888,
             "#fdca26"
            ],
            [
             1,
             "#f0f921"
            ]
           ]
          },
          "colorway": [
           "#636efa",
           "#EF553B",
           "#00cc96",
           "#ab63fa",
           "#FFA15A",
           "#19d3f3",
           "#FF6692",
           "#B6E880",
           "#FF97FF",
           "#FECB52"
          ],
          "font": {
           "color": "#2a3f5f"
          },
          "geo": {
           "bgcolor": "white",
           "lakecolor": "white",
           "landcolor": "#E5ECF6",
           "showlakes": true,
           "showland": true,
           "subunitcolor": "white"
          },
          "hoverlabel": {
           "align": "left"
          },
          "hovermode": "closest",
          "mapbox": {
           "style": "light"
          },
          "paper_bgcolor": "white",
          "plot_bgcolor": "#E5ECF6",
          "polar": {
           "angularaxis": {
            "gridcolor": "white",
            "linecolor": "white",
            "ticks": ""
           },
           "bgcolor": "#E5ECF6",
           "radialaxis": {
            "gridcolor": "white",
            "linecolor": "white",
            "ticks": ""
           }
          },
          "scene": {
           "xaxis": {
            "backgroundcolor": "#E5ECF6",
            "gridcolor": "white",
            "gridwidth": 2,
            "linecolor": "white",
            "showbackground": true,
            "ticks": "",
            "zerolinecolor": "white"
           },
           "yaxis": {
            "backgroundcolor": "#E5ECF6",
            "gridcolor": "white",
            "gridwidth": 2,
            "linecolor": "white",
            "showbackground": true,
            "ticks": "",
            "zerolinecolor": "white"
           },
           "zaxis": {
            "backgroundcolor": "#E5ECF6",
            "gridcolor": "white",
            "gridwidth": 2,
            "linecolor": "white",
            "showbackground": true,
            "ticks": "",
            "zerolinecolor": "white"
           }
          },
          "shapedefaults": {
           "line": {
            "color": "#2a3f5f"
           }
          },
          "ternary": {
           "aaxis": {
            "gridcolor": "white",
            "linecolor": "white",
            "ticks": ""
           },
           "baxis": {
            "gridcolor": "white",
            "linecolor": "white",
            "ticks": ""
           },
           "bgcolor": "#E5ECF6",
           "caxis": {
            "gridcolor": "white",
            "linecolor": "white",
            "ticks": ""
           }
          },
          "title": {
           "x": 0.05
          },
          "xaxis": {
           "automargin": true,
           "gridcolor": "white",
           "linecolor": "white",
           "ticks": "",
           "title": {
            "standoff": 15
           },
           "zerolinecolor": "white",
           "zerolinewidth": 2
          },
          "yaxis": {
           "automargin": true,
           "gridcolor": "white",
           "linecolor": "white",
           "ticks": "",
           "title": {
            "standoff": 15
           },
           "zerolinecolor": "white",
           "zerolinewidth": 2
          }
         }
        },
        "title": {
         "text": "Nama Depan Pasaran"
        },
        "xaxis": {
         "anchor": "y",
         "domain": [
          0,
          1
         ],
         "title": {
          "text": "1stname"
         }
        },
        "yaxis": {
         "anchor": "x",
         "domain": [
          0,
          1
         ],
         "title": {
          "text": "count"
         }
        }
       }
      }
     },
     "metadata": {},
     "output_type": "display_data"
    }
   ],
   "source": [
    "import plotly.express as px\n",
    "fig = px.bar(fav_first_name.head(10), x='1stname', y='count',text_auto=True, title='Nama Depan Pasaran')\n",
    "fig.show()"
   ]
  },
  {
   "cell_type": "code",
   "execution_count": null,
   "metadata": {},
   "outputs": [],
   "source": []
  }
 ],
 "metadata": {
  "kernelspec": {
   "display_name": "Python 3",
   "language": "python",
   "name": "python3"
  },
  "language_info": {
   "codemirror_mode": {
    "name": "ipython",
    "version": 3
   },
   "file_extension": ".py",
   "mimetype": "text/x-python",
   "name": "python",
   "nbconvert_exporter": "python",
   "pygments_lexer": "ipython3",
   "version": "3.11.0"
  },
  "orig_nbformat": 4
 },
 "nbformat": 4,
 "nbformat_minor": 2
}
